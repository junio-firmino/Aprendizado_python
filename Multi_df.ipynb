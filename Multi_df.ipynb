{
  "nbformat": 4,
  "nbformat_minor": 0,
  "metadata": {
    "colab": {
      "name": "Multi_df.ipynb",
      "provenance": [],
      "mount_file_id": "1QbWYMaYeWEQP30Pl9fMg0eVLj6YdTMQ0",
      "authorship_tag": "ABX9TyNCRq5VPgOtguvTb8AAGzFB",
      "include_colab_link": true
    },
    "kernelspec": {
      "name": "python3",
      "display_name": "Python 3"
    },
    "language_info": {
      "name": "python"
    }
  },
  "cells": [
    {
      "cell_type": "markdown",
      "metadata": {
        "id": "view-in-github",
        "colab_type": "text"
      },
      "source": [
        "<a href=\"https://colab.research.google.com/github/junio-firmino/Aprendizado_python/blob/master/Multi_df.ipynb\" target=\"_parent\"><img src=\"https://colab.research.google.com/assets/colab-badge.svg\" alt=\"Open In Colab\"/></a>"
      ]
    },
    {
      "cell_type": "code",
      "metadata": {
        "id": "zyLKC7UkGWvm"
      },
      "source": [
        "import pandas as pd\n",
        "\n"
      ],
      "execution_count": 7,
      "outputs": []
    },
    {
      "cell_type": "code",
      "metadata": {
        "id": "KhFy9x9EIJHB"
      },
      "source": [
        "eng_url = \"/content/drive/MyDrive/eng.csv\"\n",
        "state_url = \"/content/drive/MyDrive/state.csv\"\n",
        "liberal_url= \"/content/drive/MyDrive/liberal_arts.csv\"\n",
        "ivies_url = \"/content/drive/MyDrive/ivies.csv\"\n"
      ],
      "execution_count": 8,
      "outputs": []
    },
    {
      "cell_type": "code",
      "metadata": {
        "id": "wBD6YPZqI_hJ"
      },
      "source": [
        "eng = pd.read_csv(eng_url)"
      ],
      "execution_count": 17,
      "outputs": []
    },
    {
      "cell_type": "code",
      "metadata": {
        "id": "uveGDlyBJkLe"
      },
      "source": [
        "state = pd.read_csv(state_url)"
      ],
      "execution_count": 19,
      "outputs": []
    },
    {
      "cell_type": "code",
      "metadata": {
        "id": "9Hsym6DoJkg6"
      },
      "source": [
        "liberal = pd.read_csv(liberal_url)"
      ],
      "execution_count": 21,
      "outputs": []
    },
    {
      "cell_type": "code",
      "metadata": {
        "id": "AONhriwjJWiL"
      },
      "source": [
        "ivies = pd.read_csv(ivies_url)\n"
      ],
      "execution_count": 25,
      "outputs": []
    },
    {
      "cell_type": "code",
      "metadata": {
        "id": "HFhNMUkvK0PP"
      },
      "source": [
        "dfs = [eng,state,liberal,ivies]\n"
      ],
      "execution_count": 14,
      "outputs": []
    },
    {
      "cell_type": "code",
      "metadata": {
        "colab": {
          "base_uri": "https://localhost:8080/",
          "height": 419
        },
        "id": "rEm4Ll18LpeP",
        "outputId": "32983d0d-310b-47e7-f3cf-cb1c877d8e41"
      },
      "source": [
        "pd.concat(dfs)"
      ],
      "execution_count": 24,
      "outputs": [
        {
          "output_type": "execute_result",
          "data": {
            "text/html": [
              "<div>\n",
              "<style scoped>\n",
              "    .dataframe tbody tr th:only-of-type {\n",
              "        vertical-align: middle;\n",
              "    }\n",
              "\n",
              "    .dataframe tbody tr th {\n",
              "        vertical-align: top;\n",
              "    }\n",
              "\n",
              "    .dataframe thead th {\n",
              "        text-align: right;\n",
              "    }\n",
              "</style>\n",
              "<table border=\"1\" class=\"dataframe\">\n",
              "  <thead>\n",
              "    <tr style=\"text-align: right;\">\n",
              "      <th></th>\n",
              "      <th>School Name</th>\n",
              "      <th>School Type</th>\n",
              "      <th>Starting Median Salary</th>\n",
              "      <th>Mid-Career Median Salary</th>\n",
              "    </tr>\n",
              "  </thead>\n",
              "  <tbody>\n",
              "    <tr>\n",
              "      <th>0</th>\n",
              "      <td>Massachusetts Institute of Technology (MIT)</td>\n",
              "      <td>Engineering</td>\n",
              "      <td>$72,200.00</td>\n",
              "      <td>$126,000.00</td>\n",
              "    </tr>\n",
              "    <tr>\n",
              "      <th>1</th>\n",
              "      <td>California Institute of Technology (CIT)</td>\n",
              "      <td>Engineering</td>\n",
              "      <td>$75,500.00</td>\n",
              "      <td>$123,000.00</td>\n",
              "    </tr>\n",
              "    <tr>\n",
              "      <th>2</th>\n",
              "      <td>Harvey Mudd College</td>\n",
              "      <td>Engineering</td>\n",
              "      <td>$71,800.00</td>\n",
              "      <td>$122,000.00</td>\n",
              "    </tr>\n",
              "    <tr>\n",
              "      <th>3</th>\n",
              "      <td>Polytechnic University of New York, Brooklyn</td>\n",
              "      <td>Engineering</td>\n",
              "      <td>$62,400.00</td>\n",
              "      <td>$114,000.00</td>\n",
              "    </tr>\n",
              "    <tr>\n",
              "      <th>4</th>\n",
              "      <td>Cooper Union</td>\n",
              "      <td>Engineering</td>\n",
              "      <td>$62,200.00</td>\n",
              "      <td>$114,000.00</td>\n",
              "    </tr>\n",
              "    <tr>\n",
              "      <th>...</th>\n",
              "      <td>...</td>\n",
              "      <td>...</td>\n",
              "      <td>...</td>\n",
              "      <td>...</td>\n",
              "    </tr>\n",
              "    <tr>\n",
              "      <th>3</th>\n",
              "      <td>Harvard University</td>\n",
              "      <td>Ivy League</td>\n",
              "      <td>$63,400.00</td>\n",
              "      <td>$124,000.00</td>\n",
              "    </tr>\n",
              "    <tr>\n",
              "      <th>4</th>\n",
              "      <td>University of Pennsylvania</td>\n",
              "      <td>Ivy League</td>\n",
              "      <td>$60,900.00</td>\n",
              "      <td>$120,000.00</td>\n",
              "    </tr>\n",
              "    <tr>\n",
              "      <th>5</th>\n",
              "      <td>Cornell University</td>\n",
              "      <td>Ivy League</td>\n",
              "      <td>$60,300.00</td>\n",
              "      <td>$110,000.00</td>\n",
              "    </tr>\n",
              "    <tr>\n",
              "      <th>6</th>\n",
              "      <td>Brown University</td>\n",
              "      <td>Ivy League</td>\n",
              "      <td>$56,200.00</td>\n",
              "      <td>$109,000.00</td>\n",
              "    </tr>\n",
              "    <tr>\n",
              "      <th>7</th>\n",
              "      <td>Columbia University</td>\n",
              "      <td>Ivy League</td>\n",
              "      <td>$59,400.00</td>\n",
              "      <td>$107,000.00</td>\n",
              "    </tr>\n",
              "  </tbody>\n",
              "</table>\n",
              "<p>249 rows × 4 columns</p>\n",
              "</div>"
            ],
            "text/plain": [
              "                                     School Name  ... Mid-Career Median Salary\n",
              "0    Massachusetts Institute of Technology (MIT)  ...             $126,000.00 \n",
              "1       California Institute of Technology (CIT)  ...             $123,000.00 \n",
              "2                            Harvey Mudd College  ...             $122,000.00 \n",
              "3   Polytechnic University of New York, Brooklyn  ...             $114,000.00 \n",
              "4                                   Cooper Union  ...             $114,000.00 \n",
              "..                                           ...  ...                      ...\n",
              "3                             Harvard University  ...             $124,000.00 \n",
              "4                     University of Pennsylvania  ...             $120,000.00 \n",
              "5                             Cornell University  ...             $110,000.00 \n",
              "6                               Brown University  ...             $109,000.00 \n",
              "7                            Columbia University  ...             $107,000.00 \n",
              "\n",
              "[249 rows x 4 columns]"
            ]
          },
          "metadata": {
            "tags": []
          },
          "execution_count": 24
        }
      ]
    },
    {
      "cell_type": "code",
      "metadata": {
        "colab": {
          "base_uri": "https://localhost:8080/"
        },
        "id": "vPU5CprDMB7u",
        "outputId": "0bf31e99-6a64-4ef9-c293-69c8691c5620"
      },
      "source": [
        "set(eng['School Name']).difference(state['School Name'])"
      ],
      "execution_count": 31,
      "outputs": [
        {
          "output_type": "execute_result",
          "data": {
            "text/plain": [
              "{'California Institute of Technology (CIT)',\n",
              " 'Carnegie Mellon University (CMU)',\n",
              " 'Colorado School of Mines',\n",
              " 'Cooper Union',\n",
              " 'Embry-Riddle Aeronautical University (ERAU)',\n",
              " 'Georgia Institute of Technology',\n",
              " 'Harvey Mudd College',\n",
              " 'Illinois Institute of Technology (IIT)',\n",
              " 'Massachusetts Institute of Technology (MIT)',\n",
              " 'New Mexico Institute of Mining and Technology (New Mexico Tech)',\n",
              " 'Polytechnic University of New York, Brooklyn',\n",
              " 'Rensselaer Polytechnic Institute (RPI)',\n",
              " 'Rochester Institute of Technology (RIT)',\n",
              " 'South Dakota School of Mines & Technology',\n",
              " 'Stevens Institute of Technology',\n",
              " 'Tennessee Technological University',\n",
              " 'Virginia Polytechnic Institute and State University (Virginia Tech)',\n",
              " 'Wentworth Institute of Technology',\n",
              " 'Worcester Polytechnic Institute (WPI)'}"
            ]
          },
          "metadata": {
            "tags": []
          },
          "execution_count": 31
        }
      ]
    },
    {
      "cell_type": "code",
      "metadata": {
        "colab": {
          "base_uri": "https://localhost:8080/"
        },
        "id": "icIDTK-JNOY_",
        "outputId": "b0a54e20-bb21-42e5-df1e-810cc672e703"
      },
      "source": [
        "'Cooper Union' in ivies['School Name'].values"
      ],
      "execution_count": 35,
      "outputs": [
        {
          "output_type": "execute_result",
          "data": {
            "text/plain": [
              "False"
            ]
          },
          "metadata": {
            "tags": []
          },
          "execution_count": 35
        }
      ]
    },
    {
      "cell_type": "code",
      "metadata": {
        "id": "XurytAY6Ns7h"
      },
      "source": [
        ""
      ],
      "execution_count": null,
      "outputs": []
    }
  ]
}