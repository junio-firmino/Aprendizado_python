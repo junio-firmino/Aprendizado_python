{
  "nbformat": 4,
  "nbformat_minor": 0,
  "metadata": {
    "colab": {
      "name": "Multi_df.ipynb",
      "provenance": [],
      "mount_file_id": "1QbWYMaYeWEQP30Pl9fMg0eVLj6YdTMQ0",
      "authorship_tag": "ABX9TyMyuSTEXgTn3cHZa7qQdoQk",
      "include_colab_link": true
    },
    "kernelspec": {
      "name": "python3",
      "display_name": "Python 3"
    },
    "language_info": {
      "name": "python"
    }
  },
  "cells": [
    {
      "cell_type": "markdown",
      "metadata": {
        "id": "view-in-github",
        "colab_type": "text"
      },
      "source": [
        "<a href=\"https://colab.research.google.com/github/junio-firmino/Aprendizado_python/blob/master/Multi_df.ipynb\" target=\"_parent\"><img src=\"https://colab.research.google.com/assets/colab-badge.svg\" alt=\"Open In Colab\"/></a>"
      ]
    },
    {
      "cell_type": "code",
      "metadata": {
        "id": "zyLKC7UkGWvm"
      },
      "source": [
        "import pandas as pd\n",
        "\n"
      ],
      "execution_count": 1,
      "outputs": []
    },
    {
      "cell_type": "code",
      "metadata": {
        "id": "KhFy9x9EIJHB"
      },
      "source": [
        "eng_url = \"/content/drive/MyDrive/eng.csv\"\n",
        "state_url = \"/content/drive/MyDrive/state.csv\"\n",
        "liberal_url= \"/content/drive/MyDrive/liberal_arts.csv\"\n",
        "ivies_url = \"/content/drive/MyDrive/ivies.csv\"\n"
      ],
      "execution_count": 2,
      "outputs": []
    },
    {
      "cell_type": "code",
      "metadata": {
        "id": "wBD6YPZqI_hJ"
      },
      "source": [
        "eng = pd.read_csv(eng_url)"
      ],
      "execution_count": 3,
      "outputs": []
    },
    {
      "cell_type": "code",
      "metadata": {
        "id": "uveGDlyBJkLe"
      },
      "source": [
        "state = pd.read_csv(state_url)"
      ],
      "execution_count": 4,
      "outputs": []
    },
    {
      "cell_type": "code",
      "metadata": {
        "id": "9Hsym6DoJkg6"
      },
      "source": [
        "liberal = pd.read_csv(liberal_url)"
      ],
      "execution_count": 5,
      "outputs": []
    },
    {
      "cell_type": "code",
      "metadata": {
        "id": "AONhriwjJWiL"
      },
      "source": [
        "ivies = pd.read_csv(ivies_url)\n"
      ],
      "execution_count": 6,
      "outputs": []
    },
    {
      "cell_type": "code",
      "metadata": {
        "id": "HFhNMUkvK0PP"
      },
      "source": [
        "dfs = [eng,state,liberal,ivies]\n"
      ],
      "execution_count": 7,
      "outputs": []
    },
    {
      "cell_type": "code",
      "metadata": {
        "colab": {
          "base_uri": "https://localhost:8080/",
          "height": 419
        },
        "id": "rEm4Ll18LpeP",
        "outputId": "4c9a914a-b1af-485b-98a1-927bd4932a23"
      },
      "source": [
        "pd.concat(dfs)"
      ],
      "execution_count": 8,
      "outputs": [
        {
          "output_type": "execute_result",
          "data": {
            "text/html": [
              "<div>\n",
              "<style scoped>\n",
              "    .dataframe tbody tr th:only-of-type {\n",
              "        vertical-align: middle;\n",
              "    }\n",
              "\n",
              "    .dataframe tbody tr th {\n",
              "        vertical-align: top;\n",
              "    }\n",
              "\n",
              "    .dataframe thead th {\n",
              "        text-align: right;\n",
              "    }\n",
              "</style>\n",
              "<table border=\"1\" class=\"dataframe\">\n",
              "  <thead>\n",
              "    <tr style=\"text-align: right;\">\n",
              "      <th></th>\n",
              "      <th>School Name</th>\n",
              "      <th>School Type</th>\n",
              "      <th>Starting Median Salary</th>\n",
              "      <th>Mid-Career Median Salary</th>\n",
              "    </tr>\n",
              "  </thead>\n",
              "  <tbody>\n",
              "    <tr>\n",
              "      <th>0</th>\n",
              "      <td>Massachusetts Institute of Technology (MIT)</td>\n",
              "      <td>Engineering</td>\n",
              "      <td>$72,200.00</td>\n",
              "      <td>$126,000.00</td>\n",
              "    </tr>\n",
              "    <tr>\n",
              "      <th>1</th>\n",
              "      <td>California Institute of Technology (CIT)</td>\n",
              "      <td>Engineering</td>\n",
              "      <td>$75,500.00</td>\n",
              "      <td>$123,000.00</td>\n",
              "    </tr>\n",
              "    <tr>\n",
              "      <th>2</th>\n",
              "      <td>Harvey Mudd College</td>\n",
              "      <td>Engineering</td>\n",
              "      <td>$71,800.00</td>\n",
              "      <td>$122,000.00</td>\n",
              "    </tr>\n",
              "    <tr>\n",
              "      <th>3</th>\n",
              "      <td>Polytechnic University of New York, Brooklyn</td>\n",
              "      <td>Engineering</td>\n",
              "      <td>$62,400.00</td>\n",
              "      <td>$114,000.00</td>\n",
              "    </tr>\n",
              "    <tr>\n",
              "      <th>4</th>\n",
              "      <td>Cooper Union</td>\n",
              "      <td>Engineering</td>\n",
              "      <td>$62,200.00</td>\n",
              "      <td>$114,000.00</td>\n",
              "    </tr>\n",
              "    <tr>\n",
              "      <th>...</th>\n",
              "      <td>...</td>\n",
              "      <td>...</td>\n",
              "      <td>...</td>\n",
              "      <td>...</td>\n",
              "    </tr>\n",
              "    <tr>\n",
              "      <th>3</th>\n",
              "      <td>Harvard University</td>\n",
              "      <td>Ivy League</td>\n",
              "      <td>$63,400.00</td>\n",
              "      <td>$124,000.00</td>\n",
              "    </tr>\n",
              "    <tr>\n",
              "      <th>4</th>\n",
              "      <td>University of Pennsylvania</td>\n",
              "      <td>Ivy League</td>\n",
              "      <td>$60,900.00</td>\n",
              "      <td>$120,000.00</td>\n",
              "    </tr>\n",
              "    <tr>\n",
              "      <th>5</th>\n",
              "      <td>Cornell University</td>\n",
              "      <td>Ivy League</td>\n",
              "      <td>$60,300.00</td>\n",
              "      <td>$110,000.00</td>\n",
              "    </tr>\n",
              "    <tr>\n",
              "      <th>6</th>\n",
              "      <td>Brown University</td>\n",
              "      <td>Ivy League</td>\n",
              "      <td>$56,200.00</td>\n",
              "      <td>$109,000.00</td>\n",
              "    </tr>\n",
              "    <tr>\n",
              "      <th>7</th>\n",
              "      <td>Columbia University</td>\n",
              "      <td>Ivy League</td>\n",
              "      <td>$59,400.00</td>\n",
              "      <td>$107,000.00</td>\n",
              "    </tr>\n",
              "  </tbody>\n",
              "</table>\n",
              "<p>249 rows × 4 columns</p>\n",
              "</div>"
            ],
            "text/plain": [
              "                                     School Name  ... Mid-Career Median Salary\n",
              "0    Massachusetts Institute of Technology (MIT)  ...             $126,000.00 \n",
              "1       California Institute of Technology (CIT)  ...             $123,000.00 \n",
              "2                            Harvey Mudd College  ...             $122,000.00 \n",
              "3   Polytechnic University of New York, Brooklyn  ...             $114,000.00 \n",
              "4                                   Cooper Union  ...             $114,000.00 \n",
              "..                                           ...  ...                      ...\n",
              "3                             Harvard University  ...             $124,000.00 \n",
              "4                     University of Pennsylvania  ...             $120,000.00 \n",
              "5                             Cornell University  ...             $110,000.00 \n",
              "6                               Brown University  ...             $109,000.00 \n",
              "7                            Columbia University  ...             $107,000.00 \n",
              "\n",
              "[249 rows x 4 columns]"
            ]
          },
          "metadata": {
            "tags": []
          },
          "execution_count": 8
        }
      ]
    },
    {
      "cell_type": "code",
      "metadata": {
        "colab": {
          "base_uri": "https://localhost:8080/"
        },
        "id": "vPU5CprDMB7u",
        "outputId": "fc94aa69-6b73-43c5-c837-da75042655d3"
      },
      "source": [
        "set(eng['School Name']).difference(state['School Name'])"
      ],
      "execution_count": 9,
      "outputs": [
        {
          "output_type": "execute_result",
          "data": {
            "text/plain": [
              "{'California Institute of Technology (CIT)',\n",
              " 'Carnegie Mellon University (CMU)',\n",
              " 'Colorado School of Mines',\n",
              " 'Cooper Union',\n",
              " 'Embry-Riddle Aeronautical University (ERAU)',\n",
              " 'Georgia Institute of Technology',\n",
              " 'Harvey Mudd College',\n",
              " 'Illinois Institute of Technology (IIT)',\n",
              " 'Massachusetts Institute of Technology (MIT)',\n",
              " 'New Mexico Institute of Mining and Technology (New Mexico Tech)',\n",
              " 'Polytechnic University of New York, Brooklyn',\n",
              " 'Rensselaer Polytechnic Institute (RPI)',\n",
              " 'Rochester Institute of Technology (RIT)',\n",
              " 'South Dakota School of Mines & Technology',\n",
              " 'Stevens Institute of Technology',\n",
              " 'Tennessee Technological University',\n",
              " 'Virginia Polytechnic Institute and State University (Virginia Tech)',\n",
              " 'Wentworth Institute of Technology',\n",
              " 'Worcester Polytechnic Institute (WPI)'}"
            ]
          },
          "metadata": {
            "tags": []
          },
          "execution_count": 9
        }
      ]
    },
    {
      "cell_type": "code",
      "metadata": {
        "colab": {
          "base_uri": "https://localhost:8080/"
        },
        "id": "icIDTK-JNOY_",
        "outputId": "6bf5ac94-e48e-4289-e0cd-a76a381251fe"
      },
      "source": [
        "'Cooper Union' in ivies['School Name'].values"
      ],
      "execution_count": 10,
      "outputs": [
        {
          "output_type": "execute_result",
          "data": {
            "text/plain": [
              "False"
            ]
          },
          "metadata": {
            "tags": []
          },
          "execution_count": 10
        }
      ]
    },
    {
      "cell_type": "code",
      "metadata": {
        "id": "XurytAY6Ns7h"
      },
      "source": [
        "schools = pd.concat(dfs).drop_duplicates(subset=['School Name'], keep='first')"
      ],
      "execution_count": 11,
      "outputs": []
    },
    {
      "cell_type": "code",
      "metadata": {
        "colab": {
          "base_uri": "https://localhost:8080/",
          "height": 111
        },
        "id": "rows3Jw1O3os",
        "outputId": "4f742ed1-5f40-4071-b66d-daf82bc0ccd4"
      },
      "source": [
        "schools.loc[19]"
      ],
      "execution_count": 12,
      "outputs": [
        {
          "output_type": "execute_result",
          "data": {
            "text/html": [
              "<div>\n",
              "<style scoped>\n",
              "    .dataframe tbody tr th:only-of-type {\n",
              "        vertical-align: middle;\n",
              "    }\n",
              "\n",
              "    .dataframe tbody tr th {\n",
              "        vertical-align: top;\n",
              "    }\n",
              "\n",
              "    .dataframe thead th {\n",
              "        text-align: right;\n",
              "    }\n",
              "</style>\n",
              "<table border=\"1\" class=\"dataframe\">\n",
              "  <thead>\n",
              "    <tr style=\"text-align: right;\">\n",
              "      <th></th>\n",
              "      <th>School Name</th>\n",
              "      <th>School Type</th>\n",
              "      <th>Starting Median Salary</th>\n",
              "      <th>Mid-Career Median Salary</th>\n",
              "    </tr>\n",
              "  </thead>\n",
              "  <tbody>\n",
              "    <tr>\n",
              "      <th>19</th>\n",
              "      <td>Rutgers University</td>\n",
              "      <td>State</td>\n",
              "      <td>$50,300.00</td>\n",
              "      <td>$91,800.00</td>\n",
              "    </tr>\n",
              "    <tr>\n",
              "      <th>19</th>\n",
              "      <td>Mount Holyoke College</td>\n",
              "      <td>Liberal Arts</td>\n",
              "      <td>$42,400.00</td>\n",
              "      <td>$94,100.00</td>\n",
              "    </tr>\n",
              "  </tbody>\n",
              "</table>\n",
              "</div>"
            ],
            "text/plain": [
              "              School Name  ... Mid-Career Median Salary\n",
              "19     Rutgers University  ...              $91,800.00 \n",
              "19  Mount Holyoke College  ...              $94,100.00 \n",
              "\n",
              "[2 rows x 4 columns]"
            ]
          },
          "metadata": {
            "tags": []
          },
          "execution_count": 12
        }
      ]
    },
    {
      "cell_type": "code",
      "metadata": {
        "id": "4nGpNixRRRFe"
      },
      "source": [
        "schools_1 = schools.reset_index(drop=True)"
      ],
      "execution_count": 13,
      "outputs": []
    },
    {
      "cell_type": "code",
      "metadata": {
        "colab": {
          "base_uri": "https://localhost:8080/"
        },
        "id": "FUZNPZRJScOS",
        "outputId": "9ffc3297-5801-48ed-aeb2-cf56de7b7271"
      },
      "source": [
        "schools_1.duplicated().sum()"
      ],
      "execution_count": 14,
      "outputs": [
        {
          "output_type": "execute_result",
          "data": {
            "text/plain": [
              "0"
            ]
          },
          "metadata": {
            "tags": []
          },
          "execution_count": 14
        }
      ]
    },
    {
      "cell_type": "code",
      "metadata": {
        "colab": {
          "base_uri": "https://localhost:8080/",
          "height": 419
        },
        "id": "JTHfSoKoTVRi",
        "outputId": "236aafe2-2d27-4cfd-a911-73fe016ff1c3"
      },
      "source": [
        "schools_1"
      ],
      "execution_count": 15,
      "outputs": [
        {
          "output_type": "execute_result",
          "data": {
            "text/html": [
              "<div>\n",
              "<style scoped>\n",
              "    .dataframe tbody tr th:only-of-type {\n",
              "        vertical-align: middle;\n",
              "    }\n",
              "\n",
              "    .dataframe tbody tr th {\n",
              "        vertical-align: top;\n",
              "    }\n",
              "\n",
              "    .dataframe thead th {\n",
              "        text-align: right;\n",
              "    }\n",
              "</style>\n",
              "<table border=\"1\" class=\"dataframe\">\n",
              "  <thead>\n",
              "    <tr style=\"text-align: right;\">\n",
              "      <th></th>\n",
              "      <th>School Name</th>\n",
              "      <th>School Type</th>\n",
              "      <th>Starting Median Salary</th>\n",
              "      <th>Mid-Career Median Salary</th>\n",
              "    </tr>\n",
              "  </thead>\n",
              "  <tbody>\n",
              "    <tr>\n",
              "      <th>0</th>\n",
              "      <td>Massachusetts Institute of Technology (MIT)</td>\n",
              "      <td>Engineering</td>\n",
              "      <td>$72,200.00</td>\n",
              "      <td>$126,000.00</td>\n",
              "    </tr>\n",
              "    <tr>\n",
              "      <th>1</th>\n",
              "      <td>California Institute of Technology (CIT)</td>\n",
              "      <td>Engineering</td>\n",
              "      <td>$75,500.00</td>\n",
              "      <td>$123,000.00</td>\n",
              "    </tr>\n",
              "    <tr>\n",
              "      <th>2</th>\n",
              "      <td>Harvey Mudd College</td>\n",
              "      <td>Engineering</td>\n",
              "      <td>$71,800.00</td>\n",
              "      <td>$122,000.00</td>\n",
              "    </tr>\n",
              "    <tr>\n",
              "      <th>3</th>\n",
              "      <td>Polytechnic University of New York, Brooklyn</td>\n",
              "      <td>Engineering</td>\n",
              "      <td>$62,400.00</td>\n",
              "      <td>$114,000.00</td>\n",
              "    </tr>\n",
              "    <tr>\n",
              "      <th>4</th>\n",
              "      <td>Cooper Union</td>\n",
              "      <td>Engineering</td>\n",
              "      <td>$62,200.00</td>\n",
              "      <td>$114,000.00</td>\n",
              "    </tr>\n",
              "    <tr>\n",
              "      <th>...</th>\n",
              "      <td>...</td>\n",
              "      <td>...</td>\n",
              "      <td>...</td>\n",
              "      <td>...</td>\n",
              "    </tr>\n",
              "    <tr>\n",
              "      <th>244</th>\n",
              "      <td>Harvard University</td>\n",
              "      <td>Ivy League</td>\n",
              "      <td>$63,400.00</td>\n",
              "      <td>$124,000.00</td>\n",
              "    </tr>\n",
              "    <tr>\n",
              "      <th>245</th>\n",
              "      <td>University of Pennsylvania</td>\n",
              "      <td>Ivy League</td>\n",
              "      <td>$60,900.00</td>\n",
              "      <td>$120,000.00</td>\n",
              "    </tr>\n",
              "    <tr>\n",
              "      <th>246</th>\n",
              "      <td>Cornell University</td>\n",
              "      <td>Ivy League</td>\n",
              "      <td>$60,300.00</td>\n",
              "      <td>$110,000.00</td>\n",
              "    </tr>\n",
              "    <tr>\n",
              "      <th>247</th>\n",
              "      <td>Brown University</td>\n",
              "      <td>Ivy League</td>\n",
              "      <td>$56,200.00</td>\n",
              "      <td>$109,000.00</td>\n",
              "    </tr>\n",
              "    <tr>\n",
              "      <th>248</th>\n",
              "      <td>Columbia University</td>\n",
              "      <td>Ivy League</td>\n",
              "      <td>$59,400.00</td>\n",
              "      <td>$107,000.00</td>\n",
              "    </tr>\n",
              "  </tbody>\n",
              "</table>\n",
              "<p>249 rows × 4 columns</p>\n",
              "</div>"
            ],
            "text/plain": [
              "                                      School Name  ... Mid-Career Median Salary\n",
              "0     Massachusetts Institute of Technology (MIT)  ...             $126,000.00 \n",
              "1        California Institute of Technology (CIT)  ...             $123,000.00 \n",
              "2                             Harvey Mudd College  ...             $122,000.00 \n",
              "3    Polytechnic University of New York, Brooklyn  ...             $114,000.00 \n",
              "4                                    Cooper Union  ...             $114,000.00 \n",
              "..                                            ...  ...                      ...\n",
              "244                            Harvard University  ...             $124,000.00 \n",
              "245                    University of Pennsylvania  ...             $120,000.00 \n",
              "246                            Cornell University  ...             $110,000.00 \n",
              "247                              Brown University  ...             $109,000.00 \n",
              "248                           Columbia University  ...             $107,000.00 \n",
              "\n",
              "[249 rows x 4 columns]"
            ]
          },
          "metadata": {
            "tags": []
          },
          "execution_count": 15
        }
      ]
    },
    {
      "cell_type": "code",
      "metadata": {
        "colab": {
          "base_uri": "https://localhost:8080/",
          "height": 419
        },
        "id": "k-zPa9NbSxCA",
        "outputId": "15ede781-70fc-4d4f-dd88-e2c9095eb0e7"
      },
      "source": [
        "pd.concat(dfs, ignore_index=True).drop_duplicates(subset=['School Name'], keep='first')"
      ],
      "execution_count": 16,
      "outputs": [
        {
          "output_type": "execute_result",
          "data": {
            "text/html": [
              "<div>\n",
              "<style scoped>\n",
              "    .dataframe tbody tr th:only-of-type {\n",
              "        vertical-align: middle;\n",
              "    }\n",
              "\n",
              "    .dataframe tbody tr th {\n",
              "        vertical-align: top;\n",
              "    }\n",
              "\n",
              "    .dataframe thead th {\n",
              "        text-align: right;\n",
              "    }\n",
              "</style>\n",
              "<table border=\"1\" class=\"dataframe\">\n",
              "  <thead>\n",
              "    <tr style=\"text-align: right;\">\n",
              "      <th></th>\n",
              "      <th>School Name</th>\n",
              "      <th>School Type</th>\n",
              "      <th>Starting Median Salary</th>\n",
              "      <th>Mid-Career Median Salary</th>\n",
              "    </tr>\n",
              "  </thead>\n",
              "  <tbody>\n",
              "    <tr>\n",
              "      <th>0</th>\n",
              "      <td>Massachusetts Institute of Technology (MIT)</td>\n",
              "      <td>Engineering</td>\n",
              "      <td>$72,200.00</td>\n",
              "      <td>$126,000.00</td>\n",
              "    </tr>\n",
              "    <tr>\n",
              "      <th>1</th>\n",
              "      <td>California Institute of Technology (CIT)</td>\n",
              "      <td>Engineering</td>\n",
              "      <td>$75,500.00</td>\n",
              "      <td>$123,000.00</td>\n",
              "    </tr>\n",
              "    <tr>\n",
              "      <th>2</th>\n",
              "      <td>Harvey Mudd College</td>\n",
              "      <td>Engineering</td>\n",
              "      <td>$71,800.00</td>\n",
              "      <td>$122,000.00</td>\n",
              "    </tr>\n",
              "    <tr>\n",
              "      <th>3</th>\n",
              "      <td>Polytechnic University of New York, Brooklyn</td>\n",
              "      <td>Engineering</td>\n",
              "      <td>$62,400.00</td>\n",
              "      <td>$114,000.00</td>\n",
              "    </tr>\n",
              "    <tr>\n",
              "      <th>4</th>\n",
              "      <td>Cooper Union</td>\n",
              "      <td>Engineering</td>\n",
              "      <td>$62,200.00</td>\n",
              "      <td>$114,000.00</td>\n",
              "    </tr>\n",
              "    <tr>\n",
              "      <th>...</th>\n",
              "      <td>...</td>\n",
              "      <td>...</td>\n",
              "      <td>...</td>\n",
              "      <td>...</td>\n",
              "    </tr>\n",
              "    <tr>\n",
              "      <th>244</th>\n",
              "      <td>Harvard University</td>\n",
              "      <td>Ivy League</td>\n",
              "      <td>$63,400.00</td>\n",
              "      <td>$124,000.00</td>\n",
              "    </tr>\n",
              "    <tr>\n",
              "      <th>245</th>\n",
              "      <td>University of Pennsylvania</td>\n",
              "      <td>Ivy League</td>\n",
              "      <td>$60,900.00</td>\n",
              "      <td>$120,000.00</td>\n",
              "    </tr>\n",
              "    <tr>\n",
              "      <th>246</th>\n",
              "      <td>Cornell University</td>\n",
              "      <td>Ivy League</td>\n",
              "      <td>$60,300.00</td>\n",
              "      <td>$110,000.00</td>\n",
              "    </tr>\n",
              "    <tr>\n",
              "      <th>247</th>\n",
              "      <td>Brown University</td>\n",
              "      <td>Ivy League</td>\n",
              "      <td>$56,200.00</td>\n",
              "      <td>$109,000.00</td>\n",
              "    </tr>\n",
              "    <tr>\n",
              "      <th>248</th>\n",
              "      <td>Columbia University</td>\n",
              "      <td>Ivy League</td>\n",
              "      <td>$59,400.00</td>\n",
              "      <td>$107,000.00</td>\n",
              "    </tr>\n",
              "  </tbody>\n",
              "</table>\n",
              "<p>249 rows × 4 columns</p>\n",
              "</div>"
            ],
            "text/plain": [
              "                                      School Name  ... Mid-Career Median Salary\n",
              "0     Massachusetts Institute of Technology (MIT)  ...             $126,000.00 \n",
              "1        California Institute of Technology (CIT)  ...             $123,000.00 \n",
              "2                             Harvey Mudd College  ...             $122,000.00 \n",
              "3    Polytechnic University of New York, Brooklyn  ...             $114,000.00 \n",
              "4                                    Cooper Union  ...             $114,000.00 \n",
              "..                                            ...  ...                      ...\n",
              "244                            Harvard University  ...             $124,000.00 \n",
              "245                    University of Pennsylvania  ...             $120,000.00 \n",
              "246                            Cornell University  ...             $110,000.00 \n",
              "247                              Brown University  ...             $109,000.00 \n",
              "248                           Columbia University  ...             $107,000.00 \n",
              "\n",
              "[249 rows x 4 columns]"
            ]
          },
          "metadata": {
            "tags": []
          },
          "execution_count": 16
        }
      ]
    },
    {
      "cell_type": "code",
      "metadata": {
        "id": "kb5KNxozu34L"
      },
      "source": [
        "ivies2 = ivies.set_index( 'School Name')"
      ],
      "execution_count": 17,
      "outputs": []
    },
    {
      "cell_type": "code",
      "metadata": {
        "id": "G-OVXkaSvXnI"
      },
      "source": [
        "eng2 = eng.set_index('School Name')"
      ],
      "execution_count": 18,
      "outputs": []
    },
    {
      "cell_type": "code",
      "metadata": {
        "colab": {
          "base_uri": "https://localhost:8080/",
          "height": 917
        },
        "id": "D8v1I1pZvnlf",
        "outputId": "88d61fe3-a8aa-41a6-c429-349d15d0fb62"
      },
      "source": [
        "pd.concat([ivies2,eng2], verify_integrity=True)"
      ],
      "execution_count": 19,
      "outputs": [
        {
          "output_type": "execute_result",
          "data": {
            "text/html": [
              "<div>\n",
              "<style scoped>\n",
              "    .dataframe tbody tr th:only-of-type {\n",
              "        vertical-align: middle;\n",
              "    }\n",
              "\n",
              "    .dataframe tbody tr th {\n",
              "        vertical-align: top;\n",
              "    }\n",
              "\n",
              "    .dataframe thead th {\n",
              "        text-align: right;\n",
              "    }\n",
              "</style>\n",
              "<table border=\"1\" class=\"dataframe\">\n",
              "  <thead>\n",
              "    <tr style=\"text-align: right;\">\n",
              "      <th></th>\n",
              "      <th>School Type</th>\n",
              "      <th>Starting Median Salary</th>\n",
              "      <th>Mid-Career Median Salary</th>\n",
              "    </tr>\n",
              "    <tr>\n",
              "      <th>School Name</th>\n",
              "      <th></th>\n",
              "      <th></th>\n",
              "      <th></th>\n",
              "    </tr>\n",
              "  </thead>\n",
              "  <tbody>\n",
              "    <tr>\n",
              "      <th>Dartmouth College</th>\n",
              "      <td>Ivy League</td>\n",
              "      <td>$58,000.00</td>\n",
              "      <td>$134,000.00</td>\n",
              "    </tr>\n",
              "    <tr>\n",
              "      <th>Princeton University</th>\n",
              "      <td>Ivy League</td>\n",
              "      <td>$66,500.00</td>\n",
              "      <td>$131,000.00</td>\n",
              "    </tr>\n",
              "    <tr>\n",
              "      <th>Yale University</th>\n",
              "      <td>Ivy League</td>\n",
              "      <td>$59,100.00</td>\n",
              "      <td>$126,000.00</td>\n",
              "    </tr>\n",
              "    <tr>\n",
              "      <th>Harvard University</th>\n",
              "      <td>Ivy League</td>\n",
              "      <td>$63,400.00</td>\n",
              "      <td>$124,000.00</td>\n",
              "    </tr>\n",
              "    <tr>\n",
              "      <th>University of Pennsylvania</th>\n",
              "      <td>Ivy League</td>\n",
              "      <td>$60,900.00</td>\n",
              "      <td>$120,000.00</td>\n",
              "    </tr>\n",
              "    <tr>\n",
              "      <th>Cornell University</th>\n",
              "      <td>Ivy League</td>\n",
              "      <td>$60,300.00</td>\n",
              "      <td>$110,000.00</td>\n",
              "    </tr>\n",
              "    <tr>\n",
              "      <th>Brown University</th>\n",
              "      <td>Ivy League</td>\n",
              "      <td>$56,200.00</td>\n",
              "      <td>$109,000.00</td>\n",
              "    </tr>\n",
              "    <tr>\n",
              "      <th>Columbia University</th>\n",
              "      <td>Ivy League</td>\n",
              "      <td>$59,400.00</td>\n",
              "      <td>$107,000.00</td>\n",
              "    </tr>\n",
              "    <tr>\n",
              "      <th>Massachusetts Institute of Technology (MIT)</th>\n",
              "      <td>Engineering</td>\n",
              "      <td>$72,200.00</td>\n",
              "      <td>$126,000.00</td>\n",
              "    </tr>\n",
              "    <tr>\n",
              "      <th>California Institute of Technology (CIT)</th>\n",
              "      <td>Engineering</td>\n",
              "      <td>$75,500.00</td>\n",
              "      <td>$123,000.00</td>\n",
              "    </tr>\n",
              "    <tr>\n",
              "      <th>Harvey Mudd College</th>\n",
              "      <td>Engineering</td>\n",
              "      <td>$71,800.00</td>\n",
              "      <td>$122,000.00</td>\n",
              "    </tr>\n",
              "    <tr>\n",
              "      <th>Polytechnic University of New York, Brooklyn</th>\n",
              "      <td>Engineering</td>\n",
              "      <td>$62,400.00</td>\n",
              "      <td>$114,000.00</td>\n",
              "    </tr>\n",
              "    <tr>\n",
              "      <th>Cooper Union</th>\n",
              "      <td>Engineering</td>\n",
              "      <td>$62,200.00</td>\n",
              "      <td>$114,000.00</td>\n",
              "    </tr>\n",
              "    <tr>\n",
              "      <th>Worcester Polytechnic Institute (WPI)</th>\n",
              "      <td>Engineering</td>\n",
              "      <td>$61,000.00</td>\n",
              "      <td>$114,000.00</td>\n",
              "    </tr>\n",
              "    <tr>\n",
              "      <th>Carnegie Mellon University (CMU)</th>\n",
              "      <td>Engineering</td>\n",
              "      <td>$61,800.00</td>\n",
              "      <td>$111,000.00</td>\n",
              "    </tr>\n",
              "    <tr>\n",
              "      <th>Rensselaer Polytechnic Institute (RPI)</th>\n",
              "      <td>Engineering</td>\n",
              "      <td>$61,100.00</td>\n",
              "      <td>$110,000.00</td>\n",
              "    </tr>\n",
              "    <tr>\n",
              "      <th>Georgia Institute of Technology</th>\n",
              "      <td>Engineering</td>\n",
              "      <td>$58,300.00</td>\n",
              "      <td>$106,000.00</td>\n",
              "    </tr>\n",
              "    <tr>\n",
              "      <th>Colorado School of Mines</th>\n",
              "      <td>Engineering</td>\n",
              "      <td>$58,100.00</td>\n",
              "      <td>$106,000.00</td>\n",
              "    </tr>\n",
              "    <tr>\n",
              "      <th>Stevens Institute of Technology</th>\n",
              "      <td>Engineering</td>\n",
              "      <td>$60,600.00</td>\n",
              "      <td>$105,000.00</td>\n",
              "    </tr>\n",
              "    <tr>\n",
              "      <th>Illinois Institute of Technology (IIT)</th>\n",
              "      <td>Engineering</td>\n",
              "      <td>$56,000.00</td>\n",
              "      <td>$97,800.00</td>\n",
              "    </tr>\n",
              "    <tr>\n",
              "      <th>Wentworth Institute of Technology</th>\n",
              "      <td>Engineering</td>\n",
              "      <td>$53,000.00</td>\n",
              "      <td>$96,700.00</td>\n",
              "    </tr>\n",
              "    <tr>\n",
              "      <th>Virginia Polytechnic Institute and State University (Virginia Tech)</th>\n",
              "      <td>Engineering</td>\n",
              "      <td>$53,500.00</td>\n",
              "      <td>$95,400.00</td>\n",
              "    </tr>\n",
              "    <tr>\n",
              "      <th>South Dakota School of Mines &amp; Technology</th>\n",
              "      <td>Engineering</td>\n",
              "      <td>$55,800.00</td>\n",
              "      <td>$93,400.00</td>\n",
              "    </tr>\n",
              "    <tr>\n",
              "      <th>New Mexico Institute of Mining and Technology (New Mexico Tech)</th>\n",
              "      <td>Engineering</td>\n",
              "      <td>$51,000.00</td>\n",
              "      <td>$93,400.00</td>\n",
              "    </tr>\n",
              "    <tr>\n",
              "      <th>Rochester Institute of Technology (RIT)</th>\n",
              "      <td>Engineering</td>\n",
              "      <td>$48,900.00</td>\n",
              "      <td>$84,600.00</td>\n",
              "    </tr>\n",
              "    <tr>\n",
              "      <th>Embry-Riddle Aeronautical University (ERAU)</th>\n",
              "      <td>Engineering</td>\n",
              "      <td>$52,700.00</td>\n",
              "      <td>$80,700.00</td>\n",
              "    </tr>\n",
              "    <tr>\n",
              "      <th>Tennessee Technological University</th>\n",
              "      <td>Engineering</td>\n",
              "      <td>$46,200.00</td>\n",
              "      <td>$80,000.00</td>\n",
              "    </tr>\n",
              "  </tbody>\n",
              "</table>\n",
              "</div>"
            ],
            "text/plain": [
              "                                                    School Type  ... Mid-Career Median Salary\n",
              "School Name                                                      ...                         \n",
              "Dartmouth College                                    Ivy League  ...             $134,000.00 \n",
              "Princeton University                                 Ivy League  ...             $131,000.00 \n",
              "Yale University                                      Ivy League  ...             $126,000.00 \n",
              "Harvard University                                   Ivy League  ...             $124,000.00 \n",
              "University of Pennsylvania                           Ivy League  ...             $120,000.00 \n",
              "Cornell University                                   Ivy League  ...             $110,000.00 \n",
              "Brown University                                     Ivy League  ...             $109,000.00 \n",
              "Columbia University                                  Ivy League  ...             $107,000.00 \n",
              "Massachusetts Institute of Technology (MIT)         Engineering  ...             $126,000.00 \n",
              "California Institute of Technology (CIT)            Engineering  ...             $123,000.00 \n",
              "Harvey Mudd College                                 Engineering  ...             $122,000.00 \n",
              "Polytechnic University of New York, Brooklyn        Engineering  ...             $114,000.00 \n",
              "Cooper Union                                        Engineering  ...             $114,000.00 \n",
              "Worcester Polytechnic Institute (WPI)               Engineering  ...             $114,000.00 \n",
              "Carnegie Mellon University (CMU)                    Engineering  ...             $111,000.00 \n",
              "Rensselaer Polytechnic Institute (RPI)              Engineering  ...             $110,000.00 \n",
              "Georgia Institute of Technology                     Engineering  ...             $106,000.00 \n",
              "Colorado School of Mines                            Engineering  ...             $106,000.00 \n",
              "Stevens Institute of Technology                     Engineering  ...             $105,000.00 \n",
              "Illinois Institute of Technology (IIT)              Engineering  ...              $97,800.00 \n",
              "Wentworth Institute of Technology                   Engineering  ...              $96,700.00 \n",
              "Virginia Polytechnic Institute and State Univer...  Engineering  ...              $95,400.00 \n",
              "South Dakota School of Mines & Technology           Engineering  ...              $93,400.00 \n",
              "New Mexico Institute of Mining and Technology (...  Engineering  ...              $93,400.00 \n",
              "Rochester Institute of Technology (RIT)             Engineering  ...              $84,600.00 \n",
              "Embry-Riddle Aeronautical University (ERAU)         Engineering  ...              $80,700.00 \n",
              "Tennessee Technological University                  Engineering  ...              $80,000.00 \n",
              "\n",
              "[27 rows x 3 columns]"
            ]
          },
          "metadata": {
            "tags": []
          },
          "execution_count": 19
        }
      ]
    },
    {
      "cell_type": "code",
      "metadata": {
        "id": "iSMbVl1CwANi"
      },
      "source": [
        "school_name_index = pd.concat([ivies2,eng2])"
      ],
      "execution_count": 20,
      "outputs": []
    },
    {
      "cell_type": "code",
      "metadata": {
        "id": "lrd4atWLyYlz"
      },
      "source": [
        " random_rows = ivies2.sample()"
      ],
      "execution_count": 21,
      "outputs": []
    },
    {
      "cell_type": "code",
      "metadata": {
        "colab": {
          "base_uri": "https://localhost:8080/",
          "height": 111
        },
        "id": "FXTU1dgbyx2K",
        "outputId": "7ae7fbf5-75ce-4ffe-f6f0-e8cadfd1375e"
      },
      "source": [
        "random_rows"
      ],
      "execution_count": 22,
      "outputs": [
        {
          "output_type": "execute_result",
          "data": {
            "text/html": [
              "<div>\n",
              "<style scoped>\n",
              "    .dataframe tbody tr th:only-of-type {\n",
              "        vertical-align: middle;\n",
              "    }\n",
              "\n",
              "    .dataframe tbody tr th {\n",
              "        vertical-align: top;\n",
              "    }\n",
              "\n",
              "    .dataframe thead th {\n",
              "        text-align: right;\n",
              "    }\n",
              "</style>\n",
              "<table border=\"1\" class=\"dataframe\">\n",
              "  <thead>\n",
              "    <tr style=\"text-align: right;\">\n",
              "      <th></th>\n",
              "      <th>School Type</th>\n",
              "      <th>Starting Median Salary</th>\n",
              "      <th>Mid-Career Median Salary</th>\n",
              "    </tr>\n",
              "    <tr>\n",
              "      <th>School Name</th>\n",
              "      <th></th>\n",
              "      <th></th>\n",
              "      <th></th>\n",
              "    </tr>\n",
              "  </thead>\n",
              "  <tbody>\n",
              "    <tr>\n",
              "      <th>University of Pennsylvania</th>\n",
              "      <td>Ivy League</td>\n",
              "      <td>$60,900.00</td>\n",
              "      <td>$120,000.00</td>\n",
              "    </tr>\n",
              "  </tbody>\n",
              "</table>\n",
              "</div>"
            ],
            "text/plain": [
              "                           School Type  ... Mid-Career Median Salary\n",
              "School Name                             ...                         \n",
              "University of Pennsylvania  Ivy League  ...             $120,000.00 \n",
              "\n",
              "[1 rows x 3 columns]"
            ]
          },
          "metadata": {
            "tags": []
          },
          "execution_count": 22
        }
      ]
    },
    {
      "cell_type": "code",
      "metadata": {
        "id": "v_70z9R8z06Z"
      },
      "source": [
        "eng3 = eng2.append(random_rows)"
      ],
      "execution_count": 23,
      "outputs": []
    },
    {
      "cell_type": "code",
      "metadata": {
        "id": "3wIsJk0-zFP4"
      },
      "source": [
        "concat_ivies2_eng3 = pd.concat([ivies2,eng3])"
      ],
      "execution_count": 24,
      "outputs": []
    },
    {
      "cell_type": "code",
      "metadata": {
        "colab": {
          "base_uri": "https://localhost:8080/"
        },
        "id": "jp1fdwcd0HVu",
        "outputId": "b22c42d5-3243-400c-eb8f-80ab9602734e"
      },
      "source": [
        "concat_ivies2_eng3.duplicated()"
      ],
      "execution_count": 25,
      "outputs": [
        {
          "output_type": "execute_result",
          "data": {
            "text/plain": [
              "School Name\n",
              "Dartmouth College                                                      False\n",
              "Princeton University                                                   False\n",
              "Yale University                                                        False\n",
              "Harvard University                                                     False\n",
              "University of Pennsylvania                                             False\n",
              "Cornell University                                                     False\n",
              "Brown University                                                       False\n",
              "Columbia University                                                    False\n",
              "Massachusetts Institute of Technology (MIT)                            False\n",
              "California Institute of Technology (CIT)                               False\n",
              "Harvey Mudd College                                                    False\n",
              "Polytechnic University of New York, Brooklyn                           False\n",
              "Cooper Union                                                           False\n",
              "Worcester Polytechnic Institute (WPI)                                  False\n",
              "Carnegie Mellon University (CMU)                                       False\n",
              "Rensselaer Polytechnic Institute (RPI)                                 False\n",
              "Georgia Institute of Technology                                        False\n",
              "Colorado School of Mines                                               False\n",
              "Stevens Institute of Technology                                        False\n",
              "Illinois Institute of Technology (IIT)                                 False\n",
              "Wentworth Institute of Technology                                      False\n",
              "Virginia Polytechnic Institute and State University (Virginia Tech)    False\n",
              "South Dakota School of Mines & Technology                              False\n",
              "New Mexico Institute of Mining and Technology (New Mexico Tech)        False\n",
              "Rochester Institute of Technology (RIT)                                False\n",
              "Embry-Riddle Aeronautical University (ERAU)                            False\n",
              "Tennessee Technological University                                     False\n",
              "University of Pennsylvania                                              True\n",
              "dtype: bool"
            ]
          },
          "metadata": {
            "tags": []
          },
          "execution_count": 25
        }
      ]
    },
    {
      "cell_type": "code",
      "metadata": {
        "id": "1kgfYtHmpHHr"
      },
      "source": [
        "dfc = pd.concat([liberal,state])"
      ],
      "execution_count": 26,
      "outputs": []
    },
    {
      "cell_type": "code",
      "metadata": {
        "colab": {
          "base_uri": "https://localhost:8080/",
          "height": 204
        },
        "id": "COZ5YZI6paWw",
        "outputId": "a998fb5d-ef55-4f3b-c153-93656785870f"
      },
      "source": [
        "dfc.head()"
      ],
      "execution_count": 27,
      "outputs": [
        {
          "output_type": "execute_result",
          "data": {
            "text/html": [
              "<div>\n",
              "<style scoped>\n",
              "    .dataframe tbody tr th:only-of-type {\n",
              "        vertical-align: middle;\n",
              "    }\n",
              "\n",
              "    .dataframe tbody tr th {\n",
              "        vertical-align: top;\n",
              "    }\n",
              "\n",
              "    .dataframe thead th {\n",
              "        text-align: right;\n",
              "    }\n",
              "</style>\n",
              "<table border=\"1\" class=\"dataframe\">\n",
              "  <thead>\n",
              "    <tr style=\"text-align: right;\">\n",
              "      <th></th>\n",
              "      <th>School Name</th>\n",
              "      <th>School Type</th>\n",
              "      <th>Starting Median Salary</th>\n",
              "      <th>Mid-Career Median Salary</th>\n",
              "    </tr>\n",
              "  </thead>\n",
              "  <tbody>\n",
              "    <tr>\n",
              "      <th>0</th>\n",
              "      <td>Bucknell University</td>\n",
              "      <td>Liberal Arts</td>\n",
              "      <td>$54,100.00</td>\n",
              "      <td>$110,000.00</td>\n",
              "    </tr>\n",
              "    <tr>\n",
              "      <th>1</th>\n",
              "      <td>Colgate University</td>\n",
              "      <td>Liberal Arts</td>\n",
              "      <td>$52,800.00</td>\n",
              "      <td>$108,000.00</td>\n",
              "    </tr>\n",
              "    <tr>\n",
              "      <th>2</th>\n",
              "      <td>Amherst College</td>\n",
              "      <td>Liberal Arts</td>\n",
              "      <td>$54,500.00</td>\n",
              "      <td>$107,000.00</td>\n",
              "    </tr>\n",
              "    <tr>\n",
              "      <th>3</th>\n",
              "      <td>Lafayette College</td>\n",
              "      <td>Liberal Arts</td>\n",
              "      <td>$53,900.00</td>\n",
              "      <td>$107,000.00</td>\n",
              "    </tr>\n",
              "    <tr>\n",
              "      <th>4</th>\n",
              "      <td>Bowdoin College</td>\n",
              "      <td>Liberal Arts</td>\n",
              "      <td>$48,100.00</td>\n",
              "      <td>$107,000.00</td>\n",
              "    </tr>\n",
              "  </tbody>\n",
              "</table>\n",
              "</div>"
            ],
            "text/plain": [
              "           School Name  ... Mid-Career Median Salary\n",
              "0  Bucknell University  ...             $110,000.00 \n",
              "1   Colgate University  ...             $108,000.00 \n",
              "2      Amherst College  ...             $107,000.00 \n",
              "3    Lafayette College  ...             $107,000.00 \n",
              "4      Bowdoin College  ...             $107,000.00 \n",
              "\n",
              "[5 rows x 4 columns]"
            ]
          },
          "metadata": {
            "tags": []
          },
          "execution_count": 27
        }
      ]
    },
    {
      "cell_type": "code",
      "metadata": {
        "colab": {
          "base_uri": "https://localhost:8080/"
        },
        "id": "dF4Y35Vwpe7l",
        "outputId": "76c84bad-b9e0-41bd-b924-6e9a73d8dcfd"
      },
      "source": [
        " dfc.nunique()"
      ],
      "execution_count": 28,
      "outputs": [
        {
          "output_type": "execute_result",
          "data": {
            "text/plain": [
              "School Name                 222\n",
              "School Type                   2\n",
              "Starting Median Salary      122\n",
              "Mid-Career Median Salary    155\n",
              "dtype: int64"
            ]
          },
          "metadata": {
            "tags": []
          },
          "execution_count": 28
        }
      ]
    },
    {
      "cell_type": "markdown",
      "metadata": {
        "id": "Xz2ysBezuqkl"
      },
      "source": [
        ""
      ]
    },
    {
      "cell_type": "code",
      "metadata": {
        "colab": {
          "base_uri": "https://localhost:8080/"
        },
        "id": "oqnHzS1osWsG",
        "outputId": "a9ae3e86-87c0-4608-f9d5-018cc60215b9"
      },
      "source": [
        "dfc.iloc[:,3].replace('\\$|,','',regex=True).astype(float).mean()"
      ],
      "execution_count": 29,
      "outputs": [
        {
          "output_type": "execute_result",
          "data": {
            "text/plain": [
              "80856.3063063063"
            ]
          },
          "metadata": {
            "tags": []
          },
          "execution_count": 29
        }
      ]
    },
    {
      "cell_type": "code",
      "metadata": {
        "id": "mrOEIJ-yvIiW"
      },
      "source": [
        "liberal2 = liberal.sort_values(by=['Mid-Career Median Salary'],ascending=False).iloc[:3].reset_index(drop=True)"
      ],
      "execution_count": 30,
      "outputs": []
    },
    {
      "cell_type": "code",
      "metadata": {
        "id": "qpno3O1uvki4"
      },
      "source": [
        "state2 = state.sort_values(by=['Mid-Career Median Salary'],ascending=False).iloc[:3].reset_index(drop=True)"
      ],
      "execution_count": 31,
      "outputs": []
    },
    {
      "cell_type": "code",
      "metadata": {
        "colab": {
          "base_uri": "https://localhost:8080/",
          "height": 173
        },
        "id": "_oeZ9OCmvkuV",
        "outputId": "b2bc11eb-96f2-40d3-990e-4b3ec0eb2a61"
      },
      "source": [
        "pd.concat([liberal2,state2],axis=1, keys=['Liberal Arts','State'],sort=False)"
      ],
      "execution_count": 32,
      "outputs": [
        {
          "output_type": "execute_result",
          "data": {
            "text/html": [
              "<div>\n",
              "<style scoped>\n",
              "    .dataframe tbody tr th:only-of-type {\n",
              "        vertical-align: middle;\n",
              "    }\n",
              "\n",
              "    .dataframe tbody tr th {\n",
              "        vertical-align: top;\n",
              "    }\n",
              "\n",
              "    .dataframe thead tr th {\n",
              "        text-align: left;\n",
              "    }\n",
              "</style>\n",
              "<table border=\"1\" class=\"dataframe\">\n",
              "  <thead>\n",
              "    <tr>\n",
              "      <th></th>\n",
              "      <th colspan=\"4\" halign=\"left\">Liberal Arts</th>\n",
              "      <th colspan=\"4\" halign=\"left\">State</th>\n",
              "    </tr>\n",
              "    <tr>\n",
              "      <th></th>\n",
              "      <th>School Name</th>\n",
              "      <th>School Type</th>\n",
              "      <th>Starting Median Salary</th>\n",
              "      <th>Mid-Career Median Salary</th>\n",
              "      <th>School Name</th>\n",
              "      <th>School Type</th>\n",
              "      <th>Starting Median Salary</th>\n",
              "      <th>Mid-Career Median Salary</th>\n",
              "    </tr>\n",
              "  </thead>\n",
              "  <tbody>\n",
              "    <tr>\n",
              "      <th>0</th>\n",
              "      <td>Wesleyan University (Middletown, Connecticut)</td>\n",
              "      <td>Liberal Arts</td>\n",
              "      <td>$46,500.00</td>\n",
              "      <td>$97,900.00</td>\n",
              "      <td>University of California, Davis</td>\n",
              "      <td>State</td>\n",
              "      <td>$52,300.00</td>\n",
              "      <td>$99,600.00</td>\n",
              "    </tr>\n",
              "    <tr>\n",
              "      <th>1</th>\n",
              "      <td>Bates College</td>\n",
              "      <td>Liberal Arts</td>\n",
              "      <td>$47,300.00</td>\n",
              "      <td>$96,500.00</td>\n",
              "      <td>University of Colorado - Boulder (UCB)</td>\n",
              "      <td>State</td>\n",
              "      <td>$47,100.00</td>\n",
              "      <td>$97,600.00</td>\n",
              "    </tr>\n",
              "    <tr>\n",
              "      <th>2</th>\n",
              "      <td>Union College</td>\n",
              "      <td>Liberal Arts</td>\n",
              "      <td>$47,200.00</td>\n",
              "      <td>$95,800.00</td>\n",
              "      <td>University of California, Irvine (UCI)</td>\n",
              "      <td>State</td>\n",
              "      <td>$48,300.00</td>\n",
              "      <td>$96,700.00</td>\n",
              "    </tr>\n",
              "  </tbody>\n",
              "</table>\n",
              "</div>"
            ],
            "text/plain": [
              "                                    Liberal Arts  ...                    State\n",
              "                                     School Name  ... Mid-Career Median Salary\n",
              "0  Wesleyan University (Middletown, Connecticut)  ...              $99,600.00 \n",
              "1                                  Bates College  ...              $97,600.00 \n",
              "2                                  Union College  ...              $96,700.00 \n",
              "\n",
              "[3 rows x 8 columns]"
            ]
          },
          "metadata": {
            "tags": []
          },
          "execution_count": 32
        }
      ]
    },
    {
      "cell_type": "code",
      "metadata": {
        "id": "Ew9qV0bMqxS8"
      },
      "source": [
        "regions_url = '/content/drive/MyDrive/regions.csv'"
      ],
      "execution_count": 33,
      "outputs": []
    },
    {
      "cell_type": "code",
      "metadata": {
        "id": "iO8Ju83irQPV"
      },
      "source": [
        "regions = pd.read_csv(regions_url)"
      ],
      "execution_count": 34,
      "outputs": []
    },
    {
      "cell_type": "code",
      "metadata": {
        "colab": {
          "base_uri": "https://localhost:8080/",
          "height": 204
        },
        "id": "TC_hdkMwrXWn",
        "outputId": "3c8055a2-e9eb-46b7-f9c5-64e6f05dc0b6"
      },
      "source": [
        "regions.head()"
      ],
      "execution_count": 35,
      "outputs": [
        {
          "output_type": "execute_result",
          "data": {
            "text/html": [
              "<div>\n",
              "<style scoped>\n",
              "    .dataframe tbody tr th:only-of-type {\n",
              "        vertical-align: middle;\n",
              "    }\n",
              "\n",
              "    .dataframe tbody tr th {\n",
              "        vertical-align: top;\n",
              "    }\n",
              "\n",
              "    .dataframe thead th {\n",
              "        text-align: right;\n",
              "    }\n",
              "</style>\n",
              "<table border=\"1\" class=\"dataframe\">\n",
              "  <thead>\n",
              "    <tr style=\"text-align: right;\">\n",
              "      <th></th>\n",
              "      <th>School Name</th>\n",
              "      <th>Region</th>\n",
              "    </tr>\n",
              "  </thead>\n",
              "  <tbody>\n",
              "    <tr>\n",
              "      <th>0</th>\n",
              "      <td>Massachusetts Institute of Technology (MIT)</td>\n",
              "      <td>Northeastern</td>\n",
              "    </tr>\n",
              "    <tr>\n",
              "      <th>1</th>\n",
              "      <td>California Institute of Technology (CIT)</td>\n",
              "      <td>California</td>\n",
              "    </tr>\n",
              "    <tr>\n",
              "      <th>2</th>\n",
              "      <td>Harvey Mudd College</td>\n",
              "      <td>California</td>\n",
              "    </tr>\n",
              "    <tr>\n",
              "      <th>3</th>\n",
              "      <td>Polytechnic University of New York, Brooklyn</td>\n",
              "      <td>Northeastern</td>\n",
              "    </tr>\n",
              "    <tr>\n",
              "      <th>4</th>\n",
              "      <td>Cooper Union</td>\n",
              "      <td>Northeastern</td>\n",
              "    </tr>\n",
              "  </tbody>\n",
              "</table>\n",
              "</div>"
            ],
            "text/plain": [
              "                                    School Name        Region\n",
              "0   Massachusetts Institute of Technology (MIT)  Northeastern\n",
              "1      California Institute of Technology (CIT)    California\n",
              "2                           Harvey Mudd College    California\n",
              "3  Polytechnic University of New York, Brooklyn  Northeastern\n",
              "4                                  Cooper Union  Northeastern"
            ]
          },
          "metadata": {
            "tags": []
          },
          "execution_count": 35
        }
      ]
    },
    {
      "cell_type": "code",
      "metadata": {
        "colab": {
          "base_uri": "https://localhost:8080/",
          "height": 204
        },
        "id": "SNytReeyrbw6",
        "outputId": "36400ff8-0596-4928-8e2c-fbb3a141bacc"
      },
      "source": [
        "schools.head()"
      ],
      "execution_count": 36,
      "outputs": [
        {
          "output_type": "execute_result",
          "data": {
            "text/html": [
              "<div>\n",
              "<style scoped>\n",
              "    .dataframe tbody tr th:only-of-type {\n",
              "        vertical-align: middle;\n",
              "    }\n",
              "\n",
              "    .dataframe tbody tr th {\n",
              "        vertical-align: top;\n",
              "    }\n",
              "\n",
              "    .dataframe thead th {\n",
              "        text-align: right;\n",
              "    }\n",
              "</style>\n",
              "<table border=\"1\" class=\"dataframe\">\n",
              "  <thead>\n",
              "    <tr style=\"text-align: right;\">\n",
              "      <th></th>\n",
              "      <th>School Name</th>\n",
              "      <th>School Type</th>\n",
              "      <th>Starting Median Salary</th>\n",
              "      <th>Mid-Career Median Salary</th>\n",
              "    </tr>\n",
              "  </thead>\n",
              "  <tbody>\n",
              "    <tr>\n",
              "      <th>0</th>\n",
              "      <td>Massachusetts Institute of Technology (MIT)</td>\n",
              "      <td>Engineering</td>\n",
              "      <td>$72,200.00</td>\n",
              "      <td>$126,000.00</td>\n",
              "    </tr>\n",
              "    <tr>\n",
              "      <th>1</th>\n",
              "      <td>California Institute of Technology (CIT)</td>\n",
              "      <td>Engineering</td>\n",
              "      <td>$75,500.00</td>\n",
              "      <td>$123,000.00</td>\n",
              "    </tr>\n",
              "    <tr>\n",
              "      <th>2</th>\n",
              "      <td>Harvey Mudd College</td>\n",
              "      <td>Engineering</td>\n",
              "      <td>$71,800.00</td>\n",
              "      <td>$122,000.00</td>\n",
              "    </tr>\n",
              "    <tr>\n",
              "      <th>3</th>\n",
              "      <td>Polytechnic University of New York, Brooklyn</td>\n",
              "      <td>Engineering</td>\n",
              "      <td>$62,400.00</td>\n",
              "      <td>$114,000.00</td>\n",
              "    </tr>\n",
              "    <tr>\n",
              "      <th>4</th>\n",
              "      <td>Cooper Union</td>\n",
              "      <td>Engineering</td>\n",
              "      <td>$62,200.00</td>\n",
              "      <td>$114,000.00</td>\n",
              "    </tr>\n",
              "  </tbody>\n",
              "</table>\n",
              "</div>"
            ],
            "text/plain": [
              "                                    School Name  ... Mid-Career Median Salary\n",
              "0   Massachusetts Institute of Technology (MIT)  ...             $126,000.00 \n",
              "1      California Institute of Technology (CIT)  ...             $123,000.00 \n",
              "2                           Harvey Mudd College  ...             $122,000.00 \n",
              "3  Polytechnic University of New York, Brooklyn  ...             $114,000.00 \n",
              "4                                  Cooper Union  ...             $114,000.00 \n",
              "\n",
              "[5 rows x 4 columns]"
            ]
          },
          "metadata": {
            "tags": []
          },
          "execution_count": 36
        }
      ]
    },
    {
      "cell_type": "code",
      "metadata": {
        "colab": {
          "base_uri": "https://localhost:8080/",
          "height": 419
        },
        "id": "8dKbZrubrdua",
        "outputId": "7b8f80a5-fcb1-41fa-c4d3-19b3a66bfe4a"
      },
      "source": [
        "pd.merge(schools,regions)"
      ],
      "execution_count": 37,
      "outputs": [
        {
          "output_type": "execute_result",
          "data": {
            "text/html": [
              "<div>\n",
              "<style scoped>\n",
              "    .dataframe tbody tr th:only-of-type {\n",
              "        vertical-align: middle;\n",
              "    }\n",
              "\n",
              "    .dataframe tbody tr th {\n",
              "        vertical-align: top;\n",
              "    }\n",
              "\n",
              "    .dataframe thead th {\n",
              "        text-align: right;\n",
              "    }\n",
              "</style>\n",
              "<table border=\"1\" class=\"dataframe\">\n",
              "  <thead>\n",
              "    <tr style=\"text-align: right;\">\n",
              "      <th></th>\n",
              "      <th>School Name</th>\n",
              "      <th>School Type</th>\n",
              "      <th>Starting Median Salary</th>\n",
              "      <th>Mid-Career Median Salary</th>\n",
              "      <th>Region</th>\n",
              "    </tr>\n",
              "  </thead>\n",
              "  <tbody>\n",
              "    <tr>\n",
              "      <th>0</th>\n",
              "      <td>Massachusetts Institute of Technology (MIT)</td>\n",
              "      <td>Engineering</td>\n",
              "      <td>$72,200.00</td>\n",
              "      <td>$126,000.00</td>\n",
              "      <td>Northeastern</td>\n",
              "    </tr>\n",
              "    <tr>\n",
              "      <th>1</th>\n",
              "      <td>California Institute of Technology (CIT)</td>\n",
              "      <td>Engineering</td>\n",
              "      <td>$75,500.00</td>\n",
              "      <td>$123,000.00</td>\n",
              "      <td>California</td>\n",
              "    </tr>\n",
              "    <tr>\n",
              "      <th>2</th>\n",
              "      <td>Harvey Mudd College</td>\n",
              "      <td>Engineering</td>\n",
              "      <td>$71,800.00</td>\n",
              "      <td>$122,000.00</td>\n",
              "      <td>California</td>\n",
              "    </tr>\n",
              "    <tr>\n",
              "      <th>3</th>\n",
              "      <td>Polytechnic University of New York, Brooklyn</td>\n",
              "      <td>Engineering</td>\n",
              "      <td>$62,400.00</td>\n",
              "      <td>$114,000.00</td>\n",
              "      <td>Northeastern</td>\n",
              "    </tr>\n",
              "    <tr>\n",
              "      <th>4</th>\n",
              "      <td>Cooper Union</td>\n",
              "      <td>Engineering</td>\n",
              "      <td>$62,200.00</td>\n",
              "      <td>$114,000.00</td>\n",
              "      <td>Northeastern</td>\n",
              "    </tr>\n",
              "    <tr>\n",
              "      <th>...</th>\n",
              "      <td>...</td>\n",
              "      <td>...</td>\n",
              "      <td>...</td>\n",
              "      <td>...</td>\n",
              "      <td>...</td>\n",
              "    </tr>\n",
              "    <tr>\n",
              "      <th>264</th>\n",
              "      <td>Harvard University</td>\n",
              "      <td>Ivy League</td>\n",
              "      <td>$63,400.00</td>\n",
              "      <td>$124,000.00</td>\n",
              "      <td>Northeastern</td>\n",
              "    </tr>\n",
              "    <tr>\n",
              "      <th>265</th>\n",
              "      <td>University of Pennsylvania</td>\n",
              "      <td>Ivy League</td>\n",
              "      <td>$60,900.00</td>\n",
              "      <td>$120,000.00</td>\n",
              "      <td>Northeastern</td>\n",
              "    </tr>\n",
              "    <tr>\n",
              "      <th>266</th>\n",
              "      <td>Cornell University</td>\n",
              "      <td>Ivy League</td>\n",
              "      <td>$60,300.00</td>\n",
              "      <td>$110,000.00</td>\n",
              "      <td>Northeastern</td>\n",
              "    </tr>\n",
              "    <tr>\n",
              "      <th>267</th>\n",
              "      <td>Brown University</td>\n",
              "      <td>Ivy League</td>\n",
              "      <td>$56,200.00</td>\n",
              "      <td>$109,000.00</td>\n",
              "      <td>Northeastern</td>\n",
              "    </tr>\n",
              "    <tr>\n",
              "      <th>268</th>\n",
              "      <td>Columbia University</td>\n",
              "      <td>Ivy League</td>\n",
              "      <td>$59,400.00</td>\n",
              "      <td>$107,000.00</td>\n",
              "      <td>Northeastern</td>\n",
              "    </tr>\n",
              "  </tbody>\n",
              "</table>\n",
              "<p>269 rows × 5 columns</p>\n",
              "</div>"
            ],
            "text/plain": [
              "                                      School Name  ...        Region\n",
              "0     Massachusetts Institute of Technology (MIT)  ...  Northeastern\n",
              "1        California Institute of Technology (CIT)  ...    California\n",
              "2                             Harvey Mudd College  ...    California\n",
              "3    Polytechnic University of New York, Brooklyn  ...  Northeastern\n",
              "4                                    Cooper Union  ...  Northeastern\n",
              "..                                            ...  ...           ...\n",
              "264                            Harvard University  ...  Northeastern\n",
              "265                    University of Pennsylvania  ...  Northeastern\n",
              "266                            Cornell University  ...  Northeastern\n",
              "267                              Brown University  ...  Northeastern\n",
              "268                           Columbia University  ...  Northeastern\n",
              "\n",
              "[269 rows x 5 columns]"
            ]
          },
          "metadata": {
            "tags": []
          },
          "execution_count": 37
        }
      ]
    },
    {
      "cell_type": "code",
      "metadata": {
        "id": "S6MiEHxLtfqw"
      },
      "source": [
        "income_url = '/content/drive/MyDrive/mid_career_salaries.csv'"
      ],
      "execution_count": 38,
      "outputs": []
    },
    {
      "cell_type": "code",
      "metadata": {
        "id": "Y_LgRhoatpTr"
      },
      "source": [
        "mid_career = pd.read_csv(income_url)"
      ],
      "execution_count": 39,
      "outputs": []
    },
    {
      "cell_type": "code",
      "metadata": {
        "colab": {
          "base_uri": "https://localhost:8080/",
          "height": 204
        },
        "id": "dufategzt9yU",
        "outputId": "91bfdd5d-6526-450b-fbb5-526f939c3f44"
      },
      "source": [
        "schools.head()"
      ],
      "execution_count": 40,
      "outputs": [
        {
          "output_type": "execute_result",
          "data": {
            "text/html": [
              "<div>\n",
              "<style scoped>\n",
              "    .dataframe tbody tr th:only-of-type {\n",
              "        vertical-align: middle;\n",
              "    }\n",
              "\n",
              "    .dataframe tbody tr th {\n",
              "        vertical-align: top;\n",
              "    }\n",
              "\n",
              "    .dataframe thead th {\n",
              "        text-align: right;\n",
              "    }\n",
              "</style>\n",
              "<table border=\"1\" class=\"dataframe\">\n",
              "  <thead>\n",
              "    <tr style=\"text-align: right;\">\n",
              "      <th></th>\n",
              "      <th>School Name</th>\n",
              "      <th>School Type</th>\n",
              "      <th>Starting Median Salary</th>\n",
              "      <th>Mid-Career Median Salary</th>\n",
              "    </tr>\n",
              "  </thead>\n",
              "  <tbody>\n",
              "    <tr>\n",
              "      <th>0</th>\n",
              "      <td>Massachusetts Institute of Technology (MIT)</td>\n",
              "      <td>Engineering</td>\n",
              "      <td>$72,200.00</td>\n",
              "      <td>$126,000.00</td>\n",
              "    </tr>\n",
              "    <tr>\n",
              "      <th>1</th>\n",
              "      <td>California Institute of Technology (CIT)</td>\n",
              "      <td>Engineering</td>\n",
              "      <td>$75,500.00</td>\n",
              "      <td>$123,000.00</td>\n",
              "    </tr>\n",
              "    <tr>\n",
              "      <th>2</th>\n",
              "      <td>Harvey Mudd College</td>\n",
              "      <td>Engineering</td>\n",
              "      <td>$71,800.00</td>\n",
              "      <td>$122,000.00</td>\n",
              "    </tr>\n",
              "    <tr>\n",
              "      <th>3</th>\n",
              "      <td>Polytechnic University of New York, Brooklyn</td>\n",
              "      <td>Engineering</td>\n",
              "      <td>$62,400.00</td>\n",
              "      <td>$114,000.00</td>\n",
              "    </tr>\n",
              "    <tr>\n",
              "      <th>4</th>\n",
              "      <td>Cooper Union</td>\n",
              "      <td>Engineering</td>\n",
              "      <td>$62,200.00</td>\n",
              "      <td>$114,000.00</td>\n",
              "    </tr>\n",
              "  </tbody>\n",
              "</table>\n",
              "</div>"
            ],
            "text/plain": [
              "                                    School Name  ... Mid-Career Median Salary\n",
              "0   Massachusetts Institute of Technology (MIT)  ...             $126,000.00 \n",
              "1      California Institute of Technology (CIT)  ...             $123,000.00 \n",
              "2                           Harvey Mudd College  ...             $122,000.00 \n",
              "3  Polytechnic University of New York, Brooklyn  ...             $114,000.00 \n",
              "4                                  Cooper Union  ...             $114,000.00 \n",
              "\n",
              "[5 rows x 4 columns]"
            ]
          },
          "metadata": {
            "tags": []
          },
          "execution_count": 40
        }
      ]
    },
    {
      "cell_type": "code",
      "metadata": {
        "colab": {
          "base_uri": "https://localhost:8080/",
          "height": 272
        },
        "id": "cLt8mzaotyYH",
        "outputId": "68564cfe-9570-4b88-e1dd-af49a18e73b6"
      },
      "source": [
        "mid_career.head()"
      ],
      "execution_count": 41,
      "outputs": [
        {
          "output_type": "execute_result",
          "data": {
            "text/html": [
              "<div>\n",
              "<style scoped>\n",
              "    .dataframe tbody tr th:only-of-type {\n",
              "        vertical-align: middle;\n",
              "    }\n",
              "\n",
              "    .dataframe tbody tr th {\n",
              "        vertical-align: top;\n",
              "    }\n",
              "\n",
              "    .dataframe thead th {\n",
              "        text-align: right;\n",
              "    }\n",
              "</style>\n",
              "<table border=\"1\" class=\"dataframe\">\n",
              "  <thead>\n",
              "    <tr style=\"text-align: right;\">\n",
              "      <th></th>\n",
              "      <th>school_name</th>\n",
              "      <th>Mid-Career 10th Percentile Salary</th>\n",
              "      <th>Mid-Career 25th Percentile Salary</th>\n",
              "      <th>Mid-Career 75th Percentile Salary</th>\n",
              "      <th>Mid-Career 90th Percentile Salary</th>\n",
              "    </tr>\n",
              "  </thead>\n",
              "  <tbody>\n",
              "    <tr>\n",
              "      <th>0</th>\n",
              "      <td>Massachusetts Institute of Technology (MIT)</td>\n",
              "      <td>$76,800.00</td>\n",
              "      <td>$99,200.00</td>\n",
              "      <td>$168,000.00</td>\n",
              "      <td>$220,000.00</td>\n",
              "    </tr>\n",
              "    <tr>\n",
              "      <th>1</th>\n",
              "      <td>California Institute of Technology (CIT)</td>\n",
              "      <td>NaN</td>\n",
              "      <td>$104,000.00</td>\n",
              "      <td>$161,000.00</td>\n",
              "      <td>NaN</td>\n",
              "    </tr>\n",
              "    <tr>\n",
              "      <th>2</th>\n",
              "      <td>Harvey Mudd College</td>\n",
              "      <td>NaN</td>\n",
              "      <td>$96,000.00</td>\n",
              "      <td>$180,000.00</td>\n",
              "      <td>NaN</td>\n",
              "    </tr>\n",
              "    <tr>\n",
              "      <th>3</th>\n",
              "      <td>Polytechnic University of New York, Brooklyn</td>\n",
              "      <td>$66,800.00</td>\n",
              "      <td>$94,300.00</td>\n",
              "      <td>$143,000.00</td>\n",
              "      <td>$190,000.00</td>\n",
              "    </tr>\n",
              "    <tr>\n",
              "      <th>4</th>\n",
              "      <td>Cooper Union</td>\n",
              "      <td>NaN</td>\n",
              "      <td>$80,200.00</td>\n",
              "      <td>$142,000.00</td>\n",
              "      <td>NaN</td>\n",
              "    </tr>\n",
              "  </tbody>\n",
              "</table>\n",
              "</div>"
            ],
            "text/plain": [
              "                                    school_name  ... Mid-Career 90th Percentile Salary\n",
              "0   Massachusetts Institute of Technology (MIT)  ...                      $220,000.00 \n",
              "1      California Institute of Technology (CIT)  ...                               NaN\n",
              "2                           Harvey Mudd College  ...                               NaN\n",
              "3  Polytechnic University of New York, Brooklyn  ...                      $190,000.00 \n",
              "4                                  Cooper Union  ...                               NaN\n",
              "\n",
              "[5 rows x 5 columns]"
            ]
          },
          "metadata": {
            "tags": []
          },
          "execution_count": 41
        }
      ]
    },
    {
      "cell_type": "code",
      "metadata": {
        "colab": {
          "base_uri": "https://localhost:8080/",
          "height": 504
        },
        "id": "3Ehxa4hPt6OL",
        "outputId": "96c069d9-a9e9-4a71-efc2-fbee1d58b4ff"
      },
      "source": [
        "pd.merge(schools, mid_career, left_on='School Name', right_on='school_name').drop('school_name', axis=1)"
      ],
      "execution_count": 44,
      "outputs": [
        {
          "output_type": "execute_result",
          "data": {
            "text/html": [
              "<div>\n",
              "<style scoped>\n",
              "    .dataframe tbody tr th:only-of-type {\n",
              "        vertical-align: middle;\n",
              "    }\n",
              "\n",
              "    .dataframe tbody tr th {\n",
              "        vertical-align: top;\n",
              "    }\n",
              "\n",
              "    .dataframe thead th {\n",
              "        text-align: right;\n",
              "    }\n",
              "</style>\n",
              "<table border=\"1\" class=\"dataframe\">\n",
              "  <thead>\n",
              "    <tr style=\"text-align: right;\">\n",
              "      <th></th>\n",
              "      <th>School Name</th>\n",
              "      <th>School Type</th>\n",
              "      <th>Starting Median Salary</th>\n",
              "      <th>Mid-Career Median Salary</th>\n",
              "      <th>Mid-Career 10th Percentile Salary</th>\n",
              "      <th>Mid-Career 25th Percentile Salary</th>\n",
              "      <th>Mid-Career 75th Percentile Salary</th>\n",
              "      <th>Mid-Career 90th Percentile Salary</th>\n",
              "    </tr>\n",
              "  </thead>\n",
              "  <tbody>\n",
              "    <tr>\n",
              "      <th>0</th>\n",
              "      <td>Massachusetts Institute of Technology (MIT)</td>\n",
              "      <td>Engineering</td>\n",
              "      <td>$72,200.00</td>\n",
              "      <td>$126,000.00</td>\n",
              "      <td>$76,800.00</td>\n",
              "      <td>$99,200.00</td>\n",
              "      <td>$168,000.00</td>\n",
              "      <td>$220,000.00</td>\n",
              "    </tr>\n",
              "    <tr>\n",
              "      <th>1</th>\n",
              "      <td>California Institute of Technology (CIT)</td>\n",
              "      <td>Engineering</td>\n",
              "      <td>$75,500.00</td>\n",
              "      <td>$123,000.00</td>\n",
              "      <td>NaN</td>\n",
              "      <td>$104,000.00</td>\n",
              "      <td>$161,000.00</td>\n",
              "      <td>NaN</td>\n",
              "    </tr>\n",
              "    <tr>\n",
              "      <th>2</th>\n",
              "      <td>Harvey Mudd College</td>\n",
              "      <td>Engineering</td>\n",
              "      <td>$71,800.00</td>\n",
              "      <td>$122,000.00</td>\n",
              "      <td>NaN</td>\n",
              "      <td>$96,000.00</td>\n",
              "      <td>$180,000.00</td>\n",
              "      <td>NaN</td>\n",
              "    </tr>\n",
              "    <tr>\n",
              "      <th>3</th>\n",
              "      <td>Polytechnic University of New York, Brooklyn</td>\n",
              "      <td>Engineering</td>\n",
              "      <td>$62,400.00</td>\n",
              "      <td>$114,000.00</td>\n",
              "      <td>$66,800.00</td>\n",
              "      <td>$94,300.00</td>\n",
              "      <td>$143,000.00</td>\n",
              "      <td>$190,000.00</td>\n",
              "    </tr>\n",
              "    <tr>\n",
              "      <th>4</th>\n",
              "      <td>Cooper Union</td>\n",
              "      <td>Engineering</td>\n",
              "      <td>$62,200.00</td>\n",
              "      <td>$114,000.00</td>\n",
              "      <td>NaN</td>\n",
              "      <td>$80,200.00</td>\n",
              "      <td>$142,000.00</td>\n",
              "      <td>NaN</td>\n",
              "    </tr>\n",
              "    <tr>\n",
              "      <th>...</th>\n",
              "      <td>...</td>\n",
              "      <td>...</td>\n",
              "      <td>...</td>\n",
              "      <td>...</td>\n",
              "      <td>...</td>\n",
              "      <td>...</td>\n",
              "      <td>...</td>\n",
              "      <td>...</td>\n",
              "    </tr>\n",
              "    <tr>\n",
              "      <th>264</th>\n",
              "      <td>Harvard University</td>\n",
              "      <td>Ivy League</td>\n",
              "      <td>$63,400.00</td>\n",
              "      <td>$124,000.00</td>\n",
              "      <td>$54,800.00</td>\n",
              "      <td>$86,200.00</td>\n",
              "      <td>$179,000.00</td>\n",
              "      <td>$288,000.00</td>\n",
              "    </tr>\n",
              "    <tr>\n",
              "      <th>265</th>\n",
              "      <td>University of Pennsylvania</td>\n",
              "      <td>Ivy League</td>\n",
              "      <td>$60,900.00</td>\n",
              "      <td>$120,000.00</td>\n",
              "      <td>$55,900.00</td>\n",
              "      <td>$79,200.00</td>\n",
              "      <td>$192,000.00</td>\n",
              "      <td>$282,000.00</td>\n",
              "    </tr>\n",
              "    <tr>\n",
              "      <th>266</th>\n",
              "      <td>Cornell University</td>\n",
              "      <td>Ivy League</td>\n",
              "      <td>$60,300.00</td>\n",
              "      <td>$110,000.00</td>\n",
              "      <td>$56,800.00</td>\n",
              "      <td>$79,800.00</td>\n",
              "      <td>$160,000.00</td>\n",
              "      <td>$210,000.00</td>\n",
              "    </tr>\n",
              "    <tr>\n",
              "      <th>267</th>\n",
              "      <td>Brown University</td>\n",
              "      <td>Ivy League</td>\n",
              "      <td>$56,200.00</td>\n",
              "      <td>$109,000.00</td>\n",
              "      <td>$55,400.00</td>\n",
              "      <td>$74,400.00</td>\n",
              "      <td>$159,000.00</td>\n",
              "      <td>$228,000.00</td>\n",
              "    </tr>\n",
              "    <tr>\n",
              "      <th>268</th>\n",
              "      <td>Columbia University</td>\n",
              "      <td>Ivy League</td>\n",
              "      <td>$59,400.00</td>\n",
              "      <td>$107,000.00</td>\n",
              "      <td>$50,300.00</td>\n",
              "      <td>$71,900.00</td>\n",
              "      <td>$161,000.00</td>\n",
              "      <td>$241,000.00</td>\n",
              "    </tr>\n",
              "  </tbody>\n",
              "</table>\n",
              "<p>269 rows × 8 columns</p>\n",
              "</div>"
            ],
            "text/plain": [
              "                                      School Name  ... Mid-Career 90th Percentile Salary\n",
              "0     Massachusetts Institute of Technology (MIT)  ...                      $220,000.00 \n",
              "1        California Institute of Technology (CIT)  ...                               NaN\n",
              "2                             Harvey Mudd College  ...                               NaN\n",
              "3    Polytechnic University of New York, Brooklyn  ...                      $190,000.00 \n",
              "4                                    Cooper Union  ...                               NaN\n",
              "..                                            ...  ...                               ...\n",
              "264                            Harvard University  ...                      $288,000.00 \n",
              "265                    University of Pennsylvania  ...                      $282,000.00 \n",
              "266                            Cornell University  ...                      $210,000.00 \n",
              "267                              Brown University  ...                      $228,000.00 \n",
              "268                           Columbia University  ...                      $241,000.00 \n",
              "\n",
              "[269 rows x 8 columns]"
            ]
          },
          "metadata": {
            "tags": []
          },
          "execution_count": 44
        }
      ]
    },
    {
      "cell_type": "code",
      "metadata": {
        "colab": {
          "base_uri": "https://localhost:8080/",
          "height": 297
        },
        "id": "cPJUTTSCt98Y",
        "outputId": "e21b2751-0b80-4ddd-93b5-9161ea4b27f5"
      },
      "source": [
        "pd.merge(ivies,regions, how='inner')"
      ],
      "execution_count": 46,
      "outputs": [
        {
          "output_type": "execute_result",
          "data": {
            "text/html": [
              "<div>\n",
              "<style scoped>\n",
              "    .dataframe tbody tr th:only-of-type {\n",
              "        vertical-align: middle;\n",
              "    }\n",
              "\n",
              "    .dataframe tbody tr th {\n",
              "        vertical-align: top;\n",
              "    }\n",
              "\n",
              "    .dataframe thead th {\n",
              "        text-align: right;\n",
              "    }\n",
              "</style>\n",
              "<table border=\"1\" class=\"dataframe\">\n",
              "  <thead>\n",
              "    <tr style=\"text-align: right;\">\n",
              "      <th></th>\n",
              "      <th>School Name</th>\n",
              "      <th>School Type</th>\n",
              "      <th>Starting Median Salary</th>\n",
              "      <th>Mid-Career Median Salary</th>\n",
              "      <th>Region</th>\n",
              "    </tr>\n",
              "  </thead>\n",
              "  <tbody>\n",
              "    <tr>\n",
              "      <th>0</th>\n",
              "      <td>Dartmouth College</td>\n",
              "      <td>Ivy League</td>\n",
              "      <td>$58,000.00</td>\n",
              "      <td>$134,000.00</td>\n",
              "      <td>Northeastern</td>\n",
              "    </tr>\n",
              "    <tr>\n",
              "      <th>1</th>\n",
              "      <td>Princeton University</td>\n",
              "      <td>Ivy League</td>\n",
              "      <td>$66,500.00</td>\n",
              "      <td>$131,000.00</td>\n",
              "      <td>Northeastern</td>\n",
              "    </tr>\n",
              "    <tr>\n",
              "      <th>2</th>\n",
              "      <td>Yale University</td>\n",
              "      <td>Ivy League</td>\n",
              "      <td>$59,100.00</td>\n",
              "      <td>$126,000.00</td>\n",
              "      <td>Northeastern</td>\n",
              "    </tr>\n",
              "    <tr>\n",
              "      <th>3</th>\n",
              "      <td>Harvard University</td>\n",
              "      <td>Ivy League</td>\n",
              "      <td>$63,400.00</td>\n",
              "      <td>$124,000.00</td>\n",
              "      <td>Northeastern</td>\n",
              "    </tr>\n",
              "    <tr>\n",
              "      <th>4</th>\n",
              "      <td>University of Pennsylvania</td>\n",
              "      <td>Ivy League</td>\n",
              "      <td>$60,900.00</td>\n",
              "      <td>$120,000.00</td>\n",
              "      <td>Northeastern</td>\n",
              "    </tr>\n",
              "    <tr>\n",
              "      <th>5</th>\n",
              "      <td>Cornell University</td>\n",
              "      <td>Ivy League</td>\n",
              "      <td>$60,300.00</td>\n",
              "      <td>$110,000.00</td>\n",
              "      <td>Northeastern</td>\n",
              "    </tr>\n",
              "    <tr>\n",
              "      <th>6</th>\n",
              "      <td>Brown University</td>\n",
              "      <td>Ivy League</td>\n",
              "      <td>$56,200.00</td>\n",
              "      <td>$109,000.00</td>\n",
              "      <td>Northeastern</td>\n",
              "    </tr>\n",
              "    <tr>\n",
              "      <th>7</th>\n",
              "      <td>Columbia University</td>\n",
              "      <td>Ivy League</td>\n",
              "      <td>$59,400.00</td>\n",
              "      <td>$107,000.00</td>\n",
              "      <td>Northeastern</td>\n",
              "    </tr>\n",
              "  </tbody>\n",
              "</table>\n",
              "</div>"
            ],
            "text/plain": [
              "                  School Name  ...        Region\n",
              "0           Dartmouth College  ...  Northeastern\n",
              "1        Princeton University  ...  Northeastern\n",
              "2             Yale University  ...  Northeastern\n",
              "3          Harvard University  ...  Northeastern\n",
              "4  University of Pennsylvania  ...  Northeastern\n",
              "5          Cornell University  ...  Northeastern\n",
              "6            Brown University  ...  Northeastern\n",
              "7         Columbia University  ...  Northeastern\n",
              "\n",
              "[8 rows x 5 columns]"
            ]
          },
          "metadata": {
            "tags": []
          },
          "execution_count": 46
        }
      ]
    },
    {
      "cell_type": "code",
      "metadata": {
        "colab": {
          "base_uri": "https://localhost:8080/",
          "height": 419
        },
        "id": "w1JYd6AEt-Dr",
        "outputId": "ab335301-b737-4c4a-cc07-9ab4953eba9d"
      },
      "source": [
        "pd.merge(ivies,regions, how='outer')"
      ],
      "execution_count": 47,
      "outputs": [
        {
          "output_type": "execute_result",
          "data": {
            "text/html": [
              "<div>\n",
              "<style scoped>\n",
              "    .dataframe tbody tr th:only-of-type {\n",
              "        vertical-align: middle;\n",
              "    }\n",
              "\n",
              "    .dataframe tbody tr th {\n",
              "        vertical-align: top;\n",
              "    }\n",
              "\n",
              "    .dataframe thead th {\n",
              "        text-align: right;\n",
              "    }\n",
              "</style>\n",
              "<table border=\"1\" class=\"dataframe\">\n",
              "  <thead>\n",
              "    <tr style=\"text-align: right;\">\n",
              "      <th></th>\n",
              "      <th>School Name</th>\n",
              "      <th>School Type</th>\n",
              "      <th>Starting Median Salary</th>\n",
              "      <th>Mid-Career Median Salary</th>\n",
              "      <th>Region</th>\n",
              "    </tr>\n",
              "  </thead>\n",
              "  <tbody>\n",
              "    <tr>\n",
              "      <th>0</th>\n",
              "      <td>Dartmouth College</td>\n",
              "      <td>Ivy League</td>\n",
              "      <td>$58,000.00</td>\n",
              "      <td>$134,000.00</td>\n",
              "      <td>Northeastern</td>\n",
              "    </tr>\n",
              "    <tr>\n",
              "      <th>1</th>\n",
              "      <td>Princeton University</td>\n",
              "      <td>Ivy League</td>\n",
              "      <td>$66,500.00</td>\n",
              "      <td>$131,000.00</td>\n",
              "      <td>Northeastern</td>\n",
              "    </tr>\n",
              "    <tr>\n",
              "      <th>2</th>\n",
              "      <td>Yale University</td>\n",
              "      <td>Ivy League</td>\n",
              "      <td>$59,100.00</td>\n",
              "      <td>$126,000.00</td>\n",
              "      <td>Northeastern</td>\n",
              "    </tr>\n",
              "    <tr>\n",
              "      <th>3</th>\n",
              "      <td>Harvard University</td>\n",
              "      <td>Ivy League</td>\n",
              "      <td>$63,400.00</td>\n",
              "      <td>$124,000.00</td>\n",
              "      <td>Northeastern</td>\n",
              "    </tr>\n",
              "    <tr>\n",
              "      <th>4</th>\n",
              "      <td>University of Pennsylvania</td>\n",
              "      <td>Ivy League</td>\n",
              "      <td>$60,900.00</td>\n",
              "      <td>$120,000.00</td>\n",
              "      <td>Northeastern</td>\n",
              "    </tr>\n",
              "    <tr>\n",
              "      <th>...</th>\n",
              "      <td>...</td>\n",
              "      <td>...</td>\n",
              "      <td>...</td>\n",
              "      <td>...</td>\n",
              "      <td>...</td>\n",
              "    </tr>\n",
              "    <tr>\n",
              "      <th>264</th>\n",
              "      <td>Austin Peay State University</td>\n",
              "      <td>NaN</td>\n",
              "      <td>NaN</td>\n",
              "      <td>NaN</td>\n",
              "      <td>Southern</td>\n",
              "    </tr>\n",
              "    <tr>\n",
              "      <th>265</th>\n",
              "      <td>Pittsburg State University</td>\n",
              "      <td>NaN</td>\n",
              "      <td>NaN</td>\n",
              "      <td>NaN</td>\n",
              "      <td>Midwestern</td>\n",
              "    </tr>\n",
              "    <tr>\n",
              "      <th>266</th>\n",
              "      <td>Southern Utah University</td>\n",
              "      <td>NaN</td>\n",
              "      <td>NaN</td>\n",
              "      <td>NaN</td>\n",
              "      <td>Western</td>\n",
              "    </tr>\n",
              "    <tr>\n",
              "      <th>267</th>\n",
              "      <td>Montana State University - Billings</td>\n",
              "      <td>NaN</td>\n",
              "      <td>NaN</td>\n",
              "      <td>NaN</td>\n",
              "      <td>Western</td>\n",
              "    </tr>\n",
              "    <tr>\n",
              "      <th>268</th>\n",
              "      <td>Black Hills State University</td>\n",
              "      <td>NaN</td>\n",
              "      <td>NaN</td>\n",
              "      <td>NaN</td>\n",
              "      <td>Midwestern</td>\n",
              "    </tr>\n",
              "  </tbody>\n",
              "</table>\n",
              "<p>269 rows × 5 columns</p>\n",
              "</div>"
            ],
            "text/plain": [
              "                             School Name  ...        Region\n",
              "0                      Dartmouth College  ...  Northeastern\n",
              "1                   Princeton University  ...  Northeastern\n",
              "2                        Yale University  ...  Northeastern\n",
              "3                     Harvard University  ...  Northeastern\n",
              "4             University of Pennsylvania  ...  Northeastern\n",
              "..                                   ...  ...           ...\n",
              "264         Austin Peay State University  ...      Southern\n",
              "265           Pittsburg State University  ...    Midwestern\n",
              "266             Southern Utah University  ...       Western\n",
              "267  Montana State University - Billings  ...       Western\n",
              "268         Black Hills State University  ...    Midwestern\n",
              "\n",
              "[269 rows x 5 columns]"
            ]
          },
          "metadata": {
            "tags": []
          },
          "execution_count": 47
        }
      ]
    }
  ]
}