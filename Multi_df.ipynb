{
  "nbformat": 4,
  "nbformat_minor": 0,
  "metadata": {
    "colab": {
      "name": "Multi_df.ipynb",
      "provenance": [],
      "mount_file_id": "1QbWYMaYeWEQP30Pl9fMg0eVLj6YdTMQ0",
      "authorship_tag": "ABX9TyN5ksegJQ/lXKZXgT9ly25y",
      "include_colab_link": true
    },
    "kernelspec": {
      "name": "python3",
      "display_name": "Python 3"
    },
    "language_info": {
      "name": "python"
    }
  },
  "cells": [
    {
      "cell_type": "markdown",
      "metadata": {
        "id": "view-in-github",
        "colab_type": "text"
      },
      "source": [
        "<a href=\"https://colab.research.google.com/github/junio-firmino/Aprendizado_python/blob/master/Multi_df.ipynb\" target=\"_parent\"><img src=\"https://colab.research.google.com/assets/colab-badge.svg\" alt=\"Open In Colab\"/></a>"
      ]
    },
    {
      "cell_type": "code",
      "metadata": {
        "id": "zyLKC7UkGWvm"
      },
      "source": [
        "import pandas as pd\n",
        "import numpy as np\n",
        "\n"
      ],
      "execution_count": 1,
      "outputs": []
    },
    {
      "cell_type": "code",
      "metadata": {
        "id": "KhFy9x9EIJHB"
      },
      "source": [
        "eng_url = \"/content/drive/MyDrive/eng.csv\"\n",
        "state_url = \"/content/drive/MyDrive/state.csv\"\n",
        "liberal_url= \"/content/drive/MyDrive/liberal_arts.csv\"\n",
        "ivies_url = \"/content/drive/MyDrive/ivies.csv\"\n"
      ],
      "execution_count": 2,
      "outputs": []
    },
    {
      "cell_type": "code",
      "metadata": {
        "id": "wBD6YPZqI_hJ"
      },
      "source": [
        "eng = pd.read_csv(eng_url)"
      ],
      "execution_count": 3,
      "outputs": []
    },
    {
      "cell_type": "code",
      "metadata": {
        "id": "uveGDlyBJkLe"
      },
      "source": [
        "state = pd.read_csv(state_url)"
      ],
      "execution_count": 4,
      "outputs": []
    },
    {
      "cell_type": "code",
      "metadata": {
        "id": "9Hsym6DoJkg6"
      },
      "source": [
        "liberal = pd.read_csv(liberal_url)"
      ],
      "execution_count": 5,
      "outputs": []
    },
    {
      "cell_type": "code",
      "metadata": {
        "id": "AONhriwjJWiL"
      },
      "source": [
        "ivies = pd.read_csv(ivies_url)\n"
      ],
      "execution_count": 6,
      "outputs": []
    },
    {
      "cell_type": "code",
      "metadata": {
        "id": "HFhNMUkvK0PP"
      },
      "source": [
        "dfs = [eng,state,liberal,ivies]\n"
      ],
      "execution_count": 7,
      "outputs": []
    },
    {
      "cell_type": "code",
      "metadata": {
        "colab": {
          "base_uri": "https://localhost:8080/",
          "height": 419
        },
        "id": "rEm4Ll18LpeP",
        "outputId": "9c2b82c4-9258-45f8-850f-773b22667d9f"
      },
      "source": [
        "pd.concat(dfs)"
      ],
      "execution_count": 8,
      "outputs": [
        {
          "output_type": "execute_result",
          "data": {
            "text/html": [
              "<div>\n",
              "<style scoped>\n",
              "    .dataframe tbody tr th:only-of-type {\n",
              "        vertical-align: middle;\n",
              "    }\n",
              "\n",
              "    .dataframe tbody tr th {\n",
              "        vertical-align: top;\n",
              "    }\n",
              "\n",
              "    .dataframe thead th {\n",
              "        text-align: right;\n",
              "    }\n",
              "</style>\n",
              "<table border=\"1\" class=\"dataframe\">\n",
              "  <thead>\n",
              "    <tr style=\"text-align: right;\">\n",
              "      <th></th>\n",
              "      <th>School Name</th>\n",
              "      <th>School Type</th>\n",
              "      <th>Starting Median Salary</th>\n",
              "      <th>Mid-Career Median Salary</th>\n",
              "    </tr>\n",
              "  </thead>\n",
              "  <tbody>\n",
              "    <tr>\n",
              "      <th>0</th>\n",
              "      <td>Massachusetts Institute of Technology (MIT)</td>\n",
              "      <td>Engineering</td>\n",
              "      <td>$72,200.00</td>\n",
              "      <td>$126,000.00</td>\n",
              "    </tr>\n",
              "    <tr>\n",
              "      <th>1</th>\n",
              "      <td>California Institute of Technology (CIT)</td>\n",
              "      <td>Engineering</td>\n",
              "      <td>$75,500.00</td>\n",
              "      <td>$123,000.00</td>\n",
              "    </tr>\n",
              "    <tr>\n",
              "      <th>2</th>\n",
              "      <td>Harvey Mudd College</td>\n",
              "      <td>Engineering</td>\n",
              "      <td>$71,800.00</td>\n",
              "      <td>$122,000.00</td>\n",
              "    </tr>\n",
              "    <tr>\n",
              "      <th>3</th>\n",
              "      <td>Polytechnic University of New York, Brooklyn</td>\n",
              "      <td>Engineering</td>\n",
              "      <td>$62,400.00</td>\n",
              "      <td>$114,000.00</td>\n",
              "    </tr>\n",
              "    <tr>\n",
              "      <th>4</th>\n",
              "      <td>Cooper Union</td>\n",
              "      <td>Engineering</td>\n",
              "      <td>$62,200.00</td>\n",
              "      <td>$114,000.00</td>\n",
              "    </tr>\n",
              "    <tr>\n",
              "      <th>...</th>\n",
              "      <td>...</td>\n",
              "      <td>...</td>\n",
              "      <td>...</td>\n",
              "      <td>...</td>\n",
              "    </tr>\n",
              "    <tr>\n",
              "      <th>3</th>\n",
              "      <td>Harvard University</td>\n",
              "      <td>Ivy League</td>\n",
              "      <td>$63,400.00</td>\n",
              "      <td>$124,000.00</td>\n",
              "    </tr>\n",
              "    <tr>\n",
              "      <th>4</th>\n",
              "      <td>University of Pennsylvania</td>\n",
              "      <td>Ivy League</td>\n",
              "      <td>$60,900.00</td>\n",
              "      <td>$120,000.00</td>\n",
              "    </tr>\n",
              "    <tr>\n",
              "      <th>5</th>\n",
              "      <td>Cornell University</td>\n",
              "      <td>Ivy League</td>\n",
              "      <td>$60,300.00</td>\n",
              "      <td>$110,000.00</td>\n",
              "    </tr>\n",
              "    <tr>\n",
              "      <th>6</th>\n",
              "      <td>Brown University</td>\n",
              "      <td>Ivy League</td>\n",
              "      <td>$56,200.00</td>\n",
              "      <td>$109,000.00</td>\n",
              "    </tr>\n",
              "    <tr>\n",
              "      <th>7</th>\n",
              "      <td>Columbia University</td>\n",
              "      <td>Ivy League</td>\n",
              "      <td>$59,400.00</td>\n",
              "      <td>$107,000.00</td>\n",
              "    </tr>\n",
              "  </tbody>\n",
              "</table>\n",
              "<p>249 rows × 4 columns</p>\n",
              "</div>"
            ],
            "text/plain": [
              "                                     School Name  ... Mid-Career Median Salary\n",
              "0    Massachusetts Institute of Technology (MIT)  ...             $126,000.00 \n",
              "1       California Institute of Technology (CIT)  ...             $123,000.00 \n",
              "2                            Harvey Mudd College  ...             $122,000.00 \n",
              "3   Polytechnic University of New York, Brooklyn  ...             $114,000.00 \n",
              "4                                   Cooper Union  ...             $114,000.00 \n",
              "..                                           ...  ...                      ...\n",
              "3                             Harvard University  ...             $124,000.00 \n",
              "4                     University of Pennsylvania  ...             $120,000.00 \n",
              "5                             Cornell University  ...             $110,000.00 \n",
              "6                               Brown University  ...             $109,000.00 \n",
              "7                            Columbia University  ...             $107,000.00 \n",
              "\n",
              "[249 rows x 4 columns]"
            ]
          },
          "metadata": {
            "tags": []
          },
          "execution_count": 8
        }
      ]
    },
    {
      "cell_type": "code",
      "metadata": {
        "colab": {
          "base_uri": "https://localhost:8080/",
          "height": 638
        },
        "id": "1Rs6xMl_7-sp",
        "outputId": "e93e2e0b-6072-4eb8-98a5-19bb16431de3"
      },
      "source": [
        "eng"
      ],
      "execution_count": 9,
      "outputs": [
        {
          "output_type": "execute_result",
          "data": {
            "text/html": [
              "<div>\n",
              "<style scoped>\n",
              "    .dataframe tbody tr th:only-of-type {\n",
              "        vertical-align: middle;\n",
              "    }\n",
              "\n",
              "    .dataframe tbody tr th {\n",
              "        vertical-align: top;\n",
              "    }\n",
              "\n",
              "    .dataframe thead th {\n",
              "        text-align: right;\n",
              "    }\n",
              "</style>\n",
              "<table border=\"1\" class=\"dataframe\">\n",
              "  <thead>\n",
              "    <tr style=\"text-align: right;\">\n",
              "      <th></th>\n",
              "      <th>School Name</th>\n",
              "      <th>School Type</th>\n",
              "      <th>Starting Median Salary</th>\n",
              "      <th>Mid-Career Median Salary</th>\n",
              "    </tr>\n",
              "  </thead>\n",
              "  <tbody>\n",
              "    <tr>\n",
              "      <th>0</th>\n",
              "      <td>Massachusetts Institute of Technology (MIT)</td>\n",
              "      <td>Engineering</td>\n",
              "      <td>$72,200.00</td>\n",
              "      <td>$126,000.00</td>\n",
              "    </tr>\n",
              "    <tr>\n",
              "      <th>1</th>\n",
              "      <td>California Institute of Technology (CIT)</td>\n",
              "      <td>Engineering</td>\n",
              "      <td>$75,500.00</td>\n",
              "      <td>$123,000.00</td>\n",
              "    </tr>\n",
              "    <tr>\n",
              "      <th>2</th>\n",
              "      <td>Harvey Mudd College</td>\n",
              "      <td>Engineering</td>\n",
              "      <td>$71,800.00</td>\n",
              "      <td>$122,000.00</td>\n",
              "    </tr>\n",
              "    <tr>\n",
              "      <th>3</th>\n",
              "      <td>Polytechnic University of New York, Brooklyn</td>\n",
              "      <td>Engineering</td>\n",
              "      <td>$62,400.00</td>\n",
              "      <td>$114,000.00</td>\n",
              "    </tr>\n",
              "    <tr>\n",
              "      <th>4</th>\n",
              "      <td>Cooper Union</td>\n",
              "      <td>Engineering</td>\n",
              "      <td>$62,200.00</td>\n",
              "      <td>$114,000.00</td>\n",
              "    </tr>\n",
              "    <tr>\n",
              "      <th>5</th>\n",
              "      <td>Worcester Polytechnic Institute (WPI)</td>\n",
              "      <td>Engineering</td>\n",
              "      <td>$61,000.00</td>\n",
              "      <td>$114,000.00</td>\n",
              "    </tr>\n",
              "    <tr>\n",
              "      <th>6</th>\n",
              "      <td>Carnegie Mellon University (CMU)</td>\n",
              "      <td>Engineering</td>\n",
              "      <td>$61,800.00</td>\n",
              "      <td>$111,000.00</td>\n",
              "    </tr>\n",
              "    <tr>\n",
              "      <th>7</th>\n",
              "      <td>Rensselaer Polytechnic Institute (RPI)</td>\n",
              "      <td>Engineering</td>\n",
              "      <td>$61,100.00</td>\n",
              "      <td>$110,000.00</td>\n",
              "    </tr>\n",
              "    <tr>\n",
              "      <th>8</th>\n",
              "      <td>Georgia Institute of Technology</td>\n",
              "      <td>Engineering</td>\n",
              "      <td>$58,300.00</td>\n",
              "      <td>$106,000.00</td>\n",
              "    </tr>\n",
              "    <tr>\n",
              "      <th>9</th>\n",
              "      <td>Colorado School of Mines</td>\n",
              "      <td>Engineering</td>\n",
              "      <td>$58,100.00</td>\n",
              "      <td>$106,000.00</td>\n",
              "    </tr>\n",
              "    <tr>\n",
              "      <th>10</th>\n",
              "      <td>Stevens Institute of Technology</td>\n",
              "      <td>Engineering</td>\n",
              "      <td>$60,600.00</td>\n",
              "      <td>$105,000.00</td>\n",
              "    </tr>\n",
              "    <tr>\n",
              "      <th>11</th>\n",
              "      <td>Illinois Institute of Technology (IIT)</td>\n",
              "      <td>Engineering</td>\n",
              "      <td>$56,000.00</td>\n",
              "      <td>$97,800.00</td>\n",
              "    </tr>\n",
              "    <tr>\n",
              "      <th>12</th>\n",
              "      <td>Wentworth Institute of Technology</td>\n",
              "      <td>Engineering</td>\n",
              "      <td>$53,000.00</td>\n",
              "      <td>$96,700.00</td>\n",
              "    </tr>\n",
              "    <tr>\n",
              "      <th>13</th>\n",
              "      <td>Virginia Polytechnic Institute and State Unive...</td>\n",
              "      <td>Engineering</td>\n",
              "      <td>$53,500.00</td>\n",
              "      <td>$95,400.00</td>\n",
              "    </tr>\n",
              "    <tr>\n",
              "      <th>14</th>\n",
              "      <td>South Dakota School of Mines &amp; Technology</td>\n",
              "      <td>Engineering</td>\n",
              "      <td>$55,800.00</td>\n",
              "      <td>$93,400.00</td>\n",
              "    </tr>\n",
              "    <tr>\n",
              "      <th>15</th>\n",
              "      <td>New Mexico Institute of Mining and Technology ...</td>\n",
              "      <td>Engineering</td>\n",
              "      <td>$51,000.00</td>\n",
              "      <td>$93,400.00</td>\n",
              "    </tr>\n",
              "    <tr>\n",
              "      <th>16</th>\n",
              "      <td>Rochester Institute of Technology (RIT)</td>\n",
              "      <td>Engineering</td>\n",
              "      <td>$48,900.00</td>\n",
              "      <td>$84,600.00</td>\n",
              "    </tr>\n",
              "    <tr>\n",
              "      <th>17</th>\n",
              "      <td>Embry-Riddle Aeronautical University (ERAU)</td>\n",
              "      <td>Engineering</td>\n",
              "      <td>$52,700.00</td>\n",
              "      <td>$80,700.00</td>\n",
              "    </tr>\n",
              "    <tr>\n",
              "      <th>18</th>\n",
              "      <td>Tennessee Technological University</td>\n",
              "      <td>Engineering</td>\n",
              "      <td>$46,200.00</td>\n",
              "      <td>$80,000.00</td>\n",
              "    </tr>\n",
              "  </tbody>\n",
              "</table>\n",
              "</div>"
            ],
            "text/plain": [
              "                                          School Name  ... Mid-Career Median Salary\n",
              "0         Massachusetts Institute of Technology (MIT)  ...             $126,000.00 \n",
              "1            California Institute of Technology (CIT)  ...             $123,000.00 \n",
              "2                                 Harvey Mudd College  ...             $122,000.00 \n",
              "3        Polytechnic University of New York, Brooklyn  ...             $114,000.00 \n",
              "4                                        Cooper Union  ...             $114,000.00 \n",
              "5               Worcester Polytechnic Institute (WPI)  ...             $114,000.00 \n",
              "6                    Carnegie Mellon University (CMU)  ...             $111,000.00 \n",
              "7              Rensselaer Polytechnic Institute (RPI)  ...             $110,000.00 \n",
              "8                     Georgia Institute of Technology  ...             $106,000.00 \n",
              "9                            Colorado School of Mines  ...             $106,000.00 \n",
              "10                    Stevens Institute of Technology  ...             $105,000.00 \n",
              "11             Illinois Institute of Technology (IIT)  ...              $97,800.00 \n",
              "12                  Wentworth Institute of Technology  ...              $96,700.00 \n",
              "13  Virginia Polytechnic Institute and State Unive...  ...              $95,400.00 \n",
              "14          South Dakota School of Mines & Technology  ...              $93,400.00 \n",
              "15  New Mexico Institute of Mining and Technology ...  ...              $93,400.00 \n",
              "16            Rochester Institute of Technology (RIT)  ...              $84,600.00 \n",
              "17        Embry-Riddle Aeronautical University (ERAU)  ...              $80,700.00 \n",
              "18                 Tennessee Technological University  ...              $80,000.00 \n",
              "\n",
              "[19 rows x 4 columns]"
            ]
          },
          "metadata": {
            "tags": []
          },
          "execution_count": 9
        }
      ]
    },
    {
      "cell_type": "code",
      "metadata": {
        "colab": {
          "base_uri": "https://localhost:8080/"
        },
        "id": "XJalwsALR6B4",
        "outputId": "c940564e-0bef-42c4-8e7a-9d5f71c1bd8f"
      },
      "source": [
        "eng.shape"
      ],
      "execution_count": 10,
      "outputs": [
        {
          "output_type": "execute_result",
          "data": {
            "text/plain": [
              "(19, 4)"
            ]
          },
          "metadata": {
            "tags": []
          },
          "execution_count": 10
        }
      ]
    },
    {
      "cell_type": "code",
      "metadata": {
        "colab": {
          "base_uri": "https://localhost:8080/"
        },
        "id": "sLGxhipW8C1r",
        "outputId": "7816d300-0245-4ddf-8533-e8cbfc119b23"
      },
      "source": [
        "state.shape"
      ],
      "execution_count": 11,
      "outputs": [
        {
          "output_type": "execute_result",
          "data": {
            "text/plain": [
              "(175, 4)"
            ]
          },
          "metadata": {
            "tags": []
          },
          "execution_count": 11
        }
      ]
    },
    {
      "cell_type": "code",
      "metadata": {
        "colab": {
          "base_uri": "https://localhost:8080/"
        },
        "id": "vPU5CprDMB7u",
        "outputId": "89194800-ec2a-45a5-a975-7df329caf003"
      },
      "source": [
        "set(eng['School Name']).difference(state['School Name'])   # Pensar que este comando serve para descobrir os objetos de uma lista que não estão na outra lista de comparação."
      ],
      "execution_count": 12,
      "outputs": [
        {
          "output_type": "execute_result",
          "data": {
            "text/plain": [
              "{'California Institute of Technology (CIT)',\n",
              " 'Carnegie Mellon University (CMU)',\n",
              " 'Colorado School of Mines',\n",
              " 'Cooper Union',\n",
              " 'Embry-Riddle Aeronautical University (ERAU)',\n",
              " 'Georgia Institute of Technology',\n",
              " 'Harvey Mudd College',\n",
              " 'Illinois Institute of Technology (IIT)',\n",
              " 'Massachusetts Institute of Technology (MIT)',\n",
              " 'New Mexico Institute of Mining and Technology (New Mexico Tech)',\n",
              " 'Polytechnic University of New York, Brooklyn',\n",
              " 'Rensselaer Polytechnic Institute (RPI)',\n",
              " 'Rochester Institute of Technology (RIT)',\n",
              " 'South Dakota School of Mines & Technology',\n",
              " 'Stevens Institute of Technology',\n",
              " 'Tennessee Technological University',\n",
              " 'Virginia Polytechnic Institute and State University (Virginia Tech)',\n",
              " 'Wentworth Institute of Technology',\n",
              " 'Worcester Polytechnic Institute (WPI)'}"
            ]
          },
          "metadata": {
            "tags": []
          },
          "execution_count": 12
        }
      ]
    },
    {
      "cell_type": "code",
      "metadata": {
        "colab": {
          "base_uri": "https://localhost:8080/"
        },
        "id": "pIhpIAp6GCq-",
        "outputId": "f06d5d82-c8e6-46f4-f3e5-aaef0f467371"
      },
      "source": [
        "len(set(eng['School Name']).difference(state['School Name']))"
      ],
      "execution_count": 13,
      "outputs": [
        {
          "output_type": "execute_result",
          "data": {
            "text/plain": [
              "19"
            ]
          },
          "metadata": {
            "tags": []
          },
          "execution_count": 13
        }
      ]
    },
    {
      "cell_type": "code",
      "metadata": {
        "colab": {
          "base_uri": "https://localhost:8080/"
        },
        "id": "icIDTK-JNOY_",
        "outputId": "d690fb3a-2133-43f5-d48c-3fa4271fdcc0"
      },
      "source": [
        "'Cooper Union' in ivies['School Name'].values"
      ],
      "execution_count": 14,
      "outputs": [
        {
          "output_type": "execute_result",
          "data": {
            "text/plain": [
              "False"
            ]
          },
          "metadata": {
            "tags": []
          },
          "execution_count": 14
        }
      ]
    },
    {
      "cell_type": "code",
      "metadata": {
        "id": "XurytAY6Ns7h"
      },
      "source": [
        "schools = pd.concat(dfs).drop_duplicates(subset=['School Name'], keep='first')"
      ],
      "execution_count": 15,
      "outputs": []
    },
    {
      "cell_type": "code",
      "metadata": {
        "colab": {
          "base_uri": "https://localhost:8080/",
          "height": 111
        },
        "id": "rows3Jw1O3os",
        "outputId": "f60dc4ce-e2cf-4b44-d856-171b822ad88f"
      },
      "source": [
        "schools.loc[19]"
      ],
      "execution_count": 16,
      "outputs": [
        {
          "output_type": "execute_result",
          "data": {
            "text/html": [
              "<div>\n",
              "<style scoped>\n",
              "    .dataframe tbody tr th:only-of-type {\n",
              "        vertical-align: middle;\n",
              "    }\n",
              "\n",
              "    .dataframe tbody tr th {\n",
              "        vertical-align: top;\n",
              "    }\n",
              "\n",
              "    .dataframe thead th {\n",
              "        text-align: right;\n",
              "    }\n",
              "</style>\n",
              "<table border=\"1\" class=\"dataframe\">\n",
              "  <thead>\n",
              "    <tr style=\"text-align: right;\">\n",
              "      <th></th>\n",
              "      <th>School Name</th>\n",
              "      <th>School Type</th>\n",
              "      <th>Starting Median Salary</th>\n",
              "      <th>Mid-Career Median Salary</th>\n",
              "    </tr>\n",
              "  </thead>\n",
              "  <tbody>\n",
              "    <tr>\n",
              "      <th>19</th>\n",
              "      <td>Rutgers University</td>\n",
              "      <td>State</td>\n",
              "      <td>$50,300.00</td>\n",
              "      <td>$91,800.00</td>\n",
              "    </tr>\n",
              "    <tr>\n",
              "      <th>19</th>\n",
              "      <td>Mount Holyoke College</td>\n",
              "      <td>Liberal Arts</td>\n",
              "      <td>$42,400.00</td>\n",
              "      <td>$94,100.00</td>\n",
              "    </tr>\n",
              "  </tbody>\n",
              "</table>\n",
              "</div>"
            ],
            "text/plain": [
              "              School Name  ... Mid-Career Median Salary\n",
              "19     Rutgers University  ...              $91,800.00 \n",
              "19  Mount Holyoke College  ...              $94,100.00 \n",
              "\n",
              "[2 rows x 4 columns]"
            ]
          },
          "metadata": {
            "tags": []
          },
          "execution_count": 16
        }
      ]
    },
    {
      "cell_type": "code",
      "metadata": {
        "id": "4nGpNixRRRFe"
      },
      "source": [
        "schools_1 = schools.reset_index(drop=True)"
      ],
      "execution_count": 17,
      "outputs": []
    },
    {
      "cell_type": "code",
      "metadata": {
        "colab": {
          "base_uri": "https://localhost:8080/"
        },
        "id": "FUZNPZRJScOS",
        "outputId": "6ac883b2-5fc3-4631-b851-38257dc83bdb"
      },
      "source": [
        "schools_1.duplicated().sum()"
      ],
      "execution_count": 18,
      "outputs": [
        {
          "output_type": "execute_result",
          "data": {
            "text/plain": [
              "0"
            ]
          },
          "metadata": {
            "tags": []
          },
          "execution_count": 18
        }
      ]
    },
    {
      "cell_type": "code",
      "metadata": {
        "colab": {
          "base_uri": "https://localhost:8080/",
          "height": 419
        },
        "id": "JTHfSoKoTVRi",
        "outputId": "186f4662-3640-4fd1-dd52-5b96cc4934b7"
      },
      "source": [
        "schools_1"
      ],
      "execution_count": 19,
      "outputs": [
        {
          "output_type": "execute_result",
          "data": {
            "text/html": [
              "<div>\n",
              "<style scoped>\n",
              "    .dataframe tbody tr th:only-of-type {\n",
              "        vertical-align: middle;\n",
              "    }\n",
              "\n",
              "    .dataframe tbody tr th {\n",
              "        vertical-align: top;\n",
              "    }\n",
              "\n",
              "    .dataframe thead th {\n",
              "        text-align: right;\n",
              "    }\n",
              "</style>\n",
              "<table border=\"1\" class=\"dataframe\">\n",
              "  <thead>\n",
              "    <tr style=\"text-align: right;\">\n",
              "      <th></th>\n",
              "      <th>School Name</th>\n",
              "      <th>School Type</th>\n",
              "      <th>Starting Median Salary</th>\n",
              "      <th>Mid-Career Median Salary</th>\n",
              "    </tr>\n",
              "  </thead>\n",
              "  <tbody>\n",
              "    <tr>\n",
              "      <th>0</th>\n",
              "      <td>Massachusetts Institute of Technology (MIT)</td>\n",
              "      <td>Engineering</td>\n",
              "      <td>$72,200.00</td>\n",
              "      <td>$126,000.00</td>\n",
              "    </tr>\n",
              "    <tr>\n",
              "      <th>1</th>\n",
              "      <td>California Institute of Technology (CIT)</td>\n",
              "      <td>Engineering</td>\n",
              "      <td>$75,500.00</td>\n",
              "      <td>$123,000.00</td>\n",
              "    </tr>\n",
              "    <tr>\n",
              "      <th>2</th>\n",
              "      <td>Harvey Mudd College</td>\n",
              "      <td>Engineering</td>\n",
              "      <td>$71,800.00</td>\n",
              "      <td>$122,000.00</td>\n",
              "    </tr>\n",
              "    <tr>\n",
              "      <th>3</th>\n",
              "      <td>Polytechnic University of New York, Brooklyn</td>\n",
              "      <td>Engineering</td>\n",
              "      <td>$62,400.00</td>\n",
              "      <td>$114,000.00</td>\n",
              "    </tr>\n",
              "    <tr>\n",
              "      <th>4</th>\n",
              "      <td>Cooper Union</td>\n",
              "      <td>Engineering</td>\n",
              "      <td>$62,200.00</td>\n",
              "      <td>$114,000.00</td>\n",
              "    </tr>\n",
              "    <tr>\n",
              "      <th>...</th>\n",
              "      <td>...</td>\n",
              "      <td>...</td>\n",
              "      <td>...</td>\n",
              "      <td>...</td>\n",
              "    </tr>\n",
              "    <tr>\n",
              "      <th>244</th>\n",
              "      <td>Harvard University</td>\n",
              "      <td>Ivy League</td>\n",
              "      <td>$63,400.00</td>\n",
              "      <td>$124,000.00</td>\n",
              "    </tr>\n",
              "    <tr>\n",
              "      <th>245</th>\n",
              "      <td>University of Pennsylvania</td>\n",
              "      <td>Ivy League</td>\n",
              "      <td>$60,900.00</td>\n",
              "      <td>$120,000.00</td>\n",
              "    </tr>\n",
              "    <tr>\n",
              "      <th>246</th>\n",
              "      <td>Cornell University</td>\n",
              "      <td>Ivy League</td>\n",
              "      <td>$60,300.00</td>\n",
              "      <td>$110,000.00</td>\n",
              "    </tr>\n",
              "    <tr>\n",
              "      <th>247</th>\n",
              "      <td>Brown University</td>\n",
              "      <td>Ivy League</td>\n",
              "      <td>$56,200.00</td>\n",
              "      <td>$109,000.00</td>\n",
              "    </tr>\n",
              "    <tr>\n",
              "      <th>248</th>\n",
              "      <td>Columbia University</td>\n",
              "      <td>Ivy League</td>\n",
              "      <td>$59,400.00</td>\n",
              "      <td>$107,000.00</td>\n",
              "    </tr>\n",
              "  </tbody>\n",
              "</table>\n",
              "<p>249 rows × 4 columns</p>\n",
              "</div>"
            ],
            "text/plain": [
              "                                      School Name  ... Mid-Career Median Salary\n",
              "0     Massachusetts Institute of Technology (MIT)  ...             $126,000.00 \n",
              "1        California Institute of Technology (CIT)  ...             $123,000.00 \n",
              "2                             Harvey Mudd College  ...             $122,000.00 \n",
              "3    Polytechnic University of New York, Brooklyn  ...             $114,000.00 \n",
              "4                                    Cooper Union  ...             $114,000.00 \n",
              "..                                            ...  ...                      ...\n",
              "244                            Harvard University  ...             $124,000.00 \n",
              "245                    University of Pennsylvania  ...             $120,000.00 \n",
              "246                            Cornell University  ...             $110,000.00 \n",
              "247                              Brown University  ...             $109,000.00 \n",
              "248                           Columbia University  ...             $107,000.00 \n",
              "\n",
              "[249 rows x 4 columns]"
            ]
          },
          "metadata": {
            "tags": []
          },
          "execution_count": 19
        }
      ]
    },
    {
      "cell_type": "code",
      "metadata": {
        "colab": {
          "base_uri": "https://localhost:8080/",
          "height": 419
        },
        "id": "k-zPa9NbSxCA",
        "outputId": "360ef9df-1d98-4a67-f5c4-e17e687503fd"
      },
      "source": [
        "pd.concat(dfs, ignore_index=True).drop_duplicates(subset=['School Name'], keep='first')"
      ],
      "execution_count": 20,
      "outputs": [
        {
          "output_type": "execute_result",
          "data": {
            "text/html": [
              "<div>\n",
              "<style scoped>\n",
              "    .dataframe tbody tr th:only-of-type {\n",
              "        vertical-align: middle;\n",
              "    }\n",
              "\n",
              "    .dataframe tbody tr th {\n",
              "        vertical-align: top;\n",
              "    }\n",
              "\n",
              "    .dataframe thead th {\n",
              "        text-align: right;\n",
              "    }\n",
              "</style>\n",
              "<table border=\"1\" class=\"dataframe\">\n",
              "  <thead>\n",
              "    <tr style=\"text-align: right;\">\n",
              "      <th></th>\n",
              "      <th>School Name</th>\n",
              "      <th>School Type</th>\n",
              "      <th>Starting Median Salary</th>\n",
              "      <th>Mid-Career Median Salary</th>\n",
              "    </tr>\n",
              "  </thead>\n",
              "  <tbody>\n",
              "    <tr>\n",
              "      <th>0</th>\n",
              "      <td>Massachusetts Institute of Technology (MIT)</td>\n",
              "      <td>Engineering</td>\n",
              "      <td>$72,200.00</td>\n",
              "      <td>$126,000.00</td>\n",
              "    </tr>\n",
              "    <tr>\n",
              "      <th>1</th>\n",
              "      <td>California Institute of Technology (CIT)</td>\n",
              "      <td>Engineering</td>\n",
              "      <td>$75,500.00</td>\n",
              "      <td>$123,000.00</td>\n",
              "    </tr>\n",
              "    <tr>\n",
              "      <th>2</th>\n",
              "      <td>Harvey Mudd College</td>\n",
              "      <td>Engineering</td>\n",
              "      <td>$71,800.00</td>\n",
              "      <td>$122,000.00</td>\n",
              "    </tr>\n",
              "    <tr>\n",
              "      <th>3</th>\n",
              "      <td>Polytechnic University of New York, Brooklyn</td>\n",
              "      <td>Engineering</td>\n",
              "      <td>$62,400.00</td>\n",
              "      <td>$114,000.00</td>\n",
              "    </tr>\n",
              "    <tr>\n",
              "      <th>4</th>\n",
              "      <td>Cooper Union</td>\n",
              "      <td>Engineering</td>\n",
              "      <td>$62,200.00</td>\n",
              "      <td>$114,000.00</td>\n",
              "    </tr>\n",
              "    <tr>\n",
              "      <th>...</th>\n",
              "      <td>...</td>\n",
              "      <td>...</td>\n",
              "      <td>...</td>\n",
              "      <td>...</td>\n",
              "    </tr>\n",
              "    <tr>\n",
              "      <th>244</th>\n",
              "      <td>Harvard University</td>\n",
              "      <td>Ivy League</td>\n",
              "      <td>$63,400.00</td>\n",
              "      <td>$124,000.00</td>\n",
              "    </tr>\n",
              "    <tr>\n",
              "      <th>245</th>\n",
              "      <td>University of Pennsylvania</td>\n",
              "      <td>Ivy League</td>\n",
              "      <td>$60,900.00</td>\n",
              "      <td>$120,000.00</td>\n",
              "    </tr>\n",
              "    <tr>\n",
              "      <th>246</th>\n",
              "      <td>Cornell University</td>\n",
              "      <td>Ivy League</td>\n",
              "      <td>$60,300.00</td>\n",
              "      <td>$110,000.00</td>\n",
              "    </tr>\n",
              "    <tr>\n",
              "      <th>247</th>\n",
              "      <td>Brown University</td>\n",
              "      <td>Ivy League</td>\n",
              "      <td>$56,200.00</td>\n",
              "      <td>$109,000.00</td>\n",
              "    </tr>\n",
              "    <tr>\n",
              "      <th>248</th>\n",
              "      <td>Columbia University</td>\n",
              "      <td>Ivy League</td>\n",
              "      <td>$59,400.00</td>\n",
              "      <td>$107,000.00</td>\n",
              "    </tr>\n",
              "  </tbody>\n",
              "</table>\n",
              "<p>249 rows × 4 columns</p>\n",
              "</div>"
            ],
            "text/plain": [
              "                                      School Name  ... Mid-Career Median Salary\n",
              "0     Massachusetts Institute of Technology (MIT)  ...             $126,000.00 \n",
              "1        California Institute of Technology (CIT)  ...             $123,000.00 \n",
              "2                             Harvey Mudd College  ...             $122,000.00 \n",
              "3    Polytechnic University of New York, Brooklyn  ...             $114,000.00 \n",
              "4                                    Cooper Union  ...             $114,000.00 \n",
              "..                                            ...  ...                      ...\n",
              "244                            Harvard University  ...             $124,000.00 \n",
              "245                    University of Pennsylvania  ...             $120,000.00 \n",
              "246                            Cornell University  ...             $110,000.00 \n",
              "247                              Brown University  ...             $109,000.00 \n",
              "248                           Columbia University  ...             $107,000.00 \n",
              "\n",
              "[249 rows x 4 columns]"
            ]
          },
          "metadata": {
            "tags": []
          },
          "execution_count": 20
        }
      ]
    },
    {
      "cell_type": "code",
      "metadata": {
        "id": "kb5KNxozu34L"
      },
      "source": [
        "ivies2 = ivies.set_index( 'School Name')"
      ],
      "execution_count": 21,
      "outputs": []
    },
    {
      "cell_type": "code",
      "metadata": {
        "id": "G-OVXkaSvXnI"
      },
      "source": [
        "eng2 = eng.set_index('School Name')"
      ],
      "execution_count": 22,
      "outputs": []
    },
    {
      "cell_type": "code",
      "metadata": {
        "colab": {
          "base_uri": "https://localhost:8080/",
          "height": 917
        },
        "id": "D8v1I1pZvnlf",
        "outputId": "3869ed32-179a-4f87-9853-99ef7a8533aa"
      },
      "source": [
        "pd.concat([ivies2,eng2], verify_integrity=True)"
      ],
      "execution_count": 23,
      "outputs": [
        {
          "output_type": "execute_result",
          "data": {
            "text/html": [
              "<div>\n",
              "<style scoped>\n",
              "    .dataframe tbody tr th:only-of-type {\n",
              "        vertical-align: middle;\n",
              "    }\n",
              "\n",
              "    .dataframe tbody tr th {\n",
              "        vertical-align: top;\n",
              "    }\n",
              "\n",
              "    .dataframe thead th {\n",
              "        text-align: right;\n",
              "    }\n",
              "</style>\n",
              "<table border=\"1\" class=\"dataframe\">\n",
              "  <thead>\n",
              "    <tr style=\"text-align: right;\">\n",
              "      <th></th>\n",
              "      <th>School Type</th>\n",
              "      <th>Starting Median Salary</th>\n",
              "      <th>Mid-Career Median Salary</th>\n",
              "    </tr>\n",
              "    <tr>\n",
              "      <th>School Name</th>\n",
              "      <th></th>\n",
              "      <th></th>\n",
              "      <th></th>\n",
              "    </tr>\n",
              "  </thead>\n",
              "  <tbody>\n",
              "    <tr>\n",
              "      <th>Dartmouth College</th>\n",
              "      <td>Ivy League</td>\n",
              "      <td>$58,000.00</td>\n",
              "      <td>$134,000.00</td>\n",
              "    </tr>\n",
              "    <tr>\n",
              "      <th>Princeton University</th>\n",
              "      <td>Ivy League</td>\n",
              "      <td>$66,500.00</td>\n",
              "      <td>$131,000.00</td>\n",
              "    </tr>\n",
              "    <tr>\n",
              "      <th>Yale University</th>\n",
              "      <td>Ivy League</td>\n",
              "      <td>$59,100.00</td>\n",
              "      <td>$126,000.00</td>\n",
              "    </tr>\n",
              "    <tr>\n",
              "      <th>Harvard University</th>\n",
              "      <td>Ivy League</td>\n",
              "      <td>$63,400.00</td>\n",
              "      <td>$124,000.00</td>\n",
              "    </tr>\n",
              "    <tr>\n",
              "      <th>University of Pennsylvania</th>\n",
              "      <td>Ivy League</td>\n",
              "      <td>$60,900.00</td>\n",
              "      <td>$120,000.00</td>\n",
              "    </tr>\n",
              "    <tr>\n",
              "      <th>Cornell University</th>\n",
              "      <td>Ivy League</td>\n",
              "      <td>$60,300.00</td>\n",
              "      <td>$110,000.00</td>\n",
              "    </tr>\n",
              "    <tr>\n",
              "      <th>Brown University</th>\n",
              "      <td>Ivy League</td>\n",
              "      <td>$56,200.00</td>\n",
              "      <td>$109,000.00</td>\n",
              "    </tr>\n",
              "    <tr>\n",
              "      <th>Columbia University</th>\n",
              "      <td>Ivy League</td>\n",
              "      <td>$59,400.00</td>\n",
              "      <td>$107,000.00</td>\n",
              "    </tr>\n",
              "    <tr>\n",
              "      <th>Massachusetts Institute of Technology (MIT)</th>\n",
              "      <td>Engineering</td>\n",
              "      <td>$72,200.00</td>\n",
              "      <td>$126,000.00</td>\n",
              "    </tr>\n",
              "    <tr>\n",
              "      <th>California Institute of Technology (CIT)</th>\n",
              "      <td>Engineering</td>\n",
              "      <td>$75,500.00</td>\n",
              "      <td>$123,000.00</td>\n",
              "    </tr>\n",
              "    <tr>\n",
              "      <th>Harvey Mudd College</th>\n",
              "      <td>Engineering</td>\n",
              "      <td>$71,800.00</td>\n",
              "      <td>$122,000.00</td>\n",
              "    </tr>\n",
              "    <tr>\n",
              "      <th>Polytechnic University of New York, Brooklyn</th>\n",
              "      <td>Engineering</td>\n",
              "      <td>$62,400.00</td>\n",
              "      <td>$114,000.00</td>\n",
              "    </tr>\n",
              "    <tr>\n",
              "      <th>Cooper Union</th>\n",
              "      <td>Engineering</td>\n",
              "      <td>$62,200.00</td>\n",
              "      <td>$114,000.00</td>\n",
              "    </tr>\n",
              "    <tr>\n",
              "      <th>Worcester Polytechnic Institute (WPI)</th>\n",
              "      <td>Engineering</td>\n",
              "      <td>$61,000.00</td>\n",
              "      <td>$114,000.00</td>\n",
              "    </tr>\n",
              "    <tr>\n",
              "      <th>Carnegie Mellon University (CMU)</th>\n",
              "      <td>Engineering</td>\n",
              "      <td>$61,800.00</td>\n",
              "      <td>$111,000.00</td>\n",
              "    </tr>\n",
              "    <tr>\n",
              "      <th>Rensselaer Polytechnic Institute (RPI)</th>\n",
              "      <td>Engineering</td>\n",
              "      <td>$61,100.00</td>\n",
              "      <td>$110,000.00</td>\n",
              "    </tr>\n",
              "    <tr>\n",
              "      <th>Georgia Institute of Technology</th>\n",
              "      <td>Engineering</td>\n",
              "      <td>$58,300.00</td>\n",
              "      <td>$106,000.00</td>\n",
              "    </tr>\n",
              "    <tr>\n",
              "      <th>Colorado School of Mines</th>\n",
              "      <td>Engineering</td>\n",
              "      <td>$58,100.00</td>\n",
              "      <td>$106,000.00</td>\n",
              "    </tr>\n",
              "    <tr>\n",
              "      <th>Stevens Institute of Technology</th>\n",
              "      <td>Engineering</td>\n",
              "      <td>$60,600.00</td>\n",
              "      <td>$105,000.00</td>\n",
              "    </tr>\n",
              "    <tr>\n",
              "      <th>Illinois Institute of Technology (IIT)</th>\n",
              "      <td>Engineering</td>\n",
              "      <td>$56,000.00</td>\n",
              "      <td>$97,800.00</td>\n",
              "    </tr>\n",
              "    <tr>\n",
              "      <th>Wentworth Institute of Technology</th>\n",
              "      <td>Engineering</td>\n",
              "      <td>$53,000.00</td>\n",
              "      <td>$96,700.00</td>\n",
              "    </tr>\n",
              "    <tr>\n",
              "      <th>Virginia Polytechnic Institute and State University (Virginia Tech)</th>\n",
              "      <td>Engineering</td>\n",
              "      <td>$53,500.00</td>\n",
              "      <td>$95,400.00</td>\n",
              "    </tr>\n",
              "    <tr>\n",
              "      <th>South Dakota School of Mines &amp; Technology</th>\n",
              "      <td>Engineering</td>\n",
              "      <td>$55,800.00</td>\n",
              "      <td>$93,400.00</td>\n",
              "    </tr>\n",
              "    <tr>\n",
              "      <th>New Mexico Institute of Mining and Technology (New Mexico Tech)</th>\n",
              "      <td>Engineering</td>\n",
              "      <td>$51,000.00</td>\n",
              "      <td>$93,400.00</td>\n",
              "    </tr>\n",
              "    <tr>\n",
              "      <th>Rochester Institute of Technology (RIT)</th>\n",
              "      <td>Engineering</td>\n",
              "      <td>$48,900.00</td>\n",
              "      <td>$84,600.00</td>\n",
              "    </tr>\n",
              "    <tr>\n",
              "      <th>Embry-Riddle Aeronautical University (ERAU)</th>\n",
              "      <td>Engineering</td>\n",
              "      <td>$52,700.00</td>\n",
              "      <td>$80,700.00</td>\n",
              "    </tr>\n",
              "    <tr>\n",
              "      <th>Tennessee Technological University</th>\n",
              "      <td>Engineering</td>\n",
              "      <td>$46,200.00</td>\n",
              "      <td>$80,000.00</td>\n",
              "    </tr>\n",
              "  </tbody>\n",
              "</table>\n",
              "</div>"
            ],
            "text/plain": [
              "                                                    School Type  ... Mid-Career Median Salary\n",
              "School Name                                                      ...                         \n",
              "Dartmouth College                                    Ivy League  ...             $134,000.00 \n",
              "Princeton University                                 Ivy League  ...             $131,000.00 \n",
              "Yale University                                      Ivy League  ...             $126,000.00 \n",
              "Harvard University                                   Ivy League  ...             $124,000.00 \n",
              "University of Pennsylvania                           Ivy League  ...             $120,000.00 \n",
              "Cornell University                                   Ivy League  ...             $110,000.00 \n",
              "Brown University                                     Ivy League  ...             $109,000.00 \n",
              "Columbia University                                  Ivy League  ...             $107,000.00 \n",
              "Massachusetts Institute of Technology (MIT)         Engineering  ...             $126,000.00 \n",
              "California Institute of Technology (CIT)            Engineering  ...             $123,000.00 \n",
              "Harvey Mudd College                                 Engineering  ...             $122,000.00 \n",
              "Polytechnic University of New York, Brooklyn        Engineering  ...             $114,000.00 \n",
              "Cooper Union                                        Engineering  ...             $114,000.00 \n",
              "Worcester Polytechnic Institute (WPI)               Engineering  ...             $114,000.00 \n",
              "Carnegie Mellon University (CMU)                    Engineering  ...             $111,000.00 \n",
              "Rensselaer Polytechnic Institute (RPI)              Engineering  ...             $110,000.00 \n",
              "Georgia Institute of Technology                     Engineering  ...             $106,000.00 \n",
              "Colorado School of Mines                            Engineering  ...             $106,000.00 \n",
              "Stevens Institute of Technology                     Engineering  ...             $105,000.00 \n",
              "Illinois Institute of Technology (IIT)              Engineering  ...              $97,800.00 \n",
              "Wentworth Institute of Technology                   Engineering  ...              $96,700.00 \n",
              "Virginia Polytechnic Institute and State Univer...  Engineering  ...              $95,400.00 \n",
              "South Dakota School of Mines & Technology           Engineering  ...              $93,400.00 \n",
              "New Mexico Institute of Mining and Technology (...  Engineering  ...              $93,400.00 \n",
              "Rochester Institute of Technology (RIT)             Engineering  ...              $84,600.00 \n",
              "Embry-Riddle Aeronautical University (ERAU)         Engineering  ...              $80,700.00 \n",
              "Tennessee Technological University                  Engineering  ...              $80,000.00 \n",
              "\n",
              "[27 rows x 3 columns]"
            ]
          },
          "metadata": {
            "tags": []
          },
          "execution_count": 23
        }
      ]
    },
    {
      "cell_type": "code",
      "metadata": {
        "id": "iSMbVl1CwANi"
      },
      "source": [
        "school_name_index = pd.concat([ivies2,eng2])"
      ],
      "execution_count": 24,
      "outputs": []
    },
    {
      "cell_type": "code",
      "metadata": {
        "id": "lrd4atWLyYlz"
      },
      "source": [
        " random_rows = ivies2.sample()"
      ],
      "execution_count": 25,
      "outputs": []
    },
    {
      "cell_type": "code",
      "metadata": {
        "colab": {
          "base_uri": "https://localhost:8080/",
          "height": 111
        },
        "id": "FXTU1dgbyx2K",
        "outputId": "8ea293e4-3ab2-4700-b8cd-ceff96ec6a3d"
      },
      "source": [
        "random_rows"
      ],
      "execution_count": 26,
      "outputs": [
        {
          "output_type": "execute_result",
          "data": {
            "text/html": [
              "<div>\n",
              "<style scoped>\n",
              "    .dataframe tbody tr th:only-of-type {\n",
              "        vertical-align: middle;\n",
              "    }\n",
              "\n",
              "    .dataframe tbody tr th {\n",
              "        vertical-align: top;\n",
              "    }\n",
              "\n",
              "    .dataframe thead th {\n",
              "        text-align: right;\n",
              "    }\n",
              "</style>\n",
              "<table border=\"1\" class=\"dataframe\">\n",
              "  <thead>\n",
              "    <tr style=\"text-align: right;\">\n",
              "      <th></th>\n",
              "      <th>School Type</th>\n",
              "      <th>Starting Median Salary</th>\n",
              "      <th>Mid-Career Median Salary</th>\n",
              "    </tr>\n",
              "    <tr>\n",
              "      <th>School Name</th>\n",
              "      <th></th>\n",
              "      <th></th>\n",
              "      <th></th>\n",
              "    </tr>\n",
              "  </thead>\n",
              "  <tbody>\n",
              "    <tr>\n",
              "      <th>Brown University</th>\n",
              "      <td>Ivy League</td>\n",
              "      <td>$56,200.00</td>\n",
              "      <td>$109,000.00</td>\n",
              "    </tr>\n",
              "  </tbody>\n",
              "</table>\n",
              "</div>"
            ],
            "text/plain": [
              "                 School Type Starting Median Salary Mid-Career Median Salary\n",
              "School Name                                                                 \n",
              "Brown University  Ivy League            $56,200.00              $109,000.00 "
            ]
          },
          "metadata": {
            "tags": []
          },
          "execution_count": 26
        }
      ]
    },
    {
      "cell_type": "code",
      "metadata": {
        "id": "v_70z9R8z06Z"
      },
      "source": [
        "eng3 = eng2.append(random_rows)"
      ],
      "execution_count": 27,
      "outputs": []
    },
    {
      "cell_type": "code",
      "metadata": {
        "id": "3wIsJk0-zFP4"
      },
      "source": [
        "concat_ivies2_eng3 = pd.concat([ivies2,eng3])"
      ],
      "execution_count": 28,
      "outputs": []
    },
    {
      "cell_type": "code",
      "metadata": {
        "colab": {
          "base_uri": "https://localhost:8080/"
        },
        "id": "jp1fdwcd0HVu",
        "outputId": "b86cfcb6-5347-4985-998c-323f43014c2f"
      },
      "source": [
        "concat_ivies2_eng3.duplicated()"
      ],
      "execution_count": 29,
      "outputs": [
        {
          "output_type": "execute_result",
          "data": {
            "text/plain": [
              "School Name\n",
              "Dartmouth College                                                      False\n",
              "Princeton University                                                   False\n",
              "Yale University                                                        False\n",
              "Harvard University                                                     False\n",
              "University of Pennsylvania                                             False\n",
              "Cornell University                                                     False\n",
              "Brown University                                                       False\n",
              "Columbia University                                                    False\n",
              "Massachusetts Institute of Technology (MIT)                            False\n",
              "California Institute of Technology (CIT)                               False\n",
              "Harvey Mudd College                                                    False\n",
              "Polytechnic University of New York, Brooklyn                           False\n",
              "Cooper Union                                                           False\n",
              "Worcester Polytechnic Institute (WPI)                                  False\n",
              "Carnegie Mellon University (CMU)                                       False\n",
              "Rensselaer Polytechnic Institute (RPI)                                 False\n",
              "Georgia Institute of Technology                                        False\n",
              "Colorado School of Mines                                               False\n",
              "Stevens Institute of Technology                                        False\n",
              "Illinois Institute of Technology (IIT)                                 False\n",
              "Wentworth Institute of Technology                                      False\n",
              "Virginia Polytechnic Institute and State University (Virginia Tech)    False\n",
              "South Dakota School of Mines & Technology                              False\n",
              "New Mexico Institute of Mining and Technology (New Mexico Tech)        False\n",
              "Rochester Institute of Technology (RIT)                                False\n",
              "Embry-Riddle Aeronautical University (ERAU)                            False\n",
              "Tennessee Technological University                                     False\n",
              "Brown University                                                        True\n",
              "dtype: bool"
            ]
          },
          "metadata": {
            "tags": []
          },
          "execution_count": 29
        }
      ]
    },
    {
      "cell_type": "code",
      "metadata": {
        "id": "1kgfYtHmpHHr"
      },
      "source": [
        "dfc = pd.concat([liberal,state])"
      ],
      "execution_count": 30,
      "outputs": []
    },
    {
      "cell_type": "code",
      "metadata": {
        "colab": {
          "base_uri": "https://localhost:8080/",
          "height": 204
        },
        "id": "COZ5YZI6paWw",
        "outputId": "73bac988-299f-4029-f5b1-1787c497dc53"
      },
      "source": [
        "dfc.head()"
      ],
      "execution_count": 31,
      "outputs": [
        {
          "output_type": "execute_result",
          "data": {
            "text/html": [
              "<div>\n",
              "<style scoped>\n",
              "    .dataframe tbody tr th:only-of-type {\n",
              "        vertical-align: middle;\n",
              "    }\n",
              "\n",
              "    .dataframe tbody tr th {\n",
              "        vertical-align: top;\n",
              "    }\n",
              "\n",
              "    .dataframe thead th {\n",
              "        text-align: right;\n",
              "    }\n",
              "</style>\n",
              "<table border=\"1\" class=\"dataframe\">\n",
              "  <thead>\n",
              "    <tr style=\"text-align: right;\">\n",
              "      <th></th>\n",
              "      <th>School Name</th>\n",
              "      <th>School Type</th>\n",
              "      <th>Starting Median Salary</th>\n",
              "      <th>Mid-Career Median Salary</th>\n",
              "    </tr>\n",
              "  </thead>\n",
              "  <tbody>\n",
              "    <tr>\n",
              "      <th>0</th>\n",
              "      <td>Bucknell University</td>\n",
              "      <td>Liberal Arts</td>\n",
              "      <td>$54,100.00</td>\n",
              "      <td>$110,000.00</td>\n",
              "    </tr>\n",
              "    <tr>\n",
              "      <th>1</th>\n",
              "      <td>Colgate University</td>\n",
              "      <td>Liberal Arts</td>\n",
              "      <td>$52,800.00</td>\n",
              "      <td>$108,000.00</td>\n",
              "    </tr>\n",
              "    <tr>\n",
              "      <th>2</th>\n",
              "      <td>Amherst College</td>\n",
              "      <td>Liberal Arts</td>\n",
              "      <td>$54,500.00</td>\n",
              "      <td>$107,000.00</td>\n",
              "    </tr>\n",
              "    <tr>\n",
              "      <th>3</th>\n",
              "      <td>Lafayette College</td>\n",
              "      <td>Liberal Arts</td>\n",
              "      <td>$53,900.00</td>\n",
              "      <td>$107,000.00</td>\n",
              "    </tr>\n",
              "    <tr>\n",
              "      <th>4</th>\n",
              "      <td>Bowdoin College</td>\n",
              "      <td>Liberal Arts</td>\n",
              "      <td>$48,100.00</td>\n",
              "      <td>$107,000.00</td>\n",
              "    </tr>\n",
              "  </tbody>\n",
              "</table>\n",
              "</div>"
            ],
            "text/plain": [
              "           School Name  ... Mid-Career Median Salary\n",
              "0  Bucknell University  ...             $110,000.00 \n",
              "1   Colgate University  ...             $108,000.00 \n",
              "2      Amherst College  ...             $107,000.00 \n",
              "3    Lafayette College  ...             $107,000.00 \n",
              "4      Bowdoin College  ...             $107,000.00 \n",
              "\n",
              "[5 rows x 4 columns]"
            ]
          },
          "metadata": {
            "tags": []
          },
          "execution_count": 31
        }
      ]
    },
    {
      "cell_type": "code",
      "metadata": {
        "colab": {
          "base_uri": "https://localhost:8080/"
        },
        "id": "dF4Y35Vwpe7l",
        "outputId": "8ca81f22-731b-4ef2-a292-058515fff017"
      },
      "source": [
        " dfc.nunique()"
      ],
      "execution_count": 32,
      "outputs": [
        {
          "output_type": "execute_result",
          "data": {
            "text/plain": [
              "School Name                 222\n",
              "School Type                   2\n",
              "Starting Median Salary      122\n",
              "Mid-Career Median Salary    155\n",
              "dtype: int64"
            ]
          },
          "metadata": {
            "tags": []
          },
          "execution_count": 32
        }
      ]
    },
    {
      "cell_type": "markdown",
      "metadata": {
        "id": "Xz2ysBezuqkl"
      },
      "source": [
        ""
      ]
    },
    {
      "cell_type": "code",
      "metadata": {
        "colab": {
          "base_uri": "https://localhost:8080/"
        },
        "id": "oqnHzS1osWsG",
        "outputId": "cfcb6cb7-05ed-4fda-f867-e23369ef92a5"
      },
      "source": [
        "dfc.iloc[:,3].replace('\\$|,','',regex=True).astype(float).mean()"
      ],
      "execution_count": 33,
      "outputs": [
        {
          "output_type": "execute_result",
          "data": {
            "text/plain": [
              "80856.3063063063"
            ]
          },
          "metadata": {
            "tags": []
          },
          "execution_count": 33
        }
      ]
    },
    {
      "cell_type": "code",
      "metadata": {
        "id": "mrOEIJ-yvIiW"
      },
      "source": [
        "liberal2 = liberal.sort_values(by=['Mid-Career Median Salary'],ascending=False).iloc[:3].reset_index(drop=True)"
      ],
      "execution_count": 34,
      "outputs": []
    },
    {
      "cell_type": "code",
      "metadata": {
        "id": "qpno3O1uvki4"
      },
      "source": [
        "state2 = state.sort_values(by=['Mid-Career Median Salary'],ascending=False).iloc[:3].reset_index(drop=True)"
      ],
      "execution_count": 35,
      "outputs": []
    },
    {
      "cell_type": "code",
      "metadata": {
        "colab": {
          "base_uri": "https://localhost:8080/",
          "height": 241
        },
        "id": "_oeZ9OCmvkuV",
        "outputId": "e36396cc-7254-4f4e-ee1a-357ae390304e"
      },
      "source": [
        "pd.concat([liberal2,state2],axis=1, keys=['Liberal Arts','State'],sort=False)"
      ],
      "execution_count": 36,
      "outputs": [
        {
          "output_type": "execute_result",
          "data": {
            "text/html": [
              "<div>\n",
              "<style scoped>\n",
              "    .dataframe tbody tr th:only-of-type {\n",
              "        vertical-align: middle;\n",
              "    }\n",
              "\n",
              "    .dataframe tbody tr th {\n",
              "        vertical-align: top;\n",
              "    }\n",
              "\n",
              "    .dataframe thead tr th {\n",
              "        text-align: left;\n",
              "    }\n",
              "</style>\n",
              "<table border=\"1\" class=\"dataframe\">\n",
              "  <thead>\n",
              "    <tr>\n",
              "      <th></th>\n",
              "      <th colspan=\"4\" halign=\"left\">Liberal Arts</th>\n",
              "      <th colspan=\"4\" halign=\"left\">State</th>\n",
              "    </tr>\n",
              "    <tr>\n",
              "      <th></th>\n",
              "      <th>School Name</th>\n",
              "      <th>School Type</th>\n",
              "      <th>Starting Median Salary</th>\n",
              "      <th>Mid-Career Median Salary</th>\n",
              "      <th>School Name</th>\n",
              "      <th>School Type</th>\n",
              "      <th>Starting Median Salary</th>\n",
              "      <th>Mid-Career Median Salary</th>\n",
              "    </tr>\n",
              "  </thead>\n",
              "  <tbody>\n",
              "    <tr>\n",
              "      <th>0</th>\n",
              "      <td>Wesleyan University (Middletown, Connecticut)</td>\n",
              "      <td>Liberal Arts</td>\n",
              "      <td>$46,500.00</td>\n",
              "      <td>$97,900.00</td>\n",
              "      <td>University of California, Davis</td>\n",
              "      <td>State</td>\n",
              "      <td>$52,300.00</td>\n",
              "      <td>$99,600.00</td>\n",
              "    </tr>\n",
              "    <tr>\n",
              "      <th>1</th>\n",
              "      <td>Bates College</td>\n",
              "      <td>Liberal Arts</td>\n",
              "      <td>$47,300.00</td>\n",
              "      <td>$96,500.00</td>\n",
              "      <td>University of Colorado - Boulder (UCB)</td>\n",
              "      <td>State</td>\n",
              "      <td>$47,100.00</td>\n",
              "      <td>$97,600.00</td>\n",
              "    </tr>\n",
              "    <tr>\n",
              "      <th>2</th>\n",
              "      <td>Union College</td>\n",
              "      <td>Liberal Arts</td>\n",
              "      <td>$47,200.00</td>\n",
              "      <td>$95,800.00</td>\n",
              "      <td>University of California, Irvine (UCI)</td>\n",
              "      <td>State</td>\n",
              "      <td>$48,300.00</td>\n",
              "      <td>$96,700.00</td>\n",
              "    </tr>\n",
              "  </tbody>\n",
              "</table>\n",
              "</div>"
            ],
            "text/plain": [
              "                                    Liberal Arts  ...                    State\n",
              "                                     School Name  ... Mid-Career Median Salary\n",
              "0  Wesleyan University (Middletown, Connecticut)  ...              $99,600.00 \n",
              "1                                  Bates College  ...              $97,600.00 \n",
              "2                                  Union College  ...              $96,700.00 \n",
              "\n",
              "[3 rows x 8 columns]"
            ]
          },
          "metadata": {
            "tags": []
          },
          "execution_count": 36
        }
      ]
    },
    {
      "cell_type": "code",
      "metadata": {
        "id": "Ew9qV0bMqxS8"
      },
      "source": [
        "regions_url = '/content/drive/MyDrive/regions.csv'"
      ],
      "execution_count": 37,
      "outputs": []
    },
    {
      "cell_type": "code",
      "metadata": {
        "id": "iO8Ju83irQPV"
      },
      "source": [
        "regions = pd.read_csv(regions_url)"
      ],
      "execution_count": 38,
      "outputs": []
    },
    {
      "cell_type": "code",
      "metadata": {
        "colab": {
          "base_uri": "https://localhost:8080/",
          "height": 204
        },
        "id": "TC_hdkMwrXWn",
        "outputId": "a71bd8ca-5ced-40ce-c198-dae4551d8e17"
      },
      "source": [
        "regions.head()"
      ],
      "execution_count": 65,
      "outputs": [
        {
          "output_type": "execute_result",
          "data": {
            "text/html": [
              "<div>\n",
              "<style scoped>\n",
              "    .dataframe tbody tr th:only-of-type {\n",
              "        vertical-align: middle;\n",
              "    }\n",
              "\n",
              "    .dataframe tbody tr th {\n",
              "        vertical-align: top;\n",
              "    }\n",
              "\n",
              "    .dataframe thead th {\n",
              "        text-align: right;\n",
              "    }\n",
              "</style>\n",
              "<table border=\"1\" class=\"dataframe\">\n",
              "  <thead>\n",
              "    <tr style=\"text-align: right;\">\n",
              "      <th></th>\n",
              "      <th>School Name</th>\n",
              "      <th>Region</th>\n",
              "    </tr>\n",
              "  </thead>\n",
              "  <tbody>\n",
              "    <tr>\n",
              "      <th>0</th>\n",
              "      <td>Massachusetts Institute of Technology (MIT)</td>\n",
              "      <td>Northeastern</td>\n",
              "    </tr>\n",
              "    <tr>\n",
              "      <th>1</th>\n",
              "      <td>California Institute of Technology (CIT)</td>\n",
              "      <td>California</td>\n",
              "    </tr>\n",
              "    <tr>\n",
              "      <th>2</th>\n",
              "      <td>Harvey Mudd College</td>\n",
              "      <td>California</td>\n",
              "    </tr>\n",
              "    <tr>\n",
              "      <th>3</th>\n",
              "      <td>Polytechnic University of New York, Brooklyn</td>\n",
              "      <td>Northeastern</td>\n",
              "    </tr>\n",
              "    <tr>\n",
              "      <th>4</th>\n",
              "      <td>Cooper Union</td>\n",
              "      <td>Northeastern</td>\n",
              "    </tr>\n",
              "  </tbody>\n",
              "</table>\n",
              "</div>"
            ],
            "text/plain": [
              "                                    School Name        Region\n",
              "0   Massachusetts Institute of Technology (MIT)  Northeastern\n",
              "1      California Institute of Technology (CIT)    California\n",
              "2                           Harvey Mudd College    California\n",
              "3  Polytechnic University of New York, Brooklyn  Northeastern\n",
              "4                                  Cooper Union  Northeastern"
            ]
          },
          "metadata": {
            "tags": []
          },
          "execution_count": 65
        }
      ]
    },
    {
      "cell_type": "code",
      "metadata": {
        "colab": {
          "base_uri": "https://localhost:8080/",
          "height": 142
        },
        "id": "Ww2yVLEjgZch",
        "outputId": "4675d935-4e66-4a58-ab44-8039f572e34a"
      },
      "source": [
        "ivies.head(3)"
      ],
      "execution_count": 66,
      "outputs": [
        {
          "output_type": "execute_result",
          "data": {
            "text/html": [
              "<div>\n",
              "<style scoped>\n",
              "    .dataframe tbody tr th:only-of-type {\n",
              "        vertical-align: middle;\n",
              "    }\n",
              "\n",
              "    .dataframe tbody tr th {\n",
              "        vertical-align: top;\n",
              "    }\n",
              "\n",
              "    .dataframe thead th {\n",
              "        text-align: right;\n",
              "    }\n",
              "</style>\n",
              "<table border=\"1\" class=\"dataframe\">\n",
              "  <thead>\n",
              "    <tr style=\"text-align: right;\">\n",
              "      <th></th>\n",
              "      <th>School Name</th>\n",
              "      <th>School Type</th>\n",
              "      <th>Starting Median Salary</th>\n",
              "      <th>Mid-Career Median Salary</th>\n",
              "    </tr>\n",
              "  </thead>\n",
              "  <tbody>\n",
              "    <tr>\n",
              "      <th>0</th>\n",
              "      <td>Dartmouth College</td>\n",
              "      <td>Ivy League</td>\n",
              "      <td>$58,000.00</td>\n",
              "      <td>$134,000.00</td>\n",
              "    </tr>\n",
              "    <tr>\n",
              "      <th>1</th>\n",
              "      <td>Princeton University</td>\n",
              "      <td>Ivy League</td>\n",
              "      <td>$66,500.00</td>\n",
              "      <td>$131,000.00</td>\n",
              "    </tr>\n",
              "    <tr>\n",
              "      <th>2</th>\n",
              "      <td>Yale University</td>\n",
              "      <td>Ivy League</td>\n",
              "      <td>$59,100.00</td>\n",
              "      <td>$126,000.00</td>\n",
              "    </tr>\n",
              "  </tbody>\n",
              "</table>\n",
              "</div>"
            ],
            "text/plain": [
              "            School Name  ... Mid-Career Median Salary\n",
              "0     Dartmouth College  ...             $134,000.00 \n",
              "1  Princeton University  ...             $131,000.00 \n",
              "2       Yale University  ...             $126,000.00 \n",
              "\n",
              "[3 rows x 4 columns]"
            ]
          },
          "metadata": {
            "tags": []
          },
          "execution_count": 66
        }
      ]
    },
    {
      "cell_type": "code",
      "metadata": {
        "colab": {
          "base_uri": "https://localhost:8080/",
          "height": 297
        },
        "id": "xo2pUSqwgfV4",
        "outputId": "4e24e48d-9cab-4a6d-e54a-16edeab1aaa1"
      },
      "source": [
        "pd.merge(ivies,regions, how='inner', on='School Name')"
      ],
      "execution_count": 69,
      "outputs": [
        {
          "output_type": "execute_result",
          "data": {
            "text/html": [
              "<div>\n",
              "<style scoped>\n",
              "    .dataframe tbody tr th:only-of-type {\n",
              "        vertical-align: middle;\n",
              "    }\n",
              "\n",
              "    .dataframe tbody tr th {\n",
              "        vertical-align: top;\n",
              "    }\n",
              "\n",
              "    .dataframe thead th {\n",
              "        text-align: right;\n",
              "    }\n",
              "</style>\n",
              "<table border=\"1\" class=\"dataframe\">\n",
              "  <thead>\n",
              "    <tr style=\"text-align: right;\">\n",
              "      <th></th>\n",
              "      <th>School Name</th>\n",
              "      <th>School Type</th>\n",
              "      <th>Starting Median Salary</th>\n",
              "      <th>Mid-Career Median Salary</th>\n",
              "      <th>Region</th>\n",
              "    </tr>\n",
              "  </thead>\n",
              "  <tbody>\n",
              "    <tr>\n",
              "      <th>0</th>\n",
              "      <td>Dartmouth College</td>\n",
              "      <td>Ivy League</td>\n",
              "      <td>$58,000.00</td>\n",
              "      <td>$134,000.00</td>\n",
              "      <td>Northeastern</td>\n",
              "    </tr>\n",
              "    <tr>\n",
              "      <th>1</th>\n",
              "      <td>Princeton University</td>\n",
              "      <td>Ivy League</td>\n",
              "      <td>$66,500.00</td>\n",
              "      <td>$131,000.00</td>\n",
              "      <td>Northeastern</td>\n",
              "    </tr>\n",
              "    <tr>\n",
              "      <th>2</th>\n",
              "      <td>Yale University</td>\n",
              "      <td>Ivy League</td>\n",
              "      <td>$59,100.00</td>\n",
              "      <td>$126,000.00</td>\n",
              "      <td>Northeastern</td>\n",
              "    </tr>\n",
              "    <tr>\n",
              "      <th>3</th>\n",
              "      <td>Harvard University</td>\n",
              "      <td>Ivy League</td>\n",
              "      <td>$63,400.00</td>\n",
              "      <td>$124,000.00</td>\n",
              "      <td>Northeastern</td>\n",
              "    </tr>\n",
              "    <tr>\n",
              "      <th>4</th>\n",
              "      <td>University of Pennsylvania</td>\n",
              "      <td>Ivy League</td>\n",
              "      <td>$60,900.00</td>\n",
              "      <td>$120,000.00</td>\n",
              "      <td>Northeastern</td>\n",
              "    </tr>\n",
              "    <tr>\n",
              "      <th>5</th>\n",
              "      <td>Cornell University</td>\n",
              "      <td>Ivy League</td>\n",
              "      <td>$60,300.00</td>\n",
              "      <td>$110,000.00</td>\n",
              "      <td>Northeastern</td>\n",
              "    </tr>\n",
              "    <tr>\n",
              "      <th>6</th>\n",
              "      <td>Brown University</td>\n",
              "      <td>Ivy League</td>\n",
              "      <td>$56,200.00</td>\n",
              "      <td>$109,000.00</td>\n",
              "      <td>Northeastern</td>\n",
              "    </tr>\n",
              "    <tr>\n",
              "      <th>7</th>\n",
              "      <td>Columbia University</td>\n",
              "      <td>Ivy League</td>\n",
              "      <td>$59,400.00</td>\n",
              "      <td>$107,000.00</td>\n",
              "      <td>Northeastern</td>\n",
              "    </tr>\n",
              "  </tbody>\n",
              "</table>\n",
              "</div>"
            ],
            "text/plain": [
              "                  School Name  ...        Region\n",
              "0           Dartmouth College  ...  Northeastern\n",
              "1        Princeton University  ...  Northeastern\n",
              "2             Yale University  ...  Northeastern\n",
              "3          Harvard University  ...  Northeastern\n",
              "4  University of Pennsylvania  ...  Northeastern\n",
              "5          Cornell University  ...  Northeastern\n",
              "6            Brown University  ...  Northeastern\n",
              "7         Columbia University  ...  Northeastern\n",
              "\n",
              "[8 rows x 5 columns]"
            ]
          },
          "metadata": {
            "tags": []
          },
          "execution_count": 69
        }
      ]
    },
    {
      "cell_type": "code",
      "metadata": {
        "id": "feOoAxeIgfii"
      },
      "source": [
        ""
      ],
      "execution_count": 68,
      "outputs": []
    },
    {
      "cell_type": "code",
      "metadata": {
        "id": "xQDIudYDgflu"
      },
      "source": [
        ""
      ],
      "execution_count": null,
      "outputs": []
    },
    {
      "cell_type": "code",
      "metadata": {
        "colab": {
          "base_uri": "https://localhost:8080/",
          "height": 419
        },
        "id": "8dKbZrubrdua",
        "outputId": "b0ac1d39-41fb-4aaf-9e1a-105f7fa3a428"
      },
      "source": [
        "pd.merge(schools,regions)"
      ],
      "execution_count": 41,
      "outputs": [
        {
          "output_type": "execute_result",
          "data": {
            "text/html": [
              "<div>\n",
              "<style scoped>\n",
              "    .dataframe tbody tr th:only-of-type {\n",
              "        vertical-align: middle;\n",
              "    }\n",
              "\n",
              "    .dataframe tbody tr th {\n",
              "        vertical-align: top;\n",
              "    }\n",
              "\n",
              "    .dataframe thead th {\n",
              "        text-align: right;\n",
              "    }\n",
              "</style>\n",
              "<table border=\"1\" class=\"dataframe\">\n",
              "  <thead>\n",
              "    <tr style=\"text-align: right;\">\n",
              "      <th></th>\n",
              "      <th>School Name</th>\n",
              "      <th>School Type</th>\n",
              "      <th>Starting Median Salary</th>\n",
              "      <th>Mid-Career Median Salary</th>\n",
              "      <th>Region</th>\n",
              "    </tr>\n",
              "  </thead>\n",
              "  <tbody>\n",
              "    <tr>\n",
              "      <th>0</th>\n",
              "      <td>Massachusetts Institute of Technology (MIT)</td>\n",
              "      <td>Engineering</td>\n",
              "      <td>$72,200.00</td>\n",
              "      <td>$126,000.00</td>\n",
              "      <td>Northeastern</td>\n",
              "    </tr>\n",
              "    <tr>\n",
              "      <th>1</th>\n",
              "      <td>California Institute of Technology (CIT)</td>\n",
              "      <td>Engineering</td>\n",
              "      <td>$75,500.00</td>\n",
              "      <td>$123,000.00</td>\n",
              "      <td>California</td>\n",
              "    </tr>\n",
              "    <tr>\n",
              "      <th>2</th>\n",
              "      <td>Harvey Mudd College</td>\n",
              "      <td>Engineering</td>\n",
              "      <td>$71,800.00</td>\n",
              "      <td>$122,000.00</td>\n",
              "      <td>California</td>\n",
              "    </tr>\n",
              "    <tr>\n",
              "      <th>3</th>\n",
              "      <td>Polytechnic University of New York, Brooklyn</td>\n",
              "      <td>Engineering</td>\n",
              "      <td>$62,400.00</td>\n",
              "      <td>$114,000.00</td>\n",
              "      <td>Northeastern</td>\n",
              "    </tr>\n",
              "    <tr>\n",
              "      <th>4</th>\n",
              "      <td>Cooper Union</td>\n",
              "      <td>Engineering</td>\n",
              "      <td>$62,200.00</td>\n",
              "      <td>$114,000.00</td>\n",
              "      <td>Northeastern</td>\n",
              "    </tr>\n",
              "    <tr>\n",
              "      <th>...</th>\n",
              "      <td>...</td>\n",
              "      <td>...</td>\n",
              "      <td>...</td>\n",
              "      <td>...</td>\n",
              "      <td>...</td>\n",
              "    </tr>\n",
              "    <tr>\n",
              "      <th>264</th>\n",
              "      <td>Harvard University</td>\n",
              "      <td>Ivy League</td>\n",
              "      <td>$63,400.00</td>\n",
              "      <td>$124,000.00</td>\n",
              "      <td>Northeastern</td>\n",
              "    </tr>\n",
              "    <tr>\n",
              "      <th>265</th>\n",
              "      <td>University of Pennsylvania</td>\n",
              "      <td>Ivy League</td>\n",
              "      <td>$60,900.00</td>\n",
              "      <td>$120,000.00</td>\n",
              "      <td>Northeastern</td>\n",
              "    </tr>\n",
              "    <tr>\n",
              "      <th>266</th>\n",
              "      <td>Cornell University</td>\n",
              "      <td>Ivy League</td>\n",
              "      <td>$60,300.00</td>\n",
              "      <td>$110,000.00</td>\n",
              "      <td>Northeastern</td>\n",
              "    </tr>\n",
              "    <tr>\n",
              "      <th>267</th>\n",
              "      <td>Brown University</td>\n",
              "      <td>Ivy League</td>\n",
              "      <td>$56,200.00</td>\n",
              "      <td>$109,000.00</td>\n",
              "      <td>Northeastern</td>\n",
              "    </tr>\n",
              "    <tr>\n",
              "      <th>268</th>\n",
              "      <td>Columbia University</td>\n",
              "      <td>Ivy League</td>\n",
              "      <td>$59,400.00</td>\n",
              "      <td>$107,000.00</td>\n",
              "      <td>Northeastern</td>\n",
              "    </tr>\n",
              "  </tbody>\n",
              "</table>\n",
              "<p>269 rows × 5 columns</p>\n",
              "</div>"
            ],
            "text/plain": [
              "                                      School Name  ...        Region\n",
              "0     Massachusetts Institute of Technology (MIT)  ...  Northeastern\n",
              "1        California Institute of Technology (CIT)  ...    California\n",
              "2                             Harvey Mudd College  ...    California\n",
              "3    Polytechnic University of New York, Brooklyn  ...  Northeastern\n",
              "4                                    Cooper Union  ...  Northeastern\n",
              "..                                            ...  ...           ...\n",
              "264                            Harvard University  ...  Northeastern\n",
              "265                    University of Pennsylvania  ...  Northeastern\n",
              "266                            Cornell University  ...  Northeastern\n",
              "267                              Brown University  ...  Northeastern\n",
              "268                           Columbia University  ...  Northeastern\n",
              "\n",
              "[269 rows x 5 columns]"
            ]
          },
          "metadata": {
            "tags": []
          },
          "execution_count": 41
        }
      ]
    },
    {
      "cell_type": "code",
      "metadata": {
        "id": "S6MiEHxLtfqw"
      },
      "source": [
        "income_url = '/content/drive/MyDrive/mid_career_salaries.csv'"
      ],
      "execution_count": 42,
      "outputs": []
    },
    {
      "cell_type": "code",
      "metadata": {
        "id": "Y_LgRhoatpTr"
      },
      "source": [
        "mid_career = pd.read_csv(income_url)"
      ],
      "execution_count": 43,
      "outputs": []
    },
    {
      "cell_type": "code",
      "metadata": {
        "colab": {
          "base_uri": "https://localhost:8080/",
          "height": 204
        },
        "id": "dufategzt9yU",
        "outputId": "a404a959-5fad-40cd-c5b6-f9c4d9dd7d9e"
      },
      "source": [
        "schools.head()"
      ],
      "execution_count": 44,
      "outputs": [
        {
          "output_type": "execute_result",
          "data": {
            "text/html": [
              "<div>\n",
              "<style scoped>\n",
              "    .dataframe tbody tr th:only-of-type {\n",
              "        vertical-align: middle;\n",
              "    }\n",
              "\n",
              "    .dataframe tbody tr th {\n",
              "        vertical-align: top;\n",
              "    }\n",
              "\n",
              "    .dataframe thead th {\n",
              "        text-align: right;\n",
              "    }\n",
              "</style>\n",
              "<table border=\"1\" class=\"dataframe\">\n",
              "  <thead>\n",
              "    <tr style=\"text-align: right;\">\n",
              "      <th></th>\n",
              "      <th>School Name</th>\n",
              "      <th>School Type</th>\n",
              "      <th>Starting Median Salary</th>\n",
              "      <th>Mid-Career Median Salary</th>\n",
              "    </tr>\n",
              "  </thead>\n",
              "  <tbody>\n",
              "    <tr>\n",
              "      <th>0</th>\n",
              "      <td>Massachusetts Institute of Technology (MIT)</td>\n",
              "      <td>Engineering</td>\n",
              "      <td>$72,200.00</td>\n",
              "      <td>$126,000.00</td>\n",
              "    </tr>\n",
              "    <tr>\n",
              "      <th>1</th>\n",
              "      <td>California Institute of Technology (CIT)</td>\n",
              "      <td>Engineering</td>\n",
              "      <td>$75,500.00</td>\n",
              "      <td>$123,000.00</td>\n",
              "    </tr>\n",
              "    <tr>\n",
              "      <th>2</th>\n",
              "      <td>Harvey Mudd College</td>\n",
              "      <td>Engineering</td>\n",
              "      <td>$71,800.00</td>\n",
              "      <td>$122,000.00</td>\n",
              "    </tr>\n",
              "    <tr>\n",
              "      <th>3</th>\n",
              "      <td>Polytechnic University of New York, Brooklyn</td>\n",
              "      <td>Engineering</td>\n",
              "      <td>$62,400.00</td>\n",
              "      <td>$114,000.00</td>\n",
              "    </tr>\n",
              "    <tr>\n",
              "      <th>4</th>\n",
              "      <td>Cooper Union</td>\n",
              "      <td>Engineering</td>\n",
              "      <td>$62,200.00</td>\n",
              "      <td>$114,000.00</td>\n",
              "    </tr>\n",
              "  </tbody>\n",
              "</table>\n",
              "</div>"
            ],
            "text/plain": [
              "                                    School Name  ... Mid-Career Median Salary\n",
              "0   Massachusetts Institute of Technology (MIT)  ...             $126,000.00 \n",
              "1      California Institute of Technology (CIT)  ...             $123,000.00 \n",
              "2                           Harvey Mudd College  ...             $122,000.00 \n",
              "3  Polytechnic University of New York, Brooklyn  ...             $114,000.00 \n",
              "4                                  Cooper Union  ...             $114,000.00 \n",
              "\n",
              "[5 rows x 4 columns]"
            ]
          },
          "metadata": {
            "tags": []
          },
          "execution_count": 44
        }
      ]
    },
    {
      "cell_type": "code",
      "metadata": {
        "colab": {
          "base_uri": "https://localhost:8080/",
          "height": 272
        },
        "id": "cLt8mzaotyYH",
        "outputId": "f08d5e7c-bff6-49d4-d571-08e40c740c94"
      },
      "source": [
        "mid_career.head()"
      ],
      "execution_count": 45,
      "outputs": [
        {
          "output_type": "execute_result",
          "data": {
            "text/html": [
              "<div>\n",
              "<style scoped>\n",
              "    .dataframe tbody tr th:only-of-type {\n",
              "        vertical-align: middle;\n",
              "    }\n",
              "\n",
              "    .dataframe tbody tr th {\n",
              "        vertical-align: top;\n",
              "    }\n",
              "\n",
              "    .dataframe thead th {\n",
              "        text-align: right;\n",
              "    }\n",
              "</style>\n",
              "<table border=\"1\" class=\"dataframe\">\n",
              "  <thead>\n",
              "    <tr style=\"text-align: right;\">\n",
              "      <th></th>\n",
              "      <th>school_name</th>\n",
              "      <th>Mid-Career 10th Percentile Salary</th>\n",
              "      <th>Mid-Career 25th Percentile Salary</th>\n",
              "      <th>Mid-Career 75th Percentile Salary</th>\n",
              "      <th>Mid-Career 90th Percentile Salary</th>\n",
              "    </tr>\n",
              "  </thead>\n",
              "  <tbody>\n",
              "    <tr>\n",
              "      <th>0</th>\n",
              "      <td>Massachusetts Institute of Technology (MIT)</td>\n",
              "      <td>$76,800.00</td>\n",
              "      <td>$99,200.00</td>\n",
              "      <td>$168,000.00</td>\n",
              "      <td>$220,000.00</td>\n",
              "    </tr>\n",
              "    <tr>\n",
              "      <th>1</th>\n",
              "      <td>California Institute of Technology (CIT)</td>\n",
              "      <td>NaN</td>\n",
              "      <td>$104,000.00</td>\n",
              "      <td>$161,000.00</td>\n",
              "      <td>NaN</td>\n",
              "    </tr>\n",
              "    <tr>\n",
              "      <th>2</th>\n",
              "      <td>Harvey Mudd College</td>\n",
              "      <td>NaN</td>\n",
              "      <td>$96,000.00</td>\n",
              "      <td>$180,000.00</td>\n",
              "      <td>NaN</td>\n",
              "    </tr>\n",
              "    <tr>\n",
              "      <th>3</th>\n",
              "      <td>Polytechnic University of New York, Brooklyn</td>\n",
              "      <td>$66,800.00</td>\n",
              "      <td>$94,300.00</td>\n",
              "      <td>$143,000.00</td>\n",
              "      <td>$190,000.00</td>\n",
              "    </tr>\n",
              "    <tr>\n",
              "      <th>4</th>\n",
              "      <td>Cooper Union</td>\n",
              "      <td>NaN</td>\n",
              "      <td>$80,200.00</td>\n",
              "      <td>$142,000.00</td>\n",
              "      <td>NaN</td>\n",
              "    </tr>\n",
              "  </tbody>\n",
              "</table>\n",
              "</div>"
            ],
            "text/plain": [
              "                                    school_name  ... Mid-Career 90th Percentile Salary\n",
              "0   Massachusetts Institute of Technology (MIT)  ...                      $220,000.00 \n",
              "1      California Institute of Technology (CIT)  ...                               NaN\n",
              "2                           Harvey Mudd College  ...                               NaN\n",
              "3  Polytechnic University of New York, Brooklyn  ...                      $190,000.00 \n",
              "4                                  Cooper Union  ...                               NaN\n",
              "\n",
              "[5 rows x 5 columns]"
            ]
          },
          "metadata": {
            "tags": []
          },
          "execution_count": 45
        }
      ]
    },
    {
      "cell_type": "code",
      "metadata": {
        "colab": {
          "base_uri": "https://localhost:8080/",
          "height": 504
        },
        "id": "3Ehxa4hPt6OL",
        "outputId": "40896bb1-0742-4786-f2b7-45cac6370839"
      },
      "source": [
        "pd.merge(schools, mid_career, left_on='School Name', right_on='school_name').drop('school_name', axis=1)"
      ],
      "execution_count": 46,
      "outputs": [
        {
          "output_type": "execute_result",
          "data": {
            "text/html": [
              "<div>\n",
              "<style scoped>\n",
              "    .dataframe tbody tr th:only-of-type {\n",
              "        vertical-align: middle;\n",
              "    }\n",
              "\n",
              "    .dataframe tbody tr th {\n",
              "        vertical-align: top;\n",
              "    }\n",
              "\n",
              "    .dataframe thead th {\n",
              "        text-align: right;\n",
              "    }\n",
              "</style>\n",
              "<table border=\"1\" class=\"dataframe\">\n",
              "  <thead>\n",
              "    <tr style=\"text-align: right;\">\n",
              "      <th></th>\n",
              "      <th>School Name</th>\n",
              "      <th>School Type</th>\n",
              "      <th>Starting Median Salary</th>\n",
              "      <th>Mid-Career Median Salary</th>\n",
              "      <th>Mid-Career 10th Percentile Salary</th>\n",
              "      <th>Mid-Career 25th Percentile Salary</th>\n",
              "      <th>Mid-Career 75th Percentile Salary</th>\n",
              "      <th>Mid-Career 90th Percentile Salary</th>\n",
              "    </tr>\n",
              "  </thead>\n",
              "  <tbody>\n",
              "    <tr>\n",
              "      <th>0</th>\n",
              "      <td>Massachusetts Institute of Technology (MIT)</td>\n",
              "      <td>Engineering</td>\n",
              "      <td>$72,200.00</td>\n",
              "      <td>$126,000.00</td>\n",
              "      <td>$76,800.00</td>\n",
              "      <td>$99,200.00</td>\n",
              "      <td>$168,000.00</td>\n",
              "      <td>$220,000.00</td>\n",
              "    </tr>\n",
              "    <tr>\n",
              "      <th>1</th>\n",
              "      <td>California Institute of Technology (CIT)</td>\n",
              "      <td>Engineering</td>\n",
              "      <td>$75,500.00</td>\n",
              "      <td>$123,000.00</td>\n",
              "      <td>NaN</td>\n",
              "      <td>$104,000.00</td>\n",
              "      <td>$161,000.00</td>\n",
              "      <td>NaN</td>\n",
              "    </tr>\n",
              "    <tr>\n",
              "      <th>2</th>\n",
              "      <td>Harvey Mudd College</td>\n",
              "      <td>Engineering</td>\n",
              "      <td>$71,800.00</td>\n",
              "      <td>$122,000.00</td>\n",
              "      <td>NaN</td>\n",
              "      <td>$96,000.00</td>\n",
              "      <td>$180,000.00</td>\n",
              "      <td>NaN</td>\n",
              "    </tr>\n",
              "    <tr>\n",
              "      <th>3</th>\n",
              "      <td>Polytechnic University of New York, Brooklyn</td>\n",
              "      <td>Engineering</td>\n",
              "      <td>$62,400.00</td>\n",
              "      <td>$114,000.00</td>\n",
              "      <td>$66,800.00</td>\n",
              "      <td>$94,300.00</td>\n",
              "      <td>$143,000.00</td>\n",
              "      <td>$190,000.00</td>\n",
              "    </tr>\n",
              "    <tr>\n",
              "      <th>4</th>\n",
              "      <td>Cooper Union</td>\n",
              "      <td>Engineering</td>\n",
              "      <td>$62,200.00</td>\n",
              "      <td>$114,000.00</td>\n",
              "      <td>NaN</td>\n",
              "      <td>$80,200.00</td>\n",
              "      <td>$142,000.00</td>\n",
              "      <td>NaN</td>\n",
              "    </tr>\n",
              "    <tr>\n",
              "      <th>...</th>\n",
              "      <td>...</td>\n",
              "      <td>...</td>\n",
              "      <td>...</td>\n",
              "      <td>...</td>\n",
              "      <td>...</td>\n",
              "      <td>...</td>\n",
              "      <td>...</td>\n",
              "      <td>...</td>\n",
              "    </tr>\n",
              "    <tr>\n",
              "      <th>264</th>\n",
              "      <td>Harvard University</td>\n",
              "      <td>Ivy League</td>\n",
              "      <td>$63,400.00</td>\n",
              "      <td>$124,000.00</td>\n",
              "      <td>$54,800.00</td>\n",
              "      <td>$86,200.00</td>\n",
              "      <td>$179,000.00</td>\n",
              "      <td>$288,000.00</td>\n",
              "    </tr>\n",
              "    <tr>\n",
              "      <th>265</th>\n",
              "      <td>University of Pennsylvania</td>\n",
              "      <td>Ivy League</td>\n",
              "      <td>$60,900.00</td>\n",
              "      <td>$120,000.00</td>\n",
              "      <td>$55,900.00</td>\n",
              "      <td>$79,200.00</td>\n",
              "      <td>$192,000.00</td>\n",
              "      <td>$282,000.00</td>\n",
              "    </tr>\n",
              "    <tr>\n",
              "      <th>266</th>\n",
              "      <td>Cornell University</td>\n",
              "      <td>Ivy League</td>\n",
              "      <td>$60,300.00</td>\n",
              "      <td>$110,000.00</td>\n",
              "      <td>$56,800.00</td>\n",
              "      <td>$79,800.00</td>\n",
              "      <td>$160,000.00</td>\n",
              "      <td>$210,000.00</td>\n",
              "    </tr>\n",
              "    <tr>\n",
              "      <th>267</th>\n",
              "      <td>Brown University</td>\n",
              "      <td>Ivy League</td>\n",
              "      <td>$56,200.00</td>\n",
              "      <td>$109,000.00</td>\n",
              "      <td>$55,400.00</td>\n",
              "      <td>$74,400.00</td>\n",
              "      <td>$159,000.00</td>\n",
              "      <td>$228,000.00</td>\n",
              "    </tr>\n",
              "    <tr>\n",
              "      <th>268</th>\n",
              "      <td>Columbia University</td>\n",
              "      <td>Ivy League</td>\n",
              "      <td>$59,400.00</td>\n",
              "      <td>$107,000.00</td>\n",
              "      <td>$50,300.00</td>\n",
              "      <td>$71,900.00</td>\n",
              "      <td>$161,000.00</td>\n",
              "      <td>$241,000.00</td>\n",
              "    </tr>\n",
              "  </tbody>\n",
              "</table>\n",
              "<p>269 rows × 8 columns</p>\n",
              "</div>"
            ],
            "text/plain": [
              "                                      School Name  ... Mid-Career 90th Percentile Salary\n",
              "0     Massachusetts Institute of Technology (MIT)  ...                      $220,000.00 \n",
              "1        California Institute of Technology (CIT)  ...                               NaN\n",
              "2                             Harvey Mudd College  ...                               NaN\n",
              "3    Polytechnic University of New York, Brooklyn  ...                      $190,000.00 \n",
              "4                                    Cooper Union  ...                               NaN\n",
              "..                                            ...  ...                               ...\n",
              "264                            Harvard University  ...                      $288,000.00 \n",
              "265                    University of Pennsylvania  ...                      $282,000.00 \n",
              "266                            Cornell University  ...                      $210,000.00 \n",
              "267                              Brown University  ...                      $228,000.00 \n",
              "268                           Columbia University  ...                      $241,000.00 \n",
              "\n",
              "[269 rows x 8 columns]"
            ]
          },
          "metadata": {
            "tags": []
          },
          "execution_count": 46
        }
      ]
    },
    {
      "cell_type": "code",
      "metadata": {
        "colab": {
          "base_uri": "https://localhost:8080/",
          "height": 297
        },
        "id": "cPJUTTSCt98Y",
        "outputId": "a081e7b3-8203-4243-8aba-da982b28f8a9"
      },
      "source": [
        "pd.merge(ivies,regions, how='inner')"
      ],
      "execution_count": 47,
      "outputs": [
        {
          "output_type": "execute_result",
          "data": {
            "text/html": [
              "<div>\n",
              "<style scoped>\n",
              "    .dataframe tbody tr th:only-of-type {\n",
              "        vertical-align: middle;\n",
              "    }\n",
              "\n",
              "    .dataframe tbody tr th {\n",
              "        vertical-align: top;\n",
              "    }\n",
              "\n",
              "    .dataframe thead th {\n",
              "        text-align: right;\n",
              "    }\n",
              "</style>\n",
              "<table border=\"1\" class=\"dataframe\">\n",
              "  <thead>\n",
              "    <tr style=\"text-align: right;\">\n",
              "      <th></th>\n",
              "      <th>School Name</th>\n",
              "      <th>School Type</th>\n",
              "      <th>Starting Median Salary</th>\n",
              "      <th>Mid-Career Median Salary</th>\n",
              "      <th>Region</th>\n",
              "    </tr>\n",
              "  </thead>\n",
              "  <tbody>\n",
              "    <tr>\n",
              "      <th>0</th>\n",
              "      <td>Dartmouth College</td>\n",
              "      <td>Ivy League</td>\n",
              "      <td>$58,000.00</td>\n",
              "      <td>$134,000.00</td>\n",
              "      <td>Northeastern</td>\n",
              "    </tr>\n",
              "    <tr>\n",
              "      <th>1</th>\n",
              "      <td>Princeton University</td>\n",
              "      <td>Ivy League</td>\n",
              "      <td>$66,500.00</td>\n",
              "      <td>$131,000.00</td>\n",
              "      <td>Northeastern</td>\n",
              "    </tr>\n",
              "    <tr>\n",
              "      <th>2</th>\n",
              "      <td>Yale University</td>\n",
              "      <td>Ivy League</td>\n",
              "      <td>$59,100.00</td>\n",
              "      <td>$126,000.00</td>\n",
              "      <td>Northeastern</td>\n",
              "    </tr>\n",
              "    <tr>\n",
              "      <th>3</th>\n",
              "      <td>Harvard University</td>\n",
              "      <td>Ivy League</td>\n",
              "      <td>$63,400.00</td>\n",
              "      <td>$124,000.00</td>\n",
              "      <td>Northeastern</td>\n",
              "    </tr>\n",
              "    <tr>\n",
              "      <th>4</th>\n",
              "      <td>University of Pennsylvania</td>\n",
              "      <td>Ivy League</td>\n",
              "      <td>$60,900.00</td>\n",
              "      <td>$120,000.00</td>\n",
              "      <td>Northeastern</td>\n",
              "    </tr>\n",
              "    <tr>\n",
              "      <th>5</th>\n",
              "      <td>Cornell University</td>\n",
              "      <td>Ivy League</td>\n",
              "      <td>$60,300.00</td>\n",
              "      <td>$110,000.00</td>\n",
              "      <td>Northeastern</td>\n",
              "    </tr>\n",
              "    <tr>\n",
              "      <th>6</th>\n",
              "      <td>Brown University</td>\n",
              "      <td>Ivy League</td>\n",
              "      <td>$56,200.00</td>\n",
              "      <td>$109,000.00</td>\n",
              "      <td>Northeastern</td>\n",
              "    </tr>\n",
              "    <tr>\n",
              "      <th>7</th>\n",
              "      <td>Columbia University</td>\n",
              "      <td>Ivy League</td>\n",
              "      <td>$59,400.00</td>\n",
              "      <td>$107,000.00</td>\n",
              "      <td>Northeastern</td>\n",
              "    </tr>\n",
              "  </tbody>\n",
              "</table>\n",
              "</div>"
            ],
            "text/plain": [
              "                  School Name  ...        Region\n",
              "0           Dartmouth College  ...  Northeastern\n",
              "1        Princeton University  ...  Northeastern\n",
              "2             Yale University  ...  Northeastern\n",
              "3          Harvard University  ...  Northeastern\n",
              "4  University of Pennsylvania  ...  Northeastern\n",
              "5          Cornell University  ...  Northeastern\n",
              "6            Brown University  ...  Northeastern\n",
              "7         Columbia University  ...  Northeastern\n",
              "\n",
              "[8 rows x 5 columns]"
            ]
          },
          "metadata": {
            "tags": []
          },
          "execution_count": 47
        }
      ]
    },
    {
      "cell_type": "code",
      "metadata": {
        "colab": {
          "base_uri": "https://localhost:8080/",
          "height": 419
        },
        "id": "w1JYd6AEt-Dr",
        "outputId": "f8e29723-b872-4100-f86b-b8f8f80c0ad7"
      },
      "source": [
        "pd.merge(ivies,regions, how='outer')"
      ],
      "execution_count": 48,
      "outputs": [
        {
          "output_type": "execute_result",
          "data": {
            "text/html": [
              "<div>\n",
              "<style scoped>\n",
              "    .dataframe tbody tr th:only-of-type {\n",
              "        vertical-align: middle;\n",
              "    }\n",
              "\n",
              "    .dataframe tbody tr th {\n",
              "        vertical-align: top;\n",
              "    }\n",
              "\n",
              "    .dataframe thead th {\n",
              "        text-align: right;\n",
              "    }\n",
              "</style>\n",
              "<table border=\"1\" class=\"dataframe\">\n",
              "  <thead>\n",
              "    <tr style=\"text-align: right;\">\n",
              "      <th></th>\n",
              "      <th>School Name</th>\n",
              "      <th>School Type</th>\n",
              "      <th>Starting Median Salary</th>\n",
              "      <th>Mid-Career Median Salary</th>\n",
              "      <th>Region</th>\n",
              "    </tr>\n",
              "  </thead>\n",
              "  <tbody>\n",
              "    <tr>\n",
              "      <th>0</th>\n",
              "      <td>Dartmouth College</td>\n",
              "      <td>Ivy League</td>\n",
              "      <td>$58,000.00</td>\n",
              "      <td>$134,000.00</td>\n",
              "      <td>Northeastern</td>\n",
              "    </tr>\n",
              "    <tr>\n",
              "      <th>1</th>\n",
              "      <td>Princeton University</td>\n",
              "      <td>Ivy League</td>\n",
              "      <td>$66,500.00</td>\n",
              "      <td>$131,000.00</td>\n",
              "      <td>Northeastern</td>\n",
              "    </tr>\n",
              "    <tr>\n",
              "      <th>2</th>\n",
              "      <td>Yale University</td>\n",
              "      <td>Ivy League</td>\n",
              "      <td>$59,100.00</td>\n",
              "      <td>$126,000.00</td>\n",
              "      <td>Northeastern</td>\n",
              "    </tr>\n",
              "    <tr>\n",
              "      <th>3</th>\n",
              "      <td>Harvard University</td>\n",
              "      <td>Ivy League</td>\n",
              "      <td>$63,400.00</td>\n",
              "      <td>$124,000.00</td>\n",
              "      <td>Northeastern</td>\n",
              "    </tr>\n",
              "    <tr>\n",
              "      <th>4</th>\n",
              "      <td>University of Pennsylvania</td>\n",
              "      <td>Ivy League</td>\n",
              "      <td>$60,900.00</td>\n",
              "      <td>$120,000.00</td>\n",
              "      <td>Northeastern</td>\n",
              "    </tr>\n",
              "    <tr>\n",
              "      <th>...</th>\n",
              "      <td>...</td>\n",
              "      <td>...</td>\n",
              "      <td>...</td>\n",
              "      <td>...</td>\n",
              "      <td>...</td>\n",
              "    </tr>\n",
              "    <tr>\n",
              "      <th>264</th>\n",
              "      <td>Austin Peay State University</td>\n",
              "      <td>NaN</td>\n",
              "      <td>NaN</td>\n",
              "      <td>NaN</td>\n",
              "      <td>Southern</td>\n",
              "    </tr>\n",
              "    <tr>\n",
              "      <th>265</th>\n",
              "      <td>Pittsburg State University</td>\n",
              "      <td>NaN</td>\n",
              "      <td>NaN</td>\n",
              "      <td>NaN</td>\n",
              "      <td>Midwestern</td>\n",
              "    </tr>\n",
              "    <tr>\n",
              "      <th>266</th>\n",
              "      <td>Southern Utah University</td>\n",
              "      <td>NaN</td>\n",
              "      <td>NaN</td>\n",
              "      <td>NaN</td>\n",
              "      <td>Western</td>\n",
              "    </tr>\n",
              "    <tr>\n",
              "      <th>267</th>\n",
              "      <td>Montana State University - Billings</td>\n",
              "      <td>NaN</td>\n",
              "      <td>NaN</td>\n",
              "      <td>NaN</td>\n",
              "      <td>Western</td>\n",
              "    </tr>\n",
              "    <tr>\n",
              "      <th>268</th>\n",
              "      <td>Black Hills State University</td>\n",
              "      <td>NaN</td>\n",
              "      <td>NaN</td>\n",
              "      <td>NaN</td>\n",
              "      <td>Midwestern</td>\n",
              "    </tr>\n",
              "  </tbody>\n",
              "</table>\n",
              "<p>269 rows × 5 columns</p>\n",
              "</div>"
            ],
            "text/plain": [
              "                             School Name  ...        Region\n",
              "0                      Dartmouth College  ...  Northeastern\n",
              "1                   Princeton University  ...  Northeastern\n",
              "2                        Yale University  ...  Northeastern\n",
              "3                     Harvard University  ...  Northeastern\n",
              "4             University of Pennsylvania  ...  Northeastern\n",
              "..                                   ...  ...           ...\n",
              "264         Austin Peay State University  ...      Southern\n",
              "265           Pittsburg State University  ...    Midwestern\n",
              "266             Southern Utah University  ...       Western\n",
              "267  Montana State University - Billings  ...       Western\n",
              "268         Black Hills State University  ...    Midwestern\n",
              "\n",
              "[269 rows x 5 columns]"
            ]
          },
          "metadata": {
            "tags": []
          },
          "execution_count": 48
        }
      ]
    },
    {
      "cell_type": "code",
      "metadata": {
        "colab": {
          "base_uri": "https://localhost:8080/",
          "height": 204
        },
        "id": "d8D4DxUkfu5Y",
        "outputId": "ba969e11-5699-42bf-c845-c813f6045c86"
      },
      "source": [
        "ivies.head(5)"
      ],
      "execution_count": 49,
      "outputs": [
        {
          "output_type": "execute_result",
          "data": {
            "text/html": [
              "<div>\n",
              "<style scoped>\n",
              "    .dataframe tbody tr th:only-of-type {\n",
              "        vertical-align: middle;\n",
              "    }\n",
              "\n",
              "    .dataframe tbody tr th {\n",
              "        vertical-align: top;\n",
              "    }\n",
              "\n",
              "    .dataframe thead th {\n",
              "        text-align: right;\n",
              "    }\n",
              "</style>\n",
              "<table border=\"1\" class=\"dataframe\">\n",
              "  <thead>\n",
              "    <tr style=\"text-align: right;\">\n",
              "      <th></th>\n",
              "      <th>School Name</th>\n",
              "      <th>School Type</th>\n",
              "      <th>Starting Median Salary</th>\n",
              "      <th>Mid-Career Median Salary</th>\n",
              "    </tr>\n",
              "  </thead>\n",
              "  <tbody>\n",
              "    <tr>\n",
              "      <th>0</th>\n",
              "      <td>Dartmouth College</td>\n",
              "      <td>Ivy League</td>\n",
              "      <td>$58,000.00</td>\n",
              "      <td>$134,000.00</td>\n",
              "    </tr>\n",
              "    <tr>\n",
              "      <th>1</th>\n",
              "      <td>Princeton University</td>\n",
              "      <td>Ivy League</td>\n",
              "      <td>$66,500.00</td>\n",
              "      <td>$131,000.00</td>\n",
              "    </tr>\n",
              "    <tr>\n",
              "      <th>2</th>\n",
              "      <td>Yale University</td>\n",
              "      <td>Ivy League</td>\n",
              "      <td>$59,100.00</td>\n",
              "      <td>$126,000.00</td>\n",
              "    </tr>\n",
              "    <tr>\n",
              "      <th>3</th>\n",
              "      <td>Harvard University</td>\n",
              "      <td>Ivy League</td>\n",
              "      <td>$63,400.00</td>\n",
              "      <td>$124,000.00</td>\n",
              "    </tr>\n",
              "    <tr>\n",
              "      <th>4</th>\n",
              "      <td>University of Pennsylvania</td>\n",
              "      <td>Ivy League</td>\n",
              "      <td>$60,900.00</td>\n",
              "      <td>$120,000.00</td>\n",
              "    </tr>\n",
              "  </tbody>\n",
              "</table>\n",
              "</div>"
            ],
            "text/plain": [
              "                  School Name  ... Mid-Career Median Salary\n",
              "0           Dartmouth College  ...             $134,000.00 \n",
              "1        Princeton University  ...             $131,000.00 \n",
              "2             Yale University  ...             $126,000.00 \n",
              "3          Harvard University  ...             $124,000.00 \n",
              "4  University of Pennsylvania  ...             $120,000.00 \n",
              "\n",
              "[5 rows x 4 columns]"
            ]
          },
          "metadata": {
            "tags": []
          },
          "execution_count": 49
        }
      ]
    },
    {
      "cell_type": "code",
      "metadata": {
        "colab": {
          "base_uri": "https://localhost:8080/",
          "height": 204
        },
        "id": "Z7PvSxQoRXN9",
        "outputId": "57fe2365-f0d2-416c-91e8-8786cfd7a714"
      },
      "source": [
        "regions.head(5)"
      ],
      "execution_count": 50,
      "outputs": [
        {
          "output_type": "execute_result",
          "data": {
            "text/html": [
              "<div>\n",
              "<style scoped>\n",
              "    .dataframe tbody tr th:only-of-type {\n",
              "        vertical-align: middle;\n",
              "    }\n",
              "\n",
              "    .dataframe tbody tr th {\n",
              "        vertical-align: top;\n",
              "    }\n",
              "\n",
              "    .dataframe thead th {\n",
              "        text-align: right;\n",
              "    }\n",
              "</style>\n",
              "<table border=\"1\" class=\"dataframe\">\n",
              "  <thead>\n",
              "    <tr style=\"text-align: right;\">\n",
              "      <th></th>\n",
              "      <th>School Name</th>\n",
              "      <th>Region</th>\n",
              "    </tr>\n",
              "  </thead>\n",
              "  <tbody>\n",
              "    <tr>\n",
              "      <th>0</th>\n",
              "      <td>Massachusetts Institute of Technology (MIT)</td>\n",
              "      <td>Northeastern</td>\n",
              "    </tr>\n",
              "    <tr>\n",
              "      <th>1</th>\n",
              "      <td>California Institute of Technology (CIT)</td>\n",
              "      <td>California</td>\n",
              "    </tr>\n",
              "    <tr>\n",
              "      <th>2</th>\n",
              "      <td>Harvey Mudd College</td>\n",
              "      <td>California</td>\n",
              "    </tr>\n",
              "    <tr>\n",
              "      <th>3</th>\n",
              "      <td>Polytechnic University of New York, Brooklyn</td>\n",
              "      <td>Northeastern</td>\n",
              "    </tr>\n",
              "    <tr>\n",
              "      <th>4</th>\n",
              "      <td>Cooper Union</td>\n",
              "      <td>Northeastern</td>\n",
              "    </tr>\n",
              "  </tbody>\n",
              "</table>\n",
              "</div>"
            ],
            "text/plain": [
              "                                    School Name        Region\n",
              "0   Massachusetts Institute of Technology (MIT)  Northeastern\n",
              "1      California Institute of Technology (CIT)    California\n",
              "2                           Harvey Mudd College    California\n",
              "3  Polytechnic University of New York, Brooklyn  Northeastern\n",
              "4                                  Cooper Union  Northeastern"
            ]
          },
          "metadata": {
            "tags": []
          },
          "execution_count": 50
        }
      ]
    },
    {
      "cell_type": "code",
      "metadata": {
        "colab": {
          "base_uri": "https://localhost:8080/",
          "height": 297
        },
        "id": "CHX4ETvFfokz",
        "outputId": "2560c6de-b4c5-4785-cb48-e3b74e739d79"
      },
      "source": [
        "pd.merge(ivies,regions, how='left')"
      ],
      "execution_count": 51,
      "outputs": [
        {
          "output_type": "execute_result",
          "data": {
            "text/html": [
              "<div>\n",
              "<style scoped>\n",
              "    .dataframe tbody tr th:only-of-type {\n",
              "        vertical-align: middle;\n",
              "    }\n",
              "\n",
              "    .dataframe tbody tr th {\n",
              "        vertical-align: top;\n",
              "    }\n",
              "\n",
              "    .dataframe thead th {\n",
              "        text-align: right;\n",
              "    }\n",
              "</style>\n",
              "<table border=\"1\" class=\"dataframe\">\n",
              "  <thead>\n",
              "    <tr style=\"text-align: right;\">\n",
              "      <th></th>\n",
              "      <th>School Name</th>\n",
              "      <th>School Type</th>\n",
              "      <th>Starting Median Salary</th>\n",
              "      <th>Mid-Career Median Salary</th>\n",
              "      <th>Region</th>\n",
              "    </tr>\n",
              "  </thead>\n",
              "  <tbody>\n",
              "    <tr>\n",
              "      <th>0</th>\n",
              "      <td>Dartmouth College</td>\n",
              "      <td>Ivy League</td>\n",
              "      <td>$58,000.00</td>\n",
              "      <td>$134,000.00</td>\n",
              "      <td>Northeastern</td>\n",
              "    </tr>\n",
              "    <tr>\n",
              "      <th>1</th>\n",
              "      <td>Princeton University</td>\n",
              "      <td>Ivy League</td>\n",
              "      <td>$66,500.00</td>\n",
              "      <td>$131,000.00</td>\n",
              "      <td>Northeastern</td>\n",
              "    </tr>\n",
              "    <tr>\n",
              "      <th>2</th>\n",
              "      <td>Yale University</td>\n",
              "      <td>Ivy League</td>\n",
              "      <td>$59,100.00</td>\n",
              "      <td>$126,000.00</td>\n",
              "      <td>Northeastern</td>\n",
              "    </tr>\n",
              "    <tr>\n",
              "      <th>3</th>\n",
              "      <td>Harvard University</td>\n",
              "      <td>Ivy League</td>\n",
              "      <td>$63,400.00</td>\n",
              "      <td>$124,000.00</td>\n",
              "      <td>Northeastern</td>\n",
              "    </tr>\n",
              "    <tr>\n",
              "      <th>4</th>\n",
              "      <td>University of Pennsylvania</td>\n",
              "      <td>Ivy League</td>\n",
              "      <td>$60,900.00</td>\n",
              "      <td>$120,000.00</td>\n",
              "      <td>Northeastern</td>\n",
              "    </tr>\n",
              "    <tr>\n",
              "      <th>5</th>\n",
              "      <td>Cornell University</td>\n",
              "      <td>Ivy League</td>\n",
              "      <td>$60,300.00</td>\n",
              "      <td>$110,000.00</td>\n",
              "      <td>Northeastern</td>\n",
              "    </tr>\n",
              "    <tr>\n",
              "      <th>6</th>\n",
              "      <td>Brown University</td>\n",
              "      <td>Ivy League</td>\n",
              "      <td>$56,200.00</td>\n",
              "      <td>$109,000.00</td>\n",
              "      <td>Northeastern</td>\n",
              "    </tr>\n",
              "    <tr>\n",
              "      <th>7</th>\n",
              "      <td>Columbia University</td>\n",
              "      <td>Ivy League</td>\n",
              "      <td>$59,400.00</td>\n",
              "      <td>$107,000.00</td>\n",
              "      <td>Northeastern</td>\n",
              "    </tr>\n",
              "  </tbody>\n",
              "</table>\n",
              "</div>"
            ],
            "text/plain": [
              "                  School Name  ...        Region\n",
              "0           Dartmouth College  ...  Northeastern\n",
              "1        Princeton University  ...  Northeastern\n",
              "2             Yale University  ...  Northeastern\n",
              "3          Harvard University  ...  Northeastern\n",
              "4  University of Pennsylvania  ...  Northeastern\n",
              "5          Cornell University  ...  Northeastern\n",
              "6            Brown University  ...  Northeastern\n",
              "7         Columbia University  ...  Northeastern\n",
              "\n",
              "[8 rows x 5 columns]"
            ]
          },
          "metadata": {
            "tags": []
          },
          "execution_count": 51
        }
      ]
    },
    {
      "cell_type": "code",
      "metadata": {
        "id": "sNymQBIjRuy4",
        "colab": {
          "base_uri": "https://localhost:8080/",
          "height": 419
        },
        "outputId": "4ceee8cc-e8e0-46ee-be5e-6e9ee7f14f0e"
      },
      "source": [
        "pd.merge(ivies,regions, how='right')"
      ],
      "execution_count": 52,
      "outputs": [
        {
          "output_type": "execute_result",
          "data": {
            "text/html": [
              "<div>\n",
              "<style scoped>\n",
              "    .dataframe tbody tr th:only-of-type {\n",
              "        vertical-align: middle;\n",
              "    }\n",
              "\n",
              "    .dataframe tbody tr th {\n",
              "        vertical-align: top;\n",
              "    }\n",
              "\n",
              "    .dataframe thead th {\n",
              "        text-align: right;\n",
              "    }\n",
              "</style>\n",
              "<table border=\"1\" class=\"dataframe\">\n",
              "  <thead>\n",
              "    <tr style=\"text-align: right;\">\n",
              "      <th></th>\n",
              "      <th>School Name</th>\n",
              "      <th>School Type</th>\n",
              "      <th>Starting Median Salary</th>\n",
              "      <th>Mid-Career Median Salary</th>\n",
              "      <th>Region</th>\n",
              "    </tr>\n",
              "  </thead>\n",
              "  <tbody>\n",
              "    <tr>\n",
              "      <th>0</th>\n",
              "      <td>Massachusetts Institute of Technology (MIT)</td>\n",
              "      <td>NaN</td>\n",
              "      <td>NaN</td>\n",
              "      <td>NaN</td>\n",
              "      <td>Northeastern</td>\n",
              "    </tr>\n",
              "    <tr>\n",
              "      <th>1</th>\n",
              "      <td>California Institute of Technology (CIT)</td>\n",
              "      <td>NaN</td>\n",
              "      <td>NaN</td>\n",
              "      <td>NaN</td>\n",
              "      <td>California</td>\n",
              "    </tr>\n",
              "    <tr>\n",
              "      <th>2</th>\n",
              "      <td>Harvey Mudd College</td>\n",
              "      <td>NaN</td>\n",
              "      <td>NaN</td>\n",
              "      <td>NaN</td>\n",
              "      <td>California</td>\n",
              "    </tr>\n",
              "    <tr>\n",
              "      <th>3</th>\n",
              "      <td>Polytechnic University of New York, Brooklyn</td>\n",
              "      <td>NaN</td>\n",
              "      <td>NaN</td>\n",
              "      <td>NaN</td>\n",
              "      <td>Northeastern</td>\n",
              "    </tr>\n",
              "    <tr>\n",
              "      <th>4</th>\n",
              "      <td>Cooper Union</td>\n",
              "      <td>NaN</td>\n",
              "      <td>NaN</td>\n",
              "      <td>NaN</td>\n",
              "      <td>Northeastern</td>\n",
              "    </tr>\n",
              "    <tr>\n",
              "      <th>...</th>\n",
              "      <td>...</td>\n",
              "      <td>...</td>\n",
              "      <td>...</td>\n",
              "      <td>...</td>\n",
              "      <td>...</td>\n",
              "    </tr>\n",
              "    <tr>\n",
              "      <th>264</th>\n",
              "      <td>Austin Peay State University</td>\n",
              "      <td>NaN</td>\n",
              "      <td>NaN</td>\n",
              "      <td>NaN</td>\n",
              "      <td>Southern</td>\n",
              "    </tr>\n",
              "    <tr>\n",
              "      <th>265</th>\n",
              "      <td>Pittsburg State University</td>\n",
              "      <td>NaN</td>\n",
              "      <td>NaN</td>\n",
              "      <td>NaN</td>\n",
              "      <td>Midwestern</td>\n",
              "    </tr>\n",
              "    <tr>\n",
              "      <th>266</th>\n",
              "      <td>Southern Utah University</td>\n",
              "      <td>NaN</td>\n",
              "      <td>NaN</td>\n",
              "      <td>NaN</td>\n",
              "      <td>Western</td>\n",
              "    </tr>\n",
              "    <tr>\n",
              "      <th>267</th>\n",
              "      <td>Montana State University - Billings</td>\n",
              "      <td>NaN</td>\n",
              "      <td>NaN</td>\n",
              "      <td>NaN</td>\n",
              "      <td>Western</td>\n",
              "    </tr>\n",
              "    <tr>\n",
              "      <th>268</th>\n",
              "      <td>Black Hills State University</td>\n",
              "      <td>NaN</td>\n",
              "      <td>NaN</td>\n",
              "      <td>NaN</td>\n",
              "      <td>Midwestern</td>\n",
              "    </tr>\n",
              "  </tbody>\n",
              "</table>\n",
              "<p>269 rows × 5 columns</p>\n",
              "</div>"
            ],
            "text/plain": [
              "                                      School Name  ...        Region\n",
              "0     Massachusetts Institute of Technology (MIT)  ...  Northeastern\n",
              "1        California Institute of Technology (CIT)  ...    California\n",
              "2                             Harvey Mudd College  ...    California\n",
              "3    Polytechnic University of New York, Brooklyn  ...  Northeastern\n",
              "4                                    Cooper Union  ...  Northeastern\n",
              "..                                            ...  ...           ...\n",
              "264                  Austin Peay State University  ...      Southern\n",
              "265                    Pittsburg State University  ...    Midwestern\n",
              "266                      Southern Utah University  ...       Western\n",
              "267           Montana State University - Billings  ...       Western\n",
              "268                  Black Hills State University  ...    Midwestern\n",
              "\n",
              "[269 rows x 5 columns]"
            ]
          },
          "metadata": {
            "tags": []
          },
          "execution_count": 52
        }
      ]
    },
    {
      "cell_type": "code",
      "metadata": {
        "colab": {
          "base_uri": "https://localhost:8080/",
          "height": 419
        },
        "id": "FEFZxlOzhprW",
        "outputId": "794edae7-21f5-40c7-bf06-b4ff0547c44f"
      },
      "source": [
        "state"
      ],
      "execution_count": 53,
      "outputs": [
        {
          "output_type": "execute_result",
          "data": {
            "text/html": [
              "<div>\n",
              "<style scoped>\n",
              "    .dataframe tbody tr th:only-of-type {\n",
              "        vertical-align: middle;\n",
              "    }\n",
              "\n",
              "    .dataframe tbody tr th {\n",
              "        vertical-align: top;\n",
              "    }\n",
              "\n",
              "    .dataframe thead th {\n",
              "        text-align: right;\n",
              "    }\n",
              "</style>\n",
              "<table border=\"1\" class=\"dataframe\">\n",
              "  <thead>\n",
              "    <tr style=\"text-align: right;\">\n",
              "      <th></th>\n",
              "      <th>School Name</th>\n",
              "      <th>School Type</th>\n",
              "      <th>Starting Median Salary</th>\n",
              "      <th>Mid-Career Median Salary</th>\n",
              "    </tr>\n",
              "  </thead>\n",
              "  <tbody>\n",
              "    <tr>\n",
              "      <th>0</th>\n",
              "      <td>University of California, Berkeley</td>\n",
              "      <td>State</td>\n",
              "      <td>$59,900.00</td>\n",
              "      <td>$112,000.00</td>\n",
              "    </tr>\n",
              "    <tr>\n",
              "      <th>1</th>\n",
              "      <td>University of Virginia (UVA)</td>\n",
              "      <td>State</td>\n",
              "      <td>$52,700.00</td>\n",
              "      <td>$103,000.00</td>\n",
              "    </tr>\n",
              "    <tr>\n",
              "      <th>2</th>\n",
              "      <td>Cal Poly San Luis Obispo</td>\n",
              "      <td>State</td>\n",
              "      <td>$57,200.00</td>\n",
              "      <td>$101,000.00</td>\n",
              "    </tr>\n",
              "    <tr>\n",
              "      <th>3</th>\n",
              "      <td>University of California at Los Angeles (UCLA)</td>\n",
              "      <td>State</td>\n",
              "      <td>$52,600.00</td>\n",
              "      <td>$101,000.00</td>\n",
              "    </tr>\n",
              "    <tr>\n",
              "      <th>4</th>\n",
              "      <td>University of California, San Diego (UCSD)</td>\n",
              "      <td>State</td>\n",
              "      <td>$51,100.00</td>\n",
              "      <td>$101,000.00</td>\n",
              "    </tr>\n",
              "    <tr>\n",
              "      <th>...</th>\n",
              "      <td>...</td>\n",
              "      <td>...</td>\n",
              "      <td>...</td>\n",
              "      <td>...</td>\n",
              "    </tr>\n",
              "    <tr>\n",
              "      <th>170</th>\n",
              "      <td>Austin Peay State University</td>\n",
              "      <td>State</td>\n",
              "      <td>$37,700.00</td>\n",
              "      <td>$59,200.00</td>\n",
              "    </tr>\n",
              "    <tr>\n",
              "      <th>171</th>\n",
              "      <td>Pittsburg State University</td>\n",
              "      <td>State</td>\n",
              "      <td>$40,400.00</td>\n",
              "      <td>$58,200.00</td>\n",
              "    </tr>\n",
              "    <tr>\n",
              "      <th>172</th>\n",
              "      <td>Southern Utah University</td>\n",
              "      <td>State</td>\n",
              "      <td>$41,900.00</td>\n",
              "      <td>$56,500.00</td>\n",
              "    </tr>\n",
              "    <tr>\n",
              "      <th>173</th>\n",
              "      <td>Montana State University - Billings</td>\n",
              "      <td>State</td>\n",
              "      <td>$37,900.00</td>\n",
              "      <td>$50,600.00</td>\n",
              "    </tr>\n",
              "    <tr>\n",
              "      <th>174</th>\n",
              "      <td>Black Hills State University</td>\n",
              "      <td>State</td>\n",
              "      <td>$35,300.00</td>\n",
              "      <td>$43,900.00</td>\n",
              "    </tr>\n",
              "  </tbody>\n",
              "</table>\n",
              "<p>175 rows × 4 columns</p>\n",
              "</div>"
            ],
            "text/plain": [
              "                                        School Name  ... Mid-Career Median Salary\n",
              "0                University of California, Berkeley  ...             $112,000.00 \n",
              "1                      University of Virginia (UVA)  ...             $103,000.00 \n",
              "2                          Cal Poly San Luis Obispo  ...             $101,000.00 \n",
              "3    University of California at Los Angeles (UCLA)  ...             $101,000.00 \n",
              "4        University of California, San Diego (UCSD)  ...             $101,000.00 \n",
              "..                                              ...  ...                      ...\n",
              "170                    Austin Peay State University  ...              $59,200.00 \n",
              "171                      Pittsburg State University  ...              $58,200.00 \n",
              "172                        Southern Utah University  ...              $56,500.00 \n",
              "173             Montana State University - Billings  ...              $50,600.00 \n",
              "174                    Black Hills State University  ...              $43,900.00 \n",
              "\n",
              "[175 rows x 4 columns]"
            ]
          },
          "metadata": {
            "tags": []
          },
          "execution_count": 53
        }
      ]
    },
    {
      "cell_type": "code",
      "metadata": {
        "colab": {
          "base_uri": "https://localhost:8080/"
        },
        "id": "-bJ-mqcgiHJe",
        "outputId": "0acc935b-f47b-4bdd-ff3e-db5540c67b99"
      },
      "source": [
        "state['School Name'].is_unique"
      ],
      "execution_count": 54,
      "outputs": [
        {
          "output_type": "execute_result",
          "data": {
            "text/plain": [
              "True"
            ]
          },
          "metadata": {
            "tags": []
          },
          "execution_count": 54
        }
      ]
    },
    {
      "cell_type": "code",
      "metadata": {
        "colab": {
          "base_uri": "https://localhost:8080/"
        },
        "id": "75SeT8uxiVFa",
        "outputId": "6a816b92-74c9-4ca9-cd20-018feedfd982"
      },
      "source": [
        "regions['School Name'].is_unique"
      ],
      "execution_count": 55,
      "outputs": [
        {
          "output_type": "execute_result",
          "data": {
            "text/plain": [
              "False"
            ]
          },
          "metadata": {
            "tags": []
          },
          "execution_count": 55
        }
      ]
    },
    {
      "cell_type": "code",
      "metadata": {
        "colab": {
          "base_uri": "https://localhost:8080/",
          "height": 142
        },
        "id": "w3e226wnU2Yc",
        "outputId": "3d55fde2-4e5f-45e5-e5b6-bcd2d7b4ed5b"
      },
      "source": [
        "liberal.head(3\n",
        "             )"
      ],
      "execution_count": 56,
      "outputs": [
        {
          "output_type": "execute_result",
          "data": {
            "text/html": [
              "<div>\n",
              "<style scoped>\n",
              "    .dataframe tbody tr th:only-of-type {\n",
              "        vertical-align: middle;\n",
              "    }\n",
              "\n",
              "    .dataframe tbody tr th {\n",
              "        vertical-align: top;\n",
              "    }\n",
              "\n",
              "    .dataframe thead th {\n",
              "        text-align: right;\n",
              "    }\n",
              "</style>\n",
              "<table border=\"1\" class=\"dataframe\">\n",
              "  <thead>\n",
              "    <tr style=\"text-align: right;\">\n",
              "      <th></th>\n",
              "      <th>School Name</th>\n",
              "      <th>School Type</th>\n",
              "      <th>Starting Median Salary</th>\n",
              "      <th>Mid-Career Median Salary</th>\n",
              "    </tr>\n",
              "  </thead>\n",
              "  <tbody>\n",
              "    <tr>\n",
              "      <th>0</th>\n",
              "      <td>Bucknell University</td>\n",
              "      <td>Liberal Arts</td>\n",
              "      <td>$54,100.00</td>\n",
              "      <td>$110,000.00</td>\n",
              "    </tr>\n",
              "    <tr>\n",
              "      <th>1</th>\n",
              "      <td>Colgate University</td>\n",
              "      <td>Liberal Arts</td>\n",
              "      <td>$52,800.00</td>\n",
              "      <td>$108,000.00</td>\n",
              "    </tr>\n",
              "    <tr>\n",
              "      <th>2</th>\n",
              "      <td>Amherst College</td>\n",
              "      <td>Liberal Arts</td>\n",
              "      <td>$54,500.00</td>\n",
              "      <td>$107,000.00</td>\n",
              "    </tr>\n",
              "  </tbody>\n",
              "</table>\n",
              "</div>"
            ],
            "text/plain": [
              "           School Name  ... Mid-Career Median Salary\n",
              "0  Bucknell University  ...             $110,000.00 \n",
              "1   Colgate University  ...             $108,000.00 \n",
              "2      Amherst College  ...             $107,000.00 \n",
              "\n",
              "[3 rows x 4 columns]"
            ]
          },
          "metadata": {
            "tags": []
          },
          "execution_count": 56
        }
      ]
    },
    {
      "cell_type": "code",
      "metadata": {
        "colab": {
          "base_uri": "https://localhost:8080/",
          "height": 142
        },
        "id": "OZrkeAcHU3eV",
        "outputId": "a8129927-3f59-4cb2-8a7f-815285a21c02"
      },
      "source": [
        "regions.head(3\n",
        "             )"
      ],
      "execution_count": 57,
      "outputs": [
        {
          "output_type": "execute_result",
          "data": {
            "text/html": [
              "<div>\n",
              "<style scoped>\n",
              "    .dataframe tbody tr th:only-of-type {\n",
              "        vertical-align: middle;\n",
              "    }\n",
              "\n",
              "    .dataframe tbody tr th {\n",
              "        vertical-align: top;\n",
              "    }\n",
              "\n",
              "    .dataframe thead th {\n",
              "        text-align: right;\n",
              "    }\n",
              "</style>\n",
              "<table border=\"1\" class=\"dataframe\">\n",
              "  <thead>\n",
              "    <tr style=\"text-align: right;\">\n",
              "      <th></th>\n",
              "      <th>School Name</th>\n",
              "      <th>Region</th>\n",
              "    </tr>\n",
              "  </thead>\n",
              "  <tbody>\n",
              "    <tr>\n",
              "      <th>0</th>\n",
              "      <td>Massachusetts Institute of Technology (MIT)</td>\n",
              "      <td>Northeastern</td>\n",
              "    </tr>\n",
              "    <tr>\n",
              "      <th>1</th>\n",
              "      <td>California Institute of Technology (CIT)</td>\n",
              "      <td>California</td>\n",
              "    </tr>\n",
              "    <tr>\n",
              "      <th>2</th>\n",
              "      <td>Harvey Mudd College</td>\n",
              "      <td>California</td>\n",
              "    </tr>\n",
              "  </tbody>\n",
              "</table>\n",
              "</div>"
            ],
            "text/plain": [
              "                                   School Name        Region\n",
              "0  Massachusetts Institute of Technology (MIT)  Northeastern\n",
              "1     California Institute of Technology (CIT)    California\n",
              "2                          Harvey Mudd College    California"
            ]
          },
          "metadata": {
            "tags": []
          },
          "execution_count": 57
        }
      ]
    },
    {
      "cell_type": "code",
      "metadata": {
        "id": "OFQgGvXCi8OB"
      },
      "source": [
        " dfm = pd.merge(liberal,regions,right_on='School Name', left_on='School Name')"
      ],
      "execution_count": 58,
      "outputs": []
    },
    {
      "cell_type": "code",
      "metadata": {
        "colab": {
          "base_uri": "https://localhost:8080/"
        },
        "id": "7n4kChxlVZYk",
        "outputId": "fd3cc34f-22e8-458c-e804-ca34218f3453"
      },
      "source": [
        "dfm.Region.value_counts()"
      ],
      "execution_count": 59,
      "outputs": [
        {
          "output_type": "execute_result",
          "data": {
            "text/plain": [
              "Northeastern    25\n",
              "Midwestern       8\n",
              "Western          7\n",
              "Southern         5\n",
              "California       3\n",
              "Name: Region, dtype: int64"
            ]
          },
          "metadata": {
            "tags": []
          },
          "execution_count": 59
        }
      ]
    },
    {
      "cell_type": "code",
      "metadata": {
        "id": "UZ_kteWQV4bY",
        "colab": {
          "base_uri": "https://localhost:8080/",
          "height": 272
        },
        "outputId": "0a9a03ee-49dd-4fea-f189-6564c788c9e1"
      },
      "source": [
        "mid_career.head()"
      ],
      "execution_count": 60,
      "outputs": [
        {
          "output_type": "execute_result",
          "data": {
            "text/html": [
              "<div>\n",
              "<style scoped>\n",
              "    .dataframe tbody tr th:only-of-type {\n",
              "        vertical-align: middle;\n",
              "    }\n",
              "\n",
              "    .dataframe tbody tr th {\n",
              "        vertical-align: top;\n",
              "    }\n",
              "\n",
              "    .dataframe thead th {\n",
              "        text-align: right;\n",
              "    }\n",
              "</style>\n",
              "<table border=\"1\" class=\"dataframe\">\n",
              "  <thead>\n",
              "    <tr style=\"text-align: right;\">\n",
              "      <th></th>\n",
              "      <th>school_name</th>\n",
              "      <th>Mid-Career 10th Percentile Salary</th>\n",
              "      <th>Mid-Career 25th Percentile Salary</th>\n",
              "      <th>Mid-Career 75th Percentile Salary</th>\n",
              "      <th>Mid-Career 90th Percentile Salary</th>\n",
              "    </tr>\n",
              "  </thead>\n",
              "  <tbody>\n",
              "    <tr>\n",
              "      <th>0</th>\n",
              "      <td>Massachusetts Institute of Technology (MIT)</td>\n",
              "      <td>$76,800.00</td>\n",
              "      <td>$99,200.00</td>\n",
              "      <td>$168,000.00</td>\n",
              "      <td>$220,000.00</td>\n",
              "    </tr>\n",
              "    <tr>\n",
              "      <th>1</th>\n",
              "      <td>California Institute of Technology (CIT)</td>\n",
              "      <td>NaN</td>\n",
              "      <td>$104,000.00</td>\n",
              "      <td>$161,000.00</td>\n",
              "      <td>NaN</td>\n",
              "    </tr>\n",
              "    <tr>\n",
              "      <th>2</th>\n",
              "      <td>Harvey Mudd College</td>\n",
              "      <td>NaN</td>\n",
              "      <td>$96,000.00</td>\n",
              "      <td>$180,000.00</td>\n",
              "      <td>NaN</td>\n",
              "    </tr>\n",
              "    <tr>\n",
              "      <th>3</th>\n",
              "      <td>Polytechnic University of New York, Brooklyn</td>\n",
              "      <td>$66,800.00</td>\n",
              "      <td>$94,300.00</td>\n",
              "      <td>$143,000.00</td>\n",
              "      <td>$190,000.00</td>\n",
              "    </tr>\n",
              "    <tr>\n",
              "      <th>4</th>\n",
              "      <td>Cooper Union</td>\n",
              "      <td>NaN</td>\n",
              "      <td>$80,200.00</td>\n",
              "      <td>$142,000.00</td>\n",
              "      <td>NaN</td>\n",
              "    </tr>\n",
              "  </tbody>\n",
              "</table>\n",
              "</div>"
            ],
            "text/plain": [
              "                                    school_name  ... Mid-Career 90th Percentile Salary\n",
              "0   Massachusetts Institute of Technology (MIT)  ...                      $220,000.00 \n",
              "1      California Institute of Technology (CIT)  ...                               NaN\n",
              "2                           Harvey Mudd College  ...                               NaN\n",
              "3  Polytechnic University of New York, Brooklyn  ...                      $190,000.00 \n",
              "4                                  Cooper Union  ...                               NaN\n",
              "\n",
              "[5 rows x 5 columns]"
            ]
          },
          "metadata": {
            "tags": []
          },
          "execution_count": 60
        }
      ]
    },
    {
      "cell_type": "code",
      "metadata": {
        "id": "U5PKnldJYCzd"
      },
      "source": [
        "mid_career1 = mid_career.set_index('school_name')"
      ],
      "execution_count": 61,
      "outputs": []
    },
    {
      "cell_type": "code",
      "metadata": {
        "colab": {
          "base_uri": "https://localhost:8080/",
          "height": 518
        },
        "id": "SdUexVK6YTuU",
        "outputId": "da3a17dc-0019-4caf-9fba-c67222a76d36"
      },
      "source": [
        "mid_career1"
      ],
      "execution_count": 62,
      "outputs": [
        {
          "output_type": "execute_result",
          "data": {
            "text/html": [
              "<div>\n",
              "<style scoped>\n",
              "    .dataframe tbody tr th:only-of-type {\n",
              "        vertical-align: middle;\n",
              "    }\n",
              "\n",
              "    .dataframe tbody tr th {\n",
              "        vertical-align: top;\n",
              "    }\n",
              "\n",
              "    .dataframe thead th {\n",
              "        text-align: right;\n",
              "    }\n",
              "</style>\n",
              "<table border=\"1\" class=\"dataframe\">\n",
              "  <thead>\n",
              "    <tr style=\"text-align: right;\">\n",
              "      <th></th>\n",
              "      <th>Mid-Career 10th Percentile Salary</th>\n",
              "      <th>Mid-Career 25th Percentile Salary</th>\n",
              "      <th>Mid-Career 75th Percentile Salary</th>\n",
              "      <th>Mid-Career 90th Percentile Salary</th>\n",
              "    </tr>\n",
              "    <tr>\n",
              "      <th>school_name</th>\n",
              "      <th></th>\n",
              "      <th></th>\n",
              "      <th></th>\n",
              "      <th></th>\n",
              "    </tr>\n",
              "  </thead>\n",
              "  <tbody>\n",
              "    <tr>\n",
              "      <th>Massachusetts Institute of Technology (MIT)</th>\n",
              "      <td>$76,800.00</td>\n",
              "      <td>$99,200.00</td>\n",
              "      <td>$168,000.00</td>\n",
              "      <td>$220,000.00</td>\n",
              "    </tr>\n",
              "    <tr>\n",
              "      <th>California Institute of Technology (CIT)</th>\n",
              "      <td>NaN</td>\n",
              "      <td>$104,000.00</td>\n",
              "      <td>$161,000.00</td>\n",
              "      <td>NaN</td>\n",
              "    </tr>\n",
              "    <tr>\n",
              "      <th>Harvey Mudd College</th>\n",
              "      <td>NaN</td>\n",
              "      <td>$96,000.00</td>\n",
              "      <td>$180,000.00</td>\n",
              "      <td>NaN</td>\n",
              "    </tr>\n",
              "    <tr>\n",
              "      <th>Polytechnic University of New York, Brooklyn</th>\n",
              "      <td>$66,800.00</td>\n",
              "      <td>$94,300.00</td>\n",
              "      <td>$143,000.00</td>\n",
              "      <td>$190,000.00</td>\n",
              "    </tr>\n",
              "    <tr>\n",
              "      <th>Cooper Union</th>\n",
              "      <td>NaN</td>\n",
              "      <td>$80,200.00</td>\n",
              "      <td>$142,000.00</td>\n",
              "      <td>NaN</td>\n",
              "    </tr>\n",
              "    <tr>\n",
              "      <th>...</th>\n",
              "      <td>...</td>\n",
              "      <td>...</td>\n",
              "      <td>...</td>\n",
              "      <td>...</td>\n",
              "    </tr>\n",
              "    <tr>\n",
              "      <th>Austin Peay State University</th>\n",
              "      <td>$32,200.00</td>\n",
              "      <td>$40,500.00</td>\n",
              "      <td>$73,900.00</td>\n",
              "      <td>$96,200.00</td>\n",
              "    </tr>\n",
              "    <tr>\n",
              "      <th>Pittsburg State University</th>\n",
              "      <td>$25,600.00</td>\n",
              "      <td>$46,000.00</td>\n",
              "      <td>$84,600.00</td>\n",
              "      <td>$117,000.00</td>\n",
              "    </tr>\n",
              "    <tr>\n",
              "      <th>Southern Utah University</th>\n",
              "      <td>$30,700.00</td>\n",
              "      <td>$39,700.00</td>\n",
              "      <td>$78,400.00</td>\n",
              "      <td>$116,000.00</td>\n",
              "    </tr>\n",
              "    <tr>\n",
              "      <th>Montana State University - Billings</th>\n",
              "      <td>$22,600.00</td>\n",
              "      <td>$31,800.00</td>\n",
              "      <td>$78,500.00</td>\n",
              "      <td>$98,900.00</td>\n",
              "    </tr>\n",
              "    <tr>\n",
              "      <th>Black Hills State University</th>\n",
              "      <td>$27,000.00</td>\n",
              "      <td>$32,200.00</td>\n",
              "      <td>$60,900.00</td>\n",
              "      <td>$87,600.00</td>\n",
              "    </tr>\n",
              "  </tbody>\n",
              "</table>\n",
              "<p>269 rows × 4 columns</p>\n",
              "</div>"
            ],
            "text/plain": [
              "                                             Mid-Career 10th Percentile Salary  ... Mid-Career 90th Percentile Salary\n",
              "school_name                                                                     ...                                  \n",
              "Massachusetts Institute of Technology (MIT)                        $76,800.00   ...                      $220,000.00 \n",
              "California Institute of Technology (CIT)                                   NaN  ...                               NaN\n",
              "Harvey Mudd College                                                        NaN  ...                               NaN\n",
              "Polytechnic University of New York, Brooklyn                       $66,800.00   ...                      $190,000.00 \n",
              "Cooper Union                                                               NaN  ...                               NaN\n",
              "...                                                                        ...  ...                               ...\n",
              "Austin Peay State University                                       $32,200.00   ...                       $96,200.00 \n",
              "Pittsburg State University                                         $25,600.00   ...                      $117,000.00 \n",
              "Southern Utah University                                           $30,700.00   ...                      $116,000.00 \n",
              "Montana State University - Billings                                $22,600.00   ...                       $98,900.00 \n",
              "Black Hills State University                                       $27,000.00   ...                       $87,600.00 \n",
              "\n",
              "[269 rows x 4 columns]"
            ]
          },
          "metadata": {
            "tags": []
          },
          "execution_count": 62
        }
      ]
    },
    {
      "cell_type": "code",
      "metadata": {
        "colab": {
          "base_uri": "https://localhost:8080/",
          "height": 518
        },
        "id": "6jWkvfpp2oxA",
        "outputId": "eedc73ee-584e-43d2-b3fe-56eb863274b3"
      },
      "source": [
        "mid_career1.isnull()"
      ],
      "execution_count": 63,
      "outputs": [
        {
          "output_type": "execute_result",
          "data": {
            "text/html": [
              "<div>\n",
              "<style scoped>\n",
              "    .dataframe tbody tr th:only-of-type {\n",
              "        vertical-align: middle;\n",
              "    }\n",
              "\n",
              "    .dataframe tbody tr th {\n",
              "        vertical-align: top;\n",
              "    }\n",
              "\n",
              "    .dataframe thead th {\n",
              "        text-align: right;\n",
              "    }\n",
              "</style>\n",
              "<table border=\"1\" class=\"dataframe\">\n",
              "  <thead>\n",
              "    <tr style=\"text-align: right;\">\n",
              "      <th></th>\n",
              "      <th>Mid-Career 10th Percentile Salary</th>\n",
              "      <th>Mid-Career 25th Percentile Salary</th>\n",
              "      <th>Mid-Career 75th Percentile Salary</th>\n",
              "      <th>Mid-Career 90th Percentile Salary</th>\n",
              "    </tr>\n",
              "    <tr>\n",
              "      <th>school_name</th>\n",
              "      <th></th>\n",
              "      <th></th>\n",
              "      <th></th>\n",
              "      <th></th>\n",
              "    </tr>\n",
              "  </thead>\n",
              "  <tbody>\n",
              "    <tr>\n",
              "      <th>Massachusetts Institute of Technology (MIT)</th>\n",
              "      <td>False</td>\n",
              "      <td>False</td>\n",
              "      <td>False</td>\n",
              "      <td>False</td>\n",
              "    </tr>\n",
              "    <tr>\n",
              "      <th>California Institute of Technology (CIT)</th>\n",
              "      <td>True</td>\n",
              "      <td>False</td>\n",
              "      <td>False</td>\n",
              "      <td>True</td>\n",
              "    </tr>\n",
              "    <tr>\n",
              "      <th>Harvey Mudd College</th>\n",
              "      <td>True</td>\n",
              "      <td>False</td>\n",
              "      <td>False</td>\n",
              "      <td>True</td>\n",
              "    </tr>\n",
              "    <tr>\n",
              "      <th>Polytechnic University of New York, Brooklyn</th>\n",
              "      <td>False</td>\n",
              "      <td>False</td>\n",
              "      <td>False</td>\n",
              "      <td>False</td>\n",
              "    </tr>\n",
              "    <tr>\n",
              "      <th>Cooper Union</th>\n",
              "      <td>True</td>\n",
              "      <td>False</td>\n",
              "      <td>False</td>\n",
              "      <td>True</td>\n",
              "    </tr>\n",
              "    <tr>\n",
              "      <th>...</th>\n",
              "      <td>...</td>\n",
              "      <td>...</td>\n",
              "      <td>...</td>\n",
              "      <td>...</td>\n",
              "    </tr>\n",
              "    <tr>\n",
              "      <th>Austin Peay State University</th>\n",
              "      <td>False</td>\n",
              "      <td>False</td>\n",
              "      <td>False</td>\n",
              "      <td>False</td>\n",
              "    </tr>\n",
              "    <tr>\n",
              "      <th>Pittsburg State University</th>\n",
              "      <td>False</td>\n",
              "      <td>False</td>\n",
              "      <td>False</td>\n",
              "      <td>False</td>\n",
              "    </tr>\n",
              "    <tr>\n",
              "      <th>Southern Utah University</th>\n",
              "      <td>False</td>\n",
              "      <td>False</td>\n",
              "      <td>False</td>\n",
              "      <td>False</td>\n",
              "    </tr>\n",
              "    <tr>\n",
              "      <th>Montana State University - Billings</th>\n",
              "      <td>False</td>\n",
              "      <td>False</td>\n",
              "      <td>False</td>\n",
              "      <td>False</td>\n",
              "    </tr>\n",
              "    <tr>\n",
              "      <th>Black Hills State University</th>\n",
              "      <td>False</td>\n",
              "      <td>False</td>\n",
              "      <td>False</td>\n",
              "      <td>False</td>\n",
              "    </tr>\n",
              "  </tbody>\n",
              "</table>\n",
              "<p>269 rows × 4 columns</p>\n",
              "</div>"
            ],
            "text/plain": [
              "                                              Mid-Career 10th Percentile Salary  ...  Mid-Career 90th Percentile Salary\n",
              "school_name                                                                      ...                                   \n",
              "Massachusetts Institute of Technology (MIT)                               False  ...                              False\n",
              "California Institute of Technology (CIT)                                   True  ...                               True\n",
              "Harvey Mudd College                                                        True  ...                               True\n",
              "Polytechnic University of New York, Brooklyn                              False  ...                              False\n",
              "Cooper Union                                                               True  ...                               True\n",
              "...                                                                         ...  ...                                ...\n",
              "Austin Peay State University                                              False  ...                              False\n",
              "Pittsburg State University                                                False  ...                              False\n",
              "Southern Utah University                                                  False  ...                              False\n",
              "Montana State University - Billings                                       False  ...                              False\n",
              "Black Hills State University                                              False  ...                              False\n",
              "\n",
              "[269 rows x 4 columns]"
            ]
          },
          "metadata": {
            "tags": []
          },
          "execution_count": 63
        }
      ]
    },
    {
      "cell_type": "code",
      "metadata": {
        "id": "Ew3Plprv3FIH",
        "colab": {
          "base_uri": "https://localhost:8080/",
          "height": 518
        },
        "outputId": "6a5d186c-cdce-4ea1-b510-ce5e46271d32"
      },
      "source": [
        "mid_career1.fillna(0)"
      ],
      "execution_count": 64,
      "outputs": [
        {
          "output_type": "execute_result",
          "data": {
            "text/html": [
              "<div>\n",
              "<style scoped>\n",
              "    .dataframe tbody tr th:only-of-type {\n",
              "        vertical-align: middle;\n",
              "    }\n",
              "\n",
              "    .dataframe tbody tr th {\n",
              "        vertical-align: top;\n",
              "    }\n",
              "\n",
              "    .dataframe thead th {\n",
              "        text-align: right;\n",
              "    }\n",
              "</style>\n",
              "<table border=\"1\" class=\"dataframe\">\n",
              "  <thead>\n",
              "    <tr style=\"text-align: right;\">\n",
              "      <th></th>\n",
              "      <th>Mid-Career 10th Percentile Salary</th>\n",
              "      <th>Mid-Career 25th Percentile Salary</th>\n",
              "      <th>Mid-Career 75th Percentile Salary</th>\n",
              "      <th>Mid-Career 90th Percentile Salary</th>\n",
              "    </tr>\n",
              "    <tr>\n",
              "      <th>school_name</th>\n",
              "      <th></th>\n",
              "      <th></th>\n",
              "      <th></th>\n",
              "      <th></th>\n",
              "    </tr>\n",
              "  </thead>\n",
              "  <tbody>\n",
              "    <tr>\n",
              "      <th>Massachusetts Institute of Technology (MIT)</th>\n",
              "      <td>$76,800.00</td>\n",
              "      <td>$99,200.00</td>\n",
              "      <td>$168,000.00</td>\n",
              "      <td>$220,000.00</td>\n",
              "    </tr>\n",
              "    <tr>\n",
              "      <th>California Institute of Technology (CIT)</th>\n",
              "      <td>0</td>\n",
              "      <td>$104,000.00</td>\n",
              "      <td>$161,000.00</td>\n",
              "      <td>0</td>\n",
              "    </tr>\n",
              "    <tr>\n",
              "      <th>Harvey Mudd College</th>\n",
              "      <td>0</td>\n",
              "      <td>$96,000.00</td>\n",
              "      <td>$180,000.00</td>\n",
              "      <td>0</td>\n",
              "    </tr>\n",
              "    <tr>\n",
              "      <th>Polytechnic University of New York, Brooklyn</th>\n",
              "      <td>$66,800.00</td>\n",
              "      <td>$94,300.00</td>\n",
              "      <td>$143,000.00</td>\n",
              "      <td>$190,000.00</td>\n",
              "    </tr>\n",
              "    <tr>\n",
              "      <th>Cooper Union</th>\n",
              "      <td>0</td>\n",
              "      <td>$80,200.00</td>\n",
              "      <td>$142,000.00</td>\n",
              "      <td>0</td>\n",
              "    </tr>\n",
              "    <tr>\n",
              "      <th>...</th>\n",
              "      <td>...</td>\n",
              "      <td>...</td>\n",
              "      <td>...</td>\n",
              "      <td>...</td>\n",
              "    </tr>\n",
              "    <tr>\n",
              "      <th>Austin Peay State University</th>\n",
              "      <td>$32,200.00</td>\n",
              "      <td>$40,500.00</td>\n",
              "      <td>$73,900.00</td>\n",
              "      <td>$96,200.00</td>\n",
              "    </tr>\n",
              "    <tr>\n",
              "      <th>Pittsburg State University</th>\n",
              "      <td>$25,600.00</td>\n",
              "      <td>$46,000.00</td>\n",
              "      <td>$84,600.00</td>\n",
              "      <td>$117,000.00</td>\n",
              "    </tr>\n",
              "    <tr>\n",
              "      <th>Southern Utah University</th>\n",
              "      <td>$30,700.00</td>\n",
              "      <td>$39,700.00</td>\n",
              "      <td>$78,400.00</td>\n",
              "      <td>$116,000.00</td>\n",
              "    </tr>\n",
              "    <tr>\n",
              "      <th>Montana State University - Billings</th>\n",
              "      <td>$22,600.00</td>\n",
              "      <td>$31,800.00</td>\n",
              "      <td>$78,500.00</td>\n",
              "      <td>$98,900.00</td>\n",
              "    </tr>\n",
              "    <tr>\n",
              "      <th>Black Hills State University</th>\n",
              "      <td>$27,000.00</td>\n",
              "      <td>$32,200.00</td>\n",
              "      <td>$60,900.00</td>\n",
              "      <td>$87,600.00</td>\n",
              "    </tr>\n",
              "  </tbody>\n",
              "</table>\n",
              "<p>269 rows × 4 columns</p>\n",
              "</div>"
            ],
            "text/plain": [
              "                                             Mid-Career 10th Percentile Salary  ... Mid-Career 90th Percentile Salary\n",
              "school_name                                                                     ...                                  \n",
              "Massachusetts Institute of Technology (MIT)                        $76,800.00   ...                      $220,000.00 \n",
              "California Institute of Technology (CIT)                                     0  ...                                 0\n",
              "Harvey Mudd College                                                          0  ...                                 0\n",
              "Polytechnic University of New York, Brooklyn                       $66,800.00   ...                      $190,000.00 \n",
              "Cooper Union                                                                 0  ...                                 0\n",
              "...                                                                        ...  ...                               ...\n",
              "Austin Peay State University                                       $32,200.00   ...                       $96,200.00 \n",
              "Pittsburg State University                                         $25,600.00   ...                      $117,000.00 \n",
              "Southern Utah University                                           $30,700.00   ...                      $116,000.00 \n",
              "Montana State University - Billings                                $22,600.00   ...                       $98,900.00 \n",
              "Black Hills State University                                       $27,000.00   ...                       $87,600.00 \n",
              "\n",
              "[269 rows x 4 columns]"
            ]
          },
          "metadata": {
            "tags": []
          },
          "execution_count": 64
        }
      ]
    }
  ]
}