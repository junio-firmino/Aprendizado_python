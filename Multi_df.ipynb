{
  "nbformat": 4,
  "nbformat_minor": 0,
  "metadata": {
    "colab": {
      "name": "Multi_df.ipynb",
      "provenance": [],
      "mount_file_id": "1QbWYMaYeWEQP30Pl9fMg0eVLj6YdTMQ0",
      "authorship_tag": "ABX9TyMNc40nNtlHTA03BnVCMR9D",
      "include_colab_link": true
    },
    "kernelspec": {
      "name": "python3",
      "display_name": "Python 3"
    },
    "language_info": {
      "name": "python"
    }
  },
  "cells": [
    {
      "cell_type": "markdown",
      "metadata": {
        "id": "view-in-github",
        "colab_type": "text"
      },
      "source": [
        "<a href=\"https://colab.research.google.com/github/junio-firmino/Aprendizado_python/blob/master/Multi_df.ipynb\" target=\"_parent\"><img src=\"https://colab.research.google.com/assets/colab-badge.svg\" alt=\"Open In Colab\"/></a>"
      ]
    },
    {
      "cell_type": "code",
      "metadata": {
        "id": "zyLKC7UkGWvm"
      },
      "source": [
        "import pandas as pd\n",
        "\n"
      ],
      "execution_count": null,
      "outputs": []
    },
    {
      "cell_type": "code",
      "metadata": {
        "id": "KhFy9x9EIJHB"
      },
      "source": [
        "eng_url = \"/content/drive/MyDrive/eng.csv\"\n",
        "state_url = \"/content/drive/MyDrive/state.csv\"\n",
        "liberal_url= \"/content/drive/MyDrive/liberal_arts.csv\"\n",
        "ivies_url = \"/content/drive/MyDrive/ivies.csv\"\n"
      ],
      "execution_count": null,
      "outputs": []
    },
    {
      "cell_type": "code",
      "metadata": {
        "id": "wBD6YPZqI_hJ"
      },
      "source": [
        "eng = pd.read_csv(eng_url)"
      ],
      "execution_count": null,
      "outputs": []
    },
    {
      "cell_type": "code",
      "metadata": {
        "id": "uveGDlyBJkLe"
      },
      "source": [
        "state = pd.read_csv(state_url)"
      ],
      "execution_count": null,
      "outputs": []
    },
    {
      "cell_type": "code",
      "metadata": {
        "id": "9Hsym6DoJkg6"
      },
      "source": [
        "liberal = pd.read_csv(liberal_url)"
      ],
      "execution_count": null,
      "outputs": []
    },
    {
      "cell_type": "code",
      "metadata": {
        "id": "AONhriwjJWiL"
      },
      "source": [
        "ivies = pd.read_csv(ivies_url)\n"
      ],
      "execution_count": null,
      "outputs": []
    },
    {
      "cell_type": "code",
      "metadata": {
        "id": "HFhNMUkvK0PP"
      },
      "source": [
        "dfs = [eng,state,liberal,ivies]\n"
      ],
      "execution_count": null,
      "outputs": []
    },
    {
      "cell_type": "code",
      "metadata": {
        "colab": {
          "base_uri": "https://localhost:8080/",
          "height": 414
        },
        "id": "rEm4Ll18LpeP",
        "outputId": "5eb2ae31-dbe9-4a6e-c023-6fff60308c6c"
      },
      "source": [
        "pd.concat(dfs)"
      ],
      "execution_count": null,
      "outputs": [
        {
          "output_type": "execute_result",
          "data": {
            "text/html": [
              "<div>\n",
              "<style scoped>\n",
              "    .dataframe tbody tr th:only-of-type {\n",
              "        vertical-align: middle;\n",
              "    }\n",
              "\n",
              "    .dataframe tbody tr th {\n",
              "        vertical-align: top;\n",
              "    }\n",
              "\n",
              "    .dataframe thead th {\n",
              "        text-align: right;\n",
              "    }\n",
              "</style>\n",
              "<table border=\"1\" class=\"dataframe\">\n",
              "  <thead>\n",
              "    <tr style=\"text-align: right;\">\n",
              "      <th></th>\n",
              "      <th>School Name</th>\n",
              "      <th>School Type</th>\n",
              "      <th>Starting Median Salary</th>\n",
              "      <th>Mid-Career Median Salary</th>\n",
              "    </tr>\n",
              "  </thead>\n",
              "  <tbody>\n",
              "    <tr>\n",
              "      <th>0</th>\n",
              "      <td>Massachusetts Institute of Technology (MIT)</td>\n",
              "      <td>Engineering</td>\n",
              "      <td>$72,200.00</td>\n",
              "      <td>$126,000.00</td>\n",
              "    </tr>\n",
              "    <tr>\n",
              "      <th>1</th>\n",
              "      <td>California Institute of Technology (CIT)</td>\n",
              "      <td>Engineering</td>\n",
              "      <td>$75,500.00</td>\n",
              "      <td>$123,000.00</td>\n",
              "    </tr>\n",
              "    <tr>\n",
              "      <th>2</th>\n",
              "      <td>Harvey Mudd College</td>\n",
              "      <td>Engineering</td>\n",
              "      <td>$71,800.00</td>\n",
              "      <td>$122,000.00</td>\n",
              "    </tr>\n",
              "    <tr>\n",
              "      <th>3</th>\n",
              "      <td>Polytechnic University of New York, Brooklyn</td>\n",
              "      <td>Engineering</td>\n",
              "      <td>$62,400.00</td>\n",
              "      <td>$114,000.00</td>\n",
              "    </tr>\n",
              "    <tr>\n",
              "      <th>4</th>\n",
              "      <td>Cooper Union</td>\n",
              "      <td>Engineering</td>\n",
              "      <td>$62,200.00</td>\n",
              "      <td>$114,000.00</td>\n",
              "    </tr>\n",
              "    <tr>\n",
              "      <th>...</th>\n",
              "      <td>...</td>\n",
              "      <td>...</td>\n",
              "      <td>...</td>\n",
              "      <td>...</td>\n",
              "    </tr>\n",
              "    <tr>\n",
              "      <th>3</th>\n",
              "      <td>Harvard University</td>\n",
              "      <td>Ivy League</td>\n",
              "      <td>$63,400.00</td>\n",
              "      <td>$124,000.00</td>\n",
              "    </tr>\n",
              "    <tr>\n",
              "      <th>4</th>\n",
              "      <td>University of Pennsylvania</td>\n",
              "      <td>Ivy League</td>\n",
              "      <td>$60,900.00</td>\n",
              "      <td>$120,000.00</td>\n",
              "    </tr>\n",
              "    <tr>\n",
              "      <th>5</th>\n",
              "      <td>Cornell University</td>\n",
              "      <td>Ivy League</td>\n",
              "      <td>$60,300.00</td>\n",
              "      <td>$110,000.00</td>\n",
              "    </tr>\n",
              "    <tr>\n",
              "      <th>6</th>\n",
              "      <td>Brown University</td>\n",
              "      <td>Ivy League</td>\n",
              "      <td>$56,200.00</td>\n",
              "      <td>$109,000.00</td>\n",
              "    </tr>\n",
              "    <tr>\n",
              "      <th>7</th>\n",
              "      <td>Columbia University</td>\n",
              "      <td>Ivy League</td>\n",
              "      <td>$59,400.00</td>\n",
              "      <td>$107,000.00</td>\n",
              "    </tr>\n",
              "  </tbody>\n",
              "</table>\n",
              "<p>249 rows × 4 columns</p>\n",
              "</div>"
            ],
            "text/plain": [
              "                                     School Name  ... Mid-Career Median Salary\n",
              "0    Massachusetts Institute of Technology (MIT)  ...             $126,000.00 \n",
              "1       California Institute of Technology (CIT)  ...             $123,000.00 \n",
              "2                            Harvey Mudd College  ...             $122,000.00 \n",
              "3   Polytechnic University of New York, Brooklyn  ...             $114,000.00 \n",
              "4                                   Cooper Union  ...             $114,000.00 \n",
              "..                                           ...  ...                      ...\n",
              "3                             Harvard University  ...             $124,000.00 \n",
              "4                     University of Pennsylvania  ...             $120,000.00 \n",
              "5                             Cornell University  ...             $110,000.00 \n",
              "6                               Brown University  ...             $109,000.00 \n",
              "7                            Columbia University  ...             $107,000.00 \n",
              "\n",
              "[249 rows x 4 columns]"
            ]
          },
          "metadata": {
            "tags": []
          },
          "execution_count": 8
        }
      ]
    },
    {
      "cell_type": "code",
      "metadata": {
        "colab": {
          "base_uri": "https://localhost:8080/"
        },
        "id": "vPU5CprDMB7u",
        "outputId": "4d80b1a5-ccba-4460-c2c7-a0dae69d8f9c"
      },
      "source": [
        "set(eng['School Name']).difference(state['School Name'])"
      ],
      "execution_count": null,
      "outputs": [
        {
          "output_type": "execute_result",
          "data": {
            "text/plain": [
              "{'California Institute of Technology (CIT)',\n",
              " 'Carnegie Mellon University (CMU)',\n",
              " 'Colorado School of Mines',\n",
              " 'Cooper Union',\n",
              " 'Embry-Riddle Aeronautical University (ERAU)',\n",
              " 'Georgia Institute of Technology',\n",
              " 'Harvey Mudd College',\n",
              " 'Illinois Institute of Technology (IIT)',\n",
              " 'Massachusetts Institute of Technology (MIT)',\n",
              " 'New Mexico Institute of Mining and Technology (New Mexico Tech)',\n",
              " 'Polytechnic University of New York, Brooklyn',\n",
              " 'Rensselaer Polytechnic Institute (RPI)',\n",
              " 'Rochester Institute of Technology (RIT)',\n",
              " 'South Dakota School of Mines & Technology',\n",
              " 'Stevens Institute of Technology',\n",
              " 'Tennessee Technological University',\n",
              " 'Virginia Polytechnic Institute and State University (Virginia Tech)',\n",
              " 'Wentworth Institute of Technology',\n",
              " 'Worcester Polytechnic Institute (WPI)'}"
            ]
          },
          "metadata": {
            "tags": []
          },
          "execution_count": 9
        }
      ]
    },
    {
      "cell_type": "code",
      "metadata": {
        "colab": {
          "base_uri": "https://localhost:8080/"
        },
        "id": "icIDTK-JNOY_",
        "outputId": "15716bd7-29cf-49e5-ed1e-07ac73ace256"
      },
      "source": [
        "'Cooper Union' in ivies['School Name'].values"
      ],
      "execution_count": null,
      "outputs": [
        {
          "output_type": "execute_result",
          "data": {
            "text/plain": [
              "False"
            ]
          },
          "metadata": {
            "tags": []
          },
          "execution_count": 10
        }
      ]
    },
    {
      "cell_type": "code",
      "metadata": {
        "id": "XurytAY6Ns7h"
      },
      "source": [
        "schools = pd.concat(dfs).drop_duplicates(subset=['School Name'], keep='first')"
      ],
      "execution_count": null,
      "outputs": []
    },
    {
      "cell_type": "code",
      "metadata": {
        "colab": {
          "base_uri": "https://localhost:8080/",
          "height": 110
        },
        "id": "rows3Jw1O3os",
        "outputId": "7700814a-8ea2-4878-c113-5669fc49f6f5"
      },
      "source": [
        "schools.loc[19]"
      ],
      "execution_count": null,
      "outputs": [
        {
          "output_type": "execute_result",
          "data": {
            "text/html": [
              "<div>\n",
              "<style scoped>\n",
              "    .dataframe tbody tr th:only-of-type {\n",
              "        vertical-align: middle;\n",
              "    }\n",
              "\n",
              "    .dataframe tbody tr th {\n",
              "        vertical-align: top;\n",
              "    }\n",
              "\n",
              "    .dataframe thead th {\n",
              "        text-align: right;\n",
              "    }\n",
              "</style>\n",
              "<table border=\"1\" class=\"dataframe\">\n",
              "  <thead>\n",
              "    <tr style=\"text-align: right;\">\n",
              "      <th></th>\n",
              "      <th>School Name</th>\n",
              "      <th>School Type</th>\n",
              "      <th>Starting Median Salary</th>\n",
              "      <th>Mid-Career Median Salary</th>\n",
              "    </tr>\n",
              "  </thead>\n",
              "  <tbody>\n",
              "    <tr>\n",
              "      <th>19</th>\n",
              "      <td>Rutgers University</td>\n",
              "      <td>State</td>\n",
              "      <td>$50,300.00</td>\n",
              "      <td>$91,800.00</td>\n",
              "    </tr>\n",
              "    <tr>\n",
              "      <th>19</th>\n",
              "      <td>Mount Holyoke College</td>\n",
              "      <td>Liberal Arts</td>\n",
              "      <td>$42,400.00</td>\n",
              "      <td>$94,100.00</td>\n",
              "    </tr>\n",
              "  </tbody>\n",
              "</table>\n",
              "</div>"
            ],
            "text/plain": [
              "              School Name  ... Mid-Career Median Salary\n",
              "19     Rutgers University  ...              $91,800.00 \n",
              "19  Mount Holyoke College  ...              $94,100.00 \n",
              "\n",
              "[2 rows x 4 columns]"
            ]
          },
          "metadata": {
            "tags": []
          },
          "execution_count": 12
        }
      ]
    },
    {
      "cell_type": "code",
      "metadata": {
        "id": "4nGpNixRRRFe"
      },
      "source": [
        "schools_1 = schools.reset_index(drop=True)"
      ],
      "execution_count": null,
      "outputs": []
    },
    {
      "cell_type": "code",
      "metadata": {
        "colab": {
          "base_uri": "https://localhost:8080/"
        },
        "id": "FUZNPZRJScOS",
        "outputId": "b282d422-f5ae-4bac-dadd-ab4b7c14372b"
      },
      "source": [
        "schools_1.duplicated().sum()"
      ],
      "execution_count": null,
      "outputs": [
        {
          "output_type": "execute_result",
          "data": {
            "text/plain": [
              "0"
            ]
          },
          "metadata": {
            "tags": []
          },
          "execution_count": 14
        }
      ]
    },
    {
      "cell_type": "code",
      "metadata": {
        "colab": {
          "base_uri": "https://localhost:8080/",
          "height": 414
        },
        "id": "JTHfSoKoTVRi",
        "outputId": "cfe542f5-885e-4f08-cddb-e041ecbcd283"
      },
      "source": [
        "schools_1"
      ],
      "execution_count": null,
      "outputs": [
        {
          "output_type": "execute_result",
          "data": {
            "text/html": [
              "<div>\n",
              "<style scoped>\n",
              "    .dataframe tbody tr th:only-of-type {\n",
              "        vertical-align: middle;\n",
              "    }\n",
              "\n",
              "    .dataframe tbody tr th {\n",
              "        vertical-align: top;\n",
              "    }\n",
              "\n",
              "    .dataframe thead th {\n",
              "        text-align: right;\n",
              "    }\n",
              "</style>\n",
              "<table border=\"1\" class=\"dataframe\">\n",
              "  <thead>\n",
              "    <tr style=\"text-align: right;\">\n",
              "      <th></th>\n",
              "      <th>School Name</th>\n",
              "      <th>School Type</th>\n",
              "      <th>Starting Median Salary</th>\n",
              "      <th>Mid-Career Median Salary</th>\n",
              "    </tr>\n",
              "  </thead>\n",
              "  <tbody>\n",
              "    <tr>\n",
              "      <th>0</th>\n",
              "      <td>Massachusetts Institute of Technology (MIT)</td>\n",
              "      <td>Engineering</td>\n",
              "      <td>$72,200.00</td>\n",
              "      <td>$126,000.00</td>\n",
              "    </tr>\n",
              "    <tr>\n",
              "      <th>1</th>\n",
              "      <td>California Institute of Technology (CIT)</td>\n",
              "      <td>Engineering</td>\n",
              "      <td>$75,500.00</td>\n",
              "      <td>$123,000.00</td>\n",
              "    </tr>\n",
              "    <tr>\n",
              "      <th>2</th>\n",
              "      <td>Harvey Mudd College</td>\n",
              "      <td>Engineering</td>\n",
              "      <td>$71,800.00</td>\n",
              "      <td>$122,000.00</td>\n",
              "    </tr>\n",
              "    <tr>\n",
              "      <th>3</th>\n",
              "      <td>Polytechnic University of New York, Brooklyn</td>\n",
              "      <td>Engineering</td>\n",
              "      <td>$62,400.00</td>\n",
              "      <td>$114,000.00</td>\n",
              "    </tr>\n",
              "    <tr>\n",
              "      <th>4</th>\n",
              "      <td>Cooper Union</td>\n",
              "      <td>Engineering</td>\n",
              "      <td>$62,200.00</td>\n",
              "      <td>$114,000.00</td>\n",
              "    </tr>\n",
              "    <tr>\n",
              "      <th>...</th>\n",
              "      <td>...</td>\n",
              "      <td>...</td>\n",
              "      <td>...</td>\n",
              "      <td>...</td>\n",
              "    </tr>\n",
              "    <tr>\n",
              "      <th>244</th>\n",
              "      <td>Harvard University</td>\n",
              "      <td>Ivy League</td>\n",
              "      <td>$63,400.00</td>\n",
              "      <td>$124,000.00</td>\n",
              "    </tr>\n",
              "    <tr>\n",
              "      <th>245</th>\n",
              "      <td>University of Pennsylvania</td>\n",
              "      <td>Ivy League</td>\n",
              "      <td>$60,900.00</td>\n",
              "      <td>$120,000.00</td>\n",
              "    </tr>\n",
              "    <tr>\n",
              "      <th>246</th>\n",
              "      <td>Cornell University</td>\n",
              "      <td>Ivy League</td>\n",
              "      <td>$60,300.00</td>\n",
              "      <td>$110,000.00</td>\n",
              "    </tr>\n",
              "    <tr>\n",
              "      <th>247</th>\n",
              "      <td>Brown University</td>\n",
              "      <td>Ivy League</td>\n",
              "      <td>$56,200.00</td>\n",
              "      <td>$109,000.00</td>\n",
              "    </tr>\n",
              "    <tr>\n",
              "      <th>248</th>\n",
              "      <td>Columbia University</td>\n",
              "      <td>Ivy League</td>\n",
              "      <td>$59,400.00</td>\n",
              "      <td>$107,000.00</td>\n",
              "    </tr>\n",
              "  </tbody>\n",
              "</table>\n",
              "<p>249 rows × 4 columns</p>\n",
              "</div>"
            ],
            "text/plain": [
              "                                      School Name  ... Mid-Career Median Salary\n",
              "0     Massachusetts Institute of Technology (MIT)  ...             $126,000.00 \n",
              "1        California Institute of Technology (CIT)  ...             $123,000.00 \n",
              "2                             Harvey Mudd College  ...             $122,000.00 \n",
              "3    Polytechnic University of New York, Brooklyn  ...             $114,000.00 \n",
              "4                                    Cooper Union  ...             $114,000.00 \n",
              "..                                            ...  ...                      ...\n",
              "244                            Harvard University  ...             $124,000.00 \n",
              "245                    University of Pennsylvania  ...             $120,000.00 \n",
              "246                            Cornell University  ...             $110,000.00 \n",
              "247                              Brown University  ...             $109,000.00 \n",
              "248                           Columbia University  ...             $107,000.00 \n",
              "\n",
              "[249 rows x 4 columns]"
            ]
          },
          "metadata": {
            "tags": []
          },
          "execution_count": 15
        }
      ]
    },
    {
      "cell_type": "code",
      "metadata": {
        "colab": {
          "base_uri": "https://localhost:8080/",
          "height": 414
        },
        "id": "k-zPa9NbSxCA",
        "outputId": "a26c5698-0973-4cf7-d2db-31cfa78b2321"
      },
      "source": [
        "pd.concat(dfs, ignore_index=True).drop_duplicates(subset=['School Name'], keep='first')"
      ],
      "execution_count": null,
      "outputs": [
        {
          "output_type": "execute_result",
          "data": {
            "text/html": [
              "<div>\n",
              "<style scoped>\n",
              "    .dataframe tbody tr th:only-of-type {\n",
              "        vertical-align: middle;\n",
              "    }\n",
              "\n",
              "    .dataframe tbody tr th {\n",
              "        vertical-align: top;\n",
              "    }\n",
              "\n",
              "    .dataframe thead th {\n",
              "        text-align: right;\n",
              "    }\n",
              "</style>\n",
              "<table border=\"1\" class=\"dataframe\">\n",
              "  <thead>\n",
              "    <tr style=\"text-align: right;\">\n",
              "      <th></th>\n",
              "      <th>School Name</th>\n",
              "      <th>School Type</th>\n",
              "      <th>Starting Median Salary</th>\n",
              "      <th>Mid-Career Median Salary</th>\n",
              "    </tr>\n",
              "  </thead>\n",
              "  <tbody>\n",
              "    <tr>\n",
              "      <th>0</th>\n",
              "      <td>Massachusetts Institute of Technology (MIT)</td>\n",
              "      <td>Engineering</td>\n",
              "      <td>$72,200.00</td>\n",
              "      <td>$126,000.00</td>\n",
              "    </tr>\n",
              "    <tr>\n",
              "      <th>1</th>\n",
              "      <td>California Institute of Technology (CIT)</td>\n",
              "      <td>Engineering</td>\n",
              "      <td>$75,500.00</td>\n",
              "      <td>$123,000.00</td>\n",
              "    </tr>\n",
              "    <tr>\n",
              "      <th>2</th>\n",
              "      <td>Harvey Mudd College</td>\n",
              "      <td>Engineering</td>\n",
              "      <td>$71,800.00</td>\n",
              "      <td>$122,000.00</td>\n",
              "    </tr>\n",
              "    <tr>\n",
              "      <th>3</th>\n",
              "      <td>Polytechnic University of New York, Brooklyn</td>\n",
              "      <td>Engineering</td>\n",
              "      <td>$62,400.00</td>\n",
              "      <td>$114,000.00</td>\n",
              "    </tr>\n",
              "    <tr>\n",
              "      <th>4</th>\n",
              "      <td>Cooper Union</td>\n",
              "      <td>Engineering</td>\n",
              "      <td>$62,200.00</td>\n",
              "      <td>$114,000.00</td>\n",
              "    </tr>\n",
              "    <tr>\n",
              "      <th>...</th>\n",
              "      <td>...</td>\n",
              "      <td>...</td>\n",
              "      <td>...</td>\n",
              "      <td>...</td>\n",
              "    </tr>\n",
              "    <tr>\n",
              "      <th>244</th>\n",
              "      <td>Harvard University</td>\n",
              "      <td>Ivy League</td>\n",
              "      <td>$63,400.00</td>\n",
              "      <td>$124,000.00</td>\n",
              "    </tr>\n",
              "    <tr>\n",
              "      <th>245</th>\n",
              "      <td>University of Pennsylvania</td>\n",
              "      <td>Ivy League</td>\n",
              "      <td>$60,900.00</td>\n",
              "      <td>$120,000.00</td>\n",
              "    </tr>\n",
              "    <tr>\n",
              "      <th>246</th>\n",
              "      <td>Cornell University</td>\n",
              "      <td>Ivy League</td>\n",
              "      <td>$60,300.00</td>\n",
              "      <td>$110,000.00</td>\n",
              "    </tr>\n",
              "    <tr>\n",
              "      <th>247</th>\n",
              "      <td>Brown University</td>\n",
              "      <td>Ivy League</td>\n",
              "      <td>$56,200.00</td>\n",
              "      <td>$109,000.00</td>\n",
              "    </tr>\n",
              "    <tr>\n",
              "      <th>248</th>\n",
              "      <td>Columbia University</td>\n",
              "      <td>Ivy League</td>\n",
              "      <td>$59,400.00</td>\n",
              "      <td>$107,000.00</td>\n",
              "    </tr>\n",
              "  </tbody>\n",
              "</table>\n",
              "<p>249 rows × 4 columns</p>\n",
              "</div>"
            ],
            "text/plain": [
              "                                      School Name  ... Mid-Career Median Salary\n",
              "0     Massachusetts Institute of Technology (MIT)  ...             $126,000.00 \n",
              "1        California Institute of Technology (CIT)  ...             $123,000.00 \n",
              "2                             Harvey Mudd College  ...             $122,000.00 \n",
              "3    Polytechnic University of New York, Brooklyn  ...             $114,000.00 \n",
              "4                                    Cooper Union  ...             $114,000.00 \n",
              "..                                            ...  ...                      ...\n",
              "244                            Harvard University  ...             $124,000.00 \n",
              "245                    University of Pennsylvania  ...             $120,000.00 \n",
              "246                            Cornell University  ...             $110,000.00 \n",
              "247                              Brown University  ...             $109,000.00 \n",
              "248                           Columbia University  ...             $107,000.00 \n",
              "\n",
              "[249 rows x 4 columns]"
            ]
          },
          "metadata": {
            "tags": []
          },
          "execution_count": 16
        }
      ]
    },
    {
      "cell_type": "code",
      "metadata": {
        "id": "kb5KNxozu34L"
      },
      "source": [
        "ivies2 = ivies.set_index( 'School Name')"
      ],
      "execution_count": null,
      "outputs": []
    },
    {
      "cell_type": "code",
      "metadata": {
        "id": "G-OVXkaSvXnI"
      },
      "source": [
        "eng2 = eng.set_index('School Name')"
      ],
      "execution_count": null,
      "outputs": []
    },
    {
      "cell_type": "code",
      "metadata": {
        "colab": {
          "base_uri": "https://localhost:8080/",
          "height": 907
        },
        "id": "D8v1I1pZvnlf",
        "outputId": "ed085f40-968b-45d7-9f76-0790850584e4"
      },
      "source": [
        "pd.concat([ivies2,eng2], verify_integrity=True)"
      ],
      "execution_count": null,
      "outputs": [
        {
          "output_type": "execute_result",
          "data": {
            "text/html": [
              "<div>\n",
              "<style scoped>\n",
              "    .dataframe tbody tr th:only-of-type {\n",
              "        vertical-align: middle;\n",
              "    }\n",
              "\n",
              "    .dataframe tbody tr th {\n",
              "        vertical-align: top;\n",
              "    }\n",
              "\n",
              "    .dataframe thead th {\n",
              "        text-align: right;\n",
              "    }\n",
              "</style>\n",
              "<table border=\"1\" class=\"dataframe\">\n",
              "  <thead>\n",
              "    <tr style=\"text-align: right;\">\n",
              "      <th></th>\n",
              "      <th>School Type</th>\n",
              "      <th>Starting Median Salary</th>\n",
              "      <th>Mid-Career Median Salary</th>\n",
              "    </tr>\n",
              "    <tr>\n",
              "      <th>School Name</th>\n",
              "      <th></th>\n",
              "      <th></th>\n",
              "      <th></th>\n",
              "    </tr>\n",
              "  </thead>\n",
              "  <tbody>\n",
              "    <tr>\n",
              "      <th>Dartmouth College</th>\n",
              "      <td>Ivy League</td>\n",
              "      <td>$58,000.00</td>\n",
              "      <td>$134,000.00</td>\n",
              "    </tr>\n",
              "    <tr>\n",
              "      <th>Princeton University</th>\n",
              "      <td>Ivy League</td>\n",
              "      <td>$66,500.00</td>\n",
              "      <td>$131,000.00</td>\n",
              "    </tr>\n",
              "    <tr>\n",
              "      <th>Yale University</th>\n",
              "      <td>Ivy League</td>\n",
              "      <td>$59,100.00</td>\n",
              "      <td>$126,000.00</td>\n",
              "    </tr>\n",
              "    <tr>\n",
              "      <th>Harvard University</th>\n",
              "      <td>Ivy League</td>\n",
              "      <td>$63,400.00</td>\n",
              "      <td>$124,000.00</td>\n",
              "    </tr>\n",
              "    <tr>\n",
              "      <th>University of Pennsylvania</th>\n",
              "      <td>Ivy League</td>\n",
              "      <td>$60,900.00</td>\n",
              "      <td>$120,000.00</td>\n",
              "    </tr>\n",
              "    <tr>\n",
              "      <th>Cornell University</th>\n",
              "      <td>Ivy League</td>\n",
              "      <td>$60,300.00</td>\n",
              "      <td>$110,000.00</td>\n",
              "    </tr>\n",
              "    <tr>\n",
              "      <th>Brown University</th>\n",
              "      <td>Ivy League</td>\n",
              "      <td>$56,200.00</td>\n",
              "      <td>$109,000.00</td>\n",
              "    </tr>\n",
              "    <tr>\n",
              "      <th>Columbia University</th>\n",
              "      <td>Ivy League</td>\n",
              "      <td>$59,400.00</td>\n",
              "      <td>$107,000.00</td>\n",
              "    </tr>\n",
              "    <tr>\n",
              "      <th>Massachusetts Institute of Technology (MIT)</th>\n",
              "      <td>Engineering</td>\n",
              "      <td>$72,200.00</td>\n",
              "      <td>$126,000.00</td>\n",
              "    </tr>\n",
              "    <tr>\n",
              "      <th>California Institute of Technology (CIT)</th>\n",
              "      <td>Engineering</td>\n",
              "      <td>$75,500.00</td>\n",
              "      <td>$123,000.00</td>\n",
              "    </tr>\n",
              "    <tr>\n",
              "      <th>Harvey Mudd College</th>\n",
              "      <td>Engineering</td>\n",
              "      <td>$71,800.00</td>\n",
              "      <td>$122,000.00</td>\n",
              "    </tr>\n",
              "    <tr>\n",
              "      <th>Polytechnic University of New York, Brooklyn</th>\n",
              "      <td>Engineering</td>\n",
              "      <td>$62,400.00</td>\n",
              "      <td>$114,000.00</td>\n",
              "    </tr>\n",
              "    <tr>\n",
              "      <th>Cooper Union</th>\n",
              "      <td>Engineering</td>\n",
              "      <td>$62,200.00</td>\n",
              "      <td>$114,000.00</td>\n",
              "    </tr>\n",
              "    <tr>\n",
              "      <th>Worcester Polytechnic Institute (WPI)</th>\n",
              "      <td>Engineering</td>\n",
              "      <td>$61,000.00</td>\n",
              "      <td>$114,000.00</td>\n",
              "    </tr>\n",
              "    <tr>\n",
              "      <th>Carnegie Mellon University (CMU)</th>\n",
              "      <td>Engineering</td>\n",
              "      <td>$61,800.00</td>\n",
              "      <td>$111,000.00</td>\n",
              "    </tr>\n",
              "    <tr>\n",
              "      <th>Rensselaer Polytechnic Institute (RPI)</th>\n",
              "      <td>Engineering</td>\n",
              "      <td>$61,100.00</td>\n",
              "      <td>$110,000.00</td>\n",
              "    </tr>\n",
              "    <tr>\n",
              "      <th>Georgia Institute of Technology</th>\n",
              "      <td>Engineering</td>\n",
              "      <td>$58,300.00</td>\n",
              "      <td>$106,000.00</td>\n",
              "    </tr>\n",
              "    <tr>\n",
              "      <th>Colorado School of Mines</th>\n",
              "      <td>Engineering</td>\n",
              "      <td>$58,100.00</td>\n",
              "      <td>$106,000.00</td>\n",
              "    </tr>\n",
              "    <tr>\n",
              "      <th>Stevens Institute of Technology</th>\n",
              "      <td>Engineering</td>\n",
              "      <td>$60,600.00</td>\n",
              "      <td>$105,000.00</td>\n",
              "    </tr>\n",
              "    <tr>\n",
              "      <th>Illinois Institute of Technology (IIT)</th>\n",
              "      <td>Engineering</td>\n",
              "      <td>$56,000.00</td>\n",
              "      <td>$97,800.00</td>\n",
              "    </tr>\n",
              "    <tr>\n",
              "      <th>Wentworth Institute of Technology</th>\n",
              "      <td>Engineering</td>\n",
              "      <td>$53,000.00</td>\n",
              "      <td>$96,700.00</td>\n",
              "    </tr>\n",
              "    <tr>\n",
              "      <th>Virginia Polytechnic Institute and State University (Virginia Tech)</th>\n",
              "      <td>Engineering</td>\n",
              "      <td>$53,500.00</td>\n",
              "      <td>$95,400.00</td>\n",
              "    </tr>\n",
              "    <tr>\n",
              "      <th>South Dakota School of Mines &amp; Technology</th>\n",
              "      <td>Engineering</td>\n",
              "      <td>$55,800.00</td>\n",
              "      <td>$93,400.00</td>\n",
              "    </tr>\n",
              "    <tr>\n",
              "      <th>New Mexico Institute of Mining and Technology (New Mexico Tech)</th>\n",
              "      <td>Engineering</td>\n",
              "      <td>$51,000.00</td>\n",
              "      <td>$93,400.00</td>\n",
              "    </tr>\n",
              "    <tr>\n",
              "      <th>Rochester Institute of Technology (RIT)</th>\n",
              "      <td>Engineering</td>\n",
              "      <td>$48,900.00</td>\n",
              "      <td>$84,600.00</td>\n",
              "    </tr>\n",
              "    <tr>\n",
              "      <th>Embry-Riddle Aeronautical University (ERAU)</th>\n",
              "      <td>Engineering</td>\n",
              "      <td>$52,700.00</td>\n",
              "      <td>$80,700.00</td>\n",
              "    </tr>\n",
              "    <tr>\n",
              "      <th>Tennessee Technological University</th>\n",
              "      <td>Engineering</td>\n",
              "      <td>$46,200.00</td>\n",
              "      <td>$80,000.00</td>\n",
              "    </tr>\n",
              "  </tbody>\n",
              "</table>\n",
              "</div>"
            ],
            "text/plain": [
              "                                                    School Type  ... Mid-Career Median Salary\n",
              "School Name                                                      ...                         \n",
              "Dartmouth College                                    Ivy League  ...             $134,000.00 \n",
              "Princeton University                                 Ivy League  ...             $131,000.00 \n",
              "Yale University                                      Ivy League  ...             $126,000.00 \n",
              "Harvard University                                   Ivy League  ...             $124,000.00 \n",
              "University of Pennsylvania                           Ivy League  ...             $120,000.00 \n",
              "Cornell University                                   Ivy League  ...             $110,000.00 \n",
              "Brown University                                     Ivy League  ...             $109,000.00 \n",
              "Columbia University                                  Ivy League  ...             $107,000.00 \n",
              "Massachusetts Institute of Technology (MIT)         Engineering  ...             $126,000.00 \n",
              "California Institute of Technology (CIT)            Engineering  ...             $123,000.00 \n",
              "Harvey Mudd College                                 Engineering  ...             $122,000.00 \n",
              "Polytechnic University of New York, Brooklyn        Engineering  ...             $114,000.00 \n",
              "Cooper Union                                        Engineering  ...             $114,000.00 \n",
              "Worcester Polytechnic Institute (WPI)               Engineering  ...             $114,000.00 \n",
              "Carnegie Mellon University (CMU)                    Engineering  ...             $111,000.00 \n",
              "Rensselaer Polytechnic Institute (RPI)              Engineering  ...             $110,000.00 \n",
              "Georgia Institute of Technology                     Engineering  ...             $106,000.00 \n",
              "Colorado School of Mines                            Engineering  ...             $106,000.00 \n",
              "Stevens Institute of Technology                     Engineering  ...             $105,000.00 \n",
              "Illinois Institute of Technology (IIT)              Engineering  ...              $97,800.00 \n",
              "Wentworth Institute of Technology                   Engineering  ...              $96,700.00 \n",
              "Virginia Polytechnic Institute and State Univer...  Engineering  ...              $95,400.00 \n",
              "South Dakota School of Mines & Technology           Engineering  ...              $93,400.00 \n",
              "New Mexico Institute of Mining and Technology (...  Engineering  ...              $93,400.00 \n",
              "Rochester Institute of Technology (RIT)             Engineering  ...              $84,600.00 \n",
              "Embry-Riddle Aeronautical University (ERAU)         Engineering  ...              $80,700.00 \n",
              "Tennessee Technological University                  Engineering  ...              $80,000.00 \n",
              "\n",
              "[27 rows x 3 columns]"
            ]
          },
          "metadata": {
            "tags": []
          },
          "execution_count": 19
        }
      ]
    },
    {
      "cell_type": "code",
      "metadata": {
        "id": "iSMbVl1CwANi"
      },
      "source": [
        "school_name_index = pd.concat([ivies2,eng2])"
      ],
      "execution_count": null,
      "outputs": []
    },
    {
      "cell_type": "code",
      "metadata": {
        "id": "lrd4atWLyYlz"
      },
      "source": [
        " random_rows = ivies2.sample()"
      ],
      "execution_count": null,
      "outputs": []
    },
    {
      "cell_type": "code",
      "metadata": {
        "colab": {
          "base_uri": "https://localhost:8080/",
          "height": 110
        },
        "id": "FXTU1dgbyx2K",
        "outputId": "f88b49c4-7e8d-489a-c5b6-4248d18ed04d"
      },
      "source": [
        "random_rows"
      ],
      "execution_count": null,
      "outputs": [
        {
          "output_type": "execute_result",
          "data": {
            "text/html": [
              "<div>\n",
              "<style scoped>\n",
              "    .dataframe tbody tr th:only-of-type {\n",
              "        vertical-align: middle;\n",
              "    }\n",
              "\n",
              "    .dataframe tbody tr th {\n",
              "        vertical-align: top;\n",
              "    }\n",
              "\n",
              "    .dataframe thead th {\n",
              "        text-align: right;\n",
              "    }\n",
              "</style>\n",
              "<table border=\"1\" class=\"dataframe\">\n",
              "  <thead>\n",
              "    <tr style=\"text-align: right;\">\n",
              "      <th></th>\n",
              "      <th>School Type</th>\n",
              "      <th>Starting Median Salary</th>\n",
              "      <th>Mid-Career Median Salary</th>\n",
              "    </tr>\n",
              "    <tr>\n",
              "      <th>School Name</th>\n",
              "      <th></th>\n",
              "      <th></th>\n",
              "      <th></th>\n",
              "    </tr>\n",
              "  </thead>\n",
              "  <tbody>\n",
              "    <tr>\n",
              "      <th>Princeton University</th>\n",
              "      <td>Ivy League</td>\n",
              "      <td>$66,500.00</td>\n",
              "      <td>$131,000.00</td>\n",
              "    </tr>\n",
              "  </tbody>\n",
              "</table>\n",
              "</div>"
            ],
            "text/plain": [
              "                     School Type  ... Mid-Career Median Salary\n",
              "School Name                       ...                         \n",
              "Princeton University  Ivy League  ...             $131,000.00 \n",
              "\n",
              "[1 rows x 3 columns]"
            ]
          },
          "metadata": {
            "tags": []
          },
          "execution_count": 22
        }
      ]
    },
    {
      "cell_type": "code",
      "metadata": {
        "id": "v_70z9R8z06Z"
      },
      "source": [
        "eng3 = eng2.append(random_rows)"
      ],
      "execution_count": null,
      "outputs": []
    },
    {
      "cell_type": "code",
      "metadata": {
        "id": "3wIsJk0-zFP4"
      },
      "source": [
        "concat_ivies2_eng3 = pd.concat([ivies2,eng3])"
      ],
      "execution_count": null,
      "outputs": []
    },
    {
      "cell_type": "code",
      "metadata": {
        "colab": {
          "base_uri": "https://localhost:8080/"
        },
        "id": "jp1fdwcd0HVu",
        "outputId": "05ff3478-6d65-43a1-82dc-c38a36d31888"
      },
      "source": [
        "concat_ivies2_eng3.duplicated()"
      ],
      "execution_count": null,
      "outputs": [
        {
          "output_type": "execute_result",
          "data": {
            "text/plain": [
              "School Name\n",
              "Dartmouth College                                                      False\n",
              "Princeton University                                                   False\n",
              "Yale University                                                        False\n",
              "Harvard University                                                     False\n",
              "University of Pennsylvania                                             False\n",
              "Cornell University                                                     False\n",
              "Brown University                                                       False\n",
              "Columbia University                                                    False\n",
              "Massachusetts Institute of Technology (MIT)                            False\n",
              "California Institute of Technology (CIT)                               False\n",
              "Harvey Mudd College                                                    False\n",
              "Polytechnic University of New York, Brooklyn                           False\n",
              "Cooper Union                                                           False\n",
              "Worcester Polytechnic Institute (WPI)                                  False\n",
              "Carnegie Mellon University (CMU)                                       False\n",
              "Rensselaer Polytechnic Institute (RPI)                                 False\n",
              "Georgia Institute of Technology                                        False\n",
              "Colorado School of Mines                                               False\n",
              "Stevens Institute of Technology                                        False\n",
              "Illinois Institute of Technology (IIT)                                 False\n",
              "Wentworth Institute of Technology                                      False\n",
              "Virginia Polytechnic Institute and State University (Virginia Tech)    False\n",
              "South Dakota School of Mines & Technology                              False\n",
              "New Mexico Institute of Mining and Technology (New Mexico Tech)        False\n",
              "Rochester Institute of Technology (RIT)                                False\n",
              "Embry-Riddle Aeronautical University (ERAU)                            False\n",
              "Tennessee Technological University                                     False\n",
              "Princeton University                                                    True\n",
              "dtype: bool"
            ]
          },
          "metadata": {
            "tags": []
          },
          "execution_count": 25
        }
      ]
    },
    {
      "cell_type": "code",
      "metadata": {
        "id": "1kgfYtHmpHHr"
      },
      "source": [
        "dfc = pd.concat([liberal,state])"
      ],
      "execution_count": null,
      "outputs": []
    },
    {
      "cell_type": "code",
      "metadata": {
        "colab": {
          "base_uri": "https://localhost:8080/",
          "height": 202
        },
        "id": "COZ5YZI6paWw",
        "outputId": "f695cb65-f8e5-446f-ac97-adae94dc3ed0"
      },
      "source": [
        "dfc.head()"
      ],
      "execution_count": null,
      "outputs": [
        {
          "output_type": "execute_result",
          "data": {
            "text/html": [
              "<div>\n",
              "<style scoped>\n",
              "    .dataframe tbody tr th:only-of-type {\n",
              "        vertical-align: middle;\n",
              "    }\n",
              "\n",
              "    .dataframe tbody tr th {\n",
              "        vertical-align: top;\n",
              "    }\n",
              "\n",
              "    .dataframe thead th {\n",
              "        text-align: right;\n",
              "    }\n",
              "</style>\n",
              "<table border=\"1\" class=\"dataframe\">\n",
              "  <thead>\n",
              "    <tr style=\"text-align: right;\">\n",
              "      <th></th>\n",
              "      <th>School Name</th>\n",
              "      <th>School Type</th>\n",
              "      <th>Starting Median Salary</th>\n",
              "      <th>Mid-Career Median Salary</th>\n",
              "    </tr>\n",
              "  </thead>\n",
              "  <tbody>\n",
              "    <tr>\n",
              "      <th>0</th>\n",
              "      <td>Bucknell University</td>\n",
              "      <td>Liberal Arts</td>\n",
              "      <td>$54,100.00</td>\n",
              "      <td>$110,000.00</td>\n",
              "    </tr>\n",
              "    <tr>\n",
              "      <th>1</th>\n",
              "      <td>Colgate University</td>\n",
              "      <td>Liberal Arts</td>\n",
              "      <td>$52,800.00</td>\n",
              "      <td>$108,000.00</td>\n",
              "    </tr>\n",
              "    <tr>\n",
              "      <th>2</th>\n",
              "      <td>Amherst College</td>\n",
              "      <td>Liberal Arts</td>\n",
              "      <td>$54,500.00</td>\n",
              "      <td>$107,000.00</td>\n",
              "    </tr>\n",
              "    <tr>\n",
              "      <th>3</th>\n",
              "      <td>Lafayette College</td>\n",
              "      <td>Liberal Arts</td>\n",
              "      <td>$53,900.00</td>\n",
              "      <td>$107,000.00</td>\n",
              "    </tr>\n",
              "    <tr>\n",
              "      <th>4</th>\n",
              "      <td>Bowdoin College</td>\n",
              "      <td>Liberal Arts</td>\n",
              "      <td>$48,100.00</td>\n",
              "      <td>$107,000.00</td>\n",
              "    </tr>\n",
              "  </tbody>\n",
              "</table>\n",
              "</div>"
            ],
            "text/plain": [
              "           School Name  ... Mid-Career Median Salary\n",
              "0  Bucknell University  ...             $110,000.00 \n",
              "1   Colgate University  ...             $108,000.00 \n",
              "2      Amherst College  ...             $107,000.00 \n",
              "3    Lafayette College  ...             $107,000.00 \n",
              "4      Bowdoin College  ...             $107,000.00 \n",
              "\n",
              "[5 rows x 4 columns]"
            ]
          },
          "metadata": {
            "tags": []
          },
          "execution_count": 27
        }
      ]
    },
    {
      "cell_type": "code",
      "metadata": {
        "colab": {
          "base_uri": "https://localhost:8080/"
        },
        "id": "dF4Y35Vwpe7l",
        "outputId": "b889f40e-c919-49af-b9fc-34164fcc943e"
      },
      "source": [
        " dfc.nunique()"
      ],
      "execution_count": null,
      "outputs": [
        {
          "output_type": "execute_result",
          "data": {
            "text/plain": [
              "School Name                 222\n",
              "School Type                   2\n",
              "Starting Median Salary      122\n",
              "Mid-Career Median Salary    155\n",
              "dtype: int64"
            ]
          },
          "metadata": {
            "tags": []
          },
          "execution_count": 28
        }
      ]
    },
    {
      "cell_type": "markdown",
      "metadata": {
        "id": "Xz2ysBezuqkl"
      },
      "source": [
        ""
      ]
    },
    {
      "cell_type": "code",
      "metadata": {
        "colab": {
          "base_uri": "https://localhost:8080/"
        },
        "id": "oqnHzS1osWsG",
        "outputId": "ee2ccd22-3f88-4f79-c14d-e3252125e6e2"
      },
      "source": [
        "dfc.iloc[:,3].replace('\\$|,','',regex=True).astype(float).mean()"
      ],
      "execution_count": null,
      "outputs": [
        {
          "output_type": "execute_result",
          "data": {
            "text/plain": [
              "80856.3063063063"
            ]
          },
          "metadata": {
            "tags": []
          },
          "execution_count": 29
        }
      ]
    },
    {
      "cell_type": "code",
      "metadata": {
        "id": "mrOEIJ-yvIiW"
      },
      "source": [
        "liberal2 = liberal.sort_values(by=['Mid-Career Median Salary'],ascending=False).iloc[:3].reset_index(drop=True)"
      ],
      "execution_count": null,
      "outputs": []
    },
    {
      "cell_type": "code",
      "metadata": {
        "id": "qpno3O1uvki4"
      },
      "source": [
        "state2 = state.sort_values(by=['Mid-Career Median Salary'],ascending=False).iloc[:3].reset_index(drop=True)"
      ],
      "execution_count": null,
      "outputs": []
    },
    {
      "cell_type": "code",
      "metadata": {
        "colab": {
          "base_uri": "https://localhost:8080/",
          "height": 237
        },
        "id": "_oeZ9OCmvkuV",
        "outputId": "ae2cb5d3-6fb5-42fc-b306-b06c057e8df5"
      },
      "source": [
        "pd.concat([liberal2,state2],axis=1, keys=['Liberal Arts','State'],sort=False)"
      ],
      "execution_count": null,
      "outputs": [
        {
          "output_type": "execute_result",
          "data": {
            "text/html": [
              "<div>\n",
              "<style scoped>\n",
              "    .dataframe tbody tr th:only-of-type {\n",
              "        vertical-align: middle;\n",
              "    }\n",
              "\n",
              "    .dataframe tbody tr th {\n",
              "        vertical-align: top;\n",
              "    }\n",
              "\n",
              "    .dataframe thead tr th {\n",
              "        text-align: left;\n",
              "    }\n",
              "</style>\n",
              "<table border=\"1\" class=\"dataframe\">\n",
              "  <thead>\n",
              "    <tr>\n",
              "      <th></th>\n",
              "      <th colspan=\"4\" halign=\"left\">Liberal Arts</th>\n",
              "      <th colspan=\"4\" halign=\"left\">State</th>\n",
              "    </tr>\n",
              "    <tr>\n",
              "      <th></th>\n",
              "      <th>School Name</th>\n",
              "      <th>School Type</th>\n",
              "      <th>Starting Median Salary</th>\n",
              "      <th>Mid-Career Median Salary</th>\n",
              "      <th>School Name</th>\n",
              "      <th>School Type</th>\n",
              "      <th>Starting Median Salary</th>\n",
              "      <th>Mid-Career Median Salary</th>\n",
              "    </tr>\n",
              "  </thead>\n",
              "  <tbody>\n",
              "    <tr>\n",
              "      <th>0</th>\n",
              "      <td>Wesleyan University (Middletown, Connecticut)</td>\n",
              "      <td>Liberal Arts</td>\n",
              "      <td>$46,500.00</td>\n",
              "      <td>$97,900.00</td>\n",
              "      <td>University of California, Davis</td>\n",
              "      <td>State</td>\n",
              "      <td>$52,300.00</td>\n",
              "      <td>$99,600.00</td>\n",
              "    </tr>\n",
              "    <tr>\n",
              "      <th>1</th>\n",
              "      <td>Bates College</td>\n",
              "      <td>Liberal Arts</td>\n",
              "      <td>$47,300.00</td>\n",
              "      <td>$96,500.00</td>\n",
              "      <td>University of Colorado - Boulder (UCB)</td>\n",
              "      <td>State</td>\n",
              "      <td>$47,100.00</td>\n",
              "      <td>$97,600.00</td>\n",
              "    </tr>\n",
              "    <tr>\n",
              "      <th>2</th>\n",
              "      <td>Union College</td>\n",
              "      <td>Liberal Arts</td>\n",
              "      <td>$47,200.00</td>\n",
              "      <td>$95,800.00</td>\n",
              "      <td>University of California, Irvine (UCI)</td>\n",
              "      <td>State</td>\n",
              "      <td>$48,300.00</td>\n",
              "      <td>$96,700.00</td>\n",
              "    </tr>\n",
              "  </tbody>\n",
              "</table>\n",
              "</div>"
            ],
            "text/plain": [
              "                                    Liberal Arts  ...                    State\n",
              "                                     School Name  ... Mid-Career Median Salary\n",
              "0  Wesleyan University (Middletown, Connecticut)  ...              $99,600.00 \n",
              "1                                  Bates College  ...              $97,600.00 \n",
              "2                                  Union College  ...              $96,700.00 \n",
              "\n",
              "[3 rows x 8 columns]"
            ]
          },
          "metadata": {
            "tags": []
          },
          "execution_count": 32
        }
      ]
    },
    {
      "cell_type": "code",
      "metadata": {
        "id": "Ew9qV0bMqxS8"
      },
      "source": [
        "regions_url = '/content/drive/MyDrive/regions.csv'"
      ],
      "execution_count": null,
      "outputs": []
    },
    {
      "cell_type": "code",
      "metadata": {
        "id": "iO8Ju83irQPV"
      },
      "source": [
        "regions = pd.read_csv(regions_url)"
      ],
      "execution_count": null,
      "outputs": []
    },
    {
      "cell_type": "code",
      "metadata": {
        "colab": {
          "base_uri": "https://localhost:8080/",
          "height": 202
        },
        "id": "TC_hdkMwrXWn",
        "outputId": "eb17ace8-dbe6-4958-f283-0890441d65dd"
      },
      "source": [
        "regions.head()"
      ],
      "execution_count": null,
      "outputs": [
        {
          "output_type": "execute_result",
          "data": {
            "text/html": [
              "<div>\n",
              "<style scoped>\n",
              "    .dataframe tbody tr th:only-of-type {\n",
              "        vertical-align: middle;\n",
              "    }\n",
              "\n",
              "    .dataframe tbody tr th {\n",
              "        vertical-align: top;\n",
              "    }\n",
              "\n",
              "    .dataframe thead th {\n",
              "        text-align: right;\n",
              "    }\n",
              "</style>\n",
              "<table border=\"1\" class=\"dataframe\">\n",
              "  <thead>\n",
              "    <tr style=\"text-align: right;\">\n",
              "      <th></th>\n",
              "      <th>School Name</th>\n",
              "      <th>Region</th>\n",
              "    </tr>\n",
              "  </thead>\n",
              "  <tbody>\n",
              "    <tr>\n",
              "      <th>0</th>\n",
              "      <td>Massachusetts Institute of Technology (MIT)</td>\n",
              "      <td>Northeastern</td>\n",
              "    </tr>\n",
              "    <tr>\n",
              "      <th>1</th>\n",
              "      <td>California Institute of Technology (CIT)</td>\n",
              "      <td>California</td>\n",
              "    </tr>\n",
              "    <tr>\n",
              "      <th>2</th>\n",
              "      <td>Harvey Mudd College</td>\n",
              "      <td>California</td>\n",
              "    </tr>\n",
              "    <tr>\n",
              "      <th>3</th>\n",
              "      <td>Polytechnic University of New York, Brooklyn</td>\n",
              "      <td>Northeastern</td>\n",
              "    </tr>\n",
              "    <tr>\n",
              "      <th>4</th>\n",
              "      <td>Cooper Union</td>\n",
              "      <td>Northeastern</td>\n",
              "    </tr>\n",
              "  </tbody>\n",
              "</table>\n",
              "</div>"
            ],
            "text/plain": [
              "                                    School Name        Region\n",
              "0   Massachusetts Institute of Technology (MIT)  Northeastern\n",
              "1      California Institute of Technology (CIT)    California\n",
              "2                           Harvey Mudd College    California\n",
              "3  Polytechnic University of New York, Brooklyn  Northeastern\n",
              "4                                  Cooper Union  Northeastern"
            ]
          },
          "metadata": {
            "tags": []
          },
          "execution_count": 35
        }
      ]
    },
    {
      "cell_type": "code",
      "metadata": {
        "colab": {
          "base_uri": "https://localhost:8080/",
          "height": 202
        },
        "id": "SNytReeyrbw6",
        "outputId": "8852c1c6-192a-4778-a479-d7eed875b80a"
      },
      "source": [
        "schools.head()"
      ],
      "execution_count": null,
      "outputs": [
        {
          "output_type": "execute_result",
          "data": {
            "text/html": [
              "<div>\n",
              "<style scoped>\n",
              "    .dataframe tbody tr th:only-of-type {\n",
              "        vertical-align: middle;\n",
              "    }\n",
              "\n",
              "    .dataframe tbody tr th {\n",
              "        vertical-align: top;\n",
              "    }\n",
              "\n",
              "    .dataframe thead th {\n",
              "        text-align: right;\n",
              "    }\n",
              "</style>\n",
              "<table border=\"1\" class=\"dataframe\">\n",
              "  <thead>\n",
              "    <tr style=\"text-align: right;\">\n",
              "      <th></th>\n",
              "      <th>School Name</th>\n",
              "      <th>School Type</th>\n",
              "      <th>Starting Median Salary</th>\n",
              "      <th>Mid-Career Median Salary</th>\n",
              "    </tr>\n",
              "  </thead>\n",
              "  <tbody>\n",
              "    <tr>\n",
              "      <th>0</th>\n",
              "      <td>Massachusetts Institute of Technology (MIT)</td>\n",
              "      <td>Engineering</td>\n",
              "      <td>$72,200.00</td>\n",
              "      <td>$126,000.00</td>\n",
              "    </tr>\n",
              "    <tr>\n",
              "      <th>1</th>\n",
              "      <td>California Institute of Technology (CIT)</td>\n",
              "      <td>Engineering</td>\n",
              "      <td>$75,500.00</td>\n",
              "      <td>$123,000.00</td>\n",
              "    </tr>\n",
              "    <tr>\n",
              "      <th>2</th>\n",
              "      <td>Harvey Mudd College</td>\n",
              "      <td>Engineering</td>\n",
              "      <td>$71,800.00</td>\n",
              "      <td>$122,000.00</td>\n",
              "    </tr>\n",
              "    <tr>\n",
              "      <th>3</th>\n",
              "      <td>Polytechnic University of New York, Brooklyn</td>\n",
              "      <td>Engineering</td>\n",
              "      <td>$62,400.00</td>\n",
              "      <td>$114,000.00</td>\n",
              "    </tr>\n",
              "    <tr>\n",
              "      <th>4</th>\n",
              "      <td>Cooper Union</td>\n",
              "      <td>Engineering</td>\n",
              "      <td>$62,200.00</td>\n",
              "      <td>$114,000.00</td>\n",
              "    </tr>\n",
              "  </tbody>\n",
              "</table>\n",
              "</div>"
            ],
            "text/plain": [
              "                                    School Name  ... Mid-Career Median Salary\n",
              "0   Massachusetts Institute of Technology (MIT)  ...             $126,000.00 \n",
              "1      California Institute of Technology (CIT)  ...             $123,000.00 \n",
              "2                           Harvey Mudd College  ...             $122,000.00 \n",
              "3  Polytechnic University of New York, Brooklyn  ...             $114,000.00 \n",
              "4                                  Cooper Union  ...             $114,000.00 \n",
              "\n",
              "[5 rows x 4 columns]"
            ]
          },
          "metadata": {
            "tags": []
          },
          "execution_count": 36
        }
      ]
    },
    {
      "cell_type": "code",
      "metadata": {
        "colab": {
          "base_uri": "https://localhost:8080/",
          "height": 414
        },
        "id": "8dKbZrubrdua",
        "outputId": "517df027-c421-45fd-ef5b-612d3187a96e"
      },
      "source": [
        "pd.merge(schools,regions)"
      ],
      "execution_count": null,
      "outputs": [
        {
          "output_type": "execute_result",
          "data": {
            "text/html": [
              "<div>\n",
              "<style scoped>\n",
              "    .dataframe tbody tr th:only-of-type {\n",
              "        vertical-align: middle;\n",
              "    }\n",
              "\n",
              "    .dataframe tbody tr th {\n",
              "        vertical-align: top;\n",
              "    }\n",
              "\n",
              "    .dataframe thead th {\n",
              "        text-align: right;\n",
              "    }\n",
              "</style>\n",
              "<table border=\"1\" class=\"dataframe\">\n",
              "  <thead>\n",
              "    <tr style=\"text-align: right;\">\n",
              "      <th></th>\n",
              "      <th>School Name</th>\n",
              "      <th>School Type</th>\n",
              "      <th>Starting Median Salary</th>\n",
              "      <th>Mid-Career Median Salary</th>\n",
              "      <th>Region</th>\n",
              "    </tr>\n",
              "  </thead>\n",
              "  <tbody>\n",
              "    <tr>\n",
              "      <th>0</th>\n",
              "      <td>Massachusetts Institute of Technology (MIT)</td>\n",
              "      <td>Engineering</td>\n",
              "      <td>$72,200.00</td>\n",
              "      <td>$126,000.00</td>\n",
              "      <td>Northeastern</td>\n",
              "    </tr>\n",
              "    <tr>\n",
              "      <th>1</th>\n",
              "      <td>California Institute of Technology (CIT)</td>\n",
              "      <td>Engineering</td>\n",
              "      <td>$75,500.00</td>\n",
              "      <td>$123,000.00</td>\n",
              "      <td>California</td>\n",
              "    </tr>\n",
              "    <tr>\n",
              "      <th>2</th>\n",
              "      <td>Harvey Mudd College</td>\n",
              "      <td>Engineering</td>\n",
              "      <td>$71,800.00</td>\n",
              "      <td>$122,000.00</td>\n",
              "      <td>California</td>\n",
              "    </tr>\n",
              "    <tr>\n",
              "      <th>3</th>\n",
              "      <td>Polytechnic University of New York, Brooklyn</td>\n",
              "      <td>Engineering</td>\n",
              "      <td>$62,400.00</td>\n",
              "      <td>$114,000.00</td>\n",
              "      <td>Northeastern</td>\n",
              "    </tr>\n",
              "    <tr>\n",
              "      <th>4</th>\n",
              "      <td>Cooper Union</td>\n",
              "      <td>Engineering</td>\n",
              "      <td>$62,200.00</td>\n",
              "      <td>$114,000.00</td>\n",
              "      <td>Northeastern</td>\n",
              "    </tr>\n",
              "    <tr>\n",
              "      <th>...</th>\n",
              "      <td>...</td>\n",
              "      <td>...</td>\n",
              "      <td>...</td>\n",
              "      <td>...</td>\n",
              "      <td>...</td>\n",
              "    </tr>\n",
              "    <tr>\n",
              "      <th>264</th>\n",
              "      <td>Harvard University</td>\n",
              "      <td>Ivy League</td>\n",
              "      <td>$63,400.00</td>\n",
              "      <td>$124,000.00</td>\n",
              "      <td>Northeastern</td>\n",
              "    </tr>\n",
              "    <tr>\n",
              "      <th>265</th>\n",
              "      <td>University of Pennsylvania</td>\n",
              "      <td>Ivy League</td>\n",
              "      <td>$60,900.00</td>\n",
              "      <td>$120,000.00</td>\n",
              "      <td>Northeastern</td>\n",
              "    </tr>\n",
              "    <tr>\n",
              "      <th>266</th>\n",
              "      <td>Cornell University</td>\n",
              "      <td>Ivy League</td>\n",
              "      <td>$60,300.00</td>\n",
              "      <td>$110,000.00</td>\n",
              "      <td>Northeastern</td>\n",
              "    </tr>\n",
              "    <tr>\n",
              "      <th>267</th>\n",
              "      <td>Brown University</td>\n",
              "      <td>Ivy League</td>\n",
              "      <td>$56,200.00</td>\n",
              "      <td>$109,000.00</td>\n",
              "      <td>Northeastern</td>\n",
              "    </tr>\n",
              "    <tr>\n",
              "      <th>268</th>\n",
              "      <td>Columbia University</td>\n",
              "      <td>Ivy League</td>\n",
              "      <td>$59,400.00</td>\n",
              "      <td>$107,000.00</td>\n",
              "      <td>Northeastern</td>\n",
              "    </tr>\n",
              "  </tbody>\n",
              "</table>\n",
              "<p>269 rows × 5 columns</p>\n",
              "</div>"
            ],
            "text/plain": [
              "                                      School Name  ...        Region\n",
              "0     Massachusetts Institute of Technology (MIT)  ...  Northeastern\n",
              "1        California Institute of Technology (CIT)  ...    California\n",
              "2                             Harvey Mudd College  ...    California\n",
              "3    Polytechnic University of New York, Brooklyn  ...  Northeastern\n",
              "4                                    Cooper Union  ...  Northeastern\n",
              "..                                            ...  ...           ...\n",
              "264                            Harvard University  ...  Northeastern\n",
              "265                    University of Pennsylvania  ...  Northeastern\n",
              "266                            Cornell University  ...  Northeastern\n",
              "267                              Brown University  ...  Northeastern\n",
              "268                           Columbia University  ...  Northeastern\n",
              "\n",
              "[269 rows x 5 columns]"
            ]
          },
          "metadata": {
            "tags": []
          },
          "execution_count": 37
        }
      ]
    },
    {
      "cell_type": "code",
      "metadata": {
        "id": "S6MiEHxLtfqw"
      },
      "source": [
        "income_url = '/content/drive/MyDrive/mid_career_salaries.csv'"
      ],
      "execution_count": null,
      "outputs": []
    },
    {
      "cell_type": "code",
      "metadata": {
        "id": "Y_LgRhoatpTr"
      },
      "source": [
        "mid_career = pd.read_csv(income_url)"
      ],
      "execution_count": null,
      "outputs": []
    },
    {
      "cell_type": "code",
      "metadata": {
        "colab": {
          "base_uri": "https://localhost:8080/",
          "height": 202
        },
        "id": "dufategzt9yU",
        "outputId": "ae714b67-c4d2-45fa-ff93-5ce88ffb985c"
      },
      "source": [
        "schools.head()"
      ],
      "execution_count": null,
      "outputs": [
        {
          "output_type": "execute_result",
          "data": {
            "text/html": [
              "<div>\n",
              "<style scoped>\n",
              "    .dataframe tbody tr th:only-of-type {\n",
              "        vertical-align: middle;\n",
              "    }\n",
              "\n",
              "    .dataframe tbody tr th {\n",
              "        vertical-align: top;\n",
              "    }\n",
              "\n",
              "    .dataframe thead th {\n",
              "        text-align: right;\n",
              "    }\n",
              "</style>\n",
              "<table border=\"1\" class=\"dataframe\">\n",
              "  <thead>\n",
              "    <tr style=\"text-align: right;\">\n",
              "      <th></th>\n",
              "      <th>School Name</th>\n",
              "      <th>School Type</th>\n",
              "      <th>Starting Median Salary</th>\n",
              "      <th>Mid-Career Median Salary</th>\n",
              "    </tr>\n",
              "  </thead>\n",
              "  <tbody>\n",
              "    <tr>\n",
              "      <th>0</th>\n",
              "      <td>Massachusetts Institute of Technology (MIT)</td>\n",
              "      <td>Engineering</td>\n",
              "      <td>$72,200.00</td>\n",
              "      <td>$126,000.00</td>\n",
              "    </tr>\n",
              "    <tr>\n",
              "      <th>1</th>\n",
              "      <td>California Institute of Technology (CIT)</td>\n",
              "      <td>Engineering</td>\n",
              "      <td>$75,500.00</td>\n",
              "      <td>$123,000.00</td>\n",
              "    </tr>\n",
              "    <tr>\n",
              "      <th>2</th>\n",
              "      <td>Harvey Mudd College</td>\n",
              "      <td>Engineering</td>\n",
              "      <td>$71,800.00</td>\n",
              "      <td>$122,000.00</td>\n",
              "    </tr>\n",
              "    <tr>\n",
              "      <th>3</th>\n",
              "      <td>Polytechnic University of New York, Brooklyn</td>\n",
              "      <td>Engineering</td>\n",
              "      <td>$62,400.00</td>\n",
              "      <td>$114,000.00</td>\n",
              "    </tr>\n",
              "    <tr>\n",
              "      <th>4</th>\n",
              "      <td>Cooper Union</td>\n",
              "      <td>Engineering</td>\n",
              "      <td>$62,200.00</td>\n",
              "      <td>$114,000.00</td>\n",
              "    </tr>\n",
              "  </tbody>\n",
              "</table>\n",
              "</div>"
            ],
            "text/plain": [
              "                                    School Name  ... Mid-Career Median Salary\n",
              "0   Massachusetts Institute of Technology (MIT)  ...             $126,000.00 \n",
              "1      California Institute of Technology (CIT)  ...             $123,000.00 \n",
              "2                           Harvey Mudd College  ...             $122,000.00 \n",
              "3  Polytechnic University of New York, Brooklyn  ...             $114,000.00 \n",
              "4                                  Cooper Union  ...             $114,000.00 \n",
              "\n",
              "[5 rows x 4 columns]"
            ]
          },
          "metadata": {
            "tags": []
          },
          "execution_count": 40
        }
      ]
    },
    {
      "cell_type": "code",
      "metadata": {
        "colab": {
          "base_uri": "https://localhost:8080/",
          "height": 252
        },
        "id": "cLt8mzaotyYH",
        "outputId": "984f3e65-c614-4d09-94b0-b84ec90bbbed"
      },
      "source": [
        "mid_career.head()"
      ],
      "execution_count": null,
      "outputs": [
        {
          "output_type": "execute_result",
          "data": {
            "text/html": [
              "<div>\n",
              "<style scoped>\n",
              "    .dataframe tbody tr th:only-of-type {\n",
              "        vertical-align: middle;\n",
              "    }\n",
              "\n",
              "    .dataframe tbody tr th {\n",
              "        vertical-align: top;\n",
              "    }\n",
              "\n",
              "    .dataframe thead th {\n",
              "        text-align: right;\n",
              "    }\n",
              "</style>\n",
              "<table border=\"1\" class=\"dataframe\">\n",
              "  <thead>\n",
              "    <tr style=\"text-align: right;\">\n",
              "      <th></th>\n",
              "      <th>school_name</th>\n",
              "      <th>Mid-Career 10th Percentile Salary</th>\n",
              "      <th>Mid-Career 25th Percentile Salary</th>\n",
              "      <th>Mid-Career 75th Percentile Salary</th>\n",
              "      <th>Mid-Career 90th Percentile Salary</th>\n",
              "    </tr>\n",
              "  </thead>\n",
              "  <tbody>\n",
              "    <tr>\n",
              "      <th>0</th>\n",
              "      <td>Massachusetts Institute of Technology (MIT)</td>\n",
              "      <td>$76,800.00</td>\n",
              "      <td>$99,200.00</td>\n",
              "      <td>$168,000.00</td>\n",
              "      <td>$220,000.00</td>\n",
              "    </tr>\n",
              "    <tr>\n",
              "      <th>1</th>\n",
              "      <td>California Institute of Technology (CIT)</td>\n",
              "      <td>NaN</td>\n",
              "      <td>$104,000.00</td>\n",
              "      <td>$161,000.00</td>\n",
              "      <td>NaN</td>\n",
              "    </tr>\n",
              "    <tr>\n",
              "      <th>2</th>\n",
              "      <td>Harvey Mudd College</td>\n",
              "      <td>NaN</td>\n",
              "      <td>$96,000.00</td>\n",
              "      <td>$180,000.00</td>\n",
              "      <td>NaN</td>\n",
              "    </tr>\n",
              "    <tr>\n",
              "      <th>3</th>\n",
              "      <td>Polytechnic University of New York, Brooklyn</td>\n",
              "      <td>$66,800.00</td>\n",
              "      <td>$94,300.00</td>\n",
              "      <td>$143,000.00</td>\n",
              "      <td>$190,000.00</td>\n",
              "    </tr>\n",
              "    <tr>\n",
              "      <th>4</th>\n",
              "      <td>Cooper Union</td>\n",
              "      <td>NaN</td>\n",
              "      <td>$80,200.00</td>\n",
              "      <td>$142,000.00</td>\n",
              "      <td>NaN</td>\n",
              "    </tr>\n",
              "  </tbody>\n",
              "</table>\n",
              "</div>"
            ],
            "text/plain": [
              "                                    school_name  ... Mid-Career 90th Percentile Salary\n",
              "0   Massachusetts Institute of Technology (MIT)  ...                      $220,000.00 \n",
              "1      California Institute of Technology (CIT)  ...                               NaN\n",
              "2                           Harvey Mudd College  ...                               NaN\n",
              "3  Polytechnic University of New York, Brooklyn  ...                      $190,000.00 \n",
              "4                                  Cooper Union  ...                               NaN\n",
              "\n",
              "[5 rows x 5 columns]"
            ]
          },
          "metadata": {
            "tags": []
          },
          "execution_count": 41
        }
      ]
    },
    {
      "cell_type": "code",
      "metadata": {
        "colab": {
          "base_uri": "https://localhost:8080/",
          "height": 481
        },
        "id": "3Ehxa4hPt6OL",
        "outputId": "19806a82-7686-4861-fb3e-9f7870e0d19e"
      },
      "source": [
        "pd.merge(schools, mid_career, left_on='School Name', right_on='school_name').drop('school_name', axis=1)"
      ],
      "execution_count": null,
      "outputs": [
        {
          "output_type": "execute_result",
          "data": {
            "text/html": [
              "<div>\n",
              "<style scoped>\n",
              "    .dataframe tbody tr th:only-of-type {\n",
              "        vertical-align: middle;\n",
              "    }\n",
              "\n",
              "    .dataframe tbody tr th {\n",
              "        vertical-align: top;\n",
              "    }\n",
              "\n",
              "    .dataframe thead th {\n",
              "        text-align: right;\n",
              "    }\n",
              "</style>\n",
              "<table border=\"1\" class=\"dataframe\">\n",
              "  <thead>\n",
              "    <tr style=\"text-align: right;\">\n",
              "      <th></th>\n",
              "      <th>School Name</th>\n",
              "      <th>School Type</th>\n",
              "      <th>Starting Median Salary</th>\n",
              "      <th>Mid-Career Median Salary</th>\n",
              "      <th>Mid-Career 10th Percentile Salary</th>\n",
              "      <th>Mid-Career 25th Percentile Salary</th>\n",
              "      <th>Mid-Career 75th Percentile Salary</th>\n",
              "      <th>Mid-Career 90th Percentile Salary</th>\n",
              "    </tr>\n",
              "  </thead>\n",
              "  <tbody>\n",
              "    <tr>\n",
              "      <th>0</th>\n",
              "      <td>Massachusetts Institute of Technology (MIT)</td>\n",
              "      <td>Engineering</td>\n",
              "      <td>$72,200.00</td>\n",
              "      <td>$126,000.00</td>\n",
              "      <td>$76,800.00</td>\n",
              "      <td>$99,200.00</td>\n",
              "      <td>$168,000.00</td>\n",
              "      <td>$220,000.00</td>\n",
              "    </tr>\n",
              "    <tr>\n",
              "      <th>1</th>\n",
              "      <td>California Institute of Technology (CIT)</td>\n",
              "      <td>Engineering</td>\n",
              "      <td>$75,500.00</td>\n",
              "      <td>$123,000.00</td>\n",
              "      <td>NaN</td>\n",
              "      <td>$104,000.00</td>\n",
              "      <td>$161,000.00</td>\n",
              "      <td>NaN</td>\n",
              "    </tr>\n",
              "    <tr>\n",
              "      <th>2</th>\n",
              "      <td>Harvey Mudd College</td>\n",
              "      <td>Engineering</td>\n",
              "      <td>$71,800.00</td>\n",
              "      <td>$122,000.00</td>\n",
              "      <td>NaN</td>\n",
              "      <td>$96,000.00</td>\n",
              "      <td>$180,000.00</td>\n",
              "      <td>NaN</td>\n",
              "    </tr>\n",
              "    <tr>\n",
              "      <th>3</th>\n",
              "      <td>Polytechnic University of New York, Brooklyn</td>\n",
              "      <td>Engineering</td>\n",
              "      <td>$62,400.00</td>\n",
              "      <td>$114,000.00</td>\n",
              "      <td>$66,800.00</td>\n",
              "      <td>$94,300.00</td>\n",
              "      <td>$143,000.00</td>\n",
              "      <td>$190,000.00</td>\n",
              "    </tr>\n",
              "    <tr>\n",
              "      <th>4</th>\n",
              "      <td>Cooper Union</td>\n",
              "      <td>Engineering</td>\n",
              "      <td>$62,200.00</td>\n",
              "      <td>$114,000.00</td>\n",
              "      <td>NaN</td>\n",
              "      <td>$80,200.00</td>\n",
              "      <td>$142,000.00</td>\n",
              "      <td>NaN</td>\n",
              "    </tr>\n",
              "    <tr>\n",
              "      <th>...</th>\n",
              "      <td>...</td>\n",
              "      <td>...</td>\n",
              "      <td>...</td>\n",
              "      <td>...</td>\n",
              "      <td>...</td>\n",
              "      <td>...</td>\n",
              "      <td>...</td>\n",
              "      <td>...</td>\n",
              "    </tr>\n",
              "    <tr>\n",
              "      <th>264</th>\n",
              "      <td>Harvard University</td>\n",
              "      <td>Ivy League</td>\n",
              "      <td>$63,400.00</td>\n",
              "      <td>$124,000.00</td>\n",
              "      <td>$54,800.00</td>\n",
              "      <td>$86,200.00</td>\n",
              "      <td>$179,000.00</td>\n",
              "      <td>$288,000.00</td>\n",
              "    </tr>\n",
              "    <tr>\n",
              "      <th>265</th>\n",
              "      <td>University of Pennsylvania</td>\n",
              "      <td>Ivy League</td>\n",
              "      <td>$60,900.00</td>\n",
              "      <td>$120,000.00</td>\n",
              "      <td>$55,900.00</td>\n",
              "      <td>$79,200.00</td>\n",
              "      <td>$192,000.00</td>\n",
              "      <td>$282,000.00</td>\n",
              "    </tr>\n",
              "    <tr>\n",
              "      <th>266</th>\n",
              "      <td>Cornell University</td>\n",
              "      <td>Ivy League</td>\n",
              "      <td>$60,300.00</td>\n",
              "      <td>$110,000.00</td>\n",
              "      <td>$56,800.00</td>\n",
              "      <td>$79,800.00</td>\n",
              "      <td>$160,000.00</td>\n",
              "      <td>$210,000.00</td>\n",
              "    </tr>\n",
              "    <tr>\n",
              "      <th>267</th>\n",
              "      <td>Brown University</td>\n",
              "      <td>Ivy League</td>\n",
              "      <td>$56,200.00</td>\n",
              "      <td>$109,000.00</td>\n",
              "      <td>$55,400.00</td>\n",
              "      <td>$74,400.00</td>\n",
              "      <td>$159,000.00</td>\n",
              "      <td>$228,000.00</td>\n",
              "    </tr>\n",
              "    <tr>\n",
              "      <th>268</th>\n",
              "      <td>Columbia University</td>\n",
              "      <td>Ivy League</td>\n",
              "      <td>$59,400.00</td>\n",
              "      <td>$107,000.00</td>\n",
              "      <td>$50,300.00</td>\n",
              "      <td>$71,900.00</td>\n",
              "      <td>$161,000.00</td>\n",
              "      <td>$241,000.00</td>\n",
              "    </tr>\n",
              "  </tbody>\n",
              "</table>\n",
              "<p>269 rows × 8 columns</p>\n",
              "</div>"
            ],
            "text/plain": [
              "                                      School Name  ... Mid-Career 90th Percentile Salary\n",
              "0     Massachusetts Institute of Technology (MIT)  ...                      $220,000.00 \n",
              "1        California Institute of Technology (CIT)  ...                               NaN\n",
              "2                             Harvey Mudd College  ...                               NaN\n",
              "3    Polytechnic University of New York, Brooklyn  ...                      $190,000.00 \n",
              "4                                    Cooper Union  ...                               NaN\n",
              "..                                            ...  ...                               ...\n",
              "264                            Harvard University  ...                      $288,000.00 \n",
              "265                    University of Pennsylvania  ...                      $282,000.00 \n",
              "266                            Cornell University  ...                      $210,000.00 \n",
              "267                              Brown University  ...                      $228,000.00 \n",
              "268                           Columbia University  ...                      $241,000.00 \n",
              "\n",
              "[269 rows x 8 columns]"
            ]
          },
          "metadata": {
            "tags": []
          },
          "execution_count": 42
        }
      ]
    },
    {
      "cell_type": "code",
      "metadata": {
        "colab": {
          "base_uri": "https://localhost:8080/",
          "height": 294
        },
        "id": "cPJUTTSCt98Y",
        "outputId": "1b6c9c0e-3157-4ff6-d38c-b1b3c92c2bef"
      },
      "source": [
        "pd.merge(ivies,regions, how='inner')"
      ],
      "execution_count": null,
      "outputs": [
        {
          "output_type": "execute_result",
          "data": {
            "text/html": [
              "<div>\n",
              "<style scoped>\n",
              "    .dataframe tbody tr th:only-of-type {\n",
              "        vertical-align: middle;\n",
              "    }\n",
              "\n",
              "    .dataframe tbody tr th {\n",
              "        vertical-align: top;\n",
              "    }\n",
              "\n",
              "    .dataframe thead th {\n",
              "        text-align: right;\n",
              "    }\n",
              "</style>\n",
              "<table border=\"1\" class=\"dataframe\">\n",
              "  <thead>\n",
              "    <tr style=\"text-align: right;\">\n",
              "      <th></th>\n",
              "      <th>School Name</th>\n",
              "      <th>School Type</th>\n",
              "      <th>Starting Median Salary</th>\n",
              "      <th>Mid-Career Median Salary</th>\n",
              "      <th>Region</th>\n",
              "    </tr>\n",
              "  </thead>\n",
              "  <tbody>\n",
              "    <tr>\n",
              "      <th>0</th>\n",
              "      <td>Dartmouth College</td>\n",
              "      <td>Ivy League</td>\n",
              "      <td>$58,000.00</td>\n",
              "      <td>$134,000.00</td>\n",
              "      <td>Northeastern</td>\n",
              "    </tr>\n",
              "    <tr>\n",
              "      <th>1</th>\n",
              "      <td>Princeton University</td>\n",
              "      <td>Ivy League</td>\n",
              "      <td>$66,500.00</td>\n",
              "      <td>$131,000.00</td>\n",
              "      <td>Northeastern</td>\n",
              "    </tr>\n",
              "    <tr>\n",
              "      <th>2</th>\n",
              "      <td>Yale University</td>\n",
              "      <td>Ivy League</td>\n",
              "      <td>$59,100.00</td>\n",
              "      <td>$126,000.00</td>\n",
              "      <td>Northeastern</td>\n",
              "    </tr>\n",
              "    <tr>\n",
              "      <th>3</th>\n",
              "      <td>Harvard University</td>\n",
              "      <td>Ivy League</td>\n",
              "      <td>$63,400.00</td>\n",
              "      <td>$124,000.00</td>\n",
              "      <td>Northeastern</td>\n",
              "    </tr>\n",
              "    <tr>\n",
              "      <th>4</th>\n",
              "      <td>University of Pennsylvania</td>\n",
              "      <td>Ivy League</td>\n",
              "      <td>$60,900.00</td>\n",
              "      <td>$120,000.00</td>\n",
              "      <td>Northeastern</td>\n",
              "    </tr>\n",
              "    <tr>\n",
              "      <th>5</th>\n",
              "      <td>Cornell University</td>\n",
              "      <td>Ivy League</td>\n",
              "      <td>$60,300.00</td>\n",
              "      <td>$110,000.00</td>\n",
              "      <td>Northeastern</td>\n",
              "    </tr>\n",
              "    <tr>\n",
              "      <th>6</th>\n",
              "      <td>Brown University</td>\n",
              "      <td>Ivy League</td>\n",
              "      <td>$56,200.00</td>\n",
              "      <td>$109,000.00</td>\n",
              "      <td>Northeastern</td>\n",
              "    </tr>\n",
              "    <tr>\n",
              "      <th>7</th>\n",
              "      <td>Columbia University</td>\n",
              "      <td>Ivy League</td>\n",
              "      <td>$59,400.00</td>\n",
              "      <td>$107,000.00</td>\n",
              "      <td>Northeastern</td>\n",
              "    </tr>\n",
              "  </tbody>\n",
              "</table>\n",
              "</div>"
            ],
            "text/plain": [
              "                  School Name  ...        Region\n",
              "0           Dartmouth College  ...  Northeastern\n",
              "1        Princeton University  ...  Northeastern\n",
              "2             Yale University  ...  Northeastern\n",
              "3          Harvard University  ...  Northeastern\n",
              "4  University of Pennsylvania  ...  Northeastern\n",
              "5          Cornell University  ...  Northeastern\n",
              "6            Brown University  ...  Northeastern\n",
              "7         Columbia University  ...  Northeastern\n",
              "\n",
              "[8 rows x 5 columns]"
            ]
          },
          "metadata": {
            "tags": []
          },
          "execution_count": 43
        }
      ]
    },
    {
      "cell_type": "code",
      "metadata": {
        "colab": {
          "base_uri": "https://localhost:8080/",
          "height": 414
        },
        "id": "w1JYd6AEt-Dr",
        "outputId": "35c1663a-b1c9-4168-ca1a-78068ec6da82"
      },
      "source": [
        "pd.merge(ivies,regions, how='outer')"
      ],
      "execution_count": null,
      "outputs": [
        {
          "output_type": "execute_result",
          "data": {
            "text/html": [
              "<div>\n",
              "<style scoped>\n",
              "    .dataframe tbody tr th:only-of-type {\n",
              "        vertical-align: middle;\n",
              "    }\n",
              "\n",
              "    .dataframe tbody tr th {\n",
              "        vertical-align: top;\n",
              "    }\n",
              "\n",
              "    .dataframe thead th {\n",
              "        text-align: right;\n",
              "    }\n",
              "</style>\n",
              "<table border=\"1\" class=\"dataframe\">\n",
              "  <thead>\n",
              "    <tr style=\"text-align: right;\">\n",
              "      <th></th>\n",
              "      <th>School Name</th>\n",
              "      <th>School Type</th>\n",
              "      <th>Starting Median Salary</th>\n",
              "      <th>Mid-Career Median Salary</th>\n",
              "      <th>Region</th>\n",
              "    </tr>\n",
              "  </thead>\n",
              "  <tbody>\n",
              "    <tr>\n",
              "      <th>0</th>\n",
              "      <td>Dartmouth College</td>\n",
              "      <td>Ivy League</td>\n",
              "      <td>$58,000.00</td>\n",
              "      <td>$134,000.00</td>\n",
              "      <td>Northeastern</td>\n",
              "    </tr>\n",
              "    <tr>\n",
              "      <th>1</th>\n",
              "      <td>Princeton University</td>\n",
              "      <td>Ivy League</td>\n",
              "      <td>$66,500.00</td>\n",
              "      <td>$131,000.00</td>\n",
              "      <td>Northeastern</td>\n",
              "    </tr>\n",
              "    <tr>\n",
              "      <th>2</th>\n",
              "      <td>Yale University</td>\n",
              "      <td>Ivy League</td>\n",
              "      <td>$59,100.00</td>\n",
              "      <td>$126,000.00</td>\n",
              "      <td>Northeastern</td>\n",
              "    </tr>\n",
              "    <tr>\n",
              "      <th>3</th>\n",
              "      <td>Harvard University</td>\n",
              "      <td>Ivy League</td>\n",
              "      <td>$63,400.00</td>\n",
              "      <td>$124,000.00</td>\n",
              "      <td>Northeastern</td>\n",
              "    </tr>\n",
              "    <tr>\n",
              "      <th>4</th>\n",
              "      <td>University of Pennsylvania</td>\n",
              "      <td>Ivy League</td>\n",
              "      <td>$60,900.00</td>\n",
              "      <td>$120,000.00</td>\n",
              "      <td>Northeastern</td>\n",
              "    </tr>\n",
              "    <tr>\n",
              "      <th>...</th>\n",
              "      <td>...</td>\n",
              "      <td>...</td>\n",
              "      <td>...</td>\n",
              "      <td>...</td>\n",
              "      <td>...</td>\n",
              "    </tr>\n",
              "    <tr>\n",
              "      <th>264</th>\n",
              "      <td>Austin Peay State University</td>\n",
              "      <td>NaN</td>\n",
              "      <td>NaN</td>\n",
              "      <td>NaN</td>\n",
              "      <td>Southern</td>\n",
              "    </tr>\n",
              "    <tr>\n",
              "      <th>265</th>\n",
              "      <td>Pittsburg State University</td>\n",
              "      <td>NaN</td>\n",
              "      <td>NaN</td>\n",
              "      <td>NaN</td>\n",
              "      <td>Midwestern</td>\n",
              "    </tr>\n",
              "    <tr>\n",
              "      <th>266</th>\n",
              "      <td>Southern Utah University</td>\n",
              "      <td>NaN</td>\n",
              "      <td>NaN</td>\n",
              "      <td>NaN</td>\n",
              "      <td>Western</td>\n",
              "    </tr>\n",
              "    <tr>\n",
              "      <th>267</th>\n",
              "      <td>Montana State University - Billings</td>\n",
              "      <td>NaN</td>\n",
              "      <td>NaN</td>\n",
              "      <td>NaN</td>\n",
              "      <td>Western</td>\n",
              "    </tr>\n",
              "    <tr>\n",
              "      <th>268</th>\n",
              "      <td>Black Hills State University</td>\n",
              "      <td>NaN</td>\n",
              "      <td>NaN</td>\n",
              "      <td>NaN</td>\n",
              "      <td>Midwestern</td>\n",
              "    </tr>\n",
              "  </tbody>\n",
              "</table>\n",
              "<p>269 rows × 5 columns</p>\n",
              "</div>"
            ],
            "text/plain": [
              "                             School Name  ...        Region\n",
              "0                      Dartmouth College  ...  Northeastern\n",
              "1                   Princeton University  ...  Northeastern\n",
              "2                        Yale University  ...  Northeastern\n",
              "3                     Harvard University  ...  Northeastern\n",
              "4             University of Pennsylvania  ...  Northeastern\n",
              "..                                   ...  ...           ...\n",
              "264         Austin Peay State University  ...      Southern\n",
              "265           Pittsburg State University  ...    Midwestern\n",
              "266             Southern Utah University  ...       Western\n",
              "267  Montana State University - Billings  ...       Western\n",
              "268         Black Hills State University  ...    Midwestern\n",
              "\n",
              "[269 rows x 5 columns]"
            ]
          },
          "metadata": {
            "tags": []
          },
          "execution_count": 44
        }
      ]
    },
    {
      "cell_type": "code",
      "metadata": {
        "colab": {
          "base_uri": "https://localhost:8080/",
          "height": 294
        },
        "id": "d8D4DxUkfu5Y",
        "outputId": "ab378b8b-3bea-471f-9233-25a360d20fbe"
      },
      "source": [
        "ivies"
      ],
      "execution_count": null,
      "outputs": [
        {
          "output_type": "execute_result",
          "data": {
            "text/html": [
              "<div>\n",
              "<style scoped>\n",
              "    .dataframe tbody tr th:only-of-type {\n",
              "        vertical-align: middle;\n",
              "    }\n",
              "\n",
              "    .dataframe tbody tr th {\n",
              "        vertical-align: top;\n",
              "    }\n",
              "\n",
              "    .dataframe thead th {\n",
              "        text-align: right;\n",
              "    }\n",
              "</style>\n",
              "<table border=\"1\" class=\"dataframe\">\n",
              "  <thead>\n",
              "    <tr style=\"text-align: right;\">\n",
              "      <th></th>\n",
              "      <th>School Name</th>\n",
              "      <th>School Type</th>\n",
              "      <th>Starting Median Salary</th>\n",
              "      <th>Mid-Career Median Salary</th>\n",
              "    </tr>\n",
              "  </thead>\n",
              "  <tbody>\n",
              "    <tr>\n",
              "      <th>0</th>\n",
              "      <td>Dartmouth College</td>\n",
              "      <td>Ivy League</td>\n",
              "      <td>$58,000.00</td>\n",
              "      <td>$134,000.00</td>\n",
              "    </tr>\n",
              "    <tr>\n",
              "      <th>1</th>\n",
              "      <td>Princeton University</td>\n",
              "      <td>Ivy League</td>\n",
              "      <td>$66,500.00</td>\n",
              "      <td>$131,000.00</td>\n",
              "    </tr>\n",
              "    <tr>\n",
              "      <th>2</th>\n",
              "      <td>Yale University</td>\n",
              "      <td>Ivy League</td>\n",
              "      <td>$59,100.00</td>\n",
              "      <td>$126,000.00</td>\n",
              "    </tr>\n",
              "    <tr>\n",
              "      <th>3</th>\n",
              "      <td>Harvard University</td>\n",
              "      <td>Ivy League</td>\n",
              "      <td>$63,400.00</td>\n",
              "      <td>$124,000.00</td>\n",
              "    </tr>\n",
              "    <tr>\n",
              "      <th>4</th>\n",
              "      <td>University of Pennsylvania</td>\n",
              "      <td>Ivy League</td>\n",
              "      <td>$60,900.00</td>\n",
              "      <td>$120,000.00</td>\n",
              "    </tr>\n",
              "    <tr>\n",
              "      <th>5</th>\n",
              "      <td>Cornell University</td>\n",
              "      <td>Ivy League</td>\n",
              "      <td>$60,300.00</td>\n",
              "      <td>$110,000.00</td>\n",
              "    </tr>\n",
              "    <tr>\n",
              "      <th>6</th>\n",
              "      <td>Brown University</td>\n",
              "      <td>Ivy League</td>\n",
              "      <td>$56,200.00</td>\n",
              "      <td>$109,000.00</td>\n",
              "    </tr>\n",
              "    <tr>\n",
              "      <th>7</th>\n",
              "      <td>Columbia University</td>\n",
              "      <td>Ivy League</td>\n",
              "      <td>$59,400.00</td>\n",
              "      <td>$107,000.00</td>\n",
              "    </tr>\n",
              "  </tbody>\n",
              "</table>\n",
              "</div>"
            ],
            "text/plain": [
              "                  School Name  ... Mid-Career Median Salary\n",
              "0           Dartmouth College  ...             $134,000.00 \n",
              "1        Princeton University  ...             $131,000.00 \n",
              "2             Yale University  ...             $126,000.00 \n",
              "3          Harvard University  ...             $124,000.00 \n",
              "4  University of Pennsylvania  ...             $120,000.00 \n",
              "5          Cornell University  ...             $110,000.00 \n",
              "6            Brown University  ...             $109,000.00 \n",
              "7         Columbia University  ...             $107,000.00 \n",
              "\n",
              "[8 rows x 4 columns]"
            ]
          },
          "metadata": {
            "tags": []
          },
          "execution_count": 45
        }
      ]
    },
    {
      "cell_type": "code",
      "metadata": {
        "colab": {
          "base_uri": "https://localhost:8080/",
          "height": 294
        },
        "id": "CHX4ETvFfokz",
        "outputId": "ac0a153b-931d-4f77-c28f-ee211ed875c9"
      },
      "source": [
        "pd.merge(ivies,regions, how='left')"
      ],
      "execution_count": null,
      "outputs": [
        {
          "output_type": "execute_result",
          "data": {
            "text/html": [
              "<div>\n",
              "<style scoped>\n",
              "    .dataframe tbody tr th:only-of-type {\n",
              "        vertical-align: middle;\n",
              "    }\n",
              "\n",
              "    .dataframe tbody tr th {\n",
              "        vertical-align: top;\n",
              "    }\n",
              "\n",
              "    .dataframe thead th {\n",
              "        text-align: right;\n",
              "    }\n",
              "</style>\n",
              "<table border=\"1\" class=\"dataframe\">\n",
              "  <thead>\n",
              "    <tr style=\"text-align: right;\">\n",
              "      <th></th>\n",
              "      <th>School Name</th>\n",
              "      <th>School Type</th>\n",
              "      <th>Starting Median Salary</th>\n",
              "      <th>Mid-Career Median Salary</th>\n",
              "      <th>Region</th>\n",
              "    </tr>\n",
              "  </thead>\n",
              "  <tbody>\n",
              "    <tr>\n",
              "      <th>0</th>\n",
              "      <td>Dartmouth College</td>\n",
              "      <td>Ivy League</td>\n",
              "      <td>$58,000.00</td>\n",
              "      <td>$134,000.00</td>\n",
              "      <td>Northeastern</td>\n",
              "    </tr>\n",
              "    <tr>\n",
              "      <th>1</th>\n",
              "      <td>Princeton University</td>\n",
              "      <td>Ivy League</td>\n",
              "      <td>$66,500.00</td>\n",
              "      <td>$131,000.00</td>\n",
              "      <td>Northeastern</td>\n",
              "    </tr>\n",
              "    <tr>\n",
              "      <th>2</th>\n",
              "      <td>Yale University</td>\n",
              "      <td>Ivy League</td>\n",
              "      <td>$59,100.00</td>\n",
              "      <td>$126,000.00</td>\n",
              "      <td>Northeastern</td>\n",
              "    </tr>\n",
              "    <tr>\n",
              "      <th>3</th>\n",
              "      <td>Harvard University</td>\n",
              "      <td>Ivy League</td>\n",
              "      <td>$63,400.00</td>\n",
              "      <td>$124,000.00</td>\n",
              "      <td>Northeastern</td>\n",
              "    </tr>\n",
              "    <tr>\n",
              "      <th>4</th>\n",
              "      <td>University of Pennsylvania</td>\n",
              "      <td>Ivy League</td>\n",
              "      <td>$60,900.00</td>\n",
              "      <td>$120,000.00</td>\n",
              "      <td>Northeastern</td>\n",
              "    </tr>\n",
              "    <tr>\n",
              "      <th>5</th>\n",
              "      <td>Cornell University</td>\n",
              "      <td>Ivy League</td>\n",
              "      <td>$60,300.00</td>\n",
              "      <td>$110,000.00</td>\n",
              "      <td>Northeastern</td>\n",
              "    </tr>\n",
              "    <tr>\n",
              "      <th>6</th>\n",
              "      <td>Brown University</td>\n",
              "      <td>Ivy League</td>\n",
              "      <td>$56,200.00</td>\n",
              "      <td>$109,000.00</td>\n",
              "      <td>Northeastern</td>\n",
              "    </tr>\n",
              "    <tr>\n",
              "      <th>7</th>\n",
              "      <td>Columbia University</td>\n",
              "      <td>Ivy League</td>\n",
              "      <td>$59,400.00</td>\n",
              "      <td>$107,000.00</td>\n",
              "      <td>Northeastern</td>\n",
              "    </tr>\n",
              "  </tbody>\n",
              "</table>\n",
              "</div>"
            ],
            "text/plain": [
              "                  School Name  ...        Region\n",
              "0           Dartmouth College  ...  Northeastern\n",
              "1        Princeton University  ...  Northeastern\n",
              "2             Yale University  ...  Northeastern\n",
              "3          Harvard University  ...  Northeastern\n",
              "4  University of Pennsylvania  ...  Northeastern\n",
              "5          Cornell University  ...  Northeastern\n",
              "6            Brown University  ...  Northeastern\n",
              "7         Columbia University  ...  Northeastern\n",
              "\n",
              "[8 rows x 5 columns]"
            ]
          },
          "metadata": {
            "tags": []
          },
          "execution_count": 46
        }
      ]
    },
    {
      "cell_type": "code",
      "metadata": {
        "colab": {
          "base_uri": "https://localhost:8080/",
          "height": 414
        },
        "id": "FEFZxlOzhprW",
        "outputId": "7eb33906-3f9f-4f15-9d62-b3410814d0f2"
      },
      "source": [
        "state"
      ],
      "execution_count": null,
      "outputs": [
        {
          "output_type": "execute_result",
          "data": {
            "text/html": [
              "<div>\n",
              "<style scoped>\n",
              "    .dataframe tbody tr th:only-of-type {\n",
              "        vertical-align: middle;\n",
              "    }\n",
              "\n",
              "    .dataframe tbody tr th {\n",
              "        vertical-align: top;\n",
              "    }\n",
              "\n",
              "    .dataframe thead th {\n",
              "        text-align: right;\n",
              "    }\n",
              "</style>\n",
              "<table border=\"1\" class=\"dataframe\">\n",
              "  <thead>\n",
              "    <tr style=\"text-align: right;\">\n",
              "      <th></th>\n",
              "      <th>School Name</th>\n",
              "      <th>School Type</th>\n",
              "      <th>Starting Median Salary</th>\n",
              "      <th>Mid-Career Median Salary</th>\n",
              "    </tr>\n",
              "  </thead>\n",
              "  <tbody>\n",
              "    <tr>\n",
              "      <th>0</th>\n",
              "      <td>University of California, Berkeley</td>\n",
              "      <td>State</td>\n",
              "      <td>$59,900.00</td>\n",
              "      <td>$112,000.00</td>\n",
              "    </tr>\n",
              "    <tr>\n",
              "      <th>1</th>\n",
              "      <td>University of Virginia (UVA)</td>\n",
              "      <td>State</td>\n",
              "      <td>$52,700.00</td>\n",
              "      <td>$103,000.00</td>\n",
              "    </tr>\n",
              "    <tr>\n",
              "      <th>2</th>\n",
              "      <td>Cal Poly San Luis Obispo</td>\n",
              "      <td>State</td>\n",
              "      <td>$57,200.00</td>\n",
              "      <td>$101,000.00</td>\n",
              "    </tr>\n",
              "    <tr>\n",
              "      <th>3</th>\n",
              "      <td>University of California at Los Angeles (UCLA)</td>\n",
              "      <td>State</td>\n",
              "      <td>$52,600.00</td>\n",
              "      <td>$101,000.00</td>\n",
              "    </tr>\n",
              "    <tr>\n",
              "      <th>4</th>\n",
              "      <td>University of California, San Diego (UCSD)</td>\n",
              "      <td>State</td>\n",
              "      <td>$51,100.00</td>\n",
              "      <td>$101,000.00</td>\n",
              "    </tr>\n",
              "    <tr>\n",
              "      <th>...</th>\n",
              "      <td>...</td>\n",
              "      <td>...</td>\n",
              "      <td>...</td>\n",
              "      <td>...</td>\n",
              "    </tr>\n",
              "    <tr>\n",
              "      <th>170</th>\n",
              "      <td>Austin Peay State University</td>\n",
              "      <td>State</td>\n",
              "      <td>$37,700.00</td>\n",
              "      <td>$59,200.00</td>\n",
              "    </tr>\n",
              "    <tr>\n",
              "      <th>171</th>\n",
              "      <td>Pittsburg State University</td>\n",
              "      <td>State</td>\n",
              "      <td>$40,400.00</td>\n",
              "      <td>$58,200.00</td>\n",
              "    </tr>\n",
              "    <tr>\n",
              "      <th>172</th>\n",
              "      <td>Southern Utah University</td>\n",
              "      <td>State</td>\n",
              "      <td>$41,900.00</td>\n",
              "      <td>$56,500.00</td>\n",
              "    </tr>\n",
              "    <tr>\n",
              "      <th>173</th>\n",
              "      <td>Montana State University - Billings</td>\n",
              "      <td>State</td>\n",
              "      <td>$37,900.00</td>\n",
              "      <td>$50,600.00</td>\n",
              "    </tr>\n",
              "    <tr>\n",
              "      <th>174</th>\n",
              "      <td>Black Hills State University</td>\n",
              "      <td>State</td>\n",
              "      <td>$35,300.00</td>\n",
              "      <td>$43,900.00</td>\n",
              "    </tr>\n",
              "  </tbody>\n",
              "</table>\n",
              "<p>175 rows × 4 columns</p>\n",
              "</div>"
            ],
            "text/plain": [
              "                                        School Name  ... Mid-Career Median Salary\n",
              "0                University of California, Berkeley  ...             $112,000.00 \n",
              "1                      University of Virginia (UVA)  ...             $103,000.00 \n",
              "2                          Cal Poly San Luis Obispo  ...             $101,000.00 \n",
              "3    University of California at Los Angeles (UCLA)  ...             $101,000.00 \n",
              "4        University of California, San Diego (UCSD)  ...             $101,000.00 \n",
              "..                                              ...  ...                      ...\n",
              "170                    Austin Peay State University  ...              $59,200.00 \n",
              "171                      Pittsburg State University  ...              $58,200.00 \n",
              "172                        Southern Utah University  ...              $56,500.00 \n",
              "173             Montana State University - Billings  ...              $50,600.00 \n",
              "174                    Black Hills State University  ...              $43,900.00 \n",
              "\n",
              "[175 rows x 4 columns]"
            ]
          },
          "metadata": {
            "tags": []
          },
          "execution_count": 47
        }
      ]
    },
    {
      "cell_type": "code",
      "metadata": {
        "colab": {
          "base_uri": "https://localhost:8080/"
        },
        "id": "-bJ-mqcgiHJe",
        "outputId": "fbf67ff5-19b6-4466-f676-a6a5cd13f78d"
      },
      "source": [
        "state['School Name'].is_unique"
      ],
      "execution_count": null,
      "outputs": [
        {
          "output_type": "execute_result",
          "data": {
            "text/plain": [
              "True"
            ]
          },
          "metadata": {
            "tags": []
          },
          "execution_count": 48
        }
      ]
    },
    {
      "cell_type": "code",
      "metadata": {
        "colab": {
          "base_uri": "https://localhost:8080/"
        },
        "id": "75SeT8uxiVFa",
        "outputId": "ebc85968-a2b2-4888-86c8-a9151ab4b67d"
      },
      "source": [
        "regions['School Name'].is_unique"
      ],
      "execution_count": null,
      "outputs": [
        {
          "output_type": "execute_result",
          "data": {
            "text/plain": [
              "False"
            ]
          },
          "metadata": {
            "tags": []
          },
          "execution_count": 51
        }
      ]
    },
    {
      "cell_type": "code",
      "metadata": {
        "colab": {
          "base_uri": "https://localhost:8080/",
          "height": 141
        },
        "id": "w3e226wnU2Yc",
        "outputId": "87d99845-6614-44c2-e1d2-7f6ab3dff69a"
      },
      "source": [
        "liberal.head(3\n",
        "             )"
      ],
      "execution_count": null,
      "outputs": [
        {
          "output_type": "execute_result",
          "data": {
            "text/html": [
              "<div>\n",
              "<style scoped>\n",
              "    .dataframe tbody tr th:only-of-type {\n",
              "        vertical-align: middle;\n",
              "    }\n",
              "\n",
              "    .dataframe tbody tr th {\n",
              "        vertical-align: top;\n",
              "    }\n",
              "\n",
              "    .dataframe thead th {\n",
              "        text-align: right;\n",
              "    }\n",
              "</style>\n",
              "<table border=\"1\" class=\"dataframe\">\n",
              "  <thead>\n",
              "    <tr style=\"text-align: right;\">\n",
              "      <th></th>\n",
              "      <th>School Name</th>\n",
              "      <th>School Type</th>\n",
              "      <th>Starting Median Salary</th>\n",
              "      <th>Mid-Career Median Salary</th>\n",
              "    </tr>\n",
              "  </thead>\n",
              "  <tbody>\n",
              "    <tr>\n",
              "      <th>0</th>\n",
              "      <td>Bucknell University</td>\n",
              "      <td>Liberal Arts</td>\n",
              "      <td>$54,100.00</td>\n",
              "      <td>$110,000.00</td>\n",
              "    </tr>\n",
              "    <tr>\n",
              "      <th>1</th>\n",
              "      <td>Colgate University</td>\n",
              "      <td>Liberal Arts</td>\n",
              "      <td>$52,800.00</td>\n",
              "      <td>$108,000.00</td>\n",
              "    </tr>\n",
              "    <tr>\n",
              "      <th>2</th>\n",
              "      <td>Amherst College</td>\n",
              "      <td>Liberal Arts</td>\n",
              "      <td>$54,500.00</td>\n",
              "      <td>$107,000.00</td>\n",
              "    </tr>\n",
              "  </tbody>\n",
              "</table>\n",
              "</div>"
            ],
            "text/plain": [
              "           School Name  ... Mid-Career Median Salary\n",
              "0  Bucknell University  ...             $110,000.00 \n",
              "1   Colgate University  ...             $108,000.00 \n",
              "2      Amherst College  ...             $107,000.00 \n",
              "\n",
              "[3 rows x 4 columns]"
            ]
          },
          "metadata": {
            "tags": []
          },
          "execution_count": 54
        }
      ]
    },
    {
      "cell_type": "code",
      "metadata": {
        "colab": {
          "base_uri": "https://localhost:8080/",
          "height": 141
        },
        "id": "OZrkeAcHU3eV",
        "outputId": "d959006a-02a7-4cc4-8ba2-32866102cc7f"
      },
      "source": [
        "regions.head(3\n",
        "             )"
      ],
      "execution_count": null,
      "outputs": [
        {
          "output_type": "execute_result",
          "data": {
            "text/html": [
              "<div>\n",
              "<style scoped>\n",
              "    .dataframe tbody tr th:only-of-type {\n",
              "        vertical-align: middle;\n",
              "    }\n",
              "\n",
              "    .dataframe tbody tr th {\n",
              "        vertical-align: top;\n",
              "    }\n",
              "\n",
              "    .dataframe thead th {\n",
              "        text-align: right;\n",
              "    }\n",
              "</style>\n",
              "<table border=\"1\" class=\"dataframe\">\n",
              "  <thead>\n",
              "    <tr style=\"text-align: right;\">\n",
              "      <th></th>\n",
              "      <th>School Name</th>\n",
              "      <th>Region</th>\n",
              "    </tr>\n",
              "  </thead>\n",
              "  <tbody>\n",
              "    <tr>\n",
              "      <th>0</th>\n",
              "      <td>Massachusetts Institute of Technology (MIT)</td>\n",
              "      <td>Northeastern</td>\n",
              "    </tr>\n",
              "    <tr>\n",
              "      <th>1</th>\n",
              "      <td>California Institute of Technology (CIT)</td>\n",
              "      <td>California</td>\n",
              "    </tr>\n",
              "    <tr>\n",
              "      <th>2</th>\n",
              "      <td>Harvey Mudd College</td>\n",
              "      <td>California</td>\n",
              "    </tr>\n",
              "  </tbody>\n",
              "</table>\n",
              "</div>"
            ],
            "text/plain": [
              "                                   School Name        Region\n",
              "0  Massachusetts Institute of Technology (MIT)  Northeastern\n",
              "1     California Institute of Technology (CIT)    California\n",
              "2                          Harvey Mudd College    California"
            ]
          },
          "metadata": {
            "tags": []
          },
          "execution_count": 53
        }
      ]
    },
    {
      "cell_type": "code",
      "metadata": {
        "id": "OFQgGvXCi8OB"
      },
      "source": [
        " dfm = pd.merge(liberal,regions,right_on='School Name', left_on='School Name')"
      ],
      "execution_count": null,
      "outputs": []
    },
    {
      "cell_type": "code",
      "metadata": {
        "colab": {
          "base_uri": "https://localhost:8080/"
        },
        "id": "7n4kChxlVZYk",
        "outputId": "9e3552fe-8c7f-447d-c930-c1cadb81ba8b"
      },
      "source": [
        "dfm.Region.value_counts()"
      ],
      "execution_count": 83,
      "outputs": [
        {
          "output_type": "execute_result",
          "data": {
            "text/plain": [
              "Northeastern    25\n",
              "Midwestern       8\n",
              "Western          7\n",
              "Southern         5\n",
              "California       3\n",
              "Name: Region, dtype: int64"
            ]
          },
          "metadata": {
            "tags": []
          },
          "execution_count": 83
        }
      ]
    },
    {
      "cell_type": "code",
      "metadata": {
        "id": "UZ_kteWQV4bY"
      },
      "source": [
        ""
      ],
      "execution_count": null,
      "outputs": []
    },
    {
      "cell_type": "code",
      "metadata": {
        "id": "8UhZxVYciFZX"
      },
      "source": [
        ""
      ],
      "execution_count": null,
      "outputs": []
    }
  ]
}