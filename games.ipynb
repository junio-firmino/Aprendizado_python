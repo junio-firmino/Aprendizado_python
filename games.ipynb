{
  "nbformat": 4,
  "nbformat_minor": 0,
  "metadata": {
    "colab": {
      "name": "games.ipynb",
      "provenance": [],
      "mount_file_id": "1QvefpRg5q8mEB93cSzsMq-lPzwFLESHL",
      "authorship_tag": "ABX9TyM+KnZw8oGYP39EzlFlcxex",
      "include_colab_link": true
    },
    "kernelspec": {
      "name": "python3",
      "display_name": "Python 3"
    },
    "language_info": {
      "name": "python"
    }
  },
  "cells": [
    {
      "cell_type": "markdown",
      "metadata": {
        "id": "view-in-github",
        "colab_type": "text"
      },
      "source": [
        "<a href=\"https://colab.research.google.com/github/junio-firmino/Aprendizado_python/blob/master/games.ipynb\" target=\"_parent\"><img src=\"https://colab.research.google.com/assets/colab-badge.svg\" alt=\"Open In Colab\"/></a>"
      ]
    },
    {
      "cell_type": "code",
      "metadata": {
        "id": "IjSJtmSu-ZvZ"
      },
      "source": [
        "import pandas as pd"
      ],
      "execution_count": 75,
      "outputs": []
    },
    {
      "cell_type": "code",
      "metadata": {
        "id": "RlXZOnRw-8sq"
      },
      "source": [
        "games_url = '/content/drive/MyDrive/games_sales.csv'"
      ],
      "execution_count": 76,
      "outputs": []
    },
    {
      "cell_type": "code",
      "metadata": {
        "id": "lQC7HOL7_Bkd"
      },
      "source": [
        "games = pd.read_csv(games_url)"
      ],
      "execution_count": 77,
      "outputs": []
    },
    {
      "cell_type": "code",
      "metadata": {
        "colab": {
          "base_uri": "https://localhost:8080/",
          "height": 419
        },
        "id": "mWZWPTX6_Hpp",
        "outputId": "2ee32b42-0676-4b80-ba98-40b871a18920"
      },
      "source": [
        "games"
      ],
      "execution_count": 78,
      "outputs": [
        {
          "output_type": "execute_result",
          "data": {
            "text/html": [
              "<div>\n",
              "<style scoped>\n",
              "    .dataframe tbody tr th:only-of-type {\n",
              "        vertical-align: middle;\n",
              "    }\n",
              "\n",
              "    .dataframe tbody tr th {\n",
              "        vertical-align: top;\n",
              "    }\n",
              "\n",
              "    .dataframe thead th {\n",
              "        text-align: right;\n",
              "    }\n",
              "</style>\n",
              "<table border=\"1\" class=\"dataframe\">\n",
              "  <thead>\n",
              "    <tr style=\"text-align: right;\">\n",
              "      <th></th>\n",
              "      <th>Name</th>\n",
              "      <th>Platform</th>\n",
              "      <th>Year</th>\n",
              "      <th>Genre</th>\n",
              "      <th>Publisher</th>\n",
              "      <th>NA_Sales</th>\n",
              "      <th>EU_Sales</th>\n",
              "      <th>JP_Sales</th>\n",
              "      <th>Other_Sales</th>\n",
              "      <th>Global_Sales</th>\n",
              "    </tr>\n",
              "  </thead>\n",
              "  <tbody>\n",
              "    <tr>\n",
              "      <th>0</th>\n",
              "      <td>Kinect Adventures!</td>\n",
              "      <td>X360</td>\n",
              "      <td>2010.0</td>\n",
              "      <td>Misc</td>\n",
              "      <td>Microsoft Game Studios</td>\n",
              "      <td>14.97</td>\n",
              "      <td>4.94</td>\n",
              "      <td>0.24</td>\n",
              "      <td>1.67</td>\n",
              "      <td>21.82</td>\n",
              "    </tr>\n",
              "    <tr>\n",
              "      <th>1</th>\n",
              "      <td>Grand Theft Auto V</td>\n",
              "      <td>PS3</td>\n",
              "      <td>2013.0</td>\n",
              "      <td>Action</td>\n",
              "      <td>Take-Two Interactive</td>\n",
              "      <td>7.01</td>\n",
              "      <td>9.27</td>\n",
              "      <td>0.97</td>\n",
              "      <td>4.14</td>\n",
              "      <td>21.40</td>\n",
              "    </tr>\n",
              "    <tr>\n",
              "      <th>2</th>\n",
              "      <td>Grand Theft Auto V</td>\n",
              "      <td>X360</td>\n",
              "      <td>2013.0</td>\n",
              "      <td>Action</td>\n",
              "      <td>Take-Two Interactive</td>\n",
              "      <td>9.63</td>\n",
              "      <td>5.31</td>\n",
              "      <td>0.06</td>\n",
              "      <td>1.38</td>\n",
              "      <td>16.38</td>\n",
              "    </tr>\n",
              "    <tr>\n",
              "      <th>3</th>\n",
              "      <td>Call of Duty: Modern Warfare 3</td>\n",
              "      <td>X360</td>\n",
              "      <td>2011.0</td>\n",
              "      <td>Shooter</td>\n",
              "      <td>Activision</td>\n",
              "      <td>9.03</td>\n",
              "      <td>4.28</td>\n",
              "      <td>0.13</td>\n",
              "      <td>1.32</td>\n",
              "      <td>14.76</td>\n",
              "    </tr>\n",
              "    <tr>\n",
              "      <th>4</th>\n",
              "      <td>Call of Duty: Black Ops</td>\n",
              "      <td>X360</td>\n",
              "      <td>2010.0</td>\n",
              "      <td>Shooter</td>\n",
              "      <td>Activision</td>\n",
              "      <td>9.67</td>\n",
              "      <td>3.73</td>\n",
              "      <td>0.11</td>\n",
              "      <td>1.13</td>\n",
              "      <td>14.64</td>\n",
              "    </tr>\n",
              "    <tr>\n",
              "      <th>...</th>\n",
              "      <td>...</td>\n",
              "      <td>...</td>\n",
              "      <td>...</td>\n",
              "      <td>...</td>\n",
              "      <td>...</td>\n",
              "      <td>...</td>\n",
              "      <td>...</td>\n",
              "      <td>...</td>\n",
              "      <td>...</td>\n",
              "      <td>...</td>\n",
              "    </tr>\n",
              "    <tr>\n",
              "      <th>3138</th>\n",
              "      <td>Bound By Flame</td>\n",
              "      <td>X360</td>\n",
              "      <td>2014.0</td>\n",
              "      <td>Role-Playing</td>\n",
              "      <td>NaN</td>\n",
              "      <td>0.00</td>\n",
              "      <td>0.01</td>\n",
              "      <td>0.00</td>\n",
              "      <td>0.00</td>\n",
              "      <td>0.01</td>\n",
              "    </tr>\n",
              "    <tr>\n",
              "      <th>3139</th>\n",
              "      <td>Mighty No. 9</td>\n",
              "      <td>XOne</td>\n",
              "      <td>2016.0</td>\n",
              "      <td>Platform</td>\n",
              "      <td>Deep Silver</td>\n",
              "      <td>0.01</td>\n",
              "      <td>0.00</td>\n",
              "      <td>0.00</td>\n",
              "      <td>0.00</td>\n",
              "      <td>0.01</td>\n",
              "    </tr>\n",
              "    <tr>\n",
              "      <th>3140</th>\n",
              "      <td>Resident Evil 4 HD</td>\n",
              "      <td>XOne</td>\n",
              "      <td>2016.0</td>\n",
              "      <td>Shooter</td>\n",
              "      <td>Capcom</td>\n",
              "      <td>0.01</td>\n",
              "      <td>0.00</td>\n",
              "      <td>0.00</td>\n",
              "      <td>0.00</td>\n",
              "      <td>0.01</td>\n",
              "    </tr>\n",
              "    <tr>\n",
              "      <th>3141</th>\n",
              "      <td>Farming 2017 - The Simulation</td>\n",
              "      <td>PS4</td>\n",
              "      <td>2016.0</td>\n",
              "      <td>Simulation</td>\n",
              "      <td>UIG Entertainment</td>\n",
              "      <td>0.00</td>\n",
              "      <td>0.01</td>\n",
              "      <td>0.00</td>\n",
              "      <td>0.00</td>\n",
              "      <td>0.01</td>\n",
              "    </tr>\n",
              "    <tr>\n",
              "      <th>3142</th>\n",
              "      <td>Rugby Challenge 3</td>\n",
              "      <td>XOne</td>\n",
              "      <td>2016.0</td>\n",
              "      <td>Sports</td>\n",
              "      <td>Alternative Software</td>\n",
              "      <td>0.00</td>\n",
              "      <td>0.01</td>\n",
              "      <td>0.00</td>\n",
              "      <td>0.00</td>\n",
              "      <td>0.01</td>\n",
              "    </tr>\n",
              "  </tbody>\n",
              "</table>\n",
              "<p>3143 rows × 10 columns</p>\n",
              "</div>"
            ],
            "text/plain": [
              "                                Name Platform  ...  Other_Sales Global_Sales\n",
              "0                 Kinect Adventures!     X360  ...         1.67        21.82\n",
              "1                 Grand Theft Auto V      PS3  ...         4.14        21.40\n",
              "2                 Grand Theft Auto V     X360  ...         1.38        16.38\n",
              "3     Call of Duty: Modern Warfare 3     X360  ...         1.32        14.76\n",
              "4            Call of Duty: Black Ops     X360  ...         1.13        14.64\n",
              "...                              ...      ...  ...          ...          ...\n",
              "3138                  Bound By Flame     X360  ...         0.00         0.01\n",
              "3139                    Mighty No. 9     XOne  ...         0.00         0.01\n",
              "3140              Resident Evil 4 HD     XOne  ...         0.00         0.01\n",
              "3141   Farming 2017 - The Simulation      PS4  ...         0.00         0.01\n",
              "3142               Rugby Challenge 3     XOne  ...         0.00         0.01\n",
              "\n",
              "[3143 rows x 10 columns]"
            ]
          },
          "metadata": {
            "tags": []
          },
          "execution_count": 78
        }
      ]
    },
    {
      "cell_type": "code",
      "metadata": {
        "colab": {
          "base_uri": "https://localhost:8080/"
        },
        "id": "_BNMOkEU_I0f",
        "outputId": "8d402ca7-8b3a-4b60-96f5-716e617729e4"
      },
      "source": [
        "games.loc[:,['NA_Sales','EU_Sales','JP_Sales','Other_Sales','Global_Sales']].sum()"
      ],
      "execution_count": 79,
      "outputs": [
        {
          "output_type": "execute_result",
          "data": {
            "text/plain": [
              "NA_Sales        1173.30\n",
              "EU_Sales         793.64\n",
              "JP_Sales         107.06\n",
              "Other_Sales      282.75\n",
              "Global_Sales    2356.96\n",
              "dtype: float64"
            ]
          },
          "metadata": {
            "tags": []
          },
          "execution_count": 79
        }
      ]
    },
    {
      "cell_type": "code",
      "metadata": {
        "colab": {
          "base_uri": "https://localhost:8080/"
        },
        "id": "W8qYZsVlBy1z",
        "outputId": "c9af705c-c7fc-4bc7-d210-0e1e320f6fba"
      },
      "source": [
        "games.Platform.unique()"
      ],
      "execution_count": 80,
      "outputs": [
        {
          "output_type": "execute_result",
          "data": {
            "text/plain": [
              "array(['X360', 'PS3', 'PS4', 'XOne'], dtype=object)"
            ]
          },
          "metadata": {
            "tags": []
          },
          "execution_count": 80
        }
      ]
    },
    {
      "cell_type": "code",
      "metadata": {
        "id": "NH9wYZdyGdoK"
      },
      "source": [
        "sales = games.loc[:,['Platform','NA_Sales','EU_Sales','JP_Sales','Other_Sales','Global_Sales']]"
      ],
      "execution_count": 81,
      "outputs": []
    },
    {
      "cell_type": "code",
      "metadata": {
        "colab": {
          "base_uri": "https://localhost:8080/"
        },
        "id": "lWK-6BblGlAF",
        "outputId": "34e08fb7-aa9b-4438-f87f-df9ceb58469f"
      },
      "source": [
        "sales.sum(numeric_only=True)"
      ],
      "execution_count": 82,
      "outputs": [
        {
          "output_type": "execute_result",
          "data": {
            "text/plain": [
              "NA_Sales        1173.30\n",
              "EU_Sales         793.64\n",
              "JP_Sales         107.06\n",
              "Other_Sales      282.75\n",
              "Global_Sales    2356.96\n",
              "dtype: float64"
            ]
          },
          "metadata": {
            "tags": []
          },
          "execution_count": 82
        }
      ]
    },
    {
      "cell_type": "code",
      "metadata": {
        "colab": {
          "base_uri": "https://localhost:8080/"
        },
        "id": "9wAE65ZEOzuy",
        "outputId": "2427c2d9-14a1-4af7-851f-cc24d943ed47"
      },
      "source": [
        "sales.loc[games.Platform == 'X360'].sum(numeric_only=True)"
      ],
      "execution_count": 83,
      "outputs": [
        {
          "output_type": "execute_result",
          "data": {
            "text/plain": [
              "NA_Sales        601.05\n",
              "EU_Sales        280.58\n",
              "JP_Sales         12.43\n",
              "Other_Sales      85.54\n",
              "Global_Sales    979.96\n",
              "dtype: float64"
            ]
          },
          "metadata": {
            "tags": []
          },
          "execution_count": 83
        }
      ]
    },
    {
      "cell_type": "code",
      "metadata": {
        "colab": {
          "base_uri": "https://localhost:8080/",
          "height": 204
        },
        "id": "3wcpNpIZO61V",
        "outputId": "5d84b85e-e36a-431f-ef55-cb5852bd66cb"
      },
      "source": [
        "sales.groupby('Platform').sum()"
      ],
      "execution_count": 84,
      "outputs": [
        {
          "output_type": "execute_result",
          "data": {
            "text/html": [
              "<div>\n",
              "<style scoped>\n",
              "    .dataframe tbody tr th:only-of-type {\n",
              "        vertical-align: middle;\n",
              "    }\n",
              "\n",
              "    .dataframe tbody tr th {\n",
              "        vertical-align: top;\n",
              "    }\n",
              "\n",
              "    .dataframe thead th {\n",
              "        text-align: right;\n",
              "    }\n",
              "</style>\n",
              "<table border=\"1\" class=\"dataframe\">\n",
              "  <thead>\n",
              "    <tr style=\"text-align: right;\">\n",
              "      <th></th>\n",
              "      <th>NA_Sales</th>\n",
              "      <th>EU_Sales</th>\n",
              "      <th>JP_Sales</th>\n",
              "      <th>Other_Sales</th>\n",
              "      <th>Global_Sales</th>\n",
              "    </tr>\n",
              "    <tr>\n",
              "      <th>Platform</th>\n",
              "      <th></th>\n",
              "      <th></th>\n",
              "      <th></th>\n",
              "      <th></th>\n",
              "      <th></th>\n",
              "    </tr>\n",
              "  </thead>\n",
              "  <tbody>\n",
              "    <tr>\n",
              "      <th>PS3</th>\n",
              "      <td>392.26</td>\n",
              "      <td>343.71</td>\n",
              "      <td>79.99</td>\n",
              "      <td>141.93</td>\n",
              "      <td>957.84</td>\n",
              "    </tr>\n",
              "    <tr>\n",
              "      <th>PS4</th>\n",
              "      <td>96.80</td>\n",
              "      <td>123.70</td>\n",
              "      <td>14.30</td>\n",
              "      <td>43.36</td>\n",
              "      <td>278.10</td>\n",
              "    </tr>\n",
              "    <tr>\n",
              "      <th>X360</th>\n",
              "      <td>601.05</td>\n",
              "      <td>280.58</td>\n",
              "      <td>12.43</td>\n",
              "      <td>85.54</td>\n",
              "      <td>979.96</td>\n",
              "    </tr>\n",
              "    <tr>\n",
              "      <th>XOne</th>\n",
              "      <td>83.19</td>\n",
              "      <td>45.65</td>\n",
              "      <td>0.34</td>\n",
              "      <td>11.92</td>\n",
              "      <td>141.06</td>\n",
              "    </tr>\n",
              "  </tbody>\n",
              "</table>\n",
              "</div>"
            ],
            "text/plain": [
              "          NA_Sales  EU_Sales  JP_Sales  Other_Sales  Global_Sales\n",
              "Platform                                                         \n",
              "PS3         392.26    343.71     79.99       141.93        957.84\n",
              "PS4          96.80    123.70     14.30        43.36        278.10\n",
              "X360        601.05    280.58     12.43        85.54        979.96\n",
              "XOne         83.19     45.65      0.34        11.92        141.06"
            ]
          },
          "metadata": {
            "tags": []
          },
          "execution_count": 84
        }
      ]
    },
    {
      "cell_type": "code",
      "metadata": {
        "colab": {
          "base_uri": "https://localhost:8080/",
          "height": 450
        },
        "id": "mUOiTYktQ-Rt",
        "outputId": "5279a7b5-4ba8-428b-d7fe-04eca7a3ee81"
      },
      "source": [
        "sales.groupby(['Platform','NA_Sales']).sum()"
      ],
      "execution_count": 85,
      "outputs": [
        {
          "output_type": "execute_result",
          "data": {
            "text/html": [
              "<div>\n",
              "<style scoped>\n",
              "    .dataframe tbody tr th:only-of-type {\n",
              "        vertical-align: middle;\n",
              "    }\n",
              "\n",
              "    .dataframe tbody tr th {\n",
              "        vertical-align: top;\n",
              "    }\n",
              "\n",
              "    .dataframe thead th {\n",
              "        text-align: right;\n",
              "    }\n",
              "</style>\n",
              "<table border=\"1\" class=\"dataframe\">\n",
              "  <thead>\n",
              "    <tr style=\"text-align: right;\">\n",
              "      <th></th>\n",
              "      <th></th>\n",
              "      <th>EU_Sales</th>\n",
              "      <th>JP_Sales</th>\n",
              "      <th>Other_Sales</th>\n",
              "      <th>Global_Sales</th>\n",
              "    </tr>\n",
              "    <tr>\n",
              "      <th>Platform</th>\n",
              "      <th>NA_Sales</th>\n",
              "      <th></th>\n",
              "      <th></th>\n",
              "      <th></th>\n",
              "      <th></th>\n",
              "    </tr>\n",
              "  </thead>\n",
              "  <tbody>\n",
              "    <tr>\n",
              "      <th rowspan=\"5\" valign=\"top\">PS3</th>\n",
              "      <th>0.00</th>\n",
              "      <td>8.08</td>\n",
              "      <td>22.53</td>\n",
              "      <td>1.70</td>\n",
              "      <td>32.34</td>\n",
              "    </tr>\n",
              "    <tr>\n",
              "      <th>0.01</th>\n",
              "      <td>1.21</td>\n",
              "      <td>1.08</td>\n",
              "      <td>0.40</td>\n",
              "      <td>2.89</td>\n",
              "    </tr>\n",
              "    <tr>\n",
              "      <th>0.02</th>\n",
              "      <td>0.97</td>\n",
              "      <td>0.26</td>\n",
              "      <td>0.29</td>\n",
              "      <td>1.90</td>\n",
              "    </tr>\n",
              "    <tr>\n",
              "      <th>0.03</th>\n",
              "      <td>1.02</td>\n",
              "      <td>0.58</td>\n",
              "      <td>0.22</td>\n",
              "      <td>2.39</td>\n",
              "    </tr>\n",
              "    <tr>\n",
              "      <th>0.04</th>\n",
              "      <td>2.13</td>\n",
              "      <td>1.16</td>\n",
              "      <td>0.54</td>\n",
              "      <td>4.79</td>\n",
              "    </tr>\n",
              "    <tr>\n",
              "      <th>...</th>\n",
              "      <th>...</th>\n",
              "      <td>...</td>\n",
              "      <td>...</td>\n",
              "      <td>...</td>\n",
              "      <td>...</td>\n",
              "    </tr>\n",
              "    <tr>\n",
              "      <th rowspan=\"5\" valign=\"top\">XOne</th>\n",
              "      <th>2.45</th>\n",
              "      <td>1.26</td>\n",
              "      <td>0.01</td>\n",
              "      <td>0.37</td>\n",
              "      <td>4.09</td>\n",
              "    </tr>\n",
              "    <tr>\n",
              "      <th>2.64</th>\n",
              "      <td>1.20</td>\n",
              "      <td>0.03</td>\n",
              "      <td>0.39</td>\n",
              "      <td>4.26</td>\n",
              "    </tr>\n",
              "    <tr>\n",
              "      <th>2.66</th>\n",
              "      <td>2.01</td>\n",
              "      <td>0.00</td>\n",
              "      <td>0.41</td>\n",
              "      <td>5.08</td>\n",
              "    </tr>\n",
              "    <tr>\n",
              "      <th>3.21</th>\n",
              "      <td>1.53</td>\n",
              "      <td>0.01</td>\n",
              "      <td>0.38</td>\n",
              "      <td>5.13</td>\n",
              "    </tr>\n",
              "    <tr>\n",
              "      <th>4.52</th>\n",
              "      <td>2.09</td>\n",
              "      <td>0.01</td>\n",
              "      <td>0.67</td>\n",
              "      <td>7.30</td>\n",
              "    </tr>\n",
              "  </tbody>\n",
              "</table>\n",
              "<p>548 rows × 4 columns</p>\n",
              "</div>"
            ],
            "text/plain": [
              "                   EU_Sales  JP_Sales  Other_Sales  Global_Sales\n",
              "Platform NA_Sales                                               \n",
              "PS3      0.00          8.08     22.53         1.70         32.34\n",
              "         0.01          1.21      1.08         0.40          2.89\n",
              "         0.02          0.97      0.26         0.29          1.90\n",
              "         0.03          1.02      0.58         0.22          2.39\n",
              "         0.04          2.13      1.16         0.54          4.79\n",
              "...                     ...       ...          ...           ...\n",
              "XOne     2.45          1.26      0.01         0.37          4.09\n",
              "         2.64          1.20      0.03         0.39          4.26\n",
              "         2.66          2.01      0.00         0.41          5.08\n",
              "         3.21          1.53      0.01         0.38          5.13\n",
              "         4.52          2.09      0.01         0.67          7.30\n",
              "\n",
              "[548 rows x 4 columns]"
            ]
          },
          "metadata": {
            "tags": []
          },
          "execution_count": 85
        }
      ]
    },
    {
      "cell_type": "code",
      "metadata": {
        "colab": {
          "base_uri": "https://localhost:8080/",
          "height": 204
        },
        "id": "9xuXr4WLRCKn",
        "outputId": "97a6586c-cddd-4114-d5d2-9a26a84e7363"
      },
      "source": [
        "sales.groupby('Platform').sum()"
      ],
      "execution_count": 86,
      "outputs": [
        {
          "output_type": "execute_result",
          "data": {
            "text/html": [
              "<div>\n",
              "<style scoped>\n",
              "    .dataframe tbody tr th:only-of-type {\n",
              "        vertical-align: middle;\n",
              "    }\n",
              "\n",
              "    .dataframe tbody tr th {\n",
              "        vertical-align: top;\n",
              "    }\n",
              "\n",
              "    .dataframe thead th {\n",
              "        text-align: right;\n",
              "    }\n",
              "</style>\n",
              "<table border=\"1\" class=\"dataframe\">\n",
              "  <thead>\n",
              "    <tr style=\"text-align: right;\">\n",
              "      <th></th>\n",
              "      <th>NA_Sales</th>\n",
              "      <th>EU_Sales</th>\n",
              "      <th>JP_Sales</th>\n",
              "      <th>Other_Sales</th>\n",
              "      <th>Global_Sales</th>\n",
              "    </tr>\n",
              "    <tr>\n",
              "      <th>Platform</th>\n",
              "      <th></th>\n",
              "      <th></th>\n",
              "      <th></th>\n",
              "      <th></th>\n",
              "      <th></th>\n",
              "    </tr>\n",
              "  </thead>\n",
              "  <tbody>\n",
              "    <tr>\n",
              "      <th>PS3</th>\n",
              "      <td>392.26</td>\n",
              "      <td>343.71</td>\n",
              "      <td>79.99</td>\n",
              "      <td>141.93</td>\n",
              "      <td>957.84</td>\n",
              "    </tr>\n",
              "    <tr>\n",
              "      <th>PS4</th>\n",
              "      <td>96.80</td>\n",
              "      <td>123.70</td>\n",
              "      <td>14.30</td>\n",
              "      <td>43.36</td>\n",
              "      <td>278.10</td>\n",
              "    </tr>\n",
              "    <tr>\n",
              "      <th>X360</th>\n",
              "      <td>601.05</td>\n",
              "      <td>280.58</td>\n",
              "      <td>12.43</td>\n",
              "      <td>85.54</td>\n",
              "      <td>979.96</td>\n",
              "    </tr>\n",
              "    <tr>\n",
              "      <th>XOne</th>\n",
              "      <td>83.19</td>\n",
              "      <td>45.65</td>\n",
              "      <td>0.34</td>\n",
              "      <td>11.92</td>\n",
              "      <td>141.06</td>\n",
              "    </tr>\n",
              "  </tbody>\n",
              "</table>\n",
              "</div>"
            ],
            "text/plain": [
              "          NA_Sales  EU_Sales  JP_Sales  Other_Sales  Global_Sales\n",
              "Platform                                                         \n",
              "PS3         392.26    343.71     79.99       141.93        957.84\n",
              "PS4          96.80    123.70     14.30        43.36        278.10\n",
              "X360        601.05    280.58     12.43        85.54        979.96\n",
              "XOne         83.19     45.65      0.34        11.92        141.06"
            ]
          },
          "metadata": {
            "tags": []
          },
          "execution_count": 86
        }
      ]
    },
    {
      "cell_type": "code",
      "metadata": {
        "id": "p1LO3Bp2Q1bl"
      },
      "source": [
        "# mapping\n",
        "\n",
        "platform_names = {'PS3':'Playstation',\n",
        "                  'PS4':'Playstation',\n",
        "                  'X360':'Xbox',\n",
        "                  'XOne':'Xbox'}"
      ],
      "execution_count": 87,
      "outputs": []
    },
    {
      "cell_type": "code",
      "metadata": {
        "colab": {
          "base_uri": "https://localhost:8080/",
          "height": 111
        },
        "id": "x7pxcdM9O0WI",
        "outputId": "7df34828-5e24-4051-a74f-ac6a79213b00"
      },
      "source": [
        "sales.set_index('Platform').groupby(platform_names).sum()"
      ],
      "execution_count": 88,
      "outputs": [
        {
          "output_type": "execute_result",
          "data": {
            "text/html": [
              "<div>\n",
              "<style scoped>\n",
              "    .dataframe tbody tr th:only-of-type {\n",
              "        vertical-align: middle;\n",
              "    }\n",
              "\n",
              "    .dataframe tbody tr th {\n",
              "        vertical-align: top;\n",
              "    }\n",
              "\n",
              "    .dataframe thead th {\n",
              "        text-align: right;\n",
              "    }\n",
              "</style>\n",
              "<table border=\"1\" class=\"dataframe\">\n",
              "  <thead>\n",
              "    <tr style=\"text-align: right;\">\n",
              "      <th></th>\n",
              "      <th>NA_Sales</th>\n",
              "      <th>EU_Sales</th>\n",
              "      <th>JP_Sales</th>\n",
              "      <th>Other_Sales</th>\n",
              "      <th>Global_Sales</th>\n",
              "    </tr>\n",
              "  </thead>\n",
              "  <tbody>\n",
              "    <tr>\n",
              "      <th>Playstation</th>\n",
              "      <td>489.06</td>\n",
              "      <td>467.41</td>\n",
              "      <td>94.29</td>\n",
              "      <td>185.29</td>\n",
              "      <td>1235.94</td>\n",
              "    </tr>\n",
              "    <tr>\n",
              "      <th>Xbox</th>\n",
              "      <td>684.24</td>\n",
              "      <td>326.23</td>\n",
              "      <td>12.77</td>\n",
              "      <td>97.46</td>\n",
              "      <td>1121.02</td>\n",
              "    </tr>\n",
              "  </tbody>\n",
              "</table>\n",
              "</div>"
            ],
            "text/plain": [
              "             NA_Sales  EU_Sales  JP_Sales  Other_Sales  Global_Sales\n",
              "Playstation    489.06    467.41     94.29       185.29       1235.94\n",
              "Xbox           684.24    326.23     12.77        97.46       1121.02"
            ]
          },
          "metadata": {
            "tags": []
          },
          "execution_count": 88
        }
      ]
    },
    {
      "cell_type": "code",
      "metadata": {
        "colab": {
          "base_uri": "https://localhost:8080/",
          "height": 204
        },
        "id": "Tft5uJfTO0aW",
        "outputId": "22055953-2119-4b24-ea12-548d387d27ab"
      },
      "source": [
        "games.head()"
      ],
      "execution_count": 89,
      "outputs": [
        {
          "output_type": "execute_result",
          "data": {
            "text/html": [
              "<div>\n",
              "<style scoped>\n",
              "    .dataframe tbody tr th:only-of-type {\n",
              "        vertical-align: middle;\n",
              "    }\n",
              "\n",
              "    .dataframe tbody tr th {\n",
              "        vertical-align: top;\n",
              "    }\n",
              "\n",
              "    .dataframe thead th {\n",
              "        text-align: right;\n",
              "    }\n",
              "</style>\n",
              "<table border=\"1\" class=\"dataframe\">\n",
              "  <thead>\n",
              "    <tr style=\"text-align: right;\">\n",
              "      <th></th>\n",
              "      <th>Name</th>\n",
              "      <th>Platform</th>\n",
              "      <th>Year</th>\n",
              "      <th>Genre</th>\n",
              "      <th>Publisher</th>\n",
              "      <th>NA_Sales</th>\n",
              "      <th>EU_Sales</th>\n",
              "      <th>JP_Sales</th>\n",
              "      <th>Other_Sales</th>\n",
              "      <th>Global_Sales</th>\n",
              "    </tr>\n",
              "  </thead>\n",
              "  <tbody>\n",
              "    <tr>\n",
              "      <th>0</th>\n",
              "      <td>Kinect Adventures!</td>\n",
              "      <td>X360</td>\n",
              "      <td>2010.0</td>\n",
              "      <td>Misc</td>\n",
              "      <td>Microsoft Game Studios</td>\n",
              "      <td>14.97</td>\n",
              "      <td>4.94</td>\n",
              "      <td>0.24</td>\n",
              "      <td>1.67</td>\n",
              "      <td>21.82</td>\n",
              "    </tr>\n",
              "    <tr>\n",
              "      <th>1</th>\n",
              "      <td>Grand Theft Auto V</td>\n",
              "      <td>PS3</td>\n",
              "      <td>2013.0</td>\n",
              "      <td>Action</td>\n",
              "      <td>Take-Two Interactive</td>\n",
              "      <td>7.01</td>\n",
              "      <td>9.27</td>\n",
              "      <td>0.97</td>\n",
              "      <td>4.14</td>\n",
              "      <td>21.40</td>\n",
              "    </tr>\n",
              "    <tr>\n",
              "      <th>2</th>\n",
              "      <td>Grand Theft Auto V</td>\n",
              "      <td>X360</td>\n",
              "      <td>2013.0</td>\n",
              "      <td>Action</td>\n",
              "      <td>Take-Two Interactive</td>\n",
              "      <td>9.63</td>\n",
              "      <td>5.31</td>\n",
              "      <td>0.06</td>\n",
              "      <td>1.38</td>\n",
              "      <td>16.38</td>\n",
              "    </tr>\n",
              "    <tr>\n",
              "      <th>3</th>\n",
              "      <td>Call of Duty: Modern Warfare 3</td>\n",
              "      <td>X360</td>\n",
              "      <td>2011.0</td>\n",
              "      <td>Shooter</td>\n",
              "      <td>Activision</td>\n",
              "      <td>9.03</td>\n",
              "      <td>4.28</td>\n",
              "      <td>0.13</td>\n",
              "      <td>1.32</td>\n",
              "      <td>14.76</td>\n",
              "    </tr>\n",
              "    <tr>\n",
              "      <th>4</th>\n",
              "      <td>Call of Duty: Black Ops</td>\n",
              "      <td>X360</td>\n",
              "      <td>2010.0</td>\n",
              "      <td>Shooter</td>\n",
              "      <td>Activision</td>\n",
              "      <td>9.67</td>\n",
              "      <td>3.73</td>\n",
              "      <td>0.11</td>\n",
              "      <td>1.13</td>\n",
              "      <td>14.64</td>\n",
              "    </tr>\n",
              "  </tbody>\n",
              "</table>\n",
              "</div>"
            ],
            "text/plain": [
              "                             Name Platform  ...  Other_Sales Global_Sales\n",
              "0              Kinect Adventures!     X360  ...         1.67        21.82\n",
              "1              Grand Theft Auto V      PS3  ...         4.14        21.40\n",
              "2              Grand Theft Auto V     X360  ...         1.38        16.38\n",
              "3  Call of Duty: Modern Warfare 3     X360  ...         1.32        14.76\n",
              "4         Call of Duty: Black Ops     X360  ...         1.13        14.64\n",
              "\n",
              "[5 rows x 10 columns]"
            ]
          },
          "metadata": {
            "tags": []
          },
          "execution_count": 89
        }
      ]
    },
    {
      "cell_type": "code",
      "metadata": {
        "colab": {
          "base_uri": "https://localhost:8080/",
          "height": 419
        },
        "id": "eJOL1oZt54s7",
        "outputId": "a9ddb8cf-239c-445f-db21-92348be13967"
      },
      "source": [
        "games.loc[:,['Genre','Global_Sales']]"
      ],
      "execution_count": 90,
      "outputs": [
        {
          "output_type": "execute_result",
          "data": {
            "text/html": [
              "<div>\n",
              "<style scoped>\n",
              "    .dataframe tbody tr th:only-of-type {\n",
              "        vertical-align: middle;\n",
              "    }\n",
              "\n",
              "    .dataframe tbody tr th {\n",
              "        vertical-align: top;\n",
              "    }\n",
              "\n",
              "    .dataframe thead th {\n",
              "        text-align: right;\n",
              "    }\n",
              "</style>\n",
              "<table border=\"1\" class=\"dataframe\">\n",
              "  <thead>\n",
              "    <tr style=\"text-align: right;\">\n",
              "      <th></th>\n",
              "      <th>Genre</th>\n",
              "      <th>Global_Sales</th>\n",
              "    </tr>\n",
              "  </thead>\n",
              "  <tbody>\n",
              "    <tr>\n",
              "      <th>0</th>\n",
              "      <td>Misc</td>\n",
              "      <td>21.82</td>\n",
              "    </tr>\n",
              "    <tr>\n",
              "      <th>1</th>\n",
              "      <td>Action</td>\n",
              "      <td>21.40</td>\n",
              "    </tr>\n",
              "    <tr>\n",
              "      <th>2</th>\n",
              "      <td>Action</td>\n",
              "      <td>16.38</td>\n",
              "    </tr>\n",
              "    <tr>\n",
              "      <th>3</th>\n",
              "      <td>Shooter</td>\n",
              "      <td>14.76</td>\n",
              "    </tr>\n",
              "    <tr>\n",
              "      <th>4</th>\n",
              "      <td>Shooter</td>\n",
              "      <td>14.64</td>\n",
              "    </tr>\n",
              "    <tr>\n",
              "      <th>...</th>\n",
              "      <td>...</td>\n",
              "      <td>...</td>\n",
              "    </tr>\n",
              "    <tr>\n",
              "      <th>3138</th>\n",
              "      <td>Role-Playing</td>\n",
              "      <td>0.01</td>\n",
              "    </tr>\n",
              "    <tr>\n",
              "      <th>3139</th>\n",
              "      <td>Platform</td>\n",
              "      <td>0.01</td>\n",
              "    </tr>\n",
              "    <tr>\n",
              "      <th>3140</th>\n",
              "      <td>Shooter</td>\n",
              "      <td>0.01</td>\n",
              "    </tr>\n",
              "    <tr>\n",
              "      <th>3141</th>\n",
              "      <td>Simulation</td>\n",
              "      <td>0.01</td>\n",
              "    </tr>\n",
              "    <tr>\n",
              "      <th>3142</th>\n",
              "      <td>Sports</td>\n",
              "      <td>0.01</td>\n",
              "    </tr>\n",
              "  </tbody>\n",
              "</table>\n",
              "<p>3143 rows × 2 columns</p>\n",
              "</div>"
            ],
            "text/plain": [
              "             Genre  Global_Sales\n",
              "0             Misc         21.82\n",
              "1           Action         21.40\n",
              "2           Action         16.38\n",
              "3          Shooter         14.76\n",
              "4          Shooter         14.64\n",
              "...            ...           ...\n",
              "3138  Role-Playing          0.01\n",
              "3139      Platform          0.01\n",
              "3140       Shooter          0.01\n",
              "3141    Simulation          0.01\n",
              "3142        Sports          0.01\n",
              "\n",
              "[3143 rows x 2 columns]"
            ]
          },
          "metadata": {
            "tags": []
          },
          "execution_count": 90
        }
      ]
    },
    {
      "cell_type": "code",
      "metadata": {
        "colab": {
          "base_uri": "https://localhost:8080/",
          "height": 450
        },
        "id": "YmI4ToobOawl",
        "outputId": "55fba0e0-aa95-453d-9d6f-bd622f1c7636"
      },
      "source": [
        "games.loc[:,['Genre','Global_Sales']].set_index('Genre')"
      ],
      "execution_count": 91,
      "outputs": [
        {
          "output_type": "execute_result",
          "data": {
            "text/html": [
              "<div>\n",
              "<style scoped>\n",
              "    .dataframe tbody tr th:only-of-type {\n",
              "        vertical-align: middle;\n",
              "    }\n",
              "\n",
              "    .dataframe tbody tr th {\n",
              "        vertical-align: top;\n",
              "    }\n",
              "\n",
              "    .dataframe thead th {\n",
              "        text-align: right;\n",
              "    }\n",
              "</style>\n",
              "<table border=\"1\" class=\"dataframe\">\n",
              "  <thead>\n",
              "    <tr style=\"text-align: right;\">\n",
              "      <th></th>\n",
              "      <th>Global_Sales</th>\n",
              "    </tr>\n",
              "    <tr>\n",
              "      <th>Genre</th>\n",
              "      <th></th>\n",
              "    </tr>\n",
              "  </thead>\n",
              "  <tbody>\n",
              "    <tr>\n",
              "      <th>Misc</th>\n",
              "      <td>21.82</td>\n",
              "    </tr>\n",
              "    <tr>\n",
              "      <th>Action</th>\n",
              "      <td>21.40</td>\n",
              "    </tr>\n",
              "    <tr>\n",
              "      <th>Action</th>\n",
              "      <td>16.38</td>\n",
              "    </tr>\n",
              "    <tr>\n",
              "      <th>Shooter</th>\n",
              "      <td>14.76</td>\n",
              "    </tr>\n",
              "    <tr>\n",
              "      <th>Shooter</th>\n",
              "      <td>14.64</td>\n",
              "    </tr>\n",
              "    <tr>\n",
              "      <th>...</th>\n",
              "      <td>...</td>\n",
              "    </tr>\n",
              "    <tr>\n",
              "      <th>Role-Playing</th>\n",
              "      <td>0.01</td>\n",
              "    </tr>\n",
              "    <tr>\n",
              "      <th>Platform</th>\n",
              "      <td>0.01</td>\n",
              "    </tr>\n",
              "    <tr>\n",
              "      <th>Shooter</th>\n",
              "      <td>0.01</td>\n",
              "    </tr>\n",
              "    <tr>\n",
              "      <th>Simulation</th>\n",
              "      <td>0.01</td>\n",
              "    </tr>\n",
              "    <tr>\n",
              "      <th>Sports</th>\n",
              "      <td>0.01</td>\n",
              "    </tr>\n",
              "  </tbody>\n",
              "</table>\n",
              "<p>3143 rows × 1 columns</p>\n",
              "</div>"
            ],
            "text/plain": [
              "              Global_Sales\n",
              "Genre                     \n",
              "Misc                 21.82\n",
              "Action               21.40\n",
              "Action               16.38\n",
              "Shooter              14.76\n",
              "Shooter              14.64\n",
              "...                    ...\n",
              "Role-Playing          0.01\n",
              "Platform              0.01\n",
              "Shooter               0.01\n",
              "Simulation            0.01\n",
              "Sports                0.01\n",
              "\n",
              "[3143 rows x 1 columns]"
            ]
          },
          "metadata": {
            "tags": []
          },
          "execution_count": 91
        }
      ]
    },
    {
      "cell_type": "code",
      "metadata": {
        "id": "gxetxNBP7QmB"
      },
      "source": [
        "ser=games.loc[:,['Genre','Global_Sales']].set_index('Genre').squeeze()"
      ],
      "execution_count": 92,
      "outputs": []
    },
    {
      "cell_type": "code",
      "metadata": {
        "colab": {
          "base_uri": "https://localhost:8080/"
        },
        "id": "5OmG9IQn7apu",
        "outputId": "058ff186-f863-4464-d04a-c6a79e329122"
      },
      "source": [
        "type(ser)"
      ],
      "execution_count": 93,
      "outputs": [
        {
          "output_type": "execute_result",
          "data": {
            "text/plain": [
              "pandas.core.series.Series"
            ]
          },
          "metadata": {
            "tags": []
          },
          "execution_count": 93
        }
      ]
    },
    {
      "cell_type": "code",
      "metadata": {
        "colab": {
          "base_uri": "https://localhost:8080/"
        },
        "id": "L3w4aZzQ7eqW",
        "outputId": "270bf245-6d89-4e94-a9d6-64085a8caffc"
      },
      "source": [
        "ser"
      ],
      "execution_count": 94,
      "outputs": [
        {
          "output_type": "execute_result",
          "data": {
            "text/plain": [
              "Genre\n",
              "Misc            21.82\n",
              "Action          21.40\n",
              "Action          16.38\n",
              "Shooter         14.76\n",
              "Shooter         14.64\n",
              "                ...  \n",
              "Role-Playing     0.01\n",
              "Platform         0.01\n",
              "Shooter          0.01\n",
              "Simulation       0.01\n",
              "Sports           0.01\n",
              "Name: Global_Sales, Length: 3143, dtype: float64"
            ]
          },
          "metadata": {
            "tags": []
          },
          "execution_count": 94
        }
      ]
    },
    {
      "cell_type": "code",
      "metadata": {
        "colab": {
          "base_uri": "https://localhost:8080/"
        },
        "id": "z3G1cZUu7iii",
        "outputId": "a904531f-282a-4985-a991-7c89cfaf8d20"
      },
      "source": [
        "ser.groupby('Genre').sum()"
      ],
      "execution_count": 95,
      "outputs": [
        {
          "output_type": "execute_result",
          "data": {
            "text/plain": [
              "Genre\n",
              "Action          671.40\n",
              "Adventure        45.34\n",
              "Fighting         99.69\n",
              "Misc            154.07\n",
              "Platform         49.54\n",
              "Puzzle            1.47\n",
              "Racing          160.27\n",
              "Role-Playing    182.53\n",
              "Shooter         601.52\n",
              "Simulation       26.55\n",
              "Sports          348.72\n",
              "Strategy         15.86\n",
              "Name: Global_Sales, dtype: float64"
            ]
          },
          "metadata": {
            "tags": []
          },
          "execution_count": 95
        }
      ]
    },
    {
      "cell_type": "code",
      "metadata": {
        "colab": {
          "base_uri": "https://localhost:8080/"
        },
        "id": "_VAfgYLW7zpp",
        "outputId": "ed44e9bf-661b-48a8-8441-d6c7b3d1de73"
      },
      "source": [
        "ser.groupby('Genre').mean().sort_values(ascending=True)"
      ],
      "execution_count": 96,
      "outputs": [
        {
          "output_type": "execute_result",
          "data": {
            "text/plain": [
              "Genre\n",
              "Puzzle          0.133636\n",
              "Strategy        0.264333\n",
              "Adventure       0.298289\n",
              "Simulation      0.336076\n",
              "Misc            0.550250\n",
              "Fighting        0.604182\n",
              "Platform        0.651842\n",
              "Sports          0.681094\n",
              "Racing          0.687854\n",
              "Role-Playing    0.715804\n",
              "Action          0.751007\n",
              "Shooter         1.412019\n",
              "Name: Global_Sales, dtype: float64"
            ]
          },
          "metadata": {
            "tags": []
          },
          "execution_count": 96
        }
      ]
    },
    {
      "cell_type": "code",
      "metadata": {
        "id": "3ep92AwF74tG"
      },
      "source": [
        "publishers = games.loc[:, ['Publisher','Genre','Platform','NA_Sales']]"
      ],
      "execution_count": 97,
      "outputs": []
    },
    {
      "cell_type": "code",
      "metadata": {
        "colab": {
          "base_uri": "https://localhost:8080/",
          "height": 419
        },
        "id": "yGX4rrTHBN4g",
        "outputId": "96635e51-6272-42e7-b597-ffd8d44df15c"
      },
      "source": [
        "publishers"
      ],
      "execution_count": 98,
      "outputs": [
        {
          "output_type": "execute_result",
          "data": {
            "text/html": [
              "<div>\n",
              "<style scoped>\n",
              "    .dataframe tbody tr th:only-of-type {\n",
              "        vertical-align: middle;\n",
              "    }\n",
              "\n",
              "    .dataframe tbody tr th {\n",
              "        vertical-align: top;\n",
              "    }\n",
              "\n",
              "    .dataframe thead th {\n",
              "        text-align: right;\n",
              "    }\n",
              "</style>\n",
              "<table border=\"1\" class=\"dataframe\">\n",
              "  <thead>\n",
              "    <tr style=\"text-align: right;\">\n",
              "      <th></th>\n",
              "      <th>Publisher</th>\n",
              "      <th>Genre</th>\n",
              "      <th>Platform</th>\n",
              "      <th>NA_Sales</th>\n",
              "    </tr>\n",
              "  </thead>\n",
              "  <tbody>\n",
              "    <tr>\n",
              "      <th>0</th>\n",
              "      <td>Microsoft Game Studios</td>\n",
              "      <td>Misc</td>\n",
              "      <td>X360</td>\n",
              "      <td>14.97</td>\n",
              "    </tr>\n",
              "    <tr>\n",
              "      <th>1</th>\n",
              "      <td>Take-Two Interactive</td>\n",
              "      <td>Action</td>\n",
              "      <td>PS3</td>\n",
              "      <td>7.01</td>\n",
              "    </tr>\n",
              "    <tr>\n",
              "      <th>2</th>\n",
              "      <td>Take-Two Interactive</td>\n",
              "      <td>Action</td>\n",
              "      <td>X360</td>\n",
              "      <td>9.63</td>\n",
              "    </tr>\n",
              "    <tr>\n",
              "      <th>3</th>\n",
              "      <td>Activision</td>\n",
              "      <td>Shooter</td>\n",
              "      <td>X360</td>\n",
              "      <td>9.03</td>\n",
              "    </tr>\n",
              "    <tr>\n",
              "      <th>4</th>\n",
              "      <td>Activision</td>\n",
              "      <td>Shooter</td>\n",
              "      <td>X360</td>\n",
              "      <td>9.67</td>\n",
              "    </tr>\n",
              "    <tr>\n",
              "      <th>...</th>\n",
              "      <td>...</td>\n",
              "      <td>...</td>\n",
              "      <td>...</td>\n",
              "      <td>...</td>\n",
              "    </tr>\n",
              "    <tr>\n",
              "      <th>3138</th>\n",
              "      <td>NaN</td>\n",
              "      <td>Role-Playing</td>\n",
              "      <td>X360</td>\n",
              "      <td>0.00</td>\n",
              "    </tr>\n",
              "    <tr>\n",
              "      <th>3139</th>\n",
              "      <td>Deep Silver</td>\n",
              "      <td>Platform</td>\n",
              "      <td>XOne</td>\n",
              "      <td>0.01</td>\n",
              "    </tr>\n",
              "    <tr>\n",
              "      <th>3140</th>\n",
              "      <td>Capcom</td>\n",
              "      <td>Shooter</td>\n",
              "      <td>XOne</td>\n",
              "      <td>0.01</td>\n",
              "    </tr>\n",
              "    <tr>\n",
              "      <th>3141</th>\n",
              "      <td>UIG Entertainment</td>\n",
              "      <td>Simulation</td>\n",
              "      <td>PS4</td>\n",
              "      <td>0.00</td>\n",
              "    </tr>\n",
              "    <tr>\n",
              "      <th>3142</th>\n",
              "      <td>Alternative Software</td>\n",
              "      <td>Sports</td>\n",
              "      <td>XOne</td>\n",
              "      <td>0.00</td>\n",
              "    </tr>\n",
              "  </tbody>\n",
              "</table>\n",
              "<p>3143 rows × 4 columns</p>\n",
              "</div>"
            ],
            "text/plain": [
              "                   Publisher         Genre Platform  NA_Sales\n",
              "0     Microsoft Game Studios          Misc     X360     14.97\n",
              "1       Take-Two Interactive        Action      PS3      7.01\n",
              "2       Take-Two Interactive        Action     X360      9.63\n",
              "3                 Activision       Shooter     X360      9.03\n",
              "4                 Activision       Shooter     X360      9.67\n",
              "...                      ...           ...      ...       ...\n",
              "3138                     NaN  Role-Playing     X360      0.00\n",
              "3139             Deep Silver      Platform     XOne      0.01\n",
              "3140                  Capcom       Shooter     XOne      0.01\n",
              "3141       UIG Entertainment    Simulation      PS4      0.00\n",
              "3142    Alternative Software        Sports     XOne      0.00\n",
              "\n",
              "[3143 rows x 4 columns]"
            ]
          },
          "metadata": {
            "tags": []
          },
          "execution_count": 98
        }
      ]
    },
    {
      "cell_type": "code",
      "metadata": {
        "colab": {
          "base_uri": "https://localhost:8080/",
          "height": 419
        },
        "id": "qBe6JsVNBN66",
        "outputId": "a16532fb-d9b5-4add-b26a-21a5f50c1aa1"
      },
      "source": [
        "publishers.loc[:,['Publisher','NA_Sales']]"
      ],
      "execution_count": 99,
      "outputs": [
        {
          "output_type": "execute_result",
          "data": {
            "text/html": [
              "<div>\n",
              "<style scoped>\n",
              "    .dataframe tbody tr th:only-of-type {\n",
              "        vertical-align: middle;\n",
              "    }\n",
              "\n",
              "    .dataframe tbody tr th {\n",
              "        vertical-align: top;\n",
              "    }\n",
              "\n",
              "    .dataframe thead th {\n",
              "        text-align: right;\n",
              "    }\n",
              "</style>\n",
              "<table border=\"1\" class=\"dataframe\">\n",
              "  <thead>\n",
              "    <tr style=\"text-align: right;\">\n",
              "      <th></th>\n",
              "      <th>Publisher</th>\n",
              "      <th>NA_Sales</th>\n",
              "    </tr>\n",
              "  </thead>\n",
              "  <tbody>\n",
              "    <tr>\n",
              "      <th>0</th>\n",
              "      <td>Microsoft Game Studios</td>\n",
              "      <td>14.97</td>\n",
              "    </tr>\n",
              "    <tr>\n",
              "      <th>1</th>\n",
              "      <td>Take-Two Interactive</td>\n",
              "      <td>7.01</td>\n",
              "    </tr>\n",
              "    <tr>\n",
              "      <th>2</th>\n",
              "      <td>Take-Two Interactive</td>\n",
              "      <td>9.63</td>\n",
              "    </tr>\n",
              "    <tr>\n",
              "      <th>3</th>\n",
              "      <td>Activision</td>\n",
              "      <td>9.03</td>\n",
              "    </tr>\n",
              "    <tr>\n",
              "      <th>4</th>\n",
              "      <td>Activision</td>\n",
              "      <td>9.67</td>\n",
              "    </tr>\n",
              "    <tr>\n",
              "      <th>...</th>\n",
              "      <td>...</td>\n",
              "      <td>...</td>\n",
              "    </tr>\n",
              "    <tr>\n",
              "      <th>3138</th>\n",
              "      <td>NaN</td>\n",
              "      <td>0.00</td>\n",
              "    </tr>\n",
              "    <tr>\n",
              "      <th>3139</th>\n",
              "      <td>Deep Silver</td>\n",
              "      <td>0.01</td>\n",
              "    </tr>\n",
              "    <tr>\n",
              "      <th>3140</th>\n",
              "      <td>Capcom</td>\n",
              "      <td>0.01</td>\n",
              "    </tr>\n",
              "    <tr>\n",
              "      <th>3141</th>\n",
              "      <td>UIG Entertainment</td>\n",
              "      <td>0.00</td>\n",
              "    </tr>\n",
              "    <tr>\n",
              "      <th>3142</th>\n",
              "      <td>Alternative Software</td>\n",
              "      <td>0.00</td>\n",
              "    </tr>\n",
              "  </tbody>\n",
              "</table>\n",
              "<p>3143 rows × 2 columns</p>\n",
              "</div>"
            ],
            "text/plain": [
              "                   Publisher  NA_Sales\n",
              "0     Microsoft Game Studios     14.97\n",
              "1       Take-Two Interactive      7.01\n",
              "2       Take-Two Interactive      9.63\n",
              "3                 Activision      9.03\n",
              "4                 Activision      9.67\n",
              "...                      ...       ...\n",
              "3138                     NaN      0.00\n",
              "3139             Deep Silver      0.01\n",
              "3140                  Capcom      0.01\n",
              "3141       UIG Entertainment      0.00\n",
              "3142    Alternative Software      0.00\n",
              "\n",
              "[3143 rows x 2 columns]"
            ]
          },
          "metadata": {
            "tags": []
          },
          "execution_count": 99
        }
      ]
    },
    {
      "cell_type": "code",
      "metadata": {
        "colab": {
          "base_uri": "https://localhost:8080/",
          "height": 419
        },
        "id": "ov_chaUFBN9Y",
        "outputId": "a4493170-2478-40eb-df9a-f83602ae8ac3"
      },
      "source": [
        "publishers.loc[:,['Publisher','NA_Sales']]"
      ],
      "execution_count": 100,
      "outputs": [
        {
          "output_type": "execute_result",
          "data": {
            "text/html": [
              "<div>\n",
              "<style scoped>\n",
              "    .dataframe tbody tr th:only-of-type {\n",
              "        vertical-align: middle;\n",
              "    }\n",
              "\n",
              "    .dataframe tbody tr th {\n",
              "        vertical-align: top;\n",
              "    }\n",
              "\n",
              "    .dataframe thead th {\n",
              "        text-align: right;\n",
              "    }\n",
              "</style>\n",
              "<table border=\"1\" class=\"dataframe\">\n",
              "  <thead>\n",
              "    <tr style=\"text-align: right;\">\n",
              "      <th></th>\n",
              "      <th>Publisher</th>\n",
              "      <th>NA_Sales</th>\n",
              "    </tr>\n",
              "  </thead>\n",
              "  <tbody>\n",
              "    <tr>\n",
              "      <th>0</th>\n",
              "      <td>Microsoft Game Studios</td>\n",
              "      <td>14.97</td>\n",
              "    </tr>\n",
              "    <tr>\n",
              "      <th>1</th>\n",
              "      <td>Take-Two Interactive</td>\n",
              "      <td>7.01</td>\n",
              "    </tr>\n",
              "    <tr>\n",
              "      <th>2</th>\n",
              "      <td>Take-Two Interactive</td>\n",
              "      <td>9.63</td>\n",
              "    </tr>\n",
              "    <tr>\n",
              "      <th>3</th>\n",
              "      <td>Activision</td>\n",
              "      <td>9.03</td>\n",
              "    </tr>\n",
              "    <tr>\n",
              "      <th>4</th>\n",
              "      <td>Activision</td>\n",
              "      <td>9.67</td>\n",
              "    </tr>\n",
              "    <tr>\n",
              "      <th>...</th>\n",
              "      <td>...</td>\n",
              "      <td>...</td>\n",
              "    </tr>\n",
              "    <tr>\n",
              "      <th>3138</th>\n",
              "      <td>NaN</td>\n",
              "      <td>0.00</td>\n",
              "    </tr>\n",
              "    <tr>\n",
              "      <th>3139</th>\n",
              "      <td>Deep Silver</td>\n",
              "      <td>0.01</td>\n",
              "    </tr>\n",
              "    <tr>\n",
              "      <th>3140</th>\n",
              "      <td>Capcom</td>\n",
              "      <td>0.01</td>\n",
              "    </tr>\n",
              "    <tr>\n",
              "      <th>3141</th>\n",
              "      <td>UIG Entertainment</td>\n",
              "      <td>0.00</td>\n",
              "    </tr>\n",
              "    <tr>\n",
              "      <th>3142</th>\n",
              "      <td>Alternative Software</td>\n",
              "      <td>0.00</td>\n",
              "    </tr>\n",
              "  </tbody>\n",
              "</table>\n",
              "<p>3143 rows × 2 columns</p>\n",
              "</div>"
            ],
            "text/plain": [
              "                   Publisher  NA_Sales\n",
              "0     Microsoft Game Studios     14.97\n",
              "1       Take-Two Interactive      7.01\n",
              "2       Take-Two Interactive      9.63\n",
              "3                 Activision      9.03\n",
              "4                 Activision      9.67\n",
              "...                      ...       ...\n",
              "3138                     NaN      0.00\n",
              "3139             Deep Silver      0.01\n",
              "3140                  Capcom      0.01\n",
              "3141       UIG Entertainment      0.00\n",
              "3142    Alternative Software      0.00\n",
              "\n",
              "[3143 rows x 2 columns]"
            ]
          },
          "metadata": {
            "tags": []
          },
          "execution_count": 100
        }
      ]
    },
    {
      "cell_type": "code",
      "metadata": {
        "id": "DnjkPPa5BN_g"
      },
      "source": [
        "publi = publishers.loc[:,['Publisher','NA_Sales']].set_index('Publisher').squeeze()"
      ],
      "execution_count": 101,
      "outputs": []
    },
    {
      "cell_type": "code",
      "metadata": {
        "id": "gMoJGnwKQbua"
      },
      "source": [
        "publi_1 = publishers.loc[:,['Publisher','NA_Sales']].set_index('Publisher')"
      ],
      "execution_count": 102,
      "outputs": []
    },
    {
      "cell_type": "code",
      "metadata": {
        "colab": {
          "base_uri": "https://localhost:8080/",
          "height": 450
        },
        "id": "JJGoLllTQwpI",
        "outputId": "10873a41-f2a9-4fd8-cde1-8a6bc2532e9a"
      },
      "source": [
        "publi_1"
      ],
      "execution_count": 103,
      "outputs": [
        {
          "output_type": "execute_result",
          "data": {
            "text/html": [
              "<div>\n",
              "<style scoped>\n",
              "    .dataframe tbody tr th:only-of-type {\n",
              "        vertical-align: middle;\n",
              "    }\n",
              "\n",
              "    .dataframe tbody tr th {\n",
              "        vertical-align: top;\n",
              "    }\n",
              "\n",
              "    .dataframe thead th {\n",
              "        text-align: right;\n",
              "    }\n",
              "</style>\n",
              "<table border=\"1\" class=\"dataframe\">\n",
              "  <thead>\n",
              "    <tr style=\"text-align: right;\">\n",
              "      <th></th>\n",
              "      <th>NA_Sales</th>\n",
              "    </tr>\n",
              "    <tr>\n",
              "      <th>Publisher</th>\n",
              "      <th></th>\n",
              "    </tr>\n",
              "  </thead>\n",
              "  <tbody>\n",
              "    <tr>\n",
              "      <th>Microsoft Game Studios</th>\n",
              "      <td>14.97</td>\n",
              "    </tr>\n",
              "    <tr>\n",
              "      <th>Take-Two Interactive</th>\n",
              "      <td>7.01</td>\n",
              "    </tr>\n",
              "    <tr>\n",
              "      <th>Take-Two Interactive</th>\n",
              "      <td>9.63</td>\n",
              "    </tr>\n",
              "    <tr>\n",
              "      <th>Activision</th>\n",
              "      <td>9.03</td>\n",
              "    </tr>\n",
              "    <tr>\n",
              "      <th>Activision</th>\n",
              "      <td>9.67</td>\n",
              "    </tr>\n",
              "    <tr>\n",
              "      <th>...</th>\n",
              "      <td>...</td>\n",
              "    </tr>\n",
              "    <tr>\n",
              "      <th>NaN</th>\n",
              "      <td>0.00</td>\n",
              "    </tr>\n",
              "    <tr>\n",
              "      <th>Deep Silver</th>\n",
              "      <td>0.01</td>\n",
              "    </tr>\n",
              "    <tr>\n",
              "      <th>Capcom</th>\n",
              "      <td>0.01</td>\n",
              "    </tr>\n",
              "    <tr>\n",
              "      <th>UIG Entertainment</th>\n",
              "      <td>0.00</td>\n",
              "    </tr>\n",
              "    <tr>\n",
              "      <th>Alternative Software</th>\n",
              "      <td>0.00</td>\n",
              "    </tr>\n",
              "  </tbody>\n",
              "</table>\n",
              "<p>3143 rows × 1 columns</p>\n",
              "</div>"
            ],
            "text/plain": [
              "                        NA_Sales\n",
              "Publisher                       \n",
              "Microsoft Game Studios     14.97\n",
              "Take-Two Interactive        7.01\n",
              "Take-Two Interactive        9.63\n",
              "Activision                  9.03\n",
              "Activision                  9.67\n",
              "...                          ...\n",
              "NaN                         0.00\n",
              "Deep Silver                 0.01\n",
              "Capcom                      0.01\n",
              "UIG Entertainment           0.00\n",
              "Alternative Software        0.00\n",
              "\n",
              "[3143 rows x 1 columns]"
            ]
          },
          "metadata": {
            "tags": []
          },
          "execution_count": 103
        }
      ]
    },
    {
      "cell_type": "code",
      "metadata": {
        "colab": {
          "base_uri": "https://localhost:8080/"
        },
        "id": "MRzn0w72DAMX",
        "outputId": "00ef94cb-9fb4-4704-a30b-18c665c5d855"
      },
      "source": [
        "publi"
      ],
      "execution_count": 104,
      "outputs": [
        {
          "output_type": "execute_result",
          "data": {
            "text/plain": [
              "Publisher\n",
              "Microsoft Game Studios    14.97\n",
              "Take-Two Interactive       7.01\n",
              "Take-Two Interactive       9.63\n",
              "Activision                 9.03\n",
              "Activision                 9.67\n",
              "                          ...  \n",
              "NaN                        0.00\n",
              "Deep Silver                0.01\n",
              "Capcom                     0.01\n",
              "UIG Entertainment          0.00\n",
              "Alternative Software       0.00\n",
              "Name: NA_Sales, Length: 3143, dtype: float64"
            ]
          },
          "metadata": {
            "tags": []
          },
          "execution_count": 104
        }
      ]
    },
    {
      "cell_type": "code",
      "metadata": {
        "colab": {
          "base_uri": "https://localhost:8080/"
        },
        "id": "NLpQ2NlgDRXf",
        "outputId": "b6f6d41a-8a14-46f3-faad-7b791d854dbe"
      },
      "source": [
        "publi.groupby('Publisher').sum()"
      ],
      "execution_count": 105,
      "outputs": [
        {
          "output_type": "execute_result",
          "data": {
            "text/plain": [
              "Publisher\n",
              "49Games              0.00\n",
              "505 Games            7.92\n",
              "5pb                  0.02\n",
              "Abylight             0.07\n",
              "Ackkstudios          0.00\n",
              "                     ... \n",
              "Yacht Club Games     0.03\n",
              "Yeti                 0.00\n",
              "Zoo Games            0.30\n",
              "Zushi Games          0.20\n",
              "bitComposer Games    0.16\n",
              "Name: NA_Sales, Length: 155, dtype: float64"
            ]
          },
          "metadata": {
            "tags": []
          },
          "execution_count": 105
        }
      ]
    },
    {
      "cell_type": "code",
      "metadata": {
        "colab": {
          "base_uri": "https://localhost:8080/",
          "height": 450
        },
        "id": "u7gfHjnSDvAL",
        "outputId": "c06176cd-5273-447e-b54d-fbd6a50cd4ec"
      },
      "source": [
        "publi_1.groupby('Publisher').sum().sort_values(by='NA_Sales', ascending=False)"
      ],
      "execution_count": 106,
      "outputs": [
        {
          "output_type": "execute_result",
          "data": {
            "text/html": [
              "<div>\n",
              "<style scoped>\n",
              "    .dataframe tbody tr th:only-of-type {\n",
              "        vertical-align: middle;\n",
              "    }\n",
              "\n",
              "    .dataframe tbody tr th {\n",
              "        vertical-align: top;\n",
              "    }\n",
              "\n",
              "    .dataframe thead th {\n",
              "        text-align: right;\n",
              "    }\n",
              "</style>\n",
              "<table border=\"1\" class=\"dataframe\">\n",
              "  <thead>\n",
              "    <tr style=\"text-align: right;\">\n",
              "      <th></th>\n",
              "      <th>NA_Sales</th>\n",
              "    </tr>\n",
              "    <tr>\n",
              "      <th>Publisher</th>\n",
              "      <th></th>\n",
              "    </tr>\n",
              "  </thead>\n",
              "  <tbody>\n",
              "    <tr>\n",
              "      <th>Electronic Arts</th>\n",
              "      <td>213.38</td>\n",
              "    </tr>\n",
              "    <tr>\n",
              "      <th>Activision</th>\n",
              "      <td>193.16</td>\n",
              "    </tr>\n",
              "    <tr>\n",
              "      <th>Take-Two Interactive</th>\n",
              "      <td>120.99</td>\n",
              "    </tr>\n",
              "    <tr>\n",
              "      <th>Microsoft Game Studios</th>\n",
              "      <td>116.77</td>\n",
              "    </tr>\n",
              "    <tr>\n",
              "      <th>Ubisoft</th>\n",
              "      <td>98.65</td>\n",
              "    </tr>\n",
              "    <tr>\n",
              "      <th>...</th>\n",
              "      <td>...</td>\n",
              "    </tr>\n",
              "    <tr>\n",
              "      <th>Kadokawa Games</th>\n",
              "      <td>0.00</td>\n",
              "    </tr>\n",
              "    <tr>\n",
              "      <th>Falcom Corporation</th>\n",
              "      <td>0.00</td>\n",
              "    </tr>\n",
              "    <tr>\n",
              "      <th>Devolver Digital</th>\n",
              "      <td>0.00</td>\n",
              "    </tr>\n",
              "    <tr>\n",
              "      <th>CyberFront</th>\n",
              "      <td>0.00</td>\n",
              "    </tr>\n",
              "    <tr>\n",
              "      <th>49Games</th>\n",
              "      <td>0.00</td>\n",
              "    </tr>\n",
              "  </tbody>\n",
              "</table>\n",
              "<p>155 rows × 1 columns</p>\n",
              "</div>"
            ],
            "text/plain": [
              "                        NA_Sales\n",
              "Publisher                       \n",
              "Electronic Arts           213.38\n",
              "Activision                193.16\n",
              "Take-Two Interactive      120.99\n",
              "Microsoft Game Studios    116.77\n",
              "Ubisoft                    98.65\n",
              "...                          ...\n",
              "Kadokawa Games              0.00\n",
              "Falcom Corporation          0.00\n",
              "Devolver Digital            0.00\n",
              "CyberFront                  0.00\n",
              "49Games                     0.00\n",
              "\n",
              "[155 rows x 1 columns]"
            ]
          },
          "metadata": {
            "tags": []
          },
          "execution_count": 106
        }
      ]
    },
    {
      "cell_type": "code",
      "metadata": {
        "colab": {
          "base_uri": "https://localhost:8080/",
          "height": 390
        },
        "id": "7w9CyIi-RDAv",
        "outputId": "169c5b1e-4af9-4dc2-82bd-d52ba6569028"
      },
      "source": [
        "publi_1.groupby('Publisher').sum().sort_values(by='NA_Sales', ascending=False).head(10)"
      ],
      "execution_count": 107,
      "outputs": [
        {
          "output_type": "execute_result",
          "data": {
            "text/html": [
              "<div>\n",
              "<style scoped>\n",
              "    .dataframe tbody tr th:only-of-type {\n",
              "        vertical-align: middle;\n",
              "    }\n",
              "\n",
              "    .dataframe tbody tr th {\n",
              "        vertical-align: top;\n",
              "    }\n",
              "\n",
              "    .dataframe thead th {\n",
              "        text-align: right;\n",
              "    }\n",
              "</style>\n",
              "<table border=\"1\" class=\"dataframe\">\n",
              "  <thead>\n",
              "    <tr style=\"text-align: right;\">\n",
              "      <th></th>\n",
              "      <th>NA_Sales</th>\n",
              "    </tr>\n",
              "    <tr>\n",
              "      <th>Publisher</th>\n",
              "      <th></th>\n",
              "    </tr>\n",
              "  </thead>\n",
              "  <tbody>\n",
              "    <tr>\n",
              "      <th>Electronic Arts</th>\n",
              "      <td>213.38</td>\n",
              "    </tr>\n",
              "    <tr>\n",
              "      <th>Activision</th>\n",
              "      <td>193.16</td>\n",
              "    </tr>\n",
              "    <tr>\n",
              "      <th>Take-Two Interactive</th>\n",
              "      <td>120.99</td>\n",
              "    </tr>\n",
              "    <tr>\n",
              "      <th>Microsoft Game Studios</th>\n",
              "      <td>116.77</td>\n",
              "    </tr>\n",
              "    <tr>\n",
              "      <th>Ubisoft</th>\n",
              "      <td>98.65</td>\n",
              "    </tr>\n",
              "    <tr>\n",
              "      <th>Sony Computer Entertainment</th>\n",
              "      <td>76.35</td>\n",
              "    </tr>\n",
              "    <tr>\n",
              "      <th>Warner Bros. Interactive Entertainment</th>\n",
              "      <td>45.24</td>\n",
              "    </tr>\n",
              "    <tr>\n",
              "      <th>THQ</th>\n",
              "      <td>36.44</td>\n",
              "    </tr>\n",
              "    <tr>\n",
              "      <th>Bethesda Softworks</th>\n",
              "      <td>33.88</td>\n",
              "    </tr>\n",
              "    <tr>\n",
              "      <th>Capcom</th>\n",
              "      <td>24.74</td>\n",
              "    </tr>\n",
              "  </tbody>\n",
              "</table>\n",
              "</div>"
            ],
            "text/plain": [
              "                                        NA_Sales\n",
              "Publisher                                       \n",
              "Electronic Arts                           213.38\n",
              "Activision                                193.16\n",
              "Take-Two Interactive                      120.99\n",
              "Microsoft Game Studios                    116.77\n",
              "Ubisoft                                    98.65\n",
              "Sony Computer Entertainment                76.35\n",
              "Warner Bros. Interactive Entertainment     45.24\n",
              "THQ                                        36.44\n",
              "Bethesda Softworks                         33.88\n",
              "Capcom                                     24.74"
            ]
          },
          "metadata": {
            "tags": []
          },
          "execution_count": 107
        }
      ]
    },
    {
      "cell_type": "code",
      "metadata": {
        "colab": {
          "base_uri": "https://localhost:8080/"
        },
        "id": "bx0_W4u3EorF",
        "outputId": "73eff5f7-3832-4361-c4f6-1bfc091d5e25"
      },
      "source": [
        "publi.groupby('Publisher').sum().sort_values(ascending=False).head(10)"
      ],
      "execution_count": 108,
      "outputs": [
        {
          "output_type": "execute_result",
          "data": {
            "text/plain": [
              "Publisher\n",
              "Electronic Arts                           213.38\n",
              "Activision                                193.16\n",
              "Take-Two Interactive                      120.99\n",
              "Microsoft Game Studios                    116.77\n",
              "Ubisoft                                    98.65\n",
              "Sony Computer Entertainment                76.35\n",
              "Warner Bros. Interactive Entertainment     45.24\n",
              "THQ                                        36.44\n",
              "Bethesda Softworks                         33.88\n",
              "Capcom                                     24.74\n",
              "Name: NA_Sales, dtype: float64"
            ]
          },
          "metadata": {
            "tags": []
          },
          "execution_count": 108
        }
      ]
    },
    {
      "cell_type": "code",
      "metadata": {
        "id": "OQtWXYy4RRjq"
      },
      "source": [
        ""
      ],
      "execution_count": 108,
      "outputs": []
    },
    {
      "cell_type": "code",
      "metadata": {
        "colab": {
          "base_uri": "https://localhost:8080/",
          "height": 419
        },
        "id": "T3SrGfzIRUet",
        "outputId": "21aea77b-b8c1-4deb-894a-77a9090db2d3"
      },
      "source": [
        "games"
      ],
      "execution_count": 109,
      "outputs": [
        {
          "output_type": "execute_result",
          "data": {
            "text/html": [
              "<div>\n",
              "<style scoped>\n",
              "    .dataframe tbody tr th:only-of-type {\n",
              "        vertical-align: middle;\n",
              "    }\n",
              "\n",
              "    .dataframe tbody tr th {\n",
              "        vertical-align: top;\n",
              "    }\n",
              "\n",
              "    .dataframe thead th {\n",
              "        text-align: right;\n",
              "    }\n",
              "</style>\n",
              "<table border=\"1\" class=\"dataframe\">\n",
              "  <thead>\n",
              "    <tr style=\"text-align: right;\">\n",
              "      <th></th>\n",
              "      <th>Name</th>\n",
              "      <th>Platform</th>\n",
              "      <th>Year</th>\n",
              "      <th>Genre</th>\n",
              "      <th>Publisher</th>\n",
              "      <th>NA_Sales</th>\n",
              "      <th>EU_Sales</th>\n",
              "      <th>JP_Sales</th>\n",
              "      <th>Other_Sales</th>\n",
              "      <th>Global_Sales</th>\n",
              "    </tr>\n",
              "  </thead>\n",
              "  <tbody>\n",
              "    <tr>\n",
              "      <th>0</th>\n",
              "      <td>Kinect Adventures!</td>\n",
              "      <td>X360</td>\n",
              "      <td>2010.0</td>\n",
              "      <td>Misc</td>\n",
              "      <td>Microsoft Game Studios</td>\n",
              "      <td>14.97</td>\n",
              "      <td>4.94</td>\n",
              "      <td>0.24</td>\n",
              "      <td>1.67</td>\n",
              "      <td>21.82</td>\n",
              "    </tr>\n",
              "    <tr>\n",
              "      <th>1</th>\n",
              "      <td>Grand Theft Auto V</td>\n",
              "      <td>PS3</td>\n",
              "      <td>2013.0</td>\n",
              "      <td>Action</td>\n",
              "      <td>Take-Two Interactive</td>\n",
              "      <td>7.01</td>\n",
              "      <td>9.27</td>\n",
              "      <td>0.97</td>\n",
              "      <td>4.14</td>\n",
              "      <td>21.40</td>\n",
              "    </tr>\n",
              "    <tr>\n",
              "      <th>2</th>\n",
              "      <td>Grand Theft Auto V</td>\n",
              "      <td>X360</td>\n",
              "      <td>2013.0</td>\n",
              "      <td>Action</td>\n",
              "      <td>Take-Two Interactive</td>\n",
              "      <td>9.63</td>\n",
              "      <td>5.31</td>\n",
              "      <td>0.06</td>\n",
              "      <td>1.38</td>\n",
              "      <td>16.38</td>\n",
              "    </tr>\n",
              "    <tr>\n",
              "      <th>3</th>\n",
              "      <td>Call of Duty: Modern Warfare 3</td>\n",
              "      <td>X360</td>\n",
              "      <td>2011.0</td>\n",
              "      <td>Shooter</td>\n",
              "      <td>Activision</td>\n",
              "      <td>9.03</td>\n",
              "      <td>4.28</td>\n",
              "      <td>0.13</td>\n",
              "      <td>1.32</td>\n",
              "      <td>14.76</td>\n",
              "    </tr>\n",
              "    <tr>\n",
              "      <th>4</th>\n",
              "      <td>Call of Duty: Black Ops</td>\n",
              "      <td>X360</td>\n",
              "      <td>2010.0</td>\n",
              "      <td>Shooter</td>\n",
              "      <td>Activision</td>\n",
              "      <td>9.67</td>\n",
              "      <td>3.73</td>\n",
              "      <td>0.11</td>\n",
              "      <td>1.13</td>\n",
              "      <td>14.64</td>\n",
              "    </tr>\n",
              "    <tr>\n",
              "      <th>...</th>\n",
              "      <td>...</td>\n",
              "      <td>...</td>\n",
              "      <td>...</td>\n",
              "      <td>...</td>\n",
              "      <td>...</td>\n",
              "      <td>...</td>\n",
              "      <td>...</td>\n",
              "      <td>...</td>\n",
              "      <td>...</td>\n",
              "      <td>...</td>\n",
              "    </tr>\n",
              "    <tr>\n",
              "      <th>3138</th>\n",
              "      <td>Bound By Flame</td>\n",
              "      <td>X360</td>\n",
              "      <td>2014.0</td>\n",
              "      <td>Role-Playing</td>\n",
              "      <td>NaN</td>\n",
              "      <td>0.00</td>\n",
              "      <td>0.01</td>\n",
              "      <td>0.00</td>\n",
              "      <td>0.00</td>\n",
              "      <td>0.01</td>\n",
              "    </tr>\n",
              "    <tr>\n",
              "      <th>3139</th>\n",
              "      <td>Mighty No. 9</td>\n",
              "      <td>XOne</td>\n",
              "      <td>2016.0</td>\n",
              "      <td>Platform</td>\n",
              "      <td>Deep Silver</td>\n",
              "      <td>0.01</td>\n",
              "      <td>0.00</td>\n",
              "      <td>0.00</td>\n",
              "      <td>0.00</td>\n",
              "      <td>0.01</td>\n",
              "    </tr>\n",
              "    <tr>\n",
              "      <th>3140</th>\n",
              "      <td>Resident Evil 4 HD</td>\n",
              "      <td>XOne</td>\n",
              "      <td>2016.0</td>\n",
              "      <td>Shooter</td>\n",
              "      <td>Capcom</td>\n",
              "      <td>0.01</td>\n",
              "      <td>0.00</td>\n",
              "      <td>0.00</td>\n",
              "      <td>0.00</td>\n",
              "      <td>0.01</td>\n",
              "    </tr>\n",
              "    <tr>\n",
              "      <th>3141</th>\n",
              "      <td>Farming 2017 - The Simulation</td>\n",
              "      <td>PS4</td>\n",
              "      <td>2016.0</td>\n",
              "      <td>Simulation</td>\n",
              "      <td>UIG Entertainment</td>\n",
              "      <td>0.00</td>\n",
              "      <td>0.01</td>\n",
              "      <td>0.00</td>\n",
              "      <td>0.00</td>\n",
              "      <td>0.01</td>\n",
              "    </tr>\n",
              "    <tr>\n",
              "      <th>3142</th>\n",
              "      <td>Rugby Challenge 3</td>\n",
              "      <td>XOne</td>\n",
              "      <td>2016.0</td>\n",
              "      <td>Sports</td>\n",
              "      <td>Alternative Software</td>\n",
              "      <td>0.00</td>\n",
              "      <td>0.01</td>\n",
              "      <td>0.00</td>\n",
              "      <td>0.00</td>\n",
              "      <td>0.01</td>\n",
              "    </tr>\n",
              "  </tbody>\n",
              "</table>\n",
              "<p>3143 rows × 10 columns</p>\n",
              "</div>"
            ],
            "text/plain": [
              "                                Name Platform  ...  Other_Sales Global_Sales\n",
              "0                 Kinect Adventures!     X360  ...         1.67        21.82\n",
              "1                 Grand Theft Auto V      PS3  ...         4.14        21.40\n",
              "2                 Grand Theft Auto V     X360  ...         1.38        16.38\n",
              "3     Call of Duty: Modern Warfare 3     X360  ...         1.32        14.76\n",
              "4            Call of Duty: Black Ops     X360  ...         1.13        14.64\n",
              "...                              ...      ...  ...          ...          ...\n",
              "3138                  Bound By Flame     X360  ...         0.00         0.01\n",
              "3139                    Mighty No. 9     XOne  ...         0.00         0.01\n",
              "3140              Resident Evil 4 HD     XOne  ...         0.00         0.01\n",
              "3141   Farming 2017 - The Simulation      PS4  ...         0.00         0.01\n",
              "3142               Rugby Challenge 3     XOne  ...         0.00         0.01\n",
              "\n",
              "[3143 rows x 10 columns]"
            ]
          },
          "metadata": {
            "tags": []
          },
          "execution_count": 109
        }
      ]
    },
    {
      "cell_type": "code",
      "metadata": {
        "id": "P5Wc_7weRXGa"
      },
      "source": [
        "publi_2 =publishers.loc[:,['Platform','NA_Sales']]\n"
      ],
      "execution_count": 110,
      "outputs": []
    },
    {
      "cell_type": "code",
      "metadata": {
        "colab": {
          "base_uri": "https://localhost:8080/",
          "height": 419
        },
        "id": "m69aoJpPWm8E",
        "outputId": "5d27cfe6-0657-48d9-9de8-60ce6e5c6f40"
      },
      "source": [
        "publi_2"
      ],
      "execution_count": 111,
      "outputs": [
        {
          "output_type": "execute_result",
          "data": {
            "text/html": [
              "<div>\n",
              "<style scoped>\n",
              "    .dataframe tbody tr th:only-of-type {\n",
              "        vertical-align: middle;\n",
              "    }\n",
              "\n",
              "    .dataframe tbody tr th {\n",
              "        vertical-align: top;\n",
              "    }\n",
              "\n",
              "    .dataframe thead th {\n",
              "        text-align: right;\n",
              "    }\n",
              "</style>\n",
              "<table border=\"1\" class=\"dataframe\">\n",
              "  <thead>\n",
              "    <tr style=\"text-align: right;\">\n",
              "      <th></th>\n",
              "      <th>Platform</th>\n",
              "      <th>NA_Sales</th>\n",
              "    </tr>\n",
              "  </thead>\n",
              "  <tbody>\n",
              "    <tr>\n",
              "      <th>0</th>\n",
              "      <td>X360</td>\n",
              "      <td>14.97</td>\n",
              "    </tr>\n",
              "    <tr>\n",
              "      <th>1</th>\n",
              "      <td>PS3</td>\n",
              "      <td>7.01</td>\n",
              "    </tr>\n",
              "    <tr>\n",
              "      <th>2</th>\n",
              "      <td>X360</td>\n",
              "      <td>9.63</td>\n",
              "    </tr>\n",
              "    <tr>\n",
              "      <th>3</th>\n",
              "      <td>X360</td>\n",
              "      <td>9.03</td>\n",
              "    </tr>\n",
              "    <tr>\n",
              "      <th>4</th>\n",
              "      <td>X360</td>\n",
              "      <td>9.67</td>\n",
              "    </tr>\n",
              "    <tr>\n",
              "      <th>...</th>\n",
              "      <td>...</td>\n",
              "      <td>...</td>\n",
              "    </tr>\n",
              "    <tr>\n",
              "      <th>3138</th>\n",
              "      <td>X360</td>\n",
              "      <td>0.00</td>\n",
              "    </tr>\n",
              "    <tr>\n",
              "      <th>3139</th>\n",
              "      <td>XOne</td>\n",
              "      <td>0.01</td>\n",
              "    </tr>\n",
              "    <tr>\n",
              "      <th>3140</th>\n",
              "      <td>XOne</td>\n",
              "      <td>0.01</td>\n",
              "    </tr>\n",
              "    <tr>\n",
              "      <th>3141</th>\n",
              "      <td>PS4</td>\n",
              "      <td>0.00</td>\n",
              "    </tr>\n",
              "    <tr>\n",
              "      <th>3142</th>\n",
              "      <td>XOne</td>\n",
              "      <td>0.00</td>\n",
              "    </tr>\n",
              "  </tbody>\n",
              "</table>\n",
              "<p>3143 rows × 2 columns</p>\n",
              "</div>"
            ],
            "text/plain": [
              "     Platform  NA_Sales\n",
              "0        X360     14.97\n",
              "1         PS3      7.01\n",
              "2        X360      9.63\n",
              "3        X360      9.03\n",
              "4        X360      9.67\n",
              "...       ...       ...\n",
              "3138     X360      0.00\n",
              "3139     XOne      0.01\n",
              "3140     XOne      0.01\n",
              "3141      PS4      0.00\n",
              "3142     XOne      0.00\n",
              "\n",
              "[3143 rows x 2 columns]"
            ]
          },
          "metadata": {
            "tags": []
          },
          "execution_count": 111
        }
      ]
    },
    {
      "cell_type": "code",
      "metadata": {
        "colab": {
          "base_uri": "https://localhost:8080/",
          "height": 204
        },
        "id": "5STDF7dzWxiv",
        "outputId": "bee271e5-d87c-44be-8792-d5e12283b5d0"
      },
      "source": [
        "publi_2.groupby('Platform').sum().sort_values(by='NA_Sales',ascending=False)"
      ],
      "execution_count": 112,
      "outputs": [
        {
          "output_type": "execute_result",
          "data": {
            "text/html": [
              "<div>\n",
              "<style scoped>\n",
              "    .dataframe tbody tr th:only-of-type {\n",
              "        vertical-align: middle;\n",
              "    }\n",
              "\n",
              "    .dataframe tbody tr th {\n",
              "        vertical-align: top;\n",
              "    }\n",
              "\n",
              "    .dataframe thead th {\n",
              "        text-align: right;\n",
              "    }\n",
              "</style>\n",
              "<table border=\"1\" class=\"dataframe\">\n",
              "  <thead>\n",
              "    <tr style=\"text-align: right;\">\n",
              "      <th></th>\n",
              "      <th>NA_Sales</th>\n",
              "    </tr>\n",
              "    <tr>\n",
              "      <th>Platform</th>\n",
              "      <th></th>\n",
              "    </tr>\n",
              "  </thead>\n",
              "  <tbody>\n",
              "    <tr>\n",
              "      <th>X360</th>\n",
              "      <td>601.05</td>\n",
              "    </tr>\n",
              "    <tr>\n",
              "      <th>PS3</th>\n",
              "      <td>392.26</td>\n",
              "    </tr>\n",
              "    <tr>\n",
              "      <th>PS4</th>\n",
              "      <td>96.80</td>\n",
              "    </tr>\n",
              "    <tr>\n",
              "      <th>XOne</th>\n",
              "      <td>83.19</td>\n",
              "    </tr>\n",
              "  </tbody>\n",
              "</table>\n",
              "</div>"
            ],
            "text/plain": [
              "          NA_Sales\n",
              "Platform          \n",
              "X360        601.05\n",
              "PS3         392.26\n",
              "PS4          96.80\n",
              "XOne         83.19"
            ]
          },
          "metadata": {
            "tags": []
          },
          "execution_count": 112
        }
      ]
    },
    {
      "cell_type": "code",
      "metadata": {
        "colab": {
          "base_uri": "https://localhost:8080/"
        },
        "id": "sbJ87kjAXVMY",
        "outputId": "aa83aab0-cf66-4c90-85b1-44c60736f6cb"
      },
      "source": [
        "publishers.Publisher.shape\n"
      ],
      "execution_count": 113,
      "outputs": [
        {
          "output_type": "execute_result",
          "data": {
            "text/plain": [
              "(3143,)"
            ]
          },
          "metadata": {
            "tags": []
          },
          "execution_count": 113
        }
      ]
    },
    {
      "cell_type": "code",
      "metadata": {
        "colab": {
          "base_uri": "https://localhost:8080/"
        },
        "id": "qD51p0ScYvaI",
        "outputId": "649fff53-3f40-4ed8-8af9-0eb6bed336c6"
      },
      "source": [
        "publishers.Publisher.unique().shape\n"
      ],
      "execution_count": 114,
      "outputs": [
        {
          "output_type": "execute_result",
          "data": {
            "text/plain": [
              "(156,)"
            ]
          },
          "metadata": {
            "tags": []
          },
          "execution_count": 114
        }
      ]
    },
    {
      "cell_type": "code",
      "metadata": {
        "colab": {
          "base_uri": "https://localhost:8080/"
        },
        "id": "oMDB8roqZE_F",
        "outputId": "c8e9b1f4-156a-4a53-e06a-3fb8a11ce066"
      },
      "source": [
        "publishers.Publisher.isnull()   # Tratando os NA, neste caso localizando"
      ],
      "execution_count": 115,
      "outputs": [
        {
          "output_type": "execute_result",
          "data": {
            "text/plain": [
              "0       False\n",
              "1       False\n",
              "2       False\n",
              "3       False\n",
              "4       False\n",
              "        ...  \n",
              "3138     True\n",
              "3139    False\n",
              "3140    False\n",
              "3141    False\n",
              "3142    False\n",
              "Name: Publisher, Length: 3143, dtype: bool"
            ]
          },
          "metadata": {
            "tags": []
          },
          "execution_count": 115
        }
      ]
    },
    {
      "cell_type": "code",
      "metadata": {
        "colab": {
          "base_uri": "https://localhost:8080/",
          "height": 266
        },
        "id": "V8J70BXwZMBb",
        "outputId": "c1bdfb56-b063-472d-c5bf-156b7dd7d99b"
      },
      "source": [
        "publishers[publishers.Publisher.isnull()]  # Visualizando no dataframe os NA's"
      ],
      "execution_count": 116,
      "outputs": [
        {
          "output_type": "execute_result",
          "data": {
            "text/html": [
              "<div>\n",
              "<style scoped>\n",
              "    .dataframe tbody tr th:only-of-type {\n",
              "        vertical-align: middle;\n",
              "    }\n",
              "\n",
              "    .dataframe tbody tr th {\n",
              "        vertical-align: top;\n",
              "    }\n",
              "\n",
              "    .dataframe thead th {\n",
              "        text-align: right;\n",
              "    }\n",
              "</style>\n",
              "<table border=\"1\" class=\"dataframe\">\n",
              "  <thead>\n",
              "    <tr style=\"text-align: right;\">\n",
              "      <th></th>\n",
              "      <th>Publisher</th>\n",
              "      <th>Genre</th>\n",
              "      <th>Platform</th>\n",
              "      <th>NA_Sales</th>\n",
              "    </tr>\n",
              "  </thead>\n",
              "  <tbody>\n",
              "    <tr>\n",
              "      <th>1149</th>\n",
              "      <td>NaN</td>\n",
              "      <td>Platform</td>\n",
              "      <td>PS3</td>\n",
              "      <td>0.00</td>\n",
              "    </tr>\n",
              "    <tr>\n",
              "      <th>2713</th>\n",
              "      <td>NaN</td>\n",
              "      <td>Role-Playing</td>\n",
              "      <td>PS3</td>\n",
              "      <td>0.00</td>\n",
              "    </tr>\n",
              "    <tr>\n",
              "      <th>2808</th>\n",
              "      <td>NaN</td>\n",
              "      <td>Shooter</td>\n",
              "      <td>X360</td>\n",
              "      <td>0.00</td>\n",
              "    </tr>\n",
              "    <tr>\n",
              "      <th>2926</th>\n",
              "      <td>NaN</td>\n",
              "      <td>Adventure</td>\n",
              "      <td>PS3</td>\n",
              "      <td>0.00</td>\n",
              "    </tr>\n",
              "    <tr>\n",
              "      <th>3087</th>\n",
              "      <td>NaN</td>\n",
              "      <td>Misc</td>\n",
              "      <td>X360</td>\n",
              "      <td>0.00</td>\n",
              "    </tr>\n",
              "    <tr>\n",
              "      <th>3093</th>\n",
              "      <td>NaN</td>\n",
              "      <td>Shooter</td>\n",
              "      <td>X360</td>\n",
              "      <td>0.01</td>\n",
              "    </tr>\n",
              "    <tr>\n",
              "      <th>3138</th>\n",
              "      <td>NaN</td>\n",
              "      <td>Role-Playing</td>\n",
              "      <td>X360</td>\n",
              "      <td>0.00</td>\n",
              "    </tr>\n",
              "  </tbody>\n",
              "</table>\n",
              "</div>"
            ],
            "text/plain": [
              "     Publisher         Genre Platform  NA_Sales\n",
              "1149       NaN      Platform      PS3      0.00\n",
              "2713       NaN  Role-Playing      PS3      0.00\n",
              "2808       NaN       Shooter     X360      0.00\n",
              "2926       NaN     Adventure      PS3      0.00\n",
              "3087       NaN          Misc     X360      0.00\n",
              "3093       NaN       Shooter     X360      0.01\n",
              "3138       NaN  Role-Playing     X360      0.00"
            ]
          },
          "metadata": {
            "tags": []
          },
          "execution_count": 116
        }
      ]
    },
    {
      "cell_type": "code",
      "metadata": {
        "colab": {
          "base_uri": "https://localhost:8080/"
        },
        "id": "i0FpOtFKZ5Pa",
        "outputId": "0ee73578-1f96-4dee-8ecb-d9161a1bde89"
      },
      "source": [
        "publishers[publishers.Publisher.isnull()].index  # Pegando os index dos NA's"
      ],
      "execution_count": 117,
      "outputs": [
        {
          "output_type": "execute_result",
          "data": {
            "text/plain": [
              "Int64Index([1149, 2713, 2808, 2926, 3087, 3093, 3138], dtype='int64')"
            ]
          },
          "metadata": {
            "tags": []
          },
          "execution_count": 117
        }
      ]
    },
    {
      "cell_type": "code",
      "metadata": {
        "colab": {
          "base_uri": "https://localhost:8080/",
          "height": 419
        },
        "id": "iAqNoOPRZ9Sn",
        "outputId": "86b01db8-1756-4918-c4d2-89cac4c390b3"
      },
      "source": [
        "sales"
      ],
      "execution_count": 118,
      "outputs": [
        {
          "output_type": "execute_result",
          "data": {
            "text/html": [
              "<div>\n",
              "<style scoped>\n",
              "    .dataframe tbody tr th:only-of-type {\n",
              "        vertical-align: middle;\n",
              "    }\n",
              "\n",
              "    .dataframe tbody tr th {\n",
              "        vertical-align: top;\n",
              "    }\n",
              "\n",
              "    .dataframe thead th {\n",
              "        text-align: right;\n",
              "    }\n",
              "</style>\n",
              "<table border=\"1\" class=\"dataframe\">\n",
              "  <thead>\n",
              "    <tr style=\"text-align: right;\">\n",
              "      <th></th>\n",
              "      <th>Platform</th>\n",
              "      <th>NA_Sales</th>\n",
              "      <th>EU_Sales</th>\n",
              "      <th>JP_Sales</th>\n",
              "      <th>Other_Sales</th>\n",
              "      <th>Global_Sales</th>\n",
              "    </tr>\n",
              "  </thead>\n",
              "  <tbody>\n",
              "    <tr>\n",
              "      <th>0</th>\n",
              "      <td>X360</td>\n",
              "      <td>14.97</td>\n",
              "      <td>4.94</td>\n",
              "      <td>0.24</td>\n",
              "      <td>1.67</td>\n",
              "      <td>21.82</td>\n",
              "    </tr>\n",
              "    <tr>\n",
              "      <th>1</th>\n",
              "      <td>PS3</td>\n",
              "      <td>7.01</td>\n",
              "      <td>9.27</td>\n",
              "      <td>0.97</td>\n",
              "      <td>4.14</td>\n",
              "      <td>21.40</td>\n",
              "    </tr>\n",
              "    <tr>\n",
              "      <th>2</th>\n",
              "      <td>X360</td>\n",
              "      <td>9.63</td>\n",
              "      <td>5.31</td>\n",
              "      <td>0.06</td>\n",
              "      <td>1.38</td>\n",
              "      <td>16.38</td>\n",
              "    </tr>\n",
              "    <tr>\n",
              "      <th>3</th>\n",
              "      <td>X360</td>\n",
              "      <td>9.03</td>\n",
              "      <td>4.28</td>\n",
              "      <td>0.13</td>\n",
              "      <td>1.32</td>\n",
              "      <td>14.76</td>\n",
              "    </tr>\n",
              "    <tr>\n",
              "      <th>4</th>\n",
              "      <td>X360</td>\n",
              "      <td>9.67</td>\n",
              "      <td>3.73</td>\n",
              "      <td>0.11</td>\n",
              "      <td>1.13</td>\n",
              "      <td>14.64</td>\n",
              "    </tr>\n",
              "    <tr>\n",
              "      <th>...</th>\n",
              "      <td>...</td>\n",
              "      <td>...</td>\n",
              "      <td>...</td>\n",
              "      <td>...</td>\n",
              "      <td>...</td>\n",
              "      <td>...</td>\n",
              "    </tr>\n",
              "    <tr>\n",
              "      <th>3138</th>\n",
              "      <td>X360</td>\n",
              "      <td>0.00</td>\n",
              "      <td>0.01</td>\n",
              "      <td>0.00</td>\n",
              "      <td>0.00</td>\n",
              "      <td>0.01</td>\n",
              "    </tr>\n",
              "    <tr>\n",
              "      <th>3139</th>\n",
              "      <td>XOne</td>\n",
              "      <td>0.01</td>\n",
              "      <td>0.00</td>\n",
              "      <td>0.00</td>\n",
              "      <td>0.00</td>\n",
              "      <td>0.01</td>\n",
              "    </tr>\n",
              "    <tr>\n",
              "      <th>3140</th>\n",
              "      <td>XOne</td>\n",
              "      <td>0.01</td>\n",
              "      <td>0.00</td>\n",
              "      <td>0.00</td>\n",
              "      <td>0.00</td>\n",
              "      <td>0.01</td>\n",
              "    </tr>\n",
              "    <tr>\n",
              "      <th>3141</th>\n",
              "      <td>PS4</td>\n",
              "      <td>0.00</td>\n",
              "      <td>0.01</td>\n",
              "      <td>0.00</td>\n",
              "      <td>0.00</td>\n",
              "      <td>0.01</td>\n",
              "    </tr>\n",
              "    <tr>\n",
              "      <th>3142</th>\n",
              "      <td>XOne</td>\n",
              "      <td>0.00</td>\n",
              "      <td>0.01</td>\n",
              "      <td>0.00</td>\n",
              "      <td>0.00</td>\n",
              "      <td>0.01</td>\n",
              "    </tr>\n",
              "  </tbody>\n",
              "</table>\n",
              "<p>3143 rows × 6 columns</p>\n",
              "</div>"
            ],
            "text/plain": [
              "     Platform  NA_Sales  EU_Sales  JP_Sales  Other_Sales  Global_Sales\n",
              "0        X360     14.97      4.94      0.24         1.67         21.82\n",
              "1         PS3      7.01      9.27      0.97         4.14         21.40\n",
              "2        X360      9.63      5.31      0.06         1.38         16.38\n",
              "3        X360      9.03      4.28      0.13         1.32         14.76\n",
              "4        X360      9.67      3.73      0.11         1.13         14.64\n",
              "...       ...       ...       ...       ...          ...           ...\n",
              "3138     X360      0.00      0.01      0.00         0.00          0.01\n",
              "3139     XOne      0.01      0.00      0.00         0.00          0.01\n",
              "3140     XOne      0.01      0.00      0.00         0.00          0.01\n",
              "3141      PS4      0.00      0.01      0.00         0.00          0.01\n",
              "3142     XOne      0.00      0.01      0.00         0.00          0.01\n",
              "\n",
              "[3143 rows x 6 columns]"
            ]
          },
          "metadata": {
            "tags": []
          },
          "execution_count": 118
        }
      ]
    },
    {
      "cell_type": "code",
      "metadata": {
        "colab": {
          "base_uri": "https://localhost:8080/",
          "height": 419
        },
        "id": "Iz48gOALg12b",
        "outputId": "e94c39e4-4a4b-4162-a837-77a0453c8284"
      },
      "source": [
        "sales.groupby('Platform').get_group('PS3')"
      ],
      "execution_count": 119,
      "outputs": [
        {
          "output_type": "execute_result",
          "data": {
            "text/html": [
              "<div>\n",
              "<style scoped>\n",
              "    .dataframe tbody tr th:only-of-type {\n",
              "        vertical-align: middle;\n",
              "    }\n",
              "\n",
              "    .dataframe tbody tr th {\n",
              "        vertical-align: top;\n",
              "    }\n",
              "\n",
              "    .dataframe thead th {\n",
              "        text-align: right;\n",
              "    }\n",
              "</style>\n",
              "<table border=\"1\" class=\"dataframe\">\n",
              "  <thead>\n",
              "    <tr style=\"text-align: right;\">\n",
              "      <th></th>\n",
              "      <th>Platform</th>\n",
              "      <th>NA_Sales</th>\n",
              "      <th>EU_Sales</th>\n",
              "      <th>JP_Sales</th>\n",
              "      <th>Other_Sales</th>\n",
              "      <th>Global_Sales</th>\n",
              "    </tr>\n",
              "  </thead>\n",
              "  <tbody>\n",
              "    <tr>\n",
              "      <th>1</th>\n",
              "      <td>PS3</td>\n",
              "      <td>7.01</td>\n",
              "      <td>9.27</td>\n",
              "      <td>0.97</td>\n",
              "      <td>4.14</td>\n",
              "      <td>21.40</td>\n",
              "    </tr>\n",
              "    <tr>\n",
              "      <th>6</th>\n",
              "      <td>PS3</td>\n",
              "      <td>4.99</td>\n",
              "      <td>5.88</td>\n",
              "      <td>0.65</td>\n",
              "      <td>2.52</td>\n",
              "      <td>14.03</td>\n",
              "    </tr>\n",
              "    <tr>\n",
              "      <th>9</th>\n",
              "      <td>PS3</td>\n",
              "      <td>5.54</td>\n",
              "      <td>5.82</td>\n",
              "      <td>0.49</td>\n",
              "      <td>1.62</td>\n",
              "      <td>13.46</td>\n",
              "    </tr>\n",
              "    <tr>\n",
              "      <th>10</th>\n",
              "      <td>PS3</td>\n",
              "      <td>5.98</td>\n",
              "      <td>4.44</td>\n",
              "      <td>0.48</td>\n",
              "      <td>1.83</td>\n",
              "      <td>12.73</td>\n",
              "    </tr>\n",
              "    <tr>\n",
              "      <th>14</th>\n",
              "      <td>PS3</td>\n",
              "      <td>2.96</td>\n",
              "      <td>4.88</td>\n",
              "      <td>0.81</td>\n",
              "      <td>2.12</td>\n",
              "      <td>10.77</td>\n",
              "    </tr>\n",
              "    <tr>\n",
              "      <th>...</th>\n",
              "      <td>...</td>\n",
              "      <td>...</td>\n",
              "      <td>...</td>\n",
              "      <td>...</td>\n",
              "      <td>...</td>\n",
              "      <td>...</td>\n",
              "    </tr>\n",
              "    <tr>\n",
              "      <th>3124</th>\n",
              "      <td>PS3</td>\n",
              "      <td>0.00</td>\n",
              "      <td>0.01</td>\n",
              "      <td>0.00</td>\n",
              "      <td>0.00</td>\n",
              "      <td>0.01</td>\n",
              "    </tr>\n",
              "    <tr>\n",
              "      <th>3125</th>\n",
              "      <td>PS3</td>\n",
              "      <td>0.00</td>\n",
              "      <td>0.00</td>\n",
              "      <td>0.01</td>\n",
              "      <td>0.00</td>\n",
              "      <td>0.01</td>\n",
              "    </tr>\n",
              "    <tr>\n",
              "      <th>3129</th>\n",
              "      <td>PS3</td>\n",
              "      <td>0.00</td>\n",
              "      <td>0.00</td>\n",
              "      <td>0.01</td>\n",
              "      <td>0.00</td>\n",
              "      <td>0.01</td>\n",
              "    </tr>\n",
              "    <tr>\n",
              "      <th>3132</th>\n",
              "      <td>PS3</td>\n",
              "      <td>0.00</td>\n",
              "      <td>0.00</td>\n",
              "      <td>0.01</td>\n",
              "      <td>0.00</td>\n",
              "      <td>0.01</td>\n",
              "    </tr>\n",
              "    <tr>\n",
              "      <th>3136</th>\n",
              "      <td>PS3</td>\n",
              "      <td>0.00</td>\n",
              "      <td>0.00</td>\n",
              "      <td>0.01</td>\n",
              "      <td>0.00</td>\n",
              "      <td>0.01</td>\n",
              "    </tr>\n",
              "  </tbody>\n",
              "</table>\n",
              "<p>1329 rows × 6 columns</p>\n",
              "</div>"
            ],
            "text/plain": [
              "     Platform  NA_Sales  EU_Sales  JP_Sales  Other_Sales  Global_Sales\n",
              "1         PS3      7.01      9.27      0.97         4.14         21.40\n",
              "6         PS3      4.99      5.88      0.65         2.52         14.03\n",
              "9         PS3      5.54      5.82      0.49         1.62         13.46\n",
              "10        PS3      5.98      4.44      0.48         1.83         12.73\n",
              "14        PS3      2.96      4.88      0.81         2.12         10.77\n",
              "...       ...       ...       ...       ...          ...           ...\n",
              "3124      PS3      0.00      0.01      0.00         0.00          0.01\n",
              "3125      PS3      0.00      0.00      0.01         0.00          0.01\n",
              "3129      PS3      0.00      0.00      0.01         0.00          0.01\n",
              "3132      PS3      0.00      0.00      0.01         0.00          0.01\n",
              "3136      PS3      0.00      0.00      0.01         0.00          0.01\n",
              "\n",
              "[1329 rows x 6 columns]"
            ]
          },
          "metadata": {
            "tags": []
          },
          "execution_count": 119
        }
      ]
    },
    {
      "cell_type": "code",
      "metadata": {
        "colab": {
          "base_uri": "https://localhost:8080/",
          "height": 419
        },
        "id": "RYlhjKPM7qaR",
        "outputId": "1d9d9402-6270-48ac-cfa1-75300f179ec9"
      },
      "source": [
        "sales.groupby('Platform').get_group('PS3')"
      ],
      "execution_count": 120,
      "outputs": [
        {
          "output_type": "execute_result",
          "data": {
            "text/html": [
              "<div>\n",
              "<style scoped>\n",
              "    .dataframe tbody tr th:only-of-type {\n",
              "        vertical-align: middle;\n",
              "    }\n",
              "\n",
              "    .dataframe tbody tr th {\n",
              "        vertical-align: top;\n",
              "    }\n",
              "\n",
              "    .dataframe thead th {\n",
              "        text-align: right;\n",
              "    }\n",
              "</style>\n",
              "<table border=\"1\" class=\"dataframe\">\n",
              "  <thead>\n",
              "    <tr style=\"text-align: right;\">\n",
              "      <th></th>\n",
              "      <th>Platform</th>\n",
              "      <th>NA_Sales</th>\n",
              "      <th>EU_Sales</th>\n",
              "      <th>JP_Sales</th>\n",
              "      <th>Other_Sales</th>\n",
              "      <th>Global_Sales</th>\n",
              "    </tr>\n",
              "  </thead>\n",
              "  <tbody>\n",
              "    <tr>\n",
              "      <th>1</th>\n",
              "      <td>PS3</td>\n",
              "      <td>7.01</td>\n",
              "      <td>9.27</td>\n",
              "      <td>0.97</td>\n",
              "      <td>4.14</td>\n",
              "      <td>21.40</td>\n",
              "    </tr>\n",
              "    <tr>\n",
              "      <th>6</th>\n",
              "      <td>PS3</td>\n",
              "      <td>4.99</td>\n",
              "      <td>5.88</td>\n",
              "      <td>0.65</td>\n",
              "      <td>2.52</td>\n",
              "      <td>14.03</td>\n",
              "    </tr>\n",
              "    <tr>\n",
              "      <th>9</th>\n",
              "      <td>PS3</td>\n",
              "      <td>5.54</td>\n",
              "      <td>5.82</td>\n",
              "      <td>0.49</td>\n",
              "      <td>1.62</td>\n",
              "      <td>13.46</td>\n",
              "    </tr>\n",
              "    <tr>\n",
              "      <th>10</th>\n",
              "      <td>PS3</td>\n",
              "      <td>5.98</td>\n",
              "      <td>4.44</td>\n",
              "      <td>0.48</td>\n",
              "      <td>1.83</td>\n",
              "      <td>12.73</td>\n",
              "    </tr>\n",
              "    <tr>\n",
              "      <th>14</th>\n",
              "      <td>PS3</td>\n",
              "      <td>2.96</td>\n",
              "      <td>4.88</td>\n",
              "      <td>0.81</td>\n",
              "      <td>2.12</td>\n",
              "      <td>10.77</td>\n",
              "    </tr>\n",
              "    <tr>\n",
              "      <th>...</th>\n",
              "      <td>...</td>\n",
              "      <td>...</td>\n",
              "      <td>...</td>\n",
              "      <td>...</td>\n",
              "      <td>...</td>\n",
              "      <td>...</td>\n",
              "    </tr>\n",
              "    <tr>\n",
              "      <th>3124</th>\n",
              "      <td>PS3</td>\n",
              "      <td>0.00</td>\n",
              "      <td>0.01</td>\n",
              "      <td>0.00</td>\n",
              "      <td>0.00</td>\n",
              "      <td>0.01</td>\n",
              "    </tr>\n",
              "    <tr>\n",
              "      <th>3125</th>\n",
              "      <td>PS3</td>\n",
              "      <td>0.00</td>\n",
              "      <td>0.00</td>\n",
              "      <td>0.01</td>\n",
              "      <td>0.00</td>\n",
              "      <td>0.01</td>\n",
              "    </tr>\n",
              "    <tr>\n",
              "      <th>3129</th>\n",
              "      <td>PS3</td>\n",
              "      <td>0.00</td>\n",
              "      <td>0.00</td>\n",
              "      <td>0.01</td>\n",
              "      <td>0.00</td>\n",
              "      <td>0.01</td>\n",
              "    </tr>\n",
              "    <tr>\n",
              "      <th>3132</th>\n",
              "      <td>PS3</td>\n",
              "      <td>0.00</td>\n",
              "      <td>0.00</td>\n",
              "      <td>0.01</td>\n",
              "      <td>0.00</td>\n",
              "      <td>0.01</td>\n",
              "    </tr>\n",
              "    <tr>\n",
              "      <th>3136</th>\n",
              "      <td>PS3</td>\n",
              "      <td>0.00</td>\n",
              "      <td>0.00</td>\n",
              "      <td>0.01</td>\n",
              "      <td>0.00</td>\n",
              "      <td>0.01</td>\n",
              "    </tr>\n",
              "  </tbody>\n",
              "</table>\n",
              "<p>1329 rows × 6 columns</p>\n",
              "</div>"
            ],
            "text/plain": [
              "     Platform  NA_Sales  EU_Sales  JP_Sales  Other_Sales  Global_Sales\n",
              "1         PS3      7.01      9.27      0.97         4.14         21.40\n",
              "6         PS3      4.99      5.88      0.65         2.52         14.03\n",
              "9         PS3      5.54      5.82      0.49         1.62         13.46\n",
              "10        PS3      5.98      4.44      0.48         1.83         12.73\n",
              "14        PS3      2.96      4.88      0.81         2.12         10.77\n",
              "...       ...       ...       ...       ...          ...           ...\n",
              "3124      PS3      0.00      0.01      0.00         0.00          0.01\n",
              "3125      PS3      0.00      0.00      0.01         0.00          0.01\n",
              "3129      PS3      0.00      0.00      0.01         0.00          0.01\n",
              "3132      PS3      0.00      0.00      0.01         0.00          0.01\n",
              "3136      PS3      0.00      0.00      0.01         0.00          0.01\n",
              "\n",
              "[1329 rows x 6 columns]"
            ]
          },
          "metadata": {
            "tags": []
          },
          "execution_count": 120
        }
      ]
    },
    {
      "cell_type": "code",
      "metadata": {
        "id": "0t0h92coIk_1"
      },
      "source": [
        "studios = games.loc[:,['Genre','Publisher','Global_Sales']]"
      ],
      "execution_count": 121,
      "outputs": []
    },
    {
      "cell_type": "code",
      "metadata": {
        "colab": {
          "base_uri": "https://localhost:8080/",
          "height": 419
        },
        "id": "Vpubr3ClI5Ws",
        "outputId": "95dee33a-f38b-41e5-899f-cc0458734688"
      },
      "source": [
        "studios"
      ],
      "execution_count": 122,
      "outputs": [
        {
          "output_type": "execute_result",
          "data": {
            "text/html": [
              "<div>\n",
              "<style scoped>\n",
              "    .dataframe tbody tr th:only-of-type {\n",
              "        vertical-align: middle;\n",
              "    }\n",
              "\n",
              "    .dataframe tbody tr th {\n",
              "        vertical-align: top;\n",
              "    }\n",
              "\n",
              "    .dataframe thead th {\n",
              "        text-align: right;\n",
              "    }\n",
              "</style>\n",
              "<table border=\"1\" class=\"dataframe\">\n",
              "  <thead>\n",
              "    <tr style=\"text-align: right;\">\n",
              "      <th></th>\n",
              "      <th>Genre</th>\n",
              "      <th>Publisher</th>\n",
              "      <th>Global_Sales</th>\n",
              "    </tr>\n",
              "  </thead>\n",
              "  <tbody>\n",
              "    <tr>\n",
              "      <th>0</th>\n",
              "      <td>Misc</td>\n",
              "      <td>Microsoft Game Studios</td>\n",
              "      <td>21.82</td>\n",
              "    </tr>\n",
              "    <tr>\n",
              "      <th>1</th>\n",
              "      <td>Action</td>\n",
              "      <td>Take-Two Interactive</td>\n",
              "      <td>21.40</td>\n",
              "    </tr>\n",
              "    <tr>\n",
              "      <th>2</th>\n",
              "      <td>Action</td>\n",
              "      <td>Take-Two Interactive</td>\n",
              "      <td>16.38</td>\n",
              "    </tr>\n",
              "    <tr>\n",
              "      <th>3</th>\n",
              "      <td>Shooter</td>\n",
              "      <td>Activision</td>\n",
              "      <td>14.76</td>\n",
              "    </tr>\n",
              "    <tr>\n",
              "      <th>4</th>\n",
              "      <td>Shooter</td>\n",
              "      <td>Activision</td>\n",
              "      <td>14.64</td>\n",
              "    </tr>\n",
              "    <tr>\n",
              "      <th>...</th>\n",
              "      <td>...</td>\n",
              "      <td>...</td>\n",
              "      <td>...</td>\n",
              "    </tr>\n",
              "    <tr>\n",
              "      <th>3138</th>\n",
              "      <td>Role-Playing</td>\n",
              "      <td>NaN</td>\n",
              "      <td>0.01</td>\n",
              "    </tr>\n",
              "    <tr>\n",
              "      <th>3139</th>\n",
              "      <td>Platform</td>\n",
              "      <td>Deep Silver</td>\n",
              "      <td>0.01</td>\n",
              "    </tr>\n",
              "    <tr>\n",
              "      <th>3140</th>\n",
              "      <td>Shooter</td>\n",
              "      <td>Capcom</td>\n",
              "      <td>0.01</td>\n",
              "    </tr>\n",
              "    <tr>\n",
              "      <th>3141</th>\n",
              "      <td>Simulation</td>\n",
              "      <td>UIG Entertainment</td>\n",
              "      <td>0.01</td>\n",
              "    </tr>\n",
              "    <tr>\n",
              "      <th>3142</th>\n",
              "      <td>Sports</td>\n",
              "      <td>Alternative Software</td>\n",
              "      <td>0.01</td>\n",
              "    </tr>\n",
              "  </tbody>\n",
              "</table>\n",
              "<p>3143 rows × 3 columns</p>\n",
              "</div>"
            ],
            "text/plain": [
              "             Genre               Publisher  Global_Sales\n",
              "0             Misc  Microsoft Game Studios         21.82\n",
              "1           Action    Take-Two Interactive         21.40\n",
              "2           Action    Take-Two Interactive         16.38\n",
              "3          Shooter              Activision         14.76\n",
              "4          Shooter              Activision         14.64\n",
              "...            ...                     ...           ...\n",
              "3138  Role-Playing                     NaN          0.01\n",
              "3139      Platform             Deep Silver          0.01\n",
              "3140       Shooter                  Capcom          0.01\n",
              "3141    Simulation       UIG Entertainment          0.01\n",
              "3142        Sports    Alternative Software          0.01\n",
              "\n",
              "[3143 rows x 3 columns]"
            ]
          },
          "metadata": {
            "tags": []
          },
          "execution_count": 122
        }
      ]
    },
    {
      "cell_type": "code",
      "metadata": {
        "colab": {
          "base_uri": "https://localhost:8080/",
          "height": 450
        },
        "id": "xMjRZnuJI7La",
        "outputId": "edfcbc48-f496-46a3-edf1-13f5c54f0ff5"
      },
      "source": [
        "studios.groupby('Publisher').sum().sort_values(by='Global_Sales',ascending=False)"
      ],
      "execution_count": 123,
      "outputs": [
        {
          "output_type": "execute_result",
          "data": {
            "text/html": [
              "<div>\n",
              "<style scoped>\n",
              "    .dataframe tbody tr th:only-of-type {\n",
              "        vertical-align: middle;\n",
              "    }\n",
              "\n",
              "    .dataframe tbody tr th {\n",
              "        vertical-align: top;\n",
              "    }\n",
              "\n",
              "    .dataframe thead th {\n",
              "        text-align: right;\n",
              "    }\n",
              "</style>\n",
              "<table border=\"1\" class=\"dataframe\">\n",
              "  <thead>\n",
              "    <tr style=\"text-align: right;\">\n",
              "      <th></th>\n",
              "      <th>Global_Sales</th>\n",
              "    </tr>\n",
              "    <tr>\n",
              "      <th>Publisher</th>\n",
              "      <th></th>\n",
              "    </tr>\n",
              "  </thead>\n",
              "  <tbody>\n",
              "    <tr>\n",
              "      <th>Electronic Arts</th>\n",
              "      <td>434.41</td>\n",
              "    </tr>\n",
              "    <tr>\n",
              "      <th>Activision</th>\n",
              "      <td>349.22</td>\n",
              "    </tr>\n",
              "    <tr>\n",
              "      <th>Take-Two Interactive</th>\n",
              "      <td>218.08</td>\n",
              "    </tr>\n",
              "    <tr>\n",
              "      <th>Ubisoft</th>\n",
              "      <td>201.98</td>\n",
              "    </tr>\n",
              "    <tr>\n",
              "      <th>Microsoft Game Studios</th>\n",
              "      <td>190.56</td>\n",
              "    </tr>\n",
              "    <tr>\n",
              "      <th>...</th>\n",
              "      <td>...</td>\n",
              "    </tr>\n",
              "    <tr>\n",
              "      <th>UIG Entertainment</th>\n",
              "      <td>0.01</td>\n",
              "    </tr>\n",
              "    <tr>\n",
              "      <th>ChunSoft</th>\n",
              "      <td>0.01</td>\n",
              "    </tr>\n",
              "    <tr>\n",
              "      <th>Kaga Create</th>\n",
              "      <td>0.01</td>\n",
              "    </tr>\n",
              "    <tr>\n",
              "      <th>Epic Games</th>\n",
              "      <td>0.01</td>\n",
              "    </tr>\n",
              "    <tr>\n",
              "      <th>Ongakukan</th>\n",
              "      <td>0.01</td>\n",
              "    </tr>\n",
              "  </tbody>\n",
              "</table>\n",
              "<p>155 rows × 1 columns</p>\n",
              "</div>"
            ],
            "text/plain": [
              "                        Global_Sales\n",
              "Publisher                           \n",
              "Electronic Arts               434.41\n",
              "Activision                    349.22\n",
              "Take-Two Interactive          218.08\n",
              "Ubisoft                       201.98\n",
              "Microsoft Game Studios        190.56\n",
              "...                              ...\n",
              "UIG Entertainment               0.01\n",
              "ChunSoft                        0.01\n",
              "Kaga Create                     0.01\n",
              "Epic Games                      0.01\n",
              "Ongakukan                       0.01\n",
              "\n",
              "[155 rows x 1 columns]"
            ]
          },
          "metadata": {
            "tags": []
          },
          "execution_count": 123
        }
      ]
    },
    {
      "cell_type": "code",
      "metadata": {
        "colab": {
          "base_uri": "https://localhost:8080/",
          "height": 450
        },
        "id": "S9itKS2NLSyT",
        "outputId": "8094740f-9d89-49e2-8a42-6937bae7584f"
      },
      "source": [
        "studios.groupby(['Genre','Publisher']).sum()\n"
      ],
      "execution_count": 124,
      "outputs": [
        {
          "output_type": "execute_result",
          "data": {
            "text/html": [
              "<div>\n",
              "<style scoped>\n",
              "    .dataframe tbody tr th:only-of-type {\n",
              "        vertical-align: middle;\n",
              "    }\n",
              "\n",
              "    .dataframe tbody tr th {\n",
              "        vertical-align: top;\n",
              "    }\n",
              "\n",
              "    .dataframe thead th {\n",
              "        text-align: right;\n",
              "    }\n",
              "</style>\n",
              "<table border=\"1\" class=\"dataframe\">\n",
              "  <thead>\n",
              "    <tr style=\"text-align: right;\">\n",
              "      <th></th>\n",
              "      <th></th>\n",
              "      <th>Global_Sales</th>\n",
              "    </tr>\n",
              "    <tr>\n",
              "      <th>Genre</th>\n",
              "      <th>Publisher</th>\n",
              "      <th></th>\n",
              "    </tr>\n",
              "  </thead>\n",
              "  <tbody>\n",
              "    <tr>\n",
              "      <th rowspan=\"5\" valign=\"top\">Action</th>\n",
              "      <th>505 Games</th>\n",
              "      <td>2.25</td>\n",
              "    </tr>\n",
              "    <tr>\n",
              "      <th>Abylight</th>\n",
              "      <td>0.08</td>\n",
              "    </tr>\n",
              "    <tr>\n",
              "      <th>Ackkstudios</th>\n",
              "      <td>0.33</td>\n",
              "    </tr>\n",
              "    <tr>\n",
              "      <th>Acquire</th>\n",
              "      <td>0.11</td>\n",
              "    </tr>\n",
              "    <tr>\n",
              "      <th>Activision</th>\n",
              "      <td>42.84</td>\n",
              "    </tr>\n",
              "    <tr>\n",
              "      <th>...</th>\n",
              "      <th>...</th>\n",
              "      <td>...</td>\n",
              "    </tr>\n",
              "    <tr>\n",
              "      <th rowspan=\"5\" valign=\"top\">Strategy</th>\n",
              "      <th>Square Enix</th>\n",
              "      <td>0.35</td>\n",
              "    </tr>\n",
              "    <tr>\n",
              "      <th>Takara Tomy</th>\n",
              "      <td>0.09</td>\n",
              "    </tr>\n",
              "    <tr>\n",
              "      <th>Take-Two Interactive</th>\n",
              "      <td>2.92</td>\n",
              "    </tr>\n",
              "    <tr>\n",
              "      <th>Tecmo Koei</th>\n",
              "      <td>0.58</td>\n",
              "    </tr>\n",
              "    <tr>\n",
              "      <th>Ubisoft</th>\n",
              "      <td>2.34</td>\n",
              "    </tr>\n",
              "  </tbody>\n",
              "</table>\n",
              "<p>422 rows × 1 columns</p>\n",
              "</div>"
            ],
            "text/plain": [
              "                               Global_Sales\n",
              "Genre    Publisher                         \n",
              "Action   505 Games                     2.25\n",
              "         Abylight                      0.08\n",
              "         Ackkstudios                   0.33\n",
              "         Acquire                       0.11\n",
              "         Activision                   42.84\n",
              "...                                     ...\n",
              "Strategy Square Enix                   0.35\n",
              "         Takara Tomy                   0.09\n",
              "         Take-Two Interactive          2.92\n",
              "         Tecmo Koei                    0.58\n",
              "         Ubisoft                       2.34\n",
              "\n",
              "[422 rows x 1 columns]"
            ]
          },
          "metadata": {
            "tags": []
          },
          "execution_count": 124
        }
      ]
    },
    {
      "cell_type": "code",
      "metadata": {
        "colab": {
          "base_uri": "https://localhost:8080/",
          "height": 450
        },
        "id": "EDrw02_eMKtl",
        "outputId": "6a0c5f4d-8d6a-44db-f1e8-31bfa195c8d2"
      },
      "source": [
        "studios.groupby(['Genre','Publisher']).agg(sum)\n"
      ],
      "execution_count": 125,
      "outputs": [
        {
          "output_type": "execute_result",
          "data": {
            "text/html": [
              "<div>\n",
              "<style scoped>\n",
              "    .dataframe tbody tr th:only-of-type {\n",
              "        vertical-align: middle;\n",
              "    }\n",
              "\n",
              "    .dataframe tbody tr th {\n",
              "        vertical-align: top;\n",
              "    }\n",
              "\n",
              "    .dataframe thead th {\n",
              "        text-align: right;\n",
              "    }\n",
              "</style>\n",
              "<table border=\"1\" class=\"dataframe\">\n",
              "  <thead>\n",
              "    <tr style=\"text-align: right;\">\n",
              "      <th></th>\n",
              "      <th></th>\n",
              "      <th>Global_Sales</th>\n",
              "    </tr>\n",
              "    <tr>\n",
              "      <th>Genre</th>\n",
              "      <th>Publisher</th>\n",
              "      <th></th>\n",
              "    </tr>\n",
              "  </thead>\n",
              "  <tbody>\n",
              "    <tr>\n",
              "      <th rowspan=\"5\" valign=\"top\">Action</th>\n",
              "      <th>505 Games</th>\n",
              "      <td>2.25</td>\n",
              "    </tr>\n",
              "    <tr>\n",
              "      <th>Abylight</th>\n",
              "      <td>0.08</td>\n",
              "    </tr>\n",
              "    <tr>\n",
              "      <th>Ackkstudios</th>\n",
              "      <td>0.33</td>\n",
              "    </tr>\n",
              "    <tr>\n",
              "      <th>Acquire</th>\n",
              "      <td>0.11</td>\n",
              "    </tr>\n",
              "    <tr>\n",
              "      <th>Activision</th>\n",
              "      <td>42.84</td>\n",
              "    </tr>\n",
              "    <tr>\n",
              "      <th>...</th>\n",
              "      <th>...</th>\n",
              "      <td>...</td>\n",
              "    </tr>\n",
              "    <tr>\n",
              "      <th rowspan=\"5\" valign=\"top\">Strategy</th>\n",
              "      <th>Square Enix</th>\n",
              "      <td>0.35</td>\n",
              "    </tr>\n",
              "    <tr>\n",
              "      <th>Takara Tomy</th>\n",
              "      <td>0.09</td>\n",
              "    </tr>\n",
              "    <tr>\n",
              "      <th>Take-Two Interactive</th>\n",
              "      <td>2.92</td>\n",
              "    </tr>\n",
              "    <tr>\n",
              "      <th>Tecmo Koei</th>\n",
              "      <td>0.58</td>\n",
              "    </tr>\n",
              "    <tr>\n",
              "      <th>Ubisoft</th>\n",
              "      <td>2.34</td>\n",
              "    </tr>\n",
              "  </tbody>\n",
              "</table>\n",
              "<p>422 rows × 1 columns</p>\n",
              "</div>"
            ],
            "text/plain": [
              "                               Global_Sales\n",
              "Genre    Publisher                         \n",
              "Action   505 Games                     2.25\n",
              "         Abylight                      0.08\n",
              "         Ackkstudios                   0.33\n",
              "         Acquire                       0.11\n",
              "         Activision                   42.84\n",
              "...                                     ...\n",
              "Strategy Square Enix                   0.35\n",
              "         Takara Tomy                   0.09\n",
              "         Take-Two Interactive          2.92\n",
              "         Tecmo Koei                    0.58\n",
              "         Ubisoft                       2.34\n",
              "\n",
              "[422 rows x 1 columns]"
            ]
          },
          "metadata": {
            "tags": []
          },
          "execution_count": 125
        }
      ]
    },
    {
      "cell_type": "code",
      "metadata": {
        "colab": {
          "base_uri": "https://localhost:8080/",
          "height": 450
        },
        "id": "4VYjjIc3I5ZI",
        "outputId": "4a17a17f-b864-4e59-f74f-caf017545412"
      },
      "source": [
        "studios.groupby(['Genre','Publisher']).sum().sort_values(by='Global_Sales',ascending=False)"
      ],
      "execution_count": 126,
      "outputs": [
        {
          "output_type": "execute_result",
          "data": {
            "text/html": [
              "<div>\n",
              "<style scoped>\n",
              "    .dataframe tbody tr th:only-of-type {\n",
              "        vertical-align: middle;\n",
              "    }\n",
              "\n",
              "    .dataframe tbody tr th {\n",
              "        vertical-align: top;\n",
              "    }\n",
              "\n",
              "    .dataframe thead th {\n",
              "        text-align: right;\n",
              "    }\n",
              "</style>\n",
              "<table border=\"1\" class=\"dataframe\">\n",
              "  <thead>\n",
              "    <tr style=\"text-align: right;\">\n",
              "      <th></th>\n",
              "      <th></th>\n",
              "      <th>Global_Sales</th>\n",
              "    </tr>\n",
              "    <tr>\n",
              "      <th>Genre</th>\n",
              "      <th>Publisher</th>\n",
              "      <th></th>\n",
              "    </tr>\n",
              "  </thead>\n",
              "  <tbody>\n",
              "    <tr>\n",
              "      <th>Shooter</th>\n",
              "      <th>Activision</th>\n",
              "      <td>245.46</td>\n",
              "    </tr>\n",
              "    <tr>\n",
              "      <th>Sports</th>\n",
              "      <th>Electronic Arts</th>\n",
              "      <td>203.50</td>\n",
              "    </tr>\n",
              "    <tr>\n",
              "      <th rowspan=\"2\" valign=\"top\">Action</th>\n",
              "      <th>Take-Two Interactive</th>\n",
              "      <td>106.04</td>\n",
              "    </tr>\n",
              "    <tr>\n",
              "      <th>Ubisoft</th>\n",
              "      <td>96.44</td>\n",
              "    </tr>\n",
              "    <tr>\n",
              "      <th>Shooter</th>\n",
              "      <th>Electronic Arts</th>\n",
              "      <td>92.58</td>\n",
              "    </tr>\n",
              "    <tr>\n",
              "      <th>...</th>\n",
              "      <th>...</th>\n",
              "      <td>...</td>\n",
              "    </tr>\n",
              "    <tr>\n",
              "      <th>Adventure</th>\n",
              "      <th>Cave</th>\n",
              "      <td>0.01</td>\n",
              "    </tr>\n",
              "    <tr>\n",
              "      <th>Role-Playing</th>\n",
              "      <th>TopWare Interactive</th>\n",
              "      <td>0.01</td>\n",
              "    </tr>\n",
              "    <tr>\n",
              "      <th>Sports</th>\n",
              "      <th>Interworks Unlimited, Inc.</th>\n",
              "      <td>0.01</td>\n",
              "    </tr>\n",
              "    <tr>\n",
              "      <th>Strategy</th>\n",
              "      <th>Ackkstudios</th>\n",
              "      <td>0.01</td>\n",
              "    </tr>\n",
              "    <tr>\n",
              "      <th>Adventure</th>\n",
              "      <th>Views</th>\n",
              "      <td>0.01</td>\n",
              "    </tr>\n",
              "  </tbody>\n",
              "</table>\n",
              "<p>422 rows × 1 columns</p>\n",
              "</div>"
            ],
            "text/plain": [
              "                                         Global_Sales\n",
              "Genre        Publisher                               \n",
              "Shooter      Activision                        245.46\n",
              "Sports       Electronic Arts                   203.50\n",
              "Action       Take-Two Interactive              106.04\n",
              "             Ubisoft                            96.44\n",
              "Shooter      Electronic Arts                    92.58\n",
              "...                                               ...\n",
              "Adventure    Cave                                0.01\n",
              "Role-Playing TopWare Interactive                 0.01\n",
              "Sports       Interworks Unlimited, Inc.          0.01\n",
              "Strategy     Ackkstudios                         0.01\n",
              "Adventure    Views                               0.01\n",
              "\n",
              "[422 rows x 1 columns]"
            ]
          },
          "metadata": {
            "tags": []
          },
          "execution_count": 126
        }
      ]
    },
    {
      "cell_type": "code",
      "metadata": {
        "colab": {
          "base_uri": "https://localhost:8080/",
          "height": 481
        },
        "id": "VzoU7-7nI5bm",
        "outputId": "0c6d1c62-834f-46cc-9ce5-815eeb51c196"
      },
      "source": [
        "studios.groupby(['Genre','Publisher']).agg(['count','sum','mean'])\n"
      ],
      "execution_count": 127,
      "outputs": [
        {
          "output_type": "execute_result",
          "data": {
            "text/html": [
              "<div>\n",
              "<style scoped>\n",
              "    .dataframe tbody tr th:only-of-type {\n",
              "        vertical-align: middle;\n",
              "    }\n",
              "\n",
              "    .dataframe tbody tr th {\n",
              "        vertical-align: top;\n",
              "    }\n",
              "\n",
              "    .dataframe thead tr th {\n",
              "        text-align: left;\n",
              "    }\n",
              "\n",
              "    .dataframe thead tr:last-of-type th {\n",
              "        text-align: right;\n",
              "    }\n",
              "</style>\n",
              "<table border=\"1\" class=\"dataframe\">\n",
              "  <thead>\n",
              "    <tr>\n",
              "      <th></th>\n",
              "      <th></th>\n",
              "      <th colspan=\"3\" halign=\"left\">Global_Sales</th>\n",
              "    </tr>\n",
              "    <tr>\n",
              "      <th></th>\n",
              "      <th></th>\n",
              "      <th>count</th>\n",
              "      <th>sum</th>\n",
              "      <th>mean</th>\n",
              "    </tr>\n",
              "    <tr>\n",
              "      <th>Genre</th>\n",
              "      <th>Publisher</th>\n",
              "      <th></th>\n",
              "      <th></th>\n",
              "      <th></th>\n",
              "    </tr>\n",
              "  </thead>\n",
              "  <tbody>\n",
              "    <tr>\n",
              "      <th rowspan=\"5\" valign=\"top\">Action</th>\n",
              "      <th>505 Games</th>\n",
              "      <td>8</td>\n",
              "      <td>2.25</td>\n",
              "      <td>0.281250</td>\n",
              "    </tr>\n",
              "    <tr>\n",
              "      <th>Abylight</th>\n",
              "      <td>1</td>\n",
              "      <td>0.08</td>\n",
              "      <td>0.080000</td>\n",
              "    </tr>\n",
              "    <tr>\n",
              "      <th>Ackkstudios</th>\n",
              "      <td>1</td>\n",
              "      <td>0.33</td>\n",
              "      <td>0.330000</td>\n",
              "    </tr>\n",
              "    <tr>\n",
              "      <th>Acquire</th>\n",
              "      <td>1</td>\n",
              "      <td>0.11</td>\n",
              "      <td>0.110000</td>\n",
              "    </tr>\n",
              "    <tr>\n",
              "      <th>Activision</th>\n",
              "      <td>95</td>\n",
              "      <td>42.84</td>\n",
              "      <td>0.450947</td>\n",
              "    </tr>\n",
              "    <tr>\n",
              "      <th>...</th>\n",
              "      <th>...</th>\n",
              "      <td>...</td>\n",
              "      <td>...</td>\n",
              "      <td>...</td>\n",
              "    </tr>\n",
              "    <tr>\n",
              "      <th rowspan=\"5\" valign=\"top\">Strategy</th>\n",
              "      <th>Square Enix</th>\n",
              "      <td>1</td>\n",
              "      <td>0.35</td>\n",
              "      <td>0.350000</td>\n",
              "    </tr>\n",
              "    <tr>\n",
              "      <th>Takara Tomy</th>\n",
              "      <td>1</td>\n",
              "      <td>0.09</td>\n",
              "      <td>0.090000</td>\n",
              "    </tr>\n",
              "    <tr>\n",
              "      <th>Take-Two Interactive</th>\n",
              "      <td>6</td>\n",
              "      <td>2.92</td>\n",
              "      <td>0.486667</td>\n",
              "    </tr>\n",
              "    <tr>\n",
              "      <th>Tecmo Koei</th>\n",
              "      <td>6</td>\n",
              "      <td>0.58</td>\n",
              "      <td>0.096667</td>\n",
              "    </tr>\n",
              "    <tr>\n",
              "      <th>Ubisoft</th>\n",
              "      <td>4</td>\n",
              "      <td>2.34</td>\n",
              "      <td>0.585000</td>\n",
              "    </tr>\n",
              "  </tbody>\n",
              "</table>\n",
              "<p>422 rows × 3 columns</p>\n",
              "</div>"
            ],
            "text/plain": [
              "                              Global_Sales                 \n",
              "                                     count    sum      mean\n",
              "Genre    Publisher                                         \n",
              "Action   505 Games                       8   2.25  0.281250\n",
              "         Abylight                        1   0.08  0.080000\n",
              "         Ackkstudios                     1   0.33  0.330000\n",
              "         Acquire                         1   0.11  0.110000\n",
              "         Activision                     95  42.84  0.450947\n",
              "...                                    ...    ...       ...\n",
              "Strategy Square Enix                     1   0.35  0.350000\n",
              "         Takara Tomy                     1   0.09  0.090000\n",
              "         Take-Two Interactive            6   2.92  0.486667\n",
              "         Tecmo Koei                      6   0.58  0.096667\n",
              "         Ubisoft                         4   2.34  0.585000\n",
              "\n",
              "[422 rows x 3 columns]"
            ]
          },
          "metadata": {
            "tags": []
          },
          "execution_count": 127
        }
      ]
    },
    {
      "cell_type": "code",
      "metadata": {
        "colab": {
          "base_uri": "https://localhost:8080/"
        },
        "id": "EiIc7ehONOEj",
        "outputId": "fca673be-438a-45ba-e007-9644b8eb5c08"
      },
      "source": [
        "studios.groupby(['Genre','Publisher']).agg(['count','sum','mean']).columns\n"
      ],
      "execution_count": 128,
      "outputs": [
        {
          "output_type": "execute_result",
          "data": {
            "text/plain": [
              "MultiIndex([('Global_Sales', 'count'),\n",
              "            ('Global_Sales',   'sum'),\n",
              "            ('Global_Sales',  'mean')],\n",
              "           )"
            ]
          },
          "metadata": {
            "tags": []
          },
          "execution_count": 128
        }
      ]
    },
    {
      "cell_type": "code",
      "metadata": {
        "colab": {
          "base_uri": "https://localhost:8080/",
          "height": 481
        },
        "id": "86A_GcCNNOGn",
        "outputId": "e58a528b-da92-480b-8b48-d06cc29344a1"
      },
      "source": [
        "studios.groupby(['Genre','Publisher']).agg(['count','sum','mean']).sort_values(by=('Global_Sales',   'sum'),ascending=False)\n"
      ],
      "execution_count": 129,
      "outputs": [
        {
          "output_type": "execute_result",
          "data": {
            "text/html": [
              "<div>\n",
              "<style scoped>\n",
              "    .dataframe tbody tr th:only-of-type {\n",
              "        vertical-align: middle;\n",
              "    }\n",
              "\n",
              "    .dataframe tbody tr th {\n",
              "        vertical-align: top;\n",
              "    }\n",
              "\n",
              "    .dataframe thead tr th {\n",
              "        text-align: left;\n",
              "    }\n",
              "\n",
              "    .dataframe thead tr:last-of-type th {\n",
              "        text-align: right;\n",
              "    }\n",
              "</style>\n",
              "<table border=\"1\" class=\"dataframe\">\n",
              "  <thead>\n",
              "    <tr>\n",
              "      <th></th>\n",
              "      <th></th>\n",
              "      <th colspan=\"3\" halign=\"left\">Global_Sales</th>\n",
              "    </tr>\n",
              "    <tr>\n",
              "      <th></th>\n",
              "      <th></th>\n",
              "      <th>count</th>\n",
              "      <th>sum</th>\n",
              "      <th>mean</th>\n",
              "    </tr>\n",
              "    <tr>\n",
              "      <th>Genre</th>\n",
              "      <th>Publisher</th>\n",
              "      <th></th>\n",
              "      <th></th>\n",
              "      <th></th>\n",
              "    </tr>\n",
              "  </thead>\n",
              "  <tbody>\n",
              "    <tr>\n",
              "      <th>Shooter</th>\n",
              "      <th>Activision</th>\n",
              "      <td>72</td>\n",
              "      <td>245.46</td>\n",
              "      <td>3.409167</td>\n",
              "    </tr>\n",
              "    <tr>\n",
              "      <th>Sports</th>\n",
              "      <th>Electronic Arts</th>\n",
              "      <td>170</td>\n",
              "      <td>203.50</td>\n",
              "      <td>1.197059</td>\n",
              "    </tr>\n",
              "    <tr>\n",
              "      <th rowspan=\"2\" valign=\"top\">Action</th>\n",
              "      <th>Take-Two Interactive</th>\n",
              "      <td>23</td>\n",
              "      <td>106.04</td>\n",
              "      <td>4.610435</td>\n",
              "    </tr>\n",
              "    <tr>\n",
              "      <th>Ubisoft</th>\n",
              "      <td>67</td>\n",
              "      <td>96.44</td>\n",
              "      <td>1.439403</td>\n",
              "    </tr>\n",
              "    <tr>\n",
              "      <th>Shooter</th>\n",
              "      <th>Electronic Arts</th>\n",
              "      <td>50</td>\n",
              "      <td>92.58</td>\n",
              "      <td>1.851600</td>\n",
              "    </tr>\n",
              "    <tr>\n",
              "      <th>...</th>\n",
              "      <th>...</th>\n",
              "      <td>...</td>\n",
              "      <td>...</td>\n",
              "      <td>...</td>\n",
              "    </tr>\n",
              "    <tr>\n",
              "      <th>Adventure</th>\n",
              "      <th>Cave</th>\n",
              "      <td>1</td>\n",
              "      <td>0.01</td>\n",
              "      <td>0.010000</td>\n",
              "    </tr>\n",
              "    <tr>\n",
              "      <th>Role-Playing</th>\n",
              "      <th>TopWare Interactive</th>\n",
              "      <td>1</td>\n",
              "      <td>0.01</td>\n",
              "      <td>0.010000</td>\n",
              "    </tr>\n",
              "    <tr>\n",
              "      <th>Sports</th>\n",
              "      <th>Interworks Unlimited, Inc.</th>\n",
              "      <td>1</td>\n",
              "      <td>0.01</td>\n",
              "      <td>0.010000</td>\n",
              "    </tr>\n",
              "    <tr>\n",
              "      <th>Strategy</th>\n",
              "      <th>Ackkstudios</th>\n",
              "      <td>1</td>\n",
              "      <td>0.01</td>\n",
              "      <td>0.010000</td>\n",
              "    </tr>\n",
              "    <tr>\n",
              "      <th>Adventure</th>\n",
              "      <th>Views</th>\n",
              "      <td>1</td>\n",
              "      <td>0.01</td>\n",
              "      <td>0.010000</td>\n",
              "    </tr>\n",
              "  </tbody>\n",
              "</table>\n",
              "<p>422 rows × 3 columns</p>\n",
              "</div>"
            ],
            "text/plain": [
              "                                        Global_Sales                  \n",
              "                                               count     sum      mean\n",
              "Genre        Publisher                                                \n",
              "Shooter      Activision                           72  245.46  3.409167\n",
              "Sports       Electronic Arts                     170  203.50  1.197059\n",
              "Action       Take-Two Interactive                 23  106.04  4.610435\n",
              "             Ubisoft                              67   96.44  1.439403\n",
              "Shooter      Electronic Arts                      50   92.58  1.851600\n",
              "...                                              ...     ...       ...\n",
              "Adventure    Cave                                  1    0.01  0.010000\n",
              "Role-Playing TopWare Interactive                   1    0.01  0.010000\n",
              "Sports       Interworks Unlimited, Inc.            1    0.01  0.010000\n",
              "Strategy     Ackkstudios                           1    0.01  0.010000\n",
              "Adventure    Views                                 1    0.01  0.010000\n",
              "\n",
              "[422 rows x 3 columns]"
            ]
          },
          "metadata": {
            "tags": []
          },
          "execution_count": 129
        }
      ]
    },
    {
      "cell_type": "code",
      "metadata": {
        "id": "ZMAhdmY0N-7u"
      },
      "source": [
        ""
      ],
      "execution_count": 129,
      "outputs": []
    },
    {
      "cell_type": "code",
      "metadata": {
        "colab": {
          "base_uri": "https://localhost:8080/",
          "height": 450
        },
        "id": "w05v8P9lN--g",
        "outputId": "50eace2a-e5f1-43a9-a156-449a181ba28a"
      },
      "source": [
        "studios.groupby(['Genre','Publisher']).agg(\n",
        "    contagem = ('Global_Sales','count'), soma = ('Global_Sales','sum'), media = ('Global_Sales','mean')\n",
        "    ).sort_values(by='soma', ascending=False)"
      ],
      "execution_count": 130,
      "outputs": [
        {
          "output_type": "execute_result",
          "data": {
            "text/html": [
              "<div>\n",
              "<style scoped>\n",
              "    .dataframe tbody tr th:only-of-type {\n",
              "        vertical-align: middle;\n",
              "    }\n",
              "\n",
              "    .dataframe tbody tr th {\n",
              "        vertical-align: top;\n",
              "    }\n",
              "\n",
              "    .dataframe thead th {\n",
              "        text-align: right;\n",
              "    }\n",
              "</style>\n",
              "<table border=\"1\" class=\"dataframe\">\n",
              "  <thead>\n",
              "    <tr style=\"text-align: right;\">\n",
              "      <th></th>\n",
              "      <th></th>\n",
              "      <th>contagem</th>\n",
              "      <th>soma</th>\n",
              "      <th>media</th>\n",
              "    </tr>\n",
              "    <tr>\n",
              "      <th>Genre</th>\n",
              "      <th>Publisher</th>\n",
              "      <th></th>\n",
              "      <th></th>\n",
              "      <th></th>\n",
              "    </tr>\n",
              "  </thead>\n",
              "  <tbody>\n",
              "    <tr>\n",
              "      <th>Shooter</th>\n",
              "      <th>Activision</th>\n",
              "      <td>72</td>\n",
              "      <td>245.46</td>\n",
              "      <td>3.409167</td>\n",
              "    </tr>\n",
              "    <tr>\n",
              "      <th>Sports</th>\n",
              "      <th>Electronic Arts</th>\n",
              "      <td>170</td>\n",
              "      <td>203.50</td>\n",
              "      <td>1.197059</td>\n",
              "    </tr>\n",
              "    <tr>\n",
              "      <th rowspan=\"2\" valign=\"top\">Action</th>\n",
              "      <th>Take-Two Interactive</th>\n",
              "      <td>23</td>\n",
              "      <td>106.04</td>\n",
              "      <td>4.610435</td>\n",
              "    </tr>\n",
              "    <tr>\n",
              "      <th>Ubisoft</th>\n",
              "      <td>67</td>\n",
              "      <td>96.44</td>\n",
              "      <td>1.439403</td>\n",
              "    </tr>\n",
              "    <tr>\n",
              "      <th>Shooter</th>\n",
              "      <th>Electronic Arts</th>\n",
              "      <td>50</td>\n",
              "      <td>92.58</td>\n",
              "      <td>1.851600</td>\n",
              "    </tr>\n",
              "    <tr>\n",
              "      <th>...</th>\n",
              "      <th>...</th>\n",
              "      <td>...</td>\n",
              "      <td>...</td>\n",
              "      <td>...</td>\n",
              "    </tr>\n",
              "    <tr>\n",
              "      <th>Adventure</th>\n",
              "      <th>Cave</th>\n",
              "      <td>1</td>\n",
              "      <td>0.01</td>\n",
              "      <td>0.010000</td>\n",
              "    </tr>\n",
              "    <tr>\n",
              "      <th>Role-Playing</th>\n",
              "      <th>TopWare Interactive</th>\n",
              "      <td>1</td>\n",
              "      <td>0.01</td>\n",
              "      <td>0.010000</td>\n",
              "    </tr>\n",
              "    <tr>\n",
              "      <th>Sports</th>\n",
              "      <th>Interworks Unlimited, Inc.</th>\n",
              "      <td>1</td>\n",
              "      <td>0.01</td>\n",
              "      <td>0.010000</td>\n",
              "    </tr>\n",
              "    <tr>\n",
              "      <th>Strategy</th>\n",
              "      <th>Ackkstudios</th>\n",
              "      <td>1</td>\n",
              "      <td>0.01</td>\n",
              "      <td>0.010000</td>\n",
              "    </tr>\n",
              "    <tr>\n",
              "      <th>Adventure</th>\n",
              "      <th>Views</th>\n",
              "      <td>1</td>\n",
              "      <td>0.01</td>\n",
              "      <td>0.010000</td>\n",
              "    </tr>\n",
              "  </tbody>\n",
              "</table>\n",
              "<p>422 rows × 3 columns</p>\n",
              "</div>"
            ],
            "text/plain": [
              "                                         contagem    soma     media\n",
              "Genre        Publisher                                             \n",
              "Shooter      Activision                        72  245.46  3.409167\n",
              "Sports       Electronic Arts                  170  203.50  1.197059\n",
              "Action       Take-Two Interactive              23  106.04  4.610435\n",
              "             Ubisoft                           67   96.44  1.439403\n",
              "Shooter      Electronic Arts                   50   92.58  1.851600\n",
              "...                                           ...     ...       ...\n",
              "Adventure    Cave                               1    0.01  0.010000\n",
              "Role-Playing TopWare Interactive                1    0.01  0.010000\n",
              "Sports       Interworks Unlimited, Inc.         1    0.01  0.010000\n",
              "Strategy     Ackkstudios                        1    0.01  0.010000\n",
              "Adventure    Views                              1    0.01  0.010000\n",
              "\n",
              "[422 rows x 3 columns]"
            ]
          },
          "metadata": {
            "tags": []
          },
          "execution_count": 130
        }
      ]
    },
    {
      "cell_type": "code",
      "metadata": {
        "id": "guE1l2ODN_AV",
        "colab": {
          "base_uri": "https://localhost:8080/",
          "height": 419
        },
        "outputId": "0bfc3e0b-9541-49b3-9cb9-5c274987eb18"
      },
      "source": [
        "games"
      ],
      "execution_count": 131,
      "outputs": [
        {
          "output_type": "execute_result",
          "data": {
            "text/html": [
              "<div>\n",
              "<style scoped>\n",
              "    .dataframe tbody tr th:only-of-type {\n",
              "        vertical-align: middle;\n",
              "    }\n",
              "\n",
              "    .dataframe tbody tr th {\n",
              "        vertical-align: top;\n",
              "    }\n",
              "\n",
              "    .dataframe thead th {\n",
              "        text-align: right;\n",
              "    }\n",
              "</style>\n",
              "<table border=\"1\" class=\"dataframe\">\n",
              "  <thead>\n",
              "    <tr style=\"text-align: right;\">\n",
              "      <th></th>\n",
              "      <th>Name</th>\n",
              "      <th>Platform</th>\n",
              "      <th>Year</th>\n",
              "      <th>Genre</th>\n",
              "      <th>Publisher</th>\n",
              "      <th>NA_Sales</th>\n",
              "      <th>EU_Sales</th>\n",
              "      <th>JP_Sales</th>\n",
              "      <th>Other_Sales</th>\n",
              "      <th>Global_Sales</th>\n",
              "    </tr>\n",
              "  </thead>\n",
              "  <tbody>\n",
              "    <tr>\n",
              "      <th>0</th>\n",
              "      <td>Kinect Adventures!</td>\n",
              "      <td>X360</td>\n",
              "      <td>2010.0</td>\n",
              "      <td>Misc</td>\n",
              "      <td>Microsoft Game Studios</td>\n",
              "      <td>14.97</td>\n",
              "      <td>4.94</td>\n",
              "      <td>0.24</td>\n",
              "      <td>1.67</td>\n",
              "      <td>21.82</td>\n",
              "    </tr>\n",
              "    <tr>\n",
              "      <th>1</th>\n",
              "      <td>Grand Theft Auto V</td>\n",
              "      <td>PS3</td>\n",
              "      <td>2013.0</td>\n",
              "      <td>Action</td>\n",
              "      <td>Take-Two Interactive</td>\n",
              "      <td>7.01</td>\n",
              "      <td>9.27</td>\n",
              "      <td>0.97</td>\n",
              "      <td>4.14</td>\n",
              "      <td>21.40</td>\n",
              "    </tr>\n",
              "    <tr>\n",
              "      <th>2</th>\n",
              "      <td>Grand Theft Auto V</td>\n",
              "      <td>X360</td>\n",
              "      <td>2013.0</td>\n",
              "      <td>Action</td>\n",
              "      <td>Take-Two Interactive</td>\n",
              "      <td>9.63</td>\n",
              "      <td>5.31</td>\n",
              "      <td>0.06</td>\n",
              "      <td>1.38</td>\n",
              "      <td>16.38</td>\n",
              "    </tr>\n",
              "    <tr>\n",
              "      <th>3</th>\n",
              "      <td>Call of Duty: Modern Warfare 3</td>\n",
              "      <td>X360</td>\n",
              "      <td>2011.0</td>\n",
              "      <td>Shooter</td>\n",
              "      <td>Activision</td>\n",
              "      <td>9.03</td>\n",
              "      <td>4.28</td>\n",
              "      <td>0.13</td>\n",
              "      <td>1.32</td>\n",
              "      <td>14.76</td>\n",
              "    </tr>\n",
              "    <tr>\n",
              "      <th>4</th>\n",
              "      <td>Call of Duty: Black Ops</td>\n",
              "      <td>X360</td>\n",
              "      <td>2010.0</td>\n",
              "      <td>Shooter</td>\n",
              "      <td>Activision</td>\n",
              "      <td>9.67</td>\n",
              "      <td>3.73</td>\n",
              "      <td>0.11</td>\n",
              "      <td>1.13</td>\n",
              "      <td>14.64</td>\n",
              "    </tr>\n",
              "    <tr>\n",
              "      <th>...</th>\n",
              "      <td>...</td>\n",
              "      <td>...</td>\n",
              "      <td>...</td>\n",
              "      <td>...</td>\n",
              "      <td>...</td>\n",
              "      <td>...</td>\n",
              "      <td>...</td>\n",
              "      <td>...</td>\n",
              "      <td>...</td>\n",
              "      <td>...</td>\n",
              "    </tr>\n",
              "    <tr>\n",
              "      <th>3138</th>\n",
              "      <td>Bound By Flame</td>\n",
              "      <td>X360</td>\n",
              "      <td>2014.0</td>\n",
              "      <td>Role-Playing</td>\n",
              "      <td>NaN</td>\n",
              "      <td>0.00</td>\n",
              "      <td>0.01</td>\n",
              "      <td>0.00</td>\n",
              "      <td>0.00</td>\n",
              "      <td>0.01</td>\n",
              "    </tr>\n",
              "    <tr>\n",
              "      <th>3139</th>\n",
              "      <td>Mighty No. 9</td>\n",
              "      <td>XOne</td>\n",
              "      <td>2016.0</td>\n",
              "      <td>Platform</td>\n",
              "      <td>Deep Silver</td>\n",
              "      <td>0.01</td>\n",
              "      <td>0.00</td>\n",
              "      <td>0.00</td>\n",
              "      <td>0.00</td>\n",
              "      <td>0.01</td>\n",
              "    </tr>\n",
              "    <tr>\n",
              "      <th>3140</th>\n",
              "      <td>Resident Evil 4 HD</td>\n",
              "      <td>XOne</td>\n",
              "      <td>2016.0</td>\n",
              "      <td>Shooter</td>\n",
              "      <td>Capcom</td>\n",
              "      <td>0.01</td>\n",
              "      <td>0.00</td>\n",
              "      <td>0.00</td>\n",
              "      <td>0.00</td>\n",
              "      <td>0.01</td>\n",
              "    </tr>\n",
              "    <tr>\n",
              "      <th>3141</th>\n",
              "      <td>Farming 2017 - The Simulation</td>\n",
              "      <td>PS4</td>\n",
              "      <td>2016.0</td>\n",
              "      <td>Simulation</td>\n",
              "      <td>UIG Entertainment</td>\n",
              "      <td>0.00</td>\n",
              "      <td>0.01</td>\n",
              "      <td>0.00</td>\n",
              "      <td>0.00</td>\n",
              "      <td>0.01</td>\n",
              "    </tr>\n",
              "    <tr>\n",
              "      <th>3142</th>\n",
              "      <td>Rugby Challenge 3</td>\n",
              "      <td>XOne</td>\n",
              "      <td>2016.0</td>\n",
              "      <td>Sports</td>\n",
              "      <td>Alternative Software</td>\n",
              "      <td>0.00</td>\n",
              "      <td>0.01</td>\n",
              "      <td>0.00</td>\n",
              "      <td>0.00</td>\n",
              "      <td>0.01</td>\n",
              "    </tr>\n",
              "  </tbody>\n",
              "</table>\n",
              "<p>3143 rows × 10 columns</p>\n",
              "</div>"
            ],
            "text/plain": [
              "                                Name Platform  ...  Other_Sales Global_Sales\n",
              "0                 Kinect Adventures!     X360  ...         1.67        21.82\n",
              "1                 Grand Theft Auto V      PS3  ...         4.14        21.40\n",
              "2                 Grand Theft Auto V     X360  ...         1.38        16.38\n",
              "3     Call of Duty: Modern Warfare 3     X360  ...         1.32        14.76\n",
              "4            Call of Duty: Black Ops     X360  ...         1.13        14.64\n",
              "...                              ...      ...  ...          ...          ...\n",
              "3138                  Bound By Flame     X360  ...         0.00         0.01\n",
              "3139                    Mighty No. 9     XOne  ...         0.00         0.01\n",
              "3140              Resident Evil 4 HD     XOne  ...         0.00         0.01\n",
              "3141   Farming 2017 - The Simulation      PS4  ...         0.00         0.01\n",
              "3142               Rugby Challenge 3     XOne  ...         0.00         0.01\n",
              "\n",
              "[3143 rows x 10 columns]"
            ]
          },
          "metadata": {
            "tags": []
          },
          "execution_count": 131
        }
      ]
    },
    {
      "cell_type": "code",
      "metadata": {
        "id": "-2o2wBBMI5eD"
      },
      "source": [
        "ps3 = games.loc[games.Platform == 'PS3', \n",
        "          ['Name','Genre','EU_Sales','Global_Sales']] # Usando a função LOC nos permite inclusive escolher quais data trabalhar"
      ],
      "execution_count": 132,
      "outputs": []
    },
    {
      "cell_type": "code",
      "metadata": {
        "id": "HGOan73RI5gi",
        "colab": {
          "base_uri": "https://localhost:8080/",
          "height": 419
        },
        "outputId": "df6bce72-fc56-4b76-f3f9-830e07c6b22b"
      },
      "source": [
        "ps3"
      ],
      "execution_count": 133,
      "outputs": [
        {
          "output_type": "execute_result",
          "data": {
            "text/html": [
              "<div>\n",
              "<style scoped>\n",
              "    .dataframe tbody tr th:only-of-type {\n",
              "        vertical-align: middle;\n",
              "    }\n",
              "\n",
              "    .dataframe tbody tr th {\n",
              "        vertical-align: top;\n",
              "    }\n",
              "\n",
              "    .dataframe thead th {\n",
              "        text-align: right;\n",
              "    }\n",
              "</style>\n",
              "<table border=\"1\" class=\"dataframe\">\n",
              "  <thead>\n",
              "    <tr style=\"text-align: right;\">\n",
              "      <th></th>\n",
              "      <th>Name</th>\n",
              "      <th>Genre</th>\n",
              "      <th>EU_Sales</th>\n",
              "      <th>Global_Sales</th>\n",
              "    </tr>\n",
              "  </thead>\n",
              "  <tbody>\n",
              "    <tr>\n",
              "      <th>1</th>\n",
              "      <td>Grand Theft Auto V</td>\n",
              "      <td>Action</td>\n",
              "      <td>9.27</td>\n",
              "      <td>21.40</td>\n",
              "    </tr>\n",
              "    <tr>\n",
              "      <th>6</th>\n",
              "      <td>Call of Duty: Black Ops II</td>\n",
              "      <td>Shooter</td>\n",
              "      <td>5.88</td>\n",
              "      <td>14.03</td>\n",
              "    </tr>\n",
              "    <tr>\n",
              "      <th>9</th>\n",
              "      <td>Call of Duty: Modern Warfare 3</td>\n",
              "      <td>Shooter</td>\n",
              "      <td>5.82</td>\n",
              "      <td>13.46</td>\n",
              "    </tr>\n",
              "    <tr>\n",
              "      <th>10</th>\n",
              "      <td>Call of Duty: Black Ops</td>\n",
              "      <td>Shooter</td>\n",
              "      <td>4.44</td>\n",
              "      <td>12.73</td>\n",
              "    </tr>\n",
              "    <tr>\n",
              "      <th>14</th>\n",
              "      <td>Gran Turismo 5</td>\n",
              "      <td>Racing</td>\n",
              "      <td>4.88</td>\n",
              "      <td>10.77</td>\n",
              "    </tr>\n",
              "    <tr>\n",
              "      <th>...</th>\n",
              "      <td>...</td>\n",
              "      <td>...</td>\n",
              "      <td>...</td>\n",
              "      <td>...</td>\n",
              "    </tr>\n",
              "    <tr>\n",
              "      <th>3124</th>\n",
              "      <td>Hyperdimension Neptunia mk2</td>\n",
              "      <td>Action</td>\n",
              "      <td>0.01</td>\n",
              "      <td>0.01</td>\n",
              "    </tr>\n",
              "    <tr>\n",
              "      <th>3125</th>\n",
              "      <td>Shin Koihime Musou: Otome Taisen * Sangokushi ...</td>\n",
              "      <td>Adventure</td>\n",
              "      <td>0.00</td>\n",
              "      <td>0.01</td>\n",
              "    </tr>\n",
              "    <tr>\n",
              "      <th>3129</th>\n",
              "      <td>Muv-Luv Alternative</td>\n",
              "      <td>Simulation</td>\n",
              "      <td>0.00</td>\n",
              "      <td>0.01</td>\n",
              "    </tr>\n",
              "    <tr>\n",
              "      <th>3132</th>\n",
              "      <td>Akatsuki no Goei Trinity</td>\n",
              "      <td>Adventure</td>\n",
              "      <td>0.00</td>\n",
              "      <td>0.01</td>\n",
              "    </tr>\n",
              "    <tr>\n",
              "      <th>3136</th>\n",
              "      <td>Battle Fantasia</td>\n",
              "      <td>Fighting</td>\n",
              "      <td>0.00</td>\n",
              "      <td>0.01</td>\n",
              "    </tr>\n",
              "  </tbody>\n",
              "</table>\n",
              "<p>1329 rows × 4 columns</p>\n",
              "</div>"
            ],
            "text/plain": [
              "                                                   Name  ... Global_Sales\n",
              "1                                    Grand Theft Auto V  ...        21.40\n",
              "6                            Call of Duty: Black Ops II  ...        14.03\n",
              "9                        Call of Duty: Modern Warfare 3  ...        13.46\n",
              "10                              Call of Duty: Black Ops  ...        12.73\n",
              "14                                       Gran Turismo 5  ...        10.77\n",
              "...                                                 ...  ...          ...\n",
              "3124                        Hyperdimension Neptunia mk2  ...         0.01\n",
              "3125  Shin Koihime Musou: Otome Taisen * Sangokushi ...  ...         0.01\n",
              "3129                                Muv-Luv Alternative  ...         0.01\n",
              "3132                           Akatsuki no Goei Trinity  ...         0.01\n",
              "3136                                    Battle Fantasia  ...         0.01\n",
              "\n",
              "[1329 rows x 4 columns]"
            ]
          },
          "metadata": {
            "tags": []
          },
          "execution_count": 133
        }
      ]
    },
    {
      "cell_type": "code",
      "metadata": {
        "colab": {
          "base_uri": "https://localhost:8080/"
        },
        "id": "ZApYrX5_lgog",
        "outputId": "8bf6b634-870d-41b6-8961-c2bd8e593780"
      },
      "source": [
        "ps3.groupby('Genre').apply(lambda x:'Solid' if x.EU_Sales.sum()>50 else 'weak')"
      ],
      "execution_count": 134,
      "outputs": [
        {
          "output_type": "execute_result",
          "data": {
            "text/plain": [
              "Genre\n",
              "Action          Solid\n",
              "Adventure        weak\n",
              "Fighting         weak\n",
              "Misc             weak\n",
              "Platform         weak\n",
              "Puzzle           weak\n",
              "Racing           weak\n",
              "Role-Playing     weak\n",
              "Shooter         Solid\n",
              "Simulation       weak\n",
              "Sports           weak\n",
              "Strategy         weak\n",
              "dtype: object"
            ]
          },
          "metadata": {
            "tags": []
          },
          "execution_count": 134
        }
      ]
    },
    {
      "cell_type": "code",
      "metadata": {
        "colab": {
          "base_uri": "https://localhost:8080/",
          "height": 173
        },
        "id": "nBk3qqhplgrL",
        "outputId": "896d349c-953e-45a8-be2f-eb0b8f1092d5"
      },
      "source": [
        "games.groupby('Year').agg('sum').sort_values(by='Global_Sales', ascending=False).head(3)"
      ],
      "execution_count": 135,
      "outputs": [
        {
          "output_type": "execute_result",
          "data": {
            "text/html": [
              "<div>\n",
              "<style scoped>\n",
              "    .dataframe tbody tr th:only-of-type {\n",
              "        vertical-align: middle;\n",
              "    }\n",
              "\n",
              "    .dataframe tbody tr th {\n",
              "        vertical-align: top;\n",
              "    }\n",
              "\n",
              "    .dataframe thead th {\n",
              "        text-align: right;\n",
              "    }\n",
              "</style>\n",
              "<table border=\"1\" class=\"dataframe\">\n",
              "  <thead>\n",
              "    <tr style=\"text-align: right;\">\n",
              "      <th></th>\n",
              "      <th>NA_Sales</th>\n",
              "      <th>EU_Sales</th>\n",
              "      <th>JP_Sales</th>\n",
              "      <th>Other_Sales</th>\n",
              "      <th>Global_Sales</th>\n",
              "    </tr>\n",
              "    <tr>\n",
              "      <th>Year</th>\n",
              "      <th></th>\n",
              "      <th></th>\n",
              "      <th></th>\n",
              "      <th></th>\n",
              "      <th></th>\n",
              "    </tr>\n",
              "  </thead>\n",
              "  <tbody>\n",
              "    <tr>\n",
              "      <th>2010.0</th>\n",
              "      <td>168.13</td>\n",
              "      <td>99.57</td>\n",
              "      <td>11.98</td>\n",
              "      <td>35.65</td>\n",
              "      <td>315.47</td>\n",
              "    </tr>\n",
              "    <tr>\n",
              "      <th>2011.0</th>\n",
              "      <td>151.50</td>\n",
              "      <td>101.96</td>\n",
              "      <td>15.88</td>\n",
              "      <td>35.11</td>\n",
              "      <td>304.49</td>\n",
              "    </tr>\n",
              "    <tr>\n",
              "      <th>2008.0</th>\n",
              "      <td>139.62</td>\n",
              "      <td>78.35</td>\n",
              "      <td>7.72</td>\n",
              "      <td>29.77</td>\n",
              "      <td>255.45</td>\n",
              "    </tr>\n",
              "  </tbody>\n",
              "</table>\n",
              "</div>"
            ],
            "text/plain": [
              "        NA_Sales  EU_Sales  JP_Sales  Other_Sales  Global_Sales\n",
              "Year                                                           \n",
              "2010.0    168.13     99.57     11.98        35.65        315.47\n",
              "2011.0    151.50    101.96     15.88        35.11        304.49\n",
              "2008.0    139.62     78.35      7.72        29.77        255.45"
            ]
          },
          "metadata": {
            "tags": []
          },
          "execution_count": 135
        }
      ]
    },
    {
      "cell_type": "code",
      "metadata": {
        "colab": {
          "base_uri": "https://localhost:8080/",
          "height": 450
        },
        "id": "zlb4ACz1lguZ",
        "outputId": "b9b24e01-9ecb-45e8-83db-79018698096a"
      },
      "source": [
        "games.groupby(['Genre','Year','Platform']).agg('sum')"
      ],
      "execution_count": 136,
      "outputs": [
        {
          "output_type": "execute_result",
          "data": {
            "text/html": [
              "<div>\n",
              "<style scoped>\n",
              "    .dataframe tbody tr th:only-of-type {\n",
              "        vertical-align: middle;\n",
              "    }\n",
              "\n",
              "    .dataframe tbody tr th {\n",
              "        vertical-align: top;\n",
              "    }\n",
              "\n",
              "    .dataframe thead th {\n",
              "        text-align: right;\n",
              "    }\n",
              "</style>\n",
              "<table border=\"1\" class=\"dataframe\">\n",
              "  <thead>\n",
              "    <tr style=\"text-align: right;\">\n",
              "      <th></th>\n",
              "      <th></th>\n",
              "      <th></th>\n",
              "      <th>NA_Sales</th>\n",
              "      <th>EU_Sales</th>\n",
              "      <th>JP_Sales</th>\n",
              "      <th>Other_Sales</th>\n",
              "      <th>Global_Sales</th>\n",
              "    </tr>\n",
              "    <tr>\n",
              "      <th>Genre</th>\n",
              "      <th>Year</th>\n",
              "      <th>Platform</th>\n",
              "      <th></th>\n",
              "      <th></th>\n",
              "      <th></th>\n",
              "      <th></th>\n",
              "      <th></th>\n",
              "    </tr>\n",
              "  </thead>\n",
              "  <tbody>\n",
              "    <tr>\n",
              "      <th rowspan=\"5\" valign=\"top\">Action</th>\n",
              "      <th>2005.0</th>\n",
              "      <th>X360</th>\n",
              "      <td>1.05</td>\n",
              "      <td>0.10</td>\n",
              "      <td>0.01</td>\n",
              "      <td>0.10</td>\n",
              "      <td>1.26</td>\n",
              "    </tr>\n",
              "    <tr>\n",
              "      <th rowspan=\"2\" valign=\"top\">2006.0</th>\n",
              "      <th>PS3</th>\n",
              "      <td>0.18</td>\n",
              "      <td>0.38</td>\n",
              "      <td>0.22</td>\n",
              "      <td>0.14</td>\n",
              "      <td>0.92</td>\n",
              "    </tr>\n",
              "    <tr>\n",
              "      <th>X360</th>\n",
              "      <td>5.93</td>\n",
              "      <td>1.86</td>\n",
              "      <td>0.25</td>\n",
              "      <td>0.76</td>\n",
              "      <td>8.77</td>\n",
              "    </tr>\n",
              "    <tr>\n",
              "      <th rowspan=\"2\" valign=\"top\">2007.0</th>\n",
              "      <th>PS3</th>\n",
              "      <td>7.69</td>\n",
              "      <td>5.68</td>\n",
              "      <td>1.22</td>\n",
              "      <td>2.54</td>\n",
              "      <td>17.12</td>\n",
              "    </tr>\n",
              "    <tr>\n",
              "      <th>X360</th>\n",
              "      <td>7.89</td>\n",
              "      <td>2.12</td>\n",
              "      <td>0.10</td>\n",
              "      <td>0.96</td>\n",
              "      <td>11.09</td>\n",
              "    </tr>\n",
              "    <tr>\n",
              "      <th>...</th>\n",
              "      <th>...</th>\n",
              "      <th>...</th>\n",
              "      <td>...</td>\n",
              "      <td>...</td>\n",
              "      <td>...</td>\n",
              "      <td>...</td>\n",
              "      <td>...</td>\n",
              "    </tr>\n",
              "    <tr>\n",
              "      <th rowspan=\"5\" valign=\"top\">Strategy</th>\n",
              "      <th>2014.0</th>\n",
              "      <th>PS4</th>\n",
              "      <td>0.03</td>\n",
              "      <td>0.00</td>\n",
              "      <td>0.06</td>\n",
              "      <td>0.01</td>\n",
              "      <td>0.10</td>\n",
              "    </tr>\n",
              "    <tr>\n",
              "      <th rowspan=\"2\" valign=\"top\">2015.0</th>\n",
              "      <th>PS4</th>\n",
              "      <td>0.00</td>\n",
              "      <td>0.05</td>\n",
              "      <td>0.01</td>\n",
              "      <td>0.01</td>\n",
              "      <td>0.07</td>\n",
              "    </tr>\n",
              "    <tr>\n",
              "      <th>XOne</th>\n",
              "      <td>0.14</td>\n",
              "      <td>0.05</td>\n",
              "      <td>0.00</td>\n",
              "      <td>0.02</td>\n",
              "      <td>0.20</td>\n",
              "    </tr>\n",
              "    <tr>\n",
              "      <th rowspan=\"2\" valign=\"top\">2016.0</th>\n",
              "      <th>PS4</th>\n",
              "      <td>0.01</td>\n",
              "      <td>0.02</td>\n",
              "      <td>0.00</td>\n",
              "      <td>0.01</td>\n",
              "      <td>0.04</td>\n",
              "    </tr>\n",
              "    <tr>\n",
              "      <th>XOne</th>\n",
              "      <td>0.01</td>\n",
              "      <td>0.01</td>\n",
              "      <td>0.00</td>\n",
              "      <td>0.00</td>\n",
              "      <td>0.02</td>\n",
              "    </tr>\n",
              "  </tbody>\n",
              "</table>\n",
              "<p>307 rows × 5 columns</p>\n",
              "</div>"
            ],
            "text/plain": [
              "                          NA_Sales  EU_Sales  ...  Other_Sales  Global_Sales\n",
              "Genre    Year   Platform                      ...                           \n",
              "Action   2005.0 X360          1.05      0.10  ...         0.10          1.26\n",
              "         2006.0 PS3           0.18      0.38  ...         0.14          0.92\n",
              "                X360          5.93      1.86  ...         0.76          8.77\n",
              "         2007.0 PS3           7.69      5.68  ...         2.54         17.12\n",
              "                X360          7.89      2.12  ...         0.96         11.09\n",
              "...                            ...       ...  ...          ...           ...\n",
              "Strategy 2014.0 PS4           0.03      0.00  ...         0.01          0.10\n",
              "         2015.0 PS4           0.00      0.05  ...         0.01          0.07\n",
              "                XOne          0.14      0.05  ...         0.02          0.20\n",
              "         2016.0 PS4           0.01      0.02  ...         0.01          0.04\n",
              "                XOne          0.01      0.01  ...         0.00          0.02\n",
              "\n",
              "[307 rows x 5 columns]"
            ]
          },
          "metadata": {
            "tags": []
          },
          "execution_count": 136
        }
      ]
    },
    {
      "cell_type": "code",
      "metadata": {
        "colab": {
          "base_uri": "https://localhost:8080/",
          "height": 390
        },
        "id": "_Pz35iM-lgwH",
        "outputId": "11c067fb-0ccf-471b-de84-de2d3c90f09f"
      },
      "source": [
        "games.groupby(['Genre','Year','Platform']).agg('sum').sort_values(by='EU_Sales', ascending=False).head(10)"
      ],
      "execution_count": 137,
      "outputs": [
        {
          "output_type": "execute_result",
          "data": {
            "text/html": [
              "<div>\n",
              "<style scoped>\n",
              "    .dataframe tbody tr th:only-of-type {\n",
              "        vertical-align: middle;\n",
              "    }\n",
              "\n",
              "    .dataframe tbody tr th {\n",
              "        vertical-align: top;\n",
              "    }\n",
              "\n",
              "    .dataframe thead th {\n",
              "        text-align: right;\n",
              "    }\n",
              "</style>\n",
              "<table border=\"1\" class=\"dataframe\">\n",
              "  <thead>\n",
              "    <tr style=\"text-align: right;\">\n",
              "      <th></th>\n",
              "      <th></th>\n",
              "      <th></th>\n",
              "      <th>NA_Sales</th>\n",
              "      <th>EU_Sales</th>\n",
              "      <th>JP_Sales</th>\n",
              "      <th>Other_Sales</th>\n",
              "      <th>Global_Sales</th>\n",
              "    </tr>\n",
              "    <tr>\n",
              "      <th>Genre</th>\n",
              "      <th>Year</th>\n",
              "      <th>Platform</th>\n",
              "      <th></th>\n",
              "      <th></th>\n",
              "      <th></th>\n",
              "      <th></th>\n",
              "      <th></th>\n",
              "    </tr>\n",
              "  </thead>\n",
              "  <tbody>\n",
              "    <tr>\n",
              "      <th rowspan=\"4\" valign=\"top\">Action</th>\n",
              "      <th>2013.0</th>\n",
              "      <th>PS3</th>\n",
              "      <td>18.47</td>\n",
              "      <td>21.72</td>\n",
              "      <td>4.95</td>\n",
              "      <td>9.34</td>\n",
              "      <td>54.44</td>\n",
              "    </tr>\n",
              "    <tr>\n",
              "      <th>2014.0</th>\n",
              "      <th>PS4</th>\n",
              "      <td>14.68</td>\n",
              "      <td>19.18</td>\n",
              "      <td>1.63</td>\n",
              "      <td>7.36</td>\n",
              "      <td>42.84</td>\n",
              "    </tr>\n",
              "    <tr>\n",
              "      <th>2012.0</th>\n",
              "      <th>PS3</th>\n",
              "      <td>16.27</td>\n",
              "      <td>17.37</td>\n",
              "      <td>4.35</td>\n",
              "      <td>7.46</td>\n",
              "      <td>45.45</td>\n",
              "    </tr>\n",
              "    <tr>\n",
              "      <th>2011.0</th>\n",
              "      <th>PS3</th>\n",
              "      <td>16.66</td>\n",
              "      <td>16.49</td>\n",
              "      <td>5.05</td>\n",
              "      <td>6.37</td>\n",
              "      <td>44.59</td>\n",
              "    </tr>\n",
              "    <tr>\n",
              "      <th rowspan=\"3\" valign=\"top\">Shooter</th>\n",
              "      <th>2011.0</th>\n",
              "      <th>PS3</th>\n",
              "      <td>16.83</td>\n",
              "      <td>15.98</td>\n",
              "      <td>1.88</td>\n",
              "      <td>5.59</td>\n",
              "      <td>40.25</td>\n",
              "    </tr>\n",
              "    <tr>\n",
              "      <th>2015.0</th>\n",
              "      <th>PS4</th>\n",
              "      <td>12.18</td>\n",
              "      <td>13.76</td>\n",
              "      <td>1.02</td>\n",
              "      <td>5.13</td>\n",
              "      <td>32.09</td>\n",
              "    </tr>\n",
              "    <tr>\n",
              "      <th>2011.0</th>\n",
              "      <th>X360</th>\n",
              "      <td>27.59</td>\n",
              "      <td>13.62</td>\n",
              "      <td>0.55</td>\n",
              "      <td>4.02</td>\n",
              "      <td>45.81</td>\n",
              "    </tr>\n",
              "    <tr>\n",
              "      <th rowspan=\"3\" valign=\"top\">Action</th>\n",
              "      <th>2010.0</th>\n",
              "      <th>PS3</th>\n",
              "      <td>17.89</td>\n",
              "      <td>13.55</td>\n",
              "      <td>2.72</td>\n",
              "      <td>5.58</td>\n",
              "      <td>39.82</td>\n",
              "    </tr>\n",
              "    <tr>\n",
              "      <th>2009.0</th>\n",
              "      <th>PS3</th>\n",
              "      <td>21.03</td>\n",
              "      <td>13.47</td>\n",
              "      <td>3.46</td>\n",
              "      <td>6.22</td>\n",
              "      <td>44.18</td>\n",
              "    </tr>\n",
              "    <tr>\n",
              "      <th>2015.0</th>\n",
              "      <th>PS4</th>\n",
              "      <td>10.74</td>\n",
              "      <td>13.46</td>\n",
              "      <td>2.81</td>\n",
              "      <td>4.72</td>\n",
              "      <td>31.76</td>\n",
              "    </tr>\n",
              "  </tbody>\n",
              "</table>\n",
              "</div>"
            ],
            "text/plain": [
              "                         NA_Sales  EU_Sales  ...  Other_Sales  Global_Sales\n",
              "Genre   Year   Platform                      ...                           \n",
              "Action  2013.0 PS3          18.47     21.72  ...         9.34         54.44\n",
              "        2014.0 PS4          14.68     19.18  ...         7.36         42.84\n",
              "        2012.0 PS3          16.27     17.37  ...         7.46         45.45\n",
              "        2011.0 PS3          16.66     16.49  ...         6.37         44.59\n",
              "Shooter 2011.0 PS3          16.83     15.98  ...         5.59         40.25\n",
              "        2015.0 PS4          12.18     13.76  ...         5.13         32.09\n",
              "        2011.0 X360         27.59     13.62  ...         4.02         45.81\n",
              "Action  2010.0 PS3          17.89     13.55  ...         5.58         39.82\n",
              "        2009.0 PS3          21.03     13.47  ...         6.22         44.18\n",
              "        2015.0 PS4          10.74     13.46  ...         4.72         31.76\n",
              "\n",
              "[10 rows x 5 columns]"
            ]
          },
          "metadata": {
            "tags": []
          },
          "execution_count": 137
        }
      ]
    },
    {
      "cell_type": "code",
      "metadata": {
        "colab": {
          "base_uri": "https://localhost:8080/",
          "height": 204
        },
        "id": "gGubw6YuUvQA",
        "outputId": "fe22cfc6-a0db-4a9e-e17b-75f955ddd019"
      },
      "source": [
        "games.groupby(['Platform','Genre']).filter(lambda x: x.JP_Sales.sum()> x.NA_Sales.sum())"
      ],
      "execution_count": 138,
      "outputs": [
        {
          "output_type": "execute_result",
          "data": {
            "text/html": [
              "<div>\n",
              "<style scoped>\n",
              "    .dataframe tbody tr th:only-of-type {\n",
              "        vertical-align: middle;\n",
              "    }\n",
              "\n",
              "    .dataframe tbody tr th {\n",
              "        vertical-align: top;\n",
              "    }\n",
              "\n",
              "    .dataframe thead th {\n",
              "        text-align: right;\n",
              "    }\n",
              "</style>\n",
              "<table border=\"1\" class=\"dataframe\">\n",
              "  <thead>\n",
              "    <tr style=\"text-align: right;\">\n",
              "      <th></th>\n",
              "      <th>Name</th>\n",
              "      <th>Platform</th>\n",
              "      <th>Year</th>\n",
              "      <th>Genre</th>\n",
              "      <th>Publisher</th>\n",
              "      <th>NA_Sales</th>\n",
              "      <th>EU_Sales</th>\n",
              "      <th>JP_Sales</th>\n",
              "      <th>Other_Sales</th>\n",
              "      <th>Global_Sales</th>\n",
              "    </tr>\n",
              "  </thead>\n",
              "  <tbody>\n",
              "    <tr>\n",
              "      <th>1373</th>\n",
              "      <td>Farming Simulator 2015</td>\n",
              "      <td>PS4</td>\n",
              "      <td>2015.0</td>\n",
              "      <td>Simulation</td>\n",
              "      <td>Koch Media</td>\n",
              "      <td>0.10</td>\n",
              "      <td>0.20</td>\n",
              "      <td>0.00</td>\n",
              "      <td>0.05</td>\n",
              "      <td>0.35</td>\n",
              "    </tr>\n",
              "    <tr>\n",
              "      <th>1490</th>\n",
              "      <td>Tropico 5</td>\n",
              "      <td>PS4</td>\n",
              "      <td>2015.0</td>\n",
              "      <td>Simulation</td>\n",
              "      <td>Kalypso Media</td>\n",
              "      <td>0.05</td>\n",
              "      <td>0.16</td>\n",
              "      <td>0.05</td>\n",
              "      <td>0.04</td>\n",
              "      <td>0.30</td>\n",
              "    </tr>\n",
              "    <tr>\n",
              "      <th>2420</th>\n",
              "      <td>The Idolmaster: Platinum Stars</td>\n",
              "      <td>PS4</td>\n",
              "      <td>2016.0</td>\n",
              "      <td>Simulation</td>\n",
              "      <td>Namco Bandai Games</td>\n",
              "      <td>0.00</td>\n",
              "      <td>0.00</td>\n",
              "      <td>0.09</td>\n",
              "      <td>0.00</td>\n",
              "      <td>0.09</td>\n",
              "    </tr>\n",
              "    <tr>\n",
              "      <th>3021</th>\n",
              "      <td>Winning Post 8 2016</td>\n",
              "      <td>PS4</td>\n",
              "      <td>2016.0</td>\n",
              "      <td>Simulation</td>\n",
              "      <td>Tecmo Koei</td>\n",
              "      <td>0.00</td>\n",
              "      <td>0.00</td>\n",
              "      <td>0.02</td>\n",
              "      <td>0.00</td>\n",
              "      <td>0.02</td>\n",
              "    </tr>\n",
              "    <tr>\n",
              "      <th>3141</th>\n",
              "      <td>Farming 2017 - The Simulation</td>\n",
              "      <td>PS4</td>\n",
              "      <td>2016.0</td>\n",
              "      <td>Simulation</td>\n",
              "      <td>UIG Entertainment</td>\n",
              "      <td>0.00</td>\n",
              "      <td>0.01</td>\n",
              "      <td>0.00</td>\n",
              "      <td>0.00</td>\n",
              "      <td>0.01</td>\n",
              "    </tr>\n",
              "  </tbody>\n",
              "</table>\n",
              "</div>"
            ],
            "text/plain": [
              "                                Name Platform  ...  Other_Sales Global_Sales\n",
              "1373          Farming Simulator 2015      PS4  ...         0.05         0.35\n",
              "1490                       Tropico 5      PS4  ...         0.04         0.30\n",
              "2420  The Idolmaster: Platinum Stars      PS4  ...         0.00         0.09\n",
              "3021             Winning Post 8 2016      PS4  ...         0.00         0.02\n",
              "3141   Farming 2017 - The Simulation      PS4  ...         0.00         0.01\n",
              "\n",
              "[5 rows x 10 columns]"
            ]
          },
          "metadata": {
            "tags": []
          },
          "execution_count": 138
        }
      ]
    },
    {
      "cell_type": "code",
      "metadata": {
        "colab": {
          "base_uri": "https://localhost:8080/"
        },
        "id": "RUtZO5igUvWi",
        "outputId": "b8219c11-45ae-4b5a-c6ed-10506f960d66"
      },
      "source": [
        "games.info()"
      ],
      "execution_count": 139,
      "outputs": [
        {
          "output_type": "stream",
          "text": [
            "<class 'pandas.core.frame.DataFrame'>\n",
            "RangeIndex: 3143 entries, 0 to 3142\n",
            "Data columns (total 10 columns):\n",
            " #   Column        Non-Null Count  Dtype  \n",
            "---  ------        --------------  -----  \n",
            " 0   Name          3143 non-null   object \n",
            " 1   Platform      3143 non-null   object \n",
            " 2   Year          3088 non-null   float64\n",
            " 3   Genre         3143 non-null   object \n",
            " 4   Publisher     3136 non-null   object \n",
            " 5   NA_Sales      3143 non-null   float64\n",
            " 6   EU_Sales      3143 non-null   float64\n",
            " 7   JP_Sales      3143 non-null   float64\n",
            " 8   Other_Sales   3143 non-null   float64\n",
            " 9   Global_Sales  3143 non-null   float64\n",
            "dtypes: float64(6), object(4)\n",
            "memory usage: 245.7+ KB\n"
          ],
          "name": "stdout"
        }
      ]
    },
    {
      "cell_type": "code",
      "metadata": {
        "colab": {
          "base_uri": "https://localhost:8080/"
        },
        "id": "VJmbCxJXUvYq",
        "outputId": "cface53c-c04e-4c38-8ead-e66524371b7d"
      },
      "source": [
        "games[games.Year.isnull()].shape"
      ],
      "execution_count": 140,
      "outputs": [
        {
          "output_type": "execute_result",
          "data": {
            "text/plain": [
              "(55, 10)"
            ]
          },
          "metadata": {
            "tags": []
          },
          "execution_count": 140
        }
      ]
    },
    {
      "cell_type": "code",
      "metadata": {
        "colab": {
          "base_uri": "https://localhost:8080/"
        },
        "id": "zrLWbVPSUvbL",
        "outputId": "a208046c-f3c6-40e7-8e0c-8862d622f01e"
      },
      "source": [
        "games[games.Publisher.isnull()].shape"
      ],
      "execution_count": 141,
      "outputs": [
        {
          "output_type": "execute_result",
          "data": {
            "text/plain": [
              "(7, 10)"
            ]
          },
          "metadata": {
            "tags": []
          },
          "execution_count": 141
        }
      ]
    },
    {
      "cell_type": "code",
      "metadata": {
        "id": "BCDQ7JClUvdk",
        "colab": {
          "base_uri": "https://localhost:8080/"
        },
        "outputId": "2e8715f2-27ab-46ee-a885-bde3e808d3d6"
      },
      "source": [
        "games.isna().sum()   # Encontrar a quantidade de NA's por coluna"
      ],
      "execution_count": 142,
      "outputs": [
        {
          "output_type": "execute_result",
          "data": {
            "text/plain": [
              "Name             0\n",
              "Platform         0\n",
              "Year            55\n",
              "Genre            0\n",
              "Publisher        7\n",
              "NA_Sales         0\n",
              "EU_Sales         0\n",
              "JP_Sales         0\n",
              "Other_Sales      0\n",
              "Global_Sales     0\n",
              "dtype: int64"
            ]
          },
          "metadata": {
            "tags": []
          },
          "execution_count": 142
        }
      ]
    },
    {
      "cell_type": "code",
      "metadata": {
        "id": "mIHxnEdLUO7K",
        "colab": {
          "base_uri": "https://localhost:8080/"
        },
        "outputId": "fcaeea18-8fe3-4877-90f8-cbb928b51981"
      },
      "source": [
        "games.Name.unique().shape"
      ],
      "execution_count": 143,
      "outputs": [
        {
          "output_type": "execute_result",
          "data": {
            "text/plain": [
              "(1931,)"
            ]
          },
          "metadata": {
            "tags": []
          },
          "execution_count": 143
        }
      ]
    },
    {
      "cell_type": "code",
      "metadata": {
        "colab": {
          "base_uri": "https://localhost:8080/",
          "height": 173
        },
        "id": "EEzGA4CVTrDm",
        "outputId": "b927954c-b02c-4963-939b-ba693cce5055"
      },
      "source": [
        "games[games.Name == 'FIFA 15']"
      ],
      "execution_count": 147,
      "outputs": [
        {
          "output_type": "execute_result",
          "data": {
            "text/html": [
              "<div>\n",
              "<style scoped>\n",
              "    .dataframe tbody tr th:only-of-type {\n",
              "        vertical-align: middle;\n",
              "    }\n",
              "\n",
              "    .dataframe tbody tr th {\n",
              "        vertical-align: top;\n",
              "    }\n",
              "\n",
              "    .dataframe thead th {\n",
              "        text-align: right;\n",
              "    }\n",
              "</style>\n",
              "<table border=\"1\" class=\"dataframe\">\n",
              "  <thead>\n",
              "    <tr style=\"text-align: right;\">\n",
              "      <th></th>\n",
              "      <th>Name</th>\n",
              "      <th>Platform</th>\n",
              "      <th>Year</th>\n",
              "      <th>Genre</th>\n",
              "      <th>Publisher</th>\n",
              "      <th>NA_Sales</th>\n",
              "      <th>EU_Sales</th>\n",
              "      <th>JP_Sales</th>\n",
              "      <th>Other_Sales</th>\n",
              "      <th>Global_Sales</th>\n",
              "    </tr>\n",
              "  </thead>\n",
              "  <tbody>\n",
              "    <tr>\n",
              "      <th>40</th>\n",
              "      <td>FIFA 15</td>\n",
              "      <td>PS4</td>\n",
              "      <td>2014.0</td>\n",
              "      <td>Sports</td>\n",
              "      <td>Electronic Arts</td>\n",
              "      <td>0.79</td>\n",
              "      <td>4.29</td>\n",
              "      <td>0.05</td>\n",
              "      <td>1.47</td>\n",
              "      <td>6.59</td>\n",
              "    </tr>\n",
              "    <tr>\n",
              "      <th>71</th>\n",
              "      <td>FIFA 15</td>\n",
              "      <td>PS3</td>\n",
              "      <td>2014.0</td>\n",
              "      <td>Sports</td>\n",
              "      <td>Electronic Arts</td>\n",
              "      <td>0.57</td>\n",
              "      <td>3.14</td>\n",
              "      <td>0.04</td>\n",
              "      <td>1.07</td>\n",
              "      <td>4.82</td>\n",
              "    </tr>\n",
              "    <tr>\n",
              "      <th>141</th>\n",
              "      <td>FIFA 15</td>\n",
              "      <td>X360</td>\n",
              "      <td>2014.0</td>\n",
              "      <td>Sports</td>\n",
              "      <td>Electronic Arts</td>\n",
              "      <td>0.78</td>\n",
              "      <td>2.02</td>\n",
              "      <td>0.00</td>\n",
              "      <td>0.30</td>\n",
              "      <td>3.11</td>\n",
              "    </tr>\n",
              "    <tr>\n",
              "      <th>246</th>\n",
              "      <td>FIFA 15</td>\n",
              "      <td>XOne</td>\n",
              "      <td>2014.0</td>\n",
              "      <td>Sports</td>\n",
              "      <td>Electronic Arts</td>\n",
              "      <td>0.60</td>\n",
              "      <td>1.41</td>\n",
              "      <td>0.00</td>\n",
              "      <td>0.14</td>\n",
              "      <td>2.15</td>\n",
              "    </tr>\n",
              "  </tbody>\n",
              "</table>\n",
              "</div>"
            ],
            "text/plain": [
              "        Name Platform    Year  ... JP_Sales Other_Sales  Global_Sales\n",
              "40   FIFA 15      PS4  2014.0  ...     0.05        1.47          6.59\n",
              "71   FIFA 15      PS3  2014.0  ...     0.04        1.07          4.82\n",
              "141  FIFA 15     X360  2014.0  ...     0.00        0.30          3.11\n",
              "246  FIFA 15     XOne  2014.0  ...     0.00        0.14          2.15\n",
              "\n",
              "[4 rows x 10 columns]"
            ]
          },
          "metadata": {
            "tags": []
          },
          "execution_count": 147
        }
      ]
    },
    {
      "cell_type": "code",
      "metadata": {
        "colab": {
          "base_uri": "https://localhost:8080/",
          "height": 419
        },
        "id": "v9h8cpcMU0rG",
        "outputId": "b1e692fd-c83d-43f9-f16a-d1ed012a89c8"
      },
      "source": [
        "games.loc[games.Genre=='Sports', ['Name','Global_Sales']]"
      ],
      "execution_count": 150,
      "outputs": [
        {
          "output_type": "execute_result",
          "data": {
            "text/html": [
              "<div>\n",
              "<style scoped>\n",
              "    .dataframe tbody tr th:only-of-type {\n",
              "        vertical-align: middle;\n",
              "    }\n",
              "\n",
              "    .dataframe tbody tr th {\n",
              "        vertical-align: top;\n",
              "    }\n",
              "\n",
              "    .dataframe thead th {\n",
              "        text-align: right;\n",
              "    }\n",
              "</style>\n",
              "<table border=\"1\" class=\"dataframe\">\n",
              "  <thead>\n",
              "    <tr style=\"text-align: right;\">\n",
              "      <th></th>\n",
              "      <th>Name</th>\n",
              "      <th>Global_Sales</th>\n",
              "    </tr>\n",
              "  </thead>\n",
              "  <tbody>\n",
              "    <tr>\n",
              "      <th>24</th>\n",
              "      <td>FIFA 16</td>\n",
              "      <td>8.49</td>\n",
              "    </tr>\n",
              "    <tr>\n",
              "      <th>33</th>\n",
              "      <td>FIFA 14</td>\n",
              "      <td>6.90</td>\n",
              "    </tr>\n",
              "    <tr>\n",
              "      <th>38</th>\n",
              "      <td>FIFA 12</td>\n",
              "      <td>6.69</td>\n",
              "    </tr>\n",
              "    <tr>\n",
              "      <th>40</th>\n",
              "      <td>FIFA 15</td>\n",
              "      <td>6.59</td>\n",
              "    </tr>\n",
              "    <tr>\n",
              "      <th>45</th>\n",
              "      <td>Kinect Sports</td>\n",
              "      <td>6.24</td>\n",
              "    </tr>\n",
              "    <tr>\n",
              "      <th>...</th>\n",
              "      <td>...</td>\n",
              "      <td>...</td>\n",
              "    </tr>\n",
              "    <tr>\n",
              "      <th>3111</th>\n",
              "      <td>WSC REAL 09: World Snooker Championship</td>\n",
              "      <td>0.01</td>\n",
              "    </tr>\n",
              "    <tr>\n",
              "      <th>3112</th>\n",
              "      <td>World Snooker Championship 2007</td>\n",
              "      <td>0.01</td>\n",
              "    </tr>\n",
              "    <tr>\n",
              "      <th>3113</th>\n",
              "      <td>Handball 16</td>\n",
              "      <td>0.01</td>\n",
              "    </tr>\n",
              "    <tr>\n",
              "      <th>3114</th>\n",
              "      <td>LMA Manager 2007</td>\n",
              "      <td>0.01</td>\n",
              "    </tr>\n",
              "    <tr>\n",
              "      <th>3142</th>\n",
              "      <td>Rugby Challenge 3</td>\n",
              "      <td>0.01</td>\n",
              "    </tr>\n",
              "  </tbody>\n",
              "</table>\n",
              "<p>512 rows × 2 columns</p>\n",
              "</div>"
            ],
            "text/plain": [
              "                                         Name  Global_Sales\n",
              "24                                    FIFA 16          8.49\n",
              "33                                    FIFA 14          6.90\n",
              "38                                    FIFA 12          6.69\n",
              "40                                    FIFA 15          6.59\n",
              "45                              Kinect Sports          6.24\n",
              "...                                       ...           ...\n",
              "3111  WSC REAL 09: World Snooker Championship          0.01\n",
              "3112          World Snooker Championship 2007          0.01\n",
              "3113                              Handball 16          0.01\n",
              "3114                         LMA Manager 2007          0.01\n",
              "3142                        Rugby Challenge 3          0.01\n",
              "\n",
              "[512 rows x 2 columns]"
            ]
          },
          "metadata": {
            "tags": []
          },
          "execution_count": 150
        }
      ]
    },
    {
      "cell_type": "code",
      "metadata": {
        "colab": {
          "base_uri": "https://localhost:8080/",
          "height": 450
        },
        "id": "lgZSVd5TVC04",
        "outputId": "81e690a0-67fc-4b0a-8ad5-e31cde866203"
      },
      "source": [
        "games.loc[games.Genre=='Sports', ['Name','Global_Sales']].groupby('Name').agg('sum')"
      ],
      "execution_count": 151,
      "outputs": [
        {
          "output_type": "execute_result",
          "data": {
            "text/html": [
              "<div>\n",
              "<style scoped>\n",
              "    .dataframe tbody tr th:only-of-type {\n",
              "        vertical-align: middle;\n",
              "    }\n",
              "\n",
              "    .dataframe tbody tr th {\n",
              "        vertical-align: top;\n",
              "    }\n",
              "\n",
              "    .dataframe thead th {\n",
              "        text-align: right;\n",
              "    }\n",
              "</style>\n",
              "<table border=\"1\" class=\"dataframe\">\n",
              "  <thead>\n",
              "    <tr style=\"text-align: right;\">\n",
              "      <th></th>\n",
              "      <th>Global_Sales</th>\n",
              "    </tr>\n",
              "    <tr>\n",
              "      <th>Name</th>\n",
              "      <th></th>\n",
              "    </tr>\n",
              "  </thead>\n",
              "  <tbody>\n",
              "    <tr>\n",
              "      <th>2010 FIFA World Cup South Africa</th>\n",
              "      <td>2.09</td>\n",
              "    </tr>\n",
              "    <tr>\n",
              "      <th>2014 FIFA World Cup Brazil</th>\n",
              "      <td>1.18</td>\n",
              "    </tr>\n",
              "    <tr>\n",
              "      <th>After Hours Athletes</th>\n",
              "      <td>0.12</td>\n",
              "    </tr>\n",
              "    <tr>\n",
              "      <th>All-Pro Football 2K8</th>\n",
              "      <td>0.41</td>\n",
              "    </tr>\n",
              "    <tr>\n",
              "      <th>Amped 3</th>\n",
              "      <td>0.16</td>\n",
              "    </tr>\n",
              "    <tr>\n",
              "      <th>...</th>\n",
              "      <td>...</td>\n",
              "    </tr>\n",
              "    <tr>\n",
              "      <th>Your Shape: Fitness Evolved</th>\n",
              "      <td>1.33</td>\n",
              "    </tr>\n",
              "    <tr>\n",
              "      <th>Your Shape: Fitness Evolved 2012</th>\n",
              "      <td>1.17</td>\n",
              "    </tr>\n",
              "    <tr>\n",
              "      <th>Zumba Fitness</th>\n",
              "      <td>2.98</td>\n",
              "    </tr>\n",
              "    <tr>\n",
              "      <th>Zumba Fitness Rush</th>\n",
              "      <td>0.19</td>\n",
              "    </tr>\n",
              "    <tr>\n",
              "      <th>pro evolution soccer 2011</th>\n",
              "      <td>3.03</td>\n",
              "    </tr>\n",
              "  </tbody>\n",
              "</table>\n",
              "<p>288 rows × 1 columns</p>\n",
              "</div>"
            ],
            "text/plain": [
              "                                  Global_Sales\n",
              "Name                                          \n",
              "2010 FIFA World Cup South Africa          2.09\n",
              "2014 FIFA World Cup Brazil                1.18\n",
              "After Hours Athletes                      0.12\n",
              "All-Pro Football 2K8                      0.41\n",
              "Amped 3                                   0.16\n",
              "...                                        ...\n",
              "Your Shape: Fitness Evolved               1.33\n",
              "Your Shape: Fitness Evolved 2012          1.17\n",
              "Zumba Fitness                             2.98\n",
              "Zumba Fitness Rush                        0.19\n",
              "pro evolution soccer 2011                 3.03\n",
              "\n",
              "[288 rows x 1 columns]"
            ]
          },
          "metadata": {
            "tags": []
          },
          "execution_count": 151
        }
      ]
    },
    {
      "cell_type": "code",
      "metadata": {
        "id": "sETQpbrgWK0F"
      },
      "source": [
        ""
      ],
      "execution_count": null,
      "outputs": []
    },
    {
      "cell_type": "code",
      "metadata": {
        "id": "epTQw7sVT9yy"
      },
      "source": [
        ""
      ],
      "execution_count": null,
      "outputs": []
    },
    {
      "cell_type": "code",
      "metadata": {
        "id": "ZZiv0NIpTogc"
      },
      "source": [
        ""
      ],
      "execution_count": null,
      "outputs": []
    },
    {
      "cell_type": "code",
      "metadata": {
        "id": "E6sc_LmJTmMP"
      },
      "source": [
        ""
      ],
      "execution_count": null,
      "outputs": []
    }
  ]
}