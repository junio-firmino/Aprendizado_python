{
  "nbformat": 4,
  "nbformat_minor": 0,
  "metadata": {
    "colab": {
      "name": "boston.ipynb",
      "provenance": [],
      "mount_file_id": "1cJbNQ7Gt_0s8FIH8xj_K-rATcJ1Tew-7",
      "authorship_tag": "ABX9TyO8UwvAQ7+zcMZYhynYGYAT",
      "include_colab_link": true
    },
    "kernelspec": {
      "name": "python3",
      "display_name": "Python 3"
    },
    "language_info": {
      "name": "python"
    }
  },
  "cells": [
    {
      "cell_type": "markdown",
      "metadata": {
        "id": "view-in-github",
        "colab_type": "text"
      },
      "source": [
        "<a href=\"https://colab.research.google.com/github/junio-firmino/Aprendizado_python/blob/master/boston.ipynb\" target=\"_parent\"><img src=\"https://colab.research.google.com/assets/colab-badge.svg\" alt=\"Open In Colab\"/></a>"
      ]
    },
    {
      "cell_type": "code",
      "metadata": {
        "id": "UeodAL001a_e"
      },
      "source": [
        "import pandas as pd\n",
        "import numpy as np\n"
      ],
      "execution_count": null,
      "outputs": []
    },
    {
      "cell_type": "code",
      "metadata": {
        "id": "TIrWJZGO2nfy"
      },
      "source": [
        "boston_url = '/content/drive/MyDrive/2017BostonMarathonTop1000.csv'"
      ],
      "execution_count": null,
      "outputs": []
    },
    {
      "cell_type": "code",
      "metadata": {
        "id": "PW6aI06H2uHW"
      },
      "source": [
        "boston = pd.read_csv(boston_url)"
      ],
      "execution_count": null,
      "outputs": []
    },
    {
      "cell_type": "code",
      "metadata": {
        "colab": {
          "base_uri": "https://localhost:8080/",
          "height": 419
        },
        "id": "kXVuIrLF24xC",
        "outputId": "b9829a51-bae8-4f13-a203-d4851e6f9005"
      },
      "source": [
        "boston"
      ],
      "execution_count": null,
      "outputs": [
        {
          "output_type": "execute_result",
          "data": {
            "text/html": [
              "<div>\n",
              "<style scoped>\n",
              "    .dataframe tbody tr th:only-of-type {\n",
              "        vertical-align: middle;\n",
              "    }\n",
              "\n",
              "    .dataframe tbody tr th {\n",
              "        vertical-align: top;\n",
              "    }\n",
              "\n",
              "    .dataframe thead th {\n",
              "        text-align: right;\n",
              "    }\n",
              "</style>\n",
              "<table border=\"1\" class=\"dataframe\">\n",
              "  <thead>\n",
              "    <tr style=\"text-align: right;\">\n",
              "      <th></th>\n",
              "      <th>Name</th>\n",
              "      <th>Age</th>\n",
              "      <th>M/F</th>\n",
              "      <th>City</th>\n",
              "      <th>State</th>\n",
              "      <th>Country</th>\n",
              "      <th>Official Time</th>\n",
              "      <th>Overall</th>\n",
              "      <th>Gender</th>\n",
              "      <th>Years Ran</th>\n",
              "    </tr>\n",
              "  </thead>\n",
              "  <tbody>\n",
              "    <tr>\n",
              "      <th>0</th>\n",
              "      <td>Kirui, Geoffrey</td>\n",
              "      <td>24</td>\n",
              "      <td>M</td>\n",
              "      <td>Keringet</td>\n",
              "      <td>NaN</td>\n",
              "      <td>KEN</td>\n",
              "      <td>2:09:37</td>\n",
              "      <td>1</td>\n",
              "      <td>1</td>\n",
              "      <td>NaN</td>\n",
              "    </tr>\n",
              "    <tr>\n",
              "      <th>1</th>\n",
              "      <td>Rupp, Galen</td>\n",
              "      <td>30</td>\n",
              "      <td>M</td>\n",
              "      <td>Portland</td>\n",
              "      <td>OR</td>\n",
              "      <td>USA</td>\n",
              "      <td>2:09:58</td>\n",
              "      <td>2</td>\n",
              "      <td>2</td>\n",
              "      <td>NaN</td>\n",
              "    </tr>\n",
              "    <tr>\n",
              "      <th>2</th>\n",
              "      <td>Osako, Suguru</td>\n",
              "      <td>25</td>\n",
              "      <td>M</td>\n",
              "      <td>Machida-City</td>\n",
              "      <td>NaN</td>\n",
              "      <td>JPN</td>\n",
              "      <td>2:10:28</td>\n",
              "      <td>3</td>\n",
              "      <td>3</td>\n",
              "      <td>NaN</td>\n",
              "    </tr>\n",
              "    <tr>\n",
              "      <th>3</th>\n",
              "      <td>Biwott, Shadrack</td>\n",
              "      <td>32</td>\n",
              "      <td>M</td>\n",
              "      <td>Mammoth Lakes</td>\n",
              "      <td>CA</td>\n",
              "      <td>USA</td>\n",
              "      <td>2:12:08</td>\n",
              "      <td>4</td>\n",
              "      <td>4</td>\n",
              "      <td>NaN</td>\n",
              "    </tr>\n",
              "    <tr>\n",
              "      <th>4</th>\n",
              "      <td>Chebet, Wilson</td>\n",
              "      <td>31</td>\n",
              "      <td>M</td>\n",
              "      <td>Marakwet</td>\n",
              "      <td>NaN</td>\n",
              "      <td>KEN</td>\n",
              "      <td>2:12:35</td>\n",
              "      <td>5</td>\n",
              "      <td>5</td>\n",
              "      <td>2015</td>\n",
              "    </tr>\n",
              "    <tr>\n",
              "      <th>...</th>\n",
              "      <td>...</td>\n",
              "      <td>...</td>\n",
              "      <td>...</td>\n",
              "      <td>...</td>\n",
              "      <td>...</td>\n",
              "      <td>...</td>\n",
              "      <td>...</td>\n",
              "      <td>...</td>\n",
              "      <td>...</td>\n",
              "      <td>...</td>\n",
              "    </tr>\n",
              "    <tr>\n",
              "      <th>995</th>\n",
              "      <td>Larosa, Mark</td>\n",
              "      <td>38</td>\n",
              "      <td>M</td>\n",
              "      <td>North Andover</td>\n",
              "      <td>MA</td>\n",
              "      <td>USA</td>\n",
              "      <td>2:56:06</td>\n",
              "      <td>996</td>\n",
              "      <td>940</td>\n",
              "      <td>2015:2016</td>\n",
              "    </tr>\n",
              "    <tr>\n",
              "      <th>996</th>\n",
              "      <td>Williamson, Jerry A</td>\n",
              "      <td>43</td>\n",
              "      <td>M</td>\n",
              "      <td>Raleigh</td>\n",
              "      <td>NC</td>\n",
              "      <td>USA</td>\n",
              "      <td>2:56:06</td>\n",
              "      <td>997</td>\n",
              "      <td>941</td>\n",
              "      <td>2015</td>\n",
              "    </tr>\n",
              "    <tr>\n",
              "      <th>997</th>\n",
              "      <td>Mccue, Daniel T</td>\n",
              "      <td>40</td>\n",
              "      <td>M</td>\n",
              "      <td>Arlington</td>\n",
              "      <td>MA</td>\n",
              "      <td>USA</td>\n",
              "      <td>2:56:06</td>\n",
              "      <td>998</td>\n",
              "      <td>942</td>\n",
              "      <td>NaN</td>\n",
              "    </tr>\n",
              "    <tr>\n",
              "      <th>998</th>\n",
              "      <td>Larosa, John</td>\n",
              "      <td>35</td>\n",
              "      <td>M</td>\n",
              "      <td>Danbury</td>\n",
              "      <td>CT</td>\n",
              "      <td>USA</td>\n",
              "      <td>2:56:07</td>\n",
              "      <td>999</td>\n",
              "      <td>943</td>\n",
              "      <td>NaN</td>\n",
              "    </tr>\n",
              "    <tr>\n",
              "      <th>999</th>\n",
              "      <td>Sanchez, Sam R</td>\n",
              "      <td>35</td>\n",
              "      <td>M</td>\n",
              "      <td>Santa Fe</td>\n",
              "      <td>NM</td>\n",
              "      <td>USA</td>\n",
              "      <td>2:56:08</td>\n",
              "      <td>1000</td>\n",
              "      <td>944</td>\n",
              "      <td>NaN</td>\n",
              "    </tr>\n",
              "  </tbody>\n",
              "</table>\n",
              "<p>1000 rows × 10 columns</p>\n",
              "</div>"
            ],
            "text/plain": [
              "                    Name  Age M/F  ... Overall Gender  Years Ran\n",
              "0       Kirui, Geoffrey    24   M  ...       1      1        NaN\n",
              "1         Rupp, Galen      30   M  ...       2      2        NaN\n",
              "2        Osako, Suguru     25   M  ...       3      3        NaN\n",
              "3       Biwott, Shadrack   32   M  ...       4      4        NaN\n",
              "4         Chebet, Wilson   31   M  ...       5      5       2015\n",
              "..                   ...  ...  ..  ...     ...    ...        ...\n",
              "995         Larosa, Mark   38   M  ...     996    940  2015:2016\n",
              "996  Williamson, Jerry A   43   M  ...     997    941       2015\n",
              "997      Mccue, Daniel T   40   M  ...     998    942        NaN\n",
              "998         Larosa, John   35   M  ...     999    943        NaN\n",
              "999       Sanchez, Sam R   35   M  ...    1000    944        NaN\n",
              "\n",
              "[1000 rows x 10 columns]"
            ]
          },
          "metadata": {
            "tags": []
          },
          "execution_count": 5
        }
      ]
    },
    {
      "cell_type": "code",
      "metadata": {
        "colab": {
          "base_uri": "https://localhost:8080/"
        },
        "id": "FFIUukGA29wR",
        "outputId": "e75342d3-c398-4be7-b700-c6e8427826f3"
      },
      "source": [
        "boston.info()"
      ],
      "execution_count": null,
      "outputs": [
        {
          "output_type": "stream",
          "text": [
            "<class 'pandas.core.frame.DataFrame'>\n",
            "RangeIndex: 1000 entries, 0 to 999\n",
            "Data columns (total 10 columns):\n",
            " #   Column         Non-Null Count  Dtype \n",
            "---  ------         --------------  ----- \n",
            " 0   Name           1000 non-null   object\n",
            " 1   Age            1000 non-null   int64 \n",
            " 2   M/F            1000 non-null   object\n",
            " 3   City           1000 non-null   object\n",
            " 4   State          807 non-null    object\n",
            " 5   Country        1000 non-null   object\n",
            " 6   Official Time  1000 non-null   object\n",
            " 7   Overall        1000 non-null   int64 \n",
            " 8   Gender         1000 non-null   int64 \n",
            " 9   Years Ran      315 non-null    object\n",
            "dtypes: int64(3), object(7)\n",
            "memory usage: 78.2+ KB\n"
          ],
          "name": "stdout"
        }
      ]
    },
    {
      "cell_type": "code",
      "metadata": {
        "colab": {
          "base_uri": "https://localhost:8080/"
        },
        "id": "hCaGTQQx3FCx",
        "outputId": "9e2e110d-4264-4995-f0dd-70ee0cfe80c3"
      },
      "source": [
        "boston.isna().agg('sum')   # Achar a quantidade de NA`s de um dataframe por cada coluna"
      ],
      "execution_count": 10,
      "outputs": [
        {
          "output_type": "execute_result",
          "data": {
            "text/plain": [
              "Name               0\n",
              "Age                0\n",
              "M/F                0\n",
              "City               0\n",
              "State            193\n",
              "Country            0\n",
              "Official Time      0\n",
              "Overall            0\n",
              "Gender             0\n",
              "Years Ran        685\n",
              "dtype: int64"
            ]
          },
          "metadata": {
            "tags": []
          },
          "execution_count": 10
        }
      ]
    },
    {
      "cell_type": "code",
      "metadata": {
        "id": "au-hyGE33TRW"
      },
      "source": [
        ""
      ],
      "execution_count": null,
      "outputs": []
    },
    {
      "cell_type": "code",
      "metadata": {
        "id": "eZVUEk0i3Mun"
      },
      "source": [
        ""
      ],
      "execution_count": null,
      "outputs": []
    }
  ]
}