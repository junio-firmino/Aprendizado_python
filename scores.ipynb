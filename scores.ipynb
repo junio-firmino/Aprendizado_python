{
  "nbformat": 4,
  "nbformat_minor": 0,
  "metadata": {
    "colab": {
      "name": "scores.ipynb",
      "provenance": [],
      "mount_file_id": "1u-fCE9v6ZxPRZD01wxcy0HUALwyOEn5f",
      "authorship_tag": "ABX9TyNJE8Tt3S2hPlcr3Wq7LZ4r",
      "include_colab_link": true
    },
    "kernelspec": {
      "name": "python3",
      "display_name": "Python 3"
    },
    "language_info": {
      "name": "python"
    }
  },
  "cells": [
    {
      "cell_type": "markdown",
      "metadata": {
        "id": "view-in-github",
        "colab_type": "text"
      },
      "source": [
        "<a href=\"https://colab.research.google.com/github/junio-firmino/Aprendizado_python/blob/master/scores.ipynb\" target=\"_parent\"><img src=\"https://colab.research.google.com/assets/colab-badge.svg\" alt=\"Open In Colab\"/></a>"
      ]
    },
    {
      "cell_type": "code",
      "metadata": {
        "id": "I9F2LHZiaHTf"
      },
      "source": [
        "import pandas as pd\n",
        "import numpy as np"
      ],
      "execution_count": 43,
      "outputs": []
    },
    {
      "cell_type": "code",
      "metadata": {
        "id": "Qt_mr10_aVcQ"
      },
      "source": [
        "sat_url = '/content/drive/MyDrive/scores.csv'"
      ],
      "execution_count": 44,
      "outputs": []
    },
    {
      "cell_type": "code",
      "metadata": {
        "id": "WMKxGspAaVep"
      },
      "source": [
        "sat = pd.read_csv(sat_url)"
      ],
      "execution_count": 45,
      "outputs": []
    },
    {
      "cell_type": "code",
      "metadata": {
        "colab": {
          "base_uri": "https://localhost:8080/",
          "height": 419
        },
        "id": "XXDCNKkKaVho",
        "outputId": "d8122bfc-a635-4e07-8b09-db0351720cf0"
      },
      "source": [
        "sat"
      ],
      "execution_count": 46,
      "outputs": [
        {
          "output_type": "execute_result",
          "data": {
            "text/html": [
              "<div>\n",
              "<style scoped>\n",
              "    .dataframe tbody tr th:only-of-type {\n",
              "        vertical-align: middle;\n",
              "    }\n",
              "\n",
              "    .dataframe tbody tr th {\n",
              "        vertical-align: top;\n",
              "    }\n",
              "\n",
              "    .dataframe thead th {\n",
              "        text-align: right;\n",
              "    }\n",
              "</style>\n",
              "<table border=\"1\" class=\"dataframe\">\n",
              "  <thead>\n",
              "    <tr style=\"text-align: right;\">\n",
              "      <th></th>\n",
              "      <th>School Name</th>\n",
              "      <th>Borough</th>\n",
              "      <th>Student Enrollment</th>\n",
              "      <th>Percent Tested</th>\n",
              "      <th>SAT Section</th>\n",
              "      <th>Score</th>\n",
              "    </tr>\n",
              "  </thead>\n",
              "  <tbody>\n",
              "    <tr>\n",
              "      <th>0</th>\n",
              "      <td>A. Philip Randolph Campus High School</td>\n",
              "      <td>Manhattan</td>\n",
              "      <td>1354</td>\n",
              "      <td>74.00%</td>\n",
              "      <td>Math</td>\n",
              "      <td>459</td>\n",
              "    </tr>\n",
              "    <tr>\n",
              "      <th>1</th>\n",
              "      <td>A. Philip Randolph Campus High School</td>\n",
              "      <td>Manhattan</td>\n",
              "      <td>1354</td>\n",
              "      <td>74.00%</td>\n",
              "      <td>Reading</td>\n",
              "      <td>453</td>\n",
              "    </tr>\n",
              "    <tr>\n",
              "      <th>2</th>\n",
              "      <td>A. Philip Randolph Campus High School</td>\n",
              "      <td>Manhattan</td>\n",
              "      <td>1354</td>\n",
              "      <td>74.00%</td>\n",
              "      <td>Writing</td>\n",
              "      <td>447</td>\n",
              "    </tr>\n",
              "    <tr>\n",
              "      <th>3</th>\n",
              "      <td>Abraham Lincoln High School</td>\n",
              "      <td>Brooklyn</td>\n",
              "      <td>2341</td>\n",
              "      <td>54.90%</td>\n",
              "      <td>Math</td>\n",
              "      <td>441</td>\n",
              "    </tr>\n",
              "    <tr>\n",
              "      <th>4</th>\n",
              "      <td>Abraham Lincoln High School</td>\n",
              "      <td>Brooklyn</td>\n",
              "      <td>2341</td>\n",
              "      <td>54.90%</td>\n",
              "      <td>Reading</td>\n",
              "      <td>422</td>\n",
              "    </tr>\n",
              "    <tr>\n",
              "      <th>...</th>\n",
              "      <td>...</td>\n",
              "      <td>...</td>\n",
              "      <td>...</td>\n",
              "      <td>...</td>\n",
              "      <td>...</td>\n",
              "      <td>...</td>\n",
              "    </tr>\n",
              "    <tr>\n",
              "      <th>1120</th>\n",
              "      <td>Young Women's Leadership School in Astoria</td>\n",
              "      <td>Queens</td>\n",
              "      <td>572</td>\n",
              "      <td>100.00%</td>\n",
              "      <td>Reading</td>\n",
              "      <td>464</td>\n",
              "    </tr>\n",
              "    <tr>\n",
              "      <th>1121</th>\n",
              "      <td>Young Women's Leadership School in Astoria</td>\n",
              "      <td>Queens</td>\n",
              "      <td>572</td>\n",
              "      <td>100.00%</td>\n",
              "      <td>Writing</td>\n",
              "      <td>477</td>\n",
              "    </tr>\n",
              "    <tr>\n",
              "      <th>1122</th>\n",
              "      <td>Young Women's Leadership School in Queens</td>\n",
              "      <td>Queens</td>\n",
              "      <td>557</td>\n",
              "      <td>90.40%</td>\n",
              "      <td>Math</td>\n",
              "      <td>415</td>\n",
              "    </tr>\n",
              "    <tr>\n",
              "      <th>1123</th>\n",
              "      <td>Young Women's Leadership School in Queens</td>\n",
              "      <td>Queens</td>\n",
              "      <td>557</td>\n",
              "      <td>90.40%</td>\n",
              "      <td>Reading</td>\n",
              "      <td>420</td>\n",
              "    </tr>\n",
              "    <tr>\n",
              "      <th>1124</th>\n",
              "      <td>Young Women's Leadership School in Queens</td>\n",
              "      <td>Queens</td>\n",
              "      <td>557</td>\n",
              "      <td>90.40%</td>\n",
              "      <td>Writing</td>\n",
              "      <td>433</td>\n",
              "    </tr>\n",
              "  </tbody>\n",
              "</table>\n",
              "<p>1125 rows × 6 columns</p>\n",
              "</div>"
            ],
            "text/plain": [
              "                                     School Name    Borough  ...  SAT Section Score\n",
              "0          A. Philip Randolph Campus High School  Manhattan  ...         Math   459\n",
              "1          A. Philip Randolph Campus High School  Manhattan  ...      Reading   453\n",
              "2          A. Philip Randolph Campus High School  Manhattan  ...      Writing   447\n",
              "3                    Abraham Lincoln High School   Brooklyn  ...         Math   441\n",
              "4                    Abraham Lincoln High School   Brooklyn  ...      Reading   422\n",
              "...                                          ...        ...  ...          ...   ...\n",
              "1120  Young Women's Leadership School in Astoria     Queens  ...      Reading   464\n",
              "1121  Young Women's Leadership School in Astoria     Queens  ...      Writing   477\n",
              "1122   Young Women's Leadership School in Queens     Queens  ...         Math   415\n",
              "1123   Young Women's Leadership School in Queens     Queens  ...      Reading   420\n",
              "1124   Young Women's Leadership School in Queens     Queens  ...      Writing   433\n",
              "\n",
              "[1125 rows x 6 columns]"
            ]
          },
          "metadata": {
            "tags": []
          },
          "execution_count": 46
        }
      ]
    },
    {
      "cell_type": "code",
      "metadata": {
        "colab": {
          "base_uri": "https://localhost:8080/",
          "height": 297
        },
        "id": "TdAORQbYGHUo",
        "outputId": "2d07ec86-f745-4a86-c622-812bb2ef92a7"
      },
      "source": [
        "sat.describe()"
      ],
      "execution_count": 47,
      "outputs": [
        {
          "output_type": "execute_result",
          "data": {
            "text/html": [
              "<div>\n",
              "<style scoped>\n",
              "    .dataframe tbody tr th:only-of-type {\n",
              "        vertical-align: middle;\n",
              "    }\n",
              "\n",
              "    .dataframe tbody tr th {\n",
              "        vertical-align: top;\n",
              "    }\n",
              "\n",
              "    .dataframe thead th {\n",
              "        text-align: right;\n",
              "    }\n",
              "</style>\n",
              "<table border=\"1\" class=\"dataframe\">\n",
              "  <thead>\n",
              "    <tr style=\"text-align: right;\">\n",
              "      <th></th>\n",
              "      <th>Student Enrollment</th>\n",
              "      <th>Score</th>\n",
              "    </tr>\n",
              "  </thead>\n",
              "  <tbody>\n",
              "    <tr>\n",
              "      <th>count</th>\n",
              "      <td>1125.000000</td>\n",
              "      <td>1125.000000</td>\n",
              "    </tr>\n",
              "    <tr>\n",
              "      <th>mean</th>\n",
              "      <td>764.682667</td>\n",
              "      <td>425.302222</td>\n",
              "    </tr>\n",
              "    <tr>\n",
              "      <th>std</th>\n",
              "      <td>788.773514</td>\n",
              "      <td>66.471686</td>\n",
              "    </tr>\n",
              "    <tr>\n",
              "      <th>min</th>\n",
              "      <td>142.000000</td>\n",
              "      <td>284.000000</td>\n",
              "    </tr>\n",
              "    <tr>\n",
              "      <th>25%</th>\n",
              "      <td>397.000000</td>\n",
              "      <td>385.000000</td>\n",
              "    </tr>\n",
              "    <tr>\n",
              "      <th>50%</th>\n",
              "      <td>483.000000</td>\n",
              "      <td>409.000000</td>\n",
              "    </tr>\n",
              "    <tr>\n",
              "      <th>75%</th>\n",
              "      <td>666.000000</td>\n",
              "      <td>446.000000</td>\n",
              "    </tr>\n",
              "    <tr>\n",
              "      <th>max</th>\n",
              "      <td>5447.000000</td>\n",
              "      <td>754.000000</td>\n",
              "    </tr>\n",
              "  </tbody>\n",
              "</table>\n",
              "</div>"
            ],
            "text/plain": [
              "       Student Enrollment        Score\n",
              "count         1125.000000  1125.000000\n",
              "mean           764.682667   425.302222\n",
              "std            788.773514    66.471686\n",
              "min            142.000000   284.000000\n",
              "25%            397.000000   385.000000\n",
              "50%            483.000000   409.000000\n",
              "75%            666.000000   446.000000\n",
              "max           5447.000000   754.000000"
            ]
          },
          "metadata": {
            "tags": []
          },
          "execution_count": 47
        }
      ]
    },
    {
      "cell_type": "code",
      "metadata": {
        "colab": {
          "base_uri": "https://localhost:8080/"
        },
        "id": "t8PQRcP2azau",
        "outputId": "7ab51fec-7a35-4d89-d2a2-c9739cd004f2"
      },
      "source": [
        "sat.info()"
      ],
      "execution_count": 48,
      "outputs": [
        {
          "output_type": "stream",
          "text": [
            "<class 'pandas.core.frame.DataFrame'>\n",
            "RangeIndex: 1125 entries, 0 to 1124\n",
            "Data columns (total 6 columns):\n",
            " #   Column              Non-Null Count  Dtype \n",
            "---  ------              --------------  ----- \n",
            " 0   School Name         1125 non-null   object\n",
            " 1   Borough             1125 non-null   object\n",
            " 2   Student Enrollment  1125 non-null   int64 \n",
            " 3   Percent Tested      1125 non-null   object\n",
            " 4   SAT Section         1125 non-null   object\n",
            " 5   Score               1125 non-null   int64 \n",
            "dtypes: int64(2), object(4)\n",
            "memory usage: 52.9+ KB\n"
          ],
          "name": "stdout"
        }
      ]
    },
    {
      "cell_type": "code",
      "metadata": {
        "id": "7NBxpfPDa6Uo"
      },
      "source": [
        "sat.rename(columns={'Percent Tested':'Percent_Tested','SAT Section':'SAT_Section'}, inplace=True)"
      ],
      "execution_count": 49,
      "outputs": []
    },
    {
      "cell_type": "code",
      "metadata": {
        "colab": {
          "base_uri": "https://localhost:8080/",
          "height": 142
        },
        "id": "Bt5PrRKEaVkS",
        "outputId": "e2f9b892-065e-4b52-f612-49402aa0302a"
      },
      "source": [
        "sat.head(3)"
      ],
      "execution_count": 50,
      "outputs": [
        {
          "output_type": "execute_result",
          "data": {
            "text/html": [
              "<div>\n",
              "<style scoped>\n",
              "    .dataframe tbody tr th:only-of-type {\n",
              "        vertical-align: middle;\n",
              "    }\n",
              "\n",
              "    .dataframe tbody tr th {\n",
              "        vertical-align: top;\n",
              "    }\n",
              "\n",
              "    .dataframe thead th {\n",
              "        text-align: right;\n",
              "    }\n",
              "</style>\n",
              "<table border=\"1\" class=\"dataframe\">\n",
              "  <thead>\n",
              "    <tr style=\"text-align: right;\">\n",
              "      <th></th>\n",
              "      <th>School Name</th>\n",
              "      <th>Borough</th>\n",
              "      <th>Student Enrollment</th>\n",
              "      <th>Percent_Tested</th>\n",
              "      <th>SAT_Section</th>\n",
              "      <th>Score</th>\n",
              "    </tr>\n",
              "  </thead>\n",
              "  <tbody>\n",
              "    <tr>\n",
              "      <th>0</th>\n",
              "      <td>A. Philip Randolph Campus High School</td>\n",
              "      <td>Manhattan</td>\n",
              "      <td>1354</td>\n",
              "      <td>74.00%</td>\n",
              "      <td>Math</td>\n",
              "      <td>459</td>\n",
              "    </tr>\n",
              "    <tr>\n",
              "      <th>1</th>\n",
              "      <td>A. Philip Randolph Campus High School</td>\n",
              "      <td>Manhattan</td>\n",
              "      <td>1354</td>\n",
              "      <td>74.00%</td>\n",
              "      <td>Reading</td>\n",
              "      <td>453</td>\n",
              "    </tr>\n",
              "    <tr>\n",
              "      <th>2</th>\n",
              "      <td>A. Philip Randolph Campus High School</td>\n",
              "      <td>Manhattan</td>\n",
              "      <td>1354</td>\n",
              "      <td>74.00%</td>\n",
              "      <td>Writing</td>\n",
              "      <td>447</td>\n",
              "    </tr>\n",
              "  </tbody>\n",
              "</table>\n",
              "</div>"
            ],
            "text/plain": [
              "                             School Name    Borough  ...  SAT_Section Score\n",
              "0  A. Philip Randolph Campus High School  Manhattan  ...         Math   459\n",
              "1  A. Philip Randolph Campus High School  Manhattan  ...      Reading   453\n",
              "2  A. Philip Randolph Campus High School  Manhattan  ...      Writing   447\n",
              "\n",
              "[3 rows x 6 columns]"
            ]
          },
          "metadata": {
            "tags": []
          },
          "execution_count": 50
        }
      ]
    },
    {
      "cell_type": "code",
      "metadata": {
        "id": "V26jpTZ7FD_v"
      },
      "source": [
        "sat['Percent_Tested'] = sat.Percent_Tested.replace(r'\\%',\"\",regex=True).astype(float)"
      ],
      "execution_count": 51,
      "outputs": []
    },
    {
      "cell_type": "code",
      "metadata": {
        "colab": {
          "base_uri": "https://localhost:8080/"
        },
        "id": "LeqWwZgRCcOB",
        "outputId": "c13acca5-627e-4813-b731-ac3da54201cc"
      },
      "source": [
        "sat.groupby('Borough').get_group('Brooklyn').shape"
      ],
      "execution_count": 52,
      "outputs": [
        {
          "output_type": "execute_result",
          "data": {
            "text/plain": [
              "(327, 6)"
            ]
          },
          "metadata": {
            "tags": []
          },
          "execution_count": 52
        }
      ]
    },
    {
      "cell_type": "code",
      "metadata": {
        "colab": {
          "base_uri": "https://localhost:8080/"
        },
        "id": "4t3-6ZeCCcQp",
        "outputId": "052bcca4-de5d-4508-d642-d1ab20d70137"
      },
      "source": [
        "sat.Borough.describe()"
      ],
      "execution_count": 53,
      "outputs": [
        {
          "output_type": "execute_result",
          "data": {
            "text/plain": [
              "count         1125\n",
              "unique           5\n",
              "top       Brooklyn\n",
              "freq           327\n",
              "Name: Borough, dtype: object"
            ]
          },
          "metadata": {
            "tags": []
          },
          "execution_count": 53
        }
      ]
    },
    {
      "cell_type": "code",
      "metadata": {
        "colab": {
          "base_uri": "https://localhost:8080/"
        },
        "id": "dEowuPLfBZii",
        "outputId": "b3312e07-984e-4fdf-9317-8f30506bdd75"
      },
      "source": [
        "sat.info()"
      ],
      "execution_count": 54,
      "outputs": [
        {
          "output_type": "stream",
          "text": [
            "<class 'pandas.core.frame.DataFrame'>\n",
            "RangeIndex: 1125 entries, 0 to 1124\n",
            "Data columns (total 6 columns):\n",
            " #   Column              Non-Null Count  Dtype  \n",
            "---  ------              --------------  -----  \n",
            " 0   School Name         1125 non-null   object \n",
            " 1   Borough             1125 non-null   object \n",
            " 2   Student Enrollment  1125 non-null   int64  \n",
            " 3   Percent_Tested      1125 non-null   float64\n",
            " 4   SAT_Section         1125 non-null   object \n",
            " 5   Score               1125 non-null   int64  \n",
            "dtypes: float64(1), int64(2), object(3)\n",
            "memory usage: 52.9+ KB\n"
          ],
          "name": "stdout"
        }
      ]
    },
    {
      "cell_type": "code",
      "metadata": {
        "id": "Ld5-y0xzH2dd"
      },
      "source": [
        "pivoted = sat.pivot(index='School Name',columns='SAT_Section',values='Score')"
      ],
      "execution_count": 55,
      "outputs": []
    },
    {
      "cell_type": "code",
      "metadata": {
        "colab": {
          "base_uri": "https://localhost:8080/",
          "height": 450
        },
        "id": "QMkBdVMlIs91",
        "outputId": "3eba4f5f-49f5-465a-911c-d04a3d2c71da"
      },
      "source": [
        "pivoted"
      ],
      "execution_count": 56,
      "outputs": [
        {
          "output_type": "execute_result",
          "data": {
            "text/html": [
              "<div>\n",
              "<style scoped>\n",
              "    .dataframe tbody tr th:only-of-type {\n",
              "        vertical-align: middle;\n",
              "    }\n",
              "\n",
              "    .dataframe tbody tr th {\n",
              "        vertical-align: top;\n",
              "    }\n",
              "\n",
              "    .dataframe thead th {\n",
              "        text-align: right;\n",
              "    }\n",
              "</style>\n",
              "<table border=\"1\" class=\"dataframe\">\n",
              "  <thead>\n",
              "    <tr style=\"text-align: right;\">\n",
              "      <th>SAT_Section</th>\n",
              "      <th>Math</th>\n",
              "      <th>Reading</th>\n",
              "      <th>Writing</th>\n",
              "    </tr>\n",
              "    <tr>\n",
              "      <th>School Name</th>\n",
              "      <th></th>\n",
              "      <th></th>\n",
              "      <th></th>\n",
              "    </tr>\n",
              "  </thead>\n",
              "  <tbody>\n",
              "    <tr>\n",
              "      <th>A. Philip Randolph Campus High School</th>\n",
              "      <td>459</td>\n",
              "      <td>453</td>\n",
              "      <td>447</td>\n",
              "    </tr>\n",
              "    <tr>\n",
              "      <th>ACORN Community High School</th>\n",
              "      <td>379</td>\n",
              "      <td>395</td>\n",
              "      <td>385</td>\n",
              "    </tr>\n",
              "    <tr>\n",
              "      <th>Abraham Lincoln High School</th>\n",
              "      <td>441</td>\n",
              "      <td>422</td>\n",
              "      <td>422</td>\n",
              "    </tr>\n",
              "    <tr>\n",
              "      <th>Academy for Careers in Television and Film</th>\n",
              "      <td>444</td>\n",
              "      <td>458</td>\n",
              "      <td>444</td>\n",
              "    </tr>\n",
              "    <tr>\n",
              "      <th>Academy for College Preparation and Career Exploration (College Board)</th>\n",
              "      <td>386</td>\n",
              "      <td>397</td>\n",
              "      <td>393</td>\n",
              "    </tr>\n",
              "    <tr>\n",
              "      <th>...</th>\n",
              "      <td>...</td>\n",
              "      <td>...</td>\n",
              "      <td>...</td>\n",
              "    </tr>\n",
              "    <tr>\n",
              "      <th>World Journalism Preparatory (College Board)</th>\n",
              "      <td>484</td>\n",
              "      <td>491</td>\n",
              "      <td>487</td>\n",
              "    </tr>\n",
              "    <tr>\n",
              "      <th>York Early College Academy</th>\n",
              "      <td>496</td>\n",
              "      <td>481</td>\n",
              "      <td>473</td>\n",
              "    </tr>\n",
              "    <tr>\n",
              "      <th>Young Women's Leadership School</th>\n",
              "      <td>478</td>\n",
              "      <td>465</td>\n",
              "      <td>472</td>\n",
              "    </tr>\n",
              "    <tr>\n",
              "      <th>Young Women's Leadership School in Astoria</th>\n",
              "      <td>483</td>\n",
              "      <td>464</td>\n",
              "      <td>477</td>\n",
              "    </tr>\n",
              "    <tr>\n",
              "      <th>Young Women's Leadership School in Queens</th>\n",
              "      <td>415</td>\n",
              "      <td>420</td>\n",
              "      <td>433</td>\n",
              "    </tr>\n",
              "  </tbody>\n",
              "</table>\n",
              "<p>375 rows × 3 columns</p>\n",
              "</div>"
            ],
            "text/plain": [
              "SAT_Section                                         Math  Reading  Writing\n",
              "School Name                                                               \n",
              "A. Philip Randolph Campus High School                459      453      447\n",
              "ACORN Community High School                          379      395      385\n",
              "Abraham Lincoln High School                          441      422      422\n",
              "Academy for Careers in Television and Film           444      458      444\n",
              "Academy for College Preparation and Career Expl...   386      397      393\n",
              "...                                                  ...      ...      ...\n",
              "World Journalism Preparatory (College Board)         484      491      487\n",
              "York Early College Academy                           496      481      473\n",
              "Young Women's Leadership School                      478      465      472\n",
              "Young Women's Leadership School in Astoria           483      464      477\n",
              "Young Women's Leadership School in Queens            415      420      433\n",
              "\n",
              "[375 rows x 3 columns]"
            ]
          },
          "metadata": {
            "tags": []
          },
          "execution_count": 56
        }
      ]
    },
    {
      "cell_type": "code",
      "metadata": {
        "colab": {
          "base_uri": "https://localhost:8080/",
          "height": 450
        },
        "id": "aoQ8CSsOIweB",
        "outputId": "7b43da10-9671-4cef-d09f-c208816b3981"
      },
      "source": [
        "pivoted\n"
      ],
      "execution_count": 57,
      "outputs": [
        {
          "output_type": "execute_result",
          "data": {
            "text/html": [
              "<div>\n",
              "<style scoped>\n",
              "    .dataframe tbody tr th:only-of-type {\n",
              "        vertical-align: middle;\n",
              "    }\n",
              "\n",
              "    .dataframe tbody tr th {\n",
              "        vertical-align: top;\n",
              "    }\n",
              "\n",
              "    .dataframe thead th {\n",
              "        text-align: right;\n",
              "    }\n",
              "</style>\n",
              "<table border=\"1\" class=\"dataframe\">\n",
              "  <thead>\n",
              "    <tr style=\"text-align: right;\">\n",
              "      <th>SAT_Section</th>\n",
              "      <th>Math</th>\n",
              "      <th>Reading</th>\n",
              "      <th>Writing</th>\n",
              "    </tr>\n",
              "    <tr>\n",
              "      <th>School Name</th>\n",
              "      <th></th>\n",
              "      <th></th>\n",
              "      <th></th>\n",
              "    </tr>\n",
              "  </thead>\n",
              "  <tbody>\n",
              "    <tr>\n",
              "      <th>A. Philip Randolph Campus High School</th>\n",
              "      <td>459</td>\n",
              "      <td>453</td>\n",
              "      <td>447</td>\n",
              "    </tr>\n",
              "    <tr>\n",
              "      <th>ACORN Community High School</th>\n",
              "      <td>379</td>\n",
              "      <td>395</td>\n",
              "      <td>385</td>\n",
              "    </tr>\n",
              "    <tr>\n",
              "      <th>Abraham Lincoln High School</th>\n",
              "      <td>441</td>\n",
              "      <td>422</td>\n",
              "      <td>422</td>\n",
              "    </tr>\n",
              "    <tr>\n",
              "      <th>Academy for Careers in Television and Film</th>\n",
              "      <td>444</td>\n",
              "      <td>458</td>\n",
              "      <td>444</td>\n",
              "    </tr>\n",
              "    <tr>\n",
              "      <th>Academy for College Preparation and Career Exploration (College Board)</th>\n",
              "      <td>386</td>\n",
              "      <td>397</td>\n",
              "      <td>393</td>\n",
              "    </tr>\n",
              "    <tr>\n",
              "      <th>...</th>\n",
              "      <td>...</td>\n",
              "      <td>...</td>\n",
              "      <td>...</td>\n",
              "    </tr>\n",
              "    <tr>\n",
              "      <th>World Journalism Preparatory (College Board)</th>\n",
              "      <td>484</td>\n",
              "      <td>491</td>\n",
              "      <td>487</td>\n",
              "    </tr>\n",
              "    <tr>\n",
              "      <th>York Early College Academy</th>\n",
              "      <td>496</td>\n",
              "      <td>481</td>\n",
              "      <td>473</td>\n",
              "    </tr>\n",
              "    <tr>\n",
              "      <th>Young Women's Leadership School</th>\n",
              "      <td>478</td>\n",
              "      <td>465</td>\n",
              "      <td>472</td>\n",
              "    </tr>\n",
              "    <tr>\n",
              "      <th>Young Women's Leadership School in Astoria</th>\n",
              "      <td>483</td>\n",
              "      <td>464</td>\n",
              "      <td>477</td>\n",
              "    </tr>\n",
              "    <tr>\n",
              "      <th>Young Women's Leadership School in Queens</th>\n",
              "      <td>415</td>\n",
              "      <td>420</td>\n",
              "      <td>433</td>\n",
              "    </tr>\n",
              "  </tbody>\n",
              "</table>\n",
              "<p>375 rows × 3 columns</p>\n",
              "</div>"
            ],
            "text/plain": [
              "SAT_Section                                         Math  Reading  Writing\n",
              "School Name                                                               \n",
              "A. Philip Randolph Campus High School                459      453      447\n",
              "ACORN Community High School                          379      395      385\n",
              "Abraham Lincoln High School                          441      422      422\n",
              "Academy for Careers in Television and Film           444      458      444\n",
              "Academy for College Preparation and Career Expl...   386      397      393\n",
              "...                                                  ...      ...      ...\n",
              "World Journalism Preparatory (College Board)         484      491      487\n",
              "York Early College Academy                           496      481      473\n",
              "Young Women's Leadership School                      478      465      472\n",
              "Young Women's Leadership School in Astoria           483      464      477\n",
              "Young Women's Leadership School in Queens            415      420      433\n",
              "\n",
              "[375 rows x 3 columns]"
            ]
          },
          "metadata": {
            "tags": []
          },
          "execution_count": 57
        }
      ]
    },
    {
      "cell_type": "code",
      "metadata": {
        "colab": {
          "base_uri": "https://localhost:8080/"
        },
        "id": "32r6fWLaIwgc",
        "outputId": "792c1747-8162-46d5-96d8-4d4450d22d43"
      },
      "source": [
        "sat.Borough.unique()"
      ],
      "execution_count": 58,
      "outputs": [
        {
          "output_type": "execute_result",
          "data": {
            "text/plain": [
              "array(['Manhattan', 'Brooklyn', 'Queens', 'Bronx', 'Staten Island'],\n",
              "      dtype=object)"
            ]
          },
          "metadata": {
            "tags": []
          },
          "execution_count": 58
        }
      ]
    },
    {
      "cell_type": "code",
      "metadata": {
        "colab": {
          "base_uri": "https://localhost:8080/",
          "height": 235
        },
        "id": "-mt0ONSkNpse",
        "outputId": "0a1727da-27c7-436b-ced9-6d446b9d382b"
      },
      "source": [
        "sat.pivot_table(values='Score', index='Borough', columns='SAT_Section', aggfunc='sum')"
      ],
      "execution_count": 59,
      "outputs": [
        {
          "output_type": "execute_result",
          "data": {
            "text/html": [
              "<div>\n",
              "<style scoped>\n",
              "    .dataframe tbody tr th:only-of-type {\n",
              "        vertical-align: middle;\n",
              "    }\n",
              "\n",
              "    .dataframe tbody tr th {\n",
              "        vertical-align: top;\n",
              "    }\n",
              "\n",
              "    .dataframe thead th {\n",
              "        text-align: right;\n",
              "    }\n",
              "</style>\n",
              "<table border=\"1\" class=\"dataframe\">\n",
              "  <thead>\n",
              "    <tr style=\"text-align: right;\">\n",
              "      <th>SAT_Section</th>\n",
              "      <th>Math</th>\n",
              "      <th>Reading</th>\n",
              "      <th>Writing</th>\n",
              "    </tr>\n",
              "    <tr>\n",
              "      <th>Borough</th>\n",
              "      <th></th>\n",
              "      <th></th>\n",
              "      <th></th>\n",
              "    </tr>\n",
              "  </thead>\n",
              "  <tbody>\n",
              "    <tr>\n",
              "      <th>Bronx</th>\n",
              "      <td>39627</td>\n",
              "      <td>39447</td>\n",
              "      <td>38793</td>\n",
              "    </tr>\n",
              "    <tr>\n",
              "      <th>Brooklyn</th>\n",
              "      <td>45388</td>\n",
              "      <td>44773</td>\n",
              "      <td>43937</td>\n",
              "    </tr>\n",
              "    <tr>\n",
              "      <th>Manhattan</th>\n",
              "      <td>40574</td>\n",
              "      <td>39599</td>\n",
              "      <td>39099</td>\n",
              "    </tr>\n",
              "    <tr>\n",
              "      <th>Queens</th>\n",
              "      <td>31903</td>\n",
              "      <td>30585</td>\n",
              "      <td>30350</td>\n",
              "    </tr>\n",
              "    <tr>\n",
              "      <th>Staten Island</th>\n",
              "      <td>4862</td>\n",
              "      <td>4785</td>\n",
              "      <td>4743</td>\n",
              "    </tr>\n",
              "  </tbody>\n",
              "</table>\n",
              "</div>"
            ],
            "text/plain": [
              "SAT_Section     Math  Reading  Writing\n",
              "Borough                               \n",
              "Bronx          39627    39447    38793\n",
              "Brooklyn       45388    44773    43937\n",
              "Manhattan      40574    39599    39099\n",
              "Queens         31903    30585    30350\n",
              "Staten Island   4862     4785     4743"
            ]
          },
          "metadata": {
            "tags": []
          },
          "execution_count": 59
        }
      ]
    },
    {
      "cell_type": "code",
      "metadata": {
        "colab": {
          "base_uri": "https://localhost:8080/",
          "height": 235
        },
        "id": "de6BZcz7Iwi6",
        "outputId": "6cd919a5-deb4-47da-cb23-606cd1226c41"
      },
      "source": [
        "sat.pivot_table(values='Percent_Tested', index='Borough',columns='SAT_Section')"
      ],
      "execution_count": 60,
      "outputs": [
        {
          "output_type": "execute_result",
          "data": {
            "text/html": [
              "<div>\n",
              "<style scoped>\n",
              "    .dataframe tbody tr th:only-of-type {\n",
              "        vertical-align: middle;\n",
              "    }\n",
              "\n",
              "    .dataframe tbody tr th {\n",
              "        vertical-align: top;\n",
              "    }\n",
              "\n",
              "    .dataframe thead th {\n",
              "        text-align: right;\n",
              "    }\n",
              "</style>\n",
              "<table border=\"1\" class=\"dataframe\">\n",
              "  <thead>\n",
              "    <tr style=\"text-align: right;\">\n",
              "      <th>SAT_Section</th>\n",
              "      <th>Math</th>\n",
              "      <th>Reading</th>\n",
              "      <th>Writing</th>\n",
              "    </tr>\n",
              "    <tr>\n",
              "      <th>Borough</th>\n",
              "      <th></th>\n",
              "      <th></th>\n",
              "      <th></th>\n",
              "    </tr>\n",
              "  </thead>\n",
              "  <tbody>\n",
              "    <tr>\n",
              "      <th>Bronx</th>\n",
              "      <td>58.220408</td>\n",
              "      <td>58.220408</td>\n",
              "      <td>58.220408</td>\n",
              "    </tr>\n",
              "    <tr>\n",
              "      <th>Brooklyn</th>\n",
              "      <td>62.423853</td>\n",
              "      <td>62.423853</td>\n",
              "      <td>62.423853</td>\n",
              "    </tr>\n",
              "    <tr>\n",
              "      <th>Manhattan</th>\n",
              "      <td>71.197753</td>\n",
              "      <td>71.197753</td>\n",
              "      <td>71.197753</td>\n",
              "    </tr>\n",
              "    <tr>\n",
              "      <th>Queens</th>\n",
              "      <td>69.036232</td>\n",
              "      <td>69.036232</td>\n",
              "      <td>69.036232</td>\n",
              "    </tr>\n",
              "    <tr>\n",
              "      <th>Staten Island</th>\n",
              "      <td>67.390000</td>\n",
              "      <td>67.390000</td>\n",
              "      <td>67.390000</td>\n",
              "    </tr>\n",
              "  </tbody>\n",
              "</table>\n",
              "</div>"
            ],
            "text/plain": [
              "SAT_Section         Math    Reading    Writing\n",
              "Borough                                       \n",
              "Bronx          58.220408  58.220408  58.220408\n",
              "Brooklyn       62.423853  62.423853  62.423853\n",
              "Manhattan      71.197753  71.197753  71.197753\n",
              "Queens         69.036232  69.036232  69.036232\n",
              "Staten Island  67.390000  67.390000  67.390000"
            ]
          },
          "metadata": {
            "tags": []
          },
          "execution_count": 60
        }
      ]
    },
    {
      "cell_type": "code",
      "metadata": {
        "colab": {
          "base_uri": "https://localhost:8080/",
          "height": 235
        },
        "id": "3BL46L7UQarp",
        "outputId": "f4866b66-7d61-475a-aaac-d3a54c4e20e3"
      },
      "source": [
        "sat.pivot_table(values='Percent_Tested', index='Borough',columns='SAT_Section',aggfunc='min')"
      ],
      "execution_count": 61,
      "outputs": [
        {
          "output_type": "execute_result",
          "data": {
            "text/html": [
              "<div>\n",
              "<style scoped>\n",
              "    .dataframe tbody tr th:only-of-type {\n",
              "        vertical-align: middle;\n",
              "    }\n",
              "\n",
              "    .dataframe tbody tr th {\n",
              "        vertical-align: top;\n",
              "    }\n",
              "\n",
              "    .dataframe thead th {\n",
              "        text-align: right;\n",
              "    }\n",
              "</style>\n",
              "<table border=\"1\" class=\"dataframe\">\n",
              "  <thead>\n",
              "    <tr style=\"text-align: right;\">\n",
              "      <th>SAT_Section</th>\n",
              "      <th>Math</th>\n",
              "      <th>Reading</th>\n",
              "      <th>Writing</th>\n",
              "    </tr>\n",
              "    <tr>\n",
              "      <th>Borough</th>\n",
              "      <th></th>\n",
              "      <th></th>\n",
              "      <th></th>\n",
              "    </tr>\n",
              "  </thead>\n",
              "  <tbody>\n",
              "    <tr>\n",
              "      <th>Bronx</th>\n",
              "      <td>19.2</td>\n",
              "      <td>19.2</td>\n",
              "      <td>19.2</td>\n",
              "    </tr>\n",
              "    <tr>\n",
              "      <th>Brooklyn</th>\n",
              "      <td>18.5</td>\n",
              "      <td>18.5</td>\n",
              "      <td>18.5</td>\n",
              "    </tr>\n",
              "    <tr>\n",
              "      <th>Manhattan</th>\n",
              "      <td>30.6</td>\n",
              "      <td>30.6</td>\n",
              "      <td>30.6</td>\n",
              "    </tr>\n",
              "    <tr>\n",
              "      <th>Queens</th>\n",
              "      <td>26.3</td>\n",
              "      <td>26.3</td>\n",
              "      <td>26.3</td>\n",
              "    </tr>\n",
              "    <tr>\n",
              "      <th>Staten Island</th>\n",
              "      <td>38.0</td>\n",
              "      <td>38.0</td>\n",
              "      <td>38.0</td>\n",
              "    </tr>\n",
              "  </tbody>\n",
              "</table>\n",
              "</div>"
            ],
            "text/plain": [
              "SAT_Section    Math  Reading  Writing\n",
              "Borough                              \n",
              "Bronx          19.2     19.2     19.2\n",
              "Brooklyn       18.5     18.5     18.5\n",
              "Manhattan      30.6     30.6     30.6\n",
              "Queens         26.3     26.3     26.3\n",
              "Staten Island  38.0     38.0     38.0"
            ]
          },
          "metadata": {
            "tags": []
          },
          "execution_count": 61
        }
      ]
    },
    {
      "cell_type": "code",
      "metadata": {
        "colab": {
          "base_uri": "https://localhost:8080/",
          "height": 235
        },
        "id": "2J6vXtARW5UO",
        "outputId": "588b94f4-5c0f-45fc-de21-543f61d9b974"
      },
      "source": [
        "sat.pivot_table(values='Percent_Tested', index='Borough',columns='SAT_Section',aggfunc='mean').sort_values(by='Math',ascending=False)"
      ],
      "execution_count": 62,
      "outputs": [
        {
          "output_type": "execute_result",
          "data": {
            "text/html": [
              "<div>\n",
              "<style scoped>\n",
              "    .dataframe tbody tr th:only-of-type {\n",
              "        vertical-align: middle;\n",
              "    }\n",
              "\n",
              "    .dataframe tbody tr th {\n",
              "        vertical-align: top;\n",
              "    }\n",
              "\n",
              "    .dataframe thead th {\n",
              "        text-align: right;\n",
              "    }\n",
              "</style>\n",
              "<table border=\"1\" class=\"dataframe\">\n",
              "  <thead>\n",
              "    <tr style=\"text-align: right;\">\n",
              "      <th>SAT_Section</th>\n",
              "      <th>Math</th>\n",
              "      <th>Reading</th>\n",
              "      <th>Writing</th>\n",
              "    </tr>\n",
              "    <tr>\n",
              "      <th>Borough</th>\n",
              "      <th></th>\n",
              "      <th></th>\n",
              "      <th></th>\n",
              "    </tr>\n",
              "  </thead>\n",
              "  <tbody>\n",
              "    <tr>\n",
              "      <th>Manhattan</th>\n",
              "      <td>71.197753</td>\n",
              "      <td>71.197753</td>\n",
              "      <td>71.197753</td>\n",
              "    </tr>\n",
              "    <tr>\n",
              "      <th>Queens</th>\n",
              "      <td>69.036232</td>\n",
              "      <td>69.036232</td>\n",
              "      <td>69.036232</td>\n",
              "    </tr>\n",
              "    <tr>\n",
              "      <th>Staten Island</th>\n",
              "      <td>67.390000</td>\n",
              "      <td>67.390000</td>\n",
              "      <td>67.390000</td>\n",
              "    </tr>\n",
              "    <tr>\n",
              "      <th>Brooklyn</th>\n",
              "      <td>62.423853</td>\n",
              "      <td>62.423853</td>\n",
              "      <td>62.423853</td>\n",
              "    </tr>\n",
              "    <tr>\n",
              "      <th>Bronx</th>\n",
              "      <td>58.220408</td>\n",
              "      <td>58.220408</td>\n",
              "      <td>58.220408</td>\n",
              "    </tr>\n",
              "  </tbody>\n",
              "</table>\n",
              "</div>"
            ],
            "text/plain": [
              "SAT_Section         Math    Reading    Writing\n",
              "Borough                                       \n",
              "Manhattan      71.197753  71.197753  71.197753\n",
              "Queens         69.036232  69.036232  69.036232\n",
              "Staten Island  67.390000  67.390000  67.390000\n",
              "Brooklyn       62.423853  62.423853  62.423853\n",
              "Bronx          58.220408  58.220408  58.220408"
            ]
          },
          "metadata": {
            "tags": []
          },
          "execution_count": 62
        }
      ]
    },
    {
      "cell_type": "code",
      "metadata": {
        "colab": {
          "base_uri": "https://localhost:8080/",
          "height": 235
        },
        "id": "tEDyqBYVItAI",
        "outputId": "087f2baa-80c1-4412-bc5f-16dbf6968cd5"
      },
      "source": [
        "sat.pivot_table(values='Percent_Tested', index='Borough',columns='SAT_Section').sort_values(by='Math',ascending=False)"
      ],
      "execution_count": 63,
      "outputs": [
        {
          "output_type": "execute_result",
          "data": {
            "text/html": [
              "<div>\n",
              "<style scoped>\n",
              "    .dataframe tbody tr th:only-of-type {\n",
              "        vertical-align: middle;\n",
              "    }\n",
              "\n",
              "    .dataframe tbody tr th {\n",
              "        vertical-align: top;\n",
              "    }\n",
              "\n",
              "    .dataframe thead th {\n",
              "        text-align: right;\n",
              "    }\n",
              "</style>\n",
              "<table border=\"1\" class=\"dataframe\">\n",
              "  <thead>\n",
              "    <tr style=\"text-align: right;\">\n",
              "      <th>SAT_Section</th>\n",
              "      <th>Math</th>\n",
              "      <th>Reading</th>\n",
              "      <th>Writing</th>\n",
              "    </tr>\n",
              "    <tr>\n",
              "      <th>Borough</th>\n",
              "      <th></th>\n",
              "      <th></th>\n",
              "      <th></th>\n",
              "    </tr>\n",
              "  </thead>\n",
              "  <tbody>\n",
              "    <tr>\n",
              "      <th>Manhattan</th>\n",
              "      <td>71.197753</td>\n",
              "      <td>71.197753</td>\n",
              "      <td>71.197753</td>\n",
              "    </tr>\n",
              "    <tr>\n",
              "      <th>Queens</th>\n",
              "      <td>69.036232</td>\n",
              "      <td>69.036232</td>\n",
              "      <td>69.036232</td>\n",
              "    </tr>\n",
              "    <tr>\n",
              "      <th>Staten Island</th>\n",
              "      <td>67.390000</td>\n",
              "      <td>67.390000</td>\n",
              "      <td>67.390000</td>\n",
              "    </tr>\n",
              "    <tr>\n",
              "      <th>Brooklyn</th>\n",
              "      <td>62.423853</td>\n",
              "      <td>62.423853</td>\n",
              "      <td>62.423853</td>\n",
              "    </tr>\n",
              "    <tr>\n",
              "      <th>Bronx</th>\n",
              "      <td>58.220408</td>\n",
              "      <td>58.220408</td>\n",
              "      <td>58.220408</td>\n",
              "    </tr>\n",
              "  </tbody>\n",
              "</table>\n",
              "</div>"
            ],
            "text/plain": [
              "SAT_Section         Math    Reading    Writing\n",
              "Borough                                       \n",
              "Manhattan      71.197753  71.197753  71.197753\n",
              "Queens         69.036232  69.036232  69.036232\n",
              "Staten Island  67.390000  67.390000  67.390000\n",
              "Brooklyn       62.423853  62.423853  62.423853\n",
              "Bronx          58.220408  58.220408  58.220408"
            ]
          },
          "metadata": {
            "tags": []
          },
          "execution_count": 63
        }
      ]
    },
    {
      "cell_type": "code",
      "metadata": {
        "id": "a9QwAiQ3RVsZ"
      },
      "source": [
        "sat['Sat_takers'] = sat['Percent_Tested']*sat['Student Enrollment']/100"
      ],
      "execution_count": 64,
      "outputs": []
    },
    {
      "cell_type": "code",
      "metadata": {
        "colab": {
          "base_uri": "https://localhost:8080/",
          "height": 419
        },
        "id": "eN8LXtDdItRY",
        "outputId": "92ec0ca1-e692-4947-f251-b29bcc341370"
      },
      "source": [
        "sat"
      ],
      "execution_count": 65,
      "outputs": [
        {
          "output_type": "execute_result",
          "data": {
            "text/html": [
              "<div>\n",
              "<style scoped>\n",
              "    .dataframe tbody tr th:only-of-type {\n",
              "        vertical-align: middle;\n",
              "    }\n",
              "\n",
              "    .dataframe tbody tr th {\n",
              "        vertical-align: top;\n",
              "    }\n",
              "\n",
              "    .dataframe thead th {\n",
              "        text-align: right;\n",
              "    }\n",
              "</style>\n",
              "<table border=\"1\" class=\"dataframe\">\n",
              "  <thead>\n",
              "    <tr style=\"text-align: right;\">\n",
              "      <th></th>\n",
              "      <th>School Name</th>\n",
              "      <th>Borough</th>\n",
              "      <th>Student Enrollment</th>\n",
              "      <th>Percent_Tested</th>\n",
              "      <th>SAT_Section</th>\n",
              "      <th>Score</th>\n",
              "      <th>Sat_takers</th>\n",
              "    </tr>\n",
              "  </thead>\n",
              "  <tbody>\n",
              "    <tr>\n",
              "      <th>0</th>\n",
              "      <td>A. Philip Randolph Campus High School</td>\n",
              "      <td>Manhattan</td>\n",
              "      <td>1354</td>\n",
              "      <td>74.0</td>\n",
              "      <td>Math</td>\n",
              "      <td>459</td>\n",
              "      <td>1001.960</td>\n",
              "    </tr>\n",
              "    <tr>\n",
              "      <th>1</th>\n",
              "      <td>A. Philip Randolph Campus High School</td>\n",
              "      <td>Manhattan</td>\n",
              "      <td>1354</td>\n",
              "      <td>74.0</td>\n",
              "      <td>Reading</td>\n",
              "      <td>453</td>\n",
              "      <td>1001.960</td>\n",
              "    </tr>\n",
              "    <tr>\n",
              "      <th>2</th>\n",
              "      <td>A. Philip Randolph Campus High School</td>\n",
              "      <td>Manhattan</td>\n",
              "      <td>1354</td>\n",
              "      <td>74.0</td>\n",
              "      <td>Writing</td>\n",
              "      <td>447</td>\n",
              "      <td>1001.960</td>\n",
              "    </tr>\n",
              "    <tr>\n",
              "      <th>3</th>\n",
              "      <td>Abraham Lincoln High School</td>\n",
              "      <td>Brooklyn</td>\n",
              "      <td>2341</td>\n",
              "      <td>54.9</td>\n",
              "      <td>Math</td>\n",
              "      <td>441</td>\n",
              "      <td>1285.209</td>\n",
              "    </tr>\n",
              "    <tr>\n",
              "      <th>4</th>\n",
              "      <td>Abraham Lincoln High School</td>\n",
              "      <td>Brooklyn</td>\n",
              "      <td>2341</td>\n",
              "      <td>54.9</td>\n",
              "      <td>Reading</td>\n",
              "      <td>422</td>\n",
              "      <td>1285.209</td>\n",
              "    </tr>\n",
              "    <tr>\n",
              "      <th>...</th>\n",
              "      <td>...</td>\n",
              "      <td>...</td>\n",
              "      <td>...</td>\n",
              "      <td>...</td>\n",
              "      <td>...</td>\n",
              "      <td>...</td>\n",
              "      <td>...</td>\n",
              "    </tr>\n",
              "    <tr>\n",
              "      <th>1120</th>\n",
              "      <td>Young Women's Leadership School in Astoria</td>\n",
              "      <td>Queens</td>\n",
              "      <td>572</td>\n",
              "      <td>100.0</td>\n",
              "      <td>Reading</td>\n",
              "      <td>464</td>\n",
              "      <td>572.000</td>\n",
              "    </tr>\n",
              "    <tr>\n",
              "      <th>1121</th>\n",
              "      <td>Young Women's Leadership School in Astoria</td>\n",
              "      <td>Queens</td>\n",
              "      <td>572</td>\n",
              "      <td>100.0</td>\n",
              "      <td>Writing</td>\n",
              "      <td>477</td>\n",
              "      <td>572.000</td>\n",
              "    </tr>\n",
              "    <tr>\n",
              "      <th>1122</th>\n",
              "      <td>Young Women's Leadership School in Queens</td>\n",
              "      <td>Queens</td>\n",
              "      <td>557</td>\n",
              "      <td>90.4</td>\n",
              "      <td>Math</td>\n",
              "      <td>415</td>\n",
              "      <td>503.528</td>\n",
              "    </tr>\n",
              "    <tr>\n",
              "      <th>1123</th>\n",
              "      <td>Young Women's Leadership School in Queens</td>\n",
              "      <td>Queens</td>\n",
              "      <td>557</td>\n",
              "      <td>90.4</td>\n",
              "      <td>Reading</td>\n",
              "      <td>420</td>\n",
              "      <td>503.528</td>\n",
              "    </tr>\n",
              "    <tr>\n",
              "      <th>1124</th>\n",
              "      <td>Young Women's Leadership School in Queens</td>\n",
              "      <td>Queens</td>\n",
              "      <td>557</td>\n",
              "      <td>90.4</td>\n",
              "      <td>Writing</td>\n",
              "      <td>433</td>\n",
              "      <td>503.528</td>\n",
              "    </tr>\n",
              "  </tbody>\n",
              "</table>\n",
              "<p>1125 rows × 7 columns</p>\n",
              "</div>"
            ],
            "text/plain": [
              "                                     School Name    Borough  ...  Score  Sat_takers\n",
              "0          A. Philip Randolph Campus High School  Manhattan  ...    459    1001.960\n",
              "1          A. Philip Randolph Campus High School  Manhattan  ...    453    1001.960\n",
              "2          A. Philip Randolph Campus High School  Manhattan  ...    447    1001.960\n",
              "3                    Abraham Lincoln High School   Brooklyn  ...    441    1285.209\n",
              "4                    Abraham Lincoln High School   Brooklyn  ...    422    1285.209\n",
              "...                                          ...        ...  ...    ...         ...\n",
              "1120  Young Women's Leadership School in Astoria     Queens  ...    464     572.000\n",
              "1121  Young Women's Leadership School in Astoria     Queens  ...    477     572.000\n",
              "1122   Young Women's Leadership School in Queens     Queens  ...    415     503.528\n",
              "1123   Young Women's Leadership School in Queens     Queens  ...    420     503.528\n",
              "1124   Young Women's Leadership School in Queens     Queens  ...    433     503.528\n",
              "\n",
              "[1125 rows x 7 columns]"
            ]
          },
          "metadata": {
            "tags": []
          },
          "execution_count": 65
        }
      ]
    },
    {
      "cell_type": "code",
      "metadata": {
        "colab": {
          "base_uri": "https://localhost:8080/",
          "height": 450
        },
        "id": "d07rRW_YItUL",
        "outputId": "cb8e554b-f901-42f6-92b4-657aeeaa91cf"
      },
      "source": [
        "pivoted"
      ],
      "execution_count": 66,
      "outputs": [
        {
          "output_type": "execute_result",
          "data": {
            "text/html": [
              "<div>\n",
              "<style scoped>\n",
              "    .dataframe tbody tr th:only-of-type {\n",
              "        vertical-align: middle;\n",
              "    }\n",
              "\n",
              "    .dataframe tbody tr th {\n",
              "        vertical-align: top;\n",
              "    }\n",
              "\n",
              "    .dataframe thead th {\n",
              "        text-align: right;\n",
              "    }\n",
              "</style>\n",
              "<table border=\"1\" class=\"dataframe\">\n",
              "  <thead>\n",
              "    <tr style=\"text-align: right;\">\n",
              "      <th>SAT_Section</th>\n",
              "      <th>Math</th>\n",
              "      <th>Reading</th>\n",
              "      <th>Writing</th>\n",
              "    </tr>\n",
              "    <tr>\n",
              "      <th>School Name</th>\n",
              "      <th></th>\n",
              "      <th></th>\n",
              "      <th></th>\n",
              "    </tr>\n",
              "  </thead>\n",
              "  <tbody>\n",
              "    <tr>\n",
              "      <th>A. Philip Randolph Campus High School</th>\n",
              "      <td>459</td>\n",
              "      <td>453</td>\n",
              "      <td>447</td>\n",
              "    </tr>\n",
              "    <tr>\n",
              "      <th>ACORN Community High School</th>\n",
              "      <td>379</td>\n",
              "      <td>395</td>\n",
              "      <td>385</td>\n",
              "    </tr>\n",
              "    <tr>\n",
              "      <th>Abraham Lincoln High School</th>\n",
              "      <td>441</td>\n",
              "      <td>422</td>\n",
              "      <td>422</td>\n",
              "    </tr>\n",
              "    <tr>\n",
              "      <th>Academy for Careers in Television and Film</th>\n",
              "      <td>444</td>\n",
              "      <td>458</td>\n",
              "      <td>444</td>\n",
              "    </tr>\n",
              "    <tr>\n",
              "      <th>Academy for College Preparation and Career Exploration (College Board)</th>\n",
              "      <td>386</td>\n",
              "      <td>397</td>\n",
              "      <td>393</td>\n",
              "    </tr>\n",
              "    <tr>\n",
              "      <th>...</th>\n",
              "      <td>...</td>\n",
              "      <td>...</td>\n",
              "      <td>...</td>\n",
              "    </tr>\n",
              "    <tr>\n",
              "      <th>World Journalism Preparatory (College Board)</th>\n",
              "      <td>484</td>\n",
              "      <td>491</td>\n",
              "      <td>487</td>\n",
              "    </tr>\n",
              "    <tr>\n",
              "      <th>York Early College Academy</th>\n",
              "      <td>496</td>\n",
              "      <td>481</td>\n",
              "      <td>473</td>\n",
              "    </tr>\n",
              "    <tr>\n",
              "      <th>Young Women's Leadership School</th>\n",
              "      <td>478</td>\n",
              "      <td>465</td>\n",
              "      <td>472</td>\n",
              "    </tr>\n",
              "    <tr>\n",
              "      <th>Young Women's Leadership School in Astoria</th>\n",
              "      <td>483</td>\n",
              "      <td>464</td>\n",
              "      <td>477</td>\n",
              "    </tr>\n",
              "    <tr>\n",
              "      <th>Young Women's Leadership School in Queens</th>\n",
              "      <td>415</td>\n",
              "      <td>420</td>\n",
              "      <td>433</td>\n",
              "    </tr>\n",
              "  </tbody>\n",
              "</table>\n",
              "<p>375 rows × 3 columns</p>\n",
              "</div>"
            ],
            "text/plain": [
              "SAT_Section                                         Math  Reading  Writing\n",
              "School Name                                                               \n",
              "A. Philip Randolph Campus High School                459      453      447\n",
              "ACORN Community High School                          379      395      385\n",
              "Abraham Lincoln High School                          441      422      422\n",
              "Academy for Careers in Television and Film           444      458      444\n",
              "Academy for College Preparation and Career Expl...   386      397      393\n",
              "...                                                  ...      ...      ...\n",
              "World Journalism Preparatory (College Board)         484      491      487\n",
              "York Early College Academy                           496      481      473\n",
              "Young Women's Leadership School                      478      465      472\n",
              "Young Women's Leadership School in Astoria           483      464      477\n",
              "Young Women's Leadership School in Queens            415      420      433\n",
              "\n",
              "[375 rows x 3 columns]"
            ]
          },
          "metadata": {
            "tags": []
          },
          "execution_count": 66
        }
      ]
    },
    {
      "cell_type": "code",
      "metadata": {
        "colab": {
          "base_uri": "https://localhost:8080/",
          "height": 419
        },
        "id": "JYkYy_vPVOc5",
        "outputId": "70280ca6-71bb-4f7c-b6d2-de6bf50f66b0"
      },
      "source": [
        "pivoted.reset_index().melt(id_vars='School Name')"
      ],
      "execution_count": 67,
      "outputs": [
        {
          "output_type": "execute_result",
          "data": {
            "text/html": [
              "<div>\n",
              "<style scoped>\n",
              "    .dataframe tbody tr th:only-of-type {\n",
              "        vertical-align: middle;\n",
              "    }\n",
              "\n",
              "    .dataframe tbody tr th {\n",
              "        vertical-align: top;\n",
              "    }\n",
              "\n",
              "    .dataframe thead th {\n",
              "        text-align: right;\n",
              "    }\n",
              "</style>\n",
              "<table border=\"1\" class=\"dataframe\">\n",
              "  <thead>\n",
              "    <tr style=\"text-align: right;\">\n",
              "      <th></th>\n",
              "      <th>School Name</th>\n",
              "      <th>SAT_Section</th>\n",
              "      <th>value</th>\n",
              "    </tr>\n",
              "  </thead>\n",
              "  <tbody>\n",
              "    <tr>\n",
              "      <th>0</th>\n",
              "      <td>A. Philip Randolph Campus High School</td>\n",
              "      <td>Math</td>\n",
              "      <td>459</td>\n",
              "    </tr>\n",
              "    <tr>\n",
              "      <th>1</th>\n",
              "      <td>ACORN Community High School</td>\n",
              "      <td>Math</td>\n",
              "      <td>379</td>\n",
              "    </tr>\n",
              "    <tr>\n",
              "      <th>2</th>\n",
              "      <td>Abraham Lincoln High School</td>\n",
              "      <td>Math</td>\n",
              "      <td>441</td>\n",
              "    </tr>\n",
              "    <tr>\n",
              "      <th>3</th>\n",
              "      <td>Academy for Careers in Television and Film</td>\n",
              "      <td>Math</td>\n",
              "      <td>444</td>\n",
              "    </tr>\n",
              "    <tr>\n",
              "      <th>4</th>\n",
              "      <td>Academy for College Preparation and Career Exp...</td>\n",
              "      <td>Math</td>\n",
              "      <td>386</td>\n",
              "    </tr>\n",
              "    <tr>\n",
              "      <th>...</th>\n",
              "      <td>...</td>\n",
              "      <td>...</td>\n",
              "      <td>...</td>\n",
              "    </tr>\n",
              "    <tr>\n",
              "      <th>1120</th>\n",
              "      <td>World Journalism Preparatory (College Board)</td>\n",
              "      <td>Writing</td>\n",
              "      <td>487</td>\n",
              "    </tr>\n",
              "    <tr>\n",
              "      <th>1121</th>\n",
              "      <td>York Early College Academy</td>\n",
              "      <td>Writing</td>\n",
              "      <td>473</td>\n",
              "    </tr>\n",
              "    <tr>\n",
              "      <th>1122</th>\n",
              "      <td>Young Women's Leadership School</td>\n",
              "      <td>Writing</td>\n",
              "      <td>472</td>\n",
              "    </tr>\n",
              "    <tr>\n",
              "      <th>1123</th>\n",
              "      <td>Young Women's Leadership School in Astoria</td>\n",
              "      <td>Writing</td>\n",
              "      <td>477</td>\n",
              "    </tr>\n",
              "    <tr>\n",
              "      <th>1124</th>\n",
              "      <td>Young Women's Leadership School in Queens</td>\n",
              "      <td>Writing</td>\n",
              "      <td>433</td>\n",
              "    </tr>\n",
              "  </tbody>\n",
              "</table>\n",
              "<p>1125 rows × 3 columns</p>\n",
              "</div>"
            ],
            "text/plain": [
              "                                            School Name SAT_Section  value\n",
              "0                 A. Philip Randolph Campus High School        Math    459\n",
              "1                           ACORN Community High School        Math    379\n",
              "2                           Abraham Lincoln High School        Math    441\n",
              "3            Academy for Careers in Television and Film        Math    444\n",
              "4     Academy for College Preparation and Career Exp...        Math    386\n",
              "...                                                 ...         ...    ...\n",
              "1120       World Journalism Preparatory (College Board)     Writing    487\n",
              "1121                         York Early College Academy     Writing    473\n",
              "1122                    Young Women's Leadership School     Writing    472\n",
              "1123         Young Women's Leadership School in Astoria     Writing    477\n",
              "1124          Young Women's Leadership School in Queens     Writing    433\n",
              "\n",
              "[1125 rows x 3 columns]"
            ]
          },
          "metadata": {
            "tags": []
          },
          "execution_count": 67
        }
      ]
    },
    {
      "cell_type": "code",
      "metadata": {
        "colab": {
          "base_uri": "https://localhost:8080/",
          "height": 419
        },
        "id": "eV-azaciItWp",
        "outputId": "8ae83c59-68a5-46e0-8a6a-e89cbcae6c77"
      },
      "source": [
        "sat"
      ],
      "execution_count": 68,
      "outputs": [
        {
          "output_type": "execute_result",
          "data": {
            "text/html": [
              "<div>\n",
              "<style scoped>\n",
              "    .dataframe tbody tr th:only-of-type {\n",
              "        vertical-align: middle;\n",
              "    }\n",
              "\n",
              "    .dataframe tbody tr th {\n",
              "        vertical-align: top;\n",
              "    }\n",
              "\n",
              "    .dataframe thead th {\n",
              "        text-align: right;\n",
              "    }\n",
              "</style>\n",
              "<table border=\"1\" class=\"dataframe\">\n",
              "  <thead>\n",
              "    <tr style=\"text-align: right;\">\n",
              "      <th></th>\n",
              "      <th>School Name</th>\n",
              "      <th>Borough</th>\n",
              "      <th>Student Enrollment</th>\n",
              "      <th>Percent_Tested</th>\n",
              "      <th>SAT_Section</th>\n",
              "      <th>Score</th>\n",
              "      <th>Sat_takers</th>\n",
              "    </tr>\n",
              "  </thead>\n",
              "  <tbody>\n",
              "    <tr>\n",
              "      <th>0</th>\n",
              "      <td>A. Philip Randolph Campus High School</td>\n",
              "      <td>Manhattan</td>\n",
              "      <td>1354</td>\n",
              "      <td>74.0</td>\n",
              "      <td>Math</td>\n",
              "      <td>459</td>\n",
              "      <td>1001.960</td>\n",
              "    </tr>\n",
              "    <tr>\n",
              "      <th>1</th>\n",
              "      <td>A. Philip Randolph Campus High School</td>\n",
              "      <td>Manhattan</td>\n",
              "      <td>1354</td>\n",
              "      <td>74.0</td>\n",
              "      <td>Reading</td>\n",
              "      <td>453</td>\n",
              "      <td>1001.960</td>\n",
              "    </tr>\n",
              "    <tr>\n",
              "      <th>2</th>\n",
              "      <td>A. Philip Randolph Campus High School</td>\n",
              "      <td>Manhattan</td>\n",
              "      <td>1354</td>\n",
              "      <td>74.0</td>\n",
              "      <td>Writing</td>\n",
              "      <td>447</td>\n",
              "      <td>1001.960</td>\n",
              "    </tr>\n",
              "    <tr>\n",
              "      <th>3</th>\n",
              "      <td>Abraham Lincoln High School</td>\n",
              "      <td>Brooklyn</td>\n",
              "      <td>2341</td>\n",
              "      <td>54.9</td>\n",
              "      <td>Math</td>\n",
              "      <td>441</td>\n",
              "      <td>1285.209</td>\n",
              "    </tr>\n",
              "    <tr>\n",
              "      <th>4</th>\n",
              "      <td>Abraham Lincoln High School</td>\n",
              "      <td>Brooklyn</td>\n",
              "      <td>2341</td>\n",
              "      <td>54.9</td>\n",
              "      <td>Reading</td>\n",
              "      <td>422</td>\n",
              "      <td>1285.209</td>\n",
              "    </tr>\n",
              "    <tr>\n",
              "      <th>...</th>\n",
              "      <td>...</td>\n",
              "      <td>...</td>\n",
              "      <td>...</td>\n",
              "      <td>...</td>\n",
              "      <td>...</td>\n",
              "      <td>...</td>\n",
              "      <td>...</td>\n",
              "    </tr>\n",
              "    <tr>\n",
              "      <th>1120</th>\n",
              "      <td>Young Women's Leadership School in Astoria</td>\n",
              "      <td>Queens</td>\n",
              "      <td>572</td>\n",
              "      <td>100.0</td>\n",
              "      <td>Reading</td>\n",
              "      <td>464</td>\n",
              "      <td>572.000</td>\n",
              "    </tr>\n",
              "    <tr>\n",
              "      <th>1121</th>\n",
              "      <td>Young Women's Leadership School in Astoria</td>\n",
              "      <td>Queens</td>\n",
              "      <td>572</td>\n",
              "      <td>100.0</td>\n",
              "      <td>Writing</td>\n",
              "      <td>477</td>\n",
              "      <td>572.000</td>\n",
              "    </tr>\n",
              "    <tr>\n",
              "      <th>1122</th>\n",
              "      <td>Young Women's Leadership School in Queens</td>\n",
              "      <td>Queens</td>\n",
              "      <td>557</td>\n",
              "      <td>90.4</td>\n",
              "      <td>Math</td>\n",
              "      <td>415</td>\n",
              "      <td>503.528</td>\n",
              "    </tr>\n",
              "    <tr>\n",
              "      <th>1123</th>\n",
              "      <td>Young Women's Leadership School in Queens</td>\n",
              "      <td>Queens</td>\n",
              "      <td>557</td>\n",
              "      <td>90.4</td>\n",
              "      <td>Reading</td>\n",
              "      <td>420</td>\n",
              "      <td>503.528</td>\n",
              "    </tr>\n",
              "    <tr>\n",
              "      <th>1124</th>\n",
              "      <td>Young Women's Leadership School in Queens</td>\n",
              "      <td>Queens</td>\n",
              "      <td>557</td>\n",
              "      <td>90.4</td>\n",
              "      <td>Writing</td>\n",
              "      <td>433</td>\n",
              "      <td>503.528</td>\n",
              "    </tr>\n",
              "  </tbody>\n",
              "</table>\n",
              "<p>1125 rows × 7 columns</p>\n",
              "</div>"
            ],
            "text/plain": [
              "                                     School Name    Borough  ...  Score  Sat_takers\n",
              "0          A. Philip Randolph Campus High School  Manhattan  ...    459    1001.960\n",
              "1          A. Philip Randolph Campus High School  Manhattan  ...    453    1001.960\n",
              "2          A. Philip Randolph Campus High School  Manhattan  ...    447    1001.960\n",
              "3                    Abraham Lincoln High School   Brooklyn  ...    441    1285.209\n",
              "4                    Abraham Lincoln High School   Brooklyn  ...    422    1285.209\n",
              "...                                          ...        ...  ...    ...         ...\n",
              "1120  Young Women's Leadership School in Astoria     Queens  ...    464     572.000\n",
              "1121  Young Women's Leadership School in Astoria     Queens  ...    477     572.000\n",
              "1122   Young Women's Leadership School in Queens     Queens  ...    415     503.528\n",
              "1123   Young Women's Leadership School in Queens     Queens  ...    420     503.528\n",
              "1124   Young Women's Leadership School in Queens     Queens  ...    433     503.528\n",
              "\n",
              "[1125 rows x 7 columns]"
            ]
          },
          "metadata": {
            "tags": []
          },
          "execution_count": 68
        }
      ]
    },
    {
      "cell_type": "code",
      "metadata": {
        "colab": {
          "base_uri": "https://localhost:8080/",
          "height": 289
        },
        "id": "eJ_RVeXJXKWp",
        "outputId": "86ba56a1-f454-49cb-914c-9df3e51bb77e"
      },
      "source": [
        "sat.groupby('Borough')['Score','Sat_takers'].agg('sum')  # Agrupar e escolher quais colunas utilizar na análise."
      ],
      "execution_count": 69,
      "outputs": [
        {
          "output_type": "stream",
          "text": [
            "/usr/local/lib/python3.7/dist-packages/ipykernel_launcher.py:1: FutureWarning: Indexing with multiple keys (implicitly converted to a tuple of keys) will be deprecated, use a list instead.\n",
            "  \"\"\"Entry point for launching an IPython kernel.\n"
          ],
          "name": "stderr"
        },
        {
          "output_type": "execute_result",
          "data": {
            "text/html": [
              "<div>\n",
              "<style scoped>\n",
              "    .dataframe tbody tr th:only-of-type {\n",
              "        vertical-align: middle;\n",
              "    }\n",
              "\n",
              "    .dataframe tbody tr th {\n",
              "        vertical-align: top;\n",
              "    }\n",
              "\n",
              "    .dataframe thead th {\n",
              "        text-align: right;\n",
              "    }\n",
              "</style>\n",
              "<table border=\"1\" class=\"dataframe\">\n",
              "  <thead>\n",
              "    <tr style=\"text-align: right;\">\n",
              "      <th></th>\n",
              "      <th>Score</th>\n",
              "      <th>Sat_takers</th>\n",
              "    </tr>\n",
              "    <tr>\n",
              "      <th>Borough</th>\n",
              "      <th></th>\n",
              "      <th></th>\n",
              "    </tr>\n",
              "  </thead>\n",
              "  <tbody>\n",
              "    <tr>\n",
              "      <th>Bronx</th>\n",
              "      <td>117867</td>\n",
              "      <td>94822.023</td>\n",
              "    </tr>\n",
              "    <tr>\n",
              "      <th>Brooklyn</th>\n",
              "      <td>134098</td>\n",
              "      <td>163076.472</td>\n",
              "    </tr>\n",
              "    <tr>\n",
              "      <th>Manhattan</th>\n",
              "      <td>119272</td>\n",
              "      <td>127455.354</td>\n",
              "    </tr>\n",
              "    <tr>\n",
              "      <th>Queens</th>\n",
              "      <td>92838</td>\n",
              "      <td>154823.073</td>\n",
              "    </tr>\n",
              "    <tr>\n",
              "      <th>Staten Island</th>\n",
              "      <td>14390</td>\n",
              "      <td>38137.875</td>\n",
              "    </tr>\n",
              "  </tbody>\n",
              "</table>\n",
              "</div>"
            ],
            "text/plain": [
              "                Score  Sat_takers\n",
              "Borough                          \n",
              "Bronx          117867   94822.023\n",
              "Brooklyn       134098  163076.472\n",
              "Manhattan      119272  127455.354\n",
              "Queens          92838  154823.073\n",
              "Staten Island   14390   38137.875"
            ]
          },
          "metadata": {
            "tags": []
          },
          "execution_count": 69
        }
      ]
    },
    {
      "cell_type": "code",
      "metadata": {
        "colab": {
          "base_uri": "https://localhost:8080/",
          "height": 289
        },
        "id": "10gkToRbXdc_",
        "outputId": "cbee8fda-45eb-4405-f80a-1bd09871609a"
      },
      "source": [
        "sat.groupby('Borough')['Score','Sat_takers'].agg('mean')"
      ],
      "execution_count": 70,
      "outputs": [
        {
          "output_type": "stream",
          "text": [
            "/usr/local/lib/python3.7/dist-packages/ipykernel_launcher.py:1: FutureWarning: Indexing with multiple keys (implicitly converted to a tuple of keys) will be deprecated, use a list instead.\n",
            "  \"\"\"Entry point for launching an IPython kernel.\n"
          ],
          "name": "stderr"
        },
        {
          "output_type": "execute_result",
          "data": {
            "text/html": [
              "<div>\n",
              "<style scoped>\n",
              "    .dataframe tbody tr th:only-of-type {\n",
              "        vertical-align: middle;\n",
              "    }\n",
              "\n",
              "    .dataframe tbody tr th {\n",
              "        vertical-align: top;\n",
              "    }\n",
              "\n",
              "    .dataframe thead th {\n",
              "        text-align: right;\n",
              "    }\n",
              "</style>\n",
              "<table border=\"1\" class=\"dataframe\">\n",
              "  <thead>\n",
              "    <tr style=\"text-align: right;\">\n",
              "      <th></th>\n",
              "      <th>Score</th>\n",
              "      <th>Sat_takers</th>\n",
              "    </tr>\n",
              "    <tr>\n",
              "      <th>Borough</th>\n",
              "      <th></th>\n",
              "      <th></th>\n",
              "    </tr>\n",
              "  </thead>\n",
              "  <tbody>\n",
              "    <tr>\n",
              "      <th>Bronx</th>\n",
              "      <td>400.908163</td>\n",
              "      <td>322.523888</td>\n",
              "    </tr>\n",
              "    <tr>\n",
              "      <th>Brooklyn</th>\n",
              "      <td>410.085627</td>\n",
              "      <td>498.704807</td>\n",
              "    </tr>\n",
              "    <tr>\n",
              "      <th>Manhattan</th>\n",
              "      <td>446.711610</td>\n",
              "      <td>477.360876</td>\n",
              "    </tr>\n",
              "    <tr>\n",
              "      <th>Queens</th>\n",
              "      <td>448.492754</td>\n",
              "      <td>747.937551</td>\n",
              "    </tr>\n",
              "    <tr>\n",
              "      <th>Staten Island</th>\n",
              "      <td>479.666667</td>\n",
              "      <td>1271.262500</td>\n",
              "    </tr>\n",
              "  </tbody>\n",
              "</table>\n",
              "</div>"
            ],
            "text/plain": [
              "                    Score   Sat_takers\n",
              "Borough                               \n",
              "Bronx          400.908163   322.523888\n",
              "Brooklyn       410.085627   498.704807\n",
              "Manhattan      446.711610   477.360876\n",
              "Queens         448.492754   747.937551\n",
              "Staten Island  479.666667  1271.262500"
            ]
          },
          "metadata": {
            "tags": []
          },
          "execution_count": 70
        }
      ]
    },
    {
      "cell_type": "code",
      "metadata": {
        "id": "kCDA_TIKYHez",
        "colab": {
          "base_uri": "https://localhost:8080/"
        },
        "outputId": "5e037219-517b-467e-942d-d7e08e76dc6d"
      },
      "source": [
        "sat.isna().sum()"
      ],
      "execution_count": 71,
      "outputs": [
        {
          "output_type": "execute_result",
          "data": {
            "text/plain": [
              "School Name           0\n",
              "Borough               0\n",
              "Student Enrollment    0\n",
              "Percent_Tested        0\n",
              "SAT_Section           0\n",
              "Score                 0\n",
              "Sat_takers            0\n",
              "dtype: int64"
            ]
          },
          "metadata": {
            "tags": []
          },
          "execution_count": 71
        }
      ]
    },
    {
      "cell_type": "code",
      "metadata": {
        "colab": {
          "base_uri": "https://localhost:8080/",
          "height": 204
        },
        "id": "eaG8FLwiTwMq",
        "outputId": "def467d6-a3f7-4c5e-c210-f9932af44f27"
      },
      "source": [
        "pivoted.head(4)"
      ],
      "execution_count": 72,
      "outputs": [
        {
          "output_type": "execute_result",
          "data": {
            "text/html": [
              "<div>\n",
              "<style scoped>\n",
              "    .dataframe tbody tr th:only-of-type {\n",
              "        vertical-align: middle;\n",
              "    }\n",
              "\n",
              "    .dataframe tbody tr th {\n",
              "        vertical-align: top;\n",
              "    }\n",
              "\n",
              "    .dataframe thead th {\n",
              "        text-align: right;\n",
              "    }\n",
              "</style>\n",
              "<table border=\"1\" class=\"dataframe\">\n",
              "  <thead>\n",
              "    <tr style=\"text-align: right;\">\n",
              "      <th>SAT_Section</th>\n",
              "      <th>Math</th>\n",
              "      <th>Reading</th>\n",
              "      <th>Writing</th>\n",
              "    </tr>\n",
              "    <tr>\n",
              "      <th>School Name</th>\n",
              "      <th></th>\n",
              "      <th></th>\n",
              "      <th></th>\n",
              "    </tr>\n",
              "  </thead>\n",
              "  <tbody>\n",
              "    <tr>\n",
              "      <th>A. Philip Randolph Campus High School</th>\n",
              "      <td>459</td>\n",
              "      <td>453</td>\n",
              "      <td>447</td>\n",
              "    </tr>\n",
              "    <tr>\n",
              "      <th>ACORN Community High School</th>\n",
              "      <td>379</td>\n",
              "      <td>395</td>\n",
              "      <td>385</td>\n",
              "    </tr>\n",
              "    <tr>\n",
              "      <th>Abraham Lincoln High School</th>\n",
              "      <td>441</td>\n",
              "      <td>422</td>\n",
              "      <td>422</td>\n",
              "    </tr>\n",
              "    <tr>\n",
              "      <th>Academy for Careers in Television and Film</th>\n",
              "      <td>444</td>\n",
              "      <td>458</td>\n",
              "      <td>444</td>\n",
              "    </tr>\n",
              "  </tbody>\n",
              "</table>\n",
              "</div>"
            ],
            "text/plain": [
              "SAT_Section                                 Math  Reading  Writing\n",
              "School Name                                                       \n",
              "A. Philip Randolph Campus High School        459      453      447\n",
              "ACORN Community High School                  379      395      385\n",
              "Abraham Lincoln High School                  441      422      422\n",
              "Academy for Careers in Television and Film   444      458      444"
            ]
          },
          "metadata": {
            "tags": []
          },
          "execution_count": 72
        }
      ]
    },
    {
      "cell_type": "code",
      "metadata": {
        "colab": {
          "base_uri": "https://localhost:8080/",
          "height": 419
        },
        "id": "nHqpbmvPV7ZC",
        "outputId": "369731b9-3f17-4e26-ddb6-dfe525136b51"
      },
      "source": [
        "pivoted.reset_index().melt(id_vars='School Name')"
      ],
      "execution_count": 73,
      "outputs": [
        {
          "output_type": "execute_result",
          "data": {
            "text/html": [
              "<div>\n",
              "<style scoped>\n",
              "    .dataframe tbody tr th:only-of-type {\n",
              "        vertical-align: middle;\n",
              "    }\n",
              "\n",
              "    .dataframe tbody tr th {\n",
              "        vertical-align: top;\n",
              "    }\n",
              "\n",
              "    .dataframe thead th {\n",
              "        text-align: right;\n",
              "    }\n",
              "</style>\n",
              "<table border=\"1\" class=\"dataframe\">\n",
              "  <thead>\n",
              "    <tr style=\"text-align: right;\">\n",
              "      <th></th>\n",
              "      <th>School Name</th>\n",
              "      <th>SAT_Section</th>\n",
              "      <th>value</th>\n",
              "    </tr>\n",
              "  </thead>\n",
              "  <tbody>\n",
              "    <tr>\n",
              "      <th>0</th>\n",
              "      <td>A. Philip Randolph Campus High School</td>\n",
              "      <td>Math</td>\n",
              "      <td>459</td>\n",
              "    </tr>\n",
              "    <tr>\n",
              "      <th>1</th>\n",
              "      <td>ACORN Community High School</td>\n",
              "      <td>Math</td>\n",
              "      <td>379</td>\n",
              "    </tr>\n",
              "    <tr>\n",
              "      <th>2</th>\n",
              "      <td>Abraham Lincoln High School</td>\n",
              "      <td>Math</td>\n",
              "      <td>441</td>\n",
              "    </tr>\n",
              "    <tr>\n",
              "      <th>3</th>\n",
              "      <td>Academy for Careers in Television and Film</td>\n",
              "      <td>Math</td>\n",
              "      <td>444</td>\n",
              "    </tr>\n",
              "    <tr>\n",
              "      <th>4</th>\n",
              "      <td>Academy for College Preparation and Career Exp...</td>\n",
              "      <td>Math</td>\n",
              "      <td>386</td>\n",
              "    </tr>\n",
              "    <tr>\n",
              "      <th>...</th>\n",
              "      <td>...</td>\n",
              "      <td>...</td>\n",
              "      <td>...</td>\n",
              "    </tr>\n",
              "    <tr>\n",
              "      <th>1120</th>\n",
              "      <td>World Journalism Preparatory (College Board)</td>\n",
              "      <td>Writing</td>\n",
              "      <td>487</td>\n",
              "    </tr>\n",
              "    <tr>\n",
              "      <th>1121</th>\n",
              "      <td>York Early College Academy</td>\n",
              "      <td>Writing</td>\n",
              "      <td>473</td>\n",
              "    </tr>\n",
              "    <tr>\n",
              "      <th>1122</th>\n",
              "      <td>Young Women's Leadership School</td>\n",
              "      <td>Writing</td>\n",
              "      <td>472</td>\n",
              "    </tr>\n",
              "    <tr>\n",
              "      <th>1123</th>\n",
              "      <td>Young Women's Leadership School in Astoria</td>\n",
              "      <td>Writing</td>\n",
              "      <td>477</td>\n",
              "    </tr>\n",
              "    <tr>\n",
              "      <th>1124</th>\n",
              "      <td>Young Women's Leadership School in Queens</td>\n",
              "      <td>Writing</td>\n",
              "      <td>433</td>\n",
              "    </tr>\n",
              "  </tbody>\n",
              "</table>\n",
              "<p>1125 rows × 3 columns</p>\n",
              "</div>"
            ],
            "text/plain": [
              "                                            School Name SAT_Section  value\n",
              "0                 A. Philip Randolph Campus High School        Math    459\n",
              "1                           ACORN Community High School        Math    379\n",
              "2                           Abraham Lincoln High School        Math    441\n",
              "3            Academy for Careers in Television and Film        Math    444\n",
              "4     Academy for College Preparation and Career Exp...        Math    386\n",
              "...                                                 ...         ...    ...\n",
              "1120       World Journalism Preparatory (College Board)     Writing    487\n",
              "1121                         York Early College Academy     Writing    473\n",
              "1122                    Young Women's Leadership School     Writing    472\n",
              "1123         Young Women's Leadership School in Astoria     Writing    477\n",
              "1124          Young Women's Leadership School in Queens     Writing    433\n",
              "\n",
              "[1125 rows x 3 columns]"
            ]
          },
          "metadata": {
            "tags": []
          },
          "execution_count": 73
        }
      ]
    },
    {
      "cell_type": "code",
      "metadata": {
        "colab": {
          "base_uri": "https://localhost:8080/",
          "height": 266
        },
        "id": "zzjfP0NzWTbe",
        "outputId": "79041d32-01e6-4497-ce70-36043c1807d8"
      },
      "source": [
        "sat.pivot_table(values='Score', index='Borough', columns='SAT_Section',aggfunc='mean', margins=True,margins_name='Media global')"
      ],
      "execution_count": 74,
      "outputs": [
        {
          "output_type": "execute_result",
          "data": {
            "text/html": [
              "<div>\n",
              "<style scoped>\n",
              "    .dataframe tbody tr th:only-of-type {\n",
              "        vertical-align: middle;\n",
              "    }\n",
              "\n",
              "    .dataframe tbody tr th {\n",
              "        vertical-align: top;\n",
              "    }\n",
              "\n",
              "    .dataframe thead th {\n",
              "        text-align: right;\n",
              "    }\n",
              "</style>\n",
              "<table border=\"1\" class=\"dataframe\">\n",
              "  <thead>\n",
              "    <tr style=\"text-align: right;\">\n",
              "      <th>SAT_Section</th>\n",
              "      <th>Math</th>\n",
              "      <th>Reading</th>\n",
              "      <th>Writing</th>\n",
              "      <th>Media global</th>\n",
              "    </tr>\n",
              "    <tr>\n",
              "      <th>Borough</th>\n",
              "      <th></th>\n",
              "      <th></th>\n",
              "      <th></th>\n",
              "      <th></th>\n",
              "    </tr>\n",
              "  </thead>\n",
              "  <tbody>\n",
              "    <tr>\n",
              "      <th>Bronx</th>\n",
              "      <td>404.357143</td>\n",
              "      <td>402.520408</td>\n",
              "      <td>395.846939</td>\n",
              "      <td>400.908163</td>\n",
              "    </tr>\n",
              "    <tr>\n",
              "      <th>Brooklyn</th>\n",
              "      <td>416.403670</td>\n",
              "      <td>410.761468</td>\n",
              "      <td>403.091743</td>\n",
              "      <td>410.085627</td>\n",
              "    </tr>\n",
              "    <tr>\n",
              "      <th>Manhattan</th>\n",
              "      <td>455.887640</td>\n",
              "      <td>444.932584</td>\n",
              "      <td>439.314607</td>\n",
              "      <td>446.711610</td>\n",
              "    </tr>\n",
              "    <tr>\n",
              "      <th>Queens</th>\n",
              "      <td>462.362319</td>\n",
              "      <td>443.260870</td>\n",
              "      <td>439.855072</td>\n",
              "      <td>448.492754</td>\n",
              "    </tr>\n",
              "    <tr>\n",
              "      <th>Staten Island</th>\n",
              "      <td>486.200000</td>\n",
              "      <td>478.500000</td>\n",
              "      <td>474.300000</td>\n",
              "      <td>479.666667</td>\n",
              "    </tr>\n",
              "    <tr>\n",
              "      <th>Media global</th>\n",
              "      <td>432.944000</td>\n",
              "      <td>424.504000</td>\n",
              "      <td>418.458667</td>\n",
              "      <td>425.302222</td>\n",
              "    </tr>\n",
              "  </tbody>\n",
              "</table>\n",
              "</div>"
            ],
            "text/plain": [
              "SAT_Section          Math     Reading     Writing  Media global\n",
              "Borough                                                        \n",
              "Bronx          404.357143  402.520408  395.846939    400.908163\n",
              "Brooklyn       416.403670  410.761468  403.091743    410.085627\n",
              "Manhattan      455.887640  444.932584  439.314607    446.711610\n",
              "Queens         462.362319  443.260870  439.855072    448.492754\n",
              "Staten Island  486.200000  478.500000  474.300000    479.666667\n",
              "Media global   432.944000  424.504000  418.458667    425.302222"
            ]
          },
          "metadata": {
            "tags": []
          },
          "execution_count": 74
        }
      ]
    },
    {
      "cell_type": "code",
      "metadata": {
        "id": "8U7JiQMcH2gQ",
        "colab": {
          "base_uri": "https://localhost:8080/",
          "height": 266
        },
        "outputId": "1b775c7f-8842-475d-de9f-86c25b2cd28b"
      },
      "source": [
        "sat.pivot_table(values='Score', index='Borough', columns='SAT_Section',aggfunc=['min','max'])"
      ],
      "execution_count": 75,
      "outputs": [
        {
          "output_type": "execute_result",
          "data": {
            "text/html": [
              "<div>\n",
              "<style scoped>\n",
              "    .dataframe tbody tr th:only-of-type {\n",
              "        vertical-align: middle;\n",
              "    }\n",
              "\n",
              "    .dataframe tbody tr th {\n",
              "        vertical-align: top;\n",
              "    }\n",
              "\n",
              "    .dataframe thead tr th {\n",
              "        text-align: left;\n",
              "    }\n",
              "\n",
              "    .dataframe thead tr:last-of-type th {\n",
              "        text-align: right;\n",
              "    }\n",
              "</style>\n",
              "<table border=\"1\" class=\"dataframe\">\n",
              "  <thead>\n",
              "    <tr>\n",
              "      <th></th>\n",
              "      <th colspan=\"3\" halign=\"left\">min</th>\n",
              "      <th colspan=\"3\" halign=\"left\">max</th>\n",
              "    </tr>\n",
              "    <tr>\n",
              "      <th>SAT_Section</th>\n",
              "      <th>Math</th>\n",
              "      <th>Reading</th>\n",
              "      <th>Writing</th>\n",
              "      <th>Math</th>\n",
              "      <th>Reading</th>\n",
              "      <th>Writing</th>\n",
              "    </tr>\n",
              "    <tr>\n",
              "      <th>Borough</th>\n",
              "      <th></th>\n",
              "      <th></th>\n",
              "      <th></th>\n",
              "      <th></th>\n",
              "      <th></th>\n",
              "      <th></th>\n",
              "    </tr>\n",
              "  </thead>\n",
              "  <tbody>\n",
              "    <tr>\n",
              "      <th>Bronx</th>\n",
              "      <td>317</td>\n",
              "      <td>311</td>\n",
              "      <td>292</td>\n",
              "      <td>714</td>\n",
              "      <td>672</td>\n",
              "      <td>672</td>\n",
              "    </tr>\n",
              "    <tr>\n",
              "      <th>Brooklyn</th>\n",
              "      <td>319</td>\n",
              "      <td>302</td>\n",
              "      <td>284</td>\n",
              "      <td>682</td>\n",
              "      <td>608</td>\n",
              "      <td>606</td>\n",
              "    </tr>\n",
              "    <tr>\n",
              "      <th>Manhattan</th>\n",
              "      <td>344</td>\n",
              "      <td>330</td>\n",
              "      <td>316</td>\n",
              "      <td>754</td>\n",
              "      <td>697</td>\n",
              "      <td>693</td>\n",
              "    </tr>\n",
              "    <tr>\n",
              "      <th>Queens</th>\n",
              "      <td>340</td>\n",
              "      <td>320</td>\n",
              "      <td>318</td>\n",
              "      <td>701</td>\n",
              "      <td>640</td>\n",
              "      <td>661</td>\n",
              "    </tr>\n",
              "    <tr>\n",
              "      <th>Staten Island</th>\n",
              "      <td>420</td>\n",
              "      <td>427</td>\n",
              "      <td>409</td>\n",
              "      <td>711</td>\n",
              "      <td>660</td>\n",
              "      <td>670</td>\n",
              "    </tr>\n",
              "  </tbody>\n",
              "</table>\n",
              "</div>"
            ],
            "text/plain": [
              "               min                  max                \n",
              "SAT_Section   Math Reading Writing Math Reading Writing\n",
              "Borough                                                \n",
              "Bronx          317     311     292  714     672     672\n",
              "Brooklyn       319     302     284  682     608     606\n",
              "Manhattan      344     330     316  754     697     693\n",
              "Queens         340     320     318  701     640     661\n",
              "Staten Island  420     427     409  711     660     670"
            ]
          },
          "metadata": {
            "tags": []
          },
          "execution_count": 75
        }
      ]
    },
    {
      "cell_type": "code",
      "metadata": {
        "id": "bDDnQ3SEH21X",
        "colab": {
          "base_uri": "https://localhost:8080/",
          "height": 111
        },
        "outputId": "25ac65ed-482d-423a-a746-d77e53d5d6aa"
      },
      "source": [
        "# desafio\n",
        "sat.head(2)"
      ],
      "execution_count": 76,
      "outputs": [
        {
          "output_type": "execute_result",
          "data": {
            "text/html": [
              "<div>\n",
              "<style scoped>\n",
              "    .dataframe tbody tr th:only-of-type {\n",
              "        vertical-align: middle;\n",
              "    }\n",
              "\n",
              "    .dataframe tbody tr th {\n",
              "        vertical-align: top;\n",
              "    }\n",
              "\n",
              "    .dataframe thead th {\n",
              "        text-align: right;\n",
              "    }\n",
              "</style>\n",
              "<table border=\"1\" class=\"dataframe\">\n",
              "  <thead>\n",
              "    <tr style=\"text-align: right;\">\n",
              "      <th></th>\n",
              "      <th>School Name</th>\n",
              "      <th>Borough</th>\n",
              "      <th>Student Enrollment</th>\n",
              "      <th>Percent_Tested</th>\n",
              "      <th>SAT_Section</th>\n",
              "      <th>Score</th>\n",
              "      <th>Sat_takers</th>\n",
              "    </tr>\n",
              "  </thead>\n",
              "  <tbody>\n",
              "    <tr>\n",
              "      <th>0</th>\n",
              "      <td>A. Philip Randolph Campus High School</td>\n",
              "      <td>Manhattan</td>\n",
              "      <td>1354</td>\n",
              "      <td>74.0</td>\n",
              "      <td>Math</td>\n",
              "      <td>459</td>\n",
              "      <td>1001.96</td>\n",
              "    </tr>\n",
              "    <tr>\n",
              "      <th>1</th>\n",
              "      <td>A. Philip Randolph Campus High School</td>\n",
              "      <td>Manhattan</td>\n",
              "      <td>1354</td>\n",
              "      <td>74.0</td>\n",
              "      <td>Reading</td>\n",
              "      <td>453</td>\n",
              "      <td>1001.96</td>\n",
              "    </tr>\n",
              "  </tbody>\n",
              "</table>\n",
              "</div>"
            ],
            "text/plain": [
              "                             School Name    Borough  ...  Score  Sat_takers\n",
              "0  A. Philip Randolph Campus High School  Manhattan  ...    459     1001.96\n",
              "1  A. Philip Randolph Campus High School  Manhattan  ...    453     1001.96\n",
              "\n",
              "[2 rows x 7 columns]"
            ]
          },
          "metadata": {
            "tags": []
          },
          "execution_count": 76
        }
      ]
    },
    {
      "cell_type": "code",
      "metadata": {
        "id": "jIivp7B1H24g",
        "colab": {
          "base_uri": "https://localhost:8080/",
          "height": 235
        },
        "outputId": "d1f021ee-d5fa-4d05-e28d-2ee738822f90"
      },
      "source": [
        "sat.pivot_table(values='Student Enrollment',index='Borough', aggfunc='sum')"
      ],
      "execution_count": 77,
      "outputs": [
        {
          "output_type": "execute_result",
          "data": {
            "text/html": [
              "<div>\n",
              "<style scoped>\n",
              "    .dataframe tbody tr th:only-of-type {\n",
              "        vertical-align: middle;\n",
              "    }\n",
              "\n",
              "    .dataframe tbody tr th {\n",
              "        vertical-align: top;\n",
              "    }\n",
              "\n",
              "    .dataframe thead th {\n",
              "        text-align: right;\n",
              "    }\n",
              "</style>\n",
              "<table border=\"1\" class=\"dataframe\">\n",
              "  <thead>\n",
              "    <tr style=\"text-align: right;\">\n",
              "      <th></th>\n",
              "      <th>Student Enrollment</th>\n",
              "    </tr>\n",
              "    <tr>\n",
              "      <th>Borough</th>\n",
              "      <th></th>\n",
              "    </tr>\n",
              "  </thead>\n",
              "  <tbody>\n",
              "    <tr>\n",
              "      <th>Bronx</th>\n",
              "      <td>159267</td>\n",
              "    </tr>\n",
              "    <tr>\n",
              "      <th>Brooklyn</th>\n",
              "      <td>242814</td>\n",
              "    </tr>\n",
              "    <tr>\n",
              "      <th>Manhattan</th>\n",
              "      <td>170370</td>\n",
              "    </tr>\n",
              "    <tr>\n",
              "      <th>Queens</th>\n",
              "      <td>232437</td>\n",
              "    </tr>\n",
              "    <tr>\n",
              "      <th>Staten Island</th>\n",
              "      <td>55380</td>\n",
              "    </tr>\n",
              "  </tbody>\n",
              "</table>\n",
              "</div>"
            ],
            "text/plain": [
              "               Student Enrollment\n",
              "Borough                          \n",
              "Bronx                      159267\n",
              "Brooklyn                   242814\n",
              "Manhattan                  170370\n",
              "Queens                     232437\n",
              "Staten Island               55380"
            ]
          },
          "metadata": {
            "tags": []
          },
          "execution_count": 77
        }
      ]
    },
    {
      "cell_type": "code",
      "metadata": {
        "id": "EVhOzJJhdYZM"
      },
      "source": [
        "teste = sat[sat.Borough == 'Queens']"
      ],
      "execution_count": 78,
      "outputs": []
    },
    {
      "cell_type": "code",
      "metadata": {
        "id": "-XXh7aXHeekX",
        "colab": {
          "base_uri": "https://localhost:8080/"
        },
        "outputId": "289da80f-4761-41f6-c5db-c5b28f67a017"
      },
      "source": [
        "sat[sat.Borough == 'Queens'].sum(numeric_only=True)"
      ],
      "execution_count": 79,
      "outputs": [
        {
          "output_type": "execute_result",
          "data": {
            "text/plain": [
              "Student Enrollment    232437.000\n",
              "Percent_Tested         14290.500\n",
              "Score                  92838.000\n",
              "Sat_takers            154823.073\n",
              "dtype: float64"
            ]
          },
          "metadata": {
            "tags": []
          },
          "execution_count": 79
        }
      ]
    },
    {
      "cell_type": "code",
      "metadata": {
        "id": "5esDQi09NsWt",
        "colab": {
          "base_uri": "https://localhost:8080/"
        },
        "outputId": "a8e958b6-bb1a-4148-9fbb-10a61f5ef36b"
      },
      "source": [
        "sat[sat.Borough == 'Queens'].mean(numeric_only=True)"
      ],
      "execution_count": 81,
      "outputs": [
        {
          "output_type": "execute_result",
          "data": {
            "text/plain": [
              "Student Enrollment    1122.884058\n",
              "Percent_Tested          69.036232\n",
              "Score                  448.492754\n",
              "Sat_takers             747.937551\n",
              "dtype: float64"
            ]
          },
          "metadata": {
            "tags": []
          },
          "execution_count": 81
        }
      ]
    },
    {
      "cell_type": "code",
      "metadata": {
        "colab": {
          "base_uri": "https://localhost:8080/",
          "height": 142
        },
        "id": "nAsgYRez2tEd",
        "outputId": "c566e902-b70f-45c4-9c9c-bccf6b9e7db6"
      },
      "source": [
        "teste.head(3)"
      ],
      "execution_count": 82,
      "outputs": [
        {
          "output_type": "execute_result",
          "data": {
            "text/html": [
              "<div>\n",
              "<style scoped>\n",
              "    .dataframe tbody tr th:only-of-type {\n",
              "        vertical-align: middle;\n",
              "    }\n",
              "\n",
              "    .dataframe tbody tr th {\n",
              "        vertical-align: top;\n",
              "    }\n",
              "\n",
              "    .dataframe thead th {\n",
              "        text-align: right;\n",
              "    }\n",
              "</style>\n",
              "<table border=\"1\" class=\"dataframe\">\n",
              "  <thead>\n",
              "    <tr style=\"text-align: right;\">\n",
              "      <th></th>\n",
              "      <th>School Name</th>\n",
              "      <th>Borough</th>\n",
              "      <th>Student Enrollment</th>\n",
              "      <th>Percent_Tested</th>\n",
              "      <th>SAT_Section</th>\n",
              "      <th>Score</th>\n",
              "      <th>Sat_takers</th>\n",
              "    </tr>\n",
              "  </thead>\n",
              "  <tbody>\n",
              "    <tr>\n",
              "      <th>6</th>\n",
              "      <td>Academy for Careers in Television and Film</td>\n",
              "      <td>Queens</td>\n",
              "      <td>515</td>\n",
              "      <td>95.0</td>\n",
              "      <td>Math</td>\n",
              "      <td>444</td>\n",
              "      <td>489.25</td>\n",
              "    </tr>\n",
              "    <tr>\n",
              "      <th>7</th>\n",
              "      <td>Academy for Careers in Television and Film</td>\n",
              "      <td>Queens</td>\n",
              "      <td>515</td>\n",
              "      <td>95.0</td>\n",
              "      <td>Reading</td>\n",
              "      <td>458</td>\n",
              "      <td>489.25</td>\n",
              "    </tr>\n",
              "    <tr>\n",
              "      <th>8</th>\n",
              "      <td>Academy for Careers in Television and Film</td>\n",
              "      <td>Queens</td>\n",
              "      <td>515</td>\n",
              "      <td>95.0</td>\n",
              "      <td>Writing</td>\n",
              "      <td>444</td>\n",
              "      <td>489.25</td>\n",
              "    </tr>\n",
              "  </tbody>\n",
              "</table>\n",
              "</div>"
            ],
            "text/plain": [
              "                                  School Name Borough  ...  Score  Sat_takers\n",
              "6  Academy for Careers in Television and Film  Queens  ...    444      489.25\n",
              "7  Academy for Careers in Television and Film  Queens  ...    458      489.25\n",
              "8  Academy for Careers in Television and Film  Queens  ...    444      489.25\n",
              "\n",
              "[3 rows x 7 columns]"
            ]
          },
          "metadata": {
            "tags": []
          },
          "execution_count": 82
        }
      ]
    },
    {
      "cell_type": "code",
      "metadata": {
        "colab": {
          "base_uri": "https://localhost:8080/",
          "height": 173
        },
        "id": "wiyDRfl32iqg",
        "outputId": "b89ec5b2-7822-4d10-8af3-b4b48de58689"
      },
      "source": [
        "teste.groupby('SAT_Section').agg('mean')"
      ],
      "execution_count": 85,
      "outputs": [
        {
          "output_type": "execute_result",
          "data": {
            "text/html": [
              "<div>\n",
              "<style scoped>\n",
              "    .dataframe tbody tr th:only-of-type {\n",
              "        vertical-align: middle;\n",
              "    }\n",
              "\n",
              "    .dataframe tbody tr th {\n",
              "        vertical-align: top;\n",
              "    }\n",
              "\n",
              "    .dataframe thead th {\n",
              "        text-align: right;\n",
              "    }\n",
              "</style>\n",
              "<table border=\"1\" class=\"dataframe\">\n",
              "  <thead>\n",
              "    <tr style=\"text-align: right;\">\n",
              "      <th></th>\n",
              "      <th>Student Enrollment</th>\n",
              "      <th>Percent_Tested</th>\n",
              "      <th>Score</th>\n",
              "      <th>Sat_takers</th>\n",
              "    </tr>\n",
              "    <tr>\n",
              "      <th>SAT_Section</th>\n",
              "      <th></th>\n",
              "      <th></th>\n",
              "      <th></th>\n",
              "      <th></th>\n",
              "    </tr>\n",
              "  </thead>\n",
              "  <tbody>\n",
              "    <tr>\n",
              "      <th>Math</th>\n",
              "      <td>1122.884058</td>\n",
              "      <td>69.036232</td>\n",
              "      <td>462.362319</td>\n",
              "      <td>747.937551</td>\n",
              "    </tr>\n",
              "    <tr>\n",
              "      <th>Reading</th>\n",
              "      <td>1122.884058</td>\n",
              "      <td>69.036232</td>\n",
              "      <td>443.260870</td>\n",
              "      <td>747.937551</td>\n",
              "    </tr>\n",
              "    <tr>\n",
              "      <th>Writing</th>\n",
              "      <td>1122.884058</td>\n",
              "      <td>69.036232</td>\n",
              "      <td>439.855072</td>\n",
              "      <td>747.937551</td>\n",
              "    </tr>\n",
              "  </tbody>\n",
              "</table>\n",
              "</div>"
            ],
            "text/plain": [
              "             Student Enrollment  Percent_Tested       Score  Sat_takers\n",
              "SAT_Section                                                            \n",
              "Math                1122.884058       69.036232  462.362319  747.937551\n",
              "Reading             1122.884058       69.036232  443.260870  747.937551\n",
              "Writing             1122.884058       69.036232  439.855072  747.937551"
            ]
          },
          "metadata": {
            "tags": []
          },
          "execution_count": 85
        }
      ]
    },
    {
      "cell_type": "code",
      "metadata": {
        "colab": {
          "base_uri": "https://localhost:8080/"
        },
        "id": "Oa2vXMXG2is-",
        "outputId": "4f4cf1e9-23e7-43c3-a5b2-e8a9fe9cb9d5"
      },
      "source": [
        "teste.groupby('SAT_Section')['Score'].agg('mean')"
      ],
      "execution_count": 87,
      "outputs": [
        {
          "output_type": "execute_result",
          "data": {
            "text/plain": [
              "SAT_Section\n",
              "Math       462.362319\n",
              "Reading    443.260870\n",
              "Writing    439.855072\n",
              "Name: Score, dtype: float64"
            ]
          },
          "metadata": {
            "tags": []
          },
          "execution_count": 87
        }
      ]
    },
    {
      "cell_type": "code",
      "metadata": {
        "colab": {
          "base_uri": "https://localhost:8080/",
          "height": 227
        },
        "id": "yKnaQ9p63QCC",
        "outputId": "be82d104-161d-4196-c1dc-ec55818d24ee"
      },
      "source": [
        "teste.groupby('SAT_Section')['Score','Sat_takers'].agg('mean')"
      ],
      "execution_count": 90,
      "outputs": [
        {
          "output_type": "stream",
          "text": [
            "/usr/local/lib/python3.7/dist-packages/ipykernel_launcher.py:1: FutureWarning: Indexing with multiple keys (implicitly converted to a tuple of keys) will be deprecated, use a list instead.\n",
            "  \"\"\"Entry point for launching an IPython kernel.\n"
          ],
          "name": "stderr"
        },
        {
          "output_type": "execute_result",
          "data": {
            "text/html": [
              "<div>\n",
              "<style scoped>\n",
              "    .dataframe tbody tr th:only-of-type {\n",
              "        vertical-align: middle;\n",
              "    }\n",
              "\n",
              "    .dataframe tbody tr th {\n",
              "        vertical-align: top;\n",
              "    }\n",
              "\n",
              "    .dataframe thead th {\n",
              "        text-align: right;\n",
              "    }\n",
              "</style>\n",
              "<table border=\"1\" class=\"dataframe\">\n",
              "  <thead>\n",
              "    <tr style=\"text-align: right;\">\n",
              "      <th></th>\n",
              "      <th>Score</th>\n",
              "      <th>Sat_takers</th>\n",
              "    </tr>\n",
              "    <tr>\n",
              "      <th>SAT_Section</th>\n",
              "      <th></th>\n",
              "      <th></th>\n",
              "    </tr>\n",
              "  </thead>\n",
              "  <tbody>\n",
              "    <tr>\n",
              "      <th>Math</th>\n",
              "      <td>462.362319</td>\n",
              "      <td>747.937551</td>\n",
              "    </tr>\n",
              "    <tr>\n",
              "      <th>Reading</th>\n",
              "      <td>443.260870</td>\n",
              "      <td>747.937551</td>\n",
              "    </tr>\n",
              "    <tr>\n",
              "      <th>Writing</th>\n",
              "      <td>439.855072</td>\n",
              "      <td>747.937551</td>\n",
              "    </tr>\n",
              "  </tbody>\n",
              "</table>\n",
              "</div>"
            ],
            "text/plain": [
              "                  Score  Sat_takers\n",
              "SAT_Section                        \n",
              "Math         462.362319  747.937551\n",
              "Reading      443.260870  747.937551\n",
              "Writing      439.855072  747.937551"
            ]
          },
          "metadata": {
            "tags": []
          },
          "execution_count": 90
        }
      ]
    }
  ]
}