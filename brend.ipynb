{
  "nbformat": 4,
  "nbformat_minor": 0,
  "metadata": {
    "colab": {
      "name": "brend.ipynb",
      "provenance": [],
      "mount_file_id": "1NeaDOjUbdOKbjXxYT6bcy6K9jW6KROhJ",
      "authorship_tag": "ABX9TyMZm90dNtyp6oCXJacjFgGB",
      "include_colab_link": true
    },
    "kernelspec": {
      "name": "python3",
      "display_name": "Python 3"
    },
    "language_info": {
      "name": "python"
    }
  },
  "cells": [
    {
      "cell_type": "markdown",
      "metadata": {
        "id": "view-in-github",
        "colab_type": "text"
      },
      "source": [
        "<a href=\"https://colab.research.google.com/github/junio-firmino/Aprendizado_python/blob/master/brend.ipynb\" target=\"_parent\"><img src=\"https://colab.research.google.com/assets/colab-badge.svg\" alt=\"Open In Colab\"/></a>"
      ]
    },
    {
      "cell_type": "code",
      "metadata": {
        "id": "PKoM-Z5XFZGI"
      },
      "source": [
        "import pandas as pd\n",
        "import numpy as np\n"
      ],
      "execution_count": null,
      "outputs": []
    },
    {
      "cell_type": "code",
      "metadata": {
        "id": "KxGdrfitFmXs"
      },
      "source": [
        "brend_url = '/content/drive/MyDrive/BrentOilPrices.csv'"
      ],
      "execution_count": null,
      "outputs": []
    },
    {
      "cell_type": "code",
      "metadata": {
        "id": "V8P-9Gs2Ft4T"
      },
      "source": [
        "brend = pd.read_csv(brend_url)"
      ],
      "execution_count": null,
      "outputs": []
    },
    {
      "cell_type": "code",
      "metadata": {
        "id": "3ZrvdPF0nkmE"
      },
      "source": [
        "brend_1 = pd.read_csv(brend_url,index_col=0,parse_dates=True)\n"
      ],
      "execution_count": null,
      "outputs": []
    },
    {
      "cell_type": "code",
      "metadata": {
        "colab": {
          "base_uri": "https://localhost:8080/",
          "height": 450
        },
        "id": "_mrw-sk8nt-U",
        "outputId": "a11d20f9-912d-40ac-b367-f52cfb04115a"
      },
      "source": [
        "brend_1"
      ],
      "execution_count": null,
      "outputs": [
        {
          "output_type": "execute_result",
          "data": {
            "text/html": [
              "<div>\n",
              "<style scoped>\n",
              "    .dataframe tbody tr th:only-of-type {\n",
              "        vertical-align: middle;\n",
              "    }\n",
              "\n",
              "    .dataframe tbody tr th {\n",
              "        vertical-align: top;\n",
              "    }\n",
              "\n",
              "    .dataframe thead th {\n",
              "        text-align: right;\n",
              "    }\n",
              "</style>\n",
              "<table border=\"1\" class=\"dataframe\">\n",
              "  <thead>\n",
              "    <tr style=\"text-align: right;\">\n",
              "      <th></th>\n",
              "      <th>Price</th>\n",
              "    </tr>\n",
              "    <tr>\n",
              "      <th>Date</th>\n",
              "      <th></th>\n",
              "    </tr>\n",
              "  </thead>\n",
              "  <tbody>\n",
              "    <tr>\n",
              "      <th>2000-01-04</th>\n",
              "      <td>23.95</td>\n",
              "    </tr>\n",
              "    <tr>\n",
              "      <th>2000-01-05</th>\n",
              "      <td>23.72</td>\n",
              "    </tr>\n",
              "    <tr>\n",
              "      <th>2000-01-06</th>\n",
              "      <td>23.55</td>\n",
              "    </tr>\n",
              "    <tr>\n",
              "      <th>2000-01-07</th>\n",
              "      <td>23.35</td>\n",
              "    </tr>\n",
              "    <tr>\n",
              "      <th>2000-01-10</th>\n",
              "      <td>22.77</td>\n",
              "    </tr>\n",
              "    <tr>\n",
              "      <th>...</th>\n",
              "      <td>...</td>\n",
              "    </tr>\n",
              "    <tr>\n",
              "      <th>2019-09-24</th>\n",
              "      <td>64.13</td>\n",
              "    </tr>\n",
              "    <tr>\n",
              "      <th>2019-09-25</th>\n",
              "      <td>62.41</td>\n",
              "    </tr>\n",
              "    <tr>\n",
              "      <th>2019-09-26</th>\n",
              "      <td>62.08</td>\n",
              "    </tr>\n",
              "    <tr>\n",
              "      <th>2019-09-27</th>\n",
              "      <td>62.48</td>\n",
              "    </tr>\n",
              "    <tr>\n",
              "      <th>2019-09-30</th>\n",
              "      <td>60.99</td>\n",
              "    </tr>\n",
              "  </tbody>\n",
              "</table>\n",
              "<p>5016 rows × 1 columns</p>\n",
              "</div>"
            ],
            "text/plain": [
              "            Price\n",
              "Date             \n",
              "2000-01-04  23.95\n",
              "2000-01-05  23.72\n",
              "2000-01-06  23.55\n",
              "2000-01-07  23.35\n",
              "2000-01-10  22.77\n",
              "...           ...\n",
              "2019-09-24  64.13\n",
              "2019-09-25  62.41\n",
              "2019-09-26  62.08\n",
              "2019-09-27  62.48\n",
              "2019-09-30  60.99\n",
              "\n",
              "[5016 rows x 1 columns]"
            ]
          },
          "metadata": {
            "tags": []
          },
          "execution_count": 5
        }
      ]
    },
    {
      "cell_type": "code",
      "metadata": {
        "id": "4XRlM89SoHyO"
      },
      "source": [
        "brend_1.reset_index(inplace=True)"
      ],
      "execution_count": null,
      "outputs": []
    },
    {
      "cell_type": "code",
      "metadata": {
        "colab": {
          "base_uri": "https://localhost:8080/",
          "height": 419
        },
        "id": "VdLDXaVjF0nS",
        "outputId": "c07425d0-10be-4684-bada-d8aa1b528182"
      },
      "source": [
        "brend"
      ],
      "execution_count": null,
      "outputs": [
        {
          "output_type": "execute_result",
          "data": {
            "text/html": [
              "<div>\n",
              "<style scoped>\n",
              "    .dataframe tbody tr th:only-of-type {\n",
              "        vertical-align: middle;\n",
              "    }\n",
              "\n",
              "    .dataframe tbody tr th {\n",
              "        vertical-align: top;\n",
              "    }\n",
              "\n",
              "    .dataframe thead th {\n",
              "        text-align: right;\n",
              "    }\n",
              "</style>\n",
              "<table border=\"1\" class=\"dataframe\">\n",
              "  <thead>\n",
              "    <tr style=\"text-align: right;\">\n",
              "      <th></th>\n",
              "      <th>Date</th>\n",
              "      <th>Price</th>\n",
              "    </tr>\n",
              "  </thead>\n",
              "  <tbody>\n",
              "    <tr>\n",
              "      <th>0</th>\n",
              "      <td>04-Jan-00</td>\n",
              "      <td>23.95</td>\n",
              "    </tr>\n",
              "    <tr>\n",
              "      <th>1</th>\n",
              "      <td>05-Jan-00</td>\n",
              "      <td>23.72</td>\n",
              "    </tr>\n",
              "    <tr>\n",
              "      <th>2</th>\n",
              "      <td>06-Jan-00</td>\n",
              "      <td>23.55</td>\n",
              "    </tr>\n",
              "    <tr>\n",
              "      <th>3</th>\n",
              "      <td>07-Jan-00</td>\n",
              "      <td>23.35</td>\n",
              "    </tr>\n",
              "    <tr>\n",
              "      <th>4</th>\n",
              "      <td>10-Jan-00</td>\n",
              "      <td>22.77</td>\n",
              "    </tr>\n",
              "    <tr>\n",
              "      <th>...</th>\n",
              "      <td>...</td>\n",
              "      <td>...</td>\n",
              "    </tr>\n",
              "    <tr>\n",
              "      <th>5011</th>\n",
              "      <td>24-Sep-19</td>\n",
              "      <td>64.13</td>\n",
              "    </tr>\n",
              "    <tr>\n",
              "      <th>5012</th>\n",
              "      <td>25-Sep-19</td>\n",
              "      <td>62.41</td>\n",
              "    </tr>\n",
              "    <tr>\n",
              "      <th>5013</th>\n",
              "      <td>26-Sep-19</td>\n",
              "      <td>62.08</td>\n",
              "    </tr>\n",
              "    <tr>\n",
              "      <th>5014</th>\n",
              "      <td>27-Sep-19</td>\n",
              "      <td>62.48</td>\n",
              "    </tr>\n",
              "    <tr>\n",
              "      <th>5015</th>\n",
              "      <td>30-Sep-19</td>\n",
              "      <td>60.99</td>\n",
              "    </tr>\n",
              "  </tbody>\n",
              "</table>\n",
              "<p>5016 rows × 2 columns</p>\n",
              "</div>"
            ],
            "text/plain": [
              "           Date  Price\n",
              "0     04-Jan-00  23.95\n",
              "1     05-Jan-00  23.72\n",
              "2     06-Jan-00  23.55\n",
              "3     07-Jan-00  23.35\n",
              "4     10-Jan-00  22.77\n",
              "...         ...    ...\n",
              "5011  24-Sep-19  64.13\n",
              "5012  25-Sep-19  62.41\n",
              "5013  26-Sep-19  62.08\n",
              "5014  27-Sep-19  62.48\n",
              "5015  30-Sep-19  60.99\n",
              "\n",
              "[5016 rows x 2 columns]"
            ]
          },
          "metadata": {
            "tags": []
          },
          "execution_count": 7
        }
      ]
    },
    {
      "cell_type": "code",
      "metadata": {
        "colab": {
          "base_uri": "https://localhost:8080/",
          "height": 419
        },
        "id": "i3x2JQiUoPI_",
        "outputId": "8591f1da-b24e-4994-d1fd-d853e620bb36"
      },
      "source": [
        "brend_1"
      ],
      "execution_count": null,
      "outputs": [
        {
          "output_type": "execute_result",
          "data": {
            "text/html": [
              "<div>\n",
              "<style scoped>\n",
              "    .dataframe tbody tr th:only-of-type {\n",
              "        vertical-align: middle;\n",
              "    }\n",
              "\n",
              "    .dataframe tbody tr th {\n",
              "        vertical-align: top;\n",
              "    }\n",
              "\n",
              "    .dataframe thead th {\n",
              "        text-align: right;\n",
              "    }\n",
              "</style>\n",
              "<table border=\"1\" class=\"dataframe\">\n",
              "  <thead>\n",
              "    <tr style=\"text-align: right;\">\n",
              "      <th></th>\n",
              "      <th>Date</th>\n",
              "      <th>Price</th>\n",
              "    </tr>\n",
              "  </thead>\n",
              "  <tbody>\n",
              "    <tr>\n",
              "      <th>0</th>\n",
              "      <td>2000-01-04</td>\n",
              "      <td>23.95</td>\n",
              "    </tr>\n",
              "    <tr>\n",
              "      <th>1</th>\n",
              "      <td>2000-01-05</td>\n",
              "      <td>23.72</td>\n",
              "    </tr>\n",
              "    <tr>\n",
              "      <th>2</th>\n",
              "      <td>2000-01-06</td>\n",
              "      <td>23.55</td>\n",
              "    </tr>\n",
              "    <tr>\n",
              "      <th>3</th>\n",
              "      <td>2000-01-07</td>\n",
              "      <td>23.35</td>\n",
              "    </tr>\n",
              "    <tr>\n",
              "      <th>4</th>\n",
              "      <td>2000-01-10</td>\n",
              "      <td>22.77</td>\n",
              "    </tr>\n",
              "    <tr>\n",
              "      <th>...</th>\n",
              "      <td>...</td>\n",
              "      <td>...</td>\n",
              "    </tr>\n",
              "    <tr>\n",
              "      <th>5011</th>\n",
              "      <td>2019-09-24</td>\n",
              "      <td>64.13</td>\n",
              "    </tr>\n",
              "    <tr>\n",
              "      <th>5012</th>\n",
              "      <td>2019-09-25</td>\n",
              "      <td>62.41</td>\n",
              "    </tr>\n",
              "    <tr>\n",
              "      <th>5013</th>\n",
              "      <td>2019-09-26</td>\n",
              "      <td>62.08</td>\n",
              "    </tr>\n",
              "    <tr>\n",
              "      <th>5014</th>\n",
              "      <td>2019-09-27</td>\n",
              "      <td>62.48</td>\n",
              "    </tr>\n",
              "    <tr>\n",
              "      <th>5015</th>\n",
              "      <td>2019-09-30</td>\n",
              "      <td>60.99</td>\n",
              "    </tr>\n",
              "  </tbody>\n",
              "</table>\n",
              "<p>5016 rows × 2 columns</p>\n",
              "</div>"
            ],
            "text/plain": [
              "           Date  Price\n",
              "0    2000-01-04  23.95\n",
              "1    2000-01-05  23.72\n",
              "2    2000-01-06  23.55\n",
              "3    2000-01-07  23.35\n",
              "4    2000-01-10  22.77\n",
              "...         ...    ...\n",
              "5011 2019-09-24  64.13\n",
              "5012 2019-09-25  62.41\n",
              "5013 2019-09-26  62.08\n",
              "5014 2019-09-27  62.48\n",
              "5015 2019-09-30  60.99\n",
              "\n",
              "[5016 rows x 2 columns]"
            ]
          },
          "metadata": {
            "tags": []
          },
          "execution_count": 8
        }
      ]
    },
    {
      "cell_type": "code",
      "metadata": {
        "id": "oZq6C0xtnjlD"
      },
      "source": [
        ""
      ],
      "execution_count": null,
      "outputs": []
    },
    {
      "cell_type": "code",
      "metadata": {
        "id": "Ryn1enQ5njqr"
      },
      "source": [
        ""
      ],
      "execution_count": null,
      "outputs": []
    },
    {
      "cell_type": "code",
      "metadata": {
        "colab": {
          "base_uri": "https://localhost:8080/"
        },
        "id": "fCm6jMVNI73a",
        "outputId": "7a68ee5c-8f56-487d-b7e4-124756da372f"
      },
      "source": [
        "brend.dtypes"
      ],
      "execution_count": null,
      "outputs": [
        {
          "output_type": "execute_result",
          "data": {
            "text/plain": [
              "Date      object\n",
              "Price    float64\n",
              "dtype: object"
            ]
          },
          "metadata": {
            "tags": []
          },
          "execution_count": 9
        }
      ]
    },
    {
      "cell_type": "code",
      "metadata": {
        "colab": {
          "base_uri": "https://localhost:8080/"
        },
        "id": "MSD95W_BJh8W",
        "outputId": "3550ced3-32b6-497a-89f7-59cb90bcb8f0"
      },
      "source": [
        "brend.Date"
      ],
      "execution_count": null,
      "outputs": [
        {
          "output_type": "execute_result",
          "data": {
            "text/plain": [
              "0       04-Jan-00\n",
              "1       05-Jan-00\n",
              "2       06-Jan-00\n",
              "3       07-Jan-00\n",
              "4       10-Jan-00\n",
              "          ...    \n",
              "5011    24-Sep-19\n",
              "5012    25-Sep-19\n",
              "5013    26-Sep-19\n",
              "5014    27-Sep-19\n",
              "5015    30-Sep-19\n",
              "Name: Date, Length: 5016, dtype: object"
            ]
          },
          "metadata": {
            "tags": []
          },
          "execution_count": 10
        }
      ]
    },
    {
      "cell_type": "code",
      "metadata": {
        "id": "SD-kp-OWI9WQ"
      },
      "source": [
        "brend.Date = brend.Date.astype(np.datetime64)   # Boa tecnica para mudar o tipo da variavel diretamemte "
      ],
      "execution_count": null,
      "outputs": []
    },
    {
      "cell_type": "code",
      "metadata": {
        "colab": {
          "base_uri": "https://localhost:8080/"
        },
        "id": "Kv_Uc0D4FuAv",
        "outputId": "dda6e10f-e812-45db-8a5e-c2addb112aac"
      },
      "source": [
        "brend.info()"
      ],
      "execution_count": null,
      "outputs": [
        {
          "output_type": "stream",
          "text": [
            "<class 'pandas.core.frame.DataFrame'>\n",
            "RangeIndex: 5016 entries, 0 to 5015\n",
            "Data columns (total 2 columns):\n",
            " #   Column  Non-Null Count  Dtype         \n",
            "---  ------  --------------  -----         \n",
            " 0   Date    5016 non-null   datetime64[ns]\n",
            " 1   Price   5016 non-null   float64       \n",
            "dtypes: datetime64[ns](1), float64(1)\n",
            "memory usage: 78.5 KB\n"
          ],
          "name": "stdout"
        }
      ]
    },
    {
      "cell_type": "code",
      "metadata": {
        "colab": {
          "base_uri": "https://localhost:8080/"
        },
        "id": "ZgRi7MCxJpFv",
        "outputId": "63fdb9d9-b311-4771-d9b4-b9146059b1ca"
      },
      "source": [
        "pd.date_range(start='1/20/2020', periods=10)"
      ],
      "execution_count": null,
      "outputs": [
        {
          "output_type": "execute_result",
          "data": {
            "text/plain": [
              "DatetimeIndex(['2020-01-20', '2020-01-21', '2020-01-22', '2020-01-23',\n",
              "               '2020-01-24', '2020-01-25', '2020-01-26', '2020-01-27',\n",
              "               '2020-01-28', '2020-01-29'],\n",
              "              dtype='datetime64[ns]', freq='D')"
            ]
          },
          "metadata": {
            "tags": []
          },
          "execution_count": 13
        }
      ]
    },
    {
      "cell_type": "code",
      "metadata": {
        "colab": {
          "base_uri": "https://localhost:8080/"
        },
        "id": "BU6I6uvYM7nH",
        "outputId": "730eff44-9f65-4322-f055-e9b8337c0a8c"
      },
      "source": [
        "pd.date_range(end='jul 2021', periods=20, freq='W')"
      ],
      "execution_count": null,
      "outputs": [
        {
          "output_type": "execute_result",
          "data": {
            "text/plain": [
              "DatetimeIndex(['2021-02-14', '2021-02-21', '2021-02-28', '2021-03-07',\n",
              "               '2021-03-14', '2021-03-21', '2021-03-28', '2021-04-04',\n",
              "               '2021-04-11', '2021-04-18', '2021-04-25', '2021-05-02',\n",
              "               '2021-05-09', '2021-05-16', '2021-05-23', '2021-05-30',\n",
              "               '2021-06-06', '2021-06-13', '2021-06-20', '2021-06-27'],\n",
              "              dtype='datetime64[ns]', freq='W-SUN')"
            ]
          },
          "metadata": {
            "tags": []
          },
          "execution_count": 14
        }
      ]
    },
    {
      "cell_type": "code",
      "metadata": {
        "colab": {
          "base_uri": "https://localhost:8080/"
        },
        "id": "eGyFRaWdFuFp",
        "outputId": "29476a35-1d79-46ca-aecb-5b8ec750e115"
      },
      "source": [
        "brend.info()"
      ],
      "execution_count": null,
      "outputs": [
        {
          "output_type": "stream",
          "text": [
            "<class 'pandas.core.frame.DataFrame'>\n",
            "RangeIndex: 5016 entries, 0 to 5015\n",
            "Data columns (total 2 columns):\n",
            " #   Column  Non-Null Count  Dtype         \n",
            "---  ------  --------------  -----         \n",
            " 0   Date    5016 non-null   datetime64[ns]\n",
            " 1   Price   5016 non-null   float64       \n",
            "dtypes: datetime64[ns](1), float64(1)\n",
            "memory usage: 78.5 KB\n"
          ],
          "name": "stdout"
        }
      ]
    },
    {
      "cell_type": "code",
      "metadata": {
        "id": "t0c8atttFuId"
      },
      "source": [
        "brend.set_index(keys='Date', inplace=True)"
      ],
      "execution_count": null,
      "outputs": []
    },
    {
      "cell_type": "code",
      "metadata": {
        "colab": {
          "base_uri": "https://localhost:8080/",
          "height": 450
        },
        "id": "kXSZXn1D14fI",
        "outputId": "9b94fe6b-ee2f-4b72-8c85-07535b506452"
      },
      "source": [
        "brend.resample('8H').mean()"
      ],
      "execution_count": null,
      "outputs": [
        {
          "output_type": "execute_result",
          "data": {
            "text/html": [
              "<div>\n",
              "<style scoped>\n",
              "    .dataframe tbody tr th:only-of-type {\n",
              "        vertical-align: middle;\n",
              "    }\n",
              "\n",
              "    .dataframe tbody tr th {\n",
              "        vertical-align: top;\n",
              "    }\n",
              "\n",
              "    .dataframe thead th {\n",
              "        text-align: right;\n",
              "    }\n",
              "</style>\n",
              "<table border=\"1\" class=\"dataframe\">\n",
              "  <thead>\n",
              "    <tr style=\"text-align: right;\">\n",
              "      <th></th>\n",
              "      <th>Price</th>\n",
              "    </tr>\n",
              "    <tr>\n",
              "      <th>Date</th>\n",
              "      <th></th>\n",
              "    </tr>\n",
              "  </thead>\n",
              "  <tbody>\n",
              "    <tr>\n",
              "      <th>2000-01-04 00:00:00</th>\n",
              "      <td>23.95</td>\n",
              "    </tr>\n",
              "    <tr>\n",
              "      <th>2000-01-04 08:00:00</th>\n",
              "      <td>NaN</td>\n",
              "    </tr>\n",
              "    <tr>\n",
              "      <th>2000-01-04 16:00:00</th>\n",
              "      <td>NaN</td>\n",
              "    </tr>\n",
              "    <tr>\n",
              "      <th>2000-01-05 00:00:00</th>\n",
              "      <td>23.72</td>\n",
              "    </tr>\n",
              "    <tr>\n",
              "      <th>2000-01-05 08:00:00</th>\n",
              "      <td>NaN</td>\n",
              "    </tr>\n",
              "    <tr>\n",
              "      <th>...</th>\n",
              "      <td>...</td>\n",
              "    </tr>\n",
              "    <tr>\n",
              "      <th>2019-09-28 16:00:00</th>\n",
              "      <td>NaN</td>\n",
              "    </tr>\n",
              "    <tr>\n",
              "      <th>2019-09-29 00:00:00</th>\n",
              "      <td>NaN</td>\n",
              "    </tr>\n",
              "    <tr>\n",
              "      <th>2019-09-29 08:00:00</th>\n",
              "      <td>NaN</td>\n",
              "    </tr>\n",
              "    <tr>\n",
              "      <th>2019-09-29 16:00:00</th>\n",
              "      <td>NaN</td>\n",
              "    </tr>\n",
              "    <tr>\n",
              "      <th>2019-09-30 00:00:00</th>\n",
              "      <td>60.99</td>\n",
              "    </tr>\n",
              "  </tbody>\n",
              "</table>\n",
              "<p>21628 rows × 1 columns</p>\n",
              "</div>"
            ],
            "text/plain": [
              "                     Price\n",
              "Date                      \n",
              "2000-01-04 00:00:00  23.95\n",
              "2000-01-04 08:00:00    NaN\n",
              "2000-01-04 16:00:00    NaN\n",
              "2000-01-05 00:00:00  23.72\n",
              "2000-01-05 08:00:00    NaN\n",
              "...                    ...\n",
              "2019-09-28 16:00:00    NaN\n",
              "2019-09-29 00:00:00    NaN\n",
              "2019-09-29 08:00:00    NaN\n",
              "2019-09-29 16:00:00    NaN\n",
              "2019-09-30 00:00:00  60.99\n",
              "\n",
              "[21628 rows x 1 columns]"
            ]
          },
          "metadata": {
            "tags": []
          },
          "execution_count": 17
        }
      ]
    },
    {
      "cell_type": "code",
      "metadata": {
        "colab": {
          "base_uri": "https://localhost:8080/",
          "height": 390
        },
        "id": "wVKWFmGz4s5g",
        "outputId": "92980cef-1aa8-4700-9f29-bd3317b823f3"
      },
      "source": [
        "brend.head(10)"
      ],
      "execution_count": null,
      "outputs": [
        {
          "output_type": "execute_result",
          "data": {
            "text/html": [
              "<div>\n",
              "<style scoped>\n",
              "    .dataframe tbody tr th:only-of-type {\n",
              "        vertical-align: middle;\n",
              "    }\n",
              "\n",
              "    .dataframe tbody tr th {\n",
              "        vertical-align: top;\n",
              "    }\n",
              "\n",
              "    .dataframe thead th {\n",
              "        text-align: right;\n",
              "    }\n",
              "</style>\n",
              "<table border=\"1\" class=\"dataframe\">\n",
              "  <thead>\n",
              "    <tr style=\"text-align: right;\">\n",
              "      <th></th>\n",
              "      <th>Price</th>\n",
              "    </tr>\n",
              "    <tr>\n",
              "      <th>Date</th>\n",
              "      <th></th>\n",
              "    </tr>\n",
              "  </thead>\n",
              "  <tbody>\n",
              "    <tr>\n",
              "      <th>2000-01-04</th>\n",
              "      <td>23.95</td>\n",
              "    </tr>\n",
              "    <tr>\n",
              "      <th>2000-01-05</th>\n",
              "      <td>23.72</td>\n",
              "    </tr>\n",
              "    <tr>\n",
              "      <th>2000-01-06</th>\n",
              "      <td>23.55</td>\n",
              "    </tr>\n",
              "    <tr>\n",
              "      <th>2000-01-07</th>\n",
              "      <td>23.35</td>\n",
              "    </tr>\n",
              "    <tr>\n",
              "      <th>2000-01-10</th>\n",
              "      <td>22.77</td>\n",
              "    </tr>\n",
              "    <tr>\n",
              "      <th>2000-01-11</th>\n",
              "      <td>23.93</td>\n",
              "    </tr>\n",
              "    <tr>\n",
              "      <th>2000-01-12</th>\n",
              "      <td>24.62</td>\n",
              "    </tr>\n",
              "    <tr>\n",
              "      <th>2000-01-13</th>\n",
              "      <td>24.90</td>\n",
              "    </tr>\n",
              "    <tr>\n",
              "      <th>2000-01-14</th>\n",
              "      <td>25.50</td>\n",
              "    </tr>\n",
              "    <tr>\n",
              "      <th>2000-01-17</th>\n",
              "      <td>25.99</td>\n",
              "    </tr>\n",
              "  </tbody>\n",
              "</table>\n",
              "</div>"
            ],
            "text/plain": [
              "            Price\n",
              "Date             \n",
              "2000-01-04  23.95\n",
              "2000-01-05  23.72\n",
              "2000-01-06  23.55\n",
              "2000-01-07  23.35\n",
              "2000-01-10  22.77\n",
              "2000-01-11  23.93\n",
              "2000-01-12  24.62\n",
              "2000-01-13  24.90\n",
              "2000-01-14  25.50\n",
              "2000-01-17  25.99"
            ]
          },
          "metadata": {
            "tags": []
          },
          "execution_count": 18
        }
      ]
    },
    {
      "cell_type": "code",
      "metadata": {
        "colab": {
          "base_uri": "https://localhost:8080/",
          "height": 450
        },
        "id": "NtkGvtNU4xf4",
        "outputId": "be3b38fe-2690-49ff-aa67-56feac25e3e7"
      },
      "source": [
        "brend.resample('8H').interpolate(method='spline',order=3)"
      ],
      "execution_count": null,
      "outputs": [
        {
          "output_type": "execute_result",
          "data": {
            "text/html": [
              "<div>\n",
              "<style scoped>\n",
              "    .dataframe tbody tr th:only-of-type {\n",
              "        vertical-align: middle;\n",
              "    }\n",
              "\n",
              "    .dataframe tbody tr th {\n",
              "        vertical-align: top;\n",
              "    }\n",
              "\n",
              "    .dataframe thead th {\n",
              "        text-align: right;\n",
              "    }\n",
              "</style>\n",
              "<table border=\"1\" class=\"dataframe\">\n",
              "  <thead>\n",
              "    <tr style=\"text-align: right;\">\n",
              "      <th></th>\n",
              "      <th>Price</th>\n",
              "    </tr>\n",
              "    <tr>\n",
              "      <th>Date</th>\n",
              "      <th></th>\n",
              "    </tr>\n",
              "  </thead>\n",
              "  <tbody>\n",
              "    <tr>\n",
              "      <th>2000-01-04 00:00:00</th>\n",
              "      <td>23.950000</td>\n",
              "    </tr>\n",
              "    <tr>\n",
              "      <th>2000-01-04 08:00:00</th>\n",
              "      <td>23.013531</td>\n",
              "    </tr>\n",
              "    <tr>\n",
              "      <th>2000-01-04 16:00:00</th>\n",
              "      <td>23.117453</td>\n",
              "    </tr>\n",
              "    <tr>\n",
              "      <th>2000-01-05 00:00:00</th>\n",
              "      <td>23.720000</td>\n",
              "    </tr>\n",
              "    <tr>\n",
              "      <th>2000-01-05 08:00:00</th>\n",
              "      <td>23.319619</td>\n",
              "    </tr>\n",
              "    <tr>\n",
              "      <th>...</th>\n",
              "      <td>...</td>\n",
              "    </tr>\n",
              "    <tr>\n",
              "      <th>2019-09-28 16:00:00</th>\n",
              "      <td>61.240570</td>\n",
              "    </tr>\n",
              "    <tr>\n",
              "      <th>2019-09-29 00:00:00</th>\n",
              "      <td>61.195778</td>\n",
              "    </tr>\n",
              "    <tr>\n",
              "      <th>2019-09-29 08:00:00</th>\n",
              "      <td>61.176797</td>\n",
              "    </tr>\n",
              "    <tr>\n",
              "      <th>2019-09-29 16:00:00</th>\n",
              "      <td>61.185408</td>\n",
              "    </tr>\n",
              "    <tr>\n",
              "      <th>2019-09-30 00:00:00</th>\n",
              "      <td>60.990000</td>\n",
              "    </tr>\n",
              "  </tbody>\n",
              "</table>\n",
              "<p>21628 rows × 1 columns</p>\n",
              "</div>"
            ],
            "text/plain": [
              "                         Price\n",
              "Date                          \n",
              "2000-01-04 00:00:00  23.950000\n",
              "2000-01-04 08:00:00  23.013531\n",
              "2000-01-04 16:00:00  23.117453\n",
              "2000-01-05 00:00:00  23.720000\n",
              "2000-01-05 08:00:00  23.319619\n",
              "...                        ...\n",
              "2019-09-28 16:00:00  61.240570\n",
              "2019-09-29 00:00:00  61.195778\n",
              "2019-09-29 08:00:00  61.176797\n",
              "2019-09-29 16:00:00  61.185408\n",
              "2019-09-30 00:00:00  60.990000\n",
              "\n",
              "[21628 rows x 1 columns]"
            ]
          },
          "metadata": {
            "tags": []
          },
          "execution_count": 19
        }
      ]
    },
    {
      "cell_type": "code",
      "metadata": {
        "colab": {
          "base_uri": "https://localhost:8080/",
          "height": 700
        },
        "id": "9nRiptmVks8F",
        "outputId": "eadeb5e1-4ac3-4b68-d13b-963aec8392d5"
      },
      "source": [
        "brend.asfreq('2D').head(20)"
      ],
      "execution_count": null,
      "outputs": [
        {
          "output_type": "execute_result",
          "data": {
            "text/html": [
              "<div>\n",
              "<style scoped>\n",
              "    .dataframe tbody tr th:only-of-type {\n",
              "        vertical-align: middle;\n",
              "    }\n",
              "\n",
              "    .dataframe tbody tr th {\n",
              "        vertical-align: top;\n",
              "    }\n",
              "\n",
              "    .dataframe thead th {\n",
              "        text-align: right;\n",
              "    }\n",
              "</style>\n",
              "<table border=\"1\" class=\"dataframe\">\n",
              "  <thead>\n",
              "    <tr style=\"text-align: right;\">\n",
              "      <th></th>\n",
              "      <th>Price</th>\n",
              "    </tr>\n",
              "    <tr>\n",
              "      <th>Date</th>\n",
              "      <th></th>\n",
              "    </tr>\n",
              "  </thead>\n",
              "  <tbody>\n",
              "    <tr>\n",
              "      <th>2000-01-04</th>\n",
              "      <td>23.95</td>\n",
              "    </tr>\n",
              "    <tr>\n",
              "      <th>2000-01-06</th>\n",
              "      <td>23.55</td>\n",
              "    </tr>\n",
              "    <tr>\n",
              "      <th>2000-01-08</th>\n",
              "      <td>NaN</td>\n",
              "    </tr>\n",
              "    <tr>\n",
              "      <th>2000-01-10</th>\n",
              "      <td>22.77</td>\n",
              "    </tr>\n",
              "    <tr>\n",
              "      <th>2000-01-12</th>\n",
              "      <td>24.62</td>\n",
              "    </tr>\n",
              "    <tr>\n",
              "      <th>2000-01-14</th>\n",
              "      <td>25.50</td>\n",
              "    </tr>\n",
              "    <tr>\n",
              "      <th>2000-01-16</th>\n",
              "      <td>NaN</td>\n",
              "    </tr>\n",
              "    <tr>\n",
              "      <th>2000-01-18</th>\n",
              "      <td>26.31</td>\n",
              "    </tr>\n",
              "    <tr>\n",
              "      <th>2000-01-20</th>\n",
              "      <td>26.26</td>\n",
              "    </tr>\n",
              "    <tr>\n",
              "      <th>2000-01-22</th>\n",
              "      <td>NaN</td>\n",
              "    </tr>\n",
              "    <tr>\n",
              "      <th>2000-01-24</th>\n",
              "      <td>27.02</td>\n",
              "    </tr>\n",
              "    <tr>\n",
              "      <th>2000-01-26</th>\n",
              "      <td>27.18</td>\n",
              "    </tr>\n",
              "    <tr>\n",
              "      <th>2000-01-28</th>\n",
              "      <td>26.59</td>\n",
              "    </tr>\n",
              "    <tr>\n",
              "      <th>2000-01-30</th>\n",
              "      <td>NaN</td>\n",
              "    </tr>\n",
              "    <tr>\n",
              "      <th>2000-02-01</th>\n",
              "      <td>27.35</td>\n",
              "    </tr>\n",
              "    <tr>\n",
              "      <th>2000-02-03</th>\n",
              "      <td>27.60</td>\n",
              "    </tr>\n",
              "    <tr>\n",
              "      <th>2000-02-05</th>\n",
              "      <td>NaN</td>\n",
              "    </tr>\n",
              "    <tr>\n",
              "      <th>2000-02-07</th>\n",
              "      <td>27.94</td>\n",
              "    </tr>\n",
              "    <tr>\n",
              "      <th>2000-02-09</th>\n",
              "      <td>27.44</td>\n",
              "    </tr>\n",
              "    <tr>\n",
              "      <th>2000-02-11</th>\n",
              "      <td>27.82</td>\n",
              "    </tr>\n",
              "  </tbody>\n",
              "</table>\n",
              "</div>"
            ],
            "text/plain": [
              "            Price\n",
              "Date             \n",
              "2000-01-04  23.95\n",
              "2000-01-06  23.55\n",
              "2000-01-08    NaN\n",
              "2000-01-10  22.77\n",
              "2000-01-12  24.62\n",
              "2000-01-14  25.50\n",
              "2000-01-16    NaN\n",
              "2000-01-18  26.31\n",
              "2000-01-20  26.26\n",
              "2000-01-22    NaN\n",
              "2000-01-24  27.02\n",
              "2000-01-26  27.18\n",
              "2000-01-28  26.59\n",
              "2000-01-30    NaN\n",
              "2000-02-01  27.35\n",
              "2000-02-03  27.60\n",
              "2000-02-05    NaN\n",
              "2000-02-07  27.94\n",
              "2000-02-09  27.44\n",
              "2000-02-11  27.82"
            ]
          },
          "metadata": {
            "tags": []
          },
          "execution_count": 20
        }
      ]
    },
    {
      "cell_type": "code",
      "metadata": {
        "colab": {
          "base_uri": "https://localhost:8080/",
          "height": 700
        },
        "id": "KWUPyw0JkuKf",
        "outputId": "f8419cd2-84cc-429b-b59e-dfbadee2fe7d"
      },
      "source": [
        "brend.head(20)"
      ],
      "execution_count": null,
      "outputs": [
        {
          "output_type": "execute_result",
          "data": {
            "text/html": [
              "<div>\n",
              "<style scoped>\n",
              "    .dataframe tbody tr th:only-of-type {\n",
              "        vertical-align: middle;\n",
              "    }\n",
              "\n",
              "    .dataframe tbody tr th {\n",
              "        vertical-align: top;\n",
              "    }\n",
              "\n",
              "    .dataframe thead th {\n",
              "        text-align: right;\n",
              "    }\n",
              "</style>\n",
              "<table border=\"1\" class=\"dataframe\">\n",
              "  <thead>\n",
              "    <tr style=\"text-align: right;\">\n",
              "      <th></th>\n",
              "      <th>Price</th>\n",
              "    </tr>\n",
              "    <tr>\n",
              "      <th>Date</th>\n",
              "      <th></th>\n",
              "    </tr>\n",
              "  </thead>\n",
              "  <tbody>\n",
              "    <tr>\n",
              "      <th>2000-01-04</th>\n",
              "      <td>23.95</td>\n",
              "    </tr>\n",
              "    <tr>\n",
              "      <th>2000-01-05</th>\n",
              "      <td>23.72</td>\n",
              "    </tr>\n",
              "    <tr>\n",
              "      <th>2000-01-06</th>\n",
              "      <td>23.55</td>\n",
              "    </tr>\n",
              "    <tr>\n",
              "      <th>2000-01-07</th>\n",
              "      <td>23.35</td>\n",
              "    </tr>\n",
              "    <tr>\n",
              "      <th>2000-01-10</th>\n",
              "      <td>22.77</td>\n",
              "    </tr>\n",
              "    <tr>\n",
              "      <th>2000-01-11</th>\n",
              "      <td>23.93</td>\n",
              "    </tr>\n",
              "    <tr>\n",
              "      <th>2000-01-12</th>\n",
              "      <td>24.62</td>\n",
              "    </tr>\n",
              "    <tr>\n",
              "      <th>2000-01-13</th>\n",
              "      <td>24.90</td>\n",
              "    </tr>\n",
              "    <tr>\n",
              "      <th>2000-01-14</th>\n",
              "      <td>25.50</td>\n",
              "    </tr>\n",
              "    <tr>\n",
              "      <th>2000-01-17</th>\n",
              "      <td>25.99</td>\n",
              "    </tr>\n",
              "    <tr>\n",
              "      <th>2000-01-18</th>\n",
              "      <td>26.31</td>\n",
              "    </tr>\n",
              "    <tr>\n",
              "      <th>2000-01-19</th>\n",
              "      <td>26.17</td>\n",
              "    </tr>\n",
              "    <tr>\n",
              "      <th>2000-01-20</th>\n",
              "      <td>26.26</td>\n",
              "    </tr>\n",
              "    <tr>\n",
              "      <th>2000-01-21</th>\n",
              "      <td>27.18</td>\n",
              "    </tr>\n",
              "    <tr>\n",
              "      <th>2000-01-24</th>\n",
              "      <td>27.02</td>\n",
              "    </tr>\n",
              "    <tr>\n",
              "      <th>2000-01-25</th>\n",
              "      <td>27.24</td>\n",
              "    </tr>\n",
              "    <tr>\n",
              "      <th>2000-01-26</th>\n",
              "      <td>27.18</td>\n",
              "    </tr>\n",
              "    <tr>\n",
              "      <th>2000-01-27</th>\n",
              "      <td>26.91</td>\n",
              "    </tr>\n",
              "    <tr>\n",
              "      <th>2000-01-28</th>\n",
              "      <td>26.59</td>\n",
              "    </tr>\n",
              "    <tr>\n",
              "      <th>2000-01-31</th>\n",
              "      <td>27.08</td>\n",
              "    </tr>\n",
              "  </tbody>\n",
              "</table>\n",
              "</div>"
            ],
            "text/plain": [
              "            Price\n",
              "Date             \n",
              "2000-01-04  23.95\n",
              "2000-01-05  23.72\n",
              "2000-01-06  23.55\n",
              "2000-01-07  23.35\n",
              "2000-01-10  22.77\n",
              "2000-01-11  23.93\n",
              "2000-01-12  24.62\n",
              "2000-01-13  24.90\n",
              "2000-01-14  25.50\n",
              "2000-01-17  25.99\n",
              "2000-01-18  26.31\n",
              "2000-01-19  26.17\n",
              "2000-01-20  26.26\n",
              "2000-01-21  27.18\n",
              "2000-01-24  27.02\n",
              "2000-01-25  27.24\n",
              "2000-01-26  27.18\n",
              "2000-01-27  26.91\n",
              "2000-01-28  26.59\n",
              "2000-01-31  27.08"
            ]
          },
          "metadata": {
            "tags": []
          },
          "execution_count": 21
        }
      ]
    },
    {
      "cell_type": "code",
      "metadata": {
        "colab": {
          "base_uri": "https://localhost:8080/",
          "height": 35
        },
        "id": "AkEUXo1Rks_G",
        "outputId": "c881ba94-14a6-41b0-bdd1-1c015661d987"
      },
      "source": [
        "pd.Timestamp('2000-01-24').day_name()"
      ],
      "execution_count": null,
      "outputs": [
        {
          "output_type": "execute_result",
          "data": {
            "application/vnd.google.colaboratory.intrinsic+json": {
              "type": "string"
            },
            "text/plain": [
              "'Monday'"
            ]
          },
          "metadata": {
            "tags": []
          },
          "execution_count": 22
        }
      ]
    },
    {
      "cell_type": "code",
      "metadata": {
        "colab": {
          "base_uri": "https://localhost:8080/",
          "height": 450
        },
        "id": "FD6S7Sa9llHG",
        "outputId": "2062d325-98f6-473a-ac95-233f52d37df4"
      },
      "source": [
        "brend.asfreq('10D', method='ffill')"
      ],
      "execution_count": null,
      "outputs": [
        {
          "output_type": "execute_result",
          "data": {
            "text/html": [
              "<div>\n",
              "<style scoped>\n",
              "    .dataframe tbody tr th:only-of-type {\n",
              "        vertical-align: middle;\n",
              "    }\n",
              "\n",
              "    .dataframe tbody tr th {\n",
              "        vertical-align: top;\n",
              "    }\n",
              "\n",
              "    .dataframe thead th {\n",
              "        text-align: right;\n",
              "    }\n",
              "</style>\n",
              "<table border=\"1\" class=\"dataframe\">\n",
              "  <thead>\n",
              "    <tr style=\"text-align: right;\">\n",
              "      <th></th>\n",
              "      <th>Price</th>\n",
              "    </tr>\n",
              "    <tr>\n",
              "      <th>Date</th>\n",
              "      <th></th>\n",
              "    </tr>\n",
              "  </thead>\n",
              "  <tbody>\n",
              "    <tr>\n",
              "      <th>2000-01-04</th>\n",
              "      <td>23.95</td>\n",
              "    </tr>\n",
              "    <tr>\n",
              "      <th>2000-01-14</th>\n",
              "      <td>25.50</td>\n",
              "    </tr>\n",
              "    <tr>\n",
              "      <th>2000-01-24</th>\n",
              "      <td>27.02</td>\n",
              "    </tr>\n",
              "    <tr>\n",
              "      <th>2000-02-03</th>\n",
              "      <td>27.60</td>\n",
              "    </tr>\n",
              "    <tr>\n",
              "      <th>2000-02-13</th>\n",
              "      <td>27.82</td>\n",
              "    </tr>\n",
              "    <tr>\n",
              "      <th>...</th>\n",
              "      <td>...</td>\n",
              "    </tr>\n",
              "    <tr>\n",
              "      <th>2019-08-12</th>\n",
              "      <td>57.13</td>\n",
              "    </tr>\n",
              "    <tr>\n",
              "      <th>2019-08-22</th>\n",
              "      <td>59.81</td>\n",
              "    </tr>\n",
              "    <tr>\n",
              "      <th>2019-09-01</th>\n",
              "      <td>61.04</td>\n",
              "    </tr>\n",
              "    <tr>\n",
              "      <th>2019-09-11</th>\n",
              "      <td>63.02</td>\n",
              "    </tr>\n",
              "    <tr>\n",
              "      <th>2019-09-21</th>\n",
              "      <td>65.23</td>\n",
              "    </tr>\n",
              "  </tbody>\n",
              "</table>\n",
              "<p>721 rows × 1 columns</p>\n",
              "</div>"
            ],
            "text/plain": [
              "            Price\n",
              "Date             \n",
              "2000-01-04  23.95\n",
              "2000-01-14  25.50\n",
              "2000-01-24  27.02\n",
              "2000-02-03  27.60\n",
              "2000-02-13  27.82\n",
              "...           ...\n",
              "2019-08-12  57.13\n",
              "2019-08-22  59.81\n",
              "2019-09-01  61.04\n",
              "2019-09-11  63.02\n",
              "2019-09-21  65.23\n",
              "\n",
              "[721 rows x 1 columns]"
            ]
          },
          "metadata": {
            "tags": []
          },
          "execution_count": 23
        }
      ]
    },
    {
      "cell_type": "code",
      "metadata": {
        "colab": {
          "base_uri": "https://localhost:8080/"
        },
        "id": "OQ_CYcnTktA5",
        "outputId": "dc94a067-c3c1-4fd8-b8f7-26d9fa976efb"
      },
      "source": [
        "brend.index"
      ],
      "execution_count": null,
      "outputs": [
        {
          "output_type": "execute_result",
          "data": {
            "text/plain": [
              "DatetimeIndex(['2000-01-04', '2000-01-05', '2000-01-06', '2000-01-07',\n",
              "               '2000-01-10', '2000-01-11', '2000-01-12', '2000-01-13',\n",
              "               '2000-01-14', '2000-01-17',\n",
              "               ...\n",
              "               '2019-09-17', '2019-09-18', '2019-09-19', '2019-09-20',\n",
              "               '2019-09-23', '2019-09-24', '2019-09-25', '2019-09-26',\n",
              "               '2019-09-27', '2019-09-30'],\n",
              "              dtype='datetime64[ns]', name='Date', length=5016, freq=None)"
            ]
          },
          "metadata": {
            "tags": []
          },
          "execution_count": 24
        }
      ]
    },
    {
      "cell_type": "code",
      "metadata": {
        "id": "GfCuDpY85v7N"
      },
      "source": [
        "brend['Quarter'] = brend.index.quarter"
      ],
      "execution_count": null,
      "outputs": []
    },
    {
      "cell_type": "code",
      "metadata": {
        "colab": {
          "base_uri": "https://localhost:8080/",
          "height": 450
        },
        "id": "ae7MK2Em51MU",
        "outputId": "fa09ad7b-5031-4fb5-ab43-089252b6180d"
      },
      "source": [
        "brend"
      ],
      "execution_count": null,
      "outputs": [
        {
          "output_type": "execute_result",
          "data": {
            "text/html": [
              "<div>\n",
              "<style scoped>\n",
              "    .dataframe tbody tr th:only-of-type {\n",
              "        vertical-align: middle;\n",
              "    }\n",
              "\n",
              "    .dataframe tbody tr th {\n",
              "        vertical-align: top;\n",
              "    }\n",
              "\n",
              "    .dataframe thead th {\n",
              "        text-align: right;\n",
              "    }\n",
              "</style>\n",
              "<table border=\"1\" class=\"dataframe\">\n",
              "  <thead>\n",
              "    <tr style=\"text-align: right;\">\n",
              "      <th></th>\n",
              "      <th>Price</th>\n",
              "      <th>Quarter</th>\n",
              "    </tr>\n",
              "    <tr>\n",
              "      <th>Date</th>\n",
              "      <th></th>\n",
              "      <th></th>\n",
              "    </tr>\n",
              "  </thead>\n",
              "  <tbody>\n",
              "    <tr>\n",
              "      <th>2000-01-04</th>\n",
              "      <td>23.95</td>\n",
              "      <td>1</td>\n",
              "    </tr>\n",
              "    <tr>\n",
              "      <th>2000-01-05</th>\n",
              "      <td>23.72</td>\n",
              "      <td>1</td>\n",
              "    </tr>\n",
              "    <tr>\n",
              "      <th>2000-01-06</th>\n",
              "      <td>23.55</td>\n",
              "      <td>1</td>\n",
              "    </tr>\n",
              "    <tr>\n",
              "      <th>2000-01-07</th>\n",
              "      <td>23.35</td>\n",
              "      <td>1</td>\n",
              "    </tr>\n",
              "    <tr>\n",
              "      <th>2000-01-10</th>\n",
              "      <td>22.77</td>\n",
              "      <td>1</td>\n",
              "    </tr>\n",
              "    <tr>\n",
              "      <th>...</th>\n",
              "      <td>...</td>\n",
              "      <td>...</td>\n",
              "    </tr>\n",
              "    <tr>\n",
              "      <th>2019-09-24</th>\n",
              "      <td>64.13</td>\n",
              "      <td>3</td>\n",
              "    </tr>\n",
              "    <tr>\n",
              "      <th>2019-09-25</th>\n",
              "      <td>62.41</td>\n",
              "      <td>3</td>\n",
              "    </tr>\n",
              "    <tr>\n",
              "      <th>2019-09-26</th>\n",
              "      <td>62.08</td>\n",
              "      <td>3</td>\n",
              "    </tr>\n",
              "    <tr>\n",
              "      <th>2019-09-27</th>\n",
              "      <td>62.48</td>\n",
              "      <td>3</td>\n",
              "    </tr>\n",
              "    <tr>\n",
              "      <th>2019-09-30</th>\n",
              "      <td>60.99</td>\n",
              "      <td>3</td>\n",
              "    </tr>\n",
              "  </tbody>\n",
              "</table>\n",
              "<p>5016 rows × 2 columns</p>\n",
              "</div>"
            ],
            "text/plain": [
              "            Price  Quarter\n",
              "Date                      \n",
              "2000-01-04  23.95        1\n",
              "2000-01-05  23.72        1\n",
              "2000-01-06  23.55        1\n",
              "2000-01-07  23.35        1\n",
              "2000-01-10  22.77        1\n",
              "...           ...      ...\n",
              "2019-09-24  64.13        3\n",
              "2019-09-25  62.41        3\n",
              "2019-09-26  62.08        3\n",
              "2019-09-27  62.48        3\n",
              "2019-09-30  60.99        3\n",
              "\n",
              "[5016 rows x 2 columns]"
            ]
          },
          "metadata": {
            "tags": []
          },
          "execution_count": 26
        }
      ]
    },
    {
      "cell_type": "code",
      "metadata": {
        "colab": {
          "base_uri": "https://localhost:8080/",
          "height": 545
        },
        "id": "muhr3lne6FXq",
        "outputId": "fbb5fc56-3ffe-460f-a0a2-f8ce6963371f"
      },
      "source": [
        "brend.sample(15)"
      ],
      "execution_count": null,
      "outputs": [
        {
          "output_type": "execute_result",
          "data": {
            "text/html": [
              "<div>\n",
              "<style scoped>\n",
              "    .dataframe tbody tr th:only-of-type {\n",
              "        vertical-align: middle;\n",
              "    }\n",
              "\n",
              "    .dataframe tbody tr th {\n",
              "        vertical-align: top;\n",
              "    }\n",
              "\n",
              "    .dataframe thead th {\n",
              "        text-align: right;\n",
              "    }\n",
              "</style>\n",
              "<table border=\"1\" class=\"dataframe\">\n",
              "  <thead>\n",
              "    <tr style=\"text-align: right;\">\n",
              "      <th></th>\n",
              "      <th>Price</th>\n",
              "      <th>Quarter</th>\n",
              "    </tr>\n",
              "    <tr>\n",
              "      <th>Date</th>\n",
              "      <th></th>\n",
              "      <th></th>\n",
              "    </tr>\n",
              "  </thead>\n",
              "  <tbody>\n",
              "    <tr>\n",
              "      <th>2018-01-30</th>\n",
              "      <td>67.78</td>\n",
              "      <td>1</td>\n",
              "    </tr>\n",
              "    <tr>\n",
              "      <th>2003-06-27</th>\n",
              "      <td>27.45</td>\n",
              "      <td>2</td>\n",
              "    </tr>\n",
              "    <tr>\n",
              "      <th>2017-10-09</th>\n",
              "      <td>55.29</td>\n",
              "      <td>4</td>\n",
              "    </tr>\n",
              "    <tr>\n",
              "      <th>2005-10-24</th>\n",
              "      <td>57.64</td>\n",
              "      <td>4</td>\n",
              "    </tr>\n",
              "    <tr>\n",
              "      <th>2002-04-08</th>\n",
              "      <td>26.36</td>\n",
              "      <td>2</td>\n",
              "    </tr>\n",
              "    <tr>\n",
              "      <th>2012-09-05</th>\n",
              "      <td>113.32</td>\n",
              "      <td>3</td>\n",
              "    </tr>\n",
              "    <tr>\n",
              "      <th>2000-06-12</th>\n",
              "      <td>30.10</td>\n",
              "      <td>2</td>\n",
              "    </tr>\n",
              "    <tr>\n",
              "      <th>2013-04-11</th>\n",
              "      <td>103.62</td>\n",
              "      <td>2</td>\n",
              "    </tr>\n",
              "    <tr>\n",
              "      <th>2003-10-06</th>\n",
              "      <td>29.75</td>\n",
              "      <td>4</td>\n",
              "    </tr>\n",
              "    <tr>\n",
              "      <th>2014-01-02</th>\n",
              "      <td>107.94</td>\n",
              "      <td>1</td>\n",
              "    </tr>\n",
              "    <tr>\n",
              "      <th>2015-11-06</th>\n",
              "      <td>46.09</td>\n",
              "      <td>4</td>\n",
              "    </tr>\n",
              "    <tr>\n",
              "      <th>2005-01-31</th>\n",
              "      <td>44.51</td>\n",
              "      <td>1</td>\n",
              "    </tr>\n",
              "    <tr>\n",
              "      <th>2014-03-31</th>\n",
              "      <td>105.95</td>\n",
              "      <td>1</td>\n",
              "    </tr>\n",
              "    <tr>\n",
              "      <th>2006-06-22</th>\n",
              "      <td>69.60</td>\n",
              "      <td>2</td>\n",
              "    </tr>\n",
              "    <tr>\n",
              "      <th>2004-04-21</th>\n",
              "      <td>33.23</td>\n",
              "      <td>2</td>\n",
              "    </tr>\n",
              "  </tbody>\n",
              "</table>\n",
              "</div>"
            ],
            "text/plain": [
              "             Price  Quarter\n",
              "Date                       \n",
              "2018-01-30   67.78        1\n",
              "2003-06-27   27.45        2\n",
              "2017-10-09   55.29        4\n",
              "2005-10-24   57.64        4\n",
              "2002-04-08   26.36        2\n",
              "2012-09-05  113.32        3\n",
              "2000-06-12   30.10        2\n",
              "2013-04-11  103.62        2\n",
              "2003-10-06   29.75        4\n",
              "2014-01-02  107.94        1\n",
              "2015-11-06   46.09        4\n",
              "2005-01-31   44.51        1\n",
              "2014-03-31  105.95        1\n",
              "2006-06-22   69.60        2\n",
              "2004-04-21   33.23        2"
            ]
          },
          "metadata": {
            "tags": []
          },
          "execution_count": 27
        }
      ]
    },
    {
      "cell_type": "code",
      "metadata": {
        "colab": {
          "base_uri": "https://localhost:8080/",
          "height": 450
        },
        "id": "w9h072Xt6N21",
        "outputId": "0aa0b512-2c29-47d1-923c-1ce148b86055"
      },
      "source": [
        "brend['2014']"
      ],
      "execution_count": null,
      "outputs": [
        {
          "output_type": "execute_result",
          "data": {
            "text/html": [
              "<div>\n",
              "<style scoped>\n",
              "    .dataframe tbody tr th:only-of-type {\n",
              "        vertical-align: middle;\n",
              "    }\n",
              "\n",
              "    .dataframe tbody tr th {\n",
              "        vertical-align: top;\n",
              "    }\n",
              "\n",
              "    .dataframe thead th {\n",
              "        text-align: right;\n",
              "    }\n",
              "</style>\n",
              "<table border=\"1\" class=\"dataframe\">\n",
              "  <thead>\n",
              "    <tr style=\"text-align: right;\">\n",
              "      <th></th>\n",
              "      <th>Price</th>\n",
              "      <th>Quarter</th>\n",
              "    </tr>\n",
              "    <tr>\n",
              "      <th>Date</th>\n",
              "      <th></th>\n",
              "      <th></th>\n",
              "    </tr>\n",
              "  </thead>\n",
              "  <tbody>\n",
              "    <tr>\n",
              "      <th>2014-01-02</th>\n",
              "      <td>107.94</td>\n",
              "      <td>1</td>\n",
              "    </tr>\n",
              "    <tr>\n",
              "      <th>2014-01-03</th>\n",
              "      <td>106.57</td>\n",
              "      <td>1</td>\n",
              "    </tr>\n",
              "    <tr>\n",
              "      <th>2014-01-06</th>\n",
              "      <td>106.71</td>\n",
              "      <td>1</td>\n",
              "    </tr>\n",
              "    <tr>\n",
              "      <th>2014-01-07</th>\n",
              "      <td>107.01</td>\n",
              "      <td>1</td>\n",
              "    </tr>\n",
              "    <tr>\n",
              "      <th>2014-01-08</th>\n",
              "      <td>107.42</td>\n",
              "      <td>1</td>\n",
              "    </tr>\n",
              "    <tr>\n",
              "      <th>...</th>\n",
              "      <td>...</td>\n",
              "      <td>...</td>\n",
              "    </tr>\n",
              "    <tr>\n",
              "      <th>2014-12-24</th>\n",
              "      <td>58.67</td>\n",
              "      <td>4</td>\n",
              "    </tr>\n",
              "    <tr>\n",
              "      <th>2014-12-26</th>\n",
              "      <td>58.72</td>\n",
              "      <td>4</td>\n",
              "    </tr>\n",
              "    <tr>\n",
              "      <th>2014-12-29</th>\n",
              "      <td>57.86</td>\n",
              "      <td>4</td>\n",
              "    </tr>\n",
              "    <tr>\n",
              "      <th>2014-12-30</th>\n",
              "      <td>55.60</td>\n",
              "      <td>4</td>\n",
              "    </tr>\n",
              "    <tr>\n",
              "      <th>2014-12-31</th>\n",
              "      <td>55.27</td>\n",
              "      <td>4</td>\n",
              "    </tr>\n",
              "  </tbody>\n",
              "</table>\n",
              "<p>254 rows × 2 columns</p>\n",
              "</div>"
            ],
            "text/plain": [
              "             Price  Quarter\n",
              "Date                       \n",
              "2014-01-02  107.94        1\n",
              "2014-01-03  106.57        1\n",
              "2014-01-06  106.71        1\n",
              "2014-01-07  107.01        1\n",
              "2014-01-08  107.42        1\n",
              "...            ...      ...\n",
              "2014-12-24   58.67        4\n",
              "2014-12-26   58.72        4\n",
              "2014-12-29   57.86        4\n",
              "2014-12-30   55.60        4\n",
              "2014-12-31   55.27        4\n",
              "\n",
              "[254 rows x 2 columns]"
            ]
          },
          "metadata": {
            "tags": []
          },
          "execution_count": 28
        }
      ]
    },
    {
      "cell_type": "code",
      "metadata": {
        "colab": {
          "base_uri": "https://localhost:8080/",
          "height": 450
        },
        "id": "b3F_leUm6Bpp",
        "outputId": "e1991f8b-4a3d-4965-ecf2-a8b0c8664c99"
      },
      "source": [
        "brend['2014']     # Atenção para os caso de filtro para quando temos queremos alguma informação do index "
      ],
      "execution_count": null,
      "outputs": [
        {
          "output_type": "execute_result",
          "data": {
            "text/html": [
              "<div>\n",
              "<style scoped>\n",
              "    .dataframe tbody tr th:only-of-type {\n",
              "        vertical-align: middle;\n",
              "    }\n",
              "\n",
              "    .dataframe tbody tr th {\n",
              "        vertical-align: top;\n",
              "    }\n",
              "\n",
              "    .dataframe thead th {\n",
              "        text-align: right;\n",
              "    }\n",
              "</style>\n",
              "<table border=\"1\" class=\"dataframe\">\n",
              "  <thead>\n",
              "    <tr style=\"text-align: right;\">\n",
              "      <th></th>\n",
              "      <th>Price</th>\n",
              "      <th>Quarter</th>\n",
              "    </tr>\n",
              "    <tr>\n",
              "      <th>Date</th>\n",
              "      <th></th>\n",
              "      <th></th>\n",
              "    </tr>\n",
              "  </thead>\n",
              "  <tbody>\n",
              "    <tr>\n",
              "      <th>2014-01-02</th>\n",
              "      <td>107.94</td>\n",
              "      <td>1</td>\n",
              "    </tr>\n",
              "    <tr>\n",
              "      <th>2014-01-03</th>\n",
              "      <td>106.57</td>\n",
              "      <td>1</td>\n",
              "    </tr>\n",
              "    <tr>\n",
              "      <th>2014-01-06</th>\n",
              "      <td>106.71</td>\n",
              "      <td>1</td>\n",
              "    </tr>\n",
              "    <tr>\n",
              "      <th>2014-01-07</th>\n",
              "      <td>107.01</td>\n",
              "      <td>1</td>\n",
              "    </tr>\n",
              "    <tr>\n",
              "      <th>2014-01-08</th>\n",
              "      <td>107.42</td>\n",
              "      <td>1</td>\n",
              "    </tr>\n",
              "    <tr>\n",
              "      <th>...</th>\n",
              "      <td>...</td>\n",
              "      <td>...</td>\n",
              "    </tr>\n",
              "    <tr>\n",
              "      <th>2014-12-24</th>\n",
              "      <td>58.67</td>\n",
              "      <td>4</td>\n",
              "    </tr>\n",
              "    <tr>\n",
              "      <th>2014-12-26</th>\n",
              "      <td>58.72</td>\n",
              "      <td>4</td>\n",
              "    </tr>\n",
              "    <tr>\n",
              "      <th>2014-12-29</th>\n",
              "      <td>57.86</td>\n",
              "      <td>4</td>\n",
              "    </tr>\n",
              "    <tr>\n",
              "      <th>2014-12-30</th>\n",
              "      <td>55.60</td>\n",
              "      <td>4</td>\n",
              "    </tr>\n",
              "    <tr>\n",
              "      <th>2014-12-31</th>\n",
              "      <td>55.27</td>\n",
              "      <td>4</td>\n",
              "    </tr>\n",
              "  </tbody>\n",
              "</table>\n",
              "<p>254 rows × 2 columns</p>\n",
              "</div>"
            ],
            "text/plain": [
              "             Price  Quarter\n",
              "Date                       \n",
              "2014-01-02  107.94        1\n",
              "2014-01-03  106.57        1\n",
              "2014-01-06  106.71        1\n",
              "2014-01-07  107.01        1\n",
              "2014-01-08  107.42        1\n",
              "...            ...      ...\n",
              "2014-12-24   58.67        4\n",
              "2014-12-26   58.72        4\n",
              "2014-12-29   57.86        4\n",
              "2014-12-30   55.60        4\n",
              "2014-12-31   55.27        4\n",
              "\n",
              "[254 rows x 2 columns]"
            ]
          },
          "metadata": {
            "tags": []
          },
          "execution_count": 29
        }
      ]
    },
    {
      "cell_type": "code",
      "metadata": {
        "colab": {
          "base_uri": "https://localhost:8080/",
          "height": 235
        },
        "id": "klGKxVEn6B1Q",
        "outputId": "57fe2261-7166-4765-e201-dc5d99c45231"
      },
      "source": [
        "brend['2014'].groupby('Quarter').agg(['mean','std'])"
      ],
      "execution_count": null,
      "outputs": [
        {
          "output_type": "execute_result",
          "data": {
            "text/html": [
              "<div>\n",
              "<style scoped>\n",
              "    .dataframe tbody tr th:only-of-type {\n",
              "        vertical-align: middle;\n",
              "    }\n",
              "\n",
              "    .dataframe tbody tr th {\n",
              "        vertical-align: top;\n",
              "    }\n",
              "\n",
              "    .dataframe thead tr th {\n",
              "        text-align: left;\n",
              "    }\n",
              "\n",
              "    .dataframe thead tr:last-of-type th {\n",
              "        text-align: right;\n",
              "    }\n",
              "</style>\n",
              "<table border=\"1\" class=\"dataframe\">\n",
              "  <thead>\n",
              "    <tr>\n",
              "      <th></th>\n",
              "      <th colspan=\"2\" halign=\"left\">Price</th>\n",
              "    </tr>\n",
              "    <tr>\n",
              "      <th></th>\n",
              "      <th>mean</th>\n",
              "      <th>std</th>\n",
              "    </tr>\n",
              "    <tr>\n",
              "      <th>Quarter</th>\n",
              "      <th></th>\n",
              "      <th></th>\n",
              "    </tr>\n",
              "  </thead>\n",
              "  <tbody>\n",
              "    <tr>\n",
              "      <th>1</th>\n",
              "      <td>108.141935</td>\n",
              "      <td>1.280641</td>\n",
              "    </tr>\n",
              "    <tr>\n",
              "      <th>2</th>\n",
              "      <td>109.694063</td>\n",
              "      <td>2.406442</td>\n",
              "    </tr>\n",
              "    <tr>\n",
              "      <th>3</th>\n",
              "      <td>101.899844</td>\n",
              "      <td>4.364868</td>\n",
              "    </tr>\n",
              "    <tr>\n",
              "      <th>4</th>\n",
              "      <td>76.429219</td>\n",
              "      <td>11.410171</td>\n",
              "    </tr>\n",
              "  </tbody>\n",
              "</table>\n",
              "</div>"
            ],
            "text/plain": [
              "              Price           \n",
              "               mean        std\n",
              "Quarter                       \n",
              "1        108.141935   1.280641\n",
              "2        109.694063   2.406442\n",
              "3        101.899844   4.364868\n",
              "4         76.429219  11.410171"
            ]
          },
          "metadata": {
            "tags": []
          },
          "execution_count": 30
        }
      ]
    },
    {
      "cell_type": "code",
      "metadata": {
        "id": "MGQHxRzE8DSi",
        "colab": {
          "base_uri": "https://localhost:8080/"
        },
        "outputId": "9e2a0e31-2346-4c3e-8b24-bad1e3765763"
      },
      "source": [
        "pd.Timestamp('4th of july 1779')"
      ],
      "execution_count": null,
      "outputs": [
        {
          "output_type": "execute_result",
          "data": {
            "text/plain": [
              "Timestamp('1779-07-04 00:00:00')"
            ]
          },
          "metadata": {
            "tags": []
          },
          "execution_count": 31
        }
      ]
    },
    {
      "cell_type": "code",
      "metadata": {
        "id": "PbE3jBgs51Ov",
        "colab": {
          "base_uri": "https://localhost:8080/"
        },
        "outputId": "17988fc9-0b0e-4e98-da83-898d9be809e4"
      },
      "source": [
        "pd.Timestamp('4/7/1778')"
      ],
      "execution_count": null,
      "outputs": [
        {
          "output_type": "execute_result",
          "data": {
            "text/plain": [
              "Timestamp('1778-04-07 00:00:00')"
            ]
          },
          "metadata": {
            "tags": []
          },
          "execution_count": 32
        }
      ]
    },
    {
      "cell_type": "code",
      "metadata": {
        "id": "AGLK4A1a51RN"
      },
      "source": [
        ""
      ],
      "execution_count": null,
      "outputs": []
    },
    {
      "cell_type": "code",
      "metadata": {
        "id": "RWVBVPDEktDv"
      },
      "source": [
        ""
      ],
      "execution_count": null,
      "outputs": []
    },
    {
      "cell_type": "code",
      "metadata": {
        "id": "RE63Wv_3ktGL"
      },
      "source": [
        ""
      ],
      "execution_count": null,
      "outputs": []
    }
  ]
}