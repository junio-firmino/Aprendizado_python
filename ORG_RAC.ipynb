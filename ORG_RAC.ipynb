{
  "nbformat": 4,
  "nbformat_minor": 0,
  "metadata": {
    "colab": {
      "name": "ORG_RAC.ipynb",
      "provenance": [],
      "mount_file_id": "1nr7mrYmXwWanMLfDNMaKqyo3pMbaXYqM",
      "authorship_tag": "ABX9TyPzrPFSoDIQhDm+kpX10RiD",
      "include_colab_link": true
    },
    "kernelspec": {
      "name": "python3",
      "display_name": "Python 3"
    },
    "language_info": {
      "name": "python"
    }
  },
  "cells": [
    {
      "cell_type": "markdown",
      "metadata": {
        "id": "view-in-github",
        "colab_type": "text"
      },
      "source": [
        "<a href=\"https://colab.research.google.com/github/junio-firmino/Aprendizado_python/blob/master/ORG_RAC.ipynb\" target=\"_parent\"><img src=\"https://colab.research.google.com/assets/colab-badge.svg\" alt=\"Open In Colab\"/></a>"
      ]
    },
    {
      "cell_type": "code",
      "metadata": {
        "id": "FHSOHuQOvmzw"
      },
      "source": [
        "import pandas as pd"
      ],
      "execution_count": null,
      "outputs": []
    },
    {
      "cell_type": "code",
      "metadata": {
        "id": "L7S7cUOWvwjT"
      },
      "source": [
        "cpc_rac_arq_jan_jul = \"/content/drive/MyDrive/CMI CPC JAN JULHO 2021.xlsx\""
      ],
      "execution_count": null,
      "outputs": []
    },
    {
      "cell_type": "code",
      "metadata": {
        "id": "xUTjR7PfxCT6"
      },
      "source": [
        "cpc_rac_arq_ago = \"/content/drive/MyDrive/GOG CMI CPC AGOSTO.xlsx\""
      ],
      "execution_count": null,
      "outputs": []
    },
    {
      "cell_type": "code",
      "metadata": {
        "id": "_Pq20Fw0xtBQ"
      },
      "source": [
        "cpc_rac_arq_set = \"/content/drive/MyDrive/CMI CPC - SETEMBRO.xlsx\""
      ],
      "execution_count": null,
      "outputs": []
    },
    {
      "cell_type": "code",
      "metadata": {
        "id": "4MwGyuWTyDUO"
      },
      "source": [
        "cpc_rac_arq_out = \"/content/drive/MyDrive/GOG CMI CPC OUTUBRO.xlsx\""
      ],
      "execution_count": null,
      "outputs": []
    },
    {
      "cell_type": "code",
      "metadata": {
        "id": "9dtJwR_EylBF"
      },
      "source": [
        "# ---- criar dataframe dos mês -------"
      ],
      "execution_count": null,
      "outputs": []
    },
    {
      "cell_type": "code",
      "metadata": {
        "id": "MF4g9KM-yx8V"
      },
      "source": [
        "cpc_rac_jan_jul = pd.read_excel(cpc_rac_arq_jan_jul, skiprows=3)"
      ],
      "execution_count": null,
      "outputs": []
    },
    {
      "cell_type": "code",
      "metadata": {
        "colab": {
          "base_uri": "https://localhost:8080/",
          "height": 320
        },
        "id": "CKsMoeG6SZdp",
        "outputId": "499989a8-43d6-460f-8bc5-293a2fbe0d99"
      },
      "source": [
        "cpc_rac_jan_jul.head(3)"
      ],
      "execution_count": null,
      "outputs": [
        {
          "output_type": "execute_result",
          "data": {
            "text/html": [
              "<div>\n",
              "<style scoped>\n",
              "    .dataframe tbody tr th:only-of-type {\n",
              "        vertical-align: middle;\n",
              "    }\n",
              "\n",
              "    .dataframe tbody tr th {\n",
              "        vertical-align: top;\n",
              "    }\n",
              "\n",
              "    .dataframe thead th {\n",
              "        text-align: right;\n",
              "    }\n",
              "</style>\n",
              "<table border=\"1\" class=\"dataframe\">\n",
              "  <thead>\n",
              "    <tr style=\"text-align: right;\">\n",
              "      <th></th>\n",
              "      <th>Árvore</th>\n",
              "      <th>Ger. Geral</th>\n",
              "      <th>Gerência</th>\n",
              "      <th>Critério</th>\n",
              "      <th>Critério Item</th>\n",
              "      <th>Conta</th>\n",
              "      <th>Centro de Custo</th>\n",
              "      <th>Planejado (AJ1)</th>\n",
              "      <th>Realizado (RE1)</th>\n",
              "      <th>Planejado (AJ1).1</th>\n",
              "      <th>Realizado (RE1).1</th>\n",
              "      <th>Planejado (AJ1).2</th>\n",
              "      <th>Realizado (RE1).2</th>\n",
              "      <th>Planejado (AJ1).3</th>\n",
              "      <th>Realizado (RE1).3</th>\n",
              "      <th>Planejado (AJ1).4</th>\n",
              "      <th>Realizado (RE1).4</th>\n",
              "      <th>Planejado (AJ1).5</th>\n",
              "      <th>Realizado (RE1).5</th>\n",
              "      <th>Planejado (AJ1).6</th>\n",
              "      <th>Realizado (RE1).6</th>\n",
              "      <th>Planejado (AJ1).7</th>\n",
              "      <th>Realizado (RE1).7</th>\n",
              "      <th>Planejado (AJ1).8</th>\n",
              "      <th>Realizado (RE1).8</th>\n",
              "      <th>Planejado (AJ1).9</th>\n",
              "      <th>Realizado (RE1).9</th>\n",
              "      <th>Planejado (AJ1).10</th>\n",
              "      <th>Realizado (RE1).10</th>\n",
              "      <th>Planejado (AJ1).11</th>\n",
              "      <th>Realizado (RE1).11</th>\n",
              "      <th>Total geral de Planejado (AJ1)</th>\n",
              "      <th>Total geral de Realizado (RE1)</th>\n",
              "    </tr>\n",
              "  </thead>\n",
              "  <tbody>\n",
              "    <tr>\n",
              "      <th>0</th>\n",
              "      <td>Comercialização no Mercado Interno</td>\n",
              "      <td>CPC</td>\n",
              "      <td>CMI/CPC</td>\n",
              "      <td>01 Pessoal Próprio</td>\n",
              "      <td>01.01 Salários</td>\n",
              "      <td>4302000001 - SALÁRIOS</td>\n",
              "      <td>AM43ADMB00 - ADM CMI/CPC</td>\n",
              "      <td>104.74</td>\n",
              "      <td>101.04</td>\n",
              "      <td>117.34</td>\n",
              "      <td>118.62</td>\n",
              "      <td>117.34</td>\n",
              "      <td>115.84</td>\n",
              "      <td>117.34</td>\n",
              "      <td>112.52</td>\n",
              "      <td>117.34</td>\n",
              "      <td>115.84</td>\n",
              "      <td>117.34</td>\n",
              "      <td>114.81</td>\n",
              "      <td>115.23</td>\n",
              "      <td>98.20</td>\n",
              "      <td>121.56</td>\n",
              "      <td>0.0</td>\n",
              "      <td>121.56</td>\n",
              "      <td>0.0</td>\n",
              "      <td>121.56</td>\n",
              "      <td>0.0</td>\n",
              "      <td>121.56</td>\n",
              "      <td>0.0</td>\n",
              "      <td>118.34</td>\n",
              "      <td>0.0</td>\n",
              "      <td>1411.28</td>\n",
              "      <td>776.88</td>\n",
              "    </tr>\n",
              "    <tr>\n",
              "      <th>1</th>\n",
              "      <td>Comercialização no Mercado Interno</td>\n",
              "      <td>CPC</td>\n",
              "      <td>CMI/CPC</td>\n",
              "      <td>01 Pessoal Próprio</td>\n",
              "      <td>01.01 Salários</td>\n",
              "      <td>4302000002 - ADICIONAIS</td>\n",
              "      <td>AM43ADMB00 - ADM CMI/CPC</td>\n",
              "      <td>8.27</td>\n",
              "      <td>6.35</td>\n",
              "      <td>9.26</td>\n",
              "      <td>11.69</td>\n",
              "      <td>9.26</td>\n",
              "      <td>9.56</td>\n",
              "      <td>9.26</td>\n",
              "      <td>7.30</td>\n",
              "      <td>9.26</td>\n",
              "      <td>9.62</td>\n",
              "      <td>9.26</td>\n",
              "      <td>8.89</td>\n",
              "      <td>9.09</td>\n",
              "      <td>8.84</td>\n",
              "      <td>9.59</td>\n",
              "      <td>0.0</td>\n",
              "      <td>9.59</td>\n",
              "      <td>0.0</td>\n",
              "      <td>9.59</td>\n",
              "      <td>0.0</td>\n",
              "      <td>9.59</td>\n",
              "      <td>0.0</td>\n",
              "      <td>9.34</td>\n",
              "      <td>0.0</td>\n",
              "      <td>111.38</td>\n",
              "      <td>62.26</td>\n",
              "    </tr>\n",
              "    <tr>\n",
              "      <th>2</th>\n",
              "      <td>Comercialização no Mercado Interno</td>\n",
              "      <td>CPC</td>\n",
              "      <td>CMI/CPC</td>\n",
              "      <td>01 Pessoal Próprio</td>\n",
              "      <td>01.01 Salários</td>\n",
              "      <td>4302000003 - GRATIFICAÇÕES</td>\n",
              "      <td>AM43ADMB00 - ADM CMI/CPC</td>\n",
              "      <td>17.34</td>\n",
              "      <td>12.64</td>\n",
              "      <td>19.43</td>\n",
              "      <td>24.45</td>\n",
              "      <td>19.43</td>\n",
              "      <td>24.03</td>\n",
              "      <td>19.43</td>\n",
              "      <td>22.65</td>\n",
              "      <td>19.43</td>\n",
              "      <td>24.03</td>\n",
              "      <td>19.43</td>\n",
              "      <td>23.60</td>\n",
              "      <td>17.27</td>\n",
              "      <td>20.03</td>\n",
              "      <td>18.22</td>\n",
              "      <td>0.0</td>\n",
              "      <td>18.22</td>\n",
              "      <td>0.0</td>\n",
              "      <td>18.22</td>\n",
              "      <td>0.0</td>\n",
              "      <td>18.22</td>\n",
              "      <td>0.0</td>\n",
              "      <td>17.73</td>\n",
              "      <td>0.0</td>\n",
              "      <td>222.35</td>\n",
              "      <td>151.42</td>\n",
              "    </tr>\n",
              "  </tbody>\n",
              "</table>\n",
              "</div>"
            ],
            "text/plain": [
              "                               Árvore  ... Total geral de Realizado (RE1)\n",
              "0  Comercialização no Mercado Interno  ...                         776.88\n",
              "1  Comercialização no Mercado Interno  ...                          62.26\n",
              "2  Comercialização no Mercado Interno  ...                         151.42\n",
              "\n",
              "[3 rows x 33 columns]"
            ]
          },
          "metadata": {},
          "execution_count": 9
        }
      ]
    },
    {
      "cell_type": "code",
      "metadata": {
        "id": "6j1PZSNaFj46"
      },
      "source": [
        "new_rename_columns_jan = {'Planejado (AJ1)': 'Planejado', \"Realizado (RE1)\": 'Realizado'} # 'Janeiro' Mudar em todos os meses"
      ],
      "execution_count": null,
      "outputs": []
    },
    {
      "cell_type": "code",
      "metadata": {
        "id": "U-FYTiR5IYLr"
      },
      "source": [
        "cpc_rac_jan_jul = cpc_rac_jan_jul.rename(columns=new_rename_columns_jan)"
      ],
      "execution_count": null,
      "outputs": []
    },
    {
      "cell_type": "code",
      "metadata": {
        "id": "d5jiFPYLFkcw"
      },
      "source": [
        "columns = ['Gerência','Critério Item','Conta']  # I can use to diferentes from months"
      ],
      "execution_count": null,
      "outputs": []
    },
    {
      "cell_type": "code",
      "metadata": {
        "id": "XQhkIc2FKknG"
      },
      "source": [
        "cpc_rac_jan = cpc_rac_jan_jul.iloc [:,7:9]  # Mudar Mês aqui"
      ],
      "execution_count": null,
      "outputs": []
    },
    {
      "cell_type": "code",
      "metadata": {
        "id": "JYmP6pQlKk3-"
      },
      "source": [
        "cpc_rac_jan['Mês']= 'Janeiro' "
      ],
      "execution_count": null,
      "outputs": []
    },
    {
      "cell_type": "code",
      "metadata": {
        "id": "jM0LS8cQMc69"
      },
      "source": [
        "cpc_rac_jan_correct_columns = cpc_rac_jan_jul[columns] # Pode pegar para cada mês"
      ],
      "execution_count": null,
      "outputs": []
    },
    {
      "cell_type": "code",
      "metadata": {
        "id": "Ieom2B-vMzQw"
      },
      "source": [
        "cpc_rac_jan_merge = pd.merge(cpc_rac_jan_correct_columns,cpc_rac_jan, left_index=True,right_index=True)"
      ],
      "execution_count": null,
      "outputs": []
    },
    {
      "cell_type": "code",
      "metadata": {
        "id": "iDMNk4GcOZ2X"
      },
      "source": [
        "# ----- Fevereiro -------"
      ],
      "execution_count": null,
      "outputs": []
    },
    {
      "cell_type": "code",
      "metadata": {
        "id": "tL4lSVbUOaCi"
      },
      "source": [
        "new_rename_columns_fev = {'Planejado (AJ1).1': 'Planejado', \"Realizado (RE1).1\": 'Realizado'}"
      ],
      "execution_count": null,
      "outputs": []
    },
    {
      "cell_type": "code",
      "metadata": {
        "id": "dH4LvietOaGB"
      },
      "source": [
        "cpc_rac_fev_columns = cpc_rac_jan_jul.rename(columns=new_rename_columns_fev)"
      ],
      "execution_count": null,
      "outputs": []
    },
    {
      "cell_type": "code",
      "metadata": {
        "id": "2B_6yoXFPNOa"
      },
      "source": [
        "cpc_rac_fev = cpc_rac_fev_columns.iloc [:,9:11]"
      ],
      "execution_count": null,
      "outputs": []
    },
    {
      "cell_type": "code",
      "metadata": {
        "id": "8Iuw9PXrPNRA"
      },
      "source": [
        "cpc_rac_fev['Mês']='Fevereiro'"
      ],
      "execution_count": null,
      "outputs": []
    },
    {
      "cell_type": "code",
      "metadata": {
        "id": "dS2EpeG9RIAp"
      },
      "source": [
        "cpc_rac_fev_merge = pd.merge(cpc_rac_jan_correct_columns,cpc_rac_fev, left_index=True, right_index=True)"
      ],
      "execution_count": null,
      "outputs": []
    },
    {
      "cell_type": "code",
      "metadata": {
        "id": "_L3fdCyUTFBn"
      },
      "source": [
        "df_test_drop = pd.concat([cpc_rac_jan_merge,cpc_rac_fev_merge])"
      ],
      "execution_count": null,
      "outputs": []
    },
    {
      "cell_type": "code",
      "metadata": {
        "id": "4xjdU6xFTE2t"
      },
      "source": [
        "list_index_conta_df_test = df_test_drop.loc[df_test_drop.Conta.isin(['Subtotal','Total geral'])].index"
      ],
      "execution_count": null,
      "outputs": []
    },
    {
      "cell_type": "code",
      "metadata": {
        "colab": {
          "base_uri": "https://localhost:8080/"
        },
        "id": "awyjL62KTsWO",
        "outputId": "28b67f1f-693d-4775-9e7c-b53faead0148"
      },
      "source": [
        "list_index_conta_df_test"
      ],
      "execution_count": null,
      "outputs": [
        {
          "output_type": "execute_result",
          "data": {
            "text/plain": [
              "Int64Index([263, 263], dtype='int64')"
            ]
          },
          "metadata": {},
          "execution_count": 25
        }
      ]
    },
    {
      "cell_type": "code",
      "metadata": {
        "id": "avtJQzBbTsTC"
      },
      "source": [
        ""
      ],
      "execution_count": null,
      "outputs": []
    },
    {
      "cell_type": "code",
      "metadata": {
        "id": "at7qLVDfTsNo"
      },
      "source": [
        ""
      ],
      "execution_count": null,
      "outputs": []
    },
    {
      "cell_type": "code",
      "metadata": {
        "id": "Psh0nL3TSHl5"
      },
      "source": [
        "# ----- Março ------"
      ],
      "execution_count": null,
      "outputs": []
    },
    {
      "cell_type": "code",
      "metadata": {
        "id": "y5eFMsgMSNIo"
      },
      "source": [
        "new_rename_columns_mar = {'Planejado (AJ1).2': 'Planejado', \"Realizado (RE1).2\": 'Realizado'}"
      ],
      "execution_count": null,
      "outputs": []
    },
    {
      "cell_type": "code",
      "metadata": {
        "id": "tlpnO9ObS-c-"
      },
      "source": [
        "cpc_rac_mar_columns = cpc_rac_jan_jul.rename(columns=new_rename_columns_mar)"
      ],
      "execution_count": null,
      "outputs": []
    },
    {
      "cell_type": "code",
      "metadata": {
        "id": "1OLhlseGTAaM"
      },
      "source": [
        "cpc_rac_mar = cpc_rac_mar_columns.iloc [:,11:13]"
      ],
      "execution_count": null,
      "outputs": []
    },
    {
      "cell_type": "code",
      "metadata": {
        "id": "PF5lK_IBTA2V"
      },
      "source": [
        "cpc_rac_mar['Mês']='Março'"
      ],
      "execution_count": null,
      "outputs": []
    },
    {
      "cell_type": "code",
      "metadata": {
        "id": "P1W-bxwoTBc6"
      },
      "source": [
        "cpc_rac_mar_merge = pd.merge(cpc_rac_jan_correct_columns,cpc_rac_mar, left_index=True, right_index=True)"
      ],
      "execution_count": null,
      "outputs": []
    },
    {
      "cell_type": "code",
      "metadata": {
        "id": "7287_yJ4TCC9"
      },
      "source": [
        "# ------- Abril ---------"
      ],
      "execution_count": null,
      "outputs": []
    },
    {
      "cell_type": "code",
      "metadata": {
        "id": "gOsnqL7RUKk6"
      },
      "source": [
        "new_rename_columns_abr = {'Planejado (AJ1).3': 'Planejado', \"Realizado (RE1).3\": 'Realizado'}"
      ],
      "execution_count": null,
      "outputs": []
    },
    {
      "cell_type": "code",
      "metadata": {
        "id": "NJOHngtYUKnt"
      },
      "source": [
        "cpc_rac_abr_columns = cpc_rac_jan_jul.rename(columns=new_rename_columns_abr)"
      ],
      "execution_count": null,
      "outputs": []
    },
    {
      "cell_type": "code",
      "metadata": {
        "id": "ZSYToOzjUKqa"
      },
      "source": [
        "cpc_rac_abr = cpc_rac_abr_columns.iloc [:,13:15]"
      ],
      "execution_count": null,
      "outputs": []
    },
    {
      "cell_type": "code",
      "metadata": {
        "id": "LbARmst5UKsy"
      },
      "source": [
        "cpc_rac_abr['Mês']='Abril'"
      ],
      "execution_count": null,
      "outputs": []
    },
    {
      "cell_type": "code",
      "metadata": {
        "id": "q0UvHa5PUKvN"
      },
      "source": [
        "cpc_rac_abr_merge = pd.merge(cpc_rac_jan_correct_columns,cpc_rac_abr, left_index=True, right_index=True)"
      ],
      "execution_count": null,
      "outputs": []
    },
    {
      "cell_type": "code",
      "metadata": {
        "id": "OFoBzRwWbyNV"
      },
      "source": [
        "# -------- Maio -----------"
      ],
      "execution_count": null,
      "outputs": []
    },
    {
      "cell_type": "code",
      "metadata": {
        "id": "plML5wnMb0bv"
      },
      "source": [
        "new_rename_columns_mai = {'Planejado (AJ1).4': 'Planejado', \"Realizado (RE1).4\": 'Realizado'}"
      ],
      "execution_count": null,
      "outputs": []
    },
    {
      "cell_type": "code",
      "metadata": {
        "id": "naW98PPxb6TO"
      },
      "source": [
        "cpc_rac_mai_columns = cpc_rac_jan_jul.rename(columns=new_rename_columns_mai)"
      ],
      "execution_count": null,
      "outputs": []
    },
    {
      "cell_type": "code",
      "metadata": {
        "id": "eJlU8bymcAGc"
      },
      "source": [
        "cpc_rac_mai = cpc_rac_mai_columns.iloc [:,15:17]"
      ],
      "execution_count": null,
      "outputs": []
    },
    {
      "cell_type": "code",
      "metadata": {
        "id": "-paYtGDXcG97"
      },
      "source": [
        "cpc_rac_mai['Mês']='Maio'"
      ],
      "execution_count": null,
      "outputs": []
    },
    {
      "cell_type": "code",
      "metadata": {
        "id": "G3cJKs8XcMuu"
      },
      "source": [
        "cpc_rac_mai_merge = pd.merge(cpc_rac_jan_correct_columns,cpc_rac_mai, left_index=True, right_index=True)"
      ],
      "execution_count": null,
      "outputs": []
    },
    {
      "cell_type": "code",
      "metadata": {
        "id": "W4tka4bUcppr"
      },
      "source": [
        "# ------ Junho -------"
      ],
      "execution_count": null,
      "outputs": []
    },
    {
      "cell_type": "code",
      "metadata": {
        "id": "F-r1CXkfctbL"
      },
      "source": [
        "new_rename_columns_jun = {'Planejado (AJ1).5': 'Planejado', \"Realizado (RE1).5\": 'Realizado'}"
      ],
      "execution_count": null,
      "outputs": []
    },
    {
      "cell_type": "code",
      "metadata": {
        "id": "cWvBFLxf9bYE"
      },
      "source": [
        "cpc_rac_jun_columns = cpc_rac_jan_jul.rename(columns=new_rename_columns_jun)"
      ],
      "execution_count": null,
      "outputs": []
    },
    {
      "cell_type": "code",
      "metadata": {
        "id": "AtIbgiEk9hWk"
      },
      "source": [
        "cpc_rac_jun = cpc_rac_jun_columns.iloc [:,17:19]"
      ],
      "execution_count": null,
      "outputs": []
    },
    {
      "cell_type": "code",
      "metadata": {
        "id": "R5Ohtafu9tqy"
      },
      "source": [
        "cpc_rac_jun['Mês']='Junho'"
      ],
      "execution_count": null,
      "outputs": []
    },
    {
      "cell_type": "code",
      "metadata": {
        "id": "qXKZpluk9xm3"
      },
      "source": [
        "cpc_rac_jun_merge = pd.merge(cpc_rac_jan_correct_columns,cpc_rac_jun, left_index=True, right_index=True)"
      ],
      "execution_count": null,
      "outputs": []
    },
    {
      "cell_type": "code",
      "metadata": {
        "id": "3nEs4B0a93pN"
      },
      "source": [
        "# -------- Julho ---------------"
      ],
      "execution_count": null,
      "outputs": []
    },
    {
      "cell_type": "code",
      "metadata": {
        "id": "tseVjTEg-BkK"
      },
      "source": [
        "new_rename_columns_jul = {'Planejado (AJ1).6': 'Planejado', \"Realizado (RE1).6\": 'Realizado'}"
      ],
      "execution_count": null,
      "outputs": []
    },
    {
      "cell_type": "code",
      "metadata": {
        "id": "MdWd1nKW-QE_"
      },
      "source": [
        "cpc_rac_jul_columns = cpc_rac_jan_jul.rename(columns=new_rename_columns_jul)"
      ],
      "execution_count": null,
      "outputs": []
    },
    {
      "cell_type": "code",
      "metadata": {
        "id": "LKdncURi-UtV"
      },
      "source": [
        "cpc_rac_jul = cpc_rac_jul_columns.iloc [:,19:21]"
      ],
      "execution_count": null,
      "outputs": []
    },
    {
      "cell_type": "code",
      "metadata": {
        "id": "6zKIgp0j-aTO"
      },
      "source": [
        "cpc_rac_jul['Mês']='Julho'"
      ],
      "execution_count": null,
      "outputs": []
    },
    {
      "cell_type": "code",
      "metadata": {
        "id": "c3paIqcX-eXZ"
      },
      "source": [
        "cpc_rac_jul_merge = pd.merge(cpc_rac_jan_correct_columns,cpc_rac_jul, left_index=True, right_index=True)"
      ],
      "execution_count": null,
      "outputs": []
    },
    {
      "cell_type": "code",
      "metadata": {
        "id": "npEIRcFqIRxu"
      },
      "source": [
        "# -------------- Agosto ---------------"
      ],
      "execution_count": null,
      "outputs": []
    },
    {
      "cell_type": "code",
      "metadata": {
        "id": "WQNtU1bLISJN"
      },
      "source": [
        "cpc_rac_ago = pd.read_excel(cpc_rac_arq_ago, skiprows=2)"
      ],
      "execution_count": null,
      "outputs": []
    },
    {
      "cell_type": "code",
      "metadata": {
        "colab": {
          "base_uri": "https://localhost:8080/",
          "height": 143
        },
        "id": "X9ZomIg3ISMW",
        "outputId": "2c59ba9e-2369-4529-d31e-6f0f197500a8"
      },
      "source": [
        "cpc_rac_ago.head(3)"
      ],
      "execution_count": null,
      "outputs": [
        {
          "output_type": "execute_result",
          "data": {
            "text/html": [
              "<div>\n",
              "<style scoped>\n",
              "    .dataframe tbody tr th:only-of-type {\n",
              "        vertical-align: middle;\n",
              "    }\n",
              "\n",
              "    .dataframe tbody tr th {\n",
              "        vertical-align: top;\n",
              "    }\n",
              "\n",
              "    .dataframe thead th {\n",
              "        text-align: right;\n",
              "    }\n",
              "</style>\n",
              "<table border=\"1\" class=\"dataframe\">\n",
              "  <thead>\n",
              "    <tr style=\"text-align: right;\">\n",
              "      <th></th>\n",
              "      <th>Ger. Geral</th>\n",
              "      <th>Gerência</th>\n",
              "      <th>Critério</th>\n",
              "      <th>Critério Item</th>\n",
              "      <th>Conta</th>\n",
              "      <th>Centro de Custo</th>\n",
              "      <th>Planejado (AJ1)</th>\n",
              "      <th>Realizado (RE1)</th>\n",
              "    </tr>\n",
              "  </thead>\n",
              "  <tbody>\n",
              "    <tr>\n",
              "      <th>0</th>\n",
              "      <td>CPC</td>\n",
              "      <td>CMI/CPC</td>\n",
              "      <td>01 Pessoal Próprio</td>\n",
              "      <td>01.01 Salários</td>\n",
              "      <td>4302000001 - SALÁRIOS</td>\n",
              "      <td>AM43ADMB00 - ADM CMI/CPC</td>\n",
              "      <td>121.56</td>\n",
              "      <td>98.84</td>\n",
              "    </tr>\n",
              "    <tr>\n",
              "      <th>1</th>\n",
              "      <td>CPC</td>\n",
              "      <td>CMI/CPC</td>\n",
              "      <td>01 Pessoal Próprio</td>\n",
              "      <td>01.01 Salários</td>\n",
              "      <td>4302000002 - ADICIONAIS</td>\n",
              "      <td>AM43ADMB00 - ADM CMI/CPC</td>\n",
              "      <td>9.59</td>\n",
              "      <td>7.98</td>\n",
              "    </tr>\n",
              "    <tr>\n",
              "      <th>2</th>\n",
              "      <td>CPC</td>\n",
              "      <td>CMI/CPC</td>\n",
              "      <td>01 Pessoal Próprio</td>\n",
              "      <td>01.01 Salários</td>\n",
              "      <td>4302000003 - GRATIFICAÇÕES</td>\n",
              "      <td>AM43ADMB00 - ADM CMI/CPC</td>\n",
              "      <td>18.22</td>\n",
              "      <td>21.49</td>\n",
              "    </tr>\n",
              "  </tbody>\n",
              "</table>\n",
              "</div>"
            ],
            "text/plain": [
              "  Ger. Geral Gerência  ... Planejado (AJ1) Realizado (RE1)\n",
              "0        CPC  CMI/CPC  ...          121.56           98.84\n",
              "1        CPC  CMI/CPC  ...            9.59            7.98\n",
              "2        CPC  CMI/CPC  ...           18.22           21.49\n",
              "\n",
              "[3 rows x 8 columns]"
            ]
          },
          "metadata": {},
          "execution_count": 58
        }
      ]
    },
    {
      "cell_type": "code",
      "metadata": {
        "id": "4RgNe0smISPo"
      },
      "source": [
        "new_rename_columns_ago = {'Planejado (AJ1)': 'Planejado', \"Realizado (RE1)\": 'Realizado'}"
      ],
      "execution_count": null,
      "outputs": []
    },
    {
      "cell_type": "code",
      "metadata": {
        "id": "Mir5gdlNISSk"
      },
      "source": [
        "cpc_rac_ago_columns= cpc_rac_ago.rename(columns=new_rename_columns_ago)"
      ],
      "execution_count": null,
      "outputs": []
    },
    {
      "cell_type": "code",
      "metadata": {
        "id": "wnd-003_ISVz"
      },
      "source": [
        "cpc_rac_ago_correct_columns =  cpc_rac_ago_columns.iloc[:,6:8]"
      ],
      "execution_count": null,
      "outputs": []
    },
    {
      "cell_type": "code",
      "metadata": {
        "id": "YYfOCL_6ISYa"
      },
      "source": [
        "cpc_rac_ago_correct_columns['Mês'] = \"Agosto\""
      ],
      "execution_count": null,
      "outputs": []
    },
    {
      "cell_type": "code",
      "metadata": {
        "id": "Mlm1H57EISbo"
      },
      "source": [
        "cpc_rac_ago_with_correct_columns = cpc_rac_ago[columns]"
      ],
      "execution_count": null,
      "outputs": []
    },
    {
      "cell_type": "code",
      "metadata": {
        "id": "MYpQ_CIsISdk"
      },
      "source": [
        "cpc_rac_ago_merge = pd.merge(cpc_rac_ago_with_correct_columns,cpc_rac_ago_correct_columns, left_index=True, right_index=True)"
      ],
      "execution_count": null,
      "outputs": []
    },
    {
      "cell_type": "code",
      "metadata": {
        "id": "GpbiMgpW-ic9"
      },
      "source": [
        "# -------- Setembro -----------------"
      ],
      "execution_count": null,
      "outputs": []
    },
    {
      "cell_type": "code",
      "metadata": {
        "id": "SVrzUlXm-ttq"
      },
      "source": [
        "cpc_rac_set = pd.read_excel(cpc_rac_arq_set)"
      ],
      "execution_count": null,
      "outputs": []
    },
    {
      "cell_type": "code",
      "metadata": {
        "colab": {
          "base_uri": "https://localhost:8080/",
          "height": 143
        },
        "id": "kh-p1rIj_DR4",
        "outputId": "5015821f-bdbd-49d1-f6e0-8ca63267326c"
      },
      "source": [
        "cpc_rac_set.head(3)"
      ],
      "execution_count": null,
      "outputs": [
        {
          "output_type": "execute_result",
          "data": {
            "text/html": [
              "<div>\n",
              "<style scoped>\n",
              "    .dataframe tbody tr th:only-of-type {\n",
              "        vertical-align: middle;\n",
              "    }\n",
              "\n",
              "    .dataframe tbody tr th {\n",
              "        vertical-align: top;\n",
              "    }\n",
              "\n",
              "    .dataframe thead th {\n",
              "        text-align: right;\n",
              "    }\n",
              "</style>\n",
              "<table border=\"1\" class=\"dataframe\">\n",
              "  <thead>\n",
              "    <tr style=\"text-align: right;\">\n",
              "      <th></th>\n",
              "      <th>Ger. Geral</th>\n",
              "      <th>Gerência</th>\n",
              "      <th>Critério</th>\n",
              "      <th>Critério Item</th>\n",
              "      <th>Conta</th>\n",
              "      <th>Centro de Custo</th>\n",
              "      <th>Planejado (AJ1)</th>\n",
              "      <th>Realizado (RE1)</th>\n",
              "      <th>Unnamed: 8</th>\n",
              "    </tr>\n",
              "  </thead>\n",
              "  <tbody>\n",
              "    <tr>\n",
              "      <th>0</th>\n",
              "      <td>CPC</td>\n",
              "      <td>CMI/CPC</td>\n",
              "      <td>01 Pessoal Próprio</td>\n",
              "      <td>01.01 Salários</td>\n",
              "      <td>4302000001 - SALÁRIOS</td>\n",
              "      <td>AM43ADMB00 - ADM CMI/CPC</td>\n",
              "      <td>121.56</td>\n",
              "      <td>106.84</td>\n",
              "      <td>NaN</td>\n",
              "    </tr>\n",
              "    <tr>\n",
              "      <th>1</th>\n",
              "      <td>CPC</td>\n",
              "      <td>CMI/CPC</td>\n",
              "      <td>01 Pessoal Próprio</td>\n",
              "      <td>01.01 Salários</td>\n",
              "      <td>4302000002 - ADICIONAIS</td>\n",
              "      <td>AM43ADMB00 - ADM CMI/CPC</td>\n",
              "      <td>9.59</td>\n",
              "      <td>11.02</td>\n",
              "      <td>NaN</td>\n",
              "    </tr>\n",
              "    <tr>\n",
              "      <th>2</th>\n",
              "      <td>CPC</td>\n",
              "      <td>CMI/CPC</td>\n",
              "      <td>01 Pessoal Próprio</td>\n",
              "      <td>01.01 Salários</td>\n",
              "      <td>4302000003 - GRATIFICAÇÕES</td>\n",
              "      <td>AM43ADMB00 - ADM CMI/CPC</td>\n",
              "      <td>18.22</td>\n",
              "      <td>26.86</td>\n",
              "      <td>NaN</td>\n",
              "    </tr>\n",
              "  </tbody>\n",
              "</table>\n",
              "</div>"
            ],
            "text/plain": [
              "  Ger. Geral Gerência  ... Realizado (RE1) Unnamed: 8\n",
              "0        CPC  CMI/CPC  ...          106.84        NaN\n",
              "1        CPC  CMI/CPC  ...           11.02        NaN\n",
              "2        CPC  CMI/CPC  ...           26.86        NaN\n",
              "\n",
              "[3 rows x 9 columns]"
            ]
          },
          "metadata": {},
          "execution_count": 67
        }
      ]
    },
    {
      "cell_type": "code",
      "metadata": {
        "id": "ZjZhiAJDAJHT"
      },
      "source": [
        "new_rename_columns_set = {'Planejado (AJ1)': 'Planejado', \"Realizado (RE1)\": 'Realizado'}"
      ],
      "execution_count": null,
      "outputs": []
    },
    {
      "cell_type": "code",
      "metadata": {
        "id": "n-ZswMZaANKy"
      },
      "source": [
        "cpc_rac_set_columns= cpc_rac_set.rename(columns=new_rename_columns_set)"
      ],
      "execution_count": null,
      "outputs": []
    },
    {
      "cell_type": "code",
      "metadata": {
        "id": "cflatZ86Ad5S"
      },
      "source": [
        "cpc_rac_set_correct_columns =  cpc_rac_set_columns.iloc[:,6:8]"
      ],
      "execution_count": null,
      "outputs": []
    },
    {
      "cell_type": "code",
      "metadata": {
        "id": "AfI9fmg1G9D8"
      },
      "source": [
        "cpc_rac_set_correct_columns['Mês'] = \"Setembro\""
      ],
      "execution_count": null,
      "outputs": []
    },
    {
      "cell_type": "code",
      "metadata": {
        "id": "nbSpPKKeHE6H"
      },
      "source": [
        "cpc_rac_set_with_correct_columns = cpc_rac_set[columns]"
      ],
      "execution_count": null,
      "outputs": []
    },
    {
      "cell_type": "code",
      "metadata": {
        "id": "R8LCOfEVHyAH"
      },
      "source": [
        "cpc_rac_set_merge = pd.merge(cpc_rac_set_with_correct_columns,cpc_rac_set_correct_columns, left_index=True, right_index=True)"
      ],
      "execution_count": null,
      "outputs": []
    },
    {
      "cell_type": "code",
      "metadata": {
        "id": "WGWGFgQQIAf4"
      },
      "source": [
        "# -------- Outubro -------------"
      ],
      "execution_count": null,
      "outputs": []
    },
    {
      "cell_type": "code",
      "metadata": {
        "id": "VlHL6QaNIJqS"
      },
      "source": [
        "cpc_rac_out = pd.read_excel(cpc_rac_arq_out,skiprows=3)"
      ],
      "execution_count": null,
      "outputs": []
    },
    {
      "cell_type": "code",
      "metadata": {
        "colab": {
          "base_uri": "https://localhost:8080/",
          "height": 206
        },
        "id": "jirn7-yuJ4DQ",
        "outputId": "2e9b29d9-93a5-4883-843c-9fae5d041ed8"
      },
      "source": [
        "cpc_rac_out.head(5)"
      ],
      "execution_count": null,
      "outputs": [
        {
          "output_type": "execute_result",
          "data": {
            "text/html": [
              "<div>\n",
              "<style scoped>\n",
              "    .dataframe tbody tr th:only-of-type {\n",
              "        vertical-align: middle;\n",
              "    }\n",
              "\n",
              "    .dataframe tbody tr th {\n",
              "        vertical-align: top;\n",
              "    }\n",
              "\n",
              "    .dataframe thead th {\n",
              "        text-align: right;\n",
              "    }\n",
              "</style>\n",
              "<table border=\"1\" class=\"dataframe\">\n",
              "  <thead>\n",
              "    <tr style=\"text-align: right;\">\n",
              "      <th></th>\n",
              "      <th>Ger. Geral</th>\n",
              "      <th>Gerência</th>\n",
              "      <th>Critério</th>\n",
              "      <th>Critério Item</th>\n",
              "      <th>Conta</th>\n",
              "      <th>Centro de Custo</th>\n",
              "      <th>Planejado (AJ1)</th>\n",
              "      <th>Realizado (RE1)</th>\n",
              "    </tr>\n",
              "  </thead>\n",
              "  <tbody>\n",
              "    <tr>\n",
              "      <th>0</th>\n",
              "      <td>CPC</td>\n",
              "      <td>CMI/CPC</td>\n",
              "      <td>01 Pessoal Próprio</td>\n",
              "      <td>01.01 Salários</td>\n",
              "      <td>4302000001 - SALÁRIOS</td>\n",
              "      <td>AM43ADMB00 - ADM CMI/CPC</td>\n",
              "      <td>121.56</td>\n",
              "      <td>106.84</td>\n",
              "    </tr>\n",
              "    <tr>\n",
              "      <th>1</th>\n",
              "      <td>CPC</td>\n",
              "      <td>CMI/CPC</td>\n",
              "      <td>01 Pessoal Próprio</td>\n",
              "      <td>01.01 Salários</td>\n",
              "      <td>4302000002 - ADICIONAIS</td>\n",
              "      <td>AM43ADMB00 - ADM CMI/CPC</td>\n",
              "      <td>9.59</td>\n",
              "      <td>11.02</td>\n",
              "    </tr>\n",
              "    <tr>\n",
              "      <th>2</th>\n",
              "      <td>CPC</td>\n",
              "      <td>CMI/CPC</td>\n",
              "      <td>01 Pessoal Próprio</td>\n",
              "      <td>01.01 Salários</td>\n",
              "      <td>4302000003 - GRATIFICAÇÕES</td>\n",
              "      <td>AM43ADMB00 - ADM CMI/CPC</td>\n",
              "      <td>18.22</td>\n",
              "      <td>26.86</td>\n",
              "    </tr>\n",
              "    <tr>\n",
              "      <th>3</th>\n",
              "      <td>CPC</td>\n",
              "      <td>CMI/CPC</td>\n",
              "      <td>01 Pessoal Próprio</td>\n",
              "      <td>01.01 Salários</td>\n",
              "      <td>4302000004 - AUXÍLIOS</td>\n",
              "      <td>AM43ADMB00 - ADM CMI/CPC</td>\n",
              "      <td>0.00</td>\n",
              "      <td>0.33</td>\n",
              "    </tr>\n",
              "    <tr>\n",
              "      <th>4</th>\n",
              "      <td>CPC</td>\n",
              "      <td>CMI/CPC</td>\n",
              "      <td>01 Pessoal Próprio</td>\n",
              "      <td>01.03 Encargos Sociais</td>\n",
              "      <td>4303000001 - PREV E ASSIST SOCIAL</td>\n",
              "      <td>AM43ADMB00 - ADM CMI/CPC</td>\n",
              "      <td>48.15</td>\n",
              "      <td>40.52</td>\n",
              "    </tr>\n",
              "  </tbody>\n",
              "</table>\n",
              "</div>"
            ],
            "text/plain": [
              "  Ger. Geral Gerência  ... Planejado (AJ1) Realizado (RE1)\n",
              "0        CPC  CMI/CPC  ...          121.56          106.84\n",
              "1        CPC  CMI/CPC  ...            9.59           11.02\n",
              "2        CPC  CMI/CPC  ...           18.22           26.86\n",
              "3        CPC  CMI/CPC  ...            0.00            0.33\n",
              "4        CPC  CMI/CPC  ...           48.15           40.52\n",
              "\n",
              "[5 rows x 8 columns]"
            ]
          },
          "metadata": {},
          "execution_count": 76
        }
      ]
    },
    {
      "cell_type": "code",
      "metadata": {
        "id": "fGHxFtaUKK7P"
      },
      "source": [
        "new_rename_columns_out = {'Planejado (AJ1)': 'Planejado', \"Realizado (RE1)\": 'Realizado'}"
      ],
      "execution_count": null,
      "outputs": []
    },
    {
      "cell_type": "code",
      "metadata": {
        "id": "IcLNubZqKQFV"
      },
      "source": [
        "cpc_rac_out_columns= cpc_rac_out.rename(columns=new_rename_columns_out)"
      ],
      "execution_count": null,
      "outputs": []
    },
    {
      "cell_type": "code",
      "metadata": {
        "id": "faumhTLVKRcI"
      },
      "source": [
        "cpc_rac_out_correct_columns =  cpc_rac_out_columns.iloc[:,6:8]"
      ],
      "execution_count": null,
      "outputs": []
    },
    {
      "cell_type": "code",
      "metadata": {
        "id": "EqkRjFO_KReY"
      },
      "source": [
        "cpc_rac_out_correct_columns['Mês'] = \"Outubro\""
      ],
      "execution_count": null,
      "outputs": []
    },
    {
      "cell_type": "code",
      "metadata": {
        "id": "Yvg6N4EVKRhG"
      },
      "source": [
        "cpc_rac_out_with_correct_columns = cpc_rac_out[columns]"
      ],
      "execution_count": null,
      "outputs": []
    },
    {
      "cell_type": "code",
      "metadata": {
        "id": "uZ5VN9zmKRjj"
      },
      "source": [
        "cpc_rac_out_merge = pd.merge(cpc_rac_out_with_correct_columns,cpc_rac_out_correct_columns, left_index=True, right_index=True)"
      ],
      "execution_count": null,
      "outputs": []
    },
    {
      "cell_type": "code",
      "metadata": {
        "id": "y5613JhIKRmA"
      },
      "source": [
        "# -------- Dataframe Final -------------------"
      ],
      "execution_count": null,
      "outputs": []
    },
    {
      "cell_type": "code",
      "metadata": {
        "id": "bVjQ2EgLKRpJ"
      },
      "source": [
        "df_1 = pd.concat([cpc_rac_jan_merge,cpc_rac_fev_merge,cpc_rac_mar_merge, cpc_rac_abr_merge,cpc_rac_mai_merge,cpc_rac_jun_merge,cpc_rac_jul_merge,cpc_rac_ago_merge,cpc_rac_set_merge,cpc_rac_out_merge])"
      ],
      "execution_count": null,
      "outputs": []
    },
    {
      "cell_type": "code",
      "metadata": {
        "id": "AS6aDTtzNgSN"
      },
      "source": [
        "new_rename_columns_df = {'Gerência':'Gerencia','Critério Item':'Criterio_item'}"
      ],
      "execution_count": null,
      "outputs": []
    },
    {
      "cell_type": "code",
      "metadata": {
        "id": "9nwLdqDKN5kO"
      },
      "source": [
        "df_1 = df_1.rename(columns=new_rename_columns_df)"
      ],
      "execution_count": null,
      "outputs": []
    },
    {
      "cell_type": "code",
      "metadata": {
        "id": "6PwyY4_zOKEO"
      },
      "source": [
        "df_2 = df_1.reset_index()"
      ],
      "execution_count": null,
      "outputs": []
    },
    {
      "cell_type": "code",
      "metadata": {
        "id": "YJLH1XYEPHo6"
      },
      "source": [
        "df_2 = df_2.drop(columns='index')"
      ],
      "execution_count": null,
      "outputs": []
    },
    {
      "cell_type": "code",
      "metadata": {
        "id": "-3nIrpI8LEZn"
      },
      "source": [
        "list_index_conta = df_2.loc[df_2.Conta.isin(['Subtotal','Total geral'])].index"
      ],
      "execution_count": null,
      "outputs": []
    },
    {
      "cell_type": "code",
      "metadata": {
        "colab": {
          "base_uri": "https://localhost:8080/"
        },
        "id": "3zgT51mCVC3k",
        "outputId": "311727ed-7e9c-42a9-aa97-02f610d8009f"
      },
      "source": [
        "list_index_conta"
      ],
      "execution_count": null,
      "outputs": [
        {
          "output_type": "execute_result",
          "data": {
            "text/plain": [
              "Int64Index([263, 527, 791, 1055, 1319, 1583, 1847, 2084, 2571], dtype='int64')"
            ]
          },
          "metadata": {},
          "execution_count": 90
        }
      ]
    },
    {
      "cell_type": "code",
      "metadata": {
        "id": "Jz2jLBo8M8TN"
      },
      "source": [
        "list_index_cri_item = df_2.loc[df_2.Criterio_item.isin(['Subtotal','Total geral'])].index"
      ],
      "execution_count": null,
      "outputs": []
    },
    {
      "cell_type": "code",
      "metadata": {
        "colab": {
          "base_uri": "https://localhost:8080/"
        },
        "id": "uti3XfCLVHlk",
        "outputId": "ceaccda1-1db9-4411-b4ed-959f1d48d558"
      },
      "source": [
        "list_index_cri_item"
      ],
      "execution_count": null,
      "outputs": [
        {
          "output_type": "execute_result",
          "data": {
            "text/plain": [
              "Int64Index([263, 527, 791, 1055, 1319, 1583, 1847, 2084, 2571], dtype='int64')"
            ]
          },
          "metadata": {},
          "execution_count": 92
        }
      ]
    },
    {
      "cell_type": "code",
      "metadata": {
        "id": "Qor_drurOUTp"
      },
      "source": [
        "list_index_ger = df_2.loc[df_2.Gerencia.isin(['Subtotal','Total geral'])].index"
      ],
      "execution_count": null,
      "outputs": []
    },
    {
      "cell_type": "code",
      "metadata": {
        "colab": {
          "base_uri": "https://localhost:8080/"
        },
        "id": "AAVUpfArVLMx",
        "outputId": "e43941ab-0670-40ab-fb88-0b1b820f5f61"
      },
      "source": [
        "list_index_ger"
      ],
      "execution_count": null,
      "outputs": [
        {
          "output_type": "execute_result",
          "data": {
            "text/plain": [
              "Int64Index([263, 527, 791, 1055, 1319, 1583, 1847, 2084, 2571], dtype='int64')"
            ]
          },
          "metadata": {},
          "execution_count": 94
        }
      ]
    },
    {
      "cell_type": "code",
      "metadata": {
        "id": "kpswYvbzND0g"
      },
      "source": [
        "list_total = list_index_conta + list_index_cri_item + list_index_ger"
      ],
      "execution_count": null,
      "outputs": []
    },
    {
      "cell_type": "code",
      "metadata": {
        "id": "HJX-K3XjOqA9"
      },
      "source": [
        "df_3 = df_2.drop(labels=list_index_conta,axis=0)"
      ],
      "execution_count": null,
      "outputs": []
    },
    {
      "cell_type": "code",
      "metadata": {
        "id": "hgTsNXJvn0da"
      },
      "source": [
        "df_4= df_3.reset_index().drop(columns='index')"
      ],
      "execution_count": null,
      "outputs": []
    },
    {
      "cell_type": "code",
      "metadata": {
        "colab": {
          "base_uri": "https://localhost:8080/"
        },
        "id": "FM40vJ91GQxW",
        "outputId": "9869314e-52cb-4307-fbce-5109d59fb580"
      },
      "source": [
        "df_4.Planejado.isna().sum()"
      ],
      "execution_count": null,
      "outputs": [
        {
          "output_type": "execute_result",
          "data": {
            "text/plain": [
              "261"
            ]
          },
          "metadata": {},
          "execution_count": 98
        }
      ]
    },
    {
      "cell_type": "code",
      "metadata": {
        "colab": {
          "base_uri": "https://localhost:8080/"
        },
        "id": "MBgIMxQtGs8j",
        "outputId": "f7b5b560-93bd-4ee5-967a-7ef1431ae79a"
      },
      "source": [
        "df_4.Realizado.isna().sum()"
      ],
      "execution_count": null,
      "outputs": [
        {
          "output_type": "execute_result",
          "data": {
            "text/plain": [
              "261"
            ]
          },
          "metadata": {},
          "execution_count": 99
        }
      ]
    },
    {
      "cell_type": "code",
      "metadata": {
        "id": "P24AC9M4G26S"
      },
      "source": [
        "df_4.Planejado.fillna(0, inplace=True)"
      ],
      "execution_count": null,
      "outputs": []
    },
    {
      "cell_type": "code",
      "metadata": {
        "id": "v6bn6_b_HCtz"
      },
      "source": [
        "df_4.Realizado.fillna(0, inplace=True)"
      ],
      "execution_count": null,
      "outputs": []
    },
    {
      "cell_type": "code",
      "metadata": {
        "id": "OA4QzbtJHbm6"
      },
      "source": [
        "#df_4.to_csv('rac.csv')"
      ],
      "execution_count": null,
      "outputs": []
    },
    {
      "cell_type": "code",
      "metadata": {
        "colab": {
          "base_uri": "https://localhost:8080/",
          "height": 143
        },
        "id": "4rsafGMbL0Mu",
        "outputId": "19d2a4bd-03f1-42ca-f0c3-e60c9c3f8426"
      },
      "source": [
        "df_4.head(3)"
      ],
      "execution_count": null,
      "outputs": [
        {
          "output_type": "execute_result",
          "data": {
            "text/html": [
              "<div>\n",
              "<style scoped>\n",
              "    .dataframe tbody tr th:only-of-type {\n",
              "        vertical-align: middle;\n",
              "    }\n",
              "\n",
              "    .dataframe tbody tr th {\n",
              "        vertical-align: top;\n",
              "    }\n",
              "\n",
              "    .dataframe thead th {\n",
              "        text-align: right;\n",
              "    }\n",
              "</style>\n",
              "<table border=\"1\" class=\"dataframe\">\n",
              "  <thead>\n",
              "    <tr style=\"text-align: right;\">\n",
              "      <th></th>\n",
              "      <th>Gerencia</th>\n",
              "      <th>Criterio_item</th>\n",
              "      <th>Conta</th>\n",
              "      <th>Planejado</th>\n",
              "      <th>Realizado</th>\n",
              "      <th>Mês</th>\n",
              "    </tr>\n",
              "  </thead>\n",
              "  <tbody>\n",
              "    <tr>\n",
              "      <th>0</th>\n",
              "      <td>CMI/CPC</td>\n",
              "      <td>01.01 Salários</td>\n",
              "      <td>4302000001 - SALÁRIOS</td>\n",
              "      <td>104.74</td>\n",
              "      <td>101.04</td>\n",
              "      <td>Janeiro</td>\n",
              "    </tr>\n",
              "    <tr>\n",
              "      <th>1</th>\n",
              "      <td>CMI/CPC</td>\n",
              "      <td>01.01 Salários</td>\n",
              "      <td>4302000002 - ADICIONAIS</td>\n",
              "      <td>8.27</td>\n",
              "      <td>6.35</td>\n",
              "      <td>Janeiro</td>\n",
              "    </tr>\n",
              "    <tr>\n",
              "      <th>2</th>\n",
              "      <td>CMI/CPC</td>\n",
              "      <td>01.01 Salários</td>\n",
              "      <td>4302000003 - GRATIFICAÇÕES</td>\n",
              "      <td>17.34</td>\n",
              "      <td>12.64</td>\n",
              "      <td>Janeiro</td>\n",
              "    </tr>\n",
              "  </tbody>\n",
              "</table>\n",
              "</div>"
            ],
            "text/plain": [
              "  Gerencia   Criterio_item  ... Realizado      Mês\n",
              "0  CMI/CPC  01.01 Salários  ...    101.04  Janeiro\n",
              "1  CMI/CPC  01.01 Salários  ...      6.35  Janeiro\n",
              "2  CMI/CPC  01.01 Salários  ...     12.64  Janeiro\n",
              "\n",
              "[3 rows x 6 columns]"
            ]
          },
          "metadata": {},
          "execution_count": 103
        }
      ]
    },
    {
      "cell_type": "code",
      "metadata": {
        "id": "Ux2tdwYqLw4Z"
      },
      "source": [
        "criterio = df_4.Criterio_item.replace(r'\\d|\\.[\\S]..','', regex=True)"
      ],
      "execution_count": null,
      "outputs": []
    },
    {
      "cell_type": "code",
      "metadata": {
        "id": "uRE2IrbTMKHg"
      },
      "source": [
        "conta = df_4.Conta.replace(r'(\\d|\\s\\-\\s)','', regex=True)"
      ],
      "execution_count": null,
      "outputs": []
    },
    {
      "cell_type": "code",
      "metadata": {
        "id": "mwldbx6VMQ1o"
      },
      "source": [
        "df_4_criterio = pd.merge(df_4,criterio, left_index=True,right_index=True)"
      ],
      "execution_count": null,
      "outputs": []
    },
    {
      "cell_type": "code",
      "metadata": {
        "id": "q_RdDYmLNitv"
      },
      "source": [
        "df_4_criterio_conta = pd.merge(df_4_criterio,conta, left_index=True,right_index=True)"
      ],
      "execution_count": null,
      "outputs": []
    },
    {
      "cell_type": "code",
      "metadata": {
        "id": "hN0Fi2lNOcj3"
      },
      "source": [
        "df_4_modificado= df_4_criterio_conta.drop(columns=['Criterio_item_x','Conta_x'])"
      ],
      "execution_count": null,
      "outputs": []
    },
    {
      "cell_type": "code",
      "metadata": {
        "colab": {
          "base_uri": "https://localhost:8080/",
          "height": 424
        },
        "id": "Eya6K8KizdL-",
        "outputId": "e4b1bb90-c1a9-4144-8bce-252cabc6e950"
      },
      "source": [
        "df_4_modificado"
      ],
      "execution_count": null,
      "outputs": [
        {
          "output_type": "execute_result",
          "data": {
            "text/html": [
              "<div>\n",
              "<style scoped>\n",
              "    .dataframe tbody tr th:only-of-type {\n",
              "        vertical-align: middle;\n",
              "    }\n",
              "\n",
              "    .dataframe tbody tr th {\n",
              "        vertical-align: top;\n",
              "    }\n",
              "\n",
              "    .dataframe thead th {\n",
              "        text-align: right;\n",
              "    }\n",
              "</style>\n",
              "<table border=\"1\" class=\"dataframe\">\n",
              "  <thead>\n",
              "    <tr style=\"text-align: right;\">\n",
              "      <th></th>\n",
              "      <th>Gerencia</th>\n",
              "      <th>Planejado</th>\n",
              "      <th>Realizado</th>\n",
              "      <th>Mês</th>\n",
              "      <th>Criterio_item_y</th>\n",
              "      <th>Conta_y</th>\n",
              "    </tr>\n",
              "  </thead>\n",
              "  <tbody>\n",
              "    <tr>\n",
              "      <th>0</th>\n",
              "      <td>CMI/CPC</td>\n",
              "      <td>104.74</td>\n",
              "      <td>101.04</td>\n",
              "      <td>Janeiro</td>\n",
              "      <td>Salários</td>\n",
              "      <td>SALÁRIOS</td>\n",
              "    </tr>\n",
              "    <tr>\n",
              "      <th>1</th>\n",
              "      <td>CMI/CPC</td>\n",
              "      <td>8.27</td>\n",
              "      <td>6.35</td>\n",
              "      <td>Janeiro</td>\n",
              "      <td>Salários</td>\n",
              "      <td>ADICIONAIS</td>\n",
              "    </tr>\n",
              "    <tr>\n",
              "      <th>2</th>\n",
              "      <td>CMI/CPC</td>\n",
              "      <td>17.34</td>\n",
              "      <td>12.64</td>\n",
              "      <td>Janeiro</td>\n",
              "      <td>Salários</td>\n",
              "      <td>GRATIFICAÇÕES</td>\n",
              "    </tr>\n",
              "    <tr>\n",
              "      <th>3</th>\n",
              "      <td>CMI/CPC</td>\n",
              "      <td>51.65</td>\n",
              "      <td>44.66</td>\n",
              "      <td>Janeiro</td>\n",
              "      <td>Encargos Sociais</td>\n",
              "      <td>PREV E ASSIST SOCIAL</td>\n",
              "    </tr>\n",
              "    <tr>\n",
              "      <th>4</th>\n",
              "      <td>CMI/CPC</td>\n",
              "      <td>14.68</td>\n",
              "      <td>12.76</td>\n",
              "      <td>Janeiro</td>\n",
              "      <td>Encargos Sociais</td>\n",
              "      <td>FGTS</td>\n",
              "    </tr>\n",
              "    <tr>\n",
              "      <th>...</th>\n",
              "      <td>...</td>\n",
              "      <td>...</td>\n",
              "      <td>...</td>\n",
              "      <td>...</td>\n",
              "      <td>...</td>\n",
              "      <td>...</td>\n",
              "    </tr>\n",
              "    <tr>\n",
              "      <th>2558</th>\n",
              "      <td>CMI/CPC/RSS</td>\n",
              "      <td>0.20</td>\n",
              "      <td>0.00</td>\n",
              "      <td>Outubro</td>\n",
              "      <td>Outras Despesas de Relacionamento e Comunicação</td>\n",
              "      <td>REPRESENTAÇÕES</td>\n",
              "    </tr>\n",
              "    <tr>\n",
              "      <th>2559</th>\n",
              "      <td>CMI/CPC/RNN</td>\n",
              "      <td>0.00</td>\n",
              "      <td>0.00</td>\n",
              "      <td>Outubro</td>\n",
              "      <td>Refino</td>\n",
              "      <td>RateioMateriais</td>\n",
              "    </tr>\n",
              "    <tr>\n",
              "      <th>2560</th>\n",
              "      <td>CMI/CPC/RNN</td>\n",
              "      <td>0.05</td>\n",
              "      <td>0.04</td>\n",
              "      <td>Outubro</td>\n",
              "      <td>Refino</td>\n",
              "      <td>RateioPessoal</td>\n",
              "    </tr>\n",
              "    <tr>\n",
              "      <th>2561</th>\n",
              "      <td>CMI/CPC/RNN</td>\n",
              "      <td>0.60</td>\n",
              "      <td>0.41</td>\n",
              "      <td>Outubro</td>\n",
              "      <td>Refino</td>\n",
              "      <td>RateioServ. Terc.</td>\n",
              "    </tr>\n",
              "    <tr>\n",
              "      <th>2562</th>\n",
              "      <td>CMI/CPC/RNN</td>\n",
              "      <td>0.00</td>\n",
              "      <td>0.00</td>\n",
              "      <td>Outubro</td>\n",
              "      <td>Refino</td>\n",
              "      <td>RateioEncargos</td>\n",
              "    </tr>\n",
              "  </tbody>\n",
              "</table>\n",
              "<p>2563 rows × 6 columns</p>\n",
              "</div>"
            ],
            "text/plain": [
              "         Gerencia  ...               Conta_y\n",
              "0         CMI/CPC  ...              SALÁRIOS\n",
              "1         CMI/CPC  ...            ADICIONAIS\n",
              "2         CMI/CPC  ...         GRATIFICAÇÕES\n",
              "3         CMI/CPC  ...  PREV E ASSIST SOCIAL\n",
              "4         CMI/CPC  ...                  FGTS\n",
              "...           ...  ...                   ...\n",
              "2558  CMI/CPC/RSS  ...        REPRESENTAÇÕES\n",
              "2559  CMI/CPC/RNN  ...       RateioMateriais\n",
              "2560  CMI/CPC/RNN  ...         RateioPessoal\n",
              "2561  CMI/CPC/RNN  ...     RateioServ. Terc.\n",
              "2562  CMI/CPC/RNN  ...        RateioEncargos\n",
              "\n",
              "[2563 rows x 6 columns]"
            ]
          },
          "metadata": {},
          "execution_count": 111
        }
      ]
    },
    {
      "cell_type": "code",
      "metadata": {
        "id": "69zMjicby_Bp"
      },
      "source": [
        "df_5 = df_4_modificado.rename(columns={'Criterio_item_y':'Criterio_item','Conta_y':'Conta'})"
      ],
      "execution_count": null,
      "outputs": []
    },
    {
      "cell_type": "code",
      "metadata": {
        "colab": {
          "base_uri": "https://localhost:8080/",
          "height": 424
        },
        "id": "Fp00JyARztcn",
        "outputId": "4a0ca219-cb0c-4aa1-c5a9-6f29755940c3"
      },
      "source": [
        "df_5"
      ],
      "execution_count": null,
      "outputs": [
        {
          "output_type": "execute_result",
          "data": {
            "text/html": [
              "<div>\n",
              "<style scoped>\n",
              "    .dataframe tbody tr th:only-of-type {\n",
              "        vertical-align: middle;\n",
              "    }\n",
              "\n",
              "    .dataframe tbody tr th {\n",
              "        vertical-align: top;\n",
              "    }\n",
              "\n",
              "    .dataframe thead th {\n",
              "        text-align: right;\n",
              "    }\n",
              "</style>\n",
              "<table border=\"1\" class=\"dataframe\">\n",
              "  <thead>\n",
              "    <tr style=\"text-align: right;\">\n",
              "      <th></th>\n",
              "      <th>Gerencia</th>\n",
              "      <th>Planejado</th>\n",
              "      <th>Realizado</th>\n",
              "      <th>Mês</th>\n",
              "      <th>Criterio_item</th>\n",
              "      <th>Conta</th>\n",
              "    </tr>\n",
              "  </thead>\n",
              "  <tbody>\n",
              "    <tr>\n",
              "      <th>0</th>\n",
              "      <td>CMI/CPC</td>\n",
              "      <td>104.74</td>\n",
              "      <td>101.04</td>\n",
              "      <td>Janeiro</td>\n",
              "      <td>Salários</td>\n",
              "      <td>SALÁRIOS</td>\n",
              "    </tr>\n",
              "    <tr>\n",
              "      <th>1</th>\n",
              "      <td>CMI/CPC</td>\n",
              "      <td>8.27</td>\n",
              "      <td>6.35</td>\n",
              "      <td>Janeiro</td>\n",
              "      <td>Salários</td>\n",
              "      <td>ADICIONAIS</td>\n",
              "    </tr>\n",
              "    <tr>\n",
              "      <th>2</th>\n",
              "      <td>CMI/CPC</td>\n",
              "      <td>17.34</td>\n",
              "      <td>12.64</td>\n",
              "      <td>Janeiro</td>\n",
              "      <td>Salários</td>\n",
              "      <td>GRATIFICAÇÕES</td>\n",
              "    </tr>\n",
              "    <tr>\n",
              "      <th>3</th>\n",
              "      <td>CMI/CPC</td>\n",
              "      <td>51.65</td>\n",
              "      <td>44.66</td>\n",
              "      <td>Janeiro</td>\n",
              "      <td>Encargos Sociais</td>\n",
              "      <td>PREV E ASSIST SOCIAL</td>\n",
              "    </tr>\n",
              "    <tr>\n",
              "      <th>4</th>\n",
              "      <td>CMI/CPC</td>\n",
              "      <td>14.68</td>\n",
              "      <td>12.76</td>\n",
              "      <td>Janeiro</td>\n",
              "      <td>Encargos Sociais</td>\n",
              "      <td>FGTS</td>\n",
              "    </tr>\n",
              "    <tr>\n",
              "      <th>...</th>\n",
              "      <td>...</td>\n",
              "      <td>...</td>\n",
              "      <td>...</td>\n",
              "      <td>...</td>\n",
              "      <td>...</td>\n",
              "      <td>...</td>\n",
              "    </tr>\n",
              "    <tr>\n",
              "      <th>2558</th>\n",
              "      <td>CMI/CPC/RSS</td>\n",
              "      <td>0.20</td>\n",
              "      <td>0.00</td>\n",
              "      <td>Outubro</td>\n",
              "      <td>Outras Despesas de Relacionamento e Comunicação</td>\n",
              "      <td>REPRESENTAÇÕES</td>\n",
              "    </tr>\n",
              "    <tr>\n",
              "      <th>2559</th>\n",
              "      <td>CMI/CPC/RNN</td>\n",
              "      <td>0.00</td>\n",
              "      <td>0.00</td>\n",
              "      <td>Outubro</td>\n",
              "      <td>Refino</td>\n",
              "      <td>RateioMateriais</td>\n",
              "    </tr>\n",
              "    <tr>\n",
              "      <th>2560</th>\n",
              "      <td>CMI/CPC/RNN</td>\n",
              "      <td>0.05</td>\n",
              "      <td>0.04</td>\n",
              "      <td>Outubro</td>\n",
              "      <td>Refino</td>\n",
              "      <td>RateioPessoal</td>\n",
              "    </tr>\n",
              "    <tr>\n",
              "      <th>2561</th>\n",
              "      <td>CMI/CPC/RNN</td>\n",
              "      <td>0.60</td>\n",
              "      <td>0.41</td>\n",
              "      <td>Outubro</td>\n",
              "      <td>Refino</td>\n",
              "      <td>RateioServ. Terc.</td>\n",
              "    </tr>\n",
              "    <tr>\n",
              "      <th>2562</th>\n",
              "      <td>CMI/CPC/RNN</td>\n",
              "      <td>0.00</td>\n",
              "      <td>0.00</td>\n",
              "      <td>Outubro</td>\n",
              "      <td>Refino</td>\n",
              "      <td>RateioEncargos</td>\n",
              "    </tr>\n",
              "  </tbody>\n",
              "</table>\n",
              "<p>2563 rows × 6 columns</p>\n",
              "</div>"
            ],
            "text/plain": [
              "         Gerencia  ...                 Conta\n",
              "0         CMI/CPC  ...              SALÁRIOS\n",
              "1         CMI/CPC  ...            ADICIONAIS\n",
              "2         CMI/CPC  ...         GRATIFICAÇÕES\n",
              "3         CMI/CPC  ...  PREV E ASSIST SOCIAL\n",
              "4         CMI/CPC  ...                  FGTS\n",
              "...           ...  ...                   ...\n",
              "2558  CMI/CPC/RSS  ...        REPRESENTAÇÕES\n",
              "2559  CMI/CPC/RNN  ...       RateioMateriais\n",
              "2560  CMI/CPC/RNN  ...         RateioPessoal\n",
              "2561  CMI/CPC/RNN  ...     RateioServ. Terc.\n",
              "2562  CMI/CPC/RNN  ...        RateioEncargos\n",
              "\n",
              "[2563 rows x 6 columns]"
            ]
          },
          "metadata": {},
          "execution_count": 116
        }
      ]
    },
    {
      "cell_type": "code",
      "metadata": {
        "id": "fbEOBv8Kzzxd"
      },
      "source": [
        "df_5.to_excel('GOG_jan_out.xlsx')"
      ],
      "execution_count": null,
      "outputs": []
    }
  ]
}