{
  "nbformat": 4,
  "nbformat_minor": 0,
  "metadata": {
    "colab": {
      "name": "Untitled0.ipynb",
      "provenance": [],
      "mount_file_id": "1ILH9sBLhvWg44v3NDxc2YJW7IoRudVma",
      "authorship_tag": "ABX9TyPRjWTvFBTfzc5W/decoRm3",
      "include_colab_link": true
    },
    "kernelspec": {
      "name": "python3",
      "display_name": "Python 3"
    },
    "language_info": {
      "name": "python"
    }
  },
  "cells": [
    {
      "cell_type": "markdown",
      "metadata": {
        "id": "view-in-github",
        "colab_type": "text"
      },
      "source": [
        "<a href=\"https://colab.research.google.com/github/junio-firmino/Aprendizado_python/blob/master/Untitled0.ipynb\" target=\"_parent\"><img src=\"https://colab.research.google.com/assets/colab-badge.svg\" alt=\"Open In Colab\"/></a>"
      ]
    },
    {
      "cell_type": "code",
      "metadata": {
        "id": "TpdLWGic7LNu"
      },
      "source": [
        "import pandas as pd\n"
      ],
      "execution_count": 1,
      "outputs": []
    },
    {
      "cell_type": "code",
      "metadata": {
        "id": "_vC4tJEL8RJq"
      },
      "source": [
        "drinks = pd.read_csv('/content/drive/MyDrive/drinks.csv', usecols=['country','wine_servings'], index_col='country',squeeze=True)"
      ],
      "execution_count": 2,
      "outputs": []
    },
    {
      "cell_type": "code",
      "metadata": {
        "colab": {
          "base_uri": "https://localhost:8080/"
        },
        "id": "ERQ71cZK8ehl",
        "outputId": "addae268-565d-4e5b-f74f-60ee1dc35882"
      },
      "source": [
        "drinks.head()"
      ],
      "execution_count": 3,
      "outputs": [
        {
          "output_type": "execute_result",
          "data": {
            "text/plain": [
              "country\n",
              "Afghanistan      NaN\n",
              "Albania         54.0\n",
              "Algeria         14.0\n",
              "Andorra        312.0\n",
              "Angola          45.0\n",
              "Name: wine_servings, dtype: float64"
            ]
          },
          "metadata": {
            "tags": []
          },
          "execution_count": 3
        }
      ]
    },
    {
      "cell_type": "code",
      "metadata": {
        "colab": {
          "base_uri": "https://localhost:8080/"
        },
        "id": "c_CducP2-Ut9",
        "outputId": "0c13b2ad-6dd5-4ea1-8099-d6a369e24486"
      },
      "source": [
        "drinks.describe"
      ],
      "execution_count": 4,
      "outputs": [
        {
          "output_type": "execute_result",
          "data": {
            "text/plain": [
              "<bound method NDFrame.describe of country\n",
              "Afghanistan      NaN\n",
              "Albania         54.0\n",
              "Algeria         14.0\n",
              "Andorra        312.0\n",
              "Angola          45.0\n",
              "               ...  \n",
              "Venezuela        3.0\n",
              "Vietnam          1.0\n",
              "Yemen            NaN\n",
              "Zambia           4.0\n",
              "Zimbabwe         4.0\n",
              "Name: wine_servings, Length: 193, dtype: float64>"
            ]
          },
          "metadata": {
            "tags": []
          },
          "execution_count": 4
        }
      ]
    },
    {
      "cell_type": "code",
      "metadata": {
        "colab": {
          "base_uri": "https://localhost:8080/",
          "height": 35
        },
        "id": "MpT_9Quy-igu",
        "outputId": "8d7bf11c-026b-4dda-a29d-a21fd7c285bc"
      },
      "source": [
        "drinks.name"
      ],
      "execution_count": 5,
      "outputs": [
        {
          "output_type": "execute_result",
          "data": {
            "application/vnd.google.colaboratory.intrinsic+json": {
              "type": "string"
            },
            "text/plain": [
              "'wine_servings'"
            ]
          },
          "metadata": {
            "tags": []
          },
          "execution_count": 5
        }
      ]
    },
    {
      "cell_type": "code",
      "metadata": {
        "colab": {
          "base_uri": "https://localhost:8080/"
        },
        "id": "5wukC4WO_Sfq",
        "outputId": "77fe0bc8-2562-4bdf-9b3d-4838d3e4dac2"
      },
      "source": [
        "drinks.dropna()"
      ],
      "execution_count": 6,
      "outputs": [
        {
          "output_type": "execute_result",
          "data": {
            "text/plain": [
              "country\n",
              "Albania               54.0\n",
              "Algeria               14.0\n",
              "Andorra              312.0\n",
              "Angola                45.0\n",
              "Antigua & Barbuda     45.0\n",
              "                     ...  \n",
              "Vanuatu               11.0\n",
              "Venezuela              3.0\n",
              "Vietnam                1.0\n",
              "Zambia                 4.0\n",
              "Zimbabwe               4.0\n",
              "Name: wine_servings, Length: 162, dtype: float64"
            ]
          },
          "metadata": {
            "tags": []
          },
          "execution_count": 6
        }
      ]
    },
    {
      "cell_type": "code",
      "metadata": {
        "id": "kzT-XlHo__Nx"
      },
      "source": [
        "drinks_fillna = drinks.fillna(100)"
      ],
      "execution_count": 7,
      "outputs": []
    },
    {
      "cell_type": "code",
      "metadata": {
        "id": "PHBcX0xM12yh"
      },
      "source": [
        "drinks_list = list(drinks)"
      ],
      "execution_count": 8,
      "outputs": []
    },
    {
      "cell_type": "code",
      "metadata": {
        "id": "sNw7e9Yy93Fu"
      },
      "source": [
        "drink_list_na = list(drinks_fillna)"
      ],
      "execution_count": 9,
      "outputs": []
    },
    {
      "cell_type": "code",
      "metadata": {
        "colab": {
          "base_uri": "https://localhost:8080/"
        },
        "id": "0vRKPEnzBvNq",
        "outputId": "b97c7b58-4d2f-4c9f-8dbf-ee350572e639"
      },
      "source": [
        "drink_list_na"
      ],
      "execution_count": 10,
      "outputs": [
        {
          "output_type": "execute_result",
          "data": {
            "text/plain": [
              "[100.0,\n",
              " 54.0,\n",
              " 14.0,\n",
              " 312.0,\n",
              " 45.0,\n",
              " 45.0,\n",
              " 221.0,\n",
              " 11.0,\n",
              " 212.0,\n",
              " 191.0,\n",
              " 5.0,\n",
              " 51.0,\n",
              " 7.0,\n",
              " 100.0,\n",
              " 36.0,\n",
              " 42.0,\n",
              " 212.0,\n",
              " 8.0,\n",
              " 13.0,\n",
              " 100.0,\n",
              " 8.0,\n",
              " 8.0,\n",
              " 35.0,\n",
              " 16.0,\n",
              " 1.0,\n",
              " 94.0,\n",
              " 7.0,\n",
              " 100.0,\n",
              " 7.0,\n",
              " 16.0,\n",
              " 1.0,\n",
              " 4.0,\n",
              " 1.0,\n",
              " 1.0,\n",
              " 1.0,\n",
              " 172.0,\n",
              " 8.0,\n",
              " 3.0,\n",
              " 1.0,\n",
              " 9.0,\n",
              " 74.0,\n",
              " 11.0,\n",
              " 254.0,\n",
              " 5.0,\n",
              " 113.0,\n",
              " 134.0,\n",
              " 100.0,\n",
              " 1.0,\n",
              " 278.0,\n",
              " 3.0,\n",
              " 26.0,\n",
              " 9.0,\n",
              " 3.0,\n",
              " 1.0,\n",
              " 2.0,\n",
              " 233.0,\n",
              " 100.0,\n",
              " 59.0,\n",
              " 100.0,\n",
              " 1.0,\n",
              " 97.0,\n",
              " 37.0,\n",
              " 59.0,\n",
              " 1.0,\n",
              " 149.0,\n",
              " 175.0,\n",
              " 1.0,\n",
              " 218.0,\n",
              " 28.0,\n",
              " 2.0,\n",
              " 2.0,\n",
              " 21.0,\n",
              " 1.0,\n",
              " 1.0,\n",
              " 2.0,\n",
              " 185.0,\n",
              " 78.0,\n",
              " 100.0,\n",
              " 100.0,\n",
              " 100.0,\n",
              " 100.0,\n",
              " 165.0,\n",
              " 9.0,\n",
              " 237.0,\n",
              " 9.0,\n",
              " 16.0,\n",
              " 1.0,\n",
              " 12.0,\n",
              " 2.0,\n",
              " 1.0,\n",
              " 100.0,\n",
              " 6.0,\n",
              " 123.0,\n",
              " 62.0,\n",
              " 31.0,\n",
              " 100.0,\n",
              " 2.0,\n",
              " 100.0,\n",
              " 56.0,\n",
              " 271.0,\n",
              " 4.0,\n",
              " 1.0,\n",
              " 100.0,\n",
              " 100.0,\n",
              " 1.0,\n",
              " 12.0,\n",
              " 100.0,\n",
              " 100.0,\n",
              " 18.0,\n",
              " 5.0,\n",
              " 18.0,\n",
              " 100.0,\n",
              " 8.0,\n",
              " 128.0,\n",
              " 1.0,\n",
              " 5.0,\n",
              " 100.0,\n",
              " 1.0,\n",
              " 8.0,\n",
              " 100.0,\n",
              " 19.0,\n",
              " 175.0,\n",
              " 1.0,\n",
              " 1.0,\n",
              " 2.0,\n",
              " 7.0,\n",
              " 129.0,\n",
              " 1.0,\n",
              " 100.0,\n",
              " 23.0,\n",
              " 18.0,\n",
              " 1.0,\n",
              " 74.0,\n",
              " 21.0,\n",
              " 1.0,\n",
              " 56.0,\n",
              " 339.0,\n",
              " 7.0,\n",
              " 9.0,\n",
              " 18.0,\n",
              " 167.0,\n",
              " 73.0,\n",
              " 100.0,\n",
              " 32.0,\n",
              " 71.0,\n",
              " 11.0,\n",
              " 24.0,\n",
              " 100.0,\n",
              " 14.0,\n",
              " 100.0,\n",
              " 7.0,\n",
              " 127.0,\n",
              " 51.0,\n",
              " 2.0,\n",
              " 11.0,\n",
              " 116.0,\n",
              " 276.0,\n",
              " 1.0,\n",
              " 100.0,\n",
              " 81.0,\n",
              " 112.0,\n",
              " 100.0,\n",
              " 100.0,\n",
              " 7.0,\n",
              " 2.0,\n",
              " 186.0,\n",
              " 28.0,\n",
              " 16.0,\n",
              " 100.0,\n",
              " 1.0,\n",
              " 86.0,\n",
              " 4.0,\n",
              " 19.0,\n",
              " 5.0,\n",
              " 7.0,\n",
              " 2.0,\n",
              " 7.0,\n",
              " 32.0,\n",
              " 9.0,\n",
              " 100.0,\n",
              " 45.0,\n",
              " 5.0,\n",
              " 195.0,\n",
              " 1.0,\n",
              " 84.0,\n",
              " 22.0,\n",
              " 8.0,\n",
              " 11.0,\n",
              " 3.0,\n",
              " 1.0,\n",
              " 100.0,\n",
              " 4.0,\n",
              " 4.0]"
            ]
          },
          "metadata": {
            "tags": []
          },
          "execution_count": 10
        }
      ]
    },
    {
      "cell_type": "code",
      "metadata": {
        "colab": {
          "base_uri": "https://localhost:8080/"
        },
        "id": "BWv_roFWCWZT",
        "outputId": "4d837b0c-68c9-48c2-9af3-54d88408a75c"
      },
      "source": [
        "drinks_fillna.describe()"
      ],
      "execution_count": 11,
      "outputs": [
        {
          "output_type": "execute_result",
          "data": {
            "text/plain": [
              "count    193.000000\n",
              "mean      58.658031\n",
              "std       72.037441\n",
              "min        1.000000\n",
              "25%        5.000000\n",
              "50%       21.000000\n",
              "75%      100.000000\n",
              "max      339.000000\n",
              "Name: wine_servings, dtype: float64"
            ]
          },
          "metadata": {
            "tags": []
          },
          "execution_count": 11
        }
      ]
    },
    {
      "cell_type": "code",
      "metadata": {
        "colab": {
          "base_uri": "https://localhost:8080/"
        },
        "id": "uiCIidnK9e7J",
        "outputId": "a1331627-a1ba-4fba-d8d8-0eedac13e311"
      },
      "source": [
        "drinks.tail()"
      ],
      "execution_count": 12,
      "outputs": [
        {
          "output_type": "execute_result",
          "data": {
            "text/plain": [
              "country\n",
              "Venezuela    3.0\n",
              "Vietnam      1.0\n",
              "Yemen        NaN\n",
              "Zambia       4.0\n",
              "Zimbabwe     4.0\n",
              "Name: wine_servings, dtype: float64"
            ]
          },
          "metadata": {
            "tags": []
          },
          "execution_count": 12
        }
      ]
    },
    {
      "cell_type": "code",
      "metadata": {
        "colab": {
          "base_uri": "https://localhost:8080/"
        },
        "id": "pKWsWkP483nK",
        "outputId": "4189ef8f-5fa3-4adc-998f-f39156e37223"
      },
      "source": [
        "drinks.size"
      ],
      "execution_count": 13,
      "outputs": [
        {
          "output_type": "execute_result",
          "data": {
            "text/plain": [
              "193"
            ]
          },
          "metadata": {
            "tags": []
          },
          "execution_count": 13
        }
      ]
    },
    {
      "cell_type": "code",
      "metadata": {
        "colab": {
          "base_uri": "https://localhost:8080/"
        },
        "id": "48D-0FOZMSf-",
        "outputId": "20bfc375-3ba0-4edd-9cb5-2c724d3a02af"
      },
      "source": [
        "drinks.shape"
      ],
      "execution_count": 14,
      "outputs": [
        {
          "output_type": "execute_result",
          "data": {
            "text/plain": [
              "(193,)"
            ]
          },
          "metadata": {
            "tags": []
          },
          "execution_count": 14
        }
      ]
    },
    {
      "cell_type": "code",
      "metadata": {
        "colab": {
          "base_uri": "https://localhost:8080/"
        },
        "id": "WAepcRS2NQHf",
        "outputId": "f96fb3cf-6799-4f81-d43b-1cdd5728dbfe"
      },
      "source": [
        "drinks.count()"
      ],
      "execution_count": 15,
      "outputs": [
        {
          "output_type": "execute_result",
          "data": {
            "text/plain": [
              "162"
            ]
          },
          "metadata": {
            "tags": []
          },
          "execution_count": 15
        }
      ]
    },
    {
      "cell_type": "code",
      "metadata": {
        "id": "iANEmtq8QBfL"
      },
      "source": [
        "drinks_S = pd.Series(drinks)"
      ],
      "execution_count": 16,
      "outputs": []
    },
    {
      "cell_type": "code",
      "metadata": {
        "colab": {
          "base_uri": "https://localhost:8080/"
        },
        "id": "x51Rq7yDUz0o",
        "outputId": "f375df40-71eb-4f0c-c242-4c2c822b831b"
      },
      "source": [
        "drinks.mode()"
      ],
      "execution_count": 17,
      "outputs": [
        {
          "output_type": "execute_result",
          "data": {
            "text/plain": [
              "0    1.0\n",
              "dtype: float64"
            ]
          },
          "metadata": {
            "tags": []
          },
          "execution_count": 17
        }
      ]
    },
    {
      "cell_type": "code",
      "metadata": {
        "colab": {
          "base_uri": "https://localhost:8080/"
        },
        "id": "Wj_aOiP1VEaW",
        "outputId": "341e1ebf-e4c3-4681-e71b-9da948822598"
      },
      "source": [
        "drinks.value_counts()"
      ],
      "execution_count": 18,
      "outputs": [
        {
          "output_type": "execute_result",
          "data": {
            "text/plain": [
              "1.0      28\n",
              "2.0      10\n",
              "7.0       9\n",
              "8.0       7\n",
              "5.0       6\n",
              "         ..\n",
              "185.0     1\n",
              "218.0     1\n",
              "84.0      1\n",
              "149.0     1\n",
              "54.0      1\n",
              "Name: wine_servings, Length: 71, dtype: int64"
            ]
          },
          "metadata": {
            "tags": []
          },
          "execution_count": 18
        }
      ]
    },
    {
      "cell_type": "code",
      "metadata": {
        "colab": {
          "base_uri": "https://localhost:8080/"
        },
        "id": "4cvSWboKVdTT",
        "outputId": "b13cb9df-4af1-4d14-8d5a-839804034d13"
      },
      "source": [
        "drinks.max()"
      ],
      "execution_count": 19,
      "outputs": [
        {
          "output_type": "execute_result",
          "data": {
            "text/plain": [
              "339.0"
            ]
          },
          "metadata": {
            "tags": []
          },
          "execution_count": 19
        }
      ]
    },
    {
      "cell_type": "code",
      "metadata": {
        "colab": {
          "base_uri": "https://localhost:8080/",
          "height": 35
        },
        "id": "ufRBaH2NXEc5",
        "outputId": "d11729e2-1cc7-46f7-d77b-f1eaa80d8c73"
      },
      "source": [
        "drinks.idxmax()"
      ],
      "execution_count": 20,
      "outputs": [
        {
          "output_type": "execute_result",
          "data": {
            "application/vnd.google.colaboratory.intrinsic+json": {
              "type": "string"
            },
            "text/plain": [
              "'Portugal'"
            ]
          },
          "metadata": {
            "tags": []
          },
          "execution_count": 20
        }
      ]
    },
    {
      "cell_type": "code",
      "metadata": {
        "colab": {
          "base_uri": "https://localhost:8080/",
          "height": 35
        },
        "id": "Bxpob655ZbVx",
        "outputId": "f0b001f5-dd82-4916-d58d-e97fc5a620a3"
      },
      "source": [
        "drinks.idxmin()"
      ],
      "execution_count": 21,
      "outputs": [
        {
          "output_type": "execute_result",
          "data": {
            "application/vnd.google.colaboratory.intrinsic+json": {
              "type": "string"
            },
            "text/plain": [
              "'Brunei'"
            ]
          },
          "metadata": {
            "tags": []
          },
          "execution_count": 21
        }
      ]
    },
    {
      "cell_type": "code",
      "metadata": {
        "colab": {
          "base_uri": "https://localhost:8080/"
        },
        "id": "XlGfePGfZ1EQ",
        "outputId": "285924a4-92dd-449a-d1de-62a7f9adef97"
      },
      "source": [
        "drinks.get(drinks==drinks.min())\n"
      ],
      "execution_count": 22,
      "outputs": [
        {
          "output_type": "execute_result",
          "data": {
            "text/plain": [
              "country\n",
              "Brunei                      1.0\n",
              "Cambodia                    1.0\n",
              "Canada                      1.0\n",
              "Central African Republic    1.0\n",
              "Chad                        1.0\n",
              "Comoros                     1.0\n",
              "DR Congo                    1.0\n",
              "Egypt                       1.0\n",
              "Fiji                        1.0\n",
              "Gambia                      1.0\n",
              "Ghana                       1.0\n",
              "Guyana                      1.0\n",
              "Haiti                       1.0\n",
              "Jordan                      1.0\n",
              "Kiribati                    1.0\n",
              "Malawi                      1.0\n",
              "Mali                        1.0\n",
              "Morocco                     1.0\n",
              "Namibia                     1.0\n",
              "Nicaragua                   1.0\n",
              "Niger                       1.0\n",
              "Oman                        1.0\n",
              "Papua New Guinea            1.0\n",
              "Philippines                 1.0\n",
              "Solomon Islands             1.0\n",
              "Thailand                    1.0\n",
              "Tanzania                    1.0\n",
              "Vietnam                     1.0\n",
              "Name: wine_servings, dtype: float64"
            ]
          },
          "metadata": {
            "tags": []
          },
          "execution_count": 22
        }
      ]
    },
    {
      "cell_type": "code",
      "metadata": {
        "colab": {
          "base_uri": "https://localhost:8080/"
        },
        "id": "4BtonhPaDZfp",
        "outputId": "45572bc0-4450-4110-bbd3-322211e6db91"
      },
      "source": [
        "drinks.nsmallest(28)"
      ],
      "execution_count": 23,
      "outputs": [
        {
          "output_type": "execute_result",
          "data": {
            "text/plain": [
              "country\n",
              "Brunei                      1.0\n",
              "Cambodia                    1.0\n",
              "Canada                      1.0\n",
              "Central African Republic    1.0\n",
              "Chad                        1.0\n",
              "Comoros                     1.0\n",
              "DR Congo                    1.0\n",
              "Egypt                       1.0\n",
              "Fiji                        1.0\n",
              "Gambia                      1.0\n",
              "Ghana                       1.0\n",
              "Guyana                      1.0\n",
              "Haiti                       1.0\n",
              "Jordan                      1.0\n",
              "Kiribati                    1.0\n",
              "Malawi                      1.0\n",
              "Mali                        1.0\n",
              "Morocco                     1.0\n",
              "Namibia                     1.0\n",
              "Nicaragua                   1.0\n",
              "Niger                       1.0\n",
              "Oman                        1.0\n",
              "Papua New Guinea            1.0\n",
              "Philippines                 1.0\n",
              "Solomon Islands             1.0\n",
              "Thailand                    1.0\n",
              "Tanzania                    1.0\n",
              "Vietnam                     1.0\n",
              "Name: wine_servings, dtype: float64"
            ]
          },
          "metadata": {
            "tags": []
          },
          "execution_count": 23
        }
      ]
    },
    {
      "cell_type": "code",
      "metadata": {
        "colab": {
          "base_uri": "https://localhost:8080/"
        },
        "id": "-shziWrODHr-",
        "outputId": "ca9e7a82-5857-4019-ed18-a10808d779ec"
      },
      "source": [
        "drinks.nlargest(50)"
      ],
      "execution_count": 24,
      "outputs": [
        {
          "output_type": "execute_result",
          "data": {
            "text/plain": [
              "country\n",
              "Portugal              339.0\n",
              "Andorra               312.0\n",
              "Denmark               278.0\n",
              "Slovenia              276.0\n",
              "Luxembourg            271.0\n",
              "Croatia               254.0\n",
              "Italy                 237.0\n",
              "Equatorial Guinea     233.0\n",
              "Argentina             221.0\n",
              "Greece                218.0\n",
              "Australia             212.0\n",
              "Belgium               212.0\n",
              "United Kingdom        195.0\n",
              "Austria               191.0\n",
              "Sweden                186.0\n",
              "Hungary               185.0\n",
              "Germany               175.0\n",
              "New Zealand           175.0\n",
              "Chile                 172.0\n",
              "Romania               167.0\n",
              "Ireland               165.0\n",
              "Georgia               149.0\n",
              "Czech Republic        134.0\n",
              "Norway                129.0\n",
              "Montenegro            128.0\n",
              "Serbia                127.0\n",
              "Laos                  123.0\n",
              "Slovakia              116.0\n",
              "Cyprus                113.0\n",
              "Spain                 112.0\n",
              "Finland                97.0\n",
              "Bulgaria               94.0\n",
              "Macedonia              86.0\n",
              "USA                    84.0\n",
              "South Africa           81.0\n",
              "Iceland                78.0\n",
              "Cook Islands           74.0\n",
              "Paraguay               74.0\n",
              "Russian Federation     73.0\n",
              "St. Lucia              71.0\n",
              "Latvia                 62.0\n",
              "Estonia                59.0\n",
              "Gabon                  59.0\n",
              "Lithuania              56.0\n",
              "Poland                 56.0\n",
              "Albania                54.0\n",
              "Bahamas                51.0\n",
              "Seychelles             51.0\n",
              "Angola                 45.0\n",
              "Antigua & Barbuda      45.0\n",
              "Name: wine_servings, dtype: float64"
            ]
          },
          "metadata": {
            "tags": []
          },
          "execution_count": 24
        }
      ]
    },
    {
      "cell_type": "code",
      "metadata": {
        "colab": {
          "base_uri": "https://localhost:8080/"
        },
        "id": "8ex6aB3PPTSJ",
        "outputId": "e3960ab1-4762-462f-f372-5887096e2932"
      },
      "source": [
        "drinks.isnull()"
      ],
      "execution_count": 25,
      "outputs": [
        {
          "output_type": "execute_result",
          "data": {
            "text/plain": [
              "country\n",
              "Afghanistan     True\n",
              "Albania        False\n",
              "Algeria        False\n",
              "Andorra        False\n",
              "Angola         False\n",
              "               ...  \n",
              "Venezuela      False\n",
              "Vietnam        False\n",
              "Yemen           True\n",
              "Zambia         False\n",
              "Zimbabwe       False\n",
              "Name: wine_servings, Length: 193, dtype: bool"
            ]
          },
          "metadata": {
            "tags": []
          },
          "execution_count": 25
        }
      ]
    },
    {
      "cell_type": "code",
      "metadata": {
        "colab": {
          "base_uri": "https://localhost:8080/"
        },
        "id": "sjER35ZmQM13",
        "outputId": "53996de9-ea1b-41aa-a3a6-fdb090e23e24"
      },
      "source": [
        "drinks_S"
      ],
      "execution_count": 26,
      "outputs": [
        {
          "output_type": "execute_result",
          "data": {
            "text/plain": [
              "country\n",
              "Afghanistan      NaN\n",
              "Albania         54.0\n",
              "Algeria         14.0\n",
              "Andorra        312.0\n",
              "Angola          45.0\n",
              "               ...  \n",
              "Venezuela        3.0\n",
              "Vietnam          1.0\n",
              "Yemen            NaN\n",
              "Zambia           4.0\n",
              "Zimbabwe         4.0\n",
              "Name: wine_servings, Length: 193, dtype: float64"
            ]
          },
          "metadata": {
            "tags": []
          },
          "execution_count": 26
        }
      ]
    },
    {
      "cell_type": "code",
      "metadata": {
        "colab": {
          "base_uri": "https://localhost:8080/"
        },
        "id": "U7KAzuxlQlkv",
        "outputId": "463628fb-8924-47b2-d844-82c5d0c17e47"
      },
      "source": [
        "drinks[drinks.isnull()]"
      ],
      "execution_count": 27,
      "outputs": [
        {
          "output_type": "execute_result",
          "data": {
            "text/plain": [
              "country\n",
              "Afghanistan        NaN\n",
              "Bangladesh         NaN\n",
              "Bhutan             NaN\n",
              "Burundi            NaN\n",
              "North Korea        NaN\n",
              "Eritrea            NaN\n",
              "Ethiopia           NaN\n",
              "India              NaN\n",
              "Indonesia          NaN\n",
              "Iran               NaN\n",
              "Iraq               NaN\n",
              "Kuwait             NaN\n",
              "Lesotho            NaN\n",
              "Libya              NaN\n",
              "Malaysia           NaN\n",
              "Maldives           NaN\n",
              "Marshall Islands   NaN\n",
              "Mauritania         NaN\n",
              "Monaco             NaN\n",
              "Myanmar            NaN\n",
              "Nepal              NaN\n",
              "Pakistan           NaN\n",
              "Rwanda             NaN\n",
              "San Marino         NaN\n",
              "Saudi Arabia       NaN\n",
              "Somalia            NaN\n",
              "Sri Lanka          NaN\n",
              "Sudan              NaN\n",
              "Tajikistan         NaN\n",
              "Uganda             NaN\n",
              "Yemen              NaN\n",
              "Name: wine_servings, dtype: float64"
            ]
          },
          "metadata": {
            "tags": []
          },
          "execution_count": 27
        }
      ]
    },
    {
      "cell_type": "code",
      "metadata": {
        "colab": {
          "base_uri": "https://localhost:8080/"
        },
        "id": "syhWX9wcRT98",
        "outputId": "937314f4-3ce3-4037-ba8f-a3ae363b7156"
      },
      "source": [
        "drinks.get(drinks.isnull())"
      ],
      "execution_count": 28,
      "outputs": [
        {
          "output_type": "execute_result",
          "data": {
            "text/plain": [
              "country\n",
              "Afghanistan        NaN\n",
              "Bangladesh         NaN\n",
              "Bhutan             NaN\n",
              "Burundi            NaN\n",
              "North Korea        NaN\n",
              "Eritrea            NaN\n",
              "Ethiopia           NaN\n",
              "India              NaN\n",
              "Indonesia          NaN\n",
              "Iran               NaN\n",
              "Iraq               NaN\n",
              "Kuwait             NaN\n",
              "Lesotho            NaN\n",
              "Libya              NaN\n",
              "Malaysia           NaN\n",
              "Maldives           NaN\n",
              "Marshall Islands   NaN\n",
              "Mauritania         NaN\n",
              "Monaco             NaN\n",
              "Myanmar            NaN\n",
              "Nepal              NaN\n",
              "Pakistan           NaN\n",
              "Rwanda             NaN\n",
              "San Marino         NaN\n",
              "Saudi Arabia       NaN\n",
              "Somalia            NaN\n",
              "Sri Lanka          NaN\n",
              "Sudan              NaN\n",
              "Tajikistan         NaN\n",
              "Uganda             NaN\n",
              "Yemen              NaN\n",
              "Name: wine_servings, dtype: float64"
            ]
          },
          "metadata": {
            "tags": []
          },
          "execution_count": 28
        }
      ]
    },
    {
      "cell_type": "code",
      "metadata": {
        "id": "DLwNHEgfDM6N",
        "colab": {
          "base_uri": "https://localhost:8080/"
        },
        "outputId": "f2ce1555-cd48-47e8-b26f-3934c604aa5e"
      },
      "source": [
        "len(drinks.get(drinks.isnull()))"
      ],
      "execution_count": 29,
      "outputs": [
        {
          "output_type": "execute_result",
          "data": {
            "text/plain": [
              "31"
            ]
          },
          "metadata": {
            "tags": []
          },
          "execution_count": 29
        }
      ]
    },
    {
      "cell_type": "code",
      "metadata": {
        "id": "RIPmUS_7ST89",
        "colab": {
          "base_uri": "https://localhost:8080/"
        },
        "outputId": "437df10c-c908-438d-95d7-f6441e97e0d2"
      },
      "source": [
        "len(drinks_list)"
      ],
      "execution_count": 30,
      "outputs": [
        {
          "output_type": "execute_result",
          "data": {
            "text/plain": [
              "193"
            ]
          },
          "metadata": {
            "tags": []
          },
          "execution_count": 30
        }
      ]
    },
    {
      "cell_type": "code",
      "metadata": {
        "id": "c0Of1sbeS0k6"
      },
      "source": [
        "fify_plus = drinks.get(drinks > 50)"
      ],
      "execution_count": 31,
      "outputs": []
    },
    {
      "cell_type": "code",
      "metadata": {
        "colab": {
          "base_uri": "https://localhost:8080/"
        },
        "id": "MVF5fZwIFxIB",
        "outputId": "03a4cd3a-a990-4a24-ea0d-7402d652be74"
      },
      "source": [
        "fify_plus.head()"
      ],
      "execution_count": 32,
      "outputs": [
        {
          "output_type": "execute_result",
          "data": {
            "text/plain": [
              "country\n",
              "Albania       54.0\n",
              "Andorra      312.0\n",
              "Argentina    221.0\n",
              "Australia    212.0\n",
              "Austria      191.0\n",
              "Name: wine_servings, dtype: float64"
            ]
          },
          "metadata": {
            "tags": []
          },
          "execution_count": 32
        }
      ]
    },
    {
      "cell_type": "code",
      "metadata": {
        "colab": {
          "base_uri": "https://localhost:8080/"
        },
        "id": "JpBuhOHeFyrS",
        "outputId": "f4f0490c-7009-4e7f-8c9d-27f9bbdccbc3"
      },
      "source": [
        "len(fify_plus)"
      ],
      "execution_count": 33,
      "outputs": [
        {
          "output_type": "execute_result",
          "data": {
            "text/plain": [
              "48"
            ]
          },
          "metadata": {
            "tags": []
          },
          "execution_count": 33
        }
      ]
    },
    {
      "cell_type": "code",
      "metadata": {
        "colab": {
          "base_uri": "https://localhost:8080/"
        },
        "id": "RLDjoNWcGHwm",
        "outputId": "da28c485-ff36-4200-dc5d-cb529b587955"
      },
      "source": [
        "fify_plus.count()"
      ],
      "execution_count": 34,
      "outputs": [
        {
          "output_type": "execute_result",
          "data": {
            "text/plain": [
              "48"
            ]
          },
          "metadata": {
            "tags": []
          },
          "execution_count": 34
        }
      ]
    },
    {
      "cell_type": "code",
      "metadata": {
        "colab": {
          "base_uri": "https://localhost:8080/"
        },
        "id": "OrhJdwb5GOIa",
        "outputId": "12ff5bf2-48b2-472c-8999-c4d30db36f1c"
      },
      "source": [
        "fify_plus.nlargest(30)"
      ],
      "execution_count": 35,
      "outputs": [
        {
          "output_type": "execute_result",
          "data": {
            "text/plain": [
              "country\n",
              "Portugal             339.0\n",
              "Andorra              312.0\n",
              "Denmark              278.0\n",
              "Slovenia             276.0\n",
              "Luxembourg           271.0\n",
              "Croatia              254.0\n",
              "Italy                237.0\n",
              "Equatorial Guinea    233.0\n",
              "Argentina            221.0\n",
              "Greece               218.0\n",
              "Australia            212.0\n",
              "Belgium              212.0\n",
              "United Kingdom       195.0\n",
              "Austria              191.0\n",
              "Sweden               186.0\n",
              "Hungary              185.0\n",
              "Germany              175.0\n",
              "New Zealand          175.0\n",
              "Chile                172.0\n",
              "Romania              167.0\n",
              "Ireland              165.0\n",
              "Georgia              149.0\n",
              "Czech Republic       134.0\n",
              "Norway               129.0\n",
              "Montenegro           128.0\n",
              "Serbia               127.0\n",
              "Laos                 123.0\n",
              "Slovakia             116.0\n",
              "Cyprus               113.0\n",
              "Spain                112.0\n",
              "Name: wine_servings, dtype: float64"
            ]
          },
          "metadata": {
            "tags": []
          },
          "execution_count": 35
        }
      ]
    },
    {
      "cell_type": "code",
      "metadata": {
        "colab": {
          "base_uri": "https://localhost:8080/"
        },
        "id": "7etvtEweGhp5",
        "outputId": "9b0817c2-3fa3-4d4c-f364-b2d0f4d88566"
      },
      "source": [
        "fify_plus.nsmallest(20)"
      ],
      "execution_count": 36,
      "outputs": [
        {
          "output_type": "execute_result",
          "data": {
            "text/plain": [
              "country\n",
              "Bahamas                51.0\n",
              "Seychelles             51.0\n",
              "Albania                54.0\n",
              "Lithuania              56.0\n",
              "Poland                 56.0\n",
              "Estonia                59.0\n",
              "Gabon                  59.0\n",
              "Latvia                 62.0\n",
              "St. Lucia              71.0\n",
              "Russian Federation     73.0\n",
              "Cook Islands           74.0\n",
              "Paraguay               74.0\n",
              "Iceland                78.0\n",
              "South Africa           81.0\n",
              "USA                    84.0\n",
              "Macedonia              86.0\n",
              "Bulgaria               94.0\n",
              "Finland                97.0\n",
              "Spain                 112.0\n",
              "Cyprus                113.0\n",
              "Name: wine_servings, dtype: float64"
            ]
          },
          "metadata": {
            "tags": []
          },
          "execution_count": 36
        }
      ]
    },
    {
      "cell_type": "code",
      "metadata": {
        "id": "i6Fqm2vmGfAy"
      },
      "source": [
        "filter_b = drinks.filter(regex='^V')"
      ],
      "execution_count": 37,
      "outputs": []
    },
    {
      "cell_type": "code",
      "metadata": {
        "colab": {
          "base_uri": "https://localhost:8080/"
        },
        "id": "6QwGK6SIeNaV",
        "outputId": "79390093-ee40-4357-f6c6-7223ca471e08"
      },
      "source": [
        "filter_b"
      ],
      "execution_count": 38,
      "outputs": [
        {
          "output_type": "execute_result",
          "data": {
            "text/plain": [
              "country\n",
              "Vanuatu      11.0\n",
              "Venezuela     3.0\n",
              "Vietnam       1.0\n",
              "Name: wine_servings, dtype: float64"
            ]
          },
          "metadata": {
            "tags": []
          },
          "execution_count": 38
        }
      ]
    },
    {
      "cell_type": "code",
      "metadata": {
        "colab": {
          "base_uri": "https://localhost:8080/"
        },
        "id": "2aQrJGyleGWi",
        "outputId": "a939dcc4-8967-408d-cbf7-515ed6e7e582"
      },
      "source": [
        "filter_b.nlargest(3)"
      ],
      "execution_count": 39,
      "outputs": [
        {
          "output_type": "execute_result",
          "data": {
            "text/plain": [
              "country\n",
              "Vanuatu      11.0\n",
              "Venezuela     3.0\n",
              "Vietnam       1.0\n",
              "Name: wine_servings, dtype: float64"
            ]
          },
          "metadata": {
            "tags": []
          },
          "execution_count": 39
        }
      ]
    },
    {
      "cell_type": "code",
      "metadata": {
        "colab": {
          "base_uri": "https://localhost:8080/"
        },
        "id": "XC_tS36Yef9O",
        "outputId": "9a56d84e-3616-406e-c7f3-445a1d356964"
      },
      "source": [
        "filter_b.max()"
      ],
      "execution_count": 40,
      "outputs": [
        {
          "output_type": "execute_result",
          "data": {
            "text/plain": [
              "11.0"
            ]
          },
          "metadata": {
            "tags": []
          },
          "execution_count": 40
        }
      ]
    },
    {
      "cell_type": "code",
      "metadata": {
        "id": "DPxCqNKReVye",
        "colab": {
          "base_uri": "https://localhost:8080/"
        },
        "outputId": "f50f5311-5721-4d5a-f7a8-b7abf1af483a"
      },
      "source": [
        "drinks.where(lambda x: x>200).dropna()"
      ],
      "execution_count": 41,
      "outputs": [
        {
          "output_type": "execute_result",
          "data": {
            "text/plain": [
              "country\n",
              "Andorra              312.0\n",
              "Argentina            221.0\n",
              "Australia            212.0\n",
              "Belgium              212.0\n",
              "Croatia              254.0\n",
              "Denmark              278.0\n",
              "Equatorial Guinea    233.0\n",
              "Greece               218.0\n",
              "Italy                237.0\n",
              "Luxembourg           271.0\n",
              "Portugal             339.0\n",
              "Slovenia             276.0\n",
              "Name: wine_servings, dtype: float64"
            ]
          },
          "metadata": {
            "tags": []
          },
          "execution_count": 41
        }
      ]
    },
    {
      "cell_type": "code",
      "metadata": {
        "colab": {
          "base_uri": "https://localhost:8080/"
        },
        "id": "hpoVzSA4untX",
        "outputId": "204a7a4a-9364-441e-a22c-79cc2fea16c0"
      },
      "source": [
        "drinks.mask(lambda x: x>200).dropna()"
      ],
      "execution_count": 42,
      "outputs": [
        {
          "output_type": "execute_result",
          "data": {
            "text/plain": [
              "country\n",
              "Albania              54.0\n",
              "Algeria              14.0\n",
              "Angola               45.0\n",
              "Antigua & Barbuda    45.0\n",
              "Armenia              11.0\n",
              "                     ... \n",
              "Vanuatu              11.0\n",
              "Venezuela             3.0\n",
              "Vietnam               1.0\n",
              "Zambia                4.0\n",
              "Zimbabwe              4.0\n",
              "Name: wine_servings, Length: 150, dtype: float64"
            ]
          },
          "metadata": {
            "tags": []
          },
          "execution_count": 42
        }
      ]
    },
    {
      "cell_type": "code",
      "metadata": {
        "colab": {
          "base_uri": "https://localhost:8080/"
        },
        "id": "MfF-Jrq_uxmd",
        "outputId": "19ab016a-e969-4613-87f2-f4db9b83d8ea"
      },
      "source": [
        "drinks.dropna()"
      ],
      "execution_count": 43,
      "outputs": [
        {
          "output_type": "execute_result",
          "data": {
            "text/plain": [
              "country\n",
              "Albania               54.0\n",
              "Algeria               14.0\n",
              "Andorra              312.0\n",
              "Angola                45.0\n",
              "Antigua & Barbuda     45.0\n",
              "                     ...  \n",
              "Vanuatu               11.0\n",
              "Venezuela              3.0\n",
              "Vietnam                1.0\n",
              "Zambia                 4.0\n",
              "Zimbabwe               4.0\n",
              "Name: wine_servings, Length: 162, dtype: float64"
            ]
          },
          "metadata": {
            "tags": []
          },
          "execution_count": 43
        }
      ]
    },
    {
      "cell_type": "code",
      "metadata": {
        "id": "w194O0CDu2jN"
      },
      "source": [
        ""
      ],
      "execution_count": 43,
      "outputs": []
    }
  ]
}