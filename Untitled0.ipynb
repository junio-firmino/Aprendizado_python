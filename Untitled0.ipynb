{
  "nbformat": 4,
  "nbformat_minor": 0,
  "metadata": {
    "colab": {
      "name": "Untitled0.ipynb",
      "provenance": [],
      "mount_file_id": "1ILH9sBLhvWg44v3NDxc2YJW7IoRudVma",
      "authorship_tag": "ABX9TyNJPO5Oz8cXs592T8N9JXF7",
      "include_colab_link": true
    },
    "kernelspec": {
      "name": "python3",
      "display_name": "Python 3"
    },
    "language_info": {
      "name": "python"
    }
  },
  "cells": [
    {
      "cell_type": "markdown",
      "metadata": {
        "id": "view-in-github",
        "colab_type": "text"
      },
      "source": [
        "<a href=\"https://colab.research.google.com/github/junio-firmino/Aprendizado_python/blob/master/Untitled0.ipynb\" target=\"_parent\"><img src=\"https://colab.research.google.com/assets/colab-badge.svg\" alt=\"Open In Colab\"/></a>"
      ]
    },
    {
      "cell_type": "code",
      "metadata": {
        "id": "TpdLWGic7LNu"
      },
      "source": [
        "import pandas as pd\n"
      ],
      "execution_count": 1,
      "outputs": []
    },
    {
      "cell_type": "code",
      "metadata": {
        "id": "_vC4tJEL8RJq"
      },
      "source": [
        "drinks = pd.read_csv('/content/drive/MyDrive/drinks.csv', usecols=['country','wine_servings'], index_col='country',squeeze=True)"
      ],
      "execution_count": 2,
      "outputs": []
    },
    {
      "cell_type": "code",
      "metadata": {
        "colab": {
          "base_uri": "https://localhost:8080/"
        },
        "id": "ERQ71cZK8ehl",
        "outputId": "dd866de0-9f0e-40e9-a780-7199454e8f7d"
      },
      "source": [
        "drinks.head()"
      ],
      "execution_count": 3,
      "outputs": [
        {
          "output_type": "execute_result",
          "data": {
            "text/plain": [
              "country\n",
              "Afghanistan      NaN\n",
              "Albania         54.0\n",
              "Algeria         14.0\n",
              "Andorra        312.0\n",
              "Angola          45.0\n",
              "Name: wine_servings, dtype: float64"
            ]
          },
          "metadata": {
            "tags": []
          },
          "execution_count": 3
        }
      ]
    },
    {
      "cell_type": "code",
      "metadata": {
        "colab": {
          "base_uri": "https://localhost:8080/"
        },
        "id": "c_CducP2-Ut9",
        "outputId": "67a2e799-0334-458f-e24e-4c486b0775f2"
      },
      "source": [
        "drinks.describe"
      ],
      "execution_count": 4,
      "outputs": [
        {
          "output_type": "execute_result",
          "data": {
            "text/plain": [
              "<bound method NDFrame.describe of country\n",
              "Afghanistan      NaN\n",
              "Albania         54.0\n",
              "Algeria         14.0\n",
              "Andorra        312.0\n",
              "Angola          45.0\n",
              "               ...  \n",
              "Venezuela        3.0\n",
              "Vietnam          1.0\n",
              "Yemen            NaN\n",
              "Zambia           4.0\n",
              "Zimbabwe         4.0\n",
              "Name: wine_servings, Length: 193, dtype: float64>"
            ]
          },
          "metadata": {
            "tags": []
          },
          "execution_count": 4
        }
      ]
    },
    {
      "cell_type": "code",
      "metadata": {
        "colab": {
          "base_uri": "https://localhost:8080/",
          "height": 35
        },
        "id": "MpT_9Quy-igu",
        "outputId": "d5fb511a-ef10-4dde-90fe-31c1522ae280"
      },
      "source": [
        "drinks.name"
      ],
      "execution_count": 5,
      "outputs": [
        {
          "output_type": "execute_result",
          "data": {
            "application/vnd.google.colaboratory.intrinsic+json": {
              "type": "string"
            },
            "text/plain": [
              "'wine_servings'"
            ]
          },
          "metadata": {
            "tags": []
          },
          "execution_count": 5
        }
      ]
    },
    {
      "cell_type": "code",
      "metadata": {
        "colab": {
          "base_uri": "https://localhost:8080/"
        },
        "id": "5wukC4WO_Sfq",
        "outputId": "992c75b2-4e6c-4424-f386-f37ba2227dc9"
      },
      "source": [
        "drinks.dropna()"
      ],
      "execution_count": 6,
      "outputs": [
        {
          "output_type": "execute_result",
          "data": {
            "text/plain": [
              "country\n",
              "Albania               54.0\n",
              "Algeria               14.0\n",
              "Andorra              312.0\n",
              "Angola                45.0\n",
              "Antigua & Barbuda     45.0\n",
              "                     ...  \n",
              "Vanuatu               11.0\n",
              "Venezuela              3.0\n",
              "Vietnam                1.0\n",
              "Zambia                 4.0\n",
              "Zimbabwe               4.0\n",
              "Name: wine_servings, Length: 162, dtype: float64"
            ]
          },
          "metadata": {
            "tags": []
          },
          "execution_count": 6
        }
      ]
    },
    {
      "cell_type": "code",
      "metadata": {
        "id": "kzT-XlHo__Nx"
      },
      "source": [
        "drinks_fillna = drinks.fillna(100)"
      ],
      "execution_count": 7,
      "outputs": []
    },
    {
      "cell_type": "code",
      "metadata": {
        "id": "PHBcX0xM12yh"
      },
      "source": [
        "drinks_list = list(drinks)"
      ],
      "execution_count": 8,
      "outputs": []
    },
    {
      "cell_type": "code",
      "metadata": {
        "id": "sNw7e9Yy93Fu"
      },
      "source": [
        "drink_list_na = list(drinks_fillna)"
      ],
      "execution_count": 9,
      "outputs": []
    },
    {
      "cell_type": "code",
      "metadata": {
        "colab": {
          "base_uri": "https://localhost:8080/"
        },
        "id": "0vRKPEnzBvNq",
        "outputId": "1df21479-826d-4dee-9c16-4012c69c801b"
      },
      "source": [
        "drink_list_na"
      ],
      "execution_count": 10,
      "outputs": [
        {
          "output_type": "execute_result",
          "data": {
            "text/plain": [
              "[100.0,\n",
              " 54.0,\n",
              " 14.0,\n",
              " 312.0,\n",
              " 45.0,\n",
              " 45.0,\n",
              " 221.0,\n",
              " 11.0,\n",
              " 212.0,\n",
              " 191.0,\n",
              " 5.0,\n",
              " 51.0,\n",
              " 7.0,\n",
              " 100.0,\n",
              " 36.0,\n",
              " 42.0,\n",
              " 212.0,\n",
              " 8.0,\n",
              " 13.0,\n",
              " 100.0,\n",
              " 8.0,\n",
              " 8.0,\n",
              " 35.0,\n",
              " 16.0,\n",
              " 1.0,\n",
              " 94.0,\n",
              " 7.0,\n",
              " 100.0,\n",
              " 7.0,\n",
              " 16.0,\n",
              " 1.0,\n",
              " 4.0,\n",
              " 1.0,\n",
              " 1.0,\n",
              " 1.0,\n",
              " 172.0,\n",
              " 8.0,\n",
              " 3.0,\n",
              " 1.0,\n",
              " 9.0,\n",
              " 74.0,\n",
              " 11.0,\n",
              " 254.0,\n",
              " 5.0,\n",
              " 113.0,\n",
              " 134.0,\n",
              " 100.0,\n",
              " 1.0,\n",
              " 278.0,\n",
              " 3.0,\n",
              " 26.0,\n",
              " 9.0,\n",
              " 3.0,\n",
              " 1.0,\n",
              " 2.0,\n",
              " 233.0,\n",
              " 100.0,\n",
              " 59.0,\n",
              " 100.0,\n",
              " 1.0,\n",
              " 97.0,\n",
              " 37.0,\n",
              " 59.0,\n",
              " 1.0,\n",
              " 149.0,\n",
              " 175.0,\n",
              " 1.0,\n",
              " 218.0,\n",
              " 28.0,\n",
              " 2.0,\n",
              " 2.0,\n",
              " 21.0,\n",
              " 1.0,\n",
              " 1.0,\n",
              " 2.0,\n",
              " 185.0,\n",
              " 78.0,\n",
              " 100.0,\n",
              " 100.0,\n",
              " 100.0,\n",
              " 100.0,\n",
              " 165.0,\n",
              " 9.0,\n",
              " 237.0,\n",
              " 9.0,\n",
              " 16.0,\n",
              " 1.0,\n",
              " 12.0,\n",
              " 2.0,\n",
              " 1.0,\n",
              " 100.0,\n",
              " 6.0,\n",
              " 123.0,\n",
              " 62.0,\n",
              " 31.0,\n",
              " 100.0,\n",
              " 2.0,\n",
              " 100.0,\n",
              " 56.0,\n",
              " 271.0,\n",
              " 4.0,\n",
              " 1.0,\n",
              " 100.0,\n",
              " 100.0,\n",
              " 1.0,\n",
              " 12.0,\n",
              " 100.0,\n",
              " 100.0,\n",
              " 18.0,\n",
              " 5.0,\n",
              " 18.0,\n",
              " 100.0,\n",
              " 8.0,\n",
              " 128.0,\n",
              " 1.0,\n",
              " 5.0,\n",
              " 100.0,\n",
              " 1.0,\n",
              " 8.0,\n",
              " 100.0,\n",
              " 19.0,\n",
              " 175.0,\n",
              " 1.0,\n",
              " 1.0,\n",
              " 2.0,\n",
              " 7.0,\n",
              " 129.0,\n",
              " 1.0,\n",
              " 100.0,\n",
              " 23.0,\n",
              " 18.0,\n",
              " 1.0,\n",
              " 74.0,\n",
              " 21.0,\n",
              " 1.0,\n",
              " 56.0,\n",
              " 339.0,\n",
              " 7.0,\n",
              " 9.0,\n",
              " 18.0,\n",
              " 167.0,\n",
              " 73.0,\n",
              " 100.0,\n",
              " 32.0,\n",
              " 71.0,\n",
              " 11.0,\n",
              " 24.0,\n",
              " 100.0,\n",
              " 14.0,\n",
              " 100.0,\n",
              " 7.0,\n",
              " 127.0,\n",
              " 51.0,\n",
              " 2.0,\n",
              " 11.0,\n",
              " 116.0,\n",
              " 276.0,\n",
              " 1.0,\n",
              " 100.0,\n",
              " 81.0,\n",
              " 112.0,\n",
              " 100.0,\n",
              " 100.0,\n",
              " 7.0,\n",
              " 2.0,\n",
              " 186.0,\n",
              " 28.0,\n",
              " 16.0,\n",
              " 100.0,\n",
              " 1.0,\n",
              " 86.0,\n",
              " 4.0,\n",
              " 19.0,\n",
              " 5.0,\n",
              " 7.0,\n",
              " 2.0,\n",
              " 7.0,\n",
              " 32.0,\n",
              " 9.0,\n",
              " 100.0,\n",
              " 45.0,\n",
              " 5.0,\n",
              " 195.0,\n",
              " 1.0,\n",
              " 84.0,\n",
              " 22.0,\n",
              " 8.0,\n",
              " 11.0,\n",
              " 3.0,\n",
              " 1.0,\n",
              " 100.0,\n",
              " 4.0,\n",
              " 4.0]"
            ]
          },
          "metadata": {
            "tags": []
          },
          "execution_count": 10
        }
      ]
    },
    {
      "cell_type": "code",
      "metadata": {
        "colab": {
          "base_uri": "https://localhost:8080/"
        },
        "id": "BWv_roFWCWZT",
        "outputId": "ec58776e-74fe-4e1c-8ab7-3ed4f0bc5898"
      },
      "source": [
        "drinks_fillna.describe()"
      ],
      "execution_count": 11,
      "outputs": [
        {
          "output_type": "execute_result",
          "data": {
            "text/plain": [
              "count    193.000000\n",
              "mean      58.658031\n",
              "std       72.037441\n",
              "min        1.000000\n",
              "25%        5.000000\n",
              "50%       21.000000\n",
              "75%      100.000000\n",
              "max      339.000000\n",
              "Name: wine_servings, dtype: float64"
            ]
          },
          "metadata": {
            "tags": []
          },
          "execution_count": 11
        }
      ]
    },
    {
      "cell_type": "code",
      "metadata": {
        "colab": {
          "base_uri": "https://localhost:8080/"
        },
        "id": "uiCIidnK9e7J",
        "outputId": "780df2ad-5fa3-4cac-d773-b0416c752fcf"
      },
      "source": [
        "drinks.tail()"
      ],
      "execution_count": 12,
      "outputs": [
        {
          "output_type": "execute_result",
          "data": {
            "text/plain": [
              "country\n",
              "Venezuela    3.0\n",
              "Vietnam      1.0\n",
              "Yemen        NaN\n",
              "Zambia       4.0\n",
              "Zimbabwe     4.0\n",
              "Name: wine_servings, dtype: float64"
            ]
          },
          "metadata": {
            "tags": []
          },
          "execution_count": 12
        }
      ]
    },
    {
      "cell_type": "code",
      "metadata": {
        "colab": {
          "base_uri": "https://localhost:8080/"
        },
        "id": "pKWsWkP483nK",
        "outputId": "c32fb91f-2ab7-4c4c-cb7d-62e4d092bea5"
      },
      "source": [
        "drinks.size"
      ],
      "execution_count": 13,
      "outputs": [
        {
          "output_type": "execute_result",
          "data": {
            "text/plain": [
              "193"
            ]
          },
          "metadata": {
            "tags": []
          },
          "execution_count": 13
        }
      ]
    },
    {
      "cell_type": "code",
      "metadata": {
        "colab": {
          "base_uri": "https://localhost:8080/"
        },
        "id": "48D-0FOZMSf-",
        "outputId": "b83b6bee-c423-4dad-b63b-bdf0ffb1e12b"
      },
      "source": [
        "drinks.shape"
      ],
      "execution_count": 14,
      "outputs": [
        {
          "output_type": "execute_result",
          "data": {
            "text/plain": [
              "(193,)"
            ]
          },
          "metadata": {
            "tags": []
          },
          "execution_count": 14
        }
      ]
    },
    {
      "cell_type": "code",
      "metadata": {
        "colab": {
          "base_uri": "https://localhost:8080/"
        },
        "id": "WAepcRS2NQHf",
        "outputId": "db87b897-b9d6-4214-8d3b-4b48d0788534"
      },
      "source": [
        "drinks.count()"
      ],
      "execution_count": 15,
      "outputs": [
        {
          "output_type": "execute_result",
          "data": {
            "text/plain": [
              "162"
            ]
          },
          "metadata": {
            "tags": []
          },
          "execution_count": 15
        }
      ]
    },
    {
      "cell_type": "code",
      "metadata": {
        "id": "iANEmtq8QBfL"
      },
      "source": [
        "drinks_S = pd.Series(drinks)"
      ],
      "execution_count": 16,
      "outputs": []
    },
    {
      "cell_type": "code",
      "metadata": {
        "colab": {
          "base_uri": "https://localhost:8080/"
        },
        "id": "x51Rq7yDUz0o",
        "outputId": "285b9e21-181a-4064-bb72-5775f42e673c"
      },
      "source": [
        "drinks.mode()"
      ],
      "execution_count": 17,
      "outputs": [
        {
          "output_type": "execute_result",
          "data": {
            "text/plain": [
              "0    1.0\n",
              "dtype: float64"
            ]
          },
          "metadata": {
            "tags": []
          },
          "execution_count": 17
        }
      ]
    },
    {
      "cell_type": "code",
      "metadata": {
        "colab": {
          "base_uri": "https://localhost:8080/"
        },
        "id": "Wj_aOiP1VEaW",
        "outputId": "dc44e076-914d-4dc4-d990-db723963a722"
      },
      "source": [
        "drinks.value_counts()"
      ],
      "execution_count": 18,
      "outputs": [
        {
          "output_type": "execute_result",
          "data": {
            "text/plain": [
              "1.0      28\n",
              "2.0      10\n",
              "7.0       9\n",
              "8.0       7\n",
              "5.0       6\n",
              "         ..\n",
              "185.0     1\n",
              "218.0     1\n",
              "84.0      1\n",
              "149.0     1\n",
              "54.0      1\n",
              "Name: wine_servings, Length: 71, dtype: int64"
            ]
          },
          "metadata": {
            "tags": []
          },
          "execution_count": 18
        }
      ]
    },
    {
      "cell_type": "code",
      "metadata": {
        "colab": {
          "base_uri": "https://localhost:8080/"
        },
        "id": "4cvSWboKVdTT",
        "outputId": "5f35807d-7c06-4b04-d184-ce186de7696d"
      },
      "source": [
        "drinks.max()"
      ],
      "execution_count": 19,
      "outputs": [
        {
          "output_type": "execute_result",
          "data": {
            "text/plain": [
              "339.0"
            ]
          },
          "metadata": {
            "tags": []
          },
          "execution_count": 19
        }
      ]
    },
    {
      "cell_type": "code",
      "metadata": {
        "colab": {
          "base_uri": "https://localhost:8080/",
          "height": 35
        },
        "id": "ufRBaH2NXEc5",
        "outputId": "1b53215f-3734-4d30-917e-f041edf6af32"
      },
      "source": [
        "drinks.idxmax()"
      ],
      "execution_count": 20,
      "outputs": [
        {
          "output_type": "execute_result",
          "data": {
            "application/vnd.google.colaboratory.intrinsic+json": {
              "type": "string"
            },
            "text/plain": [
              "'Portugal'"
            ]
          },
          "metadata": {
            "tags": []
          },
          "execution_count": 20
        }
      ]
    },
    {
      "cell_type": "code",
      "metadata": {
        "colab": {
          "base_uri": "https://localhost:8080/",
          "height": 35
        },
        "id": "Bxpob655ZbVx",
        "outputId": "f997a36f-a83f-474c-ee25-30793582e8f0"
      },
      "source": [
        "drinks.idxmin()"
      ],
      "execution_count": 21,
      "outputs": [
        {
          "output_type": "execute_result",
          "data": {
            "application/vnd.google.colaboratory.intrinsic+json": {
              "type": "string"
            },
            "text/plain": [
              "'Brunei'"
            ]
          },
          "metadata": {
            "tags": []
          },
          "execution_count": 21
        }
      ]
    },
    {
      "cell_type": "code",
      "metadata": {
        "colab": {
          "base_uri": "https://localhost:8080/"
        },
        "id": "XlGfePGfZ1EQ",
        "outputId": "046b2d1c-8dbf-4ddb-b251-efcacc727a9e"
      },
      "source": [
        "drinks.get(drinks==drinks.min())\n"
      ],
      "execution_count": 22,
      "outputs": [
        {
          "output_type": "execute_result",
          "data": {
            "text/plain": [
              "country\n",
              "Brunei                      1.0\n",
              "Cambodia                    1.0\n",
              "Canada                      1.0\n",
              "Central African Republic    1.0\n",
              "Chad                        1.0\n",
              "Comoros                     1.0\n",
              "DR Congo                    1.0\n",
              "Egypt                       1.0\n",
              "Fiji                        1.0\n",
              "Gambia                      1.0\n",
              "Ghana                       1.0\n",
              "Guyana                      1.0\n",
              "Haiti                       1.0\n",
              "Jordan                      1.0\n",
              "Kiribati                    1.0\n",
              "Malawi                      1.0\n",
              "Mali                        1.0\n",
              "Morocco                     1.0\n",
              "Namibia                     1.0\n",
              "Nicaragua                   1.0\n",
              "Niger                       1.0\n",
              "Oman                        1.0\n",
              "Papua New Guinea            1.0\n",
              "Philippines                 1.0\n",
              "Solomon Islands             1.0\n",
              "Thailand                    1.0\n",
              "Tanzania                    1.0\n",
              "Vietnam                     1.0\n",
              "Name: wine_servings, dtype: float64"
            ]
          },
          "metadata": {
            "tags": []
          },
          "execution_count": 22
        }
      ]
    },
    {
      "cell_type": "code",
      "metadata": {
        "colab": {
          "base_uri": "https://localhost:8080/"
        },
        "id": "4BtonhPaDZfp",
        "outputId": "612d55c4-539d-464d-80b6-245824c6ca7e"
      },
      "source": [
        "drinks.nsmallest(28)"
      ],
      "execution_count": 23,
      "outputs": [
        {
          "output_type": "execute_result",
          "data": {
            "text/plain": [
              "country\n",
              "Brunei                      1.0\n",
              "Cambodia                    1.0\n",
              "Canada                      1.0\n",
              "Central African Republic    1.0\n",
              "Chad                        1.0\n",
              "Comoros                     1.0\n",
              "DR Congo                    1.0\n",
              "Egypt                       1.0\n",
              "Fiji                        1.0\n",
              "Gambia                      1.0\n",
              "Ghana                       1.0\n",
              "Guyana                      1.0\n",
              "Haiti                       1.0\n",
              "Jordan                      1.0\n",
              "Kiribati                    1.0\n",
              "Malawi                      1.0\n",
              "Mali                        1.0\n",
              "Morocco                     1.0\n",
              "Namibia                     1.0\n",
              "Nicaragua                   1.0\n",
              "Niger                       1.0\n",
              "Oman                        1.0\n",
              "Papua New Guinea            1.0\n",
              "Philippines                 1.0\n",
              "Solomon Islands             1.0\n",
              "Thailand                    1.0\n",
              "Tanzania                    1.0\n",
              "Vietnam                     1.0\n",
              "Name: wine_servings, dtype: float64"
            ]
          },
          "metadata": {
            "tags": []
          },
          "execution_count": 23
        }
      ]
    },
    {
      "cell_type": "code",
      "metadata": {
        "colab": {
          "base_uri": "https://localhost:8080/"
        },
        "id": "-shziWrODHr-",
        "outputId": "918ffc89-3e3f-40ba-e2aa-c9c110523e2b"
      },
      "source": [
        "drinks.nlargest(50)"
      ],
      "execution_count": 24,
      "outputs": [
        {
          "output_type": "execute_result",
          "data": {
            "text/plain": [
              "country\n",
              "Portugal              339.0\n",
              "Andorra               312.0\n",
              "Denmark               278.0\n",
              "Slovenia              276.0\n",
              "Luxembourg            271.0\n",
              "Croatia               254.0\n",
              "Italy                 237.0\n",
              "Equatorial Guinea     233.0\n",
              "Argentina             221.0\n",
              "Greece                218.0\n",
              "Australia             212.0\n",
              "Belgium               212.0\n",
              "United Kingdom        195.0\n",
              "Austria               191.0\n",
              "Sweden                186.0\n",
              "Hungary               185.0\n",
              "Germany               175.0\n",
              "New Zealand           175.0\n",
              "Chile                 172.0\n",
              "Romania               167.0\n",
              "Ireland               165.0\n",
              "Georgia               149.0\n",
              "Czech Republic        134.0\n",
              "Norway                129.0\n",
              "Montenegro            128.0\n",
              "Serbia                127.0\n",
              "Laos                  123.0\n",
              "Slovakia              116.0\n",
              "Cyprus                113.0\n",
              "Spain                 112.0\n",
              "Finland                97.0\n",
              "Bulgaria               94.0\n",
              "Macedonia              86.0\n",
              "USA                    84.0\n",
              "South Africa           81.0\n",
              "Iceland                78.0\n",
              "Cook Islands           74.0\n",
              "Paraguay               74.0\n",
              "Russian Federation     73.0\n",
              "St. Lucia              71.0\n",
              "Latvia                 62.0\n",
              "Estonia                59.0\n",
              "Gabon                  59.0\n",
              "Lithuania              56.0\n",
              "Poland                 56.0\n",
              "Albania                54.0\n",
              "Bahamas                51.0\n",
              "Seychelles             51.0\n",
              "Angola                 45.0\n",
              "Antigua & Barbuda      45.0\n",
              "Name: wine_servings, dtype: float64"
            ]
          },
          "metadata": {
            "tags": []
          },
          "execution_count": 24
        }
      ]
    },
    {
      "cell_type": "code",
      "metadata": {
        "colab": {
          "base_uri": "https://localhost:8080/"
        },
        "id": "8ex6aB3PPTSJ",
        "outputId": "56cd6612-f8fd-4de0-9682-12801322c8e4"
      },
      "source": [
        "drinks.isnull()"
      ],
      "execution_count": 25,
      "outputs": [
        {
          "output_type": "execute_result",
          "data": {
            "text/plain": [
              "country\n",
              "Afghanistan     True\n",
              "Albania        False\n",
              "Algeria        False\n",
              "Andorra        False\n",
              "Angola         False\n",
              "               ...  \n",
              "Venezuela      False\n",
              "Vietnam        False\n",
              "Yemen           True\n",
              "Zambia         False\n",
              "Zimbabwe       False\n",
              "Name: wine_servings, Length: 193, dtype: bool"
            ]
          },
          "metadata": {
            "tags": []
          },
          "execution_count": 25
        }
      ]
    },
    {
      "cell_type": "code",
      "metadata": {
        "colab": {
          "base_uri": "https://localhost:8080/"
        },
        "id": "sjER35ZmQM13",
        "outputId": "c70b2377-548f-4572-e3e6-82abc0d2eabc"
      },
      "source": [
        "drinks_S"
      ],
      "execution_count": 26,
      "outputs": [
        {
          "output_type": "execute_result",
          "data": {
            "text/plain": [
              "country\n",
              "Afghanistan      NaN\n",
              "Albania         54.0\n",
              "Algeria         14.0\n",
              "Andorra        312.0\n",
              "Angola          45.0\n",
              "               ...  \n",
              "Venezuela        3.0\n",
              "Vietnam          1.0\n",
              "Yemen            NaN\n",
              "Zambia           4.0\n",
              "Zimbabwe         4.0\n",
              "Name: wine_servings, Length: 193, dtype: float64"
            ]
          },
          "metadata": {
            "tags": []
          },
          "execution_count": 26
        }
      ]
    },
    {
      "cell_type": "code",
      "metadata": {
        "colab": {
          "base_uri": "https://localhost:8080/"
        },
        "id": "U7KAzuxlQlkv",
        "outputId": "9408c3b4-8669-4dfb-db48-f5673ed54df6"
      },
      "source": [
        "drinks[drinks.isnull()]"
      ],
      "execution_count": 27,
      "outputs": [
        {
          "output_type": "execute_result",
          "data": {
            "text/plain": [
              "country\n",
              "Afghanistan        NaN\n",
              "Bangladesh         NaN\n",
              "Bhutan             NaN\n",
              "Burundi            NaN\n",
              "North Korea        NaN\n",
              "Eritrea            NaN\n",
              "Ethiopia           NaN\n",
              "India              NaN\n",
              "Indonesia          NaN\n",
              "Iran               NaN\n",
              "Iraq               NaN\n",
              "Kuwait             NaN\n",
              "Lesotho            NaN\n",
              "Libya              NaN\n",
              "Malaysia           NaN\n",
              "Maldives           NaN\n",
              "Marshall Islands   NaN\n",
              "Mauritania         NaN\n",
              "Monaco             NaN\n",
              "Myanmar            NaN\n",
              "Nepal              NaN\n",
              "Pakistan           NaN\n",
              "Rwanda             NaN\n",
              "San Marino         NaN\n",
              "Saudi Arabia       NaN\n",
              "Somalia            NaN\n",
              "Sri Lanka          NaN\n",
              "Sudan              NaN\n",
              "Tajikistan         NaN\n",
              "Uganda             NaN\n",
              "Yemen              NaN\n",
              "Name: wine_servings, dtype: float64"
            ]
          },
          "metadata": {
            "tags": []
          },
          "execution_count": 27
        }
      ]
    },
    {
      "cell_type": "code",
      "metadata": {
        "colab": {
          "base_uri": "https://localhost:8080/"
        },
        "id": "syhWX9wcRT98",
        "outputId": "6ca512db-7fe4-42bf-e5a8-cf5433ee58d8"
      },
      "source": [
        "drinks.get(drinks.isnull())"
      ],
      "execution_count": 28,
      "outputs": [
        {
          "output_type": "execute_result",
          "data": {
            "text/plain": [
              "country\n",
              "Afghanistan        NaN\n",
              "Bangladesh         NaN\n",
              "Bhutan             NaN\n",
              "Burundi            NaN\n",
              "North Korea        NaN\n",
              "Eritrea            NaN\n",
              "Ethiopia           NaN\n",
              "India              NaN\n",
              "Indonesia          NaN\n",
              "Iran               NaN\n",
              "Iraq               NaN\n",
              "Kuwait             NaN\n",
              "Lesotho            NaN\n",
              "Libya              NaN\n",
              "Malaysia           NaN\n",
              "Maldives           NaN\n",
              "Marshall Islands   NaN\n",
              "Mauritania         NaN\n",
              "Monaco             NaN\n",
              "Myanmar            NaN\n",
              "Nepal              NaN\n",
              "Pakistan           NaN\n",
              "Rwanda             NaN\n",
              "San Marino         NaN\n",
              "Saudi Arabia       NaN\n",
              "Somalia            NaN\n",
              "Sri Lanka          NaN\n",
              "Sudan              NaN\n",
              "Tajikistan         NaN\n",
              "Uganda             NaN\n",
              "Yemen              NaN\n",
              "Name: wine_servings, dtype: float64"
            ]
          },
          "metadata": {
            "tags": []
          },
          "execution_count": 28
        }
      ]
    },
    {
      "cell_type": "code",
      "metadata": {
        "id": "DLwNHEgfDM6N"
      },
      "source": [
        ""
      ],
      "execution_count": 28,
      "outputs": []
    },
    {
      "cell_type": "code",
      "metadata": {
        "colab": {
          "base_uri": "https://localhost:8080/",
          "height": 163
        },
        "id": "D23ggaDNR_ZZ",
        "outputId": "ee93d1f3-1d34-4d0b-942a-e1f4f27fd6a6"
      },
      "source": [
        "drinks_list =  list(drinks_for_list)"
      ],
      "execution_count": 29,
      "outputs": [
        {
          "output_type": "error",
          "ename": "NameError",
          "evalue": "ignored",
          "traceback": [
            "\u001b[0;31m---------------------------------------------------------------------------\u001b[0m",
            "\u001b[0;31mNameError\u001b[0m                                 Traceback (most recent call last)",
            "\u001b[0;32m<ipython-input-29-9346cbd21d54>\u001b[0m in \u001b[0;36m<module>\u001b[0;34m()\u001b[0m\n\u001b[0;32m----> 1\u001b[0;31m \u001b[0mdrinks_list\u001b[0m \u001b[0;34m=\u001b[0m  \u001b[0mlist\u001b[0m\u001b[0;34m(\u001b[0m\u001b[0mdrinks_for_list\u001b[0m\u001b[0;34m)\u001b[0m\u001b[0;34m\u001b[0m\u001b[0;34m\u001b[0m\u001b[0m\n\u001b[0m",
            "\u001b[0;31mNameError\u001b[0m: name 'drinks_for_list' is not defined"
          ]
        }
      ]
    },
    {
      "cell_type": "code",
      "metadata": {
        "id": "No4B-BnPRdRL"
      },
      "source": [
        "drinks_for_list = drinks.loc[drinks.isnull()].index"
      ],
      "execution_count": null,
      "outputs": []
    },
    {
      "cell_type": "code",
      "metadata": {
        "id": "hQXTdJl1uNur"
      },
      "source": [
        "drinks_for_list_not = drinks.get(drinks).index"
      ],
      "execution_count": null,
      "outputs": []
    },
    {
      "cell_type": "code",
      "metadata": {
        "id": "Ogs1Q5Np4fv0"
      },
      "source": [
        "type(drinks_for_list_not)"
      ],
      "execution_count": null,
      "outputs": []
    },
    {
      "cell_type": "code",
      "metadata": {
        "id": "IF3gJT10zU5k"
      },
      "source": [
        "drinks_for_list_not"
      ],
      "execution_count": null,
      "outputs": []
    },
    {
      "cell_type": "code",
      "metadata": {
        "id": "yLok6RTF0HIR"
      },
      "source": [
        "drink_dic =dict (drinks_for_value) "
      ],
      "execution_count": null,
      "outputs": []
    },
    {
      "cell_type": "code",
      "metadata": {
        "id": "NblHe6b10T3i"
      },
      "source": [
        ""
      ],
      "execution_count": null,
      "outputs": []
    },
    {
      "cell_type": "code",
      "metadata": {
        "id": "o86oQi3mSRco"
      },
      "source": [
        "drinks_list"
      ],
      "execution_count": null,
      "outputs": []
    },
    {
      "cell_type": "code",
      "metadata": {
        "id": "RIPmUS_7ST89"
      },
      "source": [
        "len(drinks_list)"
      ],
      "execution_count": null,
      "outputs": []
    },
    {
      "cell_type": "code",
      "metadata": {
        "id": "c0Of1sbeS0k6"
      },
      "source": [
        ""
      ],
      "execution_count": null,
      "outputs": []
    }
  ]
}