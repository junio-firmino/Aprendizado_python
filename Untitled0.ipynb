{
  "nbformat": 4,
  "nbformat_minor": 0,
  "metadata": {
    "colab": {
      "name": "Untitled0.ipynb",
      "provenance": [],
      "mount_file_id": "1ILH9sBLhvWg44v3NDxc2YJW7IoRudVma",
      "authorship_tag": "ABX9TyPodhEd5bWcC64olI35x8iq",
      "include_colab_link": true
    },
    "kernelspec": {
      "name": "python3",
      "display_name": "Python 3"
    },
    "language_info": {
      "name": "python"
    }
  },
  "cells": [
    {
      "cell_type": "markdown",
      "metadata": {
        "id": "view-in-github",
        "colab_type": "text"
      },
      "source": [
        "<a href=\"https://colab.research.google.com/github/junio-firmino/Aprendizado_python/blob/master/Untitled0.ipynb\" target=\"_parent\"><img src=\"https://colab.research.google.com/assets/colab-badge.svg\" alt=\"Open In Colab\"/></a>"
      ]
    },
    {
      "cell_type": "code",
      "metadata": {
        "id": "TpdLWGic7LNu"
      },
      "source": [
        "import pandas as pd\n"
      ],
      "execution_count": 1,
      "outputs": []
    },
    {
      "cell_type": "code",
      "metadata": {
        "id": "_vC4tJEL8RJq"
      },
      "source": [
        "drinks = pd.read_csv('/content/drive/MyDrive/drinks.csv', usecols=['country','wine_servings'], index_col='country',squeeze=True)"
      ],
      "execution_count": 2,
      "outputs": []
    },
    {
      "cell_type": "code",
      "metadata": {
        "colab": {
          "base_uri": "https://localhost:8080/"
        },
        "id": "ERQ71cZK8ehl",
        "outputId": "2ea1093c-0740-471d-fdab-4a0f8ae78b92"
      },
      "source": [
        "drinks.head()"
      ],
      "execution_count": 3,
      "outputs": [
        {
          "output_type": "execute_result",
          "data": {
            "text/plain": [
              "country\n",
              "Afghanistan      NaN\n",
              "Albania         54.0\n",
              "Algeria         14.0\n",
              "Andorra        312.0\n",
              "Angola          45.0\n",
              "Name: wine_servings, dtype: float64"
            ]
          },
          "metadata": {
            "tags": []
          },
          "execution_count": 3
        }
      ]
    },
    {
      "cell_type": "code",
      "metadata": {
        "colab": {
          "base_uri": "https://localhost:8080/"
        },
        "id": "c_CducP2-Ut9",
        "outputId": "0212ed9b-d0bc-4734-c37b-245be4592ae8"
      },
      "source": [
        "drinks.describe"
      ],
      "execution_count": 4,
      "outputs": [
        {
          "output_type": "execute_result",
          "data": {
            "text/plain": [
              "<bound method NDFrame.describe of country\n",
              "Afghanistan      NaN\n",
              "Albania         54.0\n",
              "Algeria         14.0\n",
              "Andorra        312.0\n",
              "Angola          45.0\n",
              "               ...  \n",
              "Venezuela        3.0\n",
              "Vietnam          1.0\n",
              "Yemen            NaN\n",
              "Zambia           4.0\n",
              "Zimbabwe         4.0\n",
              "Name: wine_servings, Length: 193, dtype: float64>"
            ]
          },
          "metadata": {
            "tags": []
          },
          "execution_count": 4
        }
      ]
    },
    {
      "cell_type": "code",
      "metadata": {
        "colab": {
          "base_uri": "https://localhost:8080/",
          "height": 35
        },
        "id": "MpT_9Quy-igu",
        "outputId": "19f22392-ca09-4849-dc4a-7c3eb9327fcf"
      },
      "source": [
        "drinks.name"
      ],
      "execution_count": 5,
      "outputs": [
        {
          "output_type": "execute_result",
          "data": {
            "application/vnd.google.colaboratory.intrinsic+json": {
              "type": "string"
            },
            "text/plain": [
              "'wine_servings'"
            ]
          },
          "metadata": {
            "tags": []
          },
          "execution_count": 5
        }
      ]
    },
    {
      "cell_type": "code",
      "metadata": {
        "colab": {
          "base_uri": "https://localhost:8080/"
        },
        "id": "5wukC4WO_Sfq",
        "outputId": "4b88da5f-8a68-4a22-cf8e-a4a88701690f"
      },
      "source": [
        "drinks.dropna()"
      ],
      "execution_count": 6,
      "outputs": [
        {
          "output_type": "execute_result",
          "data": {
            "text/plain": [
              "country\n",
              "Albania               54.0\n",
              "Algeria               14.0\n",
              "Andorra              312.0\n",
              "Angola                45.0\n",
              "Antigua & Barbuda     45.0\n",
              "                     ...  \n",
              "Vanuatu               11.0\n",
              "Venezuela              3.0\n",
              "Vietnam                1.0\n",
              "Zambia                 4.0\n",
              "Zimbabwe               4.0\n",
              "Name: wine_servings, Length: 162, dtype: float64"
            ]
          },
          "metadata": {
            "tags": []
          },
          "execution_count": 6
        }
      ]
    },
    {
      "cell_type": "code",
      "metadata": {
        "id": "kzT-XlHo__Nx"
      },
      "source": [
        "drinks_fillna = drinks.fillna(100)"
      ],
      "execution_count": 7,
      "outputs": []
    },
    {
      "cell_type": "code",
      "metadata": {
        "id": "PHBcX0xM12yh"
      },
      "source": [
        "drinks_list = list(drinks)"
      ],
      "execution_count": 8,
      "outputs": []
    },
    {
      "cell_type": "code",
      "metadata": {
        "id": "sNw7e9Yy93Fu"
      },
      "source": [
        "drink_list_na = list(drinks_fillna)"
      ],
      "execution_count": 9,
      "outputs": []
    },
    {
      "cell_type": "code",
      "metadata": {
        "colab": {
          "base_uri": "https://localhost:8080/"
        },
        "id": "0vRKPEnzBvNq",
        "outputId": "0ba77a37-8f8b-48f7-aedd-1da0bfa34ec4"
      },
      "source": [
        "drink_list_na"
      ],
      "execution_count": 10,
      "outputs": [
        {
          "output_type": "execute_result",
          "data": {
            "text/plain": [
              "[100.0,\n",
              " 54.0,\n",
              " 14.0,\n",
              " 312.0,\n",
              " 45.0,\n",
              " 45.0,\n",
              " 221.0,\n",
              " 11.0,\n",
              " 212.0,\n",
              " 191.0,\n",
              " 5.0,\n",
              " 51.0,\n",
              " 7.0,\n",
              " 100.0,\n",
              " 36.0,\n",
              " 42.0,\n",
              " 212.0,\n",
              " 8.0,\n",
              " 13.0,\n",
              " 100.0,\n",
              " 8.0,\n",
              " 8.0,\n",
              " 35.0,\n",
              " 16.0,\n",
              " 1.0,\n",
              " 94.0,\n",
              " 7.0,\n",
              " 100.0,\n",
              " 7.0,\n",
              " 16.0,\n",
              " 1.0,\n",
              " 4.0,\n",
              " 1.0,\n",
              " 1.0,\n",
              " 1.0,\n",
              " 172.0,\n",
              " 8.0,\n",
              " 3.0,\n",
              " 1.0,\n",
              " 9.0,\n",
              " 74.0,\n",
              " 11.0,\n",
              " 254.0,\n",
              " 5.0,\n",
              " 113.0,\n",
              " 134.0,\n",
              " 100.0,\n",
              " 1.0,\n",
              " 278.0,\n",
              " 3.0,\n",
              " 26.0,\n",
              " 9.0,\n",
              " 3.0,\n",
              " 1.0,\n",
              " 2.0,\n",
              " 233.0,\n",
              " 100.0,\n",
              " 59.0,\n",
              " 100.0,\n",
              " 1.0,\n",
              " 97.0,\n",
              " 37.0,\n",
              " 59.0,\n",
              " 1.0,\n",
              " 149.0,\n",
              " 175.0,\n",
              " 1.0,\n",
              " 218.0,\n",
              " 28.0,\n",
              " 2.0,\n",
              " 2.0,\n",
              " 21.0,\n",
              " 1.0,\n",
              " 1.0,\n",
              " 2.0,\n",
              " 185.0,\n",
              " 78.0,\n",
              " 100.0,\n",
              " 100.0,\n",
              " 100.0,\n",
              " 100.0,\n",
              " 165.0,\n",
              " 9.0,\n",
              " 237.0,\n",
              " 9.0,\n",
              " 16.0,\n",
              " 1.0,\n",
              " 12.0,\n",
              " 2.0,\n",
              " 1.0,\n",
              " 100.0,\n",
              " 6.0,\n",
              " 123.0,\n",
              " 62.0,\n",
              " 31.0,\n",
              " 100.0,\n",
              " 2.0,\n",
              " 100.0,\n",
              " 56.0,\n",
              " 271.0,\n",
              " 4.0,\n",
              " 1.0,\n",
              " 100.0,\n",
              " 100.0,\n",
              " 1.0,\n",
              " 12.0,\n",
              " 100.0,\n",
              " 100.0,\n",
              " 18.0,\n",
              " 5.0,\n",
              " 18.0,\n",
              " 100.0,\n",
              " 8.0,\n",
              " 128.0,\n",
              " 1.0,\n",
              " 5.0,\n",
              " 100.0,\n",
              " 1.0,\n",
              " 8.0,\n",
              " 100.0,\n",
              " 19.0,\n",
              " 175.0,\n",
              " 1.0,\n",
              " 1.0,\n",
              " 2.0,\n",
              " 7.0,\n",
              " 129.0,\n",
              " 1.0,\n",
              " 100.0,\n",
              " 23.0,\n",
              " 18.0,\n",
              " 1.0,\n",
              " 74.0,\n",
              " 21.0,\n",
              " 1.0,\n",
              " 56.0,\n",
              " 339.0,\n",
              " 7.0,\n",
              " 9.0,\n",
              " 18.0,\n",
              " 167.0,\n",
              " 73.0,\n",
              " 100.0,\n",
              " 32.0,\n",
              " 71.0,\n",
              " 11.0,\n",
              " 24.0,\n",
              " 100.0,\n",
              " 14.0,\n",
              " 100.0,\n",
              " 7.0,\n",
              " 127.0,\n",
              " 51.0,\n",
              " 2.0,\n",
              " 11.0,\n",
              " 116.0,\n",
              " 276.0,\n",
              " 1.0,\n",
              " 100.0,\n",
              " 81.0,\n",
              " 112.0,\n",
              " 100.0,\n",
              " 100.0,\n",
              " 7.0,\n",
              " 2.0,\n",
              " 186.0,\n",
              " 28.0,\n",
              " 16.0,\n",
              " 100.0,\n",
              " 1.0,\n",
              " 86.0,\n",
              " 4.0,\n",
              " 19.0,\n",
              " 5.0,\n",
              " 7.0,\n",
              " 2.0,\n",
              " 7.0,\n",
              " 32.0,\n",
              " 9.0,\n",
              " 100.0,\n",
              " 45.0,\n",
              " 5.0,\n",
              " 195.0,\n",
              " 1.0,\n",
              " 84.0,\n",
              " 22.0,\n",
              " 8.0,\n",
              " 11.0,\n",
              " 3.0,\n",
              " 1.0,\n",
              " 100.0,\n",
              " 4.0,\n",
              " 4.0]"
            ]
          },
          "metadata": {
            "tags": []
          },
          "execution_count": 10
        }
      ]
    },
    {
      "cell_type": "code",
      "metadata": {
        "colab": {
          "base_uri": "https://localhost:8080/"
        },
        "id": "BWv_roFWCWZT",
        "outputId": "48d1a20a-25e1-460b-bb23-5b20e2417cf0"
      },
      "source": [
        "drinks_fillna.describe()"
      ],
      "execution_count": 11,
      "outputs": [
        {
          "output_type": "execute_result",
          "data": {
            "text/plain": [
              "count    193.000000\n",
              "mean      58.658031\n",
              "std       72.037441\n",
              "min        1.000000\n",
              "25%        5.000000\n",
              "50%       21.000000\n",
              "75%      100.000000\n",
              "max      339.000000\n",
              "Name: wine_servings, dtype: float64"
            ]
          },
          "metadata": {
            "tags": []
          },
          "execution_count": 11
        }
      ]
    },
    {
      "cell_type": "code",
      "metadata": {
        "colab": {
          "base_uri": "https://localhost:8080/"
        },
        "id": "uiCIidnK9e7J",
        "outputId": "fe436ac5-409e-4a53-c2df-c3ae19d0ab88"
      },
      "source": [
        "drinks.tail()"
      ],
      "execution_count": 12,
      "outputs": [
        {
          "output_type": "execute_result",
          "data": {
            "text/plain": [
              "country\n",
              "Venezuela    3.0\n",
              "Vietnam      1.0\n",
              "Yemen        NaN\n",
              "Zambia       4.0\n",
              "Zimbabwe     4.0\n",
              "Name: wine_servings, dtype: float64"
            ]
          },
          "metadata": {
            "tags": []
          },
          "execution_count": 12
        }
      ]
    },
    {
      "cell_type": "code",
      "metadata": {
        "colab": {
          "base_uri": "https://localhost:8080/"
        },
        "id": "pKWsWkP483nK",
        "outputId": "6cfc95ba-09a8-42c0-e290-cca990a11ebe"
      },
      "source": [
        "drinks.size"
      ],
      "execution_count": 13,
      "outputs": [
        {
          "output_type": "execute_result",
          "data": {
            "text/plain": [
              "193"
            ]
          },
          "metadata": {
            "tags": []
          },
          "execution_count": 13
        }
      ]
    },
    {
      "cell_type": "code",
      "metadata": {
        "colab": {
          "base_uri": "https://localhost:8080/"
        },
        "id": "48D-0FOZMSf-",
        "outputId": "4cda0525-6697-4476-8954-afd2a1d71649"
      },
      "source": [
        "drinks.shape"
      ],
      "execution_count": 14,
      "outputs": [
        {
          "output_type": "execute_result",
          "data": {
            "text/plain": [
              "(193,)"
            ]
          },
          "metadata": {
            "tags": []
          },
          "execution_count": 14
        }
      ]
    },
    {
      "cell_type": "code",
      "metadata": {
        "colab": {
          "base_uri": "https://localhost:8080/"
        },
        "id": "WAepcRS2NQHf",
        "outputId": "0c7d7546-68d6-408c-c012-98098d26996d"
      },
      "source": [
        "drinks.count()"
      ],
      "execution_count": 15,
      "outputs": [
        {
          "output_type": "execute_result",
          "data": {
            "text/plain": [
              "162"
            ]
          },
          "metadata": {
            "tags": []
          },
          "execution_count": 15
        }
      ]
    },
    {
      "cell_type": "code",
      "metadata": {
        "id": "iANEmtq8QBfL"
      },
      "source": [
        "drinks_S = pd.Series(drinks)"
      ],
      "execution_count": 16,
      "outputs": []
    },
    {
      "cell_type": "code",
      "metadata": {
        "colab": {
          "base_uri": "https://localhost:8080/"
        },
        "id": "x51Rq7yDUz0o",
        "outputId": "614d6491-70cc-45aa-9245-595160b4f8be"
      },
      "source": [
        "drinks.mode()"
      ],
      "execution_count": 17,
      "outputs": [
        {
          "output_type": "execute_result",
          "data": {
            "text/plain": [
              "0    1.0\n",
              "dtype: float64"
            ]
          },
          "metadata": {
            "tags": []
          },
          "execution_count": 17
        }
      ]
    },
    {
      "cell_type": "code",
      "metadata": {
        "colab": {
          "base_uri": "https://localhost:8080/"
        },
        "id": "Wj_aOiP1VEaW",
        "outputId": "3a894eea-a330-46f1-f059-63fcddcca465"
      },
      "source": [
        "drinks.value_counts()"
      ],
      "execution_count": 18,
      "outputs": [
        {
          "output_type": "execute_result",
          "data": {
            "text/plain": [
              "1.0      28\n",
              "2.0      10\n",
              "7.0       9\n",
              "8.0       7\n",
              "5.0       6\n",
              "         ..\n",
              "185.0     1\n",
              "218.0     1\n",
              "84.0      1\n",
              "149.0     1\n",
              "54.0      1\n",
              "Name: wine_servings, Length: 71, dtype: int64"
            ]
          },
          "metadata": {
            "tags": []
          },
          "execution_count": 18
        }
      ]
    },
    {
      "cell_type": "code",
      "metadata": {
        "colab": {
          "base_uri": "https://localhost:8080/"
        },
        "id": "4cvSWboKVdTT",
        "outputId": "e2e918c5-6bf7-4e81-fcfb-fbc5f63b2673"
      },
      "source": [
        "drinks.max()"
      ],
      "execution_count": 19,
      "outputs": [
        {
          "output_type": "execute_result",
          "data": {
            "text/plain": [
              "339.0"
            ]
          },
          "metadata": {
            "tags": []
          },
          "execution_count": 19
        }
      ]
    },
    {
      "cell_type": "code",
      "metadata": {
        "colab": {
          "base_uri": "https://localhost:8080/",
          "height": 35
        },
        "id": "ufRBaH2NXEc5",
        "outputId": "cb9e702a-871a-472a-e1cd-df781e330e72"
      },
      "source": [
        "drinks.idxmax()"
      ],
      "execution_count": 20,
      "outputs": [
        {
          "output_type": "execute_result",
          "data": {
            "application/vnd.google.colaboratory.intrinsic+json": {
              "type": "string"
            },
            "text/plain": [
              "'Portugal'"
            ]
          },
          "metadata": {
            "tags": []
          },
          "execution_count": 20
        }
      ]
    },
    {
      "cell_type": "code",
      "metadata": {
        "colab": {
          "base_uri": "https://localhost:8080/",
          "height": 35
        },
        "id": "Bxpob655ZbVx",
        "outputId": "52168de4-36f8-49ab-b2dc-5e37ee533a30"
      },
      "source": [
        "drinks.idxmin()"
      ],
      "execution_count": 21,
      "outputs": [
        {
          "output_type": "execute_result",
          "data": {
            "application/vnd.google.colaboratory.intrinsic+json": {
              "type": "string"
            },
            "text/plain": [
              "'Brunei'"
            ]
          },
          "metadata": {
            "tags": []
          },
          "execution_count": 21
        }
      ]
    },
    {
      "cell_type": "code",
      "metadata": {
        "colab": {
          "base_uri": "https://localhost:8080/"
        },
        "id": "XlGfePGfZ1EQ",
        "outputId": "ea7a7ce5-81ff-4051-f447-ede33bfb3bbc"
      },
      "source": [
        "drinks.get(drinks==drinks.min())\n"
      ],
      "execution_count": 22,
      "outputs": [
        {
          "output_type": "execute_result",
          "data": {
            "text/plain": [
              "country\n",
              "Brunei                      1.0\n",
              "Cambodia                    1.0\n",
              "Canada                      1.0\n",
              "Central African Republic    1.0\n",
              "Chad                        1.0\n",
              "Comoros                     1.0\n",
              "DR Congo                    1.0\n",
              "Egypt                       1.0\n",
              "Fiji                        1.0\n",
              "Gambia                      1.0\n",
              "Ghana                       1.0\n",
              "Guyana                      1.0\n",
              "Haiti                       1.0\n",
              "Jordan                      1.0\n",
              "Kiribati                    1.0\n",
              "Malawi                      1.0\n",
              "Mali                        1.0\n",
              "Morocco                     1.0\n",
              "Namibia                     1.0\n",
              "Nicaragua                   1.0\n",
              "Niger                       1.0\n",
              "Oman                        1.0\n",
              "Papua New Guinea            1.0\n",
              "Philippines                 1.0\n",
              "Solomon Islands             1.0\n",
              "Thailand                    1.0\n",
              "Tanzania                    1.0\n",
              "Vietnam                     1.0\n",
              "Name: wine_servings, dtype: float64"
            ]
          },
          "metadata": {
            "tags": []
          },
          "execution_count": 22
        }
      ]
    },
    {
      "cell_type": "code",
      "metadata": {
        "colab": {
          "base_uri": "https://localhost:8080/"
        },
        "id": "4BtonhPaDZfp",
        "outputId": "158bd0ed-13be-41b7-8587-b38f253d584c"
      },
      "source": [
        "drinks.nsmallest(28)"
      ],
      "execution_count": 23,
      "outputs": [
        {
          "output_type": "execute_result",
          "data": {
            "text/plain": [
              "country\n",
              "Brunei                      1.0\n",
              "Cambodia                    1.0\n",
              "Canada                      1.0\n",
              "Central African Republic    1.0\n",
              "Chad                        1.0\n",
              "Comoros                     1.0\n",
              "DR Congo                    1.0\n",
              "Egypt                       1.0\n",
              "Fiji                        1.0\n",
              "Gambia                      1.0\n",
              "Ghana                       1.0\n",
              "Guyana                      1.0\n",
              "Haiti                       1.0\n",
              "Jordan                      1.0\n",
              "Kiribati                    1.0\n",
              "Malawi                      1.0\n",
              "Mali                        1.0\n",
              "Morocco                     1.0\n",
              "Namibia                     1.0\n",
              "Nicaragua                   1.0\n",
              "Niger                       1.0\n",
              "Oman                        1.0\n",
              "Papua New Guinea            1.0\n",
              "Philippines                 1.0\n",
              "Solomon Islands             1.0\n",
              "Thailand                    1.0\n",
              "Tanzania                    1.0\n",
              "Vietnam                     1.0\n",
              "Name: wine_servings, dtype: float64"
            ]
          },
          "metadata": {
            "tags": []
          },
          "execution_count": 23
        }
      ]
    },
    {
      "cell_type": "code",
      "metadata": {
        "colab": {
          "base_uri": "https://localhost:8080/"
        },
        "id": "-shziWrODHr-",
        "outputId": "02866783-76aa-4d87-d0f0-8eec8e7dea7a"
      },
      "source": [
        "drinks.nlargest(50)"
      ],
      "execution_count": 24,
      "outputs": [
        {
          "output_type": "execute_result",
          "data": {
            "text/plain": [
              "country\n",
              "Portugal              339.0\n",
              "Andorra               312.0\n",
              "Denmark               278.0\n",
              "Slovenia              276.0\n",
              "Luxembourg            271.0\n",
              "Croatia               254.0\n",
              "Italy                 237.0\n",
              "Equatorial Guinea     233.0\n",
              "Argentina             221.0\n",
              "Greece                218.0\n",
              "Australia             212.0\n",
              "Belgium               212.0\n",
              "United Kingdom        195.0\n",
              "Austria               191.0\n",
              "Sweden                186.0\n",
              "Hungary               185.0\n",
              "Germany               175.0\n",
              "New Zealand           175.0\n",
              "Chile                 172.0\n",
              "Romania               167.0\n",
              "Ireland               165.0\n",
              "Georgia               149.0\n",
              "Czech Republic        134.0\n",
              "Norway                129.0\n",
              "Montenegro            128.0\n",
              "Serbia                127.0\n",
              "Laos                  123.0\n",
              "Slovakia              116.0\n",
              "Cyprus                113.0\n",
              "Spain                 112.0\n",
              "Finland                97.0\n",
              "Bulgaria               94.0\n",
              "Macedonia              86.0\n",
              "USA                    84.0\n",
              "South Africa           81.0\n",
              "Iceland                78.0\n",
              "Cook Islands           74.0\n",
              "Paraguay               74.0\n",
              "Russian Federation     73.0\n",
              "St. Lucia              71.0\n",
              "Latvia                 62.0\n",
              "Estonia                59.0\n",
              "Gabon                  59.0\n",
              "Lithuania              56.0\n",
              "Poland                 56.0\n",
              "Albania                54.0\n",
              "Bahamas                51.0\n",
              "Seychelles             51.0\n",
              "Angola                 45.0\n",
              "Antigua & Barbuda      45.0\n",
              "Name: wine_servings, dtype: float64"
            ]
          },
          "metadata": {
            "tags": []
          },
          "execution_count": 24
        }
      ]
    },
    {
      "cell_type": "code",
      "metadata": {
        "colab": {
          "base_uri": "https://localhost:8080/"
        },
        "id": "8ex6aB3PPTSJ",
        "outputId": "9ab7b949-ac9f-4225-dcb8-b2266d492c63"
      },
      "source": [
        "drinks.isnull()"
      ],
      "execution_count": 25,
      "outputs": [
        {
          "output_type": "execute_result",
          "data": {
            "text/plain": [
              "country\n",
              "Afghanistan     True\n",
              "Albania        False\n",
              "Algeria        False\n",
              "Andorra        False\n",
              "Angola         False\n",
              "               ...  \n",
              "Venezuela      False\n",
              "Vietnam        False\n",
              "Yemen           True\n",
              "Zambia         False\n",
              "Zimbabwe       False\n",
              "Name: wine_servings, Length: 193, dtype: bool"
            ]
          },
          "metadata": {
            "tags": []
          },
          "execution_count": 25
        }
      ]
    },
    {
      "cell_type": "code",
      "metadata": {
        "colab": {
          "base_uri": "https://localhost:8080/"
        },
        "id": "sjER35ZmQM13",
        "outputId": "ef9ce6ee-8dda-4dc0-ed98-e9d24d69f81d"
      },
      "source": [
        "drinks_S"
      ],
      "execution_count": 26,
      "outputs": [
        {
          "output_type": "execute_result",
          "data": {
            "text/plain": [
              "country\n",
              "Afghanistan      NaN\n",
              "Albania         54.0\n",
              "Algeria         14.0\n",
              "Andorra        312.0\n",
              "Angola          45.0\n",
              "               ...  \n",
              "Venezuela        3.0\n",
              "Vietnam          1.0\n",
              "Yemen            NaN\n",
              "Zambia           4.0\n",
              "Zimbabwe         4.0\n",
              "Name: wine_servings, Length: 193, dtype: float64"
            ]
          },
          "metadata": {
            "tags": []
          },
          "execution_count": 26
        }
      ]
    },
    {
      "cell_type": "code",
      "metadata": {
        "colab": {
          "base_uri": "https://localhost:8080/"
        },
        "id": "U7KAzuxlQlkv",
        "outputId": "05a27e24-d738-461e-a03b-8bc94d0bdbcb"
      },
      "source": [
        "drinks[drinks.isnull()]"
      ],
      "execution_count": 27,
      "outputs": [
        {
          "output_type": "execute_result",
          "data": {
            "text/plain": [
              "country\n",
              "Afghanistan        NaN\n",
              "Bangladesh         NaN\n",
              "Bhutan             NaN\n",
              "Burundi            NaN\n",
              "North Korea        NaN\n",
              "Eritrea            NaN\n",
              "Ethiopia           NaN\n",
              "India              NaN\n",
              "Indonesia          NaN\n",
              "Iran               NaN\n",
              "Iraq               NaN\n",
              "Kuwait             NaN\n",
              "Lesotho            NaN\n",
              "Libya              NaN\n",
              "Malaysia           NaN\n",
              "Maldives           NaN\n",
              "Marshall Islands   NaN\n",
              "Mauritania         NaN\n",
              "Monaco             NaN\n",
              "Myanmar            NaN\n",
              "Nepal              NaN\n",
              "Pakistan           NaN\n",
              "Rwanda             NaN\n",
              "San Marino         NaN\n",
              "Saudi Arabia       NaN\n",
              "Somalia            NaN\n",
              "Sri Lanka          NaN\n",
              "Sudan              NaN\n",
              "Tajikistan         NaN\n",
              "Uganda             NaN\n",
              "Yemen              NaN\n",
              "Name: wine_servings, dtype: float64"
            ]
          },
          "metadata": {
            "tags": []
          },
          "execution_count": 27
        }
      ]
    },
    {
      "cell_type": "code",
      "metadata": {
        "colab": {
          "base_uri": "https://localhost:8080/"
        },
        "id": "syhWX9wcRT98",
        "outputId": "414da889-1f19-4127-d6e5-9d6c4b35ca27"
      },
      "source": [
        "drinks.get(drinks.isnull())"
      ],
      "execution_count": 28,
      "outputs": [
        {
          "output_type": "execute_result",
          "data": {
            "text/plain": [
              "country\n",
              "Afghanistan        NaN\n",
              "Bangladesh         NaN\n",
              "Bhutan             NaN\n",
              "Burundi            NaN\n",
              "North Korea        NaN\n",
              "Eritrea            NaN\n",
              "Ethiopia           NaN\n",
              "India              NaN\n",
              "Indonesia          NaN\n",
              "Iran               NaN\n",
              "Iraq               NaN\n",
              "Kuwait             NaN\n",
              "Lesotho            NaN\n",
              "Libya              NaN\n",
              "Malaysia           NaN\n",
              "Maldives           NaN\n",
              "Marshall Islands   NaN\n",
              "Mauritania         NaN\n",
              "Monaco             NaN\n",
              "Myanmar            NaN\n",
              "Nepal              NaN\n",
              "Pakistan           NaN\n",
              "Rwanda             NaN\n",
              "San Marino         NaN\n",
              "Saudi Arabia       NaN\n",
              "Somalia            NaN\n",
              "Sri Lanka          NaN\n",
              "Sudan              NaN\n",
              "Tajikistan         NaN\n",
              "Uganda             NaN\n",
              "Yemen              NaN\n",
              "Name: wine_servings, dtype: float64"
            ]
          },
          "metadata": {
            "tags": []
          },
          "execution_count": 28
        }
      ]
    },
    {
      "cell_type": "code",
      "metadata": {
        "id": "DLwNHEgfDM6N",
        "colab": {
          "base_uri": "https://localhost:8080/"
        },
        "outputId": "63996a1e-cc0a-43b5-8dc3-80a7deaf24f8"
      },
      "source": [
        "len(drinks.get(drinks.isnull()))"
      ],
      "execution_count": 29,
      "outputs": [
        {
          "output_type": "execute_result",
          "data": {
            "text/plain": [
              "31"
            ]
          },
          "metadata": {
            "tags": []
          },
          "execution_count": 29
        }
      ]
    },
    {
      "cell_type": "code",
      "metadata": {
        "id": "RIPmUS_7ST89",
        "colab": {
          "base_uri": "https://localhost:8080/"
        },
        "outputId": "3846c375-22e8-4c5d-e98a-1c1150713018"
      },
      "source": [
        "len(drinks_list)"
      ],
      "execution_count": 30,
      "outputs": [
        {
          "output_type": "execute_result",
          "data": {
            "text/plain": [
              "193"
            ]
          },
          "metadata": {
            "tags": []
          },
          "execution_count": 30
        }
      ]
    },
    {
      "cell_type": "code",
      "metadata": {
        "id": "c0Of1sbeS0k6"
      },
      "source": [
        "fify_plus = drinks.get(drinks > 50)"
      ],
      "execution_count": 31,
      "outputs": []
    },
    {
      "cell_type": "code",
      "metadata": {
        "colab": {
          "base_uri": "https://localhost:8080/"
        },
        "id": "MVF5fZwIFxIB",
        "outputId": "fbaa6d84-7b3c-45a1-e8d1-a9d6e0ddfe93"
      },
      "source": [
        "fify_plus.head()"
      ],
      "execution_count": 32,
      "outputs": [
        {
          "output_type": "execute_result",
          "data": {
            "text/plain": [
              "country\n",
              "Albania       54.0\n",
              "Andorra      312.0\n",
              "Argentina    221.0\n",
              "Australia    212.0\n",
              "Austria      191.0\n",
              "Name: wine_servings, dtype: float64"
            ]
          },
          "metadata": {
            "tags": []
          },
          "execution_count": 32
        }
      ]
    },
    {
      "cell_type": "code",
      "metadata": {
        "colab": {
          "base_uri": "https://localhost:8080/"
        },
        "id": "JpBuhOHeFyrS",
        "outputId": "7ad7dad5-6c1c-4aa4-9927-d76d8ca0278f"
      },
      "source": [
        "len(fify_plus)"
      ],
      "execution_count": 33,
      "outputs": [
        {
          "output_type": "execute_result",
          "data": {
            "text/plain": [
              "48"
            ]
          },
          "metadata": {
            "tags": []
          },
          "execution_count": 33
        }
      ]
    },
    {
      "cell_type": "code",
      "metadata": {
        "colab": {
          "base_uri": "https://localhost:8080/"
        },
        "id": "RLDjoNWcGHwm",
        "outputId": "201a06ab-6341-4d7a-931b-2d32b6f86c8e"
      },
      "source": [
        "fify_plus.count()"
      ],
      "execution_count": 34,
      "outputs": [
        {
          "output_type": "execute_result",
          "data": {
            "text/plain": [
              "48"
            ]
          },
          "metadata": {
            "tags": []
          },
          "execution_count": 34
        }
      ]
    },
    {
      "cell_type": "code",
      "metadata": {
        "colab": {
          "base_uri": "https://localhost:8080/"
        },
        "id": "OrhJdwb5GOIa",
        "outputId": "b25d5bf7-f6cd-464d-c836-355d86f050e7"
      },
      "source": [
        "fify_plus.nlargest(30)"
      ],
      "execution_count": 35,
      "outputs": [
        {
          "output_type": "execute_result",
          "data": {
            "text/plain": [
              "country\n",
              "Portugal             339.0\n",
              "Andorra              312.0\n",
              "Denmark              278.0\n",
              "Slovenia             276.0\n",
              "Luxembourg           271.0\n",
              "Croatia              254.0\n",
              "Italy                237.0\n",
              "Equatorial Guinea    233.0\n",
              "Argentina            221.0\n",
              "Greece               218.0\n",
              "Australia            212.0\n",
              "Belgium              212.0\n",
              "United Kingdom       195.0\n",
              "Austria              191.0\n",
              "Sweden               186.0\n",
              "Hungary              185.0\n",
              "Germany              175.0\n",
              "New Zealand          175.0\n",
              "Chile                172.0\n",
              "Romania              167.0\n",
              "Ireland              165.0\n",
              "Georgia              149.0\n",
              "Czech Republic       134.0\n",
              "Norway               129.0\n",
              "Montenegro           128.0\n",
              "Serbia               127.0\n",
              "Laos                 123.0\n",
              "Slovakia             116.0\n",
              "Cyprus               113.0\n",
              "Spain                112.0\n",
              "Name: wine_servings, dtype: float64"
            ]
          },
          "metadata": {
            "tags": []
          },
          "execution_count": 35
        }
      ]
    },
    {
      "cell_type": "code",
      "metadata": {
        "colab": {
          "base_uri": "https://localhost:8080/"
        },
        "id": "7etvtEweGhp5",
        "outputId": "e424ff24-7ee6-40a5-8230-17c02816da03"
      },
      "source": [
        "fify_plus.nsmallest(20)"
      ],
      "execution_count": 36,
      "outputs": [
        {
          "output_type": "execute_result",
          "data": {
            "text/plain": [
              "country\n",
              "Bahamas                51.0\n",
              "Seychelles             51.0\n",
              "Albania                54.0\n",
              "Lithuania              56.0\n",
              "Poland                 56.0\n",
              "Estonia                59.0\n",
              "Gabon                  59.0\n",
              "Latvia                 62.0\n",
              "St. Lucia              71.0\n",
              "Russian Federation     73.0\n",
              "Cook Islands           74.0\n",
              "Paraguay               74.0\n",
              "Iceland                78.0\n",
              "South Africa           81.0\n",
              "USA                    84.0\n",
              "Macedonia              86.0\n",
              "Bulgaria               94.0\n",
              "Finland                97.0\n",
              "Spain                 112.0\n",
              "Cyprus                113.0\n",
              "Name: wine_servings, dtype: float64"
            ]
          },
          "metadata": {
            "tags": []
          },
          "execution_count": 36
        }
      ]
    },
    {
      "cell_type": "code",
      "metadata": {
        "id": "i6Fqm2vmGfAy"
      },
      "source": [
        "filter_b = drinks.filter(regex='^V')"
      ],
      "execution_count": 37,
      "outputs": []
    },
    {
      "cell_type": "code",
      "metadata": {
        "colab": {
          "base_uri": "https://localhost:8080/"
        },
        "id": "6QwGK6SIeNaV",
        "outputId": "059595d0-efe8-4d2e-f091-4ac9d0ea96f5"
      },
      "source": [
        "filter_b"
      ],
      "execution_count": 38,
      "outputs": [
        {
          "output_type": "execute_result",
          "data": {
            "text/plain": [
              "country\n",
              "Vanuatu      11.0\n",
              "Venezuela     3.0\n",
              "Vietnam       1.0\n",
              "Name: wine_servings, dtype: float64"
            ]
          },
          "metadata": {
            "tags": []
          },
          "execution_count": 38
        }
      ]
    },
    {
      "cell_type": "code",
      "metadata": {
        "colab": {
          "base_uri": "https://localhost:8080/"
        },
        "id": "2aQrJGyleGWi",
        "outputId": "530415f4-6451-417a-db6b-b289513387b1"
      },
      "source": [
        "filter_b.nlargest(3)"
      ],
      "execution_count": 39,
      "outputs": [
        {
          "output_type": "execute_result",
          "data": {
            "text/plain": [
              "country\n",
              "Vanuatu      11.0\n",
              "Venezuela     3.0\n",
              "Vietnam       1.0\n",
              "Name: wine_servings, dtype: float64"
            ]
          },
          "metadata": {
            "tags": []
          },
          "execution_count": 39
        }
      ]
    },
    {
      "cell_type": "code",
      "metadata": {
        "colab": {
          "base_uri": "https://localhost:8080/"
        },
        "id": "XC_tS36Yef9O",
        "outputId": "36220266-dfcf-4768-85e1-e776d66f2038"
      },
      "source": [
        "filter_b.max()"
      ],
      "execution_count": 40,
      "outputs": [
        {
          "output_type": "execute_result",
          "data": {
            "text/plain": [
              "11.0"
            ]
          },
          "metadata": {
            "tags": []
          },
          "execution_count": 40
        }
      ]
    },
    {
      "cell_type": "code",
      "metadata": {
        "id": "DPxCqNKReVye",
        "colab": {
          "base_uri": "https://localhost:8080/"
        },
        "outputId": "a13dc93b-14eb-4cd2-a49e-0a4525b12ce5"
      },
      "source": [
        "drinks.where(lambda x: x>200).dropna()"
      ],
      "execution_count": 41,
      "outputs": [
        {
          "output_type": "execute_result",
          "data": {
            "text/plain": [
              "country\n",
              "Andorra              312.0\n",
              "Argentina            221.0\n",
              "Australia            212.0\n",
              "Belgium              212.0\n",
              "Croatia              254.0\n",
              "Denmark              278.0\n",
              "Equatorial Guinea    233.0\n",
              "Greece               218.0\n",
              "Italy                237.0\n",
              "Luxembourg           271.0\n",
              "Portugal             339.0\n",
              "Slovenia             276.0\n",
              "Name: wine_servings, dtype: float64"
            ]
          },
          "metadata": {
            "tags": []
          },
          "execution_count": 41
        }
      ]
    },
    {
      "cell_type": "code",
      "metadata": {
        "colab": {
          "base_uri": "https://localhost:8080/"
        },
        "id": "hpoVzSA4untX",
        "outputId": "3e98eff2-c205-4ed8-93c1-e5f593f76822"
      },
      "source": [
        "drinks.mask(lambda x: x>200).dropna()"
      ],
      "execution_count": 42,
      "outputs": [
        {
          "output_type": "execute_result",
          "data": {
            "text/plain": [
              "country\n",
              "Albania              54.0\n",
              "Algeria              14.0\n",
              "Angola               45.0\n",
              "Antigua & Barbuda    45.0\n",
              "Armenia              11.0\n",
              "                     ... \n",
              "Vanuatu              11.0\n",
              "Venezuela             3.0\n",
              "Vietnam               1.0\n",
              "Zambia                4.0\n",
              "Zimbabwe              4.0\n",
              "Name: wine_servings, Length: 150, dtype: float64"
            ]
          },
          "metadata": {
            "tags": []
          },
          "execution_count": 42
        }
      ]
    },
    {
      "cell_type": "code",
      "metadata": {
        "colab": {
          "base_uri": "https://localhost:8080/"
        },
        "id": "MfF-Jrq_uxmd",
        "outputId": "e843c0e5-24b7-419c-a056-fa588a74b7d2"
      },
      "source": [
        "drinks.dropna()"
      ],
      "execution_count": 43,
      "outputs": [
        {
          "output_type": "execute_result",
          "data": {
            "text/plain": [
              "country\n",
              "Albania               54.0\n",
              "Algeria               14.0\n",
              "Andorra              312.0\n",
              "Angola                45.0\n",
              "Antigua & Barbuda     45.0\n",
              "                     ...  \n",
              "Vanuatu               11.0\n",
              "Venezuela              3.0\n",
              "Vietnam                1.0\n",
              "Zambia                 4.0\n",
              "Zimbabwe               4.0\n",
              "Name: wine_servings, Length: 162, dtype: float64"
            ]
          },
          "metadata": {
            "tags": []
          },
          "execution_count": 43
        }
      ]
    },
    {
      "cell_type": "code",
      "metadata": {
        "colab": {
          "base_uri": "https://localhost:8080/"
        },
        "id": "w194O0CDu2jN",
        "outputId": "02a43934-8abd-4ab5-8f20-eeba27247f7e"
      },
      "source": [
        "drinks[drinks.idxmax()]"
      ],
      "execution_count": 44,
      "outputs": [
        {
          "output_type": "execute_result",
          "data": {
            "text/plain": [
              "339.0"
            ]
          },
          "metadata": {
            "tags": []
          },
          "execution_count": 44
        }
      ]
    },
    {
      "cell_type": "code",
      "metadata": {
        "colab": {
          "base_uri": "https://localhost:8080/"
        },
        "id": "n9-lZpNs_IZB",
        "outputId": "82fe549b-2651-4e40-ae2c-b6c95649eb33"
      },
      "source": [
        "drinks.abs()"
      ],
      "execution_count": 45,
      "outputs": [
        {
          "output_type": "execute_result",
          "data": {
            "text/plain": [
              "country\n",
              "Afghanistan      NaN\n",
              "Albania         54.0\n",
              "Algeria         14.0\n",
              "Andorra        312.0\n",
              "Angola          45.0\n",
              "               ...  \n",
              "Venezuela        3.0\n",
              "Vietnam          1.0\n",
              "Yemen            NaN\n",
              "Zambia           4.0\n",
              "Zimbabwe         4.0\n",
              "Name: wine_servings, Length: 193, dtype: float64"
            ]
          },
          "metadata": {
            "tags": []
          },
          "execution_count": 45
        }
      ]
    },
    {
      "cell_type": "code",
      "metadata": {
        "id": "s-W-k_bg_Kj3"
      },
      "source": [
        ""
      ],
      "execution_count": 45,
      "outputs": []
    }
  ]
}